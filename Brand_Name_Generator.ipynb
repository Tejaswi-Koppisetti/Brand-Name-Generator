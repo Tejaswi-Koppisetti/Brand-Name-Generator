{
  "cells": [
    {
      "cell_type": "markdown",
      "metadata": {
        "id": "xMKZ2op-8__1"
      },
      "source": [
        "# Name Generation using RNN\n",
        "Generating new drug barnd names using GRU network"
      ]
    },
    {
      "cell_type": "code",
      "execution_count": null,
      "metadata": {
        "id": "cM5QcVU39HMX"
      },
      "outputs": [],
      "source": [
        "import tensorflow as tf\n",
        "from numpy.random import shuffle\n",
        "import numpy as np\n",
        "import matplotlib.pyplot as plt\n",
        "import pandas as pd\n",
        "from tqdm import tqdm\n",
        "from sklearn.model_selection import train_test_split\n"
      ]
    },
    {
      "cell_type": "markdown",
      "metadata": {
        "id": "e4yxpDtx9tq7"
      },
      "source": [
        "##  Data loading"
      ]
    },
    {
      "cell_type": "code",
      "execution_count": null,
      "metadata": {
        "id": "443q_yW79aKI"
      },
      "outputs": [],
      "source": [
        "# for loading data\n",
        "def load_data(filename):\n",
        "    with open(filename, 'r') as f:\n",
        "        data = f.read().lower().split('\\n')\n",
        "    return np.array(data)"
      ]
    },
    {
      "cell_type": "code",
      "source": [
        "from google.colab import drive\n",
        "drive.mount('/content/drive')"
      ],
      "metadata": {
        "colab": {
          "base_uri": "https://localhost:8080/"
        },
        "id": "hhQ7VXtF_JBA",
        "outputId": "6032f0ec-861c-43d7-bf05-ab3505599c62"
      },
      "execution_count": null,
      "outputs": [
        {
          "output_type": "stream",
          "name": "stdout",
          "text": [
            "Mounted at /content/drive\n"
          ]
        }
      ]
    },
    {
      "cell_type": "code",
      "execution_count": null,
      "metadata": {
        "colab": {
          "base_uri": "https://localhost:8080/"
        },
        "id": "EK99gahE-AKi",
        "outputId": "2fec5b8d-b93c-40ee-8590-d302cb98ae4b"
      },
      "outputs": [
        {
          "output_type": "stream",
          "name": "stdout",
          "text": [
            "No. of names: 443\n"
          ]
        }
      ],
      "source": [
        "data = load_data('/content/drive/MyDrive/names.txt')\n",
        "print('No. of names: ' + str(len(data)))"
      ]
    },
    {
      "cell_type": "markdown",
      "metadata": {
        "id": "yXZwdCE-c19D"
      },
      "source": [
        "Split data into training and validation set"
      ]
    },
    {
      "cell_type": "code",
      "execution_count": null,
      "metadata": {
        "colab": {
          "base_uri": "https://localhost:8080/"
        },
        "id": "MVtv_zQ7cz9M",
        "outputId": "c2d52847-f1e3-4a03-aaa9-790122b8de0f"
      },
      "outputs": [
        {
          "output_type": "stream",
          "name": "stdout",
          "text": [
            "420\n",
            "23\n"
          ]
        }
      ],
      "source": [
        "# split data\n",
        "train_data, val_data = train_test_split(data, test_size=0.05)\n",
        "print(len(train_data))\n",
        "print(len(val_data))"
      ]
    },
    {
      "cell_type": "markdown",
      "metadata": {
        "id": "BzX9VyBzTw4P"
      },
      "source": [
        "## Text Processing\n"
      ]
    },
    {
      "cell_type": "code",
      "execution_count": null,
      "metadata": {
        "colab": {
          "base_uri": "https://localhost:8080/"
        },
        "id": "dHXpk2zuTfei",
        "outputId": "a3fab262-6efb-4c71-ad83-8ff0ed8a17b5"
      },
      "outputs": [
        {
          "output_type": "stream",
          "name": "stdout",
          "text": [
            "37\n"
          ]
        }
      ],
      "source": [
        "# find the unique characters for the vocabulary\n",
        "#  Here '#' means End of Sentence\n",
        "vocab_tokens = ['#'] + list(set(''.join(data)))\n",
        "vocab_tokens_len = len(vocab_tokens)\n",
        "print(vocab_tokens_len)"
      ]
    },
    {
      "cell_type": "code",
      "execution_count": null,
      "metadata": {
        "colab": {
          "base_uri": "https://localhost:8080/"
        },
        "id": "RGmouiWVVUtX",
        "outputId": "5e8dd62e-d298-46f3-e466-a51d529aa309"
      },
      "outputs": [
        {
          "output_type": "stream",
          "name": "stdout",
          "text": [
            "Max length:  18\n"
          ]
        }
      ],
      "source": [
        "# find the max length amongst names\n",
        "max_name_len = max(len(name) for name in train_data)\n",
        "print('Max length: ', max_name_len)"
      ]
    },
    {
      "cell_type": "code",
      "execution_count": null,
      "metadata": {
        "colab": {
          "base_uri": "https://localhost:8080/"
        },
        "id": "zg5X_7SXXuoY",
        "outputId": "112bea88-c2d9-410d-e53f-13ebf0a31b96"
      },
      "outputs": [
        {
          "output_type": "stream",
          "name": "stderr",
          "text": [
            "37it [00:00, 233016.89it/s]"
          ]
        },
        {
          "output_type": "stream",
          "name": "stdout",
          "text": [
            "\n",
            "Dict len:  37\n",
            "{'#': 0, 'g': 1, 'b': 2, 's': 3, '/': 4, 'f': 5, 'i': 6, 'n': 7, '-': 8, 't': 9, 'd': 10, 'r': 11, '1': 12, '4': 13, 'm': 14, 'k': 15, '2': 16, 'h': 17, '5': 18, 'j': 19, 'y': 20, 'o': 21, 'w': 22, 'q': 23, ' ': 24, 'u': 25, 'z': 26, '&': 27, 'l': 28, 'x': 29, '0': 30, 'a': 31, 'c': 32, '.': 33, 'v': 34, 'e': 35, 'p': 36}\n",
            "\n",
            "Dict len:  37\n",
            "{0: '#', 1: 'g', 2: 'b', 3: 's', 4: '/', 5: 'f', 6: 'i', 7: 'n', 8: '-', 9: 't', 10: 'd', 11: 'r', 12: '1', 13: '4', 14: 'm', 15: 'k', 16: '2', 17: 'h', 18: '5', 19: 'j', 20: 'y', 21: 'o', 22: 'w', 23: 'q', 24: ' ', 25: 'u', 26: 'z', 27: '&', 28: 'l', 29: 'x', 30: '0', 31: 'a', 32: 'c', 33: '.', 34: 'v', 35: 'e', 36: 'p'}\n"
          ]
        },
        {
          "output_type": "stream",
          "name": "stderr",
          "text": [
            "\n"
          ]
        }
      ],
      "source": [
        "# create vocabulary dict\n",
        "# character to index\n",
        "ch_to_idx = {ch:idx for idx, ch in tqdm(enumerate(vocab_tokens))}\n",
        "print('\\nDict len: ', len(ch_to_idx))\n",
        "print(ch_to_idx)\n",
        "\n",
        "# index to chracter\n",
        "idx_to_ch = {ch_to_idx[ch]:ch for ch in ch_to_idx.keys()}\n",
        "print('\\nDict len: ', len(idx_to_ch))\n",
        "print(idx_to_ch)"
      ]
    },
    {
      "cell_type": "code",
      "execution_count": null,
      "metadata": {
        "id": "Avryng4jZkVg"
      },
      "outputs": [],
      "source": [
        "# for converting string names to matrix representation consisting of numerical indices\n",
        "# output shape: (m, Tx)\n",
        "def to_num_matrix(names, ch_to_idx):\n",
        "\n",
        "    max_len = max(map(len, names))\n",
        "    names_idx = np.zeros((len(names), max_len), dtype='int32')\n",
        "\n",
        "    for i, name in enumerate(names):\n",
        "        for j, ch in enumerate(name):\n",
        "            names_idx[i][j] = ch_to_idx[ch]\n",
        "\n",
        "    return names_idx"
      ]
    },
    {
      "cell_type": "code",
      "execution_count": null,
      "metadata": {
        "colab": {
          "base_uri": "https://localhost:8080/"
        },
        "id": "scRd9ClObP8E",
        "outputId": "ae19c54f-75a4-44d6-828f-82d1df088a39"
      },
      "outputs": [
        {
          "output_type": "execute_result",
          "data": {
            "text/plain": [
              "(420, 18)"
            ]
          },
          "metadata": {},
          "execution_count": 12
        }
      ],
      "source": [
        "to_num_matrix(train_data, ch_to_idx).shape"
      ]
    },
    {
      "cell_type": "markdown",
      "metadata": {
        "id": "WdvYAu9sp3dA"
      },
      "source": [
        "## Training\n",
        "This is a simple model using Vanilla Recurrent units."
      ]
    },
    {
      "cell_type": "code",
      "execution_count": null,
      "metadata": {
        "id": "BuPJPvBx9CBR"
      },
      "outputs": [],
      "source": [
        "from IPython.display import clear_output\n",
        "from random import sample\n",
        "import pickle\n",
        "import sys"
      ]
    },
    {
      "cell_type": "code",
      "execution_count": null,
      "metadata": {
        "id": "zTXi_bT9cp8x"
      },
      "outputs": [],
      "source": [
        "from keras.layers import Embedding, Dense, Concatenate\n",
        "import keras\n",
        "import keras.layers as L\n",
        "from keras.utils import to_categorical\n",
        "from keras.callbacks import LambdaCallback, ModelCheckpoint\n",
        "from keras.models import Sequential, load_model"
      ]
    },
    {
      "cell_type": "code",
      "execution_count": null,
      "metadata": {
        "id": "OwrqLyd9ZVpG"
      },
      "outputs": [],
      "source": [
        "# for finding the validation accuracy\n",
        "def compute_acc():\n",
        "    # convert validation data\n",
        "    val_x = to_num_matrix(val_data, ch_to_idx)\n",
        "    # validation labels\n",
        "    val_y = np.copy(val_x[:,1:])\n",
        "\n",
        "\n",
        "    # leave the last character\n",
        "    pred = model.predict(val_x[:,:-1], batch_size=256, verbose=1)\n",
        "    pred_ch = pred.argmax(axis=-1)\n",
        "\n",
        "    # find acc\n",
        "    return float(np.sum(np.logical_and((pred_ch!=0), (pred_ch == val_y)))) \\\n",
        "                / np.sum(val_y != 0)"
      ]
    },
    {
      "cell_type": "code",
      "execution_count": null,
      "metadata": {
        "id": "1zfsFOeEcMd4"
      },
      "outputs": [],
      "source": [
        "\n",
        "# custom callback\n",
        "def acc_on_epoch_end(epoch, logs):\n",
        "    sys.stdout.flush()\n",
        "    print('\\nValidation Accuracy: ' + str(compute_acc()*100) + ' %')\n",
        "    sys.stdout.flush()"
      ]
    },
    {
      "cell_type": "code",
      "execution_count": null,
      "metadata": {
        "id": "xDRj3FFPcfDD"
      },
      "outputs": [],
      "source": [
        "# for generating batches\n",
        "def generate_model_batches(names, batch_size=32, pad=0):\n",
        "    # no. of training examples\n",
        "    m = np.arange(len(names))\n",
        "\n",
        "    while True:\n",
        "        # get a shuffled index list\n",
        "        idx = np.random.permutation(m)\n",
        "\n",
        "        # start yeilding batches\n",
        "        for start in range(0, len(idx)-1, batch_size):\n",
        "            batch_idx = idx[start:start+batch_size]\n",
        "            batch_words = []\n",
        "\n",
        "            # take out the words and tags from 'batch_size' no. of training examples\n",
        "            for index in batch_idx:\n",
        "                batch_words.append(names[index])\n",
        "\n",
        "            # input x\n",
        "            batch_x = to_num_matrix(batch_words, ch_to_idx)\n",
        "\n",
        "            # output labels\n",
        "            batch_y_ohe = to_categorical(batch_x[:,1:], len(vocab_tokens))\n",
        "            yield batch_x[:,:-1], batch_y_ohe"
      ]
    },
    {
      "cell_type": "markdown",
      "metadata": {
        "id": "9_I6tQzOW2Oy"
      },
      "source": [
        "## Model\n",
        "We will use a simple GRU model."
      ]
    },
    {
      "cell_type": "code",
      "execution_count": null,
      "metadata": {
        "id": "xPucu1H9fT88"
      },
      "outputs": [],
      "source": [
        "acc_callback = LambdaCallback(on_epoch_end=acc_on_epoch_end)\n",
        "checkpoint = ModelCheckpoint('/content/drive/MyDrive/Colab Notebooks/best_weights.h5', verbose=1, save_best_only=True)"
      ]
    },
    {
      "cell_type": "code",
      "execution_count": null,
      "metadata": {
        "colab": {
          "base_uri": "https://localhost:8080/"
        },
        "id": "fyGnDE78WL9m",
        "outputId": "3d7548dc-eb4c-4ff0-cdac-a7138c7cb4ec"
      },
      "outputs": [
        {
          "output_type": "stream",
          "name": "stdout",
          "text": [
            "Model: \"sequential\"\n",
            "_________________________________________________________________\n",
            " Layer (type)                Output Shape              Param #   \n",
            "=================================================================\n",
            " embedding (Embedding)       (None, None, 20)          740       \n",
            "                                                                 \n",
            " gru (GRU)                   (None, None, 128)         57600     \n",
            "                                                                 \n",
            " dropout (Dropout)           (None, None, 128)         0         \n",
            "                                                                 \n",
            " batch_normalization (BatchN  (None, None, 128)        512       \n",
            " ormalization)                                                   \n",
            "                                                                 \n",
            " time_distributed (TimeDistr  (None, None, 37)         4773      \n",
            " ibuted)                                                         \n",
            "                                                                 \n",
            "=================================================================\n",
            "Total params: 63,625\n",
            "Trainable params: 63,369\n",
            "Non-trainable params: 256\n",
            "_________________________________________________________________\n"
          ]
        }
      ],
      "source": [
        "\n",
        "model = Sequential()\n",
        "model.add(L.InputLayer([None], dtype='int32'))\n",
        "# embeddings layer\n",
        "model.add(L.Embedding(len(vocab_tokens), 20))\n",
        "\n",
        "# gru layer\n",
        "model.add(L.GRU(128, return_sequences=True, activation='tanh'))\n",
        "model.add(L.Dropout(0.5))\n",
        "model.add(L.BatchNormalization())\n",
        "\n",
        "# apply softmax\n",
        "model.add(L.TimeDistributed(L.Dense(len(vocab_tokens), activation='softmax')))\n",
        "\n",
        "model.summary()"
      ]
    },
    {
      "cell_type": "code",
      "execution_count": null,
      "metadata": {
        "colab": {
          "base_uri": "https://localhost:8080/"
        },
        "id": "G-J3u8xyX2JO",
        "outputId": "c4218ef5-2898-4f3d-ec68-154137b05b78"
      },
      "outputs": [
        {
          "output_type": "stream",
          "name": "stderr",
          "text": [
            "<ipython-input-35-d57eede69c2c>:8: UserWarning: `Model.fit_generator` is deprecated and will be removed in a future version. Please use `Model.fit`, which supports generators.\n",
            "  hist = model.fit_generator(generate_model_batches(train_data, batch_size=BATCH_SIZE), steps_per_epoch=len(train_data)/BATCH_SIZE,\n"
          ]
        },
        {
          "output_type": "stream",
          "name": "stdout",
          "text": [
            "Epoch 1/1000\n",
            "1/1 [==============================] - 0s 335ms/step\n",
            "\n",
            "Validation Accuracy: 29.444444444444446 %\n"
          ]
        },
        {
          "output_type": "stream",
          "name": "stderr",
          "text": [
            "WARNING:tensorflow:Can save best model only with val_loss available, skipping.\n"
          ]
        },
        {
          "output_type": "stream",
          "name": "stdout",
          "text": [
            "\b\b\b\b\b\b\b\b\b\b\b\b\b\b\b\b\b\b\b\b\b\b\b\b\b\b\b\b\b\b\b\b\b\b\b\b\b\b\b\b\b\b\b\b\b\b\b\b\b\b\b\b\b\b\b\b\b\b\b\b\b\b\b\b\b\b\b\b\b\b\b\b\b\b\b\b\b\b\b\b\r1/1 [==============================] - 4s 612ms/step - loss: 1.0406 - accuracy: 0.6755\n",
            "Epoch 2/1000\n",
            "1/1 [==============================] - 0s 28ms/step\n",
            "\n",
            "Validation Accuracy: 24.444444444444443 %\n"
          ]
        },
        {
          "output_type": "stream",
          "name": "stderr",
          "text": [
            "WARNING:tensorflow:Can save best model only with val_loss available, skipping.\n"
          ]
        },
        {
          "output_type": "stream",
          "name": "stdout",
          "text": [
            "\b\b\b\b\b\b\b\b\b\b\b\b\b\b\b\b\b\b\b\b\b\b\b\b\b\b\b\b\b\b\b\b\b\b\b\b\b\b\b\b\b\b\b\b\b\b\b\b\b\b\b\b\b\b\b\b\b\b\b\b\b\b\b\b\b\b\b\b\b\b\b\b\b\b\b\b\b\b\b\b\r1/1 [==============================] - 0s 138ms/step - loss: 1.0064 - accuracy: 0.6832\n",
            "Epoch 3/1000\n",
            "1/1 [==============================] - 0s 21ms/step\n",
            "\n",
            "Validation Accuracy: 25.555555555555554 %\n"
          ]
        },
        {
          "output_type": "stream",
          "name": "stderr",
          "text": [
            "WARNING:tensorflow:Can save best model only with val_loss available, skipping.\n"
          ]
        },
        {
          "output_type": "stream",
          "name": "stdout",
          "text": [
            "\b\b\b\b\b\b\b\b\b\b\b\b\b\b\b\b\b\b\b\b\b\b\b\b\b\b\b\b\b\b\b\b\b\b\b\b\b\b\b\b\b\b\b\b\b\b\b\b\b\b\b\b\b\b\b\b\b\b\b\b\b\b\b\b\b\b\b\b\b\b\b\b\b\b\b\b\b\b\b\b\r1/1 [==============================] - 0s 122ms/step - loss: 1.0337 - accuracy: 0.6710\n",
            "Epoch 4/1000\n",
            "1/1 [==============================] - 0s 20ms/step\n",
            "\n",
            "Validation Accuracy: 30.555555555555557 %\n"
          ]
        },
        {
          "output_type": "stream",
          "name": "stderr",
          "text": [
            "WARNING:tensorflow:Can save best model only with val_loss available, skipping.\n"
          ]
        },
        {
          "output_type": "stream",
          "name": "stdout",
          "text": [
            "\b\b\b\b\b\b\b\b\b\b\b\b\b\b\b\b\b\b\b\b\b\b\b\b\b\b\b\b\b\b\b\b\b\b\b\b\b\b\b\b\b\b\b\b\b\b\b\b\b\b\b\b\b\b\b\b\b\b\b\b\b\b\b\b\b\b\b\b\b\b\b\b\b\b\b\b\b\b\b\b\r1/1 [==============================] - 0s 130ms/step - loss: 1.0109 - accuracy: 0.6807\n",
            "Epoch 5/1000\n",
            "1/1 [==============================] - 0s 23ms/step\n",
            "\n",
            "Validation Accuracy: 31.11111111111111 %\n"
          ]
        },
        {
          "output_type": "stream",
          "name": "stderr",
          "text": [
            "WARNING:tensorflow:Can save best model only with val_loss available, skipping.\n"
          ]
        },
        {
          "output_type": "stream",
          "name": "stdout",
          "text": [
            "\b\b\b\b\b\b\b\b\b\b\b\b\b\b\b\b\b\b\b\b\b\b\b\b\b\b\b\b\b\b\b\b\b\b\b\b\b\b\b\b\b\b\b\b\b\b\b\b\b\b\b\b\b\b\b\b\b\b\b\b\b\b\b\b\b\b\b\b\b\b\b\b\b\b\b\b\b\b\b\b\r1/1 [==============================] - 0s 128ms/step - loss: 1.0122 - accuracy: 0.6786\n",
            "Epoch 6/1000\n",
            "1/1 [==============================] - 0s 23ms/step\n",
            "\n",
            "Validation Accuracy: 28.333333333333332 %\n"
          ]
        },
        {
          "output_type": "stream",
          "name": "stderr",
          "text": [
            "WARNING:tensorflow:Can save best model only with val_loss available, skipping.\n"
          ]
        },
        {
          "output_type": "stream",
          "name": "stdout",
          "text": [
            "\b\b\b\b\b\b\b\b\b\b\b\b\b\b\b\b\b\b\b\b\b\b\b\b\b\b\b\b\b\b\b\b\b\b\b\b\b\b\b\b\b\b\b\b\b\b\b\b\b\b\b\b\b\b\b\b\b\b\b\b\b\b\b\b\b\b\b\b\b\b\b\b\b\b\b\b\b\b\b\b\r1/1 [==============================] - 0s 139ms/step - loss: 1.0068 - accuracy: 0.6828\n",
            "Epoch 7/1000\n",
            "1/1 [==============================] - 0s 20ms/step\n",
            "\n",
            "Validation Accuracy: 25.555555555555554 %\n"
          ]
        },
        {
          "output_type": "stream",
          "name": "stderr",
          "text": [
            "WARNING:tensorflow:Can save best model only with val_loss available, skipping.\n"
          ]
        },
        {
          "output_type": "stream",
          "name": "stdout",
          "text": [
            "\b\b\b\b\b\b\b\b\b\b\b\b\b\b\b\b\b\b\b\b\b\b\b\b\b\b\b\b\b\b\b\b\b\b\b\b\b\b\b\b\b\b\b\b\b\b\b\b\b\b\b\b\b\b\b\b\b\b\b\b\b\b\b\b\b\b\b\b\b\b\b\b\b\b\b\b\b\b\b\b\r1/1 [==============================] - 0s 116ms/step - loss: 1.0016 - accuracy: 0.6772\n",
            "Epoch 8/1000\n",
            "1/1 [==============================] - 0s 19ms/step\n",
            "\n",
            "Validation Accuracy: 25.555555555555554 %\n"
          ]
        },
        {
          "output_type": "stream",
          "name": "stderr",
          "text": [
            "WARNING:tensorflow:Can save best model only with val_loss available, skipping.\n"
          ]
        },
        {
          "output_type": "stream",
          "name": "stdout",
          "text": [
            "\b\b\b\b\b\b\b\b\b\b\b\b\b\b\b\b\b\b\b\b\b\b\b\b\b\b\b\b\b\b\b\b\b\b\b\b\b\b\b\b\b\b\b\b\b\b\b\b\b\b\b\b\b\b\b\b\b\b\b\b\b\b\b\b\b\b\b\b\b\b\b\b\b\b\b\b\b\b\b\b\r1/1 [==============================] - 0s 112ms/step - loss: 1.0005 - accuracy: 0.6786\n",
            "Epoch 9/1000\n",
            "1/1 [==============================] - 0s 25ms/step\n",
            "\n",
            "Validation Accuracy: 29.444444444444446 %\n"
          ]
        },
        {
          "output_type": "stream",
          "name": "stderr",
          "text": [
            "WARNING:tensorflow:Can save best model only with val_loss available, skipping.\n"
          ]
        },
        {
          "output_type": "stream",
          "name": "stdout",
          "text": [
            "\b\b\b\b\b\b\b\b\b\b\b\b\b\b\b\b\b\b\b\b\b\b\b\b\b\b\b\b\b\b\b\b\b\b\b\b\b\b\b\b\b\b\b\b\b\b\b\b\b\b\b\b\b\b\b\b\b\b\b\b\b\b\b\b\b\b\b\b\b\b\b\b\b\b\b\b\b\b\b\b\r1/1 [==============================] - 0s 122ms/step - loss: 1.0077 - accuracy: 0.6822\n",
            "Epoch 10/1000\n",
            "1/1 [==============================] - 0s 21ms/step\n",
            "\n",
            "Validation Accuracy: 31.11111111111111 %\n"
          ]
        },
        {
          "output_type": "stream",
          "name": "stderr",
          "text": [
            "WARNING:tensorflow:Can save best model only with val_loss available, skipping.\n"
          ]
        },
        {
          "output_type": "stream",
          "name": "stdout",
          "text": [
            "\b\b\b\b\b\b\b\b\b\b\b\b\b\b\b\b\b\b\b\b\b\b\b\b\b\b\b\b\b\b\b\b\b\b\b\b\b\b\b\b\b\b\b\b\b\b\b\b\b\b\b\b\b\b\b\b\b\b\b\b\b\b\b\b\b\b\b\b\b\b\b\b\b\b\b\b\b\b\b\b\r1/1 [==============================] - 0s 117ms/step - loss: 1.0006 - accuracy: 0.6758\n",
            "Epoch 11/1000\n",
            "1/1 [==============================] - 0s 21ms/step\n",
            "\n",
            "Validation Accuracy: 32.22222222222222 %\n"
          ]
        },
        {
          "output_type": "stream",
          "name": "stderr",
          "text": [
            "WARNING:tensorflow:Can save best model only with val_loss available, skipping.\n"
          ]
        },
        {
          "output_type": "stream",
          "name": "stdout",
          "text": [
            "\b\b\b\b\b\b\b\b\b\b\b\b\b\b\b\b\b\b\b\b\b\b\b\b\b\b\b\b\b\b\b\b\b\b\b\b\b\b\b\b\b\b\b\b\b\b\b\b\b\b\b\b\b\b\b\b\b\b\b\b\b\b\b\b\b\b\b\b\b\b\b\b\b\b\b\b\b\b\b\b\r1/1 [==============================] - 0s 113ms/step - loss: 1.0021 - accuracy: 0.6838\n",
            "Epoch 12/1000\n",
            "1/1 [==============================] - 0s 20ms/step\n",
            "\n",
            "Validation Accuracy: 30.555555555555557 %\n"
          ]
        },
        {
          "output_type": "stream",
          "name": "stderr",
          "text": [
            "WARNING:tensorflow:Can save best model only with val_loss available, skipping.\n"
          ]
        },
        {
          "output_type": "stream",
          "name": "stdout",
          "text": [
            "\b\b\b\b\b\b\b\b\b\b\b\b\b\b\b\b\b\b\b\b\b\b\b\b\b\b\b\b\b\b\b\b\b\b\b\b\b\b\b\b\b\b\b\b\b\b\b\b\b\b\b\b\b\b\b\b\b\b\b\b\b\b\b\b\b\b\b\b\b\b\b\b\b\b\b\b\b\b\b\b\r1/1 [==============================] - 0s 127ms/step - loss: 0.9970 - accuracy: 0.6871\n",
            "Epoch 13/1000\n",
            "1/1 [==============================] - 0s 22ms/step\n",
            "\n",
            "Validation Accuracy: 29.444444444444446 %\n"
          ]
        },
        {
          "output_type": "stream",
          "name": "stderr",
          "text": [
            "WARNING:tensorflow:Can save best model only with val_loss available, skipping.\n"
          ]
        },
        {
          "output_type": "stream",
          "name": "stdout",
          "text": [
            "\b\b\b\b\b\b\b\b\b\b\b\b\b\b\b\b\b\b\b\b\b\b\b\b\b\b\b\b\b\b\b\b\b\b\b\b\b\b\b\b\b\b\b\b\b\b\b\b\b\b\b\b\b\b\b\b\b\b\b\b\b\b\b\b\b\b\b\b\b\b\b\b\b\b\b\b\b\b\b\b\r1/1 [==============================] - 0s 113ms/step - loss: 0.9956 - accuracy: 0.6863\n",
            "Epoch 14/1000\n",
            "1/1 [==============================] - 0s 22ms/step\n",
            "\n",
            "Validation Accuracy: 27.77777777777778 %\n"
          ]
        },
        {
          "output_type": "stream",
          "name": "stderr",
          "text": [
            "WARNING:tensorflow:Can save best model only with val_loss available, skipping.\n"
          ]
        },
        {
          "output_type": "stream",
          "name": "stdout",
          "text": [
            "\b\b\b\b\b\b\b\b\b\b\b\b\b\b\b\b\b\b\b\b\b\b\b\b\b\b\b\b\b\b\b\b\b\b\b\b\b\b\b\b\b\b\b\b\b\b\b\b\b\b\b\b\b\b\b\b\b\b\b\b\b\b\b\b\b\b\b\b\b\b\b\b\b\b\b\b\b\b\b\b\r1/1 [==============================] - 0s 124ms/step - loss: 1.0023 - accuracy: 0.6831\n",
            "Epoch 15/1000\n",
            "1/1 [==============================] - 0s 23ms/step\n",
            "\n",
            "Validation Accuracy: 28.888888888888886 %\n"
          ]
        },
        {
          "output_type": "stream",
          "name": "stderr",
          "text": [
            "WARNING:tensorflow:Can save best model only with val_loss available, skipping.\n"
          ]
        },
        {
          "output_type": "stream",
          "name": "stdout",
          "text": [
            "\b\b\b\b\b\b\b\b\b\b\b\b\b\b\b\b\b\b\b\b\b\b\b\b\b\b\b\b\b\b\b\b\b\b\b\b\b\b\b\b\b\b\b\b\b\b\b\b\b\b\b\b\b\b\b\b\b\b\b\b\b\b\b\b\b\b\b\b\b\b\b\b\b\b\b\b\b\b\b\b\r1/1 [==============================] - 0s 123ms/step - loss: 1.0063 - accuracy: 0.6832\n",
            "Epoch 16/1000\n",
            "1/1 [==============================] - 0s 22ms/step\n",
            "\n",
            "Validation Accuracy: 33.33333333333333 %\n"
          ]
        },
        {
          "output_type": "stream",
          "name": "stderr",
          "text": [
            "WARNING:tensorflow:Can save best model only with val_loss available, skipping.\n"
          ]
        },
        {
          "output_type": "stream",
          "name": "stdout",
          "text": [
            "\b\b\b\b\b\b\b\b\b\b\b\b\b\b\b\b\b\b\b\b\b\b\b\b\b\b\b\b\b\b\b\b\b\b\b\b\b\b\b\b\b\b\b\b\b\b\b\b\b\b\b\b\b\b\b\b\b\b\b\b\b\b\b\b\b\b\b\b\b\b\b\b\b\b\b\b\b\b\b\b\r1/1 [==============================] - 0s 122ms/step - loss: 0.9990 - accuracy: 0.6801\n",
            "Epoch 17/1000\n",
            "1/1 [==============================] - 0s 19ms/step\n",
            "\n",
            "Validation Accuracy: 32.77777777777778 %\n"
          ]
        },
        {
          "output_type": "stream",
          "name": "stderr",
          "text": [
            "WARNING:tensorflow:Can save best model only with val_loss available, skipping.\n"
          ]
        },
        {
          "output_type": "stream",
          "name": "stdout",
          "text": [
            "\b\b\b\b\b\b\b\b\b\b\b\b\b\b\b\b\b\b\b\b\b\b\b\b\b\b\b\b\b\b\b\b\b\b\b\b\b\b\b\b\b\b\b\b\b\b\b\b\b\b\b\b\b\b\b\b\b\b\b\b\b\b\b\b\b\b\b\b\b\b\b\b\b\b\b\b\b\b\b\b\r1/1 [==============================] - 0s 116ms/step - loss: 0.9848 - accuracy: 0.6864\n",
            "Epoch 18/1000\n",
            "1/1 [==============================] - 0s 19ms/step\n",
            "\n",
            "Validation Accuracy: 32.77777777777778 %\n"
          ]
        },
        {
          "output_type": "stream",
          "name": "stderr",
          "text": [
            "WARNING:tensorflow:Can save best model only with val_loss available, skipping.\n"
          ]
        },
        {
          "output_type": "stream",
          "name": "stdout",
          "text": [
            "\b\b\b\b\b\b\b\b\b\b\b\b\b\b\b\b\b\b\b\b\b\b\b\b\b\b\b\b\b\b\b\b\b\b\b\b\b\b\b\b\b\b\b\b\b\b\b\b\b\b\b\b\b\b\b\b\b\b\b\b\b\b\b\b\b\b\b\b\b\b\b\b\b\b\b\b\b\b\b\b\r1/1 [==============================] - 0s 129ms/step - loss: 0.9928 - accuracy: 0.6832\n",
            "Epoch 19/1000\n",
            "1/1 [==============================] - 0s 23ms/step\n",
            "\n",
            "Validation Accuracy: 30.555555555555557 %\n"
          ]
        },
        {
          "output_type": "stream",
          "name": "stderr",
          "text": [
            "WARNING:tensorflow:Can save best model only with val_loss available, skipping.\n"
          ]
        },
        {
          "output_type": "stream",
          "name": "stdout",
          "text": [
            "\b\b\b\b\b\b\b\b\b\b\b\b\b\b\b\b\b\b\b\b\b\b\b\b\b\b\b\b\b\b\b\b\b\b\b\b\b\b\b\b\b\b\b\b\b\b\b\b\b\b\b\b\b\b\b\b\b\b\b\b\b\b\b\b\b\b\b\b\b\b\b\b\b\b\b\b\b\b\b\b\r1/1 [==============================] - 0s 120ms/step - loss: 0.9951 - accuracy: 0.6839\n",
            "Epoch 20/1000\n",
            "1/1 [==============================] - 0s 28ms/step\n",
            "\n",
            "Validation Accuracy: 31.11111111111111 %\n"
          ]
        },
        {
          "output_type": "stream",
          "name": "stderr",
          "text": [
            "WARNING:tensorflow:Can save best model only with val_loss available, skipping.\n"
          ]
        },
        {
          "output_type": "stream",
          "name": "stdout",
          "text": [
            "\b\b\b\b\b\b\b\b\b\b\b\b\b\b\b\b\b\b\b\b\b\b\b\b\b\b\b\b\b\b\b\b\b\b\b\b\b\b\b\b\b\b\b\b\b\b\b\b\b\b\b\b\b\b\b\b\b\b\b\b\b\b\b\b\b\b\b\b\b\b\b\b\b\b\b\b\b\b\b\b\r1/1 [==============================] - 0s 141ms/step - loss: 0.9836 - accuracy: 0.6860\n",
            "Epoch 21/1000\n",
            "1/1 [==============================] - 0s 22ms/step\n",
            "\n",
            "Validation Accuracy: 30.0 %\n"
          ]
        },
        {
          "output_type": "stream",
          "name": "stderr",
          "text": [
            "WARNING:tensorflow:Can save best model only with val_loss available, skipping.\n"
          ]
        },
        {
          "output_type": "stream",
          "name": "stdout",
          "text": [
            "\b\b\b\b\b\b\b\b\b\b\b\b\b\b\b\b\b\b\b\b\b\b\b\b\b\b\b\b\b\b\b\b\b\b\b\b\b\b\b\b\b\b\b\b\b\b\b\b\b\b\b\b\b\b\b\b\b\b\b\b\b\b\b\b\b\b\b\b\b\b\b\b\b\b\b\b\b\b\b\b\r1/1 [==============================] - 0s 119ms/step - loss: 0.9898 - accuracy: 0.6885\n",
            "Epoch 22/1000\n",
            "1/1 [==============================] - 0s 26ms/step\n",
            "\n",
            "Validation Accuracy: 30.555555555555557 %\n"
          ]
        },
        {
          "output_type": "stream",
          "name": "stderr",
          "text": [
            "WARNING:tensorflow:Can save best model only with val_loss available, skipping.\n"
          ]
        },
        {
          "output_type": "stream",
          "name": "stdout",
          "text": [
            "\b\b\b\b\b\b\b\b\b\b\b\b\b\b\b\b\b\b\b\b\b\b\b\b\b\b\b\b\b\b\b\b\b\b\b\b\b\b\b\b\b\b\b\b\b\b\b\b\b\b\b\b\b\b\b\b\b\b\b\b\b\b\b\b\b\b\b\b\b\b\b\b\b\b\b\b\b\b\b\b\r1/1 [==============================] - 0s 136ms/step - loss: 0.9913 - accuracy: 0.6847\n",
            "Epoch 23/1000\n",
            "1/1 [==============================] - 0s 21ms/step\n",
            "\n",
            "Validation Accuracy: 31.11111111111111 %\n"
          ]
        },
        {
          "output_type": "stream",
          "name": "stderr",
          "text": [
            "WARNING:tensorflow:Can save best model only with val_loss available, skipping.\n"
          ]
        },
        {
          "output_type": "stream",
          "name": "stdout",
          "text": [
            "\b\b\b\b\b\b\b\b\b\b\b\b\b\b\b\b\b\b\b\b\b\b\b\b\b\b\b\b\b\b\b\b\b\b\b\b\b\b\b\b\b\b\b\b\b\b\b\b\b\b\b\b\b\b\b\b\b\b\b\b\b\b\b\b\b\b\b\b\b\b\b\b\b\b\b\b\b\b\b\b\r1/1 [==============================] - 0s 118ms/step - loss: 0.9833 - accuracy: 0.6875\n",
            "Epoch 24/1000\n",
            "1/1 [==============================] - 0s 19ms/step\n",
            "\n",
            "Validation Accuracy: 32.77777777777778 %\n"
          ]
        },
        {
          "output_type": "stream",
          "name": "stderr",
          "text": [
            "WARNING:tensorflow:Can save best model only with val_loss available, skipping.\n"
          ]
        },
        {
          "output_type": "stream",
          "name": "stdout",
          "text": [
            "\b\b\b\b\b\b\b\b\b\b\b\b\b\b\b\b\b\b\b\b\b\b\b\b\b\b\b\b\b\b\b\b\b\b\b\b\b\b\b\b\b\b\b\b\b\b\b\b\b\b\b\b\b\b\b\b\b\b\b\b\b\b\b\b\b\b\b\b\b\b\b\b\b\b\b\b\b\b\b\b\r1/1 [==============================] - 0s 119ms/step - loss: 0.9906 - accuracy: 0.6850\n",
            "Epoch 25/1000\n",
            "1/1 [==============================] - 0s 20ms/step\n",
            "\n",
            "Validation Accuracy: 32.22222222222222 %\n"
          ]
        },
        {
          "output_type": "stream",
          "name": "stderr",
          "text": [
            "WARNING:tensorflow:Can save best model only with val_loss available, skipping.\n"
          ]
        },
        {
          "output_type": "stream",
          "name": "stdout",
          "text": [
            "\b\b\b\b\b\b\b\b\b\b\b\b\b\b\b\b\b\b\b\b\b\b\b\b\b\b\b\b\b\b\b\b\b\b\b\b\b\b\b\b\b\b\b\b\b\b\b\b\b\b\b\b\b\b\b\b\b\b\b\b\b\b\b\b\b\b\b\b\b\b\b\b\b\b\b\b\b\b\b\b\r1/1 [==============================] - 0s 128ms/step - loss: 0.9908 - accuracy: 0.6864\n",
            "Epoch 26/1000\n",
            "1/1 [==============================] - 0s 21ms/step\n",
            "\n",
            "Validation Accuracy: 32.77777777777778 %\n"
          ]
        },
        {
          "output_type": "stream",
          "name": "stderr",
          "text": [
            "WARNING:tensorflow:Can save best model only with val_loss available, skipping.\n"
          ]
        },
        {
          "output_type": "stream",
          "name": "stdout",
          "text": [
            "\b\b\b\b\b\b\b\b\b\b\b\b\b\b\b\b\b\b\b\b\b\b\b\b\b\b\b\b\b\b\b\b\b\b\b\b\b\b\b\b\b\b\b\b\b\b\b\b\b\b\b\b\b\b\b\b\b\b\b\b\b\b\b\b\b\b\b\b\b\b\b\b\b\b\b\b\b\b\b\b\r1/1 [==============================] - 0s 121ms/step - loss: 0.9868 - accuracy: 0.6873\n",
            "Epoch 27/1000\n",
            "1/1 [==============================] - 0s 20ms/step\n",
            "\n",
            "Validation Accuracy: 33.33333333333333 %\n"
          ]
        },
        {
          "output_type": "stream",
          "name": "stderr",
          "text": [
            "WARNING:tensorflow:Can save best model only with val_loss available, skipping.\n"
          ]
        },
        {
          "output_type": "stream",
          "name": "stdout",
          "text": [
            "\b\b\b\b\b\b\b\b\b\b\b\b\b\b\b\b\b\b\b\b\b\b\b\b\b\b\b\b\b\b\b\b\b\b\b\b\b\b\b\b\b\b\b\b\b\b\b\b\b\b\b\b\b\b\b\b\b\b\b\b\b\b\b\b\b\b\b\b\b\b\b\b\b\b\b\b\b\b\b\b\r1/1 [==============================] - 0s 117ms/step - loss: 0.9852 - accuracy: 0.6908\n",
            "Epoch 28/1000\n",
            "1/1 [==============================] - 0s 19ms/step\n",
            "\n",
            "Validation Accuracy: 33.33333333333333 %\n"
          ]
        },
        {
          "output_type": "stream",
          "name": "stderr",
          "text": [
            "WARNING:tensorflow:Can save best model only with val_loss available, skipping.\n"
          ]
        },
        {
          "output_type": "stream",
          "name": "stdout",
          "text": [
            "\b\b\b\b\b\b\b\b\b\b\b\b\b\b\b\b\b\b\b\b\b\b\b\b\b\b\b\b\b\b\b\b\b\b\b\b\b\b\b\b\b\b\b\b\b\b\b\b\b\b\b\b\b\b\b\b\b\b\b\b\b\b\b\b\b\b\b\b\b\b\b\b\b\b\b\b\b\b\b\b\r1/1 [==============================] - 0s 120ms/step - loss: 0.9876 - accuracy: 0.6868\n",
            "Epoch 29/1000\n",
            "1/1 [==============================] - 0s 20ms/step\n",
            "\n",
            "Validation Accuracy: 33.88888888888889 %\n"
          ]
        },
        {
          "output_type": "stream",
          "name": "stderr",
          "text": [
            "WARNING:tensorflow:Can save best model only with val_loss available, skipping.\n"
          ]
        },
        {
          "output_type": "stream",
          "name": "stdout",
          "text": [
            "\b\b\b\b\b\b\b\b\b\b\b\b\b\b\b\b\b\b\b\b\b\b\b\b\b\b\b\b\b\b\b\b\b\b\b\b\b\b\b\b\b\b\b\b\b\b\b\b\b\b\b\b\b\b\b\b\b\b\b\b\b\b\b\b\b\b\b\b\b\b\b\b\b\b\b\b\b\b\b\b\r1/1 [==============================] - 0s 123ms/step - loss: 0.9818 - accuracy: 0.6868\n",
            "Epoch 30/1000\n",
            "1/1 [==============================] - 0s 23ms/step\n",
            "\n",
            "Validation Accuracy: 32.77777777777778 %\n"
          ]
        },
        {
          "output_type": "stream",
          "name": "stderr",
          "text": [
            "WARNING:tensorflow:Can save best model only with val_loss available, skipping.\n"
          ]
        },
        {
          "output_type": "stream",
          "name": "stdout",
          "text": [
            "\b\b\b\b\b\b\b\b\b\b\b\b\b\b\b\b\b\b\b\b\b\b\b\b\b\b\b\b\b\b\b\b\b\b\b\b\b\b\b\b\b\b\b\b\b\b\b\b\b\b\b\b\b\b\b\b\b\b\b\b\b\b\b\b\b\b\b\b\b\b\b\b\b\b\b\b\b\b\b\b\r1/1 [==============================] - 0s 118ms/step - loss: 0.9814 - accuracy: 0.6853\n",
            "Epoch 31/1000\n",
            "1/1 [==============================] - 0s 24ms/step\n",
            "\n",
            "Validation Accuracy: 33.88888888888889 %\n"
          ]
        },
        {
          "output_type": "stream",
          "name": "stderr",
          "text": [
            "WARNING:tensorflow:Can save best model only with val_loss available, skipping.\n"
          ]
        },
        {
          "output_type": "stream",
          "name": "stdout",
          "text": [
            "\b\b\b\b\b\b\b\b\b\b\b\b\b\b\b\b\b\b\b\b\b\b\b\b\b\b\b\b\b\b\b\b\b\b\b\b\b\b\b\b\b\b\b\b\b\b\b\b\b\b\b\b\b\b\b\b\b\b\b\b\b\b\b\b\b\b\b\b\b\b\b\b\b\b\b\b\b\b\b\b\r1/1 [==============================] - 0s 134ms/step - loss: 0.9883 - accuracy: 0.6850\n",
            "Epoch 32/1000\n",
            "1/1 [==============================] - 0s 23ms/step\n",
            "\n",
            "Validation Accuracy: 34.44444444444444 %\n"
          ]
        },
        {
          "output_type": "stream",
          "name": "stderr",
          "text": [
            "WARNING:tensorflow:Can save best model only with val_loss available, skipping.\n"
          ]
        },
        {
          "output_type": "stream",
          "name": "stdout",
          "text": [
            "\b\b\b\b\b\b\b\b\b\b\b\b\b\b\b\b\b\b\b\b\b\b\b\b\b\b\b\b\b\b\b\b\b\b\b\b\b\b\b\b\b\b\b\b\b\b\b\b\b\b\b\b\b\b\b\b\b\b\b\b\b\b\b\b\b\b\b\b\b\b\b\b\b\b\b\b\b\b\b\b\r1/1 [==============================] - 0s 118ms/step - loss: 0.9742 - accuracy: 0.6880\n",
            "Epoch 33/1000\n",
            "1/1 [==============================] - 0s 20ms/step\n",
            "\n",
            "Validation Accuracy: 34.44444444444444 %\n"
          ]
        },
        {
          "output_type": "stream",
          "name": "stderr",
          "text": [
            "WARNING:tensorflow:Can save best model only with val_loss available, skipping.\n"
          ]
        },
        {
          "output_type": "stream",
          "name": "stdout",
          "text": [
            "\b\b\b\b\b\b\b\b\b\b\b\b\b\b\b\b\b\b\b\b\b\b\b\b\b\b\b\b\b\b\b\b\b\b\b\b\b\b\b\b\b\b\b\b\b\b\b\b\b\b\b\b\b\b\b\b\b\b\b\b\b\b\b\b\b\b\b\b\b\b\b\b\b\b\b\b\b\b\b\b\r1/1 [==============================] - 0s 139ms/step - loss: 0.9831 - accuracy: 0.6852\n",
            "Epoch 34/1000\n",
            "1/1 [==============================] - 0s 19ms/step\n",
            "\n",
            "Validation Accuracy: 34.44444444444444 %\n"
          ]
        },
        {
          "output_type": "stream",
          "name": "stderr",
          "text": [
            "WARNING:tensorflow:Can save best model only with val_loss available, skipping.\n"
          ]
        },
        {
          "output_type": "stream",
          "name": "stdout",
          "text": [
            "\b\b\b\b\b\b\b\b\b\b\b\b\b\b\b\b\b\b\b\b\b\b\b\b\b\b\b\b\b\b\b\b\b\b\b\b\b\b\b\b\b\b\b\b\b\b\b\b\b\b\b\b\b\b\b\b\b\b\b\b\b\b\b\b\b\b\b\b\b\b\b\b\b\b\b\b\b\b\b\b\r1/1 [==============================] - 0s 115ms/step - loss: 0.9747 - accuracy: 0.6945\n",
            "Epoch 35/1000\n",
            "1/1 [==============================] - 0s 19ms/step\n",
            "\n",
            "Validation Accuracy: 33.33333333333333 %\n"
          ]
        },
        {
          "output_type": "stream",
          "name": "stderr",
          "text": [
            "WARNING:tensorflow:Can save best model only with val_loss available, skipping.\n"
          ]
        },
        {
          "output_type": "stream",
          "name": "stdout",
          "text": [
            "\b\b\b\b\b\b\b\b\b\b\b\b\b\b\b\b\b\b\b\b\b\b\b\b\b\b\b\b\b\b\b\b\b\b\b\b\b\b\b\b\b\b\b\b\b\b\b\b\b\b\b\b\b\b\b\b\b\b\b\b\b\b\b\b\b\b\b\b\b\b\b\b\b\b\b\b\b\b\b\b\r1/1 [==============================] - 0s 114ms/step - loss: 0.9767 - accuracy: 0.6882\n",
            "Epoch 36/1000\n",
            "1/1 [==============================] - 0s 19ms/step\n",
            "\n",
            "Validation Accuracy: 30.555555555555557 %\n"
          ]
        },
        {
          "output_type": "stream",
          "name": "stderr",
          "text": [
            "WARNING:tensorflow:Can save best model only with val_loss available, skipping.\n"
          ]
        },
        {
          "output_type": "stream",
          "name": "stdout",
          "text": [
            "\b\b\b\b\b\b\b\b\b\b\b\b\b\b\b\b\b\b\b\b\b\b\b\b\b\b\b\b\b\b\b\b\b\b\b\b\b\b\b\b\b\b\b\b\b\b\b\b\b\b\b\b\b\b\b\b\b\b\b\b\b\b\b\b\b\b\b\b\b\b\b\b\b\b\b\b\b\b\b\b\r1/1 [==============================] - 0s 111ms/step - loss: 0.9838 - accuracy: 0.6866\n",
            "Epoch 37/1000\n",
            "1/1 [==============================] - 0s 19ms/step\n",
            "\n",
            "Validation Accuracy: 31.11111111111111 %\n"
          ]
        },
        {
          "output_type": "stream",
          "name": "stderr",
          "text": [
            "WARNING:tensorflow:Can save best model only with val_loss available, skipping.\n"
          ]
        },
        {
          "output_type": "stream",
          "name": "stdout",
          "text": [
            "\b\b\b\b\b\b\b\b\b\b\b\b\b\b\b\b\b\b\b\b\b\b\b\b\b\b\b\b\b\b\b\b\b\b\b\b\b\b\b\b\b\b\b\b\b\b\b\b\b\b\b\b\b\b\b\b\b\b\b\b\b\b\b\b\b\b\b\b\b\b\b\b\b\b\b\b\b\b\b\b\r1/1 [==============================] - 0s 120ms/step - loss: 0.9695 - accuracy: 0.6903\n",
            "Epoch 38/1000\n",
            "1/1 [==============================] - 0s 19ms/step\n",
            "\n",
            "Validation Accuracy: 33.33333333333333 %\n"
          ]
        },
        {
          "output_type": "stream",
          "name": "stderr",
          "text": [
            "WARNING:tensorflow:Can save best model only with val_loss available, skipping.\n"
          ]
        },
        {
          "output_type": "stream",
          "name": "stdout",
          "text": [
            "\b\b\b\b\b\b\b\b\b\b\b\b\b\b\b\b\b\b\b\b\b\b\b\b\b\b\b\b\b\b\b\b\b\b\b\b\b\b\b\b\b\b\b\b\b\b\b\b\b\b\b\b\b\b\b\b\b\b\b\b\b\b\b\b\b\b\b\b\b\b\b\b\b\b\b\b\b\b\b\b\r1/1 [==============================] - 0s 118ms/step - loss: 0.9743 - accuracy: 0.6877\n",
            "Epoch 39/1000\n",
            "1/1 [==============================] - 0s 22ms/step\n",
            "\n",
            "Validation Accuracy: 33.33333333333333 %\n"
          ]
        },
        {
          "output_type": "stream",
          "name": "stderr",
          "text": [
            "WARNING:tensorflow:Can save best model only with val_loss available, skipping.\n"
          ]
        },
        {
          "output_type": "stream",
          "name": "stdout",
          "text": [
            "\b\b\b\b\b\b\b\b\b\b\b\b\b\b\b\b\b\b\b\b\b\b\b\b\b\b\b\b\b\b\b\b\b\b\b\b\b\b\b\b\b\b\b\b\b\b\b\b\b\b\b\b\b\b\b\b\b\b\b\b\b\b\b\b\b\b\b\b\b\b\b\b\b\b\b\b\b\b\b\b\r1/1 [==============================] - 0s 120ms/step - loss: 0.9760 - accuracy: 0.6905\n",
            "Epoch 40/1000\n",
            "1/1 [==============================] - 0s 24ms/step\n",
            "\n",
            "Validation Accuracy: 33.33333333333333 %\n"
          ]
        },
        {
          "output_type": "stream",
          "name": "stderr",
          "text": [
            "WARNING:tensorflow:Can save best model only with val_loss available, skipping.\n"
          ]
        },
        {
          "output_type": "stream",
          "name": "stdout",
          "text": [
            "\b\b\b\b\b\b\b\b\b\b\b\b\b\b\b\b\b\b\b\b\b\b\b\b\b\b\b\b\b\b\b\b\b\b\b\b\b\b\b\b\b\b\b\b\b\b\b\b\b\b\b\b\b\b\b\b\b\b\b\b\b\b\b\b\b\b\b\b\b\b\b\b\b\b\b\b\b\b\b\b\r1/1 [==============================] - 0s 140ms/step - loss: 0.9763 - accuracy: 0.6947\n",
            "Epoch 41/1000\n",
            "1/1 [==============================] - 0s 21ms/step\n",
            "\n",
            "Validation Accuracy: 33.33333333333333 %\n"
          ]
        },
        {
          "output_type": "stream",
          "name": "stderr",
          "text": [
            "WARNING:tensorflow:Can save best model only with val_loss available, skipping.\n"
          ]
        },
        {
          "output_type": "stream",
          "name": "stdout",
          "text": [
            "\b\b\b\b\b\b\b\b\b\b\b\b\b\b\b\b\b\b\b\b\b\b\b\b\b\b\b\b\b\b\b\b\b\b\b\b\b\b\b\b\b\b\b\b\b\b\b\b\b\b\b\b\b\b\b\b\b\b\b\b\b\b\b\b\b\b\b\b\b\b\b\b\b\b\b\b\b\b\b\b\r1/1 [==============================] - 0s 120ms/step - loss: 0.9600 - accuracy: 0.6887\n",
            "Epoch 42/1000\n",
            "1/1 [==============================] - 0s 20ms/step\n",
            "\n",
            "Validation Accuracy: 32.77777777777778 %\n"
          ]
        },
        {
          "output_type": "stream",
          "name": "stderr",
          "text": [
            "WARNING:tensorflow:Can save best model only with val_loss available, skipping.\n"
          ]
        },
        {
          "output_type": "stream",
          "name": "stdout",
          "text": [
            "\b\b\b\b\b\b\b\b\b\b\b\b\b\b\b\b\b\b\b\b\b\b\b\b\b\b\b\b\b\b\b\b\b\b\b\b\b\b\b\b\b\b\b\b\b\b\b\b\b\b\b\b\b\b\b\b\b\b\b\b\b\b\b\b\b\b\b\b\b\b\b\b\b\b\b\b\b\b\b\b\r1/1 [==============================] - 0s 124ms/step - loss: 0.9647 - accuracy: 0.6983\n",
            "Epoch 43/1000\n",
            "1/1 [==============================] - 0s 26ms/step\n",
            "\n",
            "Validation Accuracy: 32.77777777777778 %\n"
          ]
        },
        {
          "output_type": "stream",
          "name": "stderr",
          "text": [
            "WARNING:tensorflow:Can save best model only with val_loss available, skipping.\n"
          ]
        },
        {
          "output_type": "stream",
          "name": "stdout",
          "text": [
            "\b\b\b\b\b\b\b\b\b\b\b\b\b\b\b\b\b\b\b\b\b\b\b\b\b\b\b\b\b\b\b\b\b\b\b\b\b\b\b\b\b\b\b\b\b\b\b\b\b\b\b\b\b\b\b\b\b\b\b\b\b\b\b\b\b\b\b\b\b\b\b\b\b\b\b\b\b\b\b\b\r1/1 [==============================] - 0s 132ms/step - loss: 0.9699 - accuracy: 0.6968\n",
            "Epoch 44/1000\n",
            "1/1 [==============================] - 0s 19ms/step\n",
            "\n",
            "Validation Accuracy: 33.88888888888889 %\n"
          ]
        },
        {
          "output_type": "stream",
          "name": "stderr",
          "text": [
            "WARNING:tensorflow:Can save best model only with val_loss available, skipping.\n"
          ]
        },
        {
          "output_type": "stream",
          "name": "stdout",
          "text": [
            "\b\b\b\b\b\b\b\b\b\b\b\b\b\b\b\b\b\b\b\b\b\b\b\b\b\b\b\b\b\b\b\b\b\b\b\b\b\b\b\b\b\b\b\b\b\b\b\b\b\b\b\b\b\b\b\b\b\b\b\b\b\b\b\b\b\b\b\b\b\b\b\b\b\b\b\b\b\b\b\b\r1/1 [==============================] - 0s 120ms/step - loss: 0.9674 - accuracy: 0.6898\n",
            "Epoch 45/1000\n",
            "1/1 [==============================] - 0s 22ms/step\n",
            "\n",
            "Validation Accuracy: 33.33333333333333 %\n"
          ]
        },
        {
          "output_type": "stream",
          "name": "stderr",
          "text": [
            "WARNING:tensorflow:Can save best model only with val_loss available, skipping.\n"
          ]
        },
        {
          "output_type": "stream",
          "name": "stdout",
          "text": [
            "\b\b\b\b\b\b\b\b\b\b\b\b\b\b\b\b\b\b\b\b\b\b\b\b\b\b\b\b\b\b\b\b\b\b\b\b\b\b\b\b\b\b\b\b\b\b\b\b\b\b\b\b\b\b\b\b\b\b\b\b\b\b\b\b\b\b\b\b\b\b\b\b\b\b\b\b\b\b\b\b\r1/1 [==============================] - 0s 133ms/step - loss: 0.9659 - accuracy: 0.6980\n",
            "Epoch 46/1000\n",
            "1/1 [==============================] - 0s 19ms/step\n",
            "\n",
            "Validation Accuracy: 33.88888888888889 %\n"
          ]
        },
        {
          "output_type": "stream",
          "name": "stderr",
          "text": [
            "WARNING:tensorflow:Can save best model only with val_loss available, skipping.\n"
          ]
        },
        {
          "output_type": "stream",
          "name": "stdout",
          "text": [
            "\b\b\b\b\b\b\b\b\b\b\b\b\b\b\b\b\b\b\b\b\b\b\b\b\b\b\b\b\b\b\b\b\b\b\b\b\b\b\b\b\b\b\b\b\b\b\b\b\b\b\b\b\b\b\b\b\b\b\b\b\b\b\b\b\b\b\b\b\b\b\b\b\b\b\b\b\b\b\b\b\r1/1 [==============================] - 0s 111ms/step - loss: 0.9797 - accuracy: 0.6909\n",
            "Epoch 47/1000\n",
            "1/1 [==============================] - 0s 20ms/step\n",
            "\n",
            "Validation Accuracy: 32.77777777777778 %\n"
          ]
        },
        {
          "output_type": "stream",
          "name": "stderr",
          "text": [
            "WARNING:tensorflow:Can save best model only with val_loss available, skipping.\n"
          ]
        },
        {
          "output_type": "stream",
          "name": "stdout",
          "text": [
            "\b\b\b\b\b\b\b\b\b\b\b\b\b\b\b\b\b\b\b\b\b\b\b\b\b\b\b\b\b\b\b\b\b\b\b\b\b\b\b\b\b\b\b\b\b\b\b\b\b\b\b\b\b\b\b\b\b\b\b\b\b\b\b\b\b\b\b\b\b\b\b\b\b\b\b\b\b\b\b\b\r1/1 [==============================] - 0s 116ms/step - loss: 0.9681 - accuracy: 0.6922\n",
            "Epoch 48/1000\n",
            "1/1 [==============================] - 0s 19ms/step\n",
            "\n",
            "Validation Accuracy: 32.22222222222222 %\n"
          ]
        },
        {
          "output_type": "stream",
          "name": "stderr",
          "text": [
            "WARNING:tensorflow:Can save best model only with val_loss available, skipping.\n"
          ]
        },
        {
          "output_type": "stream",
          "name": "stdout",
          "text": [
            "\b\b\b\b\b\b\b\b\b\b\b\b\b\b\b\b\b\b\b\b\b\b\b\b\b\b\b\b\b\b\b\b\b\b\b\b\b\b\b\b\b\b\b\b\b\b\b\b\b\b\b\b\b\b\b\b\b\b\b\b\b\b\b\b\b\b\b\b\b\b\b\b\b\b\b\b\b\b\b\b\r1/1 [==============================] - 0s 114ms/step - loss: 0.9711 - accuracy: 0.6919\n",
            "Epoch 49/1000\n",
            "1/1 [==============================] - 0s 21ms/step\n",
            "\n",
            "Validation Accuracy: 32.22222222222222 %\n"
          ]
        },
        {
          "output_type": "stream",
          "name": "stderr",
          "text": [
            "WARNING:tensorflow:Can save best model only with val_loss available, skipping.\n"
          ]
        },
        {
          "output_type": "stream",
          "name": "stdout",
          "text": [
            "\b\b\b\b\b\b\b\b\b\b\b\b\b\b\b\b\b\b\b\b\b\b\b\b\b\b\b\b\b\b\b\b\b\b\b\b\b\b\b\b\b\b\b\b\b\b\b\b\b\b\b\b\b\b\b\b\b\b\b\b\b\b\b\b\b\b\b\b\b\b\b\b\b\b\b\b\b\b\b\b\r1/1 [==============================] - 0s 141ms/step - loss: 0.9697 - accuracy: 0.6868\n",
            "Epoch 50/1000\n",
            "1/1 [==============================] - 0s 23ms/step\n",
            "\n",
            "Validation Accuracy: 32.77777777777778 %\n"
          ]
        },
        {
          "output_type": "stream",
          "name": "stderr",
          "text": [
            "WARNING:tensorflow:Can save best model only with val_loss available, skipping.\n"
          ]
        },
        {
          "output_type": "stream",
          "name": "stdout",
          "text": [
            "\b\b\b\b\b\b\b\b\b\b\b\b\b\b\b\b\b\b\b\b\b\b\b\b\b\b\b\b\b\b\b\b\b\b\b\b\b\b\b\b\b\b\b\b\b\b\b\b\b\b\b\b\b\b\b\b\b\b\b\b\b\b\b\b\b\b\b\b\b\b\b\b\b\b\b\b\b\b\b\b\r1/1 [==============================] - 0s 119ms/step - loss: 0.9653 - accuracy: 0.6952\n",
            "Epoch 51/1000\n",
            "1/1 [==============================] - 0s 23ms/step\n",
            "\n",
            "Validation Accuracy: 33.33333333333333 %\n"
          ]
        },
        {
          "output_type": "stream",
          "name": "stderr",
          "text": [
            "WARNING:tensorflow:Can save best model only with val_loss available, skipping.\n"
          ]
        },
        {
          "output_type": "stream",
          "name": "stdout",
          "text": [
            "\b\b\b\b\b\b\b\b\b\b\b\b\b\b\b\b\b\b\b\b\b\b\b\b\b\b\b\b\b\b\b\b\b\b\b\b\b\b\b\b\b\b\b\b\b\b\b\b\b\b\b\b\b\b\b\b\b\b\b\b\b\b\b\b\b\b\b\b\b\b\b\b\b\b\b\b\b\b\b\b\r1/1 [==============================] - 0s 119ms/step - loss: 0.9609 - accuracy: 0.6955\n",
            "Epoch 52/1000\n",
            "1/1 [==============================] - 0s 20ms/step\n",
            "\n",
            "Validation Accuracy: 33.33333333333333 %\n"
          ]
        },
        {
          "output_type": "stream",
          "name": "stderr",
          "text": [
            "WARNING:tensorflow:Can save best model only with val_loss available, skipping.\n"
          ]
        },
        {
          "output_type": "stream",
          "name": "stdout",
          "text": [
            "\b\b\b\b\b\b\b\b\b\b\b\b\b\b\b\b\b\b\b\b\b\b\b\b\b\b\b\b\b\b\b\b\b\b\b\b\b\b\b\b\b\b\b\b\b\b\b\b\b\b\b\b\b\b\b\b\b\b\b\b\b\b\b\b\b\b\b\b\b\b\b\b\b\b\b\b\b\b\b\b\r1/1 [==============================] - 0s 116ms/step - loss: 0.9655 - accuracy: 0.6924\n",
            "Epoch 53/1000\n",
            "1/1 [==============================] - 0s 21ms/step\n",
            "\n",
            "Validation Accuracy: 32.77777777777778 %\n"
          ]
        },
        {
          "output_type": "stream",
          "name": "stderr",
          "text": [
            "WARNING:tensorflow:Can save best model only with val_loss available, skipping.\n"
          ]
        },
        {
          "output_type": "stream",
          "name": "stdout",
          "text": [
            "\b\b\b\b\b\b\b\b\b\b\b\b\b\b\b\b\b\b\b\b\b\b\b\b\b\b\b\b\b\b\b\b\b\b\b\b\b\b\b\b\b\b\b\b\b\b\b\b\b\b\b\b\b\b\b\b\b\b\b\b\b\b\b\b\b\b\b\b\b\b\b\b\b\b\b\b\b\b\b\b\r1/1 [==============================] - 0s 121ms/step - loss: 0.9689 - accuracy: 0.6936\n",
            "Epoch 54/1000\n",
            "1/1 [==============================] - 0s 20ms/step\n",
            "\n",
            "Validation Accuracy: 31.11111111111111 %\n"
          ]
        },
        {
          "output_type": "stream",
          "name": "stderr",
          "text": [
            "WARNING:tensorflow:Can save best model only with val_loss available, skipping.\n"
          ]
        },
        {
          "output_type": "stream",
          "name": "stdout",
          "text": [
            "\b\b\b\b\b\b\b\b\b\b\b\b\b\b\b\b\b\b\b\b\b\b\b\b\b\b\b\b\b\b\b\b\b\b\b\b\b\b\b\b\b\b\b\b\b\b\b\b\b\b\b\b\b\b\b\b\b\b\b\b\b\b\b\b\b\b\b\b\b\b\b\b\b\b\b\b\b\b\b\b\r1/1 [==============================] - 0s 133ms/step - loss: 0.9660 - accuracy: 0.6943\n",
            "Epoch 55/1000\n",
            "1/1 [==============================] - 0s 20ms/step\n",
            "\n",
            "Validation Accuracy: 33.33333333333333 %\n"
          ]
        },
        {
          "output_type": "stream",
          "name": "stderr",
          "text": [
            "WARNING:tensorflow:Can save best model only with val_loss available, skipping.\n"
          ]
        },
        {
          "output_type": "stream",
          "name": "stdout",
          "text": [
            "\b\b\b\b\b\b\b\b\b\b\b\b\b\b\b\b\b\b\b\b\b\b\b\b\b\b\b\b\b\b\b\b\b\b\b\b\b\b\b\b\b\b\b\b\b\b\b\b\b\b\b\b\b\b\b\b\b\b\b\b\b\b\b\b\b\b\b\b\b\b\b\b\b\b\b\b\b\b\b\b\r1/1 [==============================] - 0s 115ms/step - loss: 0.9591 - accuracy: 0.6940\n",
            "Epoch 56/1000\n",
            "1/1 [==============================] - 0s 20ms/step\n",
            "\n",
            "Validation Accuracy: 32.77777777777778 %\n"
          ]
        },
        {
          "output_type": "stream",
          "name": "stderr",
          "text": [
            "WARNING:tensorflow:Can save best model only with val_loss available, skipping.\n"
          ]
        },
        {
          "output_type": "stream",
          "name": "stdout",
          "text": [
            "\b\b\b\b\b\b\b\b\b\b\b\b\b\b\b\b\b\b\b\b\b\b\b\b\b\b\b\b\b\b\b\b\b\b\b\b\b\b\b\b\b\b\b\b\b\b\b\b\b\b\b\b\b\b\b\b\b\b\b\b\b\b\b\b\b\b\b\b\b\b\b\b\b\b\b\b\b\b\b\b\r1/1 [==============================] - 0s 118ms/step - loss: 0.9664 - accuracy: 0.6930\n",
            "Epoch 57/1000\n",
            "1/1 [==============================] - 0s 21ms/step\n",
            "\n",
            "Validation Accuracy: 32.22222222222222 %\n"
          ]
        },
        {
          "output_type": "stream",
          "name": "stderr",
          "text": [
            "WARNING:tensorflow:Can save best model only with val_loss available, skipping.\n"
          ]
        },
        {
          "output_type": "stream",
          "name": "stdout",
          "text": [
            "\b\b\b\b\b\b\b\b\b\b\b\b\b\b\b\b\b\b\b\b\b\b\b\b\b\b\b\b\b\b\b\b\b\b\b\b\b\b\b\b\b\b\b\b\b\b\b\b\b\b\b\b\b\b\b\b\b\b\b\b\b\b\b\b\b\b\b\b\b\b\b\b\b\b\b\b\b\b\b\b\r1/1 [==============================] - 0s 120ms/step - loss: 0.9556 - accuracy: 0.7014\n",
            "Epoch 58/1000\n",
            "1/1 [==============================] - 0s 22ms/step\n",
            "\n",
            "Validation Accuracy: 31.11111111111111 %\n"
          ]
        },
        {
          "output_type": "stream",
          "name": "stderr",
          "text": [
            "WARNING:tensorflow:Can save best model only with val_loss available, skipping.\n"
          ]
        },
        {
          "output_type": "stream",
          "name": "stdout",
          "text": [
            "\b\b\b\b\b\b\b\b\b\b\b\b\b\b\b\b\b\b\b\b\b\b\b\b\b\b\b\b\b\b\b\b\b\b\b\b\b\b\b\b\b\b\b\b\b\b\b\b\b\b\b\b\b\b\b\b\b\b\b\b\b\b\b\b\b\b\b\b\b\b\b\b\b\b\b\b\b\b\b\b\r1/1 [==============================] - 0s 132ms/step - loss: 0.9588 - accuracy: 0.6969\n",
            "Epoch 59/1000\n",
            "1/1 [==============================] - 0s 22ms/step\n",
            "\n",
            "Validation Accuracy: 33.33333333333333 %\n"
          ]
        },
        {
          "output_type": "stream",
          "name": "stderr",
          "text": [
            "WARNING:tensorflow:Can save best model only with val_loss available, skipping.\n"
          ]
        },
        {
          "output_type": "stream",
          "name": "stdout",
          "text": [
            "\b\b\b\b\b\b\b\b\b\b\b\b\b\b\b\b\b\b\b\b\b\b\b\b\b\b\b\b\b\b\b\b\b\b\b\b\b\b\b\b\b\b\b\b\b\b\b\b\b\b\b\b\b\b\b\b\b\b\b\b\b\b\b\b\b\b\b\b\b\b\b\b\b\b\b\b\b\b\b\b\r1/1 [==============================] - 0s 128ms/step - loss: 0.9603 - accuracy: 0.6976\n",
            "Epoch 60/1000\n",
            "1/1 [==============================] - 0s 20ms/step\n",
            "\n",
            "Validation Accuracy: 32.77777777777778 %\n"
          ]
        },
        {
          "output_type": "stream",
          "name": "stderr",
          "text": [
            "WARNING:tensorflow:Can save best model only with val_loss available, skipping.\n"
          ]
        },
        {
          "output_type": "stream",
          "name": "stdout",
          "text": [
            "\b\b\b\b\b\b\b\b\b\b\b\b\b\b\b\b\b\b\b\b\b\b\b\b\b\b\b\b\b\b\b\b\b\b\b\b\b\b\b\b\b\b\b\b\b\b\b\b\b\b\b\b\b\b\b\b\b\b\b\b\b\b\b\b\b\b\b\b\b\b\b\b\b\b\b\b\b\b\b\b\r1/1 [==============================] - 0s 118ms/step - loss: 0.9559 - accuracy: 0.6930\n",
            "Epoch 61/1000\n",
            "1/1 [==============================] - 0s 20ms/step\n",
            "\n",
            "Validation Accuracy: 33.88888888888889 %\n"
          ]
        },
        {
          "output_type": "stream",
          "name": "stderr",
          "text": [
            "WARNING:tensorflow:Can save best model only with val_loss available, skipping.\n"
          ]
        },
        {
          "output_type": "stream",
          "name": "stdout",
          "text": [
            "\b\b\b\b\b\b\b\b\b\b\b\b\b\b\b\b\b\b\b\b\b\b\b\b\b\b\b\b\b\b\b\b\b\b\b\b\b\b\b\b\b\b\b\b\b\b\b\b\b\b\b\b\b\b\b\b\b\b\b\b\b\b\b\b\b\b\b\b\b\b\b\b\b\b\b\b\b\b\b\b\r1/1 [==============================] - 0s 115ms/step - loss: 0.9495 - accuracy: 0.6973\n",
            "Epoch 62/1000\n",
            "1/1 [==============================] - 0s 21ms/step\n",
            "\n",
            "Validation Accuracy: 31.666666666666664 %\n"
          ]
        },
        {
          "output_type": "stream",
          "name": "stderr",
          "text": [
            "WARNING:tensorflow:Can save best model only with val_loss available, skipping.\n"
          ]
        },
        {
          "output_type": "stream",
          "name": "stdout",
          "text": [
            "\b\b\b\b\b\b\b\b\b\b\b\b\b\b\b\b\b\b\b\b\b\b\b\b\b\b\b\b\b\b\b\b\b\b\b\b\b\b\b\b\b\b\b\b\b\b\b\b\b\b\b\b\b\b\b\b\b\b\b\b\b\b\b\b\b\b\b\b\b\b\b\b\b\b\b\b\b\b\b\b\r1/1 [==============================] - 0s 130ms/step - loss: 0.9557 - accuracy: 0.7014\n",
            "Epoch 63/1000\n",
            "1/1 [==============================] - 0s 21ms/step\n",
            "\n",
            "Validation Accuracy: 31.11111111111111 %\n"
          ]
        },
        {
          "output_type": "stream",
          "name": "stderr",
          "text": [
            "WARNING:tensorflow:Can save best model only with val_loss available, skipping.\n"
          ]
        },
        {
          "output_type": "stream",
          "name": "stdout",
          "text": [
            "\b\b\b\b\b\b\b\b\b\b\b\b\b\b\b\b\b\b\b\b\b\b\b\b\b\b\b\b\b\b\b\b\b\b\b\b\b\b\b\b\b\b\b\b\b\b\b\b\b\b\b\b\b\b\b\b\b\b\b\b\b\b\b\b\b\b\b\b\b\b\b\b\b\b\b\b\b\b\b\b\r1/1 [==============================] - 0s 124ms/step - loss: 0.9514 - accuracy: 0.6964\n",
            "Epoch 64/1000\n",
            "1/1 [==============================] - 0s 19ms/step\n",
            "\n",
            "Validation Accuracy: 32.22222222222222 %\n"
          ]
        },
        {
          "output_type": "stream",
          "name": "stderr",
          "text": [
            "WARNING:tensorflow:Can save best model only with val_loss available, skipping.\n"
          ]
        },
        {
          "output_type": "stream",
          "name": "stdout",
          "text": [
            "\b\b\b\b\b\b\b\b\b\b\b\b\b\b\b\b\b\b\b\b\b\b\b\b\b\b\b\b\b\b\b\b\b\b\b\b\b\b\b\b\b\b\b\b\b\b\b\b\b\b\b\b\b\b\b\b\b\b\b\b\b\b\b\b\b\b\b\b\b\b\b\b\b\b\b\b\b\b\b\b\r1/1 [==============================] - 0s 121ms/step - loss: 0.9494 - accuracy: 0.6948\n",
            "Epoch 65/1000\n",
            "1/1 [==============================] - 0s 20ms/step\n",
            "\n",
            "Validation Accuracy: 32.22222222222222 %\n"
          ]
        },
        {
          "output_type": "stream",
          "name": "stderr",
          "text": [
            "WARNING:tensorflow:Can save best model only with val_loss available, skipping.\n"
          ]
        },
        {
          "output_type": "stream",
          "name": "stdout",
          "text": [
            "\b\b\b\b\b\b\b\b\b\b\b\b\b\b\b\b\b\b\b\b\b\b\b\b\b\b\b\b\b\b\b\b\b\b\b\b\b\b\b\b\b\b\b\b\b\b\b\b\b\b\b\b\b\b\b\b\b\b\b\b\b\b\b\b\b\b\b\b\b\b\b\b\b\b\b\b\b\b\b\b\r1/1 [==============================] - 0s 119ms/step - loss: 0.9576 - accuracy: 0.6912\n",
            "Epoch 66/1000\n",
            "1/1 [==============================] - 0s 20ms/step\n",
            "\n",
            "Validation Accuracy: 31.666666666666664 %\n"
          ]
        },
        {
          "output_type": "stream",
          "name": "stderr",
          "text": [
            "WARNING:tensorflow:Can save best model only with val_loss available, skipping.\n"
          ]
        },
        {
          "output_type": "stream",
          "name": "stdout",
          "text": [
            "\b\b\b\b\b\b\b\b\b\b\b\b\b\b\b\b\b\b\b\b\b\b\b\b\b\b\b\b\b\b\b\b\b\b\b\b\b\b\b\b\b\b\b\b\b\b\b\b\b\b\b\b\b\b\b\b\b\b\b\b\b\b\b\b\b\b\b\b\b\b\b\b\b\b\b\b\b\b\b\b\r1/1 [==============================] - 0s 124ms/step - loss: 0.9539 - accuracy: 0.6959\n",
            "Epoch 67/1000\n",
            "1/1 [==============================] - 0s 21ms/step\n",
            "\n",
            "Validation Accuracy: 31.666666666666664 %\n"
          ]
        },
        {
          "output_type": "stream",
          "name": "stderr",
          "text": [
            "WARNING:tensorflow:Can save best model only with val_loss available, skipping.\n"
          ]
        },
        {
          "output_type": "stream",
          "name": "stdout",
          "text": [
            "\b\b\b\b\b\b\b\b\b\b\b\b\b\b\b\b\b\b\b\b\b\b\b\b\b\b\b\b\b\b\b\b\b\b\b\b\b\b\b\b\b\b\b\b\b\b\b\b\b\b\b\b\b\b\b\b\b\b\b\b\b\b\b\b\b\b\b\b\b\b\b\b\b\b\b\b\b\b\b\b\r1/1 [==============================] - 0s 130ms/step - loss: 0.9503 - accuracy: 0.6978\n",
            "Epoch 68/1000\n",
            "1/1 [==============================] - 0s 19ms/step\n",
            "\n",
            "Validation Accuracy: 33.33333333333333 %\n"
          ]
        },
        {
          "output_type": "stream",
          "name": "stderr",
          "text": [
            "WARNING:tensorflow:Can save best model only with val_loss available, skipping.\n"
          ]
        },
        {
          "output_type": "stream",
          "name": "stdout",
          "text": [
            "\b\b\b\b\b\b\b\b\b\b\b\b\b\b\b\b\b\b\b\b\b\b\b\b\b\b\b\b\b\b\b\b\b\b\b\b\b\b\b\b\b\b\b\b\b\b\b\b\b\b\b\b\b\b\b\b\b\b\b\b\b\b\b\b\b\b\b\b\b\b\b\b\b\b\b\b\b\b\b\b\r1/1 [==============================] - 0s 119ms/step - loss: 0.9494 - accuracy: 0.7020\n",
            "Epoch 69/1000\n",
            "1/1 [==============================] - 0s 23ms/step\n",
            "\n",
            "Validation Accuracy: 33.33333333333333 %\n"
          ]
        },
        {
          "output_type": "stream",
          "name": "stderr",
          "text": [
            "WARNING:tensorflow:Can save best model only with val_loss available, skipping.\n"
          ]
        },
        {
          "output_type": "stream",
          "name": "stdout",
          "text": [
            "\b\b\b\b\b\b\b\b\b\b\b\b\b\b\b\b\b\b\b\b\b\b\b\b\b\b\b\b\b\b\b\b\b\b\b\b\b\b\b\b\b\b\b\b\b\b\b\b\b\b\b\b\b\b\b\b\b\b\b\b\b\b\b\b\b\b\b\b\b\b\b\b\b\b\b\b\b\b\b\b\r1/1 [==============================] - 0s 126ms/step - loss: 0.9500 - accuracy: 0.6992\n",
            "Epoch 70/1000\n",
            "1/1 [==============================] - 0s 24ms/step\n",
            "\n",
            "Validation Accuracy: 31.666666666666664 %\n"
          ]
        },
        {
          "output_type": "stream",
          "name": "stderr",
          "text": [
            "WARNING:tensorflow:Can save best model only with val_loss available, skipping.\n"
          ]
        },
        {
          "output_type": "stream",
          "name": "stdout",
          "text": [
            "\b\b\b\b\b\b\b\b\b\b\b\b\b\b\b\b\b\b\b\b\b\b\b\b\b\b\b\b\b\b\b\b\b\b\b\b\b\b\b\b\b\b\b\b\b\b\b\b\b\b\b\b\b\b\b\b\b\b\b\b\b\b\b\b\b\b\b\b\b\b\b\b\b\b\b\b\b\b\b\b\r1/1 [==============================] - 0s 120ms/step - loss: 0.9377 - accuracy: 0.7029\n",
            "Epoch 71/1000\n",
            "1/1 [==============================] - 0s 20ms/step\n",
            "\n",
            "Validation Accuracy: 32.77777777777778 %\n"
          ]
        },
        {
          "output_type": "stream",
          "name": "stderr",
          "text": [
            "WARNING:tensorflow:Can save best model only with val_loss available, skipping.\n"
          ]
        },
        {
          "output_type": "stream",
          "name": "stdout",
          "text": [
            "\b\b\b\b\b\b\b\b\b\b\b\b\b\b\b\b\b\b\b\b\b\b\b\b\b\b\b\b\b\b\b\b\b\b\b\b\b\b\b\b\b\b\b\b\b\b\b\b\b\b\b\b\b\b\b\b\b\b\b\b\b\b\b\b\b\b\b\b\b\b\b\b\b\b\b\b\b\b\b\b\r1/1 [==============================] - 0s 123ms/step - loss: 0.9504 - accuracy: 0.6979\n",
            "Epoch 72/1000\n",
            "1/1 [==============================] - 0s 21ms/step\n",
            "\n",
            "Validation Accuracy: 34.44444444444444 %\n"
          ]
        },
        {
          "output_type": "stream",
          "name": "stderr",
          "text": [
            "WARNING:tensorflow:Can save best model only with val_loss available, skipping.\n"
          ]
        },
        {
          "output_type": "stream",
          "name": "stdout",
          "text": [
            "\b\b\b\b\b\b\b\b\b\b\b\b\b\b\b\b\b\b\b\b\b\b\b\b\b\b\b\b\b\b\b\b\b\b\b\b\b\b\b\b\b\b\b\b\b\b\b\b\b\b\b\b\b\b\b\b\b\b\b\b\b\b\b\b\b\b\b\b\b\b\b\b\b\b\b\b\b\b\b\b\r1/1 [==============================] - 0s 118ms/step - loss: 0.9361 - accuracy: 0.7035\n",
            "Epoch 73/1000\n",
            "1/1 [==============================] - 0s 22ms/step\n",
            "\n",
            "Validation Accuracy: 33.33333333333333 %\n"
          ]
        },
        {
          "output_type": "stream",
          "name": "stderr",
          "text": [
            "WARNING:tensorflow:Can save best model only with val_loss available, skipping.\n"
          ]
        },
        {
          "output_type": "stream",
          "name": "stdout",
          "text": [
            "\b\b\b\b\b\b\b\b\b\b\b\b\b\b\b\b\b\b\b\b\b\b\b\b\b\b\b\b\b\b\b\b\b\b\b\b\b\b\b\b\b\b\b\b\b\b\b\b\b\b\b\b\b\b\b\b\b\b\b\b\b\b\b\b\b\b\b\b\b\b\b\b\b\b\b\b\b\b\b\b\r1/1 [==============================] - 0s 122ms/step - loss: 0.9462 - accuracy: 0.7045\n",
            "Epoch 74/1000\n",
            "1/1 [==============================] - 0s 22ms/step\n",
            "\n",
            "Validation Accuracy: 34.44444444444444 %\n"
          ]
        },
        {
          "output_type": "stream",
          "name": "stderr",
          "text": [
            "WARNING:tensorflow:Can save best model only with val_loss available, skipping.\n"
          ]
        },
        {
          "output_type": "stream",
          "name": "stdout",
          "text": [
            "\b\b\b\b\b\b\b\b\b\b\b\b\b\b\b\b\b\b\b\b\b\b\b\b\b\b\b\b\b\b\b\b\b\b\b\b\b\b\b\b\b\b\b\b\b\b\b\b\b\b\b\b\b\b\b\b\b\b\b\b\b\b\b\b\b\b\b\b\b\b\b\b\b\b\b\b\b\b\b\b\r1/1 [==============================] - 0s 130ms/step - loss: 0.9409 - accuracy: 0.7015\n",
            "Epoch 75/1000\n",
            "1/1 [==============================] - 0s 22ms/step\n",
            "\n",
            "Validation Accuracy: 33.88888888888889 %\n"
          ]
        },
        {
          "output_type": "stream",
          "name": "stderr",
          "text": [
            "WARNING:tensorflow:Can save best model only with val_loss available, skipping.\n"
          ]
        },
        {
          "output_type": "stream",
          "name": "stdout",
          "text": [
            "\b\b\b\b\b\b\b\b\b\b\b\b\b\b\b\b\b\b\b\b\b\b\b\b\b\b\b\b\b\b\b\b\b\b\b\b\b\b\b\b\b\b\b\b\b\b\b\b\b\b\b\b\b\b\b\b\b\b\b\b\b\b\b\b\b\b\b\b\b\b\b\b\b\b\b\b\b\b\b\b\r1/1 [==============================] - 0s 133ms/step - loss: 0.9380 - accuracy: 0.7015\n",
            "Epoch 76/1000\n",
            "1/1 [==============================] - 0s 20ms/step\n",
            "\n",
            "Validation Accuracy: 33.88888888888889 %\n"
          ]
        },
        {
          "output_type": "stream",
          "name": "stderr",
          "text": [
            "WARNING:tensorflow:Can save best model only with val_loss available, skipping.\n"
          ]
        },
        {
          "output_type": "stream",
          "name": "stdout",
          "text": [
            "\b\b\b\b\b\b\b\b\b\b\b\b\b\b\b\b\b\b\b\b\b\b\b\b\b\b\b\b\b\b\b\b\b\b\b\b\b\b\b\b\b\b\b\b\b\b\b\b\b\b\b\b\b\b\b\b\b\b\b\b\b\b\b\b\b\b\b\b\b\b\b\b\b\b\b\b\b\b\b\b\r1/1 [==============================] - 0s 129ms/step - loss: 0.9462 - accuracy: 0.7003\n",
            "Epoch 77/1000\n",
            "1/1 [==============================] - 0s 21ms/step\n",
            "\n",
            "Validation Accuracy: 33.88888888888889 %\n"
          ]
        },
        {
          "output_type": "stream",
          "name": "stderr",
          "text": [
            "WARNING:tensorflow:Can save best model only with val_loss available, skipping.\n"
          ]
        },
        {
          "output_type": "stream",
          "name": "stdout",
          "text": [
            "\b\b\b\b\b\b\b\b\b\b\b\b\b\b\b\b\b\b\b\b\b\b\b\b\b\b\b\b\b\b\b\b\b\b\b\b\b\b\b\b\b\b\b\b\b\b\b\b\b\b\b\b\b\b\b\b\b\b\b\b\b\b\b\b\b\b\b\b\b\b\b\b\b\b\b\b\b\b\b\b\r1/1 [==============================] - 0s 121ms/step - loss: 0.9335 - accuracy: 0.7020\n",
            "Epoch 78/1000\n",
            "1/1 [==============================] - 0s 21ms/step\n",
            "\n",
            "Validation Accuracy: 32.77777777777778 %\n"
          ]
        },
        {
          "output_type": "stream",
          "name": "stderr",
          "text": [
            "WARNING:tensorflow:Can save best model only with val_loss available, skipping.\n"
          ]
        },
        {
          "output_type": "stream",
          "name": "stdout",
          "text": [
            "\b\b\b\b\b\b\b\b\b\b\b\b\b\b\b\b\b\b\b\b\b\b\b\b\b\b\b\b\b\b\b\b\b\b\b\b\b\b\b\b\b\b\b\b\b\b\b\b\b\b\b\b\b\b\b\b\b\b\b\b\b\b\b\b\b\b\b\b\b\b\b\b\b\b\b\b\b\b\b\b\r1/1 [==============================] - 0s 134ms/step - loss: 0.9430 - accuracy: 0.7064\n",
            "Epoch 79/1000\n",
            "1/1 [==============================] - 0s 20ms/step\n",
            "\n",
            "Validation Accuracy: 32.77777777777778 %\n"
          ]
        },
        {
          "output_type": "stream",
          "name": "stderr",
          "text": [
            "WARNING:tensorflow:Can save best model only with val_loss available, skipping.\n"
          ]
        },
        {
          "output_type": "stream",
          "name": "stdout",
          "text": [
            "\b\b\b\b\b\b\b\b\b\b\b\b\b\b\b\b\b\b\b\b\b\b\b\b\b\b\b\b\b\b\b\b\b\b\b\b\b\b\b\b\b\b\b\b\b\b\b\b\b\b\b\b\b\b\b\b\b\b\b\b\b\b\b\b\b\b\b\b\b\b\b\b\b\b\b\b\b\b\b\b\r1/1 [==============================] - 0s 128ms/step - loss: 0.9392 - accuracy: 0.7011\n",
            "Epoch 80/1000\n",
            "1/1 [==============================] - 0s 19ms/step\n",
            "\n",
            "Validation Accuracy: 32.77777777777778 %\n"
          ]
        },
        {
          "output_type": "stream",
          "name": "stderr",
          "text": [
            "WARNING:tensorflow:Can save best model only with val_loss available, skipping.\n"
          ]
        },
        {
          "output_type": "stream",
          "name": "stdout",
          "text": [
            "\b\b\b\b\b\b\b\b\b\b\b\b\b\b\b\b\b\b\b\b\b\b\b\b\b\b\b\b\b\b\b\b\b\b\b\b\b\b\b\b\b\b\b\b\b\b\b\b\b\b\b\b\b\b\b\b\b\b\b\b\b\b\b\b\b\b\b\b\b\b\b\b\b\b\b\b\b\b\b\b\r1/1 [==============================] - 0s 118ms/step - loss: 0.9367 - accuracy: 0.7045\n",
            "Epoch 81/1000\n",
            "1/1 [==============================] - 0s 20ms/step\n",
            "\n",
            "Validation Accuracy: 33.33333333333333 %\n"
          ]
        },
        {
          "output_type": "stream",
          "name": "stderr",
          "text": [
            "WARNING:tensorflow:Can save best model only with val_loss available, skipping.\n"
          ]
        },
        {
          "output_type": "stream",
          "name": "stdout",
          "text": [
            "\b\b\b\b\b\b\b\b\b\b\b\b\b\b\b\b\b\b\b\b\b\b\b\b\b\b\b\b\b\b\b\b\b\b\b\b\b\b\b\b\b\b\b\b\b\b\b\b\b\b\b\b\b\b\b\b\b\b\b\b\b\b\b\b\b\b\b\b\b\b\b\b\b\b\b\b\b\b\b\b\r1/1 [==============================] - 0s 121ms/step - loss: 0.9298 - accuracy: 0.7101\n",
            "Epoch 82/1000\n",
            "1/1 [==============================] - 0s 20ms/step\n",
            "\n",
            "Validation Accuracy: 32.77777777777778 %\n"
          ]
        },
        {
          "output_type": "stream",
          "name": "stderr",
          "text": [
            "WARNING:tensorflow:Can save best model only with val_loss available, skipping.\n"
          ]
        },
        {
          "output_type": "stream",
          "name": "stdout",
          "text": [
            "\b\b\b\b\b\b\b\b\b\b\b\b\b\b\b\b\b\b\b\b\b\b\b\b\b\b\b\b\b\b\b\b\b\b\b\b\b\b\b\b\b\b\b\b\b\b\b\b\b\b\b\b\b\b\b\b\b\b\b\b\b\b\b\b\b\b\b\b\b\b\b\b\b\b\b\b\b\b\b\b\r1/1 [==============================] - 0s 116ms/step - loss: 0.9319 - accuracy: 0.7070\n",
            "Epoch 83/1000\n",
            "1/1 [==============================] - 0s 19ms/step\n",
            "\n",
            "Validation Accuracy: 33.33333333333333 %\n"
          ]
        },
        {
          "output_type": "stream",
          "name": "stderr",
          "text": [
            "WARNING:tensorflow:Can save best model only with val_loss available, skipping.\n"
          ]
        },
        {
          "output_type": "stream",
          "name": "stdout",
          "text": [
            "\b\b\b\b\b\b\b\b\b\b\b\b\b\b\b\b\b\b\b\b\b\b\b\b\b\b\b\b\b\b\b\b\b\b\b\b\b\b\b\b\b\b\b\b\b\b\b\b\b\b\b\b\b\b\b\b\b\b\b\b\b\b\b\b\b\b\b\b\b\b\b\b\b\b\b\b\b\b\b\b\r1/1 [==============================] - 0s 120ms/step - loss: 0.9363 - accuracy: 0.7031\n",
            "Epoch 84/1000\n",
            "1/1 [==============================] - 0s 29ms/step\n",
            "\n",
            "Validation Accuracy: 32.22222222222222 %\n"
          ]
        },
        {
          "output_type": "stream",
          "name": "stderr",
          "text": [
            "WARNING:tensorflow:Can save best model only with val_loss available, skipping.\n"
          ]
        },
        {
          "output_type": "stream",
          "name": "stdout",
          "text": [
            "\b\b\b\b\b\b\b\b\b\b\b\b\b\b\b\b\b\b\b\b\b\b\b\b\b\b\b\b\b\b\b\b\b\b\b\b\b\b\b\b\b\b\b\b\b\b\b\b\b\b\b\b\b\b\b\b\b\b\b\b\b\b\b\b\b\b\b\b\b\b\b\b\b\b\b\b\b\b\b\b\r1/1 [==============================] - 0s 156ms/step - loss: 0.9356 - accuracy: 0.7036\n",
            "Epoch 85/1000\n",
            "1/1 [==============================] - 0s 37ms/step\n",
            "\n",
            "Validation Accuracy: 32.22222222222222 %\n"
          ]
        },
        {
          "output_type": "stream",
          "name": "stderr",
          "text": [
            "WARNING:tensorflow:Can save best model only with val_loss available, skipping.\n"
          ]
        },
        {
          "output_type": "stream",
          "name": "stdout",
          "text": [
            "\b\b\b\b\b\b\b\b\b\b\b\b\b\b\b\b\b\b\b\b\b\b\b\b\b\b\b\b\b\b\b\b\b\b\b\b\b\b\b\b\b\b\b\b\b\b\b\b\b\b\b\b\b\b\b\b\b\b\b\b\b\b\b\b\b\b\b\b\b\b\b\b\b\b\b\b\b\b\b\b\r1/1 [==============================] - 0s 197ms/step - loss: 0.9363 - accuracy: 0.7039\n",
            "Epoch 86/1000\n",
            "1/1 [==============================] - 0s 33ms/step\n",
            "\n",
            "Validation Accuracy: 32.22222222222222 %\n"
          ]
        },
        {
          "output_type": "stream",
          "name": "stderr",
          "text": [
            "WARNING:tensorflow:Can save best model only with val_loss available, skipping.\n"
          ]
        },
        {
          "output_type": "stream",
          "name": "stdout",
          "text": [
            "\b\b\b\b\b\b\b\b\b\b\b\b\b\b\b\b\b\b\b\b\b\b\b\b\b\b\b\b\b\b\b\b\b\b\b\b\b\b\b\b\b\b\b\b\b\b\b\b\b\b\b\b\b\b\b\b\b\b\b\b\b\b\b\b\b\b\b\b\b\b\b\b\b\b\b\b\b\b\b\b\r1/1 [==============================] - 0s 170ms/step - loss: 0.9332 - accuracy: 0.7045\n",
            "Epoch 87/1000\n",
            "1/1 [==============================] - 0s 28ms/step\n",
            "\n",
            "Validation Accuracy: 32.77777777777778 %\n"
          ]
        },
        {
          "output_type": "stream",
          "name": "stderr",
          "text": [
            "WARNING:tensorflow:Can save best model only with val_loss available, skipping.\n"
          ]
        },
        {
          "output_type": "stream",
          "name": "stdout",
          "text": [
            "\b\b\b\b\b\b\b\b\b\b\b\b\b\b\b\b\b\b\b\b\b\b\b\b\b\b\b\b\b\b\b\b\b\b\b\b\b\b\b\b\b\b\b\b\b\b\b\b\b\b\b\b\b\b\b\b\b\b\b\b\b\b\b\b\b\b\b\b\b\b\b\b\b\b\b\b\b\b\b\b\r1/1 [==============================] - 0s 178ms/step - loss: 0.9295 - accuracy: 0.6994\n",
            "Epoch 88/1000\n",
            "1/1 [==============================] - 0s 39ms/step\n",
            "\n",
            "Validation Accuracy: 34.44444444444444 %\n"
          ]
        },
        {
          "output_type": "stream",
          "name": "stderr",
          "text": [
            "WARNING:tensorflow:Can save best model only with val_loss available, skipping.\n"
          ]
        },
        {
          "output_type": "stream",
          "name": "stdout",
          "text": [
            "\b\b\b\b\b\b\b\b\b\b\b\b\b\b\b\b\b\b\b\b\b\b\b\b\b\b\b\b\b\b\b\b\b\b\b\b\b\b\b\b\b\b\b\b\b\b\b\b\b\b\b\b\b\b\b\b\b\b\b\b\b\b\b\b\b\b\b\b\b\b\b\b\b\b\b\b\b\b\b\b\r1/1 [==============================] - 0s 204ms/step - loss: 0.9237 - accuracy: 0.7069\n",
            "Epoch 89/1000\n",
            "1/1 [==============================] - 0s 28ms/step\n",
            "\n",
            "Validation Accuracy: 34.44444444444444 %\n"
          ]
        },
        {
          "output_type": "stream",
          "name": "stderr",
          "text": [
            "WARNING:tensorflow:Can save best model only with val_loss available, skipping.\n"
          ]
        },
        {
          "output_type": "stream",
          "name": "stdout",
          "text": [
            "\b\b\b\b\b\b\b\b\b\b\b\b\b\b\b\b\b\b\b\b\b\b\b\b\b\b\b\b\b\b\b\b\b\b\b\b\b\b\b\b\b\b\b\b\b\b\b\b\b\b\b\b\b\b\b\b\b\b\b\b\b\b\b\b\b\b\b\b\b\b\b\b\b\b\b\b\b\b\b\b\r1/1 [==============================] - 0s 166ms/step - loss: 0.9255 - accuracy: 0.7073\n",
            "Epoch 90/1000\n",
            "1/1 [==============================] - 0s 38ms/step\n",
            "\n",
            "Validation Accuracy: 35.0 %\n"
          ]
        },
        {
          "output_type": "stream",
          "name": "stderr",
          "text": [
            "WARNING:tensorflow:Can save best model only with val_loss available, skipping.\n"
          ]
        },
        {
          "output_type": "stream",
          "name": "stdout",
          "text": [
            "\b\b\b\b\b\b\b\b\b\b\b\b\b\b\b\b\b\b\b\b\b\b\b\b\b\b\b\b\b\b\b\b\b\b\b\b\b\b\b\b\b\b\b\b\b\b\b\b\b\b\b\b\b\b\b\b\b\b\b\b\b\b\b\b\b\b\b\b\b\b\b\b\b\b\b\b\b\b\b\b\r1/1 [==============================] - 0s 178ms/step - loss: 0.9273 - accuracy: 0.7067\n",
            "Epoch 91/1000\n",
            "1/1 [==============================] - 0s 31ms/step\n",
            "\n",
            "Validation Accuracy: 35.0 %\n"
          ]
        },
        {
          "output_type": "stream",
          "name": "stderr",
          "text": [
            "WARNING:tensorflow:Can save best model only with val_loss available, skipping.\n"
          ]
        },
        {
          "output_type": "stream",
          "name": "stdout",
          "text": [
            "\b\b\b\b\b\b\b\b\b\b\b\b\b\b\b\b\b\b\b\b\b\b\b\b\b\b\b\b\b\b\b\b\b\b\b\b\b\b\b\b\b\b\b\b\b\b\b\b\b\b\b\b\b\b\b\b\b\b\b\b\b\b\b\b\b\b\b\b\b\b\b\b\b\b\b\b\b\b\b\b\r1/1 [==============================] - 0s 182ms/step - loss: 0.9279 - accuracy: 0.7013\n",
            "Epoch 92/1000\n",
            "1/1 [==============================] - 0s 29ms/step\n",
            "\n",
            "Validation Accuracy: 35.0 %\n"
          ]
        },
        {
          "output_type": "stream",
          "name": "stderr",
          "text": [
            "WARNING:tensorflow:Can save best model only with val_loss available, skipping.\n"
          ]
        },
        {
          "output_type": "stream",
          "name": "stdout",
          "text": [
            "\b\b\b\b\b\b\b\b\b\b\b\b\b\b\b\b\b\b\b\b\b\b\b\b\b\b\b\b\b\b\b\b\b\b\b\b\b\b\b\b\b\b\b\b\b\b\b\b\b\b\b\b\b\b\b\b\b\b\b\b\b\b\b\b\b\b\b\b\b\b\b\b\b\b\b\b\b\b\b\b\r1/1 [==============================] - 0s 168ms/step - loss: 0.9190 - accuracy: 0.7036\n",
            "Epoch 93/1000\n",
            "1/1 [==============================] - 0s 29ms/step\n",
            "\n",
            "Validation Accuracy: 33.33333333333333 %\n"
          ]
        },
        {
          "output_type": "stream",
          "name": "stderr",
          "text": [
            "WARNING:tensorflow:Can save best model only with val_loss available, skipping.\n"
          ]
        },
        {
          "output_type": "stream",
          "name": "stdout",
          "text": [
            "\b\b\b\b\b\b\b\b\b\b\b\b\b\b\b\b\b\b\b\b\b\b\b\b\b\b\b\b\b\b\b\b\b\b\b\b\b\b\b\b\b\b\b\b\b\b\b\b\b\b\b\b\b\b\b\b\b\b\b\b\b\b\b\b\b\b\b\b\b\b\b\b\b\b\b\b\b\b\b\b\r1/1 [==============================] - 0s 195ms/step - loss: 0.9248 - accuracy: 0.7069\n",
            "Epoch 94/1000\n",
            "1/1 [==============================] - 0s 29ms/step\n",
            "\n",
            "Validation Accuracy: 32.77777777777778 %\n"
          ]
        },
        {
          "output_type": "stream",
          "name": "stderr",
          "text": [
            "WARNING:tensorflow:Can save best model only with val_loss available, skipping.\n"
          ]
        },
        {
          "output_type": "stream",
          "name": "stdout",
          "text": [
            "\b\b\b\b\b\b\b\b\b\b\b\b\b\b\b\b\b\b\b\b\b\b\b\b\b\b\b\b\b\b\b\b\b\b\b\b\b\b\b\b\b\b\b\b\b\b\b\b\b\b\b\b\b\b\b\b\b\b\b\b\b\b\b\b\b\b\b\b\b\b\b\b\b\b\b\b\b\b\b\b\r1/1 [==============================] - 0s 185ms/step - loss: 0.9207 - accuracy: 0.7052\n",
            "Epoch 95/1000\n",
            "1/1 [==============================] - 0s 31ms/step\n",
            "\n",
            "Validation Accuracy: 33.33333333333333 %\n"
          ]
        },
        {
          "output_type": "stream",
          "name": "stderr",
          "text": [
            "WARNING:tensorflow:Can save best model only with val_loss available, skipping.\n"
          ]
        },
        {
          "output_type": "stream",
          "name": "stdout",
          "text": [
            "\b\b\b\b\b\b\b\b\b\b\b\b\b\b\b\b\b\b\b\b\b\b\b\b\b\b\b\b\b\b\b\b\b\b\b\b\b\b\b\b\b\b\b\b\b\b\b\b\b\b\b\b\b\b\b\b\b\b\b\b\b\b\b\b\b\b\b\b\b\b\b\b\b\b\b\b\b\b\b\b\r1/1 [==============================] - 0s 192ms/step - loss: 0.9124 - accuracy: 0.7092\n",
            "Epoch 96/1000\n",
            "1/1 [==============================] - 0s 27ms/step\n",
            "\n",
            "Validation Accuracy: 34.44444444444444 %\n"
          ]
        },
        {
          "output_type": "stream",
          "name": "stderr",
          "text": [
            "WARNING:tensorflow:Can save best model only with val_loss available, skipping.\n"
          ]
        },
        {
          "output_type": "stream",
          "name": "stdout",
          "text": [
            "\b\b\b\b\b\b\b\b\b\b\b\b\b\b\b\b\b\b\b\b\b\b\b\b\b\b\b\b\b\b\b\b\b\b\b\b\b\b\b\b\b\b\b\b\b\b\b\b\b\b\b\b\b\b\b\b\b\b\b\b\b\b\b\b\b\b\b\b\b\b\b\b\b\b\b\b\b\b\b\b\r1/1 [==============================] - 0s 164ms/step - loss: 0.9163 - accuracy: 0.7116\n",
            "Epoch 97/1000\n",
            "1/1 [==============================] - 0s 30ms/step\n",
            "\n",
            "Validation Accuracy: 35.0 %\n"
          ]
        },
        {
          "output_type": "stream",
          "name": "stderr",
          "text": [
            "WARNING:tensorflow:Can save best model only with val_loss available, skipping.\n"
          ]
        },
        {
          "output_type": "stream",
          "name": "stdout",
          "text": [
            "\b\b\b\b\b\b\b\b\b\b\b\b\b\b\b\b\b\b\b\b\b\b\b\b\b\b\b\b\b\b\b\b\b\b\b\b\b\b\b\b\b\b\b\b\b\b\b\b\b\b\b\b\b\b\b\b\b\b\b\b\b\b\b\b\b\b\b\b\b\b\b\b\b\b\b\b\b\b\b\b\r1/1 [==============================] - 0s 169ms/step - loss: 0.9118 - accuracy: 0.7092\n",
            "Epoch 98/1000\n",
            "1/1 [==============================] - 0s 29ms/step\n",
            "\n",
            "Validation Accuracy: 33.88888888888889 %\n"
          ]
        },
        {
          "output_type": "stream",
          "name": "stderr",
          "text": [
            "WARNING:tensorflow:Can save best model only with val_loss available, skipping.\n"
          ]
        },
        {
          "output_type": "stream",
          "name": "stdout",
          "text": [
            "\b\b\b\b\b\b\b\b\b\b\b\b\b\b\b\b\b\b\b\b\b\b\b\b\b\b\b\b\b\b\b\b\b\b\b\b\b\b\b\b\b\b\b\b\b\b\b\b\b\b\b\b\b\b\b\b\b\b\b\b\b\b\b\b\b\b\b\b\b\b\b\b\b\b\b\b\b\b\b\b\r1/1 [==============================] - 0s 189ms/step - loss: 0.9079 - accuracy: 0.7119\n",
            "Epoch 99/1000\n",
            "1/1 [==============================] - 0s 29ms/step\n",
            "\n",
            "Validation Accuracy: 33.88888888888889 %\n"
          ]
        },
        {
          "output_type": "stream",
          "name": "stderr",
          "text": [
            "WARNING:tensorflow:Can save best model only with val_loss available, skipping.\n"
          ]
        },
        {
          "output_type": "stream",
          "name": "stdout",
          "text": [
            "\b\b\b\b\b\b\b\b\b\b\b\b\b\b\b\b\b\b\b\b\b\b\b\b\b\b\b\b\b\b\b\b\b\b\b\b\b\b\b\b\b\b\b\b\b\b\b\b\b\b\b\b\b\b\b\b\b\b\b\b\b\b\b\b\b\b\b\b\b\b\b\b\b\b\b\b\b\b\b\b\r1/1 [==============================] - 0s 178ms/step - loss: 0.9086 - accuracy: 0.7132\n",
            "Epoch 100/1000\n",
            "1/1 [==============================] - 0s 37ms/step\n",
            "\n",
            "Validation Accuracy: 35.55555555555556 %\n"
          ]
        },
        {
          "output_type": "stream",
          "name": "stderr",
          "text": [
            "WARNING:tensorflow:Can save best model only with val_loss available, skipping.\n"
          ]
        },
        {
          "output_type": "stream",
          "name": "stdout",
          "text": [
            "\b\b\b\b\b\b\b\b\b\b\b\b\b\b\b\b\b\b\b\b\b\b\b\b\b\b\b\b\b\b\b\b\b\b\b\b\b\b\b\b\b\b\b\b\b\b\b\b\b\b\b\b\b\b\b\b\b\b\b\b\b\b\b\b\b\b\b\b\b\b\b\b\b\b\b\b\b\b\b\b\r1/1 [==============================] - 0s 170ms/step - loss: 0.9038 - accuracy: 0.7136\n",
            "Epoch 101/1000\n",
            "1/1 [==============================] - 0s 28ms/step\n",
            "\n",
            "Validation Accuracy: 35.0 %\n"
          ]
        },
        {
          "output_type": "stream",
          "name": "stderr",
          "text": [
            "WARNING:tensorflow:Can save best model only with val_loss available, skipping.\n"
          ]
        },
        {
          "output_type": "stream",
          "name": "stdout",
          "text": [
            "\b\b\b\b\b\b\b\b\b\b\b\b\b\b\b\b\b\b\b\b\b\b\b\b\b\b\b\b\b\b\b\b\b\b\b\b\b\b\b\b\b\b\b\b\b\b\b\b\b\b\b\b\b\b\b\b\b\b\b\b\b\b\b\b\b\b\b\b\b\b\b\b\b\b\b\b\b\b\b\b\r1/1 [==============================] - 0s 158ms/step - loss: 0.9087 - accuracy: 0.7105\n",
            "Epoch 102/1000\n",
            "1/1 [==============================] - 0s 30ms/step\n",
            "\n",
            "Validation Accuracy: 35.0 %\n"
          ]
        },
        {
          "output_type": "stream",
          "name": "stderr",
          "text": [
            "WARNING:tensorflow:Can save best model only with val_loss available, skipping.\n"
          ]
        },
        {
          "output_type": "stream",
          "name": "stdout",
          "text": [
            "\b\b\b\b\b\b\b\b\b\b\b\b\b\b\b\b\b\b\b\b\b\b\b\b\b\b\b\b\b\b\b\b\b\b\b\b\b\b\b\b\b\b\b\b\b\b\b\b\b\b\b\b\b\b\b\b\b\b\b\b\b\b\b\b\b\b\b\b\b\b\b\b\b\b\b\b\b\b\b\b\r1/1 [==============================] - 0s 188ms/step - loss: 0.9051 - accuracy: 0.7144\n",
            "Epoch 103/1000\n",
            "1/1 [==============================] - 0s 31ms/step\n",
            "\n",
            "Validation Accuracy: 35.55555555555556 %\n"
          ]
        },
        {
          "output_type": "stream",
          "name": "stderr",
          "text": [
            "WARNING:tensorflow:Can save best model only with val_loss available, skipping.\n"
          ]
        },
        {
          "output_type": "stream",
          "name": "stdout",
          "text": [
            "\b\b\b\b\b\b\b\b\b\b\b\b\b\b\b\b\b\b\b\b\b\b\b\b\b\b\b\b\b\b\b\b\b\b\b\b\b\b\b\b\b\b\b\b\b\b\b\b\b\b\b\b\b\b\b\b\b\b\b\b\b\b\b\b\b\b\b\b\b\b\b\b\b\b\b\b\b\b\b\b\r1/1 [==============================] - 0s 204ms/step - loss: 0.9121 - accuracy: 0.7113\n",
            "Epoch 104/1000\n",
            "1/1 [==============================] - 0s 32ms/step\n",
            "\n",
            "Validation Accuracy: 34.44444444444444 %\n"
          ]
        },
        {
          "output_type": "stream",
          "name": "stderr",
          "text": [
            "WARNING:tensorflow:Can save best model only with val_loss available, skipping.\n"
          ]
        },
        {
          "output_type": "stream",
          "name": "stdout",
          "text": [
            "\b\b\b\b\b\b\b\b\b\b\b\b\b\b\b\b\b\b\b\b\b\b\b\b\b\b\b\b\b\b\b\b\b\b\b\b\b\b\b\b\b\b\b\b\b\b\b\b\b\b\b\b\b\b\b\b\b\b\b\b\b\b\b\b\b\b\b\b\b\b\b\b\b\b\b\b\b\b\b\b\r1/1 [==============================] - 0s 166ms/step - loss: 0.9076 - accuracy: 0.7132\n",
            "Epoch 105/1000\n",
            "1/1 [==============================] - 0s 29ms/step\n",
            "\n",
            "Validation Accuracy: 34.44444444444444 %\n"
          ]
        },
        {
          "output_type": "stream",
          "name": "stderr",
          "text": [
            "WARNING:tensorflow:Can save best model only with val_loss available, skipping.\n"
          ]
        },
        {
          "output_type": "stream",
          "name": "stdout",
          "text": [
            "\b\b\b\b\b\b\b\b\b\b\b\b\b\b\b\b\b\b\b\b\b\b\b\b\b\b\b\b\b\b\b\b\b\b\b\b\b\b\b\b\b\b\b\b\b\b\b\b\b\b\b\b\b\b\b\b\b\b\b\b\b\b\b\b\b\b\b\b\b\b\b\b\b\b\b\b\b\b\b\b\r1/1 [==============================] - 0s 183ms/step - loss: 0.9042 - accuracy: 0.7146\n",
            "Epoch 106/1000\n",
            "1/1 [==============================] - 0s 29ms/step\n",
            "\n",
            "Validation Accuracy: 35.55555555555556 %\n"
          ]
        },
        {
          "output_type": "stream",
          "name": "stderr",
          "text": [
            "WARNING:tensorflow:Can save best model only with val_loss available, skipping.\n"
          ]
        },
        {
          "output_type": "stream",
          "name": "stdout",
          "text": [
            "\b\b\b\b\b\b\b\b\b\b\b\b\b\b\b\b\b\b\b\b\b\b\b\b\b\b\b\b\b\b\b\b\b\b\b\b\b\b\b\b\b\b\b\b\b\b\b\b\b\b\b\b\b\b\b\b\b\b\b\b\b\b\b\b\b\b\b\b\b\b\b\b\b\b\b\b\b\b\b\b\r1/1 [==============================] - 0s 152ms/step - loss: 0.9088 - accuracy: 0.7112\n",
            "Epoch 107/1000\n",
            "1/1 [==============================] - 0s 28ms/step\n",
            "\n",
            "Validation Accuracy: 35.0 %\n"
          ]
        },
        {
          "output_type": "stream",
          "name": "stderr",
          "text": [
            "WARNING:tensorflow:Can save best model only with val_loss available, skipping.\n"
          ]
        },
        {
          "output_type": "stream",
          "name": "stdout",
          "text": [
            "\b\b\b\b\b\b\b\b\b\b\b\b\b\b\b\b\b\b\b\b\b\b\b\b\b\b\b\b\b\b\b\b\b\b\b\b\b\b\b\b\b\b\b\b\b\b\b\b\b\b\b\b\b\b\b\b\b\b\b\b\b\b\b\b\b\b\b\b\b\b\b\b\b\b\b\b\b\b\b\b\r1/1 [==============================] - 0s 175ms/step - loss: 0.9038 - accuracy: 0.7091\n",
            "Epoch 108/1000\n",
            "1/1 [==============================] - 0s 33ms/step\n",
            "\n",
            "Validation Accuracy: 34.44444444444444 %\n"
          ]
        },
        {
          "output_type": "stream",
          "name": "stderr",
          "text": [
            "WARNING:tensorflow:Can save best model only with val_loss available, skipping.\n"
          ]
        },
        {
          "output_type": "stream",
          "name": "stdout",
          "text": [
            "\b\b\b\b\b\b\b\b\b\b\b\b\b\b\b\b\b\b\b\b\b\b\b\b\b\b\b\b\b\b\b\b\b\b\b\b\b\b\b\b\b\b\b\b\b\b\b\b\b\b\b\b\b\b\b\b\b\b\b\b\b\b\b\b\b\b\b\b\b\b\b\b\b\b\b\b\b\b\b\b\r1/1 [==============================] - 0s 160ms/step - loss: 0.8945 - accuracy: 0.7150\n",
            "Epoch 109/1000\n",
            "1/1 [==============================] - 0s 30ms/step\n",
            "\n",
            "Validation Accuracy: 34.44444444444444 %\n"
          ]
        },
        {
          "output_type": "stream",
          "name": "stderr",
          "text": [
            "WARNING:tensorflow:Can save best model only with val_loss available, skipping.\n"
          ]
        },
        {
          "output_type": "stream",
          "name": "stdout",
          "text": [
            "\b\b\b\b\b\b\b\b\b\b\b\b\b\b\b\b\b\b\b\b\b\b\b\b\b\b\b\b\b\b\b\b\b\b\b\b\b\b\b\b\b\b\b\b\b\b\b\b\b\b\b\b\b\b\b\b\b\b\b\b\b\b\b\b\b\b\b\b\b\b\b\b\b\b\b\b\b\b\b\b\r1/1 [==============================] - 0s 156ms/step - loss: 0.9042 - accuracy: 0.7105\n",
            "Epoch 110/1000\n",
            "1/1 [==============================] - 0s 34ms/step\n",
            "\n",
            "Validation Accuracy: 32.77777777777778 %\n"
          ]
        },
        {
          "output_type": "stream",
          "name": "stderr",
          "text": [
            "WARNING:tensorflow:Can save best model only with val_loss available, skipping.\n"
          ]
        },
        {
          "output_type": "stream",
          "name": "stdout",
          "text": [
            "\b\b\b\b\b\b\b\b\b\b\b\b\b\b\b\b\b\b\b\b\b\b\b\b\b\b\b\b\b\b\b\b\b\b\b\b\b\b\b\b\b\b\b\b\b\b\b\b\b\b\b\b\b\b\b\b\b\b\b\b\b\b\b\b\b\b\b\b\b\b\b\b\b\b\b\b\b\b\b\b\r1/1 [==============================] - 0s 164ms/step - loss: 0.9008 - accuracy: 0.7115\n",
            "Epoch 111/1000\n",
            "1/1 [==============================] - 0s 29ms/step\n",
            "\n",
            "Validation Accuracy: 34.44444444444444 %\n"
          ]
        },
        {
          "output_type": "stream",
          "name": "stderr",
          "text": [
            "WARNING:tensorflow:Can save best model only with val_loss available, skipping.\n"
          ]
        },
        {
          "output_type": "stream",
          "name": "stdout",
          "text": [
            "\b\b\b\b\b\b\b\b\b\b\b\b\b\b\b\b\b\b\b\b\b\b\b\b\b\b\b\b\b\b\b\b\b\b\b\b\b\b\b\b\b\b\b\b\b\b\b\b\b\b\b\b\b\b\b\b\b\b\b\b\b\b\b\b\b\b\b\b\b\b\b\b\b\b\b\b\b\b\b\b\r1/1 [==============================] - 0s 173ms/step - loss: 0.8970 - accuracy: 0.7137\n",
            "Epoch 112/1000\n",
            "1/1 [==============================] - 0s 29ms/step\n",
            "\n",
            "Validation Accuracy: 35.0 %\n"
          ]
        },
        {
          "output_type": "stream",
          "name": "stderr",
          "text": [
            "WARNING:tensorflow:Can save best model only with val_loss available, skipping.\n"
          ]
        },
        {
          "output_type": "stream",
          "name": "stdout",
          "text": [
            "\b\b\b\b\b\b\b\b\b\b\b\b\b\b\b\b\b\b\b\b\b\b\b\b\b\b\b\b\b\b\b\b\b\b\b\b\b\b\b\b\b\b\b\b\b\b\b\b\b\b\b\b\b\b\b\b\b\b\b\b\b\b\b\b\b\b\b\b\b\b\b\b\b\b\b\b\b\b\b\b\r1/1 [==============================] - 0s 202ms/step - loss: 0.8995 - accuracy: 0.7141\n",
            "Epoch 113/1000\n",
            "1/1 [==============================] - 0s 29ms/step\n",
            "\n",
            "Validation Accuracy: 35.0 %\n"
          ]
        },
        {
          "output_type": "stream",
          "name": "stderr",
          "text": [
            "WARNING:tensorflow:Can save best model only with val_loss available, skipping.\n"
          ]
        },
        {
          "output_type": "stream",
          "name": "stdout",
          "text": [
            "\b\b\b\b\b\b\b\b\b\b\b\b\b\b\b\b\b\b\b\b\b\b\b\b\b\b\b\b\b\b\b\b\b\b\b\b\b\b\b\b\b\b\b\b\b\b\b\b\b\b\b\b\b\b\b\b\b\b\b\b\b\b\b\b\b\b\b\b\b\b\b\b\b\b\b\b\b\b\b\b\r1/1 [==============================] - 0s 186ms/step - loss: 0.9001 - accuracy: 0.7136\n",
            "Epoch 114/1000\n",
            "1/1 [==============================] - 0s 30ms/step\n",
            "\n",
            "Validation Accuracy: 35.55555555555556 %\n"
          ]
        },
        {
          "output_type": "stream",
          "name": "stderr",
          "text": [
            "WARNING:tensorflow:Can save best model only with val_loss available, skipping.\n"
          ]
        },
        {
          "output_type": "stream",
          "name": "stdout",
          "text": [
            "\b\b\b\b\b\b\b\b\b\b\b\b\b\b\b\b\b\b\b\b\b\b\b\b\b\b\b\b\b\b\b\b\b\b\b\b\b\b\b\b\b\b\b\b\b\b\b\b\b\b\b\b\b\b\b\b\b\b\b\b\b\b\b\b\b\b\b\b\b\b\b\b\b\b\b\b\b\b\b\b\r1/1 [==============================] - 0s 165ms/step - loss: 0.8929 - accuracy: 0.7125\n",
            "Epoch 115/1000\n",
            "1/1 [==============================] - 0s 33ms/step\n",
            "\n",
            "Validation Accuracy: 33.88888888888889 %\n"
          ]
        },
        {
          "output_type": "stream",
          "name": "stderr",
          "text": [
            "WARNING:tensorflow:Can save best model only with val_loss available, skipping.\n"
          ]
        },
        {
          "output_type": "stream",
          "name": "stdout",
          "text": [
            "\b\b\b\b\b\b\b\b\b\b\b\b\b\b\b\b\b\b\b\b\b\b\b\b\b\b\b\b\b\b\b\b\b\b\b\b\b\b\b\b\b\b\b\b\b\b\b\b\b\b\b\b\b\b\b\b\b\b\b\b\b\b\b\b\b\b\b\b\b\b\b\b\b\b\b\b\b\b\b\b\r1/1 [==============================] - 0s 171ms/step - loss: 0.8984 - accuracy: 0.7127\n",
            "Epoch 116/1000\n",
            "1/1 [==============================] - 0s 22ms/step\n",
            "\n",
            "Validation Accuracy: 34.44444444444444 %\n"
          ]
        },
        {
          "output_type": "stream",
          "name": "stderr",
          "text": [
            "WARNING:tensorflow:Can save best model only with val_loss available, skipping.\n"
          ]
        },
        {
          "output_type": "stream",
          "name": "stdout",
          "text": [
            "\b\b\b\b\b\b\b\b\b\b\b\b\b\b\b\b\b\b\b\b\b\b\b\b\b\b\b\b\b\b\b\b\b\b\b\b\b\b\b\b\b\b\b\b\b\b\b\b\b\b\b\b\b\b\b\b\b\b\b\b\b\b\b\b\b\b\b\b\b\b\b\b\b\b\b\b\b\b\b\b\r1/1 [==============================] - 0s 147ms/step - loss: 0.8870 - accuracy: 0.7207\n",
            "Epoch 117/1000\n",
            "1/1 [==============================] - 0s 21ms/step\n",
            "\n",
            "Validation Accuracy: 36.11111111111111 %\n"
          ]
        },
        {
          "output_type": "stream",
          "name": "stderr",
          "text": [
            "WARNING:tensorflow:Can save best model only with val_loss available, skipping.\n"
          ]
        },
        {
          "output_type": "stream",
          "name": "stdout",
          "text": [
            "\b\b\b\b\b\b\b\b\b\b\b\b\b\b\b\b\b\b\b\b\b\b\b\b\b\b\b\b\b\b\b\b\b\b\b\b\b\b\b\b\b\b\b\b\b\b\b\b\b\b\b\b\b\b\b\b\b\b\b\b\b\b\b\b\b\b\b\b\b\b\b\b\b\b\b\b\b\b\b\b\r1/1 [==============================] - 0s 128ms/step - loss: 0.8993 - accuracy: 0.7136\n",
            "Epoch 118/1000\n",
            "1/1 [==============================] - 0s 20ms/step\n",
            "\n",
            "Validation Accuracy: 35.55555555555556 %\n"
          ]
        },
        {
          "output_type": "stream",
          "name": "stderr",
          "text": [
            "WARNING:tensorflow:Can save best model only with val_loss available, skipping.\n"
          ]
        },
        {
          "output_type": "stream",
          "name": "stdout",
          "text": [
            "\b\b\b\b\b\b\b\b\b\b\b\b\b\b\b\b\b\b\b\b\b\b\b\b\b\b\b\b\b\b\b\b\b\b\b\b\b\b\b\b\b\b\b\b\b\b\b\b\b\b\b\b\b\b\b\b\b\b\b\b\b\b\b\b\b\b\b\b\b\b\b\b\b\b\b\b\b\b\b\b\r1/1 [==============================] - 0s 126ms/step - loss: 0.8896 - accuracy: 0.7203\n",
            "Epoch 119/1000\n",
            "1/1 [==============================] - 0s 24ms/step\n",
            "\n",
            "Validation Accuracy: 34.44444444444444 %\n"
          ]
        },
        {
          "output_type": "stream",
          "name": "stderr",
          "text": [
            "WARNING:tensorflow:Can save best model only with val_loss available, skipping.\n"
          ]
        },
        {
          "output_type": "stream",
          "name": "stdout",
          "text": [
            "\b\b\b\b\b\b\b\b\b\b\b\b\b\b\b\b\b\b\b\b\b\b\b\b\b\b\b\b\b\b\b\b\b\b\b\b\b\b\b\b\b\b\b\b\b\b\b\b\b\b\b\b\b\b\b\b\b\b\b\b\b\b\b\b\b\b\b\b\b\b\b\b\b\b\b\b\b\b\b\b\r1/1 [==============================] - 0s 129ms/step - loss: 0.8907 - accuracy: 0.7207\n",
            "Epoch 120/1000\n",
            "1/1 [==============================] - 0s 20ms/step\n",
            "\n",
            "Validation Accuracy: 35.55555555555556 %\n"
          ]
        },
        {
          "output_type": "stream",
          "name": "stderr",
          "text": [
            "WARNING:tensorflow:Can save best model only with val_loss available, skipping.\n"
          ]
        },
        {
          "output_type": "stream",
          "name": "stdout",
          "text": [
            "\b\b\b\b\b\b\b\b\b\b\b\b\b\b\b\b\b\b\b\b\b\b\b\b\b\b\b\b\b\b\b\b\b\b\b\b\b\b\b\b\b\b\b\b\b\b\b\b\b\b\b\b\b\b\b\b\b\b\b\b\b\b\b\b\b\b\b\b\b\b\b\b\b\b\b\b\b\b\b\b\r1/1 [==============================] - 0s 123ms/step - loss: 0.8992 - accuracy: 0.7125\n",
            "Epoch 121/1000\n",
            "1/1 [==============================] - 0s 22ms/step\n",
            "\n",
            "Validation Accuracy: 35.0 %\n"
          ]
        },
        {
          "output_type": "stream",
          "name": "stderr",
          "text": [
            "WARNING:tensorflow:Can save best model only with val_loss available, skipping.\n"
          ]
        },
        {
          "output_type": "stream",
          "name": "stdout",
          "text": [
            "\b\b\b\b\b\b\b\b\b\b\b\b\b\b\b\b\b\b\b\b\b\b\b\b\b\b\b\b\b\b\b\b\b\b\b\b\b\b\b\b\b\b\b\b\b\b\b\b\b\b\b\b\b\b\b\b\b\b\b\b\b\b\b\b\b\b\b\b\b\b\b\b\b\b\b\b\b\b\b\b\r1/1 [==============================] - 0s 136ms/step - loss: 0.8864 - accuracy: 0.7209\n",
            "Epoch 122/1000\n",
            "1/1 [==============================] - 0s 19ms/step\n",
            "\n",
            "Validation Accuracy: 36.11111111111111 %\n"
          ]
        },
        {
          "output_type": "stream",
          "name": "stderr",
          "text": [
            "WARNING:tensorflow:Can save best model only with val_loss available, skipping.\n"
          ]
        },
        {
          "output_type": "stream",
          "name": "stdout",
          "text": [
            "\b\b\b\b\b\b\b\b\b\b\b\b\b\b\b\b\b\b\b\b\b\b\b\b\b\b\b\b\b\b\b\b\b\b\b\b\b\b\b\b\b\b\b\b\b\b\b\b\b\b\b\b\b\b\b\b\b\b\b\b\b\b\b\b\b\b\b\b\b\b\b\b\b\b\b\b\b\b\b\b\r1/1 [==============================] - 0s 124ms/step - loss: 0.8782 - accuracy: 0.7195\n",
            "Epoch 123/1000\n",
            "1/1 [==============================] - 0s 20ms/step\n",
            "\n",
            "Validation Accuracy: 35.55555555555556 %\n"
          ]
        },
        {
          "output_type": "stream",
          "name": "stderr",
          "text": [
            "WARNING:tensorflow:Can save best model only with val_loss available, skipping.\n"
          ]
        },
        {
          "output_type": "stream",
          "name": "stdout",
          "text": [
            "\b\b\b\b\b\b\b\b\b\b\b\b\b\b\b\b\b\b\b\b\b\b\b\b\b\b\b\b\b\b\b\b\b\b\b\b\b\b\b\b\b\b\b\b\b\b\b\b\b\b\b\b\b\b\b\b\b\b\b\b\b\b\b\b\b\b\b\b\b\b\b\b\b\b\b\b\b\b\b\b\r1/1 [==============================] - 0s 134ms/step - loss: 0.8852 - accuracy: 0.7167\n",
            "Epoch 124/1000\n",
            "1/1 [==============================] - 0s 19ms/step\n",
            "\n",
            "Validation Accuracy: 34.44444444444444 %\n"
          ]
        },
        {
          "output_type": "stream",
          "name": "stderr",
          "text": [
            "WARNING:tensorflow:Can save best model only with val_loss available, skipping.\n"
          ]
        },
        {
          "output_type": "stream",
          "name": "stdout",
          "text": [
            "\b\b\b\b\b\b\b\b\b\b\b\b\b\b\b\b\b\b\b\b\b\b\b\b\b\b\b\b\b\b\b\b\b\b\b\b\b\b\b\b\b\b\b\b\b\b\b\b\b\b\b\b\b\b\b\b\b\b\b\b\b\b\b\b\b\b\b\b\b\b\b\b\b\b\b\b\b\b\b\b\r1/1 [==============================] - 0s 125ms/step - loss: 0.8814 - accuracy: 0.7199\n",
            "Epoch 125/1000\n",
            "1/1 [==============================] - 0s 22ms/step\n",
            "\n",
            "Validation Accuracy: 34.44444444444444 %\n"
          ]
        },
        {
          "output_type": "stream",
          "name": "stderr",
          "text": [
            "WARNING:tensorflow:Can save best model only with val_loss available, skipping.\n"
          ]
        },
        {
          "output_type": "stream",
          "name": "stdout",
          "text": [
            "\b\b\b\b\b\b\b\b\b\b\b\b\b\b\b\b\b\b\b\b\b\b\b\b\b\b\b\b\b\b\b\b\b\b\b\b\b\b\b\b\b\b\b\b\b\b\b\b\b\b\b\b\b\b\b\b\b\b\b\b\b\b\b\b\b\b\b\b\b\b\b\b\b\b\b\b\b\b\b\b\r1/1 [==============================] - 0s 123ms/step - loss: 0.8833 - accuracy: 0.7168\n",
            "Epoch 126/1000\n",
            "1/1 [==============================] - 0s 21ms/step\n",
            "\n",
            "Validation Accuracy: 35.0 %\n"
          ]
        },
        {
          "output_type": "stream",
          "name": "stderr",
          "text": [
            "WARNING:tensorflow:Can save best model only with val_loss available, skipping.\n"
          ]
        },
        {
          "output_type": "stream",
          "name": "stdout",
          "text": [
            "\b\b\b\b\b\b\b\b\b\b\b\b\b\b\b\b\b\b\b\b\b\b\b\b\b\b\b\b\b\b\b\b\b\b\b\b\b\b\b\b\b\b\b\b\b\b\b\b\b\b\b\b\b\b\b\b\b\b\b\b\b\b\b\b\b\b\b\b\b\b\b\b\b\b\b\b\b\b\b\b\r1/1 [==============================] - 0s 128ms/step - loss: 0.8773 - accuracy: 0.7188\n",
            "Epoch 127/1000\n",
            "1/1 [==============================] - 0s 19ms/step\n",
            "\n",
            "Validation Accuracy: 33.88888888888889 %\n"
          ]
        },
        {
          "output_type": "stream",
          "name": "stderr",
          "text": [
            "WARNING:tensorflow:Can save best model only with val_loss available, skipping.\n"
          ]
        },
        {
          "output_type": "stream",
          "name": "stdout",
          "text": [
            "\b\b\b\b\b\b\b\b\b\b\b\b\b\b\b\b\b\b\b\b\b\b\b\b\b\b\b\b\b\b\b\b\b\b\b\b\b\b\b\b\b\b\b\b\b\b\b\b\b\b\b\b\b\b\b\b\b\b\b\b\b\b\b\b\b\b\b\b\b\b\b\b\b\b\b\b\b\b\b\b\r1/1 [==============================] - 0s 126ms/step - loss: 0.8697 - accuracy: 0.7238\n",
            "Epoch 128/1000\n",
            "1/1 [==============================] - 0s 23ms/step\n",
            "\n",
            "Validation Accuracy: 33.33333333333333 %\n"
          ]
        },
        {
          "output_type": "stream",
          "name": "stderr",
          "text": [
            "WARNING:tensorflow:Can save best model only with val_loss available, skipping.\n"
          ]
        },
        {
          "output_type": "stream",
          "name": "stdout",
          "text": [
            "\b\b\b\b\b\b\b\b\b\b\b\b\b\b\b\b\b\b\b\b\b\b\b\b\b\b\b\b\b\b\b\b\b\b\b\b\b\b\b\b\b\b\b\b\b\b\b\b\b\b\b\b\b\b\b\b\b\b\b\b\b\b\b\b\b\b\b\b\b\b\b\b\b\b\b\b\b\b\b\b\r1/1 [==============================] - 0s 130ms/step - loss: 0.8796 - accuracy: 0.7181\n",
            "Epoch 129/1000\n",
            "1/1 [==============================] - 0s 22ms/step\n",
            "\n",
            "Validation Accuracy: 35.0 %\n"
          ]
        },
        {
          "output_type": "stream",
          "name": "stderr",
          "text": [
            "WARNING:tensorflow:Can save best model only with val_loss available, skipping.\n"
          ]
        },
        {
          "output_type": "stream",
          "name": "stdout",
          "text": [
            "\b\b\b\b\b\b\b\b\b\b\b\b\b\b\b\b\b\b\b\b\b\b\b\b\b\b\b\b\b\b\b\b\b\b\b\b\b\b\b\b\b\b\b\b\b\b\b\b\b\b\b\b\b\b\b\b\b\b\b\b\b\b\b\b\b\b\b\b\b\b\b\b\b\b\b\b\b\b\b\b\r1/1 [==============================] - 0s 129ms/step - loss: 0.8826 - accuracy: 0.7207\n",
            "Epoch 130/1000\n",
            "1/1 [==============================] - 0s 25ms/step\n",
            "\n",
            "Validation Accuracy: 35.0 %\n"
          ]
        },
        {
          "output_type": "stream",
          "name": "stderr",
          "text": [
            "WARNING:tensorflow:Can save best model only with val_loss available, skipping.\n"
          ]
        },
        {
          "output_type": "stream",
          "name": "stdout",
          "text": [
            "\b\b\b\b\b\b\b\b\b\b\b\b\b\b\b\b\b\b\b\b\b\b\b\b\b\b\b\b\b\b\b\b\b\b\b\b\b\b\b\b\b\b\b\b\b\b\b\b\b\b\b\b\b\b\b\b\b\b\b\b\b\b\b\b\b\b\b\b\b\b\b\b\b\b\b\b\b\b\b\b\r1/1 [==============================] - 0s 151ms/step - loss: 0.8822 - accuracy: 0.7193\n",
            "Epoch 131/1000\n",
            "1/1 [==============================] - 0s 22ms/step\n",
            "\n",
            "Validation Accuracy: 34.44444444444444 %\n"
          ]
        },
        {
          "output_type": "stream",
          "name": "stderr",
          "text": [
            "WARNING:tensorflow:Can save best model only with val_loss available, skipping.\n"
          ]
        },
        {
          "output_type": "stream",
          "name": "stdout",
          "text": [
            "\b\b\b\b\b\b\b\b\b\b\b\b\b\b\b\b\b\b\b\b\b\b\b\b\b\b\b\b\b\b\b\b\b\b\b\b\b\b\b\b\b\b\b\b\b\b\b\b\b\b\b\b\b\b\b\b\b\b\b\b\b\b\b\b\b\b\b\b\b\b\b\b\b\b\b\b\b\b\b\b\r1/1 [==============================] - 0s 129ms/step - loss: 0.8752 - accuracy: 0.7203\n",
            "Epoch 132/1000\n",
            "1/1 [==============================] - 0s 20ms/step\n",
            "\n",
            "Validation Accuracy: 34.44444444444444 %\n"
          ]
        },
        {
          "output_type": "stream",
          "name": "stderr",
          "text": [
            "WARNING:tensorflow:Can save best model only with val_loss available, skipping.\n"
          ]
        },
        {
          "output_type": "stream",
          "name": "stdout",
          "text": [
            "\b\b\b\b\b\b\b\b\b\b\b\b\b\b\b\b\b\b\b\b\b\b\b\b\b\b\b\b\b\b\b\b\b\b\b\b\b\b\b\b\b\b\b\b\b\b\b\b\b\b\b\b\b\b\b\b\b\b\b\b\b\b\b\b\b\b\b\b\b\b\b\b\b\b\b\b\b\b\b\b\r1/1 [==============================] - 0s 135ms/step - loss: 0.8736 - accuracy: 0.7207\n",
            "Epoch 133/1000\n",
            "1/1 [==============================] - 0s 19ms/step\n",
            "\n",
            "Validation Accuracy: 35.55555555555556 %\n"
          ]
        },
        {
          "output_type": "stream",
          "name": "stderr",
          "text": [
            "WARNING:tensorflow:Can save best model only with val_loss available, skipping.\n"
          ]
        },
        {
          "output_type": "stream",
          "name": "stdout",
          "text": [
            "\b\b\b\b\b\b\b\b\b\b\b\b\b\b\b\b\b\b\b\b\b\b\b\b\b\b\b\b\b\b\b\b\b\b\b\b\b\b\b\b\b\b\b\b\b\b\b\b\b\b\b\b\b\b\b\b\b\b\b\b\b\b\b\b\b\b\b\b\b\b\b\b\b\b\b\b\b\b\b\b\r1/1 [==============================] - 0s 122ms/step - loss: 0.8810 - accuracy: 0.7200\n",
            "Epoch 134/1000\n",
            "1/1 [==============================] - 0s 22ms/step\n",
            "\n",
            "Validation Accuracy: 35.55555555555556 %\n"
          ]
        },
        {
          "output_type": "stream",
          "name": "stderr",
          "text": [
            "WARNING:tensorflow:Can save best model only with val_loss available, skipping.\n"
          ]
        },
        {
          "output_type": "stream",
          "name": "stdout",
          "text": [
            "\b\b\b\b\b\b\b\b\b\b\b\b\b\b\b\b\b\b\b\b\b\b\b\b\b\b\b\b\b\b\b\b\b\b\b\b\b\b\b\b\b\b\b\b\b\b\b\b\b\b\b\b\b\b\b\b\b\b\b\b\b\b\b\b\b\b\b\b\b\b\b\b\b\b\b\b\b\b\b\b\r1/1 [==============================] - 0s 123ms/step - loss: 0.8706 - accuracy: 0.7270\n",
            "Epoch 135/1000\n",
            "1/1 [==============================] - 0s 20ms/step\n",
            "\n",
            "Validation Accuracy: 34.44444444444444 %\n"
          ]
        },
        {
          "output_type": "stream",
          "name": "stderr",
          "text": [
            "WARNING:tensorflow:Can save best model only with val_loss available, skipping.\n"
          ]
        },
        {
          "output_type": "stream",
          "name": "stdout",
          "text": [
            "\b\b\b\b\b\b\b\b\b\b\b\b\b\b\b\b\b\b\b\b\b\b\b\b\b\b\b\b\b\b\b\b\b\b\b\b\b\b\b\b\b\b\b\b\b\b\b\b\b\b\b\b\b\b\b\b\b\b\b\b\b\b\b\b\b\b\b\b\b\b\b\b\b\b\b\b\b\b\b\b\r1/1 [==============================] - 0s 121ms/step - loss: 0.8649 - accuracy: 0.7261\n",
            "Epoch 136/1000\n",
            "1/1 [==============================] - 0s 23ms/step\n",
            "\n",
            "Validation Accuracy: 34.44444444444444 %\n"
          ]
        },
        {
          "output_type": "stream",
          "name": "stderr",
          "text": [
            "WARNING:tensorflow:Can save best model only with val_loss available, skipping.\n"
          ]
        },
        {
          "output_type": "stream",
          "name": "stdout",
          "text": [
            "\b\b\b\b\b\b\b\b\b\b\b\b\b\b\b\b\b\b\b\b\b\b\b\b\b\b\b\b\b\b\b\b\b\b\b\b\b\b\b\b\b\b\b\b\b\b\b\b\b\b\b\b\b\b\b\b\b\b\b\b\b\b\b\b\b\b\b\b\b\b\b\b\b\b\b\b\b\b\b\b\r1/1 [==============================] - 0s 137ms/step - loss: 0.8671 - accuracy: 0.7199\n",
            "Epoch 137/1000\n",
            "1/1 [==============================] - 0s 20ms/step\n",
            "\n",
            "Validation Accuracy: 35.55555555555556 %\n"
          ]
        },
        {
          "output_type": "stream",
          "name": "stderr",
          "text": [
            "WARNING:tensorflow:Can save best model only with val_loss available, skipping.\n"
          ]
        },
        {
          "output_type": "stream",
          "name": "stdout",
          "text": [
            "\b\b\b\b\b\b\b\b\b\b\b\b\b\b\b\b\b\b\b\b\b\b\b\b\b\b\b\b\b\b\b\b\b\b\b\b\b\b\b\b\b\b\b\b\b\b\b\b\b\b\b\b\b\b\b\b\b\b\b\b\b\b\b\b\b\b\b\b\b\b\b\b\b\b\b\b\b\b\b\b\r1/1 [==============================] - 0s 137ms/step - loss: 0.8658 - accuracy: 0.7206\n",
            "Epoch 138/1000\n",
            "1/1 [==============================] - 0s 22ms/step\n",
            "\n",
            "Validation Accuracy: 35.0 %\n"
          ]
        },
        {
          "output_type": "stream",
          "name": "stderr",
          "text": [
            "WARNING:tensorflow:Can save best model only with val_loss available, skipping.\n"
          ]
        },
        {
          "output_type": "stream",
          "name": "stdout",
          "text": [
            "\b\b\b\b\b\b\b\b\b\b\b\b\b\b\b\b\b\b\b\b\b\b\b\b\b\b\b\b\b\b\b\b\b\b\b\b\b\b\b\b\b\b\b\b\b\b\b\b\b\b\b\b\b\b\b\b\b\b\b\b\b\b\b\b\b\b\b\b\b\b\b\b\b\b\b\b\b\b\b\b\r1/1 [==============================] - 0s 125ms/step - loss: 0.8736 - accuracy: 0.7221\n",
            "Epoch 139/1000\n",
            "1/1 [==============================] - 0s 19ms/step\n",
            "\n",
            "Validation Accuracy: 34.44444444444444 %\n"
          ]
        },
        {
          "output_type": "stream",
          "name": "stderr",
          "text": [
            "WARNING:tensorflow:Can save best model only with val_loss available, skipping.\n"
          ]
        },
        {
          "output_type": "stream",
          "name": "stdout",
          "text": [
            "\b\b\b\b\b\b\b\b\b\b\b\b\b\b\b\b\b\b\b\b\b\b\b\b\b\b\b\b\b\b\b\b\b\b\b\b\b\b\b\b\b\b\b\b\b\b\b\b\b\b\b\b\b\b\b\b\b\b\b\b\b\b\b\b\b\b\b\b\b\b\b\b\b\b\b\b\b\b\b\b\r1/1 [==============================] - 0s 128ms/step - loss: 0.8587 - accuracy: 0.7290\n",
            "Epoch 140/1000\n",
            "1/1 [==============================] - 0s 21ms/step\n",
            "\n",
            "Validation Accuracy: 34.44444444444444 %\n"
          ]
        },
        {
          "output_type": "stream",
          "name": "stderr",
          "text": [
            "WARNING:tensorflow:Can save best model only with val_loss available, skipping.\n"
          ]
        },
        {
          "output_type": "stream",
          "name": "stdout",
          "text": [
            "\b\b\b\b\b\b\b\b\b\b\b\b\b\b\b\b\b\b\b\b\b\b\b\b\b\b\b\b\b\b\b\b\b\b\b\b\b\b\b\b\b\b\b\b\b\b\b\b\b\b\b\b\b\b\b\b\b\b\b\b\b\b\b\b\b\b\b\b\b\b\b\b\b\b\b\b\b\b\b\b\r1/1 [==============================] - 0s 118ms/step - loss: 0.8624 - accuracy: 0.7269\n",
            "Epoch 141/1000\n",
            "1/1 [==============================] - 0s 23ms/step\n",
            "\n",
            "Validation Accuracy: 35.0 %\n"
          ]
        },
        {
          "output_type": "stream",
          "name": "stderr",
          "text": [
            "WARNING:tensorflow:Can save best model only with val_loss available, skipping.\n"
          ]
        },
        {
          "output_type": "stream",
          "name": "stdout",
          "text": [
            "\b\b\b\b\b\b\b\b\b\b\b\b\b\b\b\b\b\b\b\b\b\b\b\b\b\b\b\b\b\b\b\b\b\b\b\b\b\b\b\b\b\b\b\b\b\b\b\b\b\b\b\b\b\b\b\b\b\b\b\b\b\b\b\b\b\b\b\b\b\b\b\b\b\b\b\b\b\b\b\b\r1/1 [==============================] - 0s 127ms/step - loss: 0.8550 - accuracy: 0.7311\n",
            "Epoch 142/1000\n",
            "1/1 [==============================] - 0s 18ms/step\n",
            "\n",
            "Validation Accuracy: 34.44444444444444 %\n"
          ]
        },
        {
          "output_type": "stream",
          "name": "stderr",
          "text": [
            "WARNING:tensorflow:Can save best model only with val_loss available, skipping.\n"
          ]
        },
        {
          "output_type": "stream",
          "name": "stdout",
          "text": [
            "\b\b\b\b\b\b\b\b\b\b\b\b\b\b\b\b\b\b\b\b\b\b\b\b\b\b\b\b\b\b\b\b\b\b\b\b\b\b\b\b\b\b\b\b\b\b\b\b\b\b\b\b\b\b\b\b\b\b\b\b\b\b\b\b\b\b\b\b\b\b\b\b\b\b\b\b\b\b\b\b\r1/1 [==============================] - 0s 118ms/step - loss: 0.8582 - accuracy: 0.7252\n",
            "Epoch 143/1000\n",
            "1/1 [==============================] - 0s 19ms/step\n",
            "\n",
            "Validation Accuracy: 34.44444444444444 %\n"
          ]
        },
        {
          "output_type": "stream",
          "name": "stderr",
          "text": [
            "WARNING:tensorflow:Can save best model only with val_loss available, skipping.\n"
          ]
        },
        {
          "output_type": "stream",
          "name": "stdout",
          "text": [
            "\b\b\b\b\b\b\b\b\b\b\b\b\b\b\b\b\b\b\b\b\b\b\b\b\b\b\b\b\b\b\b\b\b\b\b\b\b\b\b\b\b\b\b\b\b\b\b\b\b\b\b\b\b\b\b\b\b\b\b\b\b\b\b\b\b\b\b\b\b\b\b\b\b\b\b\b\b\b\b\b\r1/1 [==============================] - 0s 122ms/step - loss: 0.8685 - accuracy: 0.7255\n",
            "Epoch 144/1000\n",
            "1/1 [==============================] - 0s 19ms/step\n",
            "\n",
            "Validation Accuracy: 34.44444444444444 %\n"
          ]
        },
        {
          "output_type": "stream",
          "name": "stderr",
          "text": [
            "WARNING:tensorflow:Can save best model only with val_loss available, skipping.\n"
          ]
        },
        {
          "output_type": "stream",
          "name": "stdout",
          "text": [
            "\b\b\b\b\b\b\b\b\b\b\b\b\b\b\b\b\b\b\b\b\b\b\b\b\b\b\b\b\b\b\b\b\b\b\b\b\b\b\b\b\b\b\b\b\b\b\b\b\b\b\b\b\b\b\b\b\b\b\b\b\b\b\b\b\b\b\b\b\b\b\b\b\b\b\b\b\b\b\b\b\r1/1 [==============================] - 0s 123ms/step - loss: 0.8525 - accuracy: 0.7256\n",
            "Epoch 145/1000\n",
            "1/1 [==============================] - 0s 21ms/step\n",
            "\n",
            "Validation Accuracy: 33.88888888888889 %\n"
          ]
        },
        {
          "output_type": "stream",
          "name": "stderr",
          "text": [
            "WARNING:tensorflow:Can save best model only with val_loss available, skipping.\n"
          ]
        },
        {
          "output_type": "stream",
          "name": "stdout",
          "text": [
            "\b\b\b\b\b\b\b\b\b\b\b\b\b\b\b\b\b\b\b\b\b\b\b\b\b\b\b\b\b\b\b\b\b\b\b\b\b\b\b\b\b\b\b\b\b\b\b\b\b\b\b\b\b\b\b\b\b\b\b\b\b\b\b\b\b\b\b\b\b\b\b\b\b\b\b\b\b\b\b\b\r1/1 [==============================] - 0s 123ms/step - loss: 0.8446 - accuracy: 0.7303\n",
            "Epoch 146/1000\n",
            "1/1 [==============================] - 0s 19ms/step\n",
            "\n",
            "Validation Accuracy: 33.88888888888889 %\n"
          ]
        },
        {
          "output_type": "stream",
          "name": "stderr",
          "text": [
            "WARNING:tensorflow:Can save best model only with val_loss available, skipping.\n"
          ]
        },
        {
          "output_type": "stream",
          "name": "stdout",
          "text": [
            "\b\b\b\b\b\b\b\b\b\b\b\b\b\b\b\b\b\b\b\b\b\b\b\b\b\b\b\b\b\b\b\b\b\b\b\b\b\b\b\b\b\b\b\b\b\b\b\b\b\b\b\b\b\b\b\b\b\b\b\b\b\b\b\b\b\b\b\b\b\b\b\b\b\b\b\b\b\b\b\b\r1/1 [==============================] - 0s 136ms/step - loss: 0.8552 - accuracy: 0.7249\n",
            "Epoch 147/1000\n",
            "1/1 [==============================] - 0s 20ms/step\n",
            "\n",
            "Validation Accuracy: 33.33333333333333 %\n"
          ]
        },
        {
          "output_type": "stream",
          "name": "stderr",
          "text": [
            "WARNING:tensorflow:Can save best model only with val_loss available, skipping.\n"
          ]
        },
        {
          "output_type": "stream",
          "name": "stdout",
          "text": [
            "\b\b\b\b\b\b\b\b\b\b\b\b\b\b\b\b\b\b\b\b\b\b\b\b\b\b\b\b\b\b\b\b\b\b\b\b\b\b\b\b\b\b\b\b\b\b\b\b\b\b\b\b\b\b\b\b\b\b\b\b\b\b\b\b\b\b\b\b\b\b\b\b\b\b\b\b\b\b\b\b\r1/1 [==============================] - 0s 134ms/step - loss: 0.8674 - accuracy: 0.7197\n",
            "Epoch 148/1000\n",
            "1/1 [==============================] - 0s 20ms/step\n",
            "\n",
            "Validation Accuracy: 33.33333333333333 %\n"
          ]
        },
        {
          "output_type": "stream",
          "name": "stderr",
          "text": [
            "WARNING:tensorflow:Can save best model only with val_loss available, skipping.\n"
          ]
        },
        {
          "output_type": "stream",
          "name": "stdout",
          "text": [
            "\b\b\b\b\b\b\b\b\b\b\b\b\b\b\b\b\b\b\b\b\b\b\b\b\b\b\b\b\b\b\b\b\b\b\b\b\b\b\b\b\b\b\b\b\b\b\b\b\b\b\b\b\b\b\b\b\b\b\b\b\b\b\b\b\b\b\b\b\b\b\b\b\b\b\b\b\b\b\b\b\r1/1 [==============================] - 0s 125ms/step - loss: 0.8518 - accuracy: 0.7269\n",
            "Epoch 149/1000\n",
            "1/1 [==============================] - 0s 19ms/step\n",
            "\n",
            "Validation Accuracy: 34.44444444444444 %\n"
          ]
        },
        {
          "output_type": "stream",
          "name": "stderr",
          "text": [
            "WARNING:tensorflow:Can save best model only with val_loss available, skipping.\n"
          ]
        },
        {
          "output_type": "stream",
          "name": "stdout",
          "text": [
            "\b\b\b\b\b\b\b\b\b\b\b\b\b\b\b\b\b\b\b\b\b\b\b\b\b\b\b\b\b\b\b\b\b\b\b\b\b\b\b\b\b\b\b\b\b\b\b\b\b\b\b\b\b\b\b\b\b\b\b\b\b\b\b\b\b\b\b\b\b\b\b\b\b\b\b\b\b\b\b\b\r1/1 [==============================] - 0s 124ms/step - loss: 0.8631 - accuracy: 0.7289\n",
            "Epoch 150/1000\n",
            "1/1 [==============================] - 0s 21ms/step\n",
            "\n",
            "Validation Accuracy: 35.0 %\n"
          ]
        },
        {
          "output_type": "stream",
          "name": "stderr",
          "text": [
            "WARNING:tensorflow:Can save best model only with val_loss available, skipping.\n"
          ]
        },
        {
          "output_type": "stream",
          "name": "stdout",
          "text": [
            "\b\b\b\b\b\b\b\b\b\b\b\b\b\b\b\b\b\b\b\b\b\b\b\b\b\b\b\b\b\b\b\b\b\b\b\b\b\b\b\b\b\b\b\b\b\b\b\b\b\b\b\b\b\b\b\b\b\b\b\b\b\b\b\b\b\b\b\b\b\b\b\b\b\b\b\b\b\b\b\b\r1/1 [==============================] - 0s 125ms/step - loss: 0.8439 - accuracy: 0.7296\n",
            "Epoch 151/1000\n",
            "1/1 [==============================] - 0s 19ms/step\n",
            "\n",
            "Validation Accuracy: 33.33333333333333 %\n"
          ]
        },
        {
          "output_type": "stream",
          "name": "stderr",
          "text": [
            "WARNING:tensorflow:Can save best model only with val_loss available, skipping.\n"
          ]
        },
        {
          "output_type": "stream",
          "name": "stdout",
          "text": [
            "\b\b\b\b\b\b\b\b\b\b\b\b\b\b\b\b\b\b\b\b\b\b\b\b\b\b\b\b\b\b\b\b\b\b\b\b\b\b\b\b\b\b\b\b\b\b\b\b\b\b\b\b\b\b\b\b\b\b\b\b\b\b\b\b\b\b\b\b\b\b\b\b\b\b\b\b\b\b\b\b\r1/1 [==============================] - 0s 123ms/step - loss: 0.8529 - accuracy: 0.7310\n",
            "Epoch 152/1000\n",
            "1/1 [==============================] - 0s 22ms/step\n",
            "\n",
            "Validation Accuracy: 33.88888888888889 %\n"
          ]
        },
        {
          "output_type": "stream",
          "name": "stderr",
          "text": [
            "WARNING:tensorflow:Can save best model only with val_loss available, skipping.\n"
          ]
        },
        {
          "output_type": "stream",
          "name": "stdout",
          "text": [
            "\b\b\b\b\b\b\b\b\b\b\b\b\b\b\b\b\b\b\b\b\b\b\b\b\b\b\b\b\b\b\b\b\b\b\b\b\b\b\b\b\b\b\b\b\b\b\b\b\b\b\b\b\b\b\b\b\b\b\b\b\b\b\b\b\b\b\b\b\b\b\b\b\b\b\b\b\b\b\b\b\r1/1 [==============================] - 0s 138ms/step - loss: 0.8466 - accuracy: 0.7303\n",
            "Epoch 153/1000\n",
            "1/1 [==============================] - 0s 19ms/step\n",
            "\n",
            "Validation Accuracy: 33.88888888888889 %\n"
          ]
        },
        {
          "output_type": "stream",
          "name": "stderr",
          "text": [
            "WARNING:tensorflow:Can save best model only with val_loss available, skipping.\n"
          ]
        },
        {
          "output_type": "stream",
          "name": "stdout",
          "text": [
            "\b\b\b\b\b\b\b\b\b\b\b\b\b\b\b\b\b\b\b\b\b\b\b\b\b\b\b\b\b\b\b\b\b\b\b\b\b\b\b\b\b\b\b\b\b\b\b\b\b\b\b\b\b\b\b\b\b\b\b\b\b\b\b\b\b\b\b\b\b\b\b\b\b\b\b\b\b\b\b\b\r1/1 [==============================] - 0s 122ms/step - loss: 0.8372 - accuracy: 0.7342\n",
            "Epoch 154/1000\n",
            "1/1 [==============================] - 0s 21ms/step\n",
            "\n",
            "Validation Accuracy: 33.88888888888889 %\n"
          ]
        },
        {
          "output_type": "stream",
          "name": "stderr",
          "text": [
            "WARNING:tensorflow:Can save best model only with val_loss available, skipping.\n"
          ]
        },
        {
          "output_type": "stream",
          "name": "stdout",
          "text": [
            "\b\b\b\b\b\b\b\b\b\b\b\b\b\b\b\b\b\b\b\b\b\b\b\b\b\b\b\b\b\b\b\b\b\b\b\b\b\b\b\b\b\b\b\b\b\b\b\b\b\b\b\b\b\b\b\b\b\b\b\b\b\b\b\b\b\b\b\b\b\b\b\b\b\b\b\b\b\b\b\b\r1/1 [==============================] - 0s 124ms/step - loss: 0.8447 - accuracy: 0.7272\n",
            "Epoch 155/1000\n",
            "1/1 [==============================] - 0s 19ms/step\n",
            "\n",
            "Validation Accuracy: 36.11111111111111 %\n"
          ]
        },
        {
          "output_type": "stream",
          "name": "stderr",
          "text": [
            "WARNING:tensorflow:Can save best model only with val_loss available, skipping.\n"
          ]
        },
        {
          "output_type": "stream",
          "name": "stdout",
          "text": [
            "\b\b\b\b\b\b\b\b\b\b\b\b\b\b\b\b\b\b\b\b\b\b\b\b\b\b\b\b\b\b\b\b\b\b\b\b\b\b\b\b\b\b\b\b\b\b\b\b\b\b\b\b\b\b\b\b\b\b\b\b\b\b\b\b\b\b\b\b\b\b\b\b\b\b\b\b\b\b\b\b\r1/1 [==============================] - 0s 123ms/step - loss: 0.8370 - accuracy: 0.7357\n",
            "Epoch 156/1000\n",
            "1/1 [==============================] - 0s 20ms/step\n",
            "\n",
            "Validation Accuracy: 33.88888888888889 %\n"
          ]
        },
        {
          "output_type": "stream",
          "name": "stderr",
          "text": [
            "WARNING:tensorflow:Can save best model only with val_loss available, skipping.\n"
          ]
        },
        {
          "output_type": "stream",
          "name": "stdout",
          "text": [
            "\b\b\b\b\b\b\b\b\b\b\b\b\b\b\b\b\b\b\b\b\b\b\b\b\b\b\b\b\b\b\b\b\b\b\b\b\b\b\b\b\b\b\b\b\b\b\b\b\b\b\b\b\b\b\b\b\b\b\b\b\b\b\b\b\b\b\b\b\b\b\b\b\b\b\b\b\b\b\b\b\r1/1 [==============================] - 0s 139ms/step - loss: 0.8378 - accuracy: 0.7349\n",
            "Epoch 157/1000\n",
            "1/1 [==============================] - 0s 20ms/step\n",
            "\n",
            "Validation Accuracy: 35.0 %\n"
          ]
        },
        {
          "output_type": "stream",
          "name": "stderr",
          "text": [
            "WARNING:tensorflow:Can save best model only with val_loss available, skipping.\n"
          ]
        },
        {
          "output_type": "stream",
          "name": "stdout",
          "text": [
            "\b\b\b\b\b\b\b\b\b\b\b\b\b\b\b\b\b\b\b\b\b\b\b\b\b\b\b\b\b\b\b\b\b\b\b\b\b\b\b\b\b\b\b\b\b\b\b\b\b\b\b\b\b\b\b\b\b\b\b\b\b\b\b\b\b\b\b\b\b\b\b\b\b\b\b\b\b\b\b\b\r1/1 [==============================] - 0s 146ms/step - loss: 0.8546 - accuracy: 0.7241\n",
            "Epoch 158/1000\n",
            "1/1 [==============================] - 0s 21ms/step\n",
            "\n",
            "Validation Accuracy: 34.44444444444444 %\n"
          ]
        },
        {
          "output_type": "stream",
          "name": "stderr",
          "text": [
            "WARNING:tensorflow:Can save best model only with val_loss available, skipping.\n"
          ]
        },
        {
          "output_type": "stream",
          "name": "stdout",
          "text": [
            "\b\b\b\b\b\b\b\b\b\b\b\b\b\b\b\b\b\b\b\b\b\b\b\b\b\b\b\b\b\b\b\b\b\b\b\b\b\b\b\b\b\b\b\b\b\b\b\b\b\b\b\b\b\b\b\b\b\b\b\b\b\b\b\b\b\b\b\b\b\b\b\b\b\b\b\b\b\b\b\b\r1/1 [==============================] - 0s 128ms/step - loss: 0.8407 - accuracy: 0.7329\n",
            "Epoch 159/1000\n",
            "1/1 [==============================] - 0s 23ms/step\n",
            "\n",
            "Validation Accuracy: 33.33333333333333 %\n"
          ]
        },
        {
          "output_type": "stream",
          "name": "stderr",
          "text": [
            "WARNING:tensorflow:Can save best model only with val_loss available, skipping.\n"
          ]
        },
        {
          "output_type": "stream",
          "name": "stdout",
          "text": [
            "\b\b\b\b\b\b\b\b\b\b\b\b\b\b\b\b\b\b\b\b\b\b\b\b\b\b\b\b\b\b\b\b\b\b\b\b\b\b\b\b\b\b\b\b\b\b\b\b\b\b\b\b\b\b\b\b\b\b\b\b\b\b\b\b\b\b\b\b\b\b\b\b\b\b\b\b\b\b\b\b\r1/1 [==============================] - 0s 124ms/step - loss: 0.8409 - accuracy: 0.7345\n",
            "Epoch 160/1000\n",
            "1/1 [==============================] - 0s 26ms/step\n",
            "\n",
            "Validation Accuracy: 33.33333333333333 %\n"
          ]
        },
        {
          "output_type": "stream",
          "name": "stderr",
          "text": [
            "WARNING:tensorflow:Can save best model only with val_loss available, skipping.\n"
          ]
        },
        {
          "output_type": "stream",
          "name": "stdout",
          "text": [
            "\b\b\b\b\b\b\b\b\b\b\b\b\b\b\b\b\b\b\b\b\b\b\b\b\b\b\b\b\b\b\b\b\b\b\b\b\b\b\b\b\b\b\b\b\b\b\b\b\b\b\b\b\b\b\b\b\b\b\b\b\b\b\b\b\b\b\b\b\b\b\b\b\b\b\b\b\b\b\b\b\r1/1 [==============================] - 0s 140ms/step - loss: 0.8339 - accuracy: 0.7359\n",
            "Epoch 161/1000\n",
            "1/1 [==============================] - 0s 19ms/step\n",
            "\n",
            "Validation Accuracy: 33.33333333333333 %\n"
          ]
        },
        {
          "output_type": "stream",
          "name": "stderr",
          "text": [
            "WARNING:tensorflow:Can save best model only with val_loss available, skipping.\n"
          ]
        },
        {
          "output_type": "stream",
          "name": "stdout",
          "text": [
            "\b\b\b\b\b\b\b\b\b\b\b\b\b\b\b\b\b\b\b\b\b\b\b\b\b\b\b\b\b\b\b\b\b\b\b\b\b\b\b\b\b\b\b\b\b\b\b\b\b\b\b\b\b\b\b\b\b\b\b\b\b\b\b\b\b\b\b\b\b\b\b\b\b\b\b\b\b\b\b\b\r1/1 [==============================] - 0s 120ms/step - loss: 0.8382 - accuracy: 0.7312\n",
            "Epoch 162/1000\n",
            "1/1 [==============================] - 0s 21ms/step\n",
            "\n",
            "Validation Accuracy: 33.33333333333333 %\n"
          ]
        },
        {
          "output_type": "stream",
          "name": "stderr",
          "text": [
            "WARNING:tensorflow:Can save best model only with val_loss available, skipping.\n"
          ]
        },
        {
          "output_type": "stream",
          "name": "stdout",
          "text": [
            "\b\b\b\b\b\b\b\b\b\b\b\b\b\b\b\b\b\b\b\b\b\b\b\b\b\b\b\b\b\b\b\b\b\b\b\b\b\b\b\b\b\b\b\b\b\b\b\b\b\b\b\b\b\b\b\b\b\b\b\b\b\b\b\b\b\b\b\b\b\b\b\b\b\b\b\b\b\b\b\b\r1/1 [==============================] - 0s 122ms/step - loss: 0.8371 - accuracy: 0.7322\n",
            "Epoch 163/1000\n",
            "1/1 [==============================] - 0s 22ms/step\n",
            "\n",
            "Validation Accuracy: 34.44444444444444 %\n"
          ]
        },
        {
          "output_type": "stream",
          "name": "stderr",
          "text": [
            "WARNING:tensorflow:Can save best model only with val_loss available, skipping.\n"
          ]
        },
        {
          "output_type": "stream",
          "name": "stdout",
          "text": [
            "\b\b\b\b\b\b\b\b\b\b\b\b\b\b\b\b\b\b\b\b\b\b\b\b\b\b\b\b\b\b\b\b\b\b\b\b\b\b\b\b\b\b\b\b\b\b\b\b\b\b\b\b\b\b\b\b\b\b\b\b\b\b\b\b\b\b\b\b\b\b\b\b\b\b\b\b\b\b\b\b\r1/1 [==============================] - 0s 130ms/step - loss: 0.8300 - accuracy: 0.7349\n",
            "Epoch 164/1000\n",
            "1/1 [==============================] - 0s 24ms/step\n",
            "\n",
            "Validation Accuracy: 33.33333333333333 %\n"
          ]
        },
        {
          "output_type": "stream",
          "name": "stderr",
          "text": [
            "WARNING:tensorflow:Can save best model only with val_loss available, skipping.\n"
          ]
        },
        {
          "output_type": "stream",
          "name": "stdout",
          "text": [
            "\b\b\b\b\b\b\b\b\b\b\b\b\b\b\b\b\b\b\b\b\b\b\b\b\b\b\b\b\b\b\b\b\b\b\b\b\b\b\b\b\b\b\b\b\b\b\b\b\b\b\b\b\b\b\b\b\b\b\b\b\b\b\b\b\b\b\b\b\b\b\b\b\b\b\b\b\b\b\b\b\r1/1 [==============================] - 0s 132ms/step - loss: 0.8351 - accuracy: 0.7352\n",
            "Epoch 165/1000\n",
            "1/1 [==============================] - 0s 19ms/step\n",
            "\n",
            "Validation Accuracy: 33.88888888888889 %\n"
          ]
        },
        {
          "output_type": "stream",
          "name": "stderr",
          "text": [
            "WARNING:tensorflow:Can save best model only with val_loss available, skipping.\n"
          ]
        },
        {
          "output_type": "stream",
          "name": "stdout",
          "text": [
            "\b\b\b\b\b\b\b\b\b\b\b\b\b\b\b\b\b\b\b\b\b\b\b\b\b\b\b\b\b\b\b\b\b\b\b\b\b\b\b\b\b\b\b\b\b\b\b\b\b\b\b\b\b\b\b\b\b\b\b\b\b\b\b\b\b\b\b\b\b\b\b\b\b\b\b\b\b\b\b\b\r1/1 [==============================] - 0s 121ms/step - loss: 0.8300 - accuracy: 0.7333\n",
            "Epoch 166/1000\n",
            "1/1 [==============================] - 0s 22ms/step\n",
            "\n",
            "Validation Accuracy: 34.44444444444444 %\n"
          ]
        },
        {
          "output_type": "stream",
          "name": "stderr",
          "text": [
            "WARNING:tensorflow:Can save best model only with val_loss available, skipping.\n"
          ]
        },
        {
          "output_type": "stream",
          "name": "stdout",
          "text": [
            "\b\b\b\b\b\b\b\b\b\b\b\b\b\b\b\b\b\b\b\b\b\b\b\b\b\b\b\b\b\b\b\b\b\b\b\b\b\b\b\b\b\b\b\b\b\b\b\b\b\b\b\b\b\b\b\b\b\b\b\b\b\b\b\b\b\b\b\b\b\b\b\b\b\b\b\b\b\b\b\b\r1/1 [==============================] - 0s 143ms/step - loss: 0.8297 - accuracy: 0.7359\n",
            "Epoch 167/1000\n",
            "1/1 [==============================] - 0s 22ms/step\n",
            "\n",
            "Validation Accuracy: 34.44444444444444 %\n"
          ]
        },
        {
          "output_type": "stream",
          "name": "stderr",
          "text": [
            "WARNING:tensorflow:Can save best model only with val_loss available, skipping.\n"
          ]
        },
        {
          "output_type": "stream",
          "name": "stdout",
          "text": [
            "\b\b\b\b\b\b\b\b\b\b\b\b\b\b\b\b\b\b\b\b\b\b\b\b\b\b\b\b\b\b\b\b\b\b\b\b\b\b\b\b\b\b\b\b\b\b\b\b\b\b\b\b\b\b\b\b\b\b\b\b\b\b\b\b\b\b\b\b\b\b\b\b\b\b\b\b\b\b\b\b\r1/1 [==============================] - 0s 136ms/step - loss: 0.8217 - accuracy: 0.7366\n",
            "Epoch 168/1000\n",
            "1/1 [==============================] - 0s 24ms/step\n",
            "\n",
            "Validation Accuracy: 33.88888888888889 %\n"
          ]
        },
        {
          "output_type": "stream",
          "name": "stderr",
          "text": [
            "WARNING:tensorflow:Can save best model only with val_loss available, skipping.\n"
          ]
        },
        {
          "output_type": "stream",
          "name": "stdout",
          "text": [
            "\b\b\b\b\b\b\b\b\b\b\b\b\b\b\b\b\b\b\b\b\b\b\b\b\b\b\b\b\b\b\b\b\b\b\b\b\b\b\b\b\b\b\b\b\b\b\b\b\b\b\b\b\b\b\b\b\b\b\b\b\b\b\b\b\b\b\b\b\b\b\b\b\b\b\b\b\b\b\b\b\r1/1 [==============================] - 0s 129ms/step - loss: 0.8273 - accuracy: 0.7391\n",
            "Epoch 169/1000\n",
            "1/1 [==============================] - 0s 21ms/step\n",
            "\n",
            "Validation Accuracy: 33.88888888888889 %\n"
          ]
        },
        {
          "output_type": "stream",
          "name": "stderr",
          "text": [
            "WARNING:tensorflow:Can save best model only with val_loss available, skipping.\n"
          ]
        },
        {
          "output_type": "stream",
          "name": "stdout",
          "text": [
            "\b\b\b\b\b\b\b\b\b\b\b\b\b\b\b\b\b\b\b\b\b\b\b\b\b\b\b\b\b\b\b\b\b\b\b\b\b\b\b\b\b\b\b\b\b\b\b\b\b\b\b\b\b\b\b\b\b\b\b\b\b\b\b\b\b\b\b\b\b\b\b\b\b\b\b\b\b\b\b\b\r1/1 [==============================] - 0s 132ms/step - loss: 0.8246 - accuracy: 0.7431\n",
            "Epoch 170/1000\n",
            "1/1 [==============================] - 0s 19ms/step\n",
            "\n",
            "Validation Accuracy: 34.44444444444444 %\n"
          ]
        },
        {
          "output_type": "stream",
          "name": "stderr",
          "text": [
            "WARNING:tensorflow:Can save best model only with val_loss available, skipping.\n"
          ]
        },
        {
          "output_type": "stream",
          "name": "stdout",
          "text": [
            "\b\b\b\b\b\b\b\b\b\b\b\b\b\b\b\b\b\b\b\b\b\b\b\b\b\b\b\b\b\b\b\b\b\b\b\b\b\b\b\b\b\b\b\b\b\b\b\b\b\b\b\b\b\b\b\b\b\b\b\b\b\b\b\b\b\b\b\b\b\b\b\b\b\b\b\b\b\b\b\b\r1/1 [==============================] - 0s 123ms/step - loss: 0.8295 - accuracy: 0.7343\n",
            "Epoch 171/1000\n",
            "1/1 [==============================] - 0s 19ms/step\n",
            "\n",
            "Validation Accuracy: 35.0 %\n"
          ]
        },
        {
          "output_type": "stream",
          "name": "stderr",
          "text": [
            "WARNING:tensorflow:Can save best model only with val_loss available, skipping.\n"
          ]
        },
        {
          "output_type": "stream",
          "name": "stdout",
          "text": [
            "\b\b\b\b\b\b\b\b\b\b\b\b\b\b\b\b\b\b\b\b\b\b\b\b\b\b\b\b\b\b\b\b\b\b\b\b\b\b\b\b\b\b\b\b\b\b\b\b\b\b\b\b\b\b\b\b\b\b\b\b\b\b\b\b\b\b\b\b\b\b\b\b\b\b\b\b\b\b\b\b\r1/1 [==============================] - 0s 119ms/step - loss: 0.8232 - accuracy: 0.7368\n",
            "Epoch 172/1000\n",
            "1/1 [==============================] - 0s 21ms/step\n",
            "\n",
            "Validation Accuracy: 34.44444444444444 %\n"
          ]
        },
        {
          "output_type": "stream",
          "name": "stderr",
          "text": [
            "WARNING:tensorflow:Can save best model only with val_loss available, skipping.\n"
          ]
        },
        {
          "output_type": "stream",
          "name": "stdout",
          "text": [
            "\b\b\b\b\b\b\b\b\b\b\b\b\b\b\b\b\b\b\b\b\b\b\b\b\b\b\b\b\b\b\b\b\b\b\b\b\b\b\b\b\b\b\b\b\b\b\b\b\b\b\b\b\b\b\b\b\b\b\b\b\b\b\b\b\b\b\b\b\b\b\b\b\b\b\b\b\b\b\b\b\r1/1 [==============================] - 0s 134ms/step - loss: 0.8226 - accuracy: 0.7431\n",
            "Epoch 173/1000\n",
            "1/1 [==============================] - 0s 21ms/step\n",
            "\n",
            "Validation Accuracy: 33.33333333333333 %\n"
          ]
        },
        {
          "output_type": "stream",
          "name": "stderr",
          "text": [
            "WARNING:tensorflow:Can save best model only with val_loss available, skipping.\n"
          ]
        },
        {
          "output_type": "stream",
          "name": "stdout",
          "text": [
            "\b\b\b\b\b\b\b\b\b\b\b\b\b\b\b\b\b\b\b\b\b\b\b\b\b\b\b\b\b\b\b\b\b\b\b\b\b\b\b\b\b\b\b\b\b\b\b\b\b\b\b\b\b\b\b\b\b\b\b\b\b\b\b\b\b\b\b\b\b\b\b\b\b\b\b\b\b\b\b\b\r1/1 [==============================] - 0s 122ms/step - loss: 0.8208 - accuracy: 0.7422\n",
            "Epoch 174/1000\n",
            "1/1 [==============================] - 0s 19ms/step\n",
            "\n",
            "Validation Accuracy: 34.44444444444444 %\n"
          ]
        },
        {
          "output_type": "stream",
          "name": "stderr",
          "text": [
            "WARNING:tensorflow:Can save best model only with val_loss available, skipping.\n"
          ]
        },
        {
          "output_type": "stream",
          "name": "stdout",
          "text": [
            "\b\b\b\b\b\b\b\b\b\b\b\b\b\b\b\b\b\b\b\b\b\b\b\b\b\b\b\b\b\b\b\b\b\b\b\b\b\b\b\b\b\b\b\b\b\b\b\b\b\b\b\b\b\b\b\b\b\b\b\b\b\b\b\b\b\b\b\b\b\b\b\b\b\b\b\b\b\b\b\b\r1/1 [==============================] - 0s 119ms/step - loss: 0.8151 - accuracy: 0.7384\n",
            "Epoch 175/1000\n",
            "1/1 [==============================] - 0s 20ms/step\n",
            "\n",
            "Validation Accuracy: 35.0 %\n"
          ]
        },
        {
          "output_type": "stream",
          "name": "stderr",
          "text": [
            "WARNING:tensorflow:Can save best model only with val_loss available, skipping.\n"
          ]
        },
        {
          "output_type": "stream",
          "name": "stdout",
          "text": [
            "\b\b\b\b\b\b\b\b\b\b\b\b\b\b\b\b\b\b\b\b\b\b\b\b\b\b\b\b\b\b\b\b\b\b\b\b\b\b\b\b\b\b\b\b\b\b\b\b\b\b\b\b\b\b\b\b\b\b\b\b\b\b\b\b\b\b\b\b\b\b\b\b\b\b\b\b\b\b\b\b\r1/1 [==============================] - 0s 147ms/step - loss: 0.8201 - accuracy: 0.7412\n",
            "Epoch 176/1000\n",
            "1/1 [==============================] - 0s 20ms/step\n",
            "\n",
            "Validation Accuracy: 35.0 %\n"
          ]
        },
        {
          "output_type": "stream",
          "name": "stderr",
          "text": [
            "WARNING:tensorflow:Can save best model only with val_loss available, skipping.\n"
          ]
        },
        {
          "output_type": "stream",
          "name": "stdout",
          "text": [
            "\b\b\b\b\b\b\b\b\b\b\b\b\b\b\b\b\b\b\b\b\b\b\b\b\b\b\b\b\b\b\b\b\b\b\b\b\b\b\b\b\b\b\b\b\b\b\b\b\b\b\b\b\b\b\b\b\b\b\b\b\b\b\b\b\b\b\b\b\b\b\b\b\b\b\b\b\b\b\b\b\r1/1 [==============================] - 0s 123ms/step - loss: 0.8222 - accuracy: 0.7333\n",
            "Epoch 177/1000\n",
            "1/1 [==============================] - 0s 24ms/step\n",
            "\n",
            "Validation Accuracy: 34.44444444444444 %\n"
          ]
        },
        {
          "output_type": "stream",
          "name": "stderr",
          "text": [
            "WARNING:tensorflow:Can save best model only with val_loss available, skipping.\n"
          ]
        },
        {
          "output_type": "stream",
          "name": "stdout",
          "text": [
            "\b\b\b\b\b\b\b\b\b\b\b\b\b\b\b\b\b\b\b\b\b\b\b\b\b\b\b\b\b\b\b\b\b\b\b\b\b\b\b\b\b\b\b\b\b\b\b\b\b\b\b\b\b\b\b\b\b\b\b\b\b\b\b\b\b\b\b\b\b\b\b\b\b\b\b\b\b\b\b\b\r1/1 [==============================] - 0s 141ms/step - loss: 0.8155 - accuracy: 0.7392\n",
            "Epoch 178/1000\n",
            "1/1 [==============================] - 0s 20ms/step\n",
            "\n",
            "Validation Accuracy: 34.44444444444444 %\n"
          ]
        },
        {
          "output_type": "stream",
          "name": "stderr",
          "text": [
            "WARNING:tensorflow:Can save best model only with val_loss available, skipping.\n"
          ]
        },
        {
          "output_type": "stream",
          "name": "stdout",
          "text": [
            "\b\b\b\b\b\b\b\b\b\b\b\b\b\b\b\b\b\b\b\b\b\b\b\b\b\b\b\b\b\b\b\b\b\b\b\b\b\b\b\b\b\b\b\b\b\b\b\b\b\b\b\b\b\b\b\b\b\b\b\b\b\b\b\b\b\b\b\b\b\b\b\b\b\b\b\b\b\b\b\b\r1/1 [==============================] - 0s 133ms/step - loss: 0.8148 - accuracy: 0.7409\n",
            "Epoch 179/1000\n",
            "1/1 [==============================] - 0s 21ms/step\n",
            "\n",
            "Validation Accuracy: 35.55555555555556 %\n"
          ]
        },
        {
          "output_type": "stream",
          "name": "stderr",
          "text": [
            "WARNING:tensorflow:Can save best model only with val_loss available, skipping.\n"
          ]
        },
        {
          "output_type": "stream",
          "name": "stdout",
          "text": [
            "\b\b\b\b\b\b\b\b\b\b\b\b\b\b\b\b\b\b\b\b\b\b\b\b\b\b\b\b\b\b\b\b\b\b\b\b\b\b\b\b\b\b\b\b\b\b\b\b\b\b\b\b\b\b\b\b\b\b\b\b\b\b\b\b\b\b\b\b\b\b\b\b\b\b\b\b\b\b\b\b\r1/1 [==============================] - 0s 128ms/step - loss: 0.8157 - accuracy: 0.7375\n",
            "Epoch 180/1000\n",
            "1/1 [==============================] - 0s 22ms/step\n",
            "\n",
            "Validation Accuracy: 34.44444444444444 %\n"
          ]
        },
        {
          "output_type": "stream",
          "name": "stderr",
          "text": [
            "WARNING:tensorflow:Can save best model only with val_loss available, skipping.\n"
          ]
        },
        {
          "output_type": "stream",
          "name": "stdout",
          "text": [
            "\b\b\b\b\b\b\b\b\b\b\b\b\b\b\b\b\b\b\b\b\b\b\b\b\b\b\b\b\b\b\b\b\b\b\b\b\b\b\b\b\b\b\b\b\b\b\b\b\b\b\b\b\b\b\b\b\b\b\b\b\b\b\b\b\b\b\b\b\b\b\b\b\b\b\b\b\b\b\b\b\r1/1 [==============================] - 0s 130ms/step - loss: 0.8118 - accuracy: 0.7389\n",
            "Epoch 181/1000\n",
            "1/1 [==============================] - 0s 18ms/step\n",
            "\n",
            "Validation Accuracy: 34.44444444444444 %\n"
          ]
        },
        {
          "output_type": "stream",
          "name": "stderr",
          "text": [
            "WARNING:tensorflow:Can save best model only with val_loss available, skipping.\n"
          ]
        },
        {
          "output_type": "stream",
          "name": "stdout",
          "text": [
            "\b\b\b\b\b\b\b\b\b\b\b\b\b\b\b\b\b\b\b\b\b\b\b\b\b\b\b\b\b\b\b\b\b\b\b\b\b\b\b\b\b\b\b\b\b\b\b\b\b\b\b\b\b\b\b\b\b\b\b\b\b\b\b\b\b\b\b\b\b\b\b\b\b\b\b\b\b\b\b\b\r1/1 [==============================] - 0s 114ms/step - loss: 0.8106 - accuracy: 0.7395\n",
            "Epoch 182/1000\n",
            "1/1 [==============================] - 0s 19ms/step\n",
            "\n",
            "Validation Accuracy: 36.11111111111111 %\n"
          ]
        },
        {
          "output_type": "stream",
          "name": "stderr",
          "text": [
            "WARNING:tensorflow:Can save best model only with val_loss available, skipping.\n"
          ]
        },
        {
          "output_type": "stream",
          "name": "stdout",
          "text": [
            "\b\b\b\b\b\b\b\b\b\b\b\b\b\b\b\b\b\b\b\b\b\b\b\b\b\b\b\b\b\b\b\b\b\b\b\b\b\b\b\b\b\b\b\b\b\b\b\b\b\b\b\b\b\b\b\b\b\b\b\b\b\b\b\b\b\b\b\b\b\b\b\b\b\b\b\b\b\b\b\b\r1/1 [==============================] - 0s 124ms/step - loss: 0.8050 - accuracy: 0.7436\n",
            "Epoch 183/1000\n",
            "1/1 [==============================] - 0s 21ms/step\n",
            "\n",
            "Validation Accuracy: 37.22222222222222 %\n"
          ]
        },
        {
          "output_type": "stream",
          "name": "stderr",
          "text": [
            "WARNING:tensorflow:Can save best model only with val_loss available, skipping.\n"
          ]
        },
        {
          "output_type": "stream",
          "name": "stdout",
          "text": [
            "\b\b\b\b\b\b\b\b\b\b\b\b\b\b\b\b\b\b\b\b\b\b\b\b\b\b\b\b\b\b\b\b\b\b\b\b\b\b\b\b\b\b\b\b\b\b\b\b\b\b\b\b\b\b\b\b\b\b\b\b\b\b\b\b\b\b\b\b\b\b\b\b\b\b\b\b\b\b\b\b\r1/1 [==============================] - 0s 161ms/step - loss: 0.8020 - accuracy: 0.7417\n",
            "Epoch 184/1000\n",
            "1/1 [==============================] - 0s 20ms/step\n",
            "\n",
            "Validation Accuracy: 35.0 %\n"
          ]
        },
        {
          "output_type": "stream",
          "name": "stderr",
          "text": [
            "WARNING:tensorflow:Can save best model only with val_loss available, skipping.\n"
          ]
        },
        {
          "output_type": "stream",
          "name": "stdout",
          "text": [
            "\b\b\b\b\b\b\b\b\b\b\b\b\b\b\b\b\b\b\b\b\b\b\b\b\b\b\b\b\b\b\b\b\b\b\b\b\b\b\b\b\b\b\b\b\b\b\b\b\b\b\b\b\b\b\b\b\b\b\b\b\b\b\b\b\b\b\b\b\b\b\b\b\b\b\b\b\b\b\b\b\r1/1 [==============================] - 0s 131ms/step - loss: 0.8042 - accuracy: 0.7410\n",
            "Epoch 185/1000\n",
            "1/1 [==============================] - 0s 22ms/step\n",
            "\n",
            "Validation Accuracy: 35.55555555555556 %\n"
          ]
        },
        {
          "output_type": "stream",
          "name": "stderr",
          "text": [
            "WARNING:tensorflow:Can save best model only with val_loss available, skipping.\n"
          ]
        },
        {
          "output_type": "stream",
          "name": "stdout",
          "text": [
            "\b\b\b\b\b\b\b\b\b\b\b\b\b\b\b\b\b\b\b\b\b\b\b\b\b\b\b\b\b\b\b\b\b\b\b\b\b\b\b\b\b\b\b\b\b\b\b\b\b\b\b\b\b\b\b\b\b\b\b\b\b\b\b\b\b\b\b\b\b\b\b\b\b\b\b\b\b\b\b\b\r1/1 [==============================] - 0s 121ms/step - loss: 0.8012 - accuracy: 0.7454\n",
            "Epoch 186/1000\n",
            "1/1 [==============================] - 0s 18ms/step\n",
            "\n",
            "Validation Accuracy: 36.11111111111111 %\n"
          ]
        },
        {
          "output_type": "stream",
          "name": "stderr",
          "text": [
            "WARNING:tensorflow:Can save best model only with val_loss available, skipping.\n"
          ]
        },
        {
          "output_type": "stream",
          "name": "stdout",
          "text": [
            "\b\b\b\b\b\b\b\b\b\b\b\b\b\b\b\b\b\b\b\b\b\b\b\b\b\b\b\b\b\b\b\b\b\b\b\b\b\b\b\b\b\b\b\b\b\b\b\b\b\b\b\b\b\b\b\b\b\b\b\b\b\b\b\b\b\b\b\b\b\b\b\b\b\b\b\b\b\b\b\b\r1/1 [==============================] - 0s 124ms/step - loss: 0.7989 - accuracy: 0.7468\n",
            "Epoch 187/1000\n",
            "1/1 [==============================] - 0s 21ms/step\n",
            "\n",
            "Validation Accuracy: 35.55555555555556 %\n"
          ]
        },
        {
          "output_type": "stream",
          "name": "stderr",
          "text": [
            "WARNING:tensorflow:Can save best model only with val_loss available, skipping.\n"
          ]
        },
        {
          "output_type": "stream",
          "name": "stdout",
          "text": [
            "\b\b\b\b\b\b\b\b\b\b\b\b\b\b\b\b\b\b\b\b\b\b\b\b\b\b\b\b\b\b\b\b\b\b\b\b\b\b\b\b\b\b\b\b\b\b\b\b\b\b\b\b\b\b\b\b\b\b\b\b\b\b\b\b\b\b\b\b\b\b\b\b\b\b\b\b\b\b\b\b\r1/1 [==============================] - 0s 145ms/step - loss: 0.7944 - accuracy: 0.7471\n",
            "Epoch 188/1000\n",
            "1/1 [==============================] - 0s 24ms/step\n",
            "\n",
            "Validation Accuracy: 37.77777777777778 %\n"
          ]
        },
        {
          "output_type": "stream",
          "name": "stderr",
          "text": [
            "WARNING:tensorflow:Can save best model only with val_loss available, skipping.\n"
          ]
        },
        {
          "output_type": "stream",
          "name": "stdout",
          "text": [
            "\b\b\b\b\b\b\b\b\b\b\b\b\b\b\b\b\b\b\b\b\b\b\b\b\b\b\b\b\b\b\b\b\b\b\b\b\b\b\b\b\b\b\b\b\b\b\b\b\b\b\b\b\b\b\b\b\b\b\b\b\b\b\b\b\b\b\b\b\b\b\b\b\b\b\b\b\b\b\b\b\r1/1 [==============================] - 0s 145ms/step - loss: 0.8004 - accuracy: 0.7493\n",
            "Epoch 189/1000\n",
            "1/1 [==============================] - 0s 20ms/step\n",
            "\n",
            "Validation Accuracy: 34.44444444444444 %\n"
          ]
        },
        {
          "output_type": "stream",
          "name": "stderr",
          "text": [
            "WARNING:tensorflow:Can save best model only with val_loss available, skipping.\n"
          ]
        },
        {
          "output_type": "stream",
          "name": "stdout",
          "text": [
            "\b\b\b\b\b\b\b\b\b\b\b\b\b\b\b\b\b\b\b\b\b\b\b\b\b\b\b\b\b\b\b\b\b\b\b\b\b\b\b\b\b\b\b\b\b\b\b\b\b\b\b\b\b\b\b\b\b\b\b\b\b\b\b\b\b\b\b\b\b\b\b\b\b\b\b\b\b\b\b\b\r1/1 [==============================] - 0s 132ms/step - loss: 0.8011 - accuracy: 0.7468\n",
            "Epoch 190/1000\n",
            "1/1 [==============================] - 0s 20ms/step\n",
            "\n",
            "Validation Accuracy: 33.88888888888889 %\n"
          ]
        },
        {
          "output_type": "stream",
          "name": "stderr",
          "text": [
            "WARNING:tensorflow:Can save best model only with val_loss available, skipping.\n"
          ]
        },
        {
          "output_type": "stream",
          "name": "stdout",
          "text": [
            "\b\b\b\b\b\b\b\b\b\b\b\b\b\b\b\b\b\b\b\b\b\b\b\b\b\b\b\b\b\b\b\b\b\b\b\b\b\b\b\b\b\b\b\b\b\b\b\b\b\b\b\b\b\b\b\b\b\b\b\b\b\b\b\b\b\b\b\b\b\b\b\b\b\b\b\b\b\b\b\b\r1/1 [==============================] - 0s 141ms/step - loss: 0.8037 - accuracy: 0.7388\n",
            "Epoch 191/1000\n",
            "1/1 [==============================] - 0s 22ms/step\n",
            "\n",
            "Validation Accuracy: 35.0 %\n"
          ]
        },
        {
          "output_type": "stream",
          "name": "stderr",
          "text": [
            "WARNING:tensorflow:Can save best model only with val_loss available, skipping.\n"
          ]
        },
        {
          "output_type": "stream",
          "name": "stdout",
          "text": [
            "\b\b\b\b\b\b\b\b\b\b\b\b\b\b\b\b\b\b\b\b\b\b\b\b\b\b\b\b\b\b\b\b\b\b\b\b\b\b\b\b\b\b\b\b\b\b\b\b\b\b\b\b\b\b\b\b\b\b\b\b\b\b\b\b\b\b\b\b\b\b\b\b\b\b\b\b\b\b\b\b\r1/1 [==============================] - 0s 133ms/step - loss: 0.7991 - accuracy: 0.7437\n",
            "Epoch 192/1000\n",
            "1/1 [==============================] - 0s 21ms/step\n",
            "\n",
            "Validation Accuracy: 33.88888888888889 %\n"
          ]
        },
        {
          "output_type": "stream",
          "name": "stderr",
          "text": [
            "WARNING:tensorflow:Can save best model only with val_loss available, skipping.\n"
          ]
        },
        {
          "output_type": "stream",
          "name": "stdout",
          "text": [
            "\b\b\b\b\b\b\b\b\b\b\b\b\b\b\b\b\b\b\b\b\b\b\b\b\b\b\b\b\b\b\b\b\b\b\b\b\b\b\b\b\b\b\b\b\b\b\b\b\b\b\b\b\b\b\b\b\b\b\b\b\b\b\b\b\b\b\b\b\b\b\b\b\b\b\b\b\b\b\b\b\r1/1 [==============================] - 0s 134ms/step - loss: 0.7980 - accuracy: 0.7480\n",
            "Epoch 193/1000\n",
            "1/1 [==============================] - 0s 20ms/step\n",
            "\n",
            "Validation Accuracy: 33.88888888888889 %\n"
          ]
        },
        {
          "output_type": "stream",
          "name": "stderr",
          "text": [
            "WARNING:tensorflow:Can save best model only with val_loss available, skipping.\n"
          ]
        },
        {
          "output_type": "stream",
          "name": "stdout",
          "text": [
            "\b\b\b\b\b\b\b\b\b\b\b\b\b\b\b\b\b\b\b\b\b\b\b\b\b\b\b\b\b\b\b\b\b\b\b\b\b\b\b\b\b\b\b\b\b\b\b\b\b\b\b\b\b\b\b\b\b\b\b\b\b\b\b\b\b\b\b\b\b\b\b\b\b\b\b\b\b\b\b\b\r1/1 [==============================] - 0s 128ms/step - loss: 0.7907 - accuracy: 0.7472\n",
            "Epoch 194/1000\n",
            "1/1 [==============================] - 0s 20ms/step\n",
            "\n",
            "Validation Accuracy: 35.0 %\n"
          ]
        },
        {
          "output_type": "stream",
          "name": "stderr",
          "text": [
            "WARNING:tensorflow:Can save best model only with val_loss available, skipping.\n"
          ]
        },
        {
          "output_type": "stream",
          "name": "stdout",
          "text": [
            "\b\b\b\b\b\b\b\b\b\b\b\b\b\b\b\b\b\b\b\b\b\b\b\b\b\b\b\b\b\b\b\b\b\b\b\b\b\b\b\b\b\b\b\b\b\b\b\b\b\b\b\b\b\b\b\b\b\b\b\b\b\b\b\b\b\b\b\b\b\b\b\b\b\b\b\b\b\b\b\b\r1/1 [==============================] - 0s 123ms/step - loss: 0.7887 - accuracy: 0.7511\n",
            "Epoch 195/1000\n",
            "1/1 [==============================] - 0s 22ms/step\n",
            "\n",
            "Validation Accuracy: 34.44444444444444 %\n"
          ]
        },
        {
          "output_type": "stream",
          "name": "stderr",
          "text": [
            "WARNING:tensorflow:Can save best model only with val_loss available, skipping.\n"
          ]
        },
        {
          "output_type": "stream",
          "name": "stdout",
          "text": [
            "\b\b\b\b\b\b\b\b\b\b\b\b\b\b\b\b\b\b\b\b\b\b\b\b\b\b\b\b\b\b\b\b\b\b\b\b\b\b\b\b\b\b\b\b\b\b\b\b\b\b\b\b\b\b\b\b\b\b\b\b\b\b\b\b\b\b\b\b\b\b\b\b\b\b\b\b\b\b\b\b\r1/1 [==============================] - 0s 131ms/step - loss: 0.7947 - accuracy: 0.7489\n",
            "Epoch 196/1000\n",
            "1/1 [==============================] - 0s 26ms/step\n",
            "\n",
            "Validation Accuracy: 35.0 %\n"
          ]
        },
        {
          "output_type": "stream",
          "name": "stderr",
          "text": [
            "WARNING:tensorflow:Can save best model only with val_loss available, skipping.\n"
          ]
        },
        {
          "output_type": "stream",
          "name": "stdout",
          "text": [
            "\b\b\b\b\b\b\b\b\b\b\b\b\b\b\b\b\b\b\b\b\b\b\b\b\b\b\b\b\b\b\b\b\b\b\b\b\b\b\b\b\b\b\b\b\b\b\b\b\b\b\b\b\b\b\b\b\b\b\b\b\b\b\b\b\b\b\b\b\b\b\b\b\b\b\b\b\b\b\b\b\r1/1 [==============================] - 0s 129ms/step - loss: 0.7925 - accuracy: 0.7465\n",
            "Epoch 197/1000\n",
            "1/1 [==============================] - 0s 19ms/step\n",
            "\n",
            "Validation Accuracy: 35.0 %\n"
          ]
        },
        {
          "output_type": "stream",
          "name": "stderr",
          "text": [
            "WARNING:tensorflow:Can save best model only with val_loss available, skipping.\n"
          ]
        },
        {
          "output_type": "stream",
          "name": "stdout",
          "text": [
            "\b\b\b\b\b\b\b\b\b\b\b\b\b\b\b\b\b\b\b\b\b\b\b\b\b\b\b\b\b\b\b\b\b\b\b\b\b\b\b\b\b\b\b\b\b\b\b\b\b\b\b\b\b\b\b\b\b\b\b\b\b\b\b\b\b\b\b\b\b\b\b\b\b\b\b\b\b\b\b\b\r1/1 [==============================] - 0s 122ms/step - loss: 0.7936 - accuracy: 0.7455\n",
            "Epoch 198/1000\n",
            "1/1 [==============================] - 0s 19ms/step\n",
            "\n",
            "Validation Accuracy: 34.44444444444444 %\n"
          ]
        },
        {
          "output_type": "stream",
          "name": "stderr",
          "text": [
            "WARNING:tensorflow:Can save best model only with val_loss available, skipping.\n"
          ]
        },
        {
          "output_type": "stream",
          "name": "stdout",
          "text": [
            "\b\b\b\b\b\b\b\b\b\b\b\b\b\b\b\b\b\b\b\b\b\b\b\b\b\b\b\b\b\b\b\b\b\b\b\b\b\b\b\b\b\b\b\b\b\b\b\b\b\b\b\b\b\b\b\b\b\b\b\b\b\b\b\b\b\b\b\b\b\b\b\b\b\b\b\b\b\b\b\b\r1/1 [==============================] - 0s 132ms/step - loss: 0.7878 - accuracy: 0.7475\n",
            "Epoch 199/1000\n",
            "1/1 [==============================] - 0s 20ms/step\n",
            "\n",
            "Validation Accuracy: 33.88888888888889 %\n"
          ]
        },
        {
          "output_type": "stream",
          "name": "stderr",
          "text": [
            "WARNING:tensorflow:Can save best model only with val_loss available, skipping.\n"
          ]
        },
        {
          "output_type": "stream",
          "name": "stdout",
          "text": [
            "\b\b\b\b\b\b\b\b\b\b\b\b\b\b\b\b\b\b\b\b\b\b\b\b\b\b\b\b\b\b\b\b\b\b\b\b\b\b\b\b\b\b\b\b\b\b\b\b\b\b\b\b\b\b\b\b\b\b\b\b\b\b\b\b\b\b\b\b\b\b\b\b\b\b\b\b\b\b\b\b\r1/1 [==============================] - 0s 131ms/step - loss: 0.7804 - accuracy: 0.7513\n",
            "Epoch 200/1000\n",
            "1/1 [==============================] - 0s 19ms/step\n",
            "\n",
            "Validation Accuracy: 33.88888888888889 %\n"
          ]
        },
        {
          "output_type": "stream",
          "name": "stderr",
          "text": [
            "WARNING:tensorflow:Can save best model only with val_loss available, skipping.\n"
          ]
        },
        {
          "output_type": "stream",
          "name": "stdout",
          "text": [
            "\b\b\b\b\b\b\b\b\b\b\b\b\b\b\b\b\b\b\b\b\b\b\b\b\b\b\b\b\b\b\b\b\b\b\b\b\b\b\b\b\b\b\b\b\b\b\b\b\b\b\b\b\b\b\b\b\b\b\b\b\b\b\b\b\b\b\b\b\b\b\b\b\b\b\b\b\b\b\b\b\r1/1 [==============================] - 0s 129ms/step - loss: 0.7796 - accuracy: 0.7527\n",
            "Epoch 201/1000\n",
            "1/1 [==============================] - 0s 28ms/step\n",
            "\n",
            "Validation Accuracy: 34.44444444444444 %\n"
          ]
        },
        {
          "output_type": "stream",
          "name": "stderr",
          "text": [
            "WARNING:tensorflow:Can save best model only with val_loss available, skipping.\n"
          ]
        },
        {
          "output_type": "stream",
          "name": "stdout",
          "text": [
            "\b\b\b\b\b\b\b\b\b\b\b\b\b\b\b\b\b\b\b\b\b\b\b\b\b\b\b\b\b\b\b\b\b\b\b\b\b\b\b\b\b\b\b\b\b\b\b\b\b\b\b\b\b\b\b\b\b\b\b\b\b\b\b\b\b\b\b\b\b\b\b\b\b\b\b\b\b\b\b\b\r1/1 [==============================] - 0s 146ms/step - loss: 0.7793 - accuracy: 0.7574\n",
            "Epoch 202/1000\n",
            "1/1 [==============================] - 0s 21ms/step\n",
            "\n",
            "Validation Accuracy: 34.44444444444444 %\n"
          ]
        },
        {
          "output_type": "stream",
          "name": "stderr",
          "text": [
            "WARNING:tensorflow:Can save best model only with val_loss available, skipping.\n"
          ]
        },
        {
          "output_type": "stream",
          "name": "stdout",
          "text": [
            "\b\b\b\b\b\b\b\b\b\b\b\b\b\b\b\b\b\b\b\b\b\b\b\b\b\b\b\b\b\b\b\b\b\b\b\b\b\b\b\b\b\b\b\b\b\b\b\b\b\b\b\b\b\b\b\b\b\b\b\b\b\b\b\b\b\b\b\b\b\b\b\b\b\b\b\b\b\b\b\b\r1/1 [==============================] - 0s 148ms/step - loss: 0.7737 - accuracy: 0.7535\n",
            "Epoch 203/1000\n",
            "1/1 [==============================] - 0s 22ms/step\n",
            "\n",
            "Validation Accuracy: 35.0 %\n"
          ]
        },
        {
          "output_type": "stream",
          "name": "stderr",
          "text": [
            "WARNING:tensorflow:Can save best model only with val_loss available, skipping.\n"
          ]
        },
        {
          "output_type": "stream",
          "name": "stdout",
          "text": [
            "\b\b\b\b\b\b\b\b\b\b\b\b\b\b\b\b\b\b\b\b\b\b\b\b\b\b\b\b\b\b\b\b\b\b\b\b\b\b\b\b\b\b\b\b\b\b\b\b\b\b\b\b\b\b\b\b\b\b\b\b\b\b\b\b\b\b\b\b\b\b\b\b\b\b\b\b\b\b\b\b\r1/1 [==============================] - 0s 127ms/step - loss: 0.7840 - accuracy: 0.7479\n",
            "Epoch 204/1000\n",
            "1/1 [==============================] - 0s 22ms/step\n",
            "\n",
            "Validation Accuracy: 35.0 %\n"
          ]
        },
        {
          "output_type": "stream",
          "name": "stderr",
          "text": [
            "WARNING:tensorflow:Can save best model only with val_loss available, skipping.\n"
          ]
        },
        {
          "output_type": "stream",
          "name": "stdout",
          "text": [
            "\b\b\b\b\b\b\b\b\b\b\b\b\b\b\b\b\b\b\b\b\b\b\b\b\b\b\b\b\b\b\b\b\b\b\b\b\b\b\b\b\b\b\b\b\b\b\b\b\b\b\b\b\b\b\b\b\b\b\b\b\b\b\b\b\b\b\b\b\b\b\b\b\b\b\b\b\b\b\b\b\r1/1 [==============================] - 0s 132ms/step - loss: 0.7809 - accuracy: 0.7506\n",
            "Epoch 205/1000\n",
            "1/1 [==============================] - 0s 20ms/step\n",
            "\n",
            "Validation Accuracy: 33.88888888888889 %\n"
          ]
        },
        {
          "output_type": "stream",
          "name": "stderr",
          "text": [
            "WARNING:tensorflow:Can save best model only with val_loss available, skipping.\n"
          ]
        },
        {
          "output_type": "stream",
          "name": "stdout",
          "text": [
            "\b\b\b\b\b\b\b\b\b\b\b\b\b\b\b\b\b\b\b\b\b\b\b\b\b\b\b\b\b\b\b\b\b\b\b\b\b\b\b\b\b\b\b\b\b\b\b\b\b\b\b\b\b\b\b\b\b\b\b\b\b\b\b\b\b\b\b\b\b\b\b\b\b\b\b\b\b\b\b\b\r1/1 [==============================] - 0s 120ms/step - loss: 0.7721 - accuracy: 0.7562\n",
            "Epoch 206/1000\n",
            "1/1 [==============================] - 0s 21ms/step\n",
            "\n",
            "Validation Accuracy: 34.44444444444444 %\n"
          ]
        },
        {
          "output_type": "stream",
          "name": "stderr",
          "text": [
            "WARNING:tensorflow:Can save best model only with val_loss available, skipping.\n"
          ]
        },
        {
          "output_type": "stream",
          "name": "stdout",
          "text": [
            "\b\b\b\b\b\b\b\b\b\b\b\b\b\b\b\b\b\b\b\b\b\b\b\b\b\b\b\b\b\b\b\b\b\b\b\b\b\b\b\b\b\b\b\b\b\b\b\b\b\b\b\b\b\b\b\b\b\b\b\b\b\b\b\b\b\b\b\b\b\b\b\b\b\b\b\b\b\b\b\b\r1/1 [==============================] - 0s 141ms/step - loss: 0.7827 - accuracy: 0.7465\n",
            "Epoch 207/1000\n",
            "1/1 [==============================] - 0s 20ms/step\n",
            "\n",
            "Validation Accuracy: 36.666666666666664 %\n"
          ]
        },
        {
          "output_type": "stream",
          "name": "stderr",
          "text": [
            "WARNING:tensorflow:Can save best model only with val_loss available, skipping.\n"
          ]
        },
        {
          "output_type": "stream",
          "name": "stdout",
          "text": [
            "\b\b\b\b\b\b\b\b\b\b\b\b\b\b\b\b\b\b\b\b\b\b\b\b\b\b\b\b\b\b\b\b\b\b\b\b\b\b\b\b\b\b\b\b\b\b\b\b\b\b\b\b\b\b\b\b\b\b\b\b\b\b\b\b\b\b\b\b\b\b\b\b\b\b\b\b\b\b\b\b\r1/1 [==============================] - 0s 145ms/step - loss: 0.7823 - accuracy: 0.7480\n",
            "Epoch 208/1000\n",
            "1/1 [==============================] - 0s 22ms/step\n",
            "\n",
            "Validation Accuracy: 35.0 %\n"
          ]
        },
        {
          "output_type": "stream",
          "name": "stderr",
          "text": [
            "WARNING:tensorflow:Can save best model only with val_loss available, skipping.\n"
          ]
        },
        {
          "output_type": "stream",
          "name": "stdout",
          "text": [
            "\b\b\b\b\b\b\b\b\b\b\b\b\b\b\b\b\b\b\b\b\b\b\b\b\b\b\b\b\b\b\b\b\b\b\b\b\b\b\b\b\b\b\b\b\b\b\b\b\b\b\b\b\b\b\b\b\b\b\b\b\b\b\b\b\b\b\b\b\b\b\b\b\b\b\b\b\b\b\b\b\r1/1 [==============================] - 0s 132ms/step - loss: 0.7785 - accuracy: 0.7506\n",
            "Epoch 209/1000\n",
            "1/1 [==============================] - 0s 19ms/step\n",
            "\n",
            "Validation Accuracy: 35.0 %\n"
          ]
        },
        {
          "output_type": "stream",
          "name": "stderr",
          "text": [
            "WARNING:tensorflow:Can save best model only with val_loss available, skipping.\n"
          ]
        },
        {
          "output_type": "stream",
          "name": "stdout",
          "text": [
            "\b\b\b\b\b\b\b\b\b\b\b\b\b\b\b\b\b\b\b\b\b\b\b\b\b\b\b\b\b\b\b\b\b\b\b\b\b\b\b\b\b\b\b\b\b\b\b\b\b\b\b\b\b\b\b\b\b\b\b\b\b\b\b\b\b\b\b\b\b\b\b\b\b\b\b\b\b\b\b\b\r1/1 [==============================] - 0s 122ms/step - loss: 0.7661 - accuracy: 0.7492\n",
            "Epoch 210/1000\n",
            "1/1 [==============================] - 0s 20ms/step\n",
            "\n",
            "Validation Accuracy: 36.11111111111111 %\n"
          ]
        },
        {
          "output_type": "stream",
          "name": "stderr",
          "text": [
            "WARNING:tensorflow:Can save best model only with val_loss available, skipping.\n"
          ]
        },
        {
          "output_type": "stream",
          "name": "stdout",
          "text": [
            "\b\b\b\b\b\b\b\b\b\b\b\b\b\b\b\b\b\b\b\b\b\b\b\b\b\b\b\b\b\b\b\b\b\b\b\b\b\b\b\b\b\b\b\b\b\b\b\b\b\b\b\b\b\b\b\b\b\b\b\b\b\b\b\b\b\b\b\b\b\b\b\b\b\b\b\b\b\b\b\b\r1/1 [==============================] - 0s 127ms/step - loss: 0.7645 - accuracy: 0.7541\n",
            "Epoch 211/1000\n",
            "1/1 [==============================] - 0s 20ms/step\n",
            "\n",
            "Validation Accuracy: 36.666666666666664 %\n"
          ]
        },
        {
          "output_type": "stream",
          "name": "stderr",
          "text": [
            "WARNING:tensorflow:Can save best model only with val_loss available, skipping.\n"
          ]
        },
        {
          "output_type": "stream",
          "name": "stdout",
          "text": [
            "\b\b\b\b\b\b\b\b\b\b\b\b\b\b\b\b\b\b\b\b\b\b\b\b\b\b\b\b\b\b\b\b\b\b\b\b\b\b\b\b\b\b\b\b\b\b\b\b\b\b\b\b\b\b\b\b\b\b\b\b\b\b\b\b\b\b\b\b\b\b\b\b\b\b\b\b\b\b\b\b\r1/1 [==============================] - 0s 131ms/step - loss: 0.7759 - accuracy: 0.7527\n",
            "Epoch 212/1000\n",
            "1/1 [==============================] - 0s 19ms/step\n",
            "\n",
            "Validation Accuracy: 35.55555555555556 %\n"
          ]
        },
        {
          "output_type": "stream",
          "name": "stderr",
          "text": [
            "WARNING:tensorflow:Can save best model only with val_loss available, skipping.\n"
          ]
        },
        {
          "output_type": "stream",
          "name": "stdout",
          "text": [
            "\b\b\b\b\b\b\b\b\b\b\b\b\b\b\b\b\b\b\b\b\b\b\b\b\b\b\b\b\b\b\b\b\b\b\b\b\b\b\b\b\b\b\b\b\b\b\b\b\b\b\b\b\b\b\b\b\b\b\b\b\b\b\b\b\b\b\b\b\b\b\b\b\b\b\b\b\b\b\b\b\r1/1 [==============================] - 0s 122ms/step - loss: 0.7825 - accuracy: 0.7524\n",
            "Epoch 213/1000\n",
            "1/1 [==============================] - 0s 35ms/step\n",
            "\n",
            "Validation Accuracy: 36.11111111111111 %\n"
          ]
        },
        {
          "output_type": "stream",
          "name": "stderr",
          "text": [
            "WARNING:tensorflow:Can save best model only with val_loss available, skipping.\n"
          ]
        },
        {
          "output_type": "stream",
          "name": "stdout",
          "text": [
            "\b\b\b\b\b\b\b\b\b\b\b\b\b\b\b\b\b\b\b\b\b\b\b\b\b\b\b\b\b\b\b\b\b\b\b\b\b\b\b\b\b\b\b\b\b\b\b\b\b\b\b\b\b\b\b\b\b\b\b\b\b\b\b\b\b\b\b\b\b\b\b\b\b\b\b\b\b\b\b\b\r1/1 [==============================] - 0s 178ms/step - loss: 0.7716 - accuracy: 0.7539\n",
            "Epoch 214/1000\n",
            "1/1 [==============================] - 0s 29ms/step\n",
            "\n",
            "Validation Accuracy: 36.11111111111111 %\n"
          ]
        },
        {
          "output_type": "stream",
          "name": "stderr",
          "text": [
            "WARNING:tensorflow:Can save best model only with val_loss available, skipping.\n"
          ]
        },
        {
          "output_type": "stream",
          "name": "stdout",
          "text": [
            "\b\b\b\b\b\b\b\b\b\b\b\b\b\b\b\b\b\b\b\b\b\b\b\b\b\b\b\b\b\b\b\b\b\b\b\b\b\b\b\b\b\b\b\b\b\b\b\b\b\b\b\b\b\b\b\b\b\b\b\b\b\b\b\b\b\b\b\b\b\b\b\b\b\b\b\b\b\b\b\b\r1/1 [==============================] - 0s 151ms/step - loss: 0.7728 - accuracy: 0.7525\n",
            "Epoch 215/1000\n",
            "1/1 [==============================] - 0s 35ms/step\n",
            "\n",
            "Validation Accuracy: 35.55555555555556 %\n"
          ]
        },
        {
          "output_type": "stream",
          "name": "stderr",
          "text": [
            "WARNING:tensorflow:Can save best model only with val_loss available, skipping.\n"
          ]
        },
        {
          "output_type": "stream",
          "name": "stdout",
          "text": [
            "\b\b\b\b\b\b\b\b\b\b\b\b\b\b\b\b\b\b\b\b\b\b\b\b\b\b\b\b\b\b\b\b\b\b\b\b\b\b\b\b\b\b\b\b\b\b\b\b\b\b\b\b\b\b\b\b\b\b\b\b\b\b\b\b\b\b\b\b\b\b\b\b\b\b\b\b\b\b\b\b\r1/1 [==============================] - 0s 185ms/step - loss: 0.7712 - accuracy: 0.7587\n",
            "Epoch 216/1000\n",
            "1/1 [==============================] - 0s 31ms/step\n",
            "\n",
            "Validation Accuracy: 36.666666666666664 %\n"
          ]
        },
        {
          "output_type": "stream",
          "name": "stderr",
          "text": [
            "WARNING:tensorflow:Can save best model only with val_loss available, skipping.\n"
          ]
        },
        {
          "output_type": "stream",
          "name": "stdout",
          "text": [
            "\b\b\b\b\b\b\b\b\b\b\b\b\b\b\b\b\b\b\b\b\b\b\b\b\b\b\b\b\b\b\b\b\b\b\b\b\b\b\b\b\b\b\b\b\b\b\b\b\b\b\b\b\b\b\b\b\b\b\b\b\b\b\b\b\b\b\b\b\b\b\b\b\b\b\b\b\b\b\b\b\r1/1 [==============================] - 0s 184ms/step - loss: 0.7697 - accuracy: 0.7552\n",
            "Epoch 217/1000\n",
            "1/1 [==============================] - 0s 29ms/step\n",
            "\n",
            "Validation Accuracy: 35.55555555555556 %\n"
          ]
        },
        {
          "output_type": "stream",
          "name": "stderr",
          "text": [
            "WARNING:tensorflow:Can save best model only with val_loss available, skipping.\n"
          ]
        },
        {
          "output_type": "stream",
          "name": "stdout",
          "text": [
            "\b\b\b\b\b\b\b\b\b\b\b\b\b\b\b\b\b\b\b\b\b\b\b\b\b\b\b\b\b\b\b\b\b\b\b\b\b\b\b\b\b\b\b\b\b\b\b\b\b\b\b\b\b\b\b\b\b\b\b\b\b\b\b\b\b\b\b\b\b\b\b\b\b\b\b\b\b\b\b\b\r1/1 [==============================] - 0s 156ms/step - loss: 0.7664 - accuracy: 0.7578\n",
            "Epoch 218/1000\n",
            "1/1 [==============================] - 0s 30ms/step\n",
            "\n",
            "Validation Accuracy: 36.11111111111111 %\n"
          ]
        },
        {
          "output_type": "stream",
          "name": "stderr",
          "text": [
            "WARNING:tensorflow:Can save best model only with val_loss available, skipping.\n"
          ]
        },
        {
          "output_type": "stream",
          "name": "stdout",
          "text": [
            "\b\b\b\b\b\b\b\b\b\b\b\b\b\b\b\b\b\b\b\b\b\b\b\b\b\b\b\b\b\b\b\b\b\b\b\b\b\b\b\b\b\b\b\b\b\b\b\b\b\b\b\b\b\b\b\b\b\b\b\b\b\b\b\b\b\b\b\b\b\b\b\b\b\b\b\b\b\b\b\b\r1/1 [==============================] - 0s 150ms/step - loss: 0.7689 - accuracy: 0.7508\n",
            "Epoch 219/1000\n",
            "1/1 [==============================] - 0s 30ms/step\n",
            "\n",
            "Validation Accuracy: 35.0 %\n"
          ]
        },
        {
          "output_type": "stream",
          "name": "stderr",
          "text": [
            "WARNING:tensorflow:Can save best model only with val_loss available, skipping.\n"
          ]
        },
        {
          "output_type": "stream",
          "name": "stdout",
          "text": [
            "\b\b\b\b\b\b\b\b\b\b\b\b\b\b\b\b\b\b\b\b\b\b\b\b\b\b\b\b\b\b\b\b\b\b\b\b\b\b\b\b\b\b\b\b\b\b\b\b\b\b\b\b\b\b\b\b\b\b\b\b\b\b\b\b\b\b\b\b\b\b\b\b\b\b\b\b\b\b\b\b\r1/1 [==============================] - 0s 163ms/step - loss: 0.7549 - accuracy: 0.7563\n",
            "Epoch 220/1000\n",
            "1/1 [==============================] - 0s 30ms/step\n",
            "\n",
            "Validation Accuracy: 33.88888888888889 %\n"
          ]
        },
        {
          "output_type": "stream",
          "name": "stderr",
          "text": [
            "WARNING:tensorflow:Can save best model only with val_loss available, skipping.\n"
          ]
        },
        {
          "output_type": "stream",
          "name": "stdout",
          "text": [
            "\b\b\b\b\b\b\b\b\b\b\b\b\b\b\b\b\b\b\b\b\b\b\b\b\b\b\b\b\b\b\b\b\b\b\b\b\b\b\b\b\b\b\b\b\b\b\b\b\b\b\b\b\b\b\b\b\b\b\b\b\b\b\b\b\b\b\b\b\b\b\b\b\b\b\b\b\b\b\b\b\r1/1 [==============================] - 0s 155ms/step - loss: 0.7683 - accuracy: 0.7556\n",
            "Epoch 221/1000\n",
            "1/1 [==============================] - 0s 29ms/step\n",
            "\n",
            "Validation Accuracy: 34.44444444444444 %\n"
          ]
        },
        {
          "output_type": "stream",
          "name": "stderr",
          "text": [
            "WARNING:tensorflow:Can save best model only with val_loss available, skipping.\n"
          ]
        },
        {
          "output_type": "stream",
          "name": "stdout",
          "text": [
            "\b\b\b\b\b\b\b\b\b\b\b\b\b\b\b\b\b\b\b\b\b\b\b\b\b\b\b\b\b\b\b\b\b\b\b\b\b\b\b\b\b\b\b\b\b\b\b\b\b\b\b\b\b\b\b\b\b\b\b\b\b\b\b\b\b\b\b\b\b\b\b\b\b\b\b\b\b\b\b\b\r1/1 [==============================] - 0s 148ms/step - loss: 0.7534 - accuracy: 0.7613\n",
            "Epoch 222/1000\n",
            "1/1 [==============================] - 0s 29ms/step\n",
            "\n",
            "Validation Accuracy: 34.44444444444444 %\n"
          ]
        },
        {
          "output_type": "stream",
          "name": "stderr",
          "text": [
            "WARNING:tensorflow:Can save best model only with val_loss available, skipping.\n"
          ]
        },
        {
          "output_type": "stream",
          "name": "stdout",
          "text": [
            "\b\b\b\b\b\b\b\b\b\b\b\b\b\b\b\b\b\b\b\b\b\b\b\b\b\b\b\b\b\b\b\b\b\b\b\b\b\b\b\b\b\b\b\b\b\b\b\b\b\b\b\b\b\b\b\b\b\b\b\b\b\b\b\b\b\b\b\b\b\b\b\b\b\b\b\b\b\b\b\b\r1/1 [==============================] - 0s 148ms/step - loss: 0.7621 - accuracy: 0.7563\n",
            "Epoch 223/1000\n",
            "1/1 [==============================] - 0s 31ms/step\n",
            "\n",
            "Validation Accuracy: 33.33333333333333 %\n"
          ]
        },
        {
          "output_type": "stream",
          "name": "stderr",
          "text": [
            "WARNING:tensorflow:Can save best model only with val_loss available, skipping.\n"
          ]
        },
        {
          "output_type": "stream",
          "name": "stdout",
          "text": [
            "\b\b\b\b\b\b\b\b\b\b\b\b\b\b\b\b\b\b\b\b\b\b\b\b\b\b\b\b\b\b\b\b\b\b\b\b\b\b\b\b\b\b\b\b\b\b\b\b\b\b\b\b\b\b\b\b\b\b\b\b\b\b\b\b\b\b\b\b\b\b\b\b\b\b\b\b\b\b\b\b\r1/1 [==============================] - 0s 148ms/step - loss: 0.7536 - accuracy: 0.7553\n",
            "Epoch 224/1000\n",
            "1/1 [==============================] - 0s 32ms/step\n",
            "\n",
            "Validation Accuracy: 36.11111111111111 %\n"
          ]
        },
        {
          "output_type": "stream",
          "name": "stderr",
          "text": [
            "WARNING:tensorflow:Can save best model only with val_loss available, skipping.\n"
          ]
        },
        {
          "output_type": "stream",
          "name": "stdout",
          "text": [
            "\b\b\b\b\b\b\b\b\b\b\b\b\b\b\b\b\b\b\b\b\b\b\b\b\b\b\b\b\b\b\b\b\b\b\b\b\b\b\b\b\b\b\b\b\b\b\b\b\b\b\b\b\b\b\b\b\b\b\b\b\b\b\b\b\b\b\b\b\b\b\b\b\b\b\b\b\b\b\b\b\r1/1 [==============================] - 0s 176ms/step - loss: 0.7545 - accuracy: 0.7630\n",
            "Epoch 225/1000\n",
            "1/1 [==============================] - 0s 28ms/step\n",
            "\n",
            "Validation Accuracy: 35.0 %\n"
          ]
        },
        {
          "output_type": "stream",
          "name": "stderr",
          "text": [
            "WARNING:tensorflow:Can save best model only with val_loss available, skipping.\n"
          ]
        },
        {
          "output_type": "stream",
          "name": "stdout",
          "text": [
            "\b\b\b\b\b\b\b\b\b\b\b\b\b\b\b\b\b\b\b\b\b\b\b\b\b\b\b\b\b\b\b\b\b\b\b\b\b\b\b\b\b\b\b\b\b\b\b\b\b\b\b\b\b\b\b\b\b\b\b\b\b\b\b\b\b\b\b\b\b\b\b\b\b\b\b\b\b\b\b\b\r1/1 [==============================] - 0s 148ms/step - loss: 0.7629 - accuracy: 0.7553\n",
            "Epoch 226/1000\n",
            "1/1 [==============================] - 0s 30ms/step\n",
            "\n",
            "Validation Accuracy: 33.88888888888889 %\n"
          ]
        },
        {
          "output_type": "stream",
          "name": "stderr",
          "text": [
            "WARNING:tensorflow:Can save best model only with val_loss available, skipping.\n"
          ]
        },
        {
          "output_type": "stream",
          "name": "stdout",
          "text": [
            "\b\b\b\b\b\b\b\b\b\b\b\b\b\b\b\b\b\b\b\b\b\b\b\b\b\b\b\b\b\b\b\b\b\b\b\b\b\b\b\b\b\b\b\b\b\b\b\b\b\b\b\b\b\b\b\b\b\b\b\b\b\b\b\b\b\b\b\b\b\b\b\b\b\b\b\b\b\b\b\b\r1/1 [==============================] - 0s 154ms/step - loss: 0.7521 - accuracy: 0.7560\n",
            "Epoch 227/1000\n",
            "1/1 [==============================] - 0s 30ms/step\n",
            "\n",
            "Validation Accuracy: 35.0 %\n"
          ]
        },
        {
          "output_type": "stream",
          "name": "stderr",
          "text": [
            "WARNING:tensorflow:Can save best model only with val_loss available, skipping.\n"
          ]
        },
        {
          "output_type": "stream",
          "name": "stdout",
          "text": [
            "\b\b\b\b\b\b\b\b\b\b\b\b\b\b\b\b\b\b\b\b\b\b\b\b\b\b\b\b\b\b\b\b\b\b\b\b\b\b\b\b\b\b\b\b\b\b\b\b\b\b\b\b\b\b\b\b\b\b\b\b\b\b\b\b\b\b\b\b\b\b\b\b\b\b\b\b\b\b\b\b\r1/1 [==============================] - 0s 148ms/step - loss: 0.7566 - accuracy: 0.7594\n",
            "Epoch 228/1000\n",
            "1/1 [==============================] - 0s 32ms/step\n",
            "\n",
            "Validation Accuracy: 36.666666666666664 %\n"
          ]
        },
        {
          "output_type": "stream",
          "name": "stderr",
          "text": [
            "WARNING:tensorflow:Can save best model only with val_loss available, skipping.\n"
          ]
        },
        {
          "output_type": "stream",
          "name": "stdout",
          "text": [
            "\b\b\b\b\b\b\b\b\b\b\b\b\b\b\b\b\b\b\b\b\b\b\b\b\b\b\b\b\b\b\b\b\b\b\b\b\b\b\b\b\b\b\b\b\b\b\b\b\b\b\b\b\b\b\b\b\b\b\b\b\b\b\b\b\b\b\b\b\b\b\b\b\b\b\b\b\b\b\b\b\r1/1 [==============================] - 0s 194ms/step - loss: 0.7515 - accuracy: 0.7605\n",
            "Epoch 229/1000\n",
            "1/1 [==============================] - 0s 30ms/step\n",
            "\n",
            "Validation Accuracy: 36.11111111111111 %\n"
          ]
        },
        {
          "output_type": "stream",
          "name": "stderr",
          "text": [
            "WARNING:tensorflow:Can save best model only with val_loss available, skipping.\n"
          ]
        },
        {
          "output_type": "stream",
          "name": "stdout",
          "text": [
            "\b\b\b\b\b\b\b\b\b\b\b\b\b\b\b\b\b\b\b\b\b\b\b\b\b\b\b\b\b\b\b\b\b\b\b\b\b\b\b\b\b\b\b\b\b\b\b\b\b\b\b\b\b\b\b\b\b\b\b\b\b\b\b\b\b\b\b\b\b\b\b\b\b\b\b\b\b\b\b\b\r1/1 [==============================] - 0s 176ms/step - loss: 0.7472 - accuracy: 0.7633\n",
            "Epoch 230/1000\n",
            "1/1 [==============================] - 0s 32ms/step\n",
            "\n",
            "Validation Accuracy: 36.11111111111111 %\n"
          ]
        },
        {
          "output_type": "stream",
          "name": "stderr",
          "text": [
            "WARNING:tensorflow:Can save best model only with val_loss available, skipping.\n"
          ]
        },
        {
          "output_type": "stream",
          "name": "stdout",
          "text": [
            "\b\b\b\b\b\b\b\b\b\b\b\b\b\b\b\b\b\b\b\b\b\b\b\b\b\b\b\b\b\b\b\b\b\b\b\b\b\b\b\b\b\b\b\b\b\b\b\b\b\b\b\b\b\b\b\b\b\b\b\b\b\b\b\b\b\b\b\b\b\b\b\b\b\b\b\b\b\b\b\b\r1/1 [==============================] - 0s 191ms/step - loss: 0.7572 - accuracy: 0.7587\n",
            "Epoch 231/1000\n",
            "1/1 [==============================] - 0s 31ms/step\n",
            "\n",
            "Validation Accuracy: 36.11111111111111 %\n"
          ]
        },
        {
          "output_type": "stream",
          "name": "stderr",
          "text": [
            "WARNING:tensorflow:Can save best model only with val_loss available, skipping.\n"
          ]
        },
        {
          "output_type": "stream",
          "name": "stdout",
          "text": [
            "\b\b\b\b\b\b\b\b\b\b\b\b\b\b\b\b\b\b\b\b\b\b\b\b\b\b\b\b\b\b\b\b\b\b\b\b\b\b\b\b\b\b\b\b\b\b\b\b\b\b\b\b\b\b\b\b\b\b\b\b\b\b\b\b\b\b\b\b\b\b\b\b\b\b\b\b\b\b\b\b\r1/1 [==============================] - 0s 221ms/step - loss: 0.7411 - accuracy: 0.7669\n",
            "Epoch 232/1000\n",
            "1/1 [==============================] - 0s 29ms/step\n",
            "\n",
            "Validation Accuracy: 36.666666666666664 %\n"
          ]
        },
        {
          "output_type": "stream",
          "name": "stderr",
          "text": [
            "WARNING:tensorflow:Can save best model only with val_loss available, skipping.\n"
          ]
        },
        {
          "output_type": "stream",
          "name": "stdout",
          "text": [
            "\b\b\b\b\b\b\b\b\b\b\b\b\b\b\b\b\b\b\b\b\b\b\b\b\b\b\b\b\b\b\b\b\b\b\b\b\b\b\b\b\b\b\b\b\b\b\b\b\b\b\b\b\b\b\b\b\b\b\b\b\b\b\b\b\b\b\b\b\b\b\b\b\b\b\b\b\b\b\b\b\r1/1 [==============================] - 0s 211ms/step - loss: 0.7475 - accuracy: 0.7602\n",
            "Epoch 233/1000\n",
            "1/1 [==============================] - 0s 32ms/step\n",
            "\n",
            "Validation Accuracy: 36.11111111111111 %\n"
          ]
        },
        {
          "output_type": "stream",
          "name": "stderr",
          "text": [
            "WARNING:tensorflow:Can save best model only with val_loss available, skipping.\n"
          ]
        },
        {
          "output_type": "stream",
          "name": "stdout",
          "text": [
            "\b\b\b\b\b\b\b\b\b\b\b\b\b\b\b\b\b\b\b\b\b\b\b\b\b\b\b\b\b\b\b\b\b\b\b\b\b\b\b\b\b\b\b\b\b\b\b\b\b\b\b\b\b\b\b\b\b\b\b\b\b\b\b\b\b\b\b\b\b\b\b\b\b\b\b\b\b\b\b\b\r1/1 [==============================] - 0s 181ms/step - loss: 0.7462 - accuracy: 0.7587\n",
            "Epoch 234/1000\n",
            "1/1 [==============================] - 0s 34ms/step\n",
            "\n",
            "Validation Accuracy: 35.0 %\n"
          ]
        },
        {
          "output_type": "stream",
          "name": "stderr",
          "text": [
            "WARNING:tensorflow:Can save best model only with val_loss available, skipping.\n"
          ]
        },
        {
          "output_type": "stream",
          "name": "stdout",
          "text": [
            "\b\b\b\b\b\b\b\b\b\b\b\b\b\b\b\b\b\b\b\b\b\b\b\b\b\b\b\b\b\b\b\b\b\b\b\b\b\b\b\b\b\b\b\b\b\b\b\b\b\b\b\b\b\b\b\b\b\b\b\b\b\b\b\b\b\b\b\b\b\b\b\b\b\b\b\b\b\b\b\b\r1/1 [==============================] - 0s 190ms/step - loss: 0.7400 - accuracy: 0.7615\n",
            "Epoch 235/1000\n",
            "1/1 [==============================] - 0s 28ms/step\n",
            "\n",
            "Validation Accuracy: 36.666666666666664 %\n"
          ]
        },
        {
          "output_type": "stream",
          "name": "stderr",
          "text": [
            "WARNING:tensorflow:Can save best model only with val_loss available, skipping.\n"
          ]
        },
        {
          "output_type": "stream",
          "name": "stdout",
          "text": [
            "\b\b\b\b\b\b\b\b\b\b\b\b\b\b\b\b\b\b\b\b\b\b\b\b\b\b\b\b\b\b\b\b\b\b\b\b\b\b\b\b\b\b\b\b\b\b\b\b\b\b\b\b\b\b\b\b\b\b\b\b\b\b\b\b\b\b\b\b\b\b\b\b\b\b\b\b\b\b\b\b\r1/1 [==============================] - 0s 185ms/step - loss: 0.7391 - accuracy: 0.7626\n",
            "Epoch 236/1000\n",
            "1/1 [==============================] - 0s 28ms/step\n",
            "\n",
            "Validation Accuracy: 36.11111111111111 %\n"
          ]
        },
        {
          "output_type": "stream",
          "name": "stderr",
          "text": [
            "WARNING:tensorflow:Can save best model only with val_loss available, skipping.\n"
          ]
        },
        {
          "output_type": "stream",
          "name": "stdout",
          "text": [
            "\b\b\b\b\b\b\b\b\b\b\b\b\b\b\b\b\b\b\b\b\b\b\b\b\b\b\b\b\b\b\b\b\b\b\b\b\b\b\b\b\b\b\b\b\b\b\b\b\b\b\b\b\b\b\b\b\b\b\b\b\b\b\b\b\b\b\b\b\b\b\b\b\b\b\b\b\b\b\b\b\r1/1 [==============================] - 0s 171ms/step - loss: 0.7449 - accuracy: 0.7609\n",
            "Epoch 237/1000\n",
            "1/1 [==============================] - 0s 29ms/step\n",
            "\n",
            "Validation Accuracy: 35.55555555555556 %\n"
          ]
        },
        {
          "output_type": "stream",
          "name": "stderr",
          "text": [
            "WARNING:tensorflow:Can save best model only with val_loss available, skipping.\n"
          ]
        },
        {
          "output_type": "stream",
          "name": "stdout",
          "text": [
            "\b\b\b\b\b\b\b\b\b\b\b\b\b\b\b\b\b\b\b\b\b\b\b\b\b\b\b\b\b\b\b\b\b\b\b\b\b\b\b\b\b\b\b\b\b\b\b\b\b\b\b\b\b\b\b\b\b\b\b\b\b\b\b\b\b\b\b\b\b\b\b\b\b\b\b\b\b\b\b\b\r1/1 [==============================] - 0s 162ms/step - loss: 0.7407 - accuracy: 0.7623\n",
            "Epoch 238/1000\n",
            "1/1 [==============================] - 0s 37ms/step\n",
            "\n",
            "Validation Accuracy: 36.666666666666664 %\n"
          ]
        },
        {
          "output_type": "stream",
          "name": "stderr",
          "text": [
            "WARNING:tensorflow:Can save best model only with val_loss available, skipping.\n"
          ]
        },
        {
          "output_type": "stream",
          "name": "stdout",
          "text": [
            "\b\b\b\b\b\b\b\b\b\b\b\b\b\b\b\b\b\b\b\b\b\b\b\b\b\b\b\b\b\b\b\b\b\b\b\b\b\b\b\b\b\b\b\b\b\b\b\b\b\b\b\b\b\b\b\b\b\b\b\b\b\b\b\b\b\b\b\b\b\b\b\b\b\b\b\b\b\b\b\b\r1/1 [==============================] - 0s 159ms/step - loss: 0.7388 - accuracy: 0.7606\n",
            "Epoch 239/1000\n",
            "1/1 [==============================] - 0s 29ms/step\n",
            "\n",
            "Validation Accuracy: 36.666666666666664 %\n"
          ]
        },
        {
          "output_type": "stream",
          "name": "stderr",
          "text": [
            "WARNING:tensorflow:Can save best model only with val_loss available, skipping.\n"
          ]
        },
        {
          "output_type": "stream",
          "name": "stdout",
          "text": [
            "\b\b\b\b\b\b\b\b\b\b\b\b\b\b\b\b\b\b\b\b\b\b\b\b\b\b\b\b\b\b\b\b\b\b\b\b\b\b\b\b\b\b\b\b\b\b\b\b\b\b\b\b\b\b\b\b\b\b\b\b\b\b\b\b\b\b\b\b\b\b\b\b\b\b\b\b\b\b\b\b\r1/1 [==============================] - 0s 143ms/step - loss: 0.7364 - accuracy: 0.7643\n",
            "Epoch 240/1000\n",
            "1/1 [==============================] - 0s 37ms/step\n",
            "\n",
            "Validation Accuracy: 35.55555555555556 %\n"
          ]
        },
        {
          "output_type": "stream",
          "name": "stderr",
          "text": [
            "WARNING:tensorflow:Can save best model only with val_loss available, skipping.\n"
          ]
        },
        {
          "output_type": "stream",
          "name": "stdout",
          "text": [
            "\b\b\b\b\b\b\b\b\b\b\b\b\b\b\b\b\b\b\b\b\b\b\b\b\b\b\b\b\b\b\b\b\b\b\b\b\b\b\b\b\b\b\b\b\b\b\b\b\b\b\b\b\b\b\b\b\b\b\b\b\b\b\b\b\b\b\b\b\b\b\b\b\b\b\b\b\b\b\b\b\r1/1 [==============================] - 0s 167ms/step - loss: 0.7384 - accuracy: 0.7664\n",
            "Epoch 241/1000\n",
            "1/1 [==============================] - 0s 31ms/step\n",
            "\n",
            "Validation Accuracy: 36.11111111111111 %\n"
          ]
        },
        {
          "output_type": "stream",
          "name": "stderr",
          "text": [
            "WARNING:tensorflow:Can save best model only with val_loss available, skipping.\n"
          ]
        },
        {
          "output_type": "stream",
          "name": "stdout",
          "text": [
            "\b\b\b\b\b\b\b\b\b\b\b\b\b\b\b\b\b\b\b\b\b\b\b\b\b\b\b\b\b\b\b\b\b\b\b\b\b\b\b\b\b\b\b\b\b\b\b\b\b\b\b\b\b\b\b\b\b\b\b\b\b\b\b\b\b\b\b\b\b\b\b\b\b\b\b\b\b\b\b\b\r1/1 [==============================] - 0s 205ms/step - loss: 0.7459 - accuracy: 0.7590\n",
            "Epoch 242/1000\n",
            "1/1 [==============================] - 0s 32ms/step\n",
            "\n",
            "Validation Accuracy: 36.11111111111111 %\n"
          ]
        },
        {
          "output_type": "stream",
          "name": "stderr",
          "text": [
            "WARNING:tensorflow:Can save best model only with val_loss available, skipping.\n"
          ]
        },
        {
          "output_type": "stream",
          "name": "stdout",
          "text": [
            "\b\b\b\b\b\b\b\b\b\b\b\b\b\b\b\b\b\b\b\b\b\b\b\b\b\b\b\b\b\b\b\b\b\b\b\b\b\b\b\b\b\b\b\b\b\b\b\b\b\b\b\b\b\b\b\b\b\b\b\b\b\b\b\b\b\b\b\b\b\b\b\b\b\b\b\b\b\b\b\b\r1/1 [==============================] - 0s 208ms/step - loss: 0.7281 - accuracy: 0.7706\n",
            "Epoch 243/1000\n",
            "1/1 [==============================] - 0s 31ms/step\n",
            "\n",
            "Validation Accuracy: 34.44444444444444 %\n"
          ]
        },
        {
          "output_type": "stream",
          "name": "stderr",
          "text": [
            "WARNING:tensorflow:Can save best model only with val_loss available, skipping.\n"
          ]
        },
        {
          "output_type": "stream",
          "name": "stdout",
          "text": [
            "\b\b\b\b\b\b\b\b\b\b\b\b\b\b\b\b\b\b\b\b\b\b\b\b\b\b\b\b\b\b\b\b\b\b\b\b\b\b\b\b\b\b\b\b\b\b\b\b\b\b\b\b\b\b\b\b\b\b\b\b\b\b\b\b\b\b\b\b\b\b\b\b\b\b\b\b\b\b\b\b\r1/1 [==============================] - 0s 187ms/step - loss: 0.7241 - accuracy: 0.7702\n",
            "Epoch 244/1000\n",
            "1/1 [==============================] - 0s 27ms/step\n",
            "\n",
            "Validation Accuracy: 36.11111111111111 %\n"
          ]
        },
        {
          "output_type": "stream",
          "name": "stderr",
          "text": [
            "WARNING:tensorflow:Can save best model only with val_loss available, skipping.\n"
          ]
        },
        {
          "output_type": "stream",
          "name": "stdout",
          "text": [
            "\b\b\b\b\b\b\b\b\b\b\b\b\b\b\b\b\b\b\b\b\b\b\b\b\b\b\b\b\b\b\b\b\b\b\b\b\b\b\b\b\b\b\b\b\b\b\b\b\b\b\b\b\b\b\b\b\b\b\b\b\b\b\b\b\b\b\b\b\b\b\b\b\b\b\b\b\b\b\b\b\r1/1 [==============================] - 0s 200ms/step - loss: 0.7293 - accuracy: 0.7640\n",
            "Epoch 245/1000\n",
            "1/1 [==============================] - 0s 28ms/step\n",
            "\n",
            "Validation Accuracy: 37.77777777777778 %\n"
          ]
        },
        {
          "output_type": "stream",
          "name": "stderr",
          "text": [
            "WARNING:tensorflow:Can save best model only with val_loss available, skipping.\n"
          ]
        },
        {
          "output_type": "stream",
          "name": "stdout",
          "text": [
            "\b\b\b\b\b\b\b\b\b\b\b\b\b\b\b\b\b\b\b\b\b\b\b\b\b\b\b\b\b\b\b\b\b\b\b\b\b\b\b\b\b\b\b\b\b\b\b\b\b\b\b\b\b\b\b\b\b\b\b\b\b\b\b\b\b\b\b\b\b\b\b\b\b\b\b\b\b\b\b\b\r1/1 [==============================] - 0s 181ms/step - loss: 0.7349 - accuracy: 0.7685\n",
            "Epoch 246/1000\n",
            "1/1 [==============================] - 0s 29ms/step\n",
            "\n",
            "Validation Accuracy: 36.11111111111111 %\n"
          ]
        },
        {
          "output_type": "stream",
          "name": "stderr",
          "text": [
            "WARNING:tensorflow:Can save best model only with val_loss available, skipping.\n"
          ]
        },
        {
          "output_type": "stream",
          "name": "stdout",
          "text": [
            "\b\b\b\b\b\b\b\b\b\b\b\b\b\b\b\b\b\b\b\b\b\b\b\b\b\b\b\b\b\b\b\b\b\b\b\b\b\b\b\b\b\b\b\b\b\b\b\b\b\b\b\b\b\b\b\b\b\b\b\b\b\b\b\b\b\b\b\b\b\b\b\b\b\b\b\b\b\b\b\b\r1/1 [==============================] - 0s 174ms/step - loss: 0.7309 - accuracy: 0.7646\n",
            "Epoch 247/1000\n",
            "1/1 [==============================] - 0s 41ms/step\n",
            "\n",
            "Validation Accuracy: 36.11111111111111 %\n"
          ]
        },
        {
          "output_type": "stream",
          "name": "stderr",
          "text": [
            "WARNING:tensorflow:Can save best model only with val_loss available, skipping.\n"
          ]
        },
        {
          "output_type": "stream",
          "name": "stdout",
          "text": [
            "\b\b\b\b\b\b\b\b\b\b\b\b\b\b\b\b\b\b\b\b\b\b\b\b\b\b\b\b\b\b\b\b\b\b\b\b\b\b\b\b\b\b\b\b\b\b\b\b\b\b\b\b\b\b\b\b\b\b\b\b\b\b\b\b\b\b\b\b\b\b\b\b\b\b\b\b\b\b\b\b\r1/1 [==============================] - 0s 197ms/step - loss: 0.7256 - accuracy: 0.7668\n",
            "Epoch 248/1000\n",
            "1/1 [==============================] - 0s 30ms/step\n",
            "\n",
            "Validation Accuracy: 37.22222222222222 %\n"
          ]
        },
        {
          "output_type": "stream",
          "name": "stderr",
          "text": [
            "WARNING:tensorflow:Can save best model only with val_loss available, skipping.\n"
          ]
        },
        {
          "output_type": "stream",
          "name": "stdout",
          "text": [
            "\b\b\b\b\b\b\b\b\b\b\b\b\b\b\b\b\b\b\b\b\b\b\b\b\b\b\b\b\b\b\b\b\b\b\b\b\b\b\b\b\b\b\b\b\b\b\b\b\b\b\b\b\b\b\b\b\b\b\b\b\b\b\b\b\b\b\b\b\b\b\b\b\b\b\b\b\b\b\b\b\r1/1 [==============================] - 0s 198ms/step - loss: 0.7177 - accuracy: 0.7702\n",
            "Epoch 249/1000\n",
            "1/1 [==============================] - 0s 30ms/step\n",
            "\n",
            "Validation Accuracy: 36.11111111111111 %\n"
          ]
        },
        {
          "output_type": "stream",
          "name": "stderr",
          "text": [
            "WARNING:tensorflow:Can save best model only with val_loss available, skipping.\n"
          ]
        },
        {
          "output_type": "stream",
          "name": "stdout",
          "text": [
            "\b\b\b\b\b\b\b\b\b\b\b\b\b\b\b\b\b\b\b\b\b\b\b\b\b\b\b\b\b\b\b\b\b\b\b\b\b\b\b\b\b\b\b\b\b\b\b\b\b\b\b\b\b\b\b\b\b\b\b\b\b\b\b\b\b\b\b\b\b\b\b\b\b\b\b\b\b\b\b\b\r1/1 [==============================] - 0s 192ms/step - loss: 0.7222 - accuracy: 0.7660\n",
            "Epoch 250/1000\n",
            "1/1 [==============================] - 0s 29ms/step\n",
            "\n",
            "Validation Accuracy: 35.55555555555556 %\n"
          ]
        },
        {
          "output_type": "stream",
          "name": "stderr",
          "text": [
            "WARNING:tensorflow:Can save best model only with val_loss available, skipping.\n"
          ]
        },
        {
          "output_type": "stream",
          "name": "stdout",
          "text": [
            "\b\b\b\b\b\b\b\b\b\b\b\b\b\b\b\b\b\b\b\b\b\b\b\b\b\b\b\b\b\b\b\b\b\b\b\b\b\b\b\b\b\b\b\b\b\b\b\b\b\b\b\b\b\b\b\b\b\b\b\b\b\b\b\b\b\b\b\b\b\b\b\b\b\b\b\b\b\b\b\b\r1/1 [==============================] - 0s 179ms/step - loss: 0.7211 - accuracy: 0.7727\n",
            "Epoch 251/1000\n",
            "1/1 [==============================] - 0s 29ms/step\n",
            "\n",
            "Validation Accuracy: 36.666666666666664 %\n"
          ]
        },
        {
          "output_type": "stream",
          "name": "stderr",
          "text": [
            "WARNING:tensorflow:Can save best model only with val_loss available, skipping.\n"
          ]
        },
        {
          "output_type": "stream",
          "name": "stdout",
          "text": [
            "\b\b\b\b\b\b\b\b\b\b\b\b\b\b\b\b\b\b\b\b\b\b\b\b\b\b\b\b\b\b\b\b\b\b\b\b\b\b\b\b\b\b\b\b\b\b\b\b\b\b\b\b\b\b\b\b\b\b\b\b\b\b\b\b\b\b\b\b\b\b\b\b\b\b\b\b\b\b\b\b\r1/1 [==============================] - 0s 184ms/step - loss: 0.7238 - accuracy: 0.7664\n",
            "Epoch 252/1000\n",
            "1/1 [==============================] - 0s 33ms/step\n",
            "\n",
            "Validation Accuracy: 35.0 %\n"
          ]
        },
        {
          "output_type": "stream",
          "name": "stderr",
          "text": [
            "WARNING:tensorflow:Can save best model only with val_loss available, skipping.\n"
          ]
        },
        {
          "output_type": "stream",
          "name": "stdout",
          "text": [
            "\b\b\b\b\b\b\b\b\b\b\b\b\b\b\b\b\b\b\b\b\b\b\b\b\b\b\b\b\b\b\b\b\b\b\b\b\b\b\b\b\b\b\b\b\b\b\b\b\b\b\b\b\b\b\b\b\b\b\b\b\b\b\b\b\b\b\b\b\b\b\b\b\b\b\b\b\b\b\b\b\r1/1 [==============================] - 0s 168ms/step - loss: 0.7290 - accuracy: 0.7669\n",
            "Epoch 253/1000\n",
            "1/1 [==============================] - 0s 31ms/step\n",
            "\n",
            "Validation Accuracy: 36.11111111111111 %\n"
          ]
        },
        {
          "output_type": "stream",
          "name": "stderr",
          "text": [
            "WARNING:tensorflow:Can save best model only with val_loss available, skipping.\n"
          ]
        },
        {
          "output_type": "stream",
          "name": "stdout",
          "text": [
            "\b\b\b\b\b\b\b\b\b\b\b\b\b\b\b\b\b\b\b\b\b\b\b\b\b\b\b\b\b\b\b\b\b\b\b\b\b\b\b\b\b\b\b\b\b\b\b\b\b\b\b\b\b\b\b\b\b\b\b\b\b\b\b\b\b\b\b\b\b\b\b\b\b\b\b\b\b\b\b\b\r1/1 [==============================] - 0s 167ms/step - loss: 0.7195 - accuracy: 0.7669\n",
            "Epoch 254/1000\n",
            "1/1 [==============================] - 0s 24ms/step\n",
            "\n",
            "Validation Accuracy: 36.666666666666664 %\n"
          ]
        },
        {
          "output_type": "stream",
          "name": "stderr",
          "text": [
            "WARNING:tensorflow:Can save best model only with val_loss available, skipping.\n"
          ]
        },
        {
          "output_type": "stream",
          "name": "stdout",
          "text": [
            "\b\b\b\b\b\b\b\b\b\b\b\b\b\b\b\b\b\b\b\b\b\b\b\b\b\b\b\b\b\b\b\b\b\b\b\b\b\b\b\b\b\b\b\b\b\b\b\b\b\b\b\b\b\b\b\b\b\b\b\b\b\b\b\b\b\b\b\b\b\b\b\b\b\b\b\b\b\b\b\b\r1/1 [==============================] - 0s 172ms/step - loss: 0.7127 - accuracy: 0.7723\n",
            "Epoch 255/1000\n",
            "1/1 [==============================] - 0s 21ms/step\n",
            "\n",
            "Validation Accuracy: 36.11111111111111 %\n"
          ]
        },
        {
          "output_type": "stream",
          "name": "stderr",
          "text": [
            "WARNING:tensorflow:Can save best model only with val_loss available, skipping.\n"
          ]
        },
        {
          "output_type": "stream",
          "name": "stdout",
          "text": [
            "\b\b\b\b\b\b\b\b\b\b\b\b\b\b\b\b\b\b\b\b\b\b\b\b\b\b\b\b\b\b\b\b\b\b\b\b\b\b\b\b\b\b\b\b\b\b\b\b\b\b\b\b\b\b\b\b\b\b\b\b\b\b\b\b\b\b\b\b\b\b\b\b\b\b\b\b\b\b\b\b\r1/1 [==============================] - 0s 134ms/step - loss: 0.7221 - accuracy: 0.7688\n",
            "Epoch 256/1000\n",
            "1/1 [==============================] - 0s 21ms/step\n",
            "\n",
            "Validation Accuracy: 35.55555555555556 %\n"
          ]
        },
        {
          "output_type": "stream",
          "name": "stderr",
          "text": [
            "WARNING:tensorflow:Can save best model only with val_loss available, skipping.\n"
          ]
        },
        {
          "output_type": "stream",
          "name": "stdout",
          "text": [
            "\b\b\b\b\b\b\b\b\b\b\b\b\b\b\b\b\b\b\b\b\b\b\b\b\b\b\b\b\b\b\b\b\b\b\b\b\b\b\b\b\b\b\b\b\b\b\b\b\b\b\b\b\b\b\b\b\b\b\b\b\b\b\b\b\b\b\b\b\b\b\b\b\b\b\b\b\b\b\b\b\r1/1 [==============================] - 0s 139ms/step - loss: 0.7119 - accuracy: 0.7761\n",
            "Epoch 257/1000\n",
            "1/1 [==============================] - 0s 20ms/step\n",
            "\n",
            "Validation Accuracy: 35.0 %\n"
          ]
        },
        {
          "output_type": "stream",
          "name": "stderr",
          "text": [
            "WARNING:tensorflow:Can save best model only with val_loss available, skipping.\n"
          ]
        },
        {
          "output_type": "stream",
          "name": "stdout",
          "text": [
            "\b\b\b\b\b\b\b\b\b\b\b\b\b\b\b\b\b\b\b\b\b\b\b\b\b\b\b\b\b\b\b\b\b\b\b\b\b\b\b\b\b\b\b\b\b\b\b\b\b\b\b\b\b\b\b\b\b\b\b\b\b\b\b\b\b\b\b\b\b\b\b\b\b\b\b\b\b\b\b\b\r1/1 [==============================] - 0s 134ms/step - loss: 0.7244 - accuracy: 0.7690\n",
            "Epoch 258/1000\n",
            "1/1 [==============================] - 0s 22ms/step\n",
            "\n",
            "Validation Accuracy: 35.0 %\n"
          ]
        },
        {
          "output_type": "stream",
          "name": "stderr",
          "text": [
            "WARNING:tensorflow:Can save best model only with val_loss available, skipping.\n"
          ]
        },
        {
          "output_type": "stream",
          "name": "stdout",
          "text": [
            "\b\b\b\b\b\b\b\b\b\b\b\b\b\b\b\b\b\b\b\b\b\b\b\b\b\b\b\b\b\b\b\b\b\b\b\b\b\b\b\b\b\b\b\b\b\b\b\b\b\b\b\b\b\b\b\b\b\b\b\b\b\b\b\b\b\b\b\b\b\b\b\b\b\b\b\b\b\b\b\b\r1/1 [==============================] - 0s 140ms/step - loss: 0.7122 - accuracy: 0.7754\n",
            "Epoch 259/1000\n",
            "1/1 [==============================] - 0s 19ms/step\n",
            "\n",
            "Validation Accuracy: 36.11111111111111 %\n"
          ]
        },
        {
          "output_type": "stream",
          "name": "stderr",
          "text": [
            "WARNING:tensorflow:Can save best model only with val_loss available, skipping.\n"
          ]
        },
        {
          "output_type": "stream",
          "name": "stdout",
          "text": [
            "\b\b\b\b\b\b\b\b\b\b\b\b\b\b\b\b\b\b\b\b\b\b\b\b\b\b\b\b\b\b\b\b\b\b\b\b\b\b\b\b\b\b\b\b\b\b\b\b\b\b\b\b\b\b\b\b\b\b\b\b\b\b\b\b\b\b\b\b\b\b\b\b\b\b\b\b\b\b\b\b\r1/1 [==============================] - 0s 133ms/step - loss: 0.7140 - accuracy: 0.7676\n",
            "Epoch 260/1000\n",
            "1/1 [==============================] - 0s 24ms/step\n",
            "\n",
            "Validation Accuracy: 35.55555555555556 %\n"
          ]
        },
        {
          "output_type": "stream",
          "name": "stderr",
          "text": [
            "WARNING:tensorflow:Can save best model only with val_loss available, skipping.\n"
          ]
        },
        {
          "output_type": "stream",
          "name": "stdout",
          "text": [
            "\b\b\b\b\b\b\b\b\b\b\b\b\b\b\b\b\b\b\b\b\b\b\b\b\b\b\b\b\b\b\b\b\b\b\b\b\b\b\b\b\b\b\b\b\b\b\b\b\b\b\b\b\b\b\b\b\b\b\b\b\b\b\b\b\b\b\b\b\b\b\b\b\b\b\b\b\b\b\b\b\r1/1 [==============================] - 0s 130ms/step - loss: 0.7001 - accuracy: 0.7723\n",
            "Epoch 261/1000\n",
            "1/1 [==============================] - 0s 21ms/step\n",
            "\n",
            "Validation Accuracy: 36.11111111111111 %\n"
          ]
        },
        {
          "output_type": "stream",
          "name": "stderr",
          "text": [
            "WARNING:tensorflow:Can save best model only with val_loss available, skipping.\n"
          ]
        },
        {
          "output_type": "stream",
          "name": "stdout",
          "text": [
            "\b\b\b\b\b\b\b\b\b\b\b\b\b\b\b\b\b\b\b\b\b\b\b\b\b\b\b\b\b\b\b\b\b\b\b\b\b\b\b\b\b\b\b\b\b\b\b\b\b\b\b\b\b\b\b\b\b\b\b\b\b\b\b\b\b\b\b\b\b\b\b\b\b\b\b\b\b\b\b\b\r1/1 [==============================] - 0s 124ms/step - loss: 0.7054 - accuracy: 0.7769\n",
            "Epoch 262/1000\n",
            "1/1 [==============================] - 0s 19ms/step\n",
            "\n",
            "Validation Accuracy: 36.666666666666664 %\n"
          ]
        },
        {
          "output_type": "stream",
          "name": "stderr",
          "text": [
            "WARNING:tensorflow:Can save best model only with val_loss available, skipping.\n"
          ]
        },
        {
          "output_type": "stream",
          "name": "stdout",
          "text": [
            "\b\b\b\b\b\b\b\b\b\b\b\b\b\b\b\b\b\b\b\b\b\b\b\b\b\b\b\b\b\b\b\b\b\b\b\b\b\b\b\b\b\b\b\b\b\b\b\b\b\b\b\b\b\b\b\b\b\b\b\b\b\b\b\b\b\b\b\b\b\b\b\b\b\b\b\b\b\b\b\b\r1/1 [==============================] - 0s 133ms/step - loss: 0.7091 - accuracy: 0.7690\n",
            "Epoch 263/1000\n",
            "1/1 [==============================] - 0s 20ms/step\n",
            "\n",
            "Validation Accuracy: 36.666666666666664 %\n"
          ]
        },
        {
          "output_type": "stream",
          "name": "stderr",
          "text": [
            "WARNING:tensorflow:Can save best model only with val_loss available, skipping.\n"
          ]
        },
        {
          "output_type": "stream",
          "name": "stdout",
          "text": [
            "\b\b\b\b\b\b\b\b\b\b\b\b\b\b\b\b\b\b\b\b\b\b\b\b\b\b\b\b\b\b\b\b\b\b\b\b\b\b\b\b\b\b\b\b\b\b\b\b\b\b\b\b\b\b\b\b\b\b\b\b\b\b\b\b\b\b\b\b\b\b\b\b\b\b\b\b\b\b\b\b\r1/1 [==============================] - 0s 132ms/step - loss: 0.7048 - accuracy: 0.7718\n",
            "Epoch 264/1000\n",
            "1/1 [==============================] - 0s 23ms/step\n",
            "\n",
            "Validation Accuracy: 36.666666666666664 %\n"
          ]
        },
        {
          "output_type": "stream",
          "name": "stderr",
          "text": [
            "WARNING:tensorflow:Can save best model only with val_loss available, skipping.\n"
          ]
        },
        {
          "output_type": "stream",
          "name": "stdout",
          "text": [
            "\b\b\b\b\b\b\b\b\b\b\b\b\b\b\b\b\b\b\b\b\b\b\b\b\b\b\b\b\b\b\b\b\b\b\b\b\b\b\b\b\b\b\b\b\b\b\b\b\b\b\b\b\b\b\b\b\b\b\b\b\b\b\b\b\b\b\b\b\b\b\b\b\b\b\b\b\b\b\b\b\r1/1 [==============================] - 0s 123ms/step - loss: 0.7009 - accuracy: 0.7720\n",
            "Epoch 265/1000\n",
            "1/1 [==============================] - 0s 20ms/step\n",
            "\n",
            "Validation Accuracy: 37.22222222222222 %\n"
          ]
        },
        {
          "output_type": "stream",
          "name": "stderr",
          "text": [
            "WARNING:tensorflow:Can save best model only with val_loss available, skipping.\n"
          ]
        },
        {
          "output_type": "stream",
          "name": "stdout",
          "text": [
            "\b\b\b\b\b\b\b\b\b\b\b\b\b\b\b\b\b\b\b\b\b\b\b\b\b\b\b\b\b\b\b\b\b\b\b\b\b\b\b\b\b\b\b\b\b\b\b\b\b\b\b\b\b\b\b\b\b\b\b\b\b\b\b\b\b\b\b\b\b\b\b\b\b\b\b\b\b\b\b\b\r1/1 [==============================] - 0s 129ms/step - loss: 0.6952 - accuracy: 0.7765\n",
            "Epoch 266/1000\n",
            "1/1 [==============================] - 0s 21ms/step\n",
            "\n",
            "Validation Accuracy: 37.77777777777778 %\n"
          ]
        },
        {
          "output_type": "stream",
          "name": "stderr",
          "text": [
            "WARNING:tensorflow:Can save best model only with val_loss available, skipping.\n"
          ]
        },
        {
          "output_type": "stream",
          "name": "stdout",
          "text": [
            "\b\b\b\b\b\b\b\b\b\b\b\b\b\b\b\b\b\b\b\b\b\b\b\b\b\b\b\b\b\b\b\b\b\b\b\b\b\b\b\b\b\b\b\b\b\b\b\b\b\b\b\b\b\b\b\b\b\b\b\b\b\b\b\b\b\b\b\b\b\b\b\b\b\b\b\b\b\b\b\b\r1/1 [==============================] - 0s 149ms/step - loss: 0.7032 - accuracy: 0.7711\n",
            "Epoch 267/1000\n",
            "1/1 [==============================] - 0s 20ms/step\n",
            "\n",
            "Validation Accuracy: 37.22222222222222 %\n"
          ]
        },
        {
          "output_type": "stream",
          "name": "stderr",
          "text": [
            "WARNING:tensorflow:Can save best model only with val_loss available, skipping.\n"
          ]
        },
        {
          "output_type": "stream",
          "name": "stdout",
          "text": [
            "\b\b\b\b\b\b\b\b\b\b\b\b\b\b\b\b\b\b\b\b\b\b\b\b\b\b\b\b\b\b\b\b\b\b\b\b\b\b\b\b\b\b\b\b\b\b\b\b\b\b\b\b\b\b\b\b\b\b\b\b\b\b\b\b\b\b\b\b\b\b\b\b\b\b\b\b\b\b\b\b\r1/1 [==============================] - 0s 134ms/step - loss: 0.7067 - accuracy: 0.7746\n",
            "Epoch 268/1000\n",
            "1/1 [==============================] - 0s 20ms/step\n",
            "\n",
            "Validation Accuracy: 37.77777777777778 %\n"
          ]
        },
        {
          "output_type": "stream",
          "name": "stderr",
          "text": [
            "WARNING:tensorflow:Can save best model only with val_loss available, skipping.\n"
          ]
        },
        {
          "output_type": "stream",
          "name": "stdout",
          "text": [
            "\b\b\b\b\b\b\b\b\b\b\b\b\b\b\b\b\b\b\b\b\b\b\b\b\b\b\b\b\b\b\b\b\b\b\b\b\b\b\b\b\b\b\b\b\b\b\b\b\b\b\b\b\b\b\b\b\b\b\b\b\b\b\b\b\b\b\b\b\b\b\b\b\b\b\b\b\b\b\b\b\r1/1 [==============================] - 0s 127ms/step - loss: 0.7045 - accuracy: 0.7716\n",
            "Epoch 269/1000\n",
            "1/1 [==============================] - 0s 26ms/step\n",
            "\n",
            "Validation Accuracy: 37.22222222222222 %\n"
          ]
        },
        {
          "output_type": "stream",
          "name": "stderr",
          "text": [
            "WARNING:tensorflow:Can save best model only with val_loss available, skipping.\n"
          ]
        },
        {
          "output_type": "stream",
          "name": "stdout",
          "text": [
            "\b\b\b\b\b\b\b\b\b\b\b\b\b\b\b\b\b\b\b\b\b\b\b\b\b\b\b\b\b\b\b\b\b\b\b\b\b\b\b\b\b\b\b\b\b\b\b\b\b\b\b\b\b\b\b\b\b\b\b\b\b\b\b\b\b\b\b\b\b\b\b\b\b\b\b\b\b\b\b\b\r1/1 [==============================] - 0s 130ms/step - loss: 0.6977 - accuracy: 0.7790\n",
            "Epoch 270/1000\n",
            "1/1 [==============================] - 0s 20ms/step\n",
            "\n",
            "Validation Accuracy: 36.666666666666664 %\n"
          ]
        },
        {
          "output_type": "stream",
          "name": "stderr",
          "text": [
            "WARNING:tensorflow:Can save best model only with val_loss available, skipping.\n"
          ]
        },
        {
          "output_type": "stream",
          "name": "stdout",
          "text": [
            "\b\b\b\b\b\b\b\b\b\b\b\b\b\b\b\b\b\b\b\b\b\b\b\b\b\b\b\b\b\b\b\b\b\b\b\b\b\b\b\b\b\b\b\b\b\b\b\b\b\b\b\b\b\b\b\b\b\b\b\b\b\b\b\b\b\b\b\b\b\b\b\b\b\b\b\b\b\b\b\b\r1/1 [==============================] - 0s 135ms/step - loss: 0.6948 - accuracy: 0.7755\n",
            "Epoch 271/1000\n",
            "1/1 [==============================] - 0s 22ms/step\n",
            "\n",
            "Validation Accuracy: 36.666666666666664 %\n"
          ]
        },
        {
          "output_type": "stream",
          "name": "stderr",
          "text": [
            "WARNING:tensorflow:Can save best model only with val_loss available, skipping.\n"
          ]
        },
        {
          "output_type": "stream",
          "name": "stdout",
          "text": [
            "\b\b\b\b\b\b\b\b\b\b\b\b\b\b\b\b\b\b\b\b\b\b\b\b\b\b\b\b\b\b\b\b\b\b\b\b\b\b\b\b\b\b\b\b\b\b\b\b\b\b\b\b\b\b\b\b\b\b\b\b\b\b\b\b\b\b\b\b\b\b\b\b\b\b\b\b\b\b\b\b\r1/1 [==============================] - 0s 128ms/step - loss: 0.7008 - accuracy: 0.7751\n",
            "Epoch 272/1000\n",
            "1/1 [==============================] - 0s 20ms/step\n",
            "\n",
            "Validation Accuracy: 37.22222222222222 %\n"
          ]
        },
        {
          "output_type": "stream",
          "name": "stderr",
          "text": [
            "WARNING:tensorflow:Can save best model only with val_loss available, skipping.\n"
          ]
        },
        {
          "output_type": "stream",
          "name": "stdout",
          "text": [
            "\b\b\b\b\b\b\b\b\b\b\b\b\b\b\b\b\b\b\b\b\b\b\b\b\b\b\b\b\b\b\b\b\b\b\b\b\b\b\b\b\b\b\b\b\b\b\b\b\b\b\b\b\b\b\b\b\b\b\b\b\b\b\b\b\b\b\b\b\b\b\b\b\b\b\b\b\b\b\b\b\r1/1 [==============================] - 0s 162ms/step - loss: 0.6969 - accuracy: 0.7787\n",
            "Epoch 273/1000\n",
            "1/1 [==============================] - 0s 21ms/step\n",
            "\n",
            "Validation Accuracy: 38.88888888888889 %\n"
          ]
        },
        {
          "output_type": "stream",
          "name": "stderr",
          "text": [
            "WARNING:tensorflow:Can save best model only with val_loss available, skipping.\n"
          ]
        },
        {
          "output_type": "stream",
          "name": "stdout",
          "text": [
            "\b\b\b\b\b\b\b\b\b\b\b\b\b\b\b\b\b\b\b\b\b\b\b\b\b\b\b\b\b\b\b\b\b\b\b\b\b\b\b\b\b\b\b\b\b\b\b\b\b\b\b\b\b\b\b\b\b\b\b\b\b\b\b\b\b\b\b\b\b\b\b\b\b\b\b\b\b\b\b\b\r1/1 [==============================] - 0s 131ms/step - loss: 0.6943 - accuracy: 0.7791\n",
            "Epoch 274/1000\n",
            "1/1 [==============================] - 0s 20ms/step\n",
            "\n",
            "Validation Accuracy: 37.77777777777778 %\n"
          ]
        },
        {
          "output_type": "stream",
          "name": "stderr",
          "text": [
            "WARNING:tensorflow:Can save best model only with val_loss available, skipping.\n"
          ]
        },
        {
          "output_type": "stream",
          "name": "stdout",
          "text": [
            "\b\b\b\b\b\b\b\b\b\b\b\b\b\b\b\b\b\b\b\b\b\b\b\b\b\b\b\b\b\b\b\b\b\b\b\b\b\b\b\b\b\b\b\b\b\b\b\b\b\b\b\b\b\b\b\b\b\b\b\b\b\b\b\b\b\b\b\b\b\b\b\b\b\b\b\b\b\b\b\b\r1/1 [==============================] - 0s 139ms/step - loss: 0.6933 - accuracy: 0.7749\n",
            "Epoch 275/1000\n",
            "1/1 [==============================] - 0s 21ms/step\n",
            "\n",
            "Validation Accuracy: 38.333333333333336 %\n"
          ]
        },
        {
          "output_type": "stream",
          "name": "stderr",
          "text": [
            "WARNING:tensorflow:Can save best model only with val_loss available, skipping.\n"
          ]
        },
        {
          "output_type": "stream",
          "name": "stdout",
          "text": [
            "\b\b\b\b\b\b\b\b\b\b\b\b\b\b\b\b\b\b\b\b\b\b\b\b\b\b\b\b\b\b\b\b\b\b\b\b\b\b\b\b\b\b\b\b\b\b\b\b\b\b\b\b\b\b\b\b\b\b\b\b\b\b\b\b\b\b\b\b\b\b\b\b\b\b\b\b\b\b\b\b\r1/1 [==============================] - 0s 159ms/step - loss: 0.6928 - accuracy: 0.7790\n",
            "Epoch 276/1000\n",
            "1/1 [==============================] - 0s 22ms/step\n",
            "\n",
            "Validation Accuracy: 38.333333333333336 %\n"
          ]
        },
        {
          "output_type": "stream",
          "name": "stderr",
          "text": [
            "WARNING:tensorflow:Can save best model only with val_loss available, skipping.\n"
          ]
        },
        {
          "output_type": "stream",
          "name": "stdout",
          "text": [
            "\b\b\b\b\b\b\b\b\b\b\b\b\b\b\b\b\b\b\b\b\b\b\b\b\b\b\b\b\b\b\b\b\b\b\b\b\b\b\b\b\b\b\b\b\b\b\b\b\b\b\b\b\b\b\b\b\b\b\b\b\b\b\b\b\b\b\b\b\b\b\b\b\b\b\b\b\b\b\b\b\r1/1 [==============================] - 0s 133ms/step - loss: 0.6919 - accuracy: 0.7817\n",
            "Epoch 277/1000\n",
            "1/1 [==============================] - 0s 24ms/step\n",
            "\n",
            "Validation Accuracy: 38.333333333333336 %\n"
          ]
        },
        {
          "output_type": "stream",
          "name": "stderr",
          "text": [
            "WARNING:tensorflow:Can save best model only with val_loss available, skipping.\n"
          ]
        },
        {
          "output_type": "stream",
          "name": "stdout",
          "text": [
            "\b\b\b\b\b\b\b\b\b\b\b\b\b\b\b\b\b\b\b\b\b\b\b\b\b\b\b\b\b\b\b\b\b\b\b\b\b\b\b\b\b\b\b\b\b\b\b\b\b\b\b\b\b\b\b\b\b\b\b\b\b\b\b\b\b\b\b\b\b\b\b\b\b\b\b\b\b\b\b\b\r1/1 [==============================] - 0s 147ms/step - loss: 0.6953 - accuracy: 0.7777\n",
            "Epoch 278/1000\n",
            "1/1 [==============================] - 0s 21ms/step\n",
            "\n",
            "Validation Accuracy: 37.77777777777778 %\n"
          ]
        },
        {
          "output_type": "stream",
          "name": "stderr",
          "text": [
            "WARNING:tensorflow:Can save best model only with val_loss available, skipping.\n"
          ]
        },
        {
          "output_type": "stream",
          "name": "stdout",
          "text": [
            "\b\b\b\b\b\b\b\b\b\b\b\b\b\b\b\b\b\b\b\b\b\b\b\b\b\b\b\b\b\b\b\b\b\b\b\b\b\b\b\b\b\b\b\b\b\b\b\b\b\b\b\b\b\b\b\b\b\b\b\b\b\b\b\b\b\b\b\b\b\b\b\b\b\b\b\b\b\b\b\b\r1/1 [==============================] - 0s 137ms/step - loss: 0.6894 - accuracy: 0.7797\n",
            "Epoch 279/1000\n",
            "1/1 [==============================] - 0s 19ms/step\n",
            "\n",
            "Validation Accuracy: 37.77777777777778 %\n"
          ]
        },
        {
          "output_type": "stream",
          "name": "stderr",
          "text": [
            "WARNING:tensorflow:Can save best model only with val_loss available, skipping.\n"
          ]
        },
        {
          "output_type": "stream",
          "name": "stdout",
          "text": [
            "\b\b\b\b\b\b\b\b\b\b\b\b\b\b\b\b\b\b\b\b\b\b\b\b\b\b\b\b\b\b\b\b\b\b\b\b\b\b\b\b\b\b\b\b\b\b\b\b\b\b\b\b\b\b\b\b\b\b\b\b\b\b\b\b\b\b\b\b\b\b\b\b\b\b\b\b\b\b\b\b\r1/1 [==============================] - 0s 127ms/step - loss: 0.6887 - accuracy: 0.7811\n",
            "Epoch 280/1000\n",
            "1/1 [==============================] - 0s 19ms/step\n",
            "\n",
            "Validation Accuracy: 38.333333333333336 %\n"
          ]
        },
        {
          "output_type": "stream",
          "name": "stderr",
          "text": [
            "WARNING:tensorflow:Can save best model only with val_loss available, skipping.\n"
          ]
        },
        {
          "output_type": "stream",
          "name": "stdout",
          "text": [
            "\b\b\b\b\b\b\b\b\b\b\b\b\b\b\b\b\b\b\b\b\b\b\b\b\b\b\b\b\b\b\b\b\b\b\b\b\b\b\b\b\b\b\b\b\b\b\b\b\b\b\b\b\b\b\b\b\b\b\b\b\b\b\b\b\b\b\b\b\b\b\b\b\b\b\b\b\b\b\b\b\r1/1 [==============================] - 0s 136ms/step - loss: 0.6984 - accuracy: 0.7775\n",
            "Epoch 281/1000\n",
            "1/1 [==============================] - 0s 21ms/step\n",
            "\n",
            "Validation Accuracy: 38.333333333333336 %\n"
          ]
        },
        {
          "output_type": "stream",
          "name": "stderr",
          "text": [
            "WARNING:tensorflow:Can save best model only with val_loss available, skipping.\n"
          ]
        },
        {
          "output_type": "stream",
          "name": "stdout",
          "text": [
            "\b\b\b\b\b\b\b\b\b\b\b\b\b\b\b\b\b\b\b\b\b\b\b\b\b\b\b\b\b\b\b\b\b\b\b\b\b\b\b\b\b\b\b\b\b\b\b\b\b\b\b\b\b\b\b\b\b\b\b\b\b\b\b\b\b\b\b\b\b\b\b\b\b\b\b\b\b\b\b\b\r1/1 [==============================] - 0s 129ms/step - loss: 0.6853 - accuracy: 0.7803\n",
            "Epoch 282/1000\n",
            "1/1 [==============================] - 0s 26ms/step\n",
            "\n",
            "Validation Accuracy: 37.77777777777778 %\n"
          ]
        },
        {
          "output_type": "stream",
          "name": "stderr",
          "text": [
            "WARNING:tensorflow:Can save best model only with val_loss available, skipping.\n"
          ]
        },
        {
          "output_type": "stream",
          "name": "stdout",
          "text": [
            "\b\b\b\b\b\b\b\b\b\b\b\b\b\b\b\b\b\b\b\b\b\b\b\b\b\b\b\b\b\b\b\b\b\b\b\b\b\b\b\b\b\b\b\b\b\b\b\b\b\b\b\b\b\b\b\b\b\b\b\b\b\b\b\b\b\b\b\b\b\b\b\b\b\b\b\b\b\b\b\b\r1/1 [==============================] - 0s 157ms/step - loss: 0.6804 - accuracy: 0.7786\n",
            "Epoch 283/1000\n",
            "1/1 [==============================] - 0s 21ms/step\n",
            "\n",
            "Validation Accuracy: 37.77777777777778 %\n"
          ]
        },
        {
          "output_type": "stream",
          "name": "stderr",
          "text": [
            "WARNING:tensorflow:Can save best model only with val_loss available, skipping.\n"
          ]
        },
        {
          "output_type": "stream",
          "name": "stdout",
          "text": [
            "\b\b\b\b\b\b\b\b\b\b\b\b\b\b\b\b\b\b\b\b\b\b\b\b\b\b\b\b\b\b\b\b\b\b\b\b\b\b\b\b\b\b\b\b\b\b\b\b\b\b\b\b\b\b\b\b\b\b\b\b\b\b\b\b\b\b\b\b\b\b\b\b\b\b\b\b\b\b\b\b\r1/1 [==============================] - 0s 137ms/step - loss: 0.6912 - accuracy: 0.7786\n",
            "Epoch 284/1000\n",
            "1/1 [==============================] - 0s 24ms/step\n",
            "\n",
            "Validation Accuracy: 37.77777777777778 %\n"
          ]
        },
        {
          "output_type": "stream",
          "name": "stderr",
          "text": [
            "WARNING:tensorflow:Can save best model only with val_loss available, skipping.\n"
          ]
        },
        {
          "output_type": "stream",
          "name": "stdout",
          "text": [
            "\b\b\b\b\b\b\b\b\b\b\b\b\b\b\b\b\b\b\b\b\b\b\b\b\b\b\b\b\b\b\b\b\b\b\b\b\b\b\b\b\b\b\b\b\b\b\b\b\b\b\b\b\b\b\b\b\b\b\b\b\b\b\b\b\b\b\b\b\b\b\b\b\b\b\b\b\b\b\b\b\r1/1 [==============================] - 0s 122ms/step - loss: 0.6887 - accuracy: 0.7800\n",
            "Epoch 285/1000\n",
            "1/1 [==============================] - 0s 22ms/step\n",
            "\n",
            "Validation Accuracy: 38.333333333333336 %\n"
          ]
        },
        {
          "output_type": "stream",
          "name": "stderr",
          "text": [
            "WARNING:tensorflow:Can save best model only with val_loss available, skipping.\n"
          ]
        },
        {
          "output_type": "stream",
          "name": "stdout",
          "text": [
            "\b\b\b\b\b\b\b\b\b\b\b\b\b\b\b\b\b\b\b\b\b\b\b\b\b\b\b\b\b\b\b\b\b\b\b\b\b\b\b\b\b\b\b\b\b\b\b\b\b\b\b\b\b\b\b\b\b\b\b\b\b\b\b\b\b\b\b\b\b\b\b\b\b\b\b\b\b\b\b\b\r1/1 [==============================] - 0s 156ms/step - loss: 0.6648 - accuracy: 0.7853\n",
            "Epoch 286/1000\n",
            "1/1 [==============================] - 0s 19ms/step\n",
            "\n",
            "Validation Accuracy: 38.333333333333336 %\n"
          ]
        },
        {
          "output_type": "stream",
          "name": "stderr",
          "text": [
            "WARNING:tensorflow:Can save best model only with val_loss available, skipping.\n"
          ]
        },
        {
          "output_type": "stream",
          "name": "stdout",
          "text": [
            "\b\b\b\b\b\b\b\b\b\b\b\b\b\b\b\b\b\b\b\b\b\b\b\b\b\b\b\b\b\b\b\b\b\b\b\b\b\b\b\b\b\b\b\b\b\b\b\b\b\b\b\b\b\b\b\b\b\b\b\b\b\b\b\b\b\b\b\b\b\b\b\b\b\b\b\b\b\b\b\b\r1/1 [==============================] - 0s 130ms/step - loss: 0.6789 - accuracy: 0.7845\n",
            "Epoch 287/1000\n",
            "1/1 [==============================] - 0s 21ms/step\n",
            "\n",
            "Validation Accuracy: 37.22222222222222 %\n"
          ]
        },
        {
          "output_type": "stream",
          "name": "stderr",
          "text": [
            "WARNING:tensorflow:Can save best model only with val_loss available, skipping.\n"
          ]
        },
        {
          "output_type": "stream",
          "name": "stdout",
          "text": [
            "\b\b\b\b\b\b\b\b\b\b\b\b\b\b\b\b\b\b\b\b\b\b\b\b\b\b\b\b\b\b\b\b\b\b\b\b\b\b\b\b\b\b\b\b\b\b\b\b\b\b\b\b\b\b\b\b\b\b\b\b\b\b\b\b\b\b\b\b\b\b\b\b\b\b\b\b\b\b\b\b\r1/1 [==============================] - 0s 133ms/step - loss: 0.6737 - accuracy: 0.7818\n",
            "Epoch 288/1000\n",
            "1/1 [==============================] - 0s 20ms/step\n",
            "\n",
            "Validation Accuracy: 37.77777777777778 %\n"
          ]
        },
        {
          "output_type": "stream",
          "name": "stderr",
          "text": [
            "WARNING:tensorflow:Can save best model only with val_loss available, skipping.\n"
          ]
        },
        {
          "output_type": "stream",
          "name": "stdout",
          "text": [
            "\b\b\b\b\b\b\b\b\b\b\b\b\b\b\b\b\b\b\b\b\b\b\b\b\b\b\b\b\b\b\b\b\b\b\b\b\b\b\b\b\b\b\b\b\b\b\b\b\b\b\b\b\b\b\b\b\b\b\b\b\b\b\b\b\b\b\b\b\b\b\b\b\b\b\b\b\b\b\b\b\r1/1 [==============================] - 0s 142ms/step - loss: 0.6809 - accuracy: 0.7770\n",
            "Epoch 289/1000\n",
            "1/1 [==============================] - 0s 20ms/step\n",
            "\n",
            "Validation Accuracy: 37.77777777777778 %\n"
          ]
        },
        {
          "output_type": "stream",
          "name": "stderr",
          "text": [
            "WARNING:tensorflow:Can save best model only with val_loss available, skipping.\n"
          ]
        },
        {
          "output_type": "stream",
          "name": "stdout",
          "text": [
            "\b\b\b\b\b\b\b\b\b\b\b\b\b\b\b\b\b\b\b\b\b\b\b\b\b\b\b\b\b\b\b\b\b\b\b\b\b\b\b\b\b\b\b\b\b\b\b\b\b\b\b\b\b\b\b\b\b\b\b\b\b\b\b\b\b\b\b\b\b\b\b\b\b\b\b\b\b\b\b\b\r1/1 [==============================] - 0s 125ms/step - loss: 0.6770 - accuracy: 0.7800\n",
            "Epoch 290/1000\n",
            "1/1 [==============================] - 0s 21ms/step\n",
            "\n",
            "Validation Accuracy: 37.77777777777778 %\n"
          ]
        },
        {
          "output_type": "stream",
          "name": "stderr",
          "text": [
            "WARNING:tensorflow:Can save best model only with val_loss available, skipping.\n"
          ]
        },
        {
          "output_type": "stream",
          "name": "stdout",
          "text": [
            "\b\b\b\b\b\b\b\b\b\b\b\b\b\b\b\b\b\b\b\b\b\b\b\b\b\b\b\b\b\b\b\b\b\b\b\b\b\b\b\b\b\b\b\b\b\b\b\b\b\b\b\b\b\b\b\b\b\b\b\b\b\b\b\b\b\b\b\b\b\b\b\b\b\b\b\b\b\b\b\b\r1/1 [==============================] - 0s 149ms/step - loss: 0.6790 - accuracy: 0.7793\n",
            "Epoch 291/1000\n",
            "1/1 [==============================] - 0s 21ms/step\n",
            "\n",
            "Validation Accuracy: 38.333333333333336 %\n"
          ]
        },
        {
          "output_type": "stream",
          "name": "stderr",
          "text": [
            "WARNING:tensorflow:Can save best model only with val_loss available, skipping.\n"
          ]
        },
        {
          "output_type": "stream",
          "name": "stdout",
          "text": [
            "\b\b\b\b\b\b\b\b\b\b\b\b\b\b\b\b\b\b\b\b\b\b\b\b\b\b\b\b\b\b\b\b\b\b\b\b\b\b\b\b\b\b\b\b\b\b\b\b\b\b\b\b\b\b\b\b\b\b\b\b\b\b\b\b\b\b\b\b\b\b\b\b\b\b\b\b\b\b\b\b\r1/1 [==============================] - 0s 140ms/step - loss: 0.6744 - accuracy: 0.7808\n",
            "Epoch 292/1000\n",
            "1/1 [==============================] - 0s 21ms/step\n",
            "\n",
            "Validation Accuracy: 37.22222222222222 %\n"
          ]
        },
        {
          "output_type": "stream",
          "name": "stderr",
          "text": [
            "WARNING:tensorflow:Can save best model only with val_loss available, skipping.\n"
          ]
        },
        {
          "output_type": "stream",
          "name": "stdout",
          "text": [
            "\b\b\b\b\b\b\b\b\b\b\b\b\b\b\b\b\b\b\b\b\b\b\b\b\b\b\b\b\b\b\b\b\b\b\b\b\b\b\b\b\b\b\b\b\b\b\b\b\b\b\b\b\b\b\b\b\b\b\b\b\b\b\b\b\b\b\b\b\b\b\b\b\b\b\b\b\b\b\b\b\r1/1 [==============================] - 0s 146ms/step - loss: 0.6675 - accuracy: 0.7857\n",
            "Epoch 293/1000\n",
            "1/1 [==============================] - 0s 21ms/step\n",
            "\n",
            "Validation Accuracy: 37.22222222222222 %\n"
          ]
        },
        {
          "output_type": "stream",
          "name": "stderr",
          "text": [
            "WARNING:tensorflow:Can save best model only with val_loss available, skipping.\n"
          ]
        },
        {
          "output_type": "stream",
          "name": "stdout",
          "text": [
            "\b\b\b\b\b\b\b\b\b\b\b\b\b\b\b\b\b\b\b\b\b\b\b\b\b\b\b\b\b\b\b\b\b\b\b\b\b\b\b\b\b\b\b\b\b\b\b\b\b\b\b\b\b\b\b\b\b\b\b\b\b\b\b\b\b\b\b\b\b\b\b\b\b\b\b\b\b\b\b\b\r1/1 [==============================] - 0s 139ms/step - loss: 0.6726 - accuracy: 0.7807\n",
            "Epoch 294/1000\n",
            "1/1 [==============================] - 0s 21ms/step\n",
            "\n",
            "Validation Accuracy: 36.666666666666664 %\n"
          ]
        },
        {
          "output_type": "stream",
          "name": "stderr",
          "text": [
            "WARNING:tensorflow:Can save best model only with val_loss available, skipping.\n"
          ]
        },
        {
          "output_type": "stream",
          "name": "stdout",
          "text": [
            "\b\b\b\b\b\b\b\b\b\b\b\b\b\b\b\b\b\b\b\b\b\b\b\b\b\b\b\b\b\b\b\b\b\b\b\b\b\b\b\b\b\b\b\b\b\b\b\b\b\b\b\b\b\b\b\b\b\b\b\b\b\b\b\b\b\b\b\b\b\b\b\b\b\b\b\b\b\b\b\b\r1/1 [==============================] - 0s 139ms/step - loss: 0.6688 - accuracy: 0.7840\n",
            "Epoch 295/1000\n",
            "1/1 [==============================] - 0s 21ms/step\n",
            "\n",
            "Validation Accuracy: 36.11111111111111 %\n"
          ]
        },
        {
          "output_type": "stream",
          "name": "stderr",
          "text": [
            "WARNING:tensorflow:Can save best model only with val_loss available, skipping.\n"
          ]
        },
        {
          "output_type": "stream",
          "name": "stdout",
          "text": [
            "\b\b\b\b\b\b\b\b\b\b\b\b\b\b\b\b\b\b\b\b\b\b\b\b\b\b\b\b\b\b\b\b\b\b\b\b\b\b\b\b\b\b\b\b\b\b\b\b\b\b\b\b\b\b\b\b\b\b\b\b\b\b\b\b\b\b\b\b\b\b\b\b\b\b\b\b\b\b\b\b\r1/1 [==============================] - 0s 126ms/step - loss: 0.6765 - accuracy: 0.7874\n",
            "Epoch 296/1000\n",
            "1/1 [==============================] - 0s 22ms/step\n",
            "\n",
            "Validation Accuracy: 37.77777777777778 %\n"
          ]
        },
        {
          "output_type": "stream",
          "name": "stderr",
          "text": [
            "WARNING:tensorflow:Can save best model only with val_loss available, skipping.\n"
          ]
        },
        {
          "output_type": "stream",
          "name": "stdout",
          "text": [
            "\b\b\b\b\b\b\b\b\b\b\b\b\b\b\b\b\b\b\b\b\b\b\b\b\b\b\b\b\b\b\b\b\b\b\b\b\b\b\b\b\b\b\b\b\b\b\b\b\b\b\b\b\b\b\b\b\b\b\b\b\b\b\b\b\b\b\b\b\b\b\b\b\b\b\b\b\b\b\b\b\r1/1 [==============================] - 0s 141ms/step - loss: 0.6726 - accuracy: 0.7808\n",
            "Epoch 297/1000\n",
            "1/1 [==============================] - 0s 20ms/step\n",
            "\n",
            "Validation Accuracy: 37.77777777777778 %\n"
          ]
        },
        {
          "output_type": "stream",
          "name": "stderr",
          "text": [
            "WARNING:tensorflow:Can save best model only with val_loss available, skipping.\n"
          ]
        },
        {
          "output_type": "stream",
          "name": "stdout",
          "text": [
            "\b\b\b\b\b\b\b\b\b\b\b\b\b\b\b\b\b\b\b\b\b\b\b\b\b\b\b\b\b\b\b\b\b\b\b\b\b\b\b\b\b\b\b\b\b\b\b\b\b\b\b\b\b\b\b\b\b\b\b\b\b\b\b\b\b\b\b\b\b\b\b\b\b\b\b\b\b\b\b\b\r1/1 [==============================] - 0s 165ms/step - loss: 0.6738 - accuracy: 0.7857\n",
            "Epoch 298/1000\n",
            "1/1 [==============================] - 0s 21ms/step\n",
            "\n",
            "Validation Accuracy: 37.77777777777778 %\n"
          ]
        },
        {
          "output_type": "stream",
          "name": "stderr",
          "text": [
            "WARNING:tensorflow:Can save best model only with val_loss available, skipping.\n"
          ]
        },
        {
          "output_type": "stream",
          "name": "stdout",
          "text": [
            "\b\b\b\b\b\b\b\b\b\b\b\b\b\b\b\b\b\b\b\b\b\b\b\b\b\b\b\b\b\b\b\b\b\b\b\b\b\b\b\b\b\b\b\b\b\b\b\b\b\b\b\b\b\b\b\b\b\b\b\b\b\b\b\b\b\b\b\b\b\b\b\b\b\b\b\b\b\b\b\b\r1/1 [==============================] - 0s 134ms/step - loss: 0.6658 - accuracy: 0.7887\n",
            "Epoch 299/1000\n",
            "1/1 [==============================] - 0s 20ms/step\n",
            "\n",
            "Validation Accuracy: 38.333333333333336 %\n"
          ]
        },
        {
          "output_type": "stream",
          "name": "stderr",
          "text": [
            "WARNING:tensorflow:Can save best model only with val_loss available, skipping.\n"
          ]
        },
        {
          "output_type": "stream",
          "name": "stdout",
          "text": [
            "\b\b\b\b\b\b\b\b\b\b\b\b\b\b\b\b\b\b\b\b\b\b\b\b\b\b\b\b\b\b\b\b\b\b\b\b\b\b\b\b\b\b\b\b\b\b\b\b\b\b\b\b\b\b\b\b\b\b\b\b\b\b\b\b\b\b\b\b\b\b\b\b\b\b\b\b\b\b\b\b\r1/1 [==============================] - 0s 136ms/step - loss: 0.6662 - accuracy: 0.7870\n",
            "Epoch 300/1000\n",
            "1/1 [==============================] - 0s 21ms/step\n",
            "\n",
            "Validation Accuracy: 37.77777777777778 %\n"
          ]
        },
        {
          "output_type": "stream",
          "name": "stderr",
          "text": [
            "WARNING:tensorflow:Can save best model only with val_loss available, skipping.\n"
          ]
        },
        {
          "output_type": "stream",
          "name": "stdout",
          "text": [
            "\b\b\b\b\b\b\b\b\b\b\b\b\b\b\b\b\b\b\b\b\b\b\b\b\b\b\b\b\b\b\b\b\b\b\b\b\b\b\b\b\b\b\b\b\b\b\b\b\b\b\b\b\b\b\b\b\b\b\b\b\b\b\b\b\b\b\b\b\b\b\b\b\b\b\b\b\b\b\b\b\r1/1 [==============================] - 0s 137ms/step - loss: 0.6583 - accuracy: 0.7922\n",
            "Epoch 301/1000\n",
            "1/1 [==============================] - 0s 21ms/step\n",
            "\n",
            "Validation Accuracy: 38.333333333333336 %\n"
          ]
        },
        {
          "output_type": "stream",
          "name": "stderr",
          "text": [
            "WARNING:tensorflow:Can save best model only with val_loss available, skipping.\n"
          ]
        },
        {
          "output_type": "stream",
          "name": "stdout",
          "text": [
            "\b\b\b\b\b\b\b\b\b\b\b\b\b\b\b\b\b\b\b\b\b\b\b\b\b\b\b\b\b\b\b\b\b\b\b\b\b\b\b\b\b\b\b\b\b\b\b\b\b\b\b\b\b\b\b\b\b\b\b\b\b\b\b\b\b\b\b\b\b\b\b\b\b\b\b\b\b\b\b\b\r1/1 [==============================] - 0s 127ms/step - loss: 0.6527 - accuracy: 0.7873\n",
            "Epoch 302/1000\n",
            "1/1 [==============================] - 0s 22ms/step\n",
            "\n",
            "Validation Accuracy: 37.77777777777778 %\n"
          ]
        },
        {
          "output_type": "stream",
          "name": "stderr",
          "text": [
            "WARNING:tensorflow:Can save best model only with val_loss available, skipping.\n"
          ]
        },
        {
          "output_type": "stream",
          "name": "stdout",
          "text": [
            "\b\b\b\b\b\b\b\b\b\b\b\b\b\b\b\b\b\b\b\b\b\b\b\b\b\b\b\b\b\b\b\b\b\b\b\b\b\b\b\b\b\b\b\b\b\b\b\b\b\b\b\b\b\b\b\b\b\b\b\b\b\b\b\b\b\b\b\b\b\b\b\b\b\b\b\b\b\b\b\b\r1/1 [==============================] - 0s 150ms/step - loss: 0.6575 - accuracy: 0.7881\n",
            "Epoch 303/1000\n",
            "1/1 [==============================] - 0s 21ms/step\n",
            "\n",
            "Validation Accuracy: 37.77777777777778 %\n"
          ]
        },
        {
          "output_type": "stream",
          "name": "stderr",
          "text": [
            "WARNING:tensorflow:Can save best model only with val_loss available, skipping.\n"
          ]
        },
        {
          "output_type": "stream",
          "name": "stdout",
          "text": [
            "\b\b\b\b\b\b\b\b\b\b\b\b\b\b\b\b\b\b\b\b\b\b\b\b\b\b\b\b\b\b\b\b\b\b\b\b\b\b\b\b\b\b\b\b\b\b\b\b\b\b\b\b\b\b\b\b\b\b\b\b\b\b\b\b\b\b\b\b\b\b\b\b\b\b\b\b\b\b\b\b\r1/1 [==============================] - 0s 146ms/step - loss: 0.6646 - accuracy: 0.7850\n",
            "Epoch 304/1000\n",
            "1/1 [==============================] - 0s 20ms/step\n",
            "\n",
            "Validation Accuracy: 37.77777777777778 %\n"
          ]
        },
        {
          "output_type": "stream",
          "name": "stderr",
          "text": [
            "WARNING:tensorflow:Can save best model only with val_loss available, skipping.\n"
          ]
        },
        {
          "output_type": "stream",
          "name": "stdout",
          "text": [
            "\b\b\b\b\b\b\b\b\b\b\b\b\b\b\b\b\b\b\b\b\b\b\b\b\b\b\b\b\b\b\b\b\b\b\b\b\b\b\b\b\b\b\b\b\b\b\b\b\b\b\b\b\b\b\b\b\b\b\b\b\b\b\b\b\b\b\b\b\b\b\b\b\b\b\b\b\b\b\b\b\r1/1 [==============================] - 0s 132ms/step - loss: 0.6543 - accuracy: 0.7909\n",
            "Epoch 305/1000\n",
            "1/1 [==============================] - 0s 21ms/step\n",
            "\n",
            "Validation Accuracy: 37.22222222222222 %\n"
          ]
        },
        {
          "output_type": "stream",
          "name": "stderr",
          "text": [
            "WARNING:tensorflow:Can save best model only with val_loss available, skipping.\n"
          ]
        },
        {
          "output_type": "stream",
          "name": "stdout",
          "text": [
            "\b\b\b\b\b\b\b\b\b\b\b\b\b\b\b\b\b\b\b\b\b\b\b\b\b\b\b\b\b\b\b\b\b\b\b\b\b\b\b\b\b\b\b\b\b\b\b\b\b\b\b\b\b\b\b\b\b\b\b\b\b\b\b\b\b\b\b\b\b\b\b\b\b\b\b\b\b\b\b\b\r1/1 [==============================] - 0s 135ms/step - loss: 0.6526 - accuracy: 0.7908\n",
            "Epoch 306/1000\n",
            "1/1 [==============================] - 0s 21ms/step\n",
            "\n",
            "Validation Accuracy: 36.666666666666664 %\n"
          ]
        },
        {
          "output_type": "stream",
          "name": "stderr",
          "text": [
            "WARNING:tensorflow:Can save best model only with val_loss available, skipping.\n"
          ]
        },
        {
          "output_type": "stream",
          "name": "stdout",
          "text": [
            "\b\b\b\b\b\b\b\b\b\b\b\b\b\b\b\b\b\b\b\b\b\b\b\b\b\b\b\b\b\b\b\b\b\b\b\b\b\b\b\b\b\b\b\b\b\b\b\b\b\b\b\b\b\b\b\b\b\b\b\b\b\b\b\b\b\b\b\b\b\b\b\b\b\b\b\b\b\b\b\b\r1/1 [==============================] - 0s 137ms/step - loss: 0.6672 - accuracy: 0.7818\n",
            "Epoch 307/1000\n",
            "1/1 [==============================] - 0s 22ms/step\n",
            "\n",
            "Validation Accuracy: 37.22222222222222 %\n"
          ]
        },
        {
          "output_type": "stream",
          "name": "stderr",
          "text": [
            "WARNING:tensorflow:Can save best model only with val_loss available, skipping.\n"
          ]
        },
        {
          "output_type": "stream",
          "name": "stdout",
          "text": [
            "\b\b\b\b\b\b\b\b\b\b\b\b\b\b\b\b\b\b\b\b\b\b\b\b\b\b\b\b\b\b\b\b\b\b\b\b\b\b\b\b\b\b\b\b\b\b\b\b\b\b\b\b\b\b\b\b\b\b\b\b\b\b\b\b\b\b\b\b\b\b\b\b\b\b\b\b\b\b\b\b\r1/1 [==============================] - 0s 142ms/step - loss: 0.6616 - accuracy: 0.7895\n",
            "Epoch 308/1000\n",
            "1/1 [==============================] - 0s 21ms/step\n",
            "\n",
            "Validation Accuracy: 37.22222222222222 %\n"
          ]
        },
        {
          "output_type": "stream",
          "name": "stderr",
          "text": [
            "WARNING:tensorflow:Can save best model only with val_loss available, skipping.\n"
          ]
        },
        {
          "output_type": "stream",
          "name": "stdout",
          "text": [
            "\b\b\b\b\b\b\b\b\b\b\b\b\b\b\b\b\b\b\b\b\b\b\b\b\b\b\b\b\b\b\b\b\b\b\b\b\b\b\b\b\b\b\b\b\b\b\b\b\b\b\b\b\b\b\b\b\b\b\b\b\b\b\b\b\b\b\b\b\b\b\b\b\b\b\b\b\b\b\b\b\r1/1 [==============================] - 0s 143ms/step - loss: 0.6504 - accuracy: 0.7877\n",
            "Epoch 309/1000\n",
            "1/1 [==============================] - 0s 22ms/step\n",
            "\n",
            "Validation Accuracy: 36.666666666666664 %\n"
          ]
        },
        {
          "output_type": "stream",
          "name": "stderr",
          "text": [
            "WARNING:tensorflow:Can save best model only with val_loss available, skipping.\n"
          ]
        },
        {
          "output_type": "stream",
          "name": "stdout",
          "text": [
            "\b\b\b\b\b\b\b\b\b\b\b\b\b\b\b\b\b\b\b\b\b\b\b\b\b\b\b\b\b\b\b\b\b\b\b\b\b\b\b\b\b\b\b\b\b\b\b\b\b\b\b\b\b\b\b\b\b\b\b\b\b\b\b\b\b\b\b\b\b\b\b\b\b\b\b\b\b\b\b\b\r1/1 [==============================] - 0s 138ms/step - loss: 0.6523 - accuracy: 0.7923\n",
            "Epoch 310/1000\n",
            "1/1 [==============================] - 0s 20ms/step\n",
            "\n",
            "Validation Accuracy: 37.22222222222222 %\n"
          ]
        },
        {
          "output_type": "stream",
          "name": "stderr",
          "text": [
            "WARNING:tensorflow:Can save best model only with val_loss available, skipping.\n"
          ]
        },
        {
          "output_type": "stream",
          "name": "stdout",
          "text": [
            "\b\b\b\b\b\b\b\b\b\b\b\b\b\b\b\b\b\b\b\b\b\b\b\b\b\b\b\b\b\b\b\b\b\b\b\b\b\b\b\b\b\b\b\b\b\b\b\b\b\b\b\b\b\b\b\b\b\b\b\b\b\b\b\b\b\b\b\b\b\b\b\b\b\b\b\b\b\b\b\b\r1/1 [==============================] - 0s 145ms/step - loss: 0.6449 - accuracy: 0.7947\n",
            "Epoch 311/1000\n",
            "1/1 [==============================] - 0s 22ms/step\n",
            "\n",
            "Validation Accuracy: 37.22222222222222 %\n"
          ]
        },
        {
          "output_type": "stream",
          "name": "stderr",
          "text": [
            "WARNING:tensorflow:Can save best model only with val_loss available, skipping.\n"
          ]
        },
        {
          "output_type": "stream",
          "name": "stdout",
          "text": [
            "\b\b\b\b\b\b\b\b\b\b\b\b\b\b\b\b\b\b\b\b\b\b\b\b\b\b\b\b\b\b\b\b\b\b\b\b\b\b\b\b\b\b\b\b\b\b\b\b\b\b\b\b\b\b\b\b\b\b\b\b\b\b\b\b\b\b\b\b\b\b\b\b\b\b\b\b\b\b\b\b\r1/1 [==============================] - 0s 145ms/step - loss: 0.6508 - accuracy: 0.7931\n",
            "Epoch 312/1000\n",
            "1/1 [==============================] - 0s 25ms/step\n",
            "\n",
            "Validation Accuracy: 37.22222222222222 %\n"
          ]
        },
        {
          "output_type": "stream",
          "name": "stderr",
          "text": [
            "WARNING:tensorflow:Can save best model only with val_loss available, skipping.\n"
          ]
        },
        {
          "output_type": "stream",
          "name": "stdout",
          "text": [
            "\b\b\b\b\b\b\b\b\b\b\b\b\b\b\b\b\b\b\b\b\b\b\b\b\b\b\b\b\b\b\b\b\b\b\b\b\b\b\b\b\b\b\b\b\b\b\b\b\b\b\b\b\b\b\b\b\b\b\b\b\b\b\b\b\b\b\b\b\b\b\b\b\b\b\b\b\b\b\b\b\r1/1 [==============================] - 0s 144ms/step - loss: 0.6449 - accuracy: 0.7906\n",
            "Epoch 313/1000\n",
            "1/1 [==============================] - 0s 20ms/step\n",
            "\n",
            "Validation Accuracy: 37.22222222222222 %\n"
          ]
        },
        {
          "output_type": "stream",
          "name": "stderr",
          "text": [
            "WARNING:tensorflow:Can save best model only with val_loss available, skipping.\n"
          ]
        },
        {
          "output_type": "stream",
          "name": "stdout",
          "text": [
            "\b\b\b\b\b\b\b\b\b\b\b\b\b\b\b\b\b\b\b\b\b\b\b\b\b\b\b\b\b\b\b\b\b\b\b\b\b\b\b\b\b\b\b\b\b\b\b\b\b\b\b\b\b\b\b\b\b\b\b\b\b\b\b\b\b\b\b\b\b\b\b\b\b\b\b\b\b\b\b\b\r1/1 [==============================] - 0s 147ms/step - loss: 0.6497 - accuracy: 0.7895\n",
            "Epoch 314/1000\n",
            "1/1 [==============================] - 0s 21ms/step\n",
            "\n",
            "Validation Accuracy: 37.77777777777778 %\n"
          ]
        },
        {
          "output_type": "stream",
          "name": "stderr",
          "text": [
            "WARNING:tensorflow:Can save best model only with val_loss available, skipping.\n"
          ]
        },
        {
          "output_type": "stream",
          "name": "stdout",
          "text": [
            "\b\b\b\b\b\b\b\b\b\b\b\b\b\b\b\b\b\b\b\b\b\b\b\b\b\b\b\b\b\b\b\b\b\b\b\b\b\b\b\b\b\b\b\b\b\b\b\b\b\b\b\b\b\b\b\b\b\b\b\b\b\b\b\b\b\b\b\b\b\b\b\b\b\b\b\b\b\b\b\b\r1/1 [==============================] - 0s 138ms/step - loss: 0.6424 - accuracy: 0.7908\n",
            "Epoch 315/1000\n",
            "1/1 [==============================] - 0s 19ms/step\n",
            "\n",
            "Validation Accuracy: 36.666666666666664 %\n"
          ]
        },
        {
          "output_type": "stream",
          "name": "stderr",
          "text": [
            "WARNING:tensorflow:Can save best model only with val_loss available, skipping.\n"
          ]
        },
        {
          "output_type": "stream",
          "name": "stdout",
          "text": [
            "\b\b\b\b\b\b\b\b\b\b\b\b\b\b\b\b\b\b\b\b\b\b\b\b\b\b\b\b\b\b\b\b\b\b\b\b\b\b\b\b\b\b\b\b\b\b\b\b\b\b\b\b\b\b\b\b\b\b\b\b\b\b\b\b\b\b\b\b\b\b\b\b\b\b\b\b\b\b\b\b\r1/1 [==============================] - 0s 139ms/step - loss: 0.6401 - accuracy: 0.7919\n",
            "Epoch 316/1000\n",
            "1/1 [==============================] - 0s 22ms/step\n",
            "\n",
            "Validation Accuracy: 37.22222222222222 %\n"
          ]
        },
        {
          "output_type": "stream",
          "name": "stderr",
          "text": [
            "WARNING:tensorflow:Can save best model only with val_loss available, skipping.\n"
          ]
        },
        {
          "output_type": "stream",
          "name": "stdout",
          "text": [
            "\b\b\b\b\b\b\b\b\b\b\b\b\b\b\b\b\b\b\b\b\b\b\b\b\b\b\b\b\b\b\b\b\b\b\b\b\b\b\b\b\b\b\b\b\b\b\b\b\b\b\b\b\b\b\b\b\b\b\b\b\b\b\b\b\b\b\b\b\b\b\b\b\b\b\b\b\b\b\b\b\r1/1 [==============================] - 0s 138ms/step - loss: 0.6440 - accuracy: 0.7934\n",
            "Epoch 317/1000\n",
            "1/1 [==============================] - 0s 21ms/step\n",
            "\n",
            "Validation Accuracy: 38.333333333333336 %\n"
          ]
        },
        {
          "output_type": "stream",
          "name": "stderr",
          "text": [
            "WARNING:tensorflow:Can save best model only with val_loss available, skipping.\n"
          ]
        },
        {
          "output_type": "stream",
          "name": "stdout",
          "text": [
            "\b\b\b\b\b\b\b\b\b\b\b\b\b\b\b\b\b\b\b\b\b\b\b\b\b\b\b\b\b\b\b\b\b\b\b\b\b\b\b\b\b\b\b\b\b\b\b\b\b\b\b\b\b\b\b\b\b\b\b\b\b\b\b\b\b\b\b\b\b\b\b\b\b\b\b\b\b\b\b\b\r1/1 [==============================] - 0s 159ms/step - loss: 0.6455 - accuracy: 0.7933\n",
            "Epoch 318/1000\n",
            "1/1 [==============================] - 0s 20ms/step\n",
            "\n",
            "Validation Accuracy: 37.77777777777778 %\n"
          ]
        },
        {
          "output_type": "stream",
          "name": "stderr",
          "text": [
            "WARNING:tensorflow:Can save best model only with val_loss available, skipping.\n"
          ]
        },
        {
          "output_type": "stream",
          "name": "stdout",
          "text": [
            "\b\b\b\b\b\b\b\b\b\b\b\b\b\b\b\b\b\b\b\b\b\b\b\b\b\b\b\b\b\b\b\b\b\b\b\b\b\b\b\b\b\b\b\b\b\b\b\b\b\b\b\b\b\b\b\b\b\b\b\b\b\b\b\b\b\b\b\b\b\b\b\b\b\b\b\b\b\b\b\b\r1/1 [==============================] - 0s 139ms/step - loss: 0.6406 - accuracy: 0.7920\n",
            "Epoch 319/1000\n",
            "1/1 [==============================] - 0s 20ms/step\n",
            "\n",
            "Validation Accuracy: 37.22222222222222 %\n"
          ]
        },
        {
          "output_type": "stream",
          "name": "stderr",
          "text": [
            "WARNING:tensorflow:Can save best model only with val_loss available, skipping.\n"
          ]
        },
        {
          "output_type": "stream",
          "name": "stdout",
          "text": [
            "\b\b\b\b\b\b\b\b\b\b\b\b\b\b\b\b\b\b\b\b\b\b\b\b\b\b\b\b\b\b\b\b\b\b\b\b\b\b\b\b\b\b\b\b\b\b\b\b\b\b\b\b\b\b\b\b\b\b\b\b\b\b\b\b\b\b\b\b\b\b\b\b\b\b\b\b\b\b\b\b\r1/1 [==============================] - 0s 137ms/step - loss: 0.6406 - accuracy: 0.7938\n",
            "Epoch 320/1000\n",
            "1/1 [==============================] - 0s 21ms/step\n",
            "\n",
            "Validation Accuracy: 37.22222222222222 %\n"
          ]
        },
        {
          "output_type": "stream",
          "name": "stderr",
          "text": [
            "WARNING:tensorflow:Can save best model only with val_loss available, skipping.\n"
          ]
        },
        {
          "output_type": "stream",
          "name": "stdout",
          "text": [
            "\b\b\b\b\b\b\b\b\b\b\b\b\b\b\b\b\b\b\b\b\b\b\b\b\b\b\b\b\b\b\b\b\b\b\b\b\b\b\b\b\b\b\b\b\b\b\b\b\b\b\b\b\b\b\b\b\b\b\b\b\b\b\b\b\b\b\b\b\b\b\b\b\b\b\b\b\b\b\b\b\r1/1 [==============================] - 0s 124ms/step - loss: 0.6373 - accuracy: 0.7938\n",
            "Epoch 321/1000\n",
            "1/1 [==============================] - 0s 23ms/step\n",
            "\n",
            "Validation Accuracy: 37.22222222222222 %\n"
          ]
        },
        {
          "output_type": "stream",
          "name": "stderr",
          "text": [
            "WARNING:tensorflow:Can save best model only with val_loss available, skipping.\n"
          ]
        },
        {
          "output_type": "stream",
          "name": "stdout",
          "text": [
            "\b\b\b\b\b\b\b\b\b\b\b\b\b\b\b\b\b\b\b\b\b\b\b\b\b\b\b\b\b\b\b\b\b\b\b\b\b\b\b\b\b\b\b\b\b\b\b\b\b\b\b\b\b\b\b\b\b\b\b\b\b\b\b\b\b\b\b\b\b\b\b\b\b\b\b\b\b\b\b\b\r1/1 [==============================] - 0s 154ms/step - loss: 0.6339 - accuracy: 0.7964\n",
            "Epoch 322/1000\n",
            "1/1 [==============================] - 0s 20ms/step\n",
            "\n",
            "Validation Accuracy: 37.77777777777778 %\n"
          ]
        },
        {
          "output_type": "stream",
          "name": "stderr",
          "text": [
            "WARNING:tensorflow:Can save best model only with val_loss available, skipping.\n"
          ]
        },
        {
          "output_type": "stream",
          "name": "stdout",
          "text": [
            "\b\b\b\b\b\b\b\b\b\b\b\b\b\b\b\b\b\b\b\b\b\b\b\b\b\b\b\b\b\b\b\b\b\b\b\b\b\b\b\b\b\b\b\b\b\b\b\b\b\b\b\b\b\b\b\b\b\b\b\b\b\b\b\b\b\b\b\b\b\b\b\b\b\b\b\b\b\b\b\b\r1/1 [==============================] - 0s 146ms/step - loss: 0.6379 - accuracy: 0.7895\n",
            "Epoch 323/1000\n",
            "1/1 [==============================] - 0s 20ms/step\n",
            "\n",
            "Validation Accuracy: 37.77777777777778 %\n"
          ]
        },
        {
          "output_type": "stream",
          "name": "stderr",
          "text": [
            "WARNING:tensorflow:Can save best model only with val_loss available, skipping.\n"
          ]
        },
        {
          "output_type": "stream",
          "name": "stdout",
          "text": [
            "\b\b\b\b\b\b\b\b\b\b\b\b\b\b\b\b\b\b\b\b\b\b\b\b\b\b\b\b\b\b\b\b\b\b\b\b\b\b\b\b\b\b\b\b\b\b\b\b\b\b\b\b\b\b\b\b\b\b\b\b\b\b\b\b\b\b\b\b\b\b\b\b\b\b\b\b\b\b\b\b\r1/1 [==============================] - 0s 132ms/step - loss: 0.6408 - accuracy: 0.7961\n",
            "Epoch 324/1000\n",
            "1/1 [==============================] - 0s 19ms/step\n",
            "\n",
            "Validation Accuracy: 38.333333333333336 %\n"
          ]
        },
        {
          "output_type": "stream",
          "name": "stderr",
          "text": [
            "WARNING:tensorflow:Can save best model only with val_loss available, skipping.\n"
          ]
        },
        {
          "output_type": "stream",
          "name": "stdout",
          "text": [
            "\b\b\b\b\b\b\b\b\b\b\b\b\b\b\b\b\b\b\b\b\b\b\b\b\b\b\b\b\b\b\b\b\b\b\b\b\b\b\b\b\b\b\b\b\b\b\b\b\b\b\b\b\b\b\b\b\b\b\b\b\b\b\b\b\b\b\b\b\b\b\b\b\b\b\b\b\b\b\b\b\r1/1 [==============================] - 0s 130ms/step - loss: 0.6419 - accuracy: 0.7901\n",
            "Epoch 325/1000\n",
            "1/1 [==============================] - 0s 20ms/step\n",
            "\n",
            "Validation Accuracy: 38.333333333333336 %\n"
          ]
        },
        {
          "output_type": "stream",
          "name": "stderr",
          "text": [
            "WARNING:tensorflow:Can save best model only with val_loss available, skipping.\n"
          ]
        },
        {
          "output_type": "stream",
          "name": "stdout",
          "text": [
            "\b\b\b\b\b\b\b\b\b\b\b\b\b\b\b\b\b\b\b\b\b\b\b\b\b\b\b\b\b\b\b\b\b\b\b\b\b\b\b\b\b\b\b\b\b\b\b\b\b\b\b\b\b\b\b\b\b\b\b\b\b\b\b\b\b\b\b\b\b\b\b\b\b\b\b\b\b\b\b\b\r1/1 [==============================] - 0s 121ms/step - loss: 0.6399 - accuracy: 0.7971\n",
            "Epoch 326/1000\n",
            "1/1 [==============================] - 0s 22ms/step\n",
            "\n",
            "Validation Accuracy: 38.333333333333336 %\n"
          ]
        },
        {
          "output_type": "stream",
          "name": "stderr",
          "text": [
            "WARNING:tensorflow:Can save best model only with val_loss available, skipping.\n"
          ]
        },
        {
          "output_type": "stream",
          "name": "stdout",
          "text": [
            "\b\b\b\b\b\b\b\b\b\b\b\b\b\b\b\b\b\b\b\b\b\b\b\b\b\b\b\b\b\b\b\b\b\b\b\b\b\b\b\b\b\b\b\b\b\b\b\b\b\b\b\b\b\b\b\b\b\b\b\b\b\b\b\b\b\b\b\b\b\b\b\b\b\b\b\b\b\b\b\b\r1/1 [==============================] - 0s 151ms/step - loss: 0.6357 - accuracy: 0.7955\n",
            "Epoch 327/1000\n",
            "1/1 [==============================] - 0s 20ms/step\n",
            "\n",
            "Validation Accuracy: 38.333333333333336 %\n"
          ]
        },
        {
          "output_type": "stream",
          "name": "stderr",
          "text": [
            "WARNING:tensorflow:Can save best model only with val_loss available, skipping.\n"
          ]
        },
        {
          "output_type": "stream",
          "name": "stdout",
          "text": [
            "\b\b\b\b\b\b\b\b\b\b\b\b\b\b\b\b\b\b\b\b\b\b\b\b\b\b\b\b\b\b\b\b\b\b\b\b\b\b\b\b\b\b\b\b\b\b\b\b\b\b\b\b\b\b\b\b\b\b\b\b\b\b\b\b\b\b\b\b\b\b\b\b\b\b\b\b\b\b\b\b\r1/1 [==============================] - 0s 133ms/step - loss: 0.6474 - accuracy: 0.7941\n",
            "Epoch 328/1000\n",
            "1/1 [==============================] - 0s 20ms/step\n",
            "\n",
            "Validation Accuracy: 38.88888888888889 %\n"
          ]
        },
        {
          "output_type": "stream",
          "name": "stderr",
          "text": [
            "WARNING:tensorflow:Can save best model only with val_loss available, skipping.\n"
          ]
        },
        {
          "output_type": "stream",
          "name": "stdout",
          "text": [
            "\b\b\b\b\b\b\b\b\b\b\b\b\b\b\b\b\b\b\b\b\b\b\b\b\b\b\b\b\b\b\b\b\b\b\b\b\b\b\b\b\b\b\b\b\b\b\b\b\b\b\b\b\b\b\b\b\b\b\b\b\b\b\b\b\b\b\b\b\b\b\b\b\b\b\b\b\b\b\b\b\r1/1 [==============================] - 0s 142ms/step - loss: 0.6385 - accuracy: 0.7972\n",
            "Epoch 329/1000\n",
            "1/1 [==============================] - 0s 24ms/step\n",
            "\n",
            "Validation Accuracy: 38.88888888888889 %\n"
          ]
        },
        {
          "output_type": "stream",
          "name": "stderr",
          "text": [
            "WARNING:tensorflow:Can save best model only with val_loss available, skipping.\n"
          ]
        },
        {
          "output_type": "stream",
          "name": "stdout",
          "text": [
            "\b\b\b\b\b\b\b\b\b\b\b\b\b\b\b\b\b\b\b\b\b\b\b\b\b\b\b\b\b\b\b\b\b\b\b\b\b\b\b\b\b\b\b\b\b\b\b\b\b\b\b\b\b\b\b\b\b\b\b\b\b\b\b\b\b\b\b\b\b\b\b\b\b\b\b\b\b\b\b\b\r1/1 [==============================] - 0s 146ms/step - loss: 0.6422 - accuracy: 0.7906\n",
            "Epoch 330/1000\n",
            "1/1 [==============================] - 0s 22ms/step\n",
            "\n",
            "Validation Accuracy: 37.22222222222222 %\n"
          ]
        },
        {
          "output_type": "stream",
          "name": "stderr",
          "text": [
            "WARNING:tensorflow:Can save best model only with val_loss available, skipping.\n"
          ]
        },
        {
          "output_type": "stream",
          "name": "stdout",
          "text": [
            "\b\b\b\b\b\b\b\b\b\b\b\b\b\b\b\b\b\b\b\b\b\b\b\b\b\b\b\b\b\b\b\b\b\b\b\b\b\b\b\b\b\b\b\b\b\b\b\b\b\b\b\b\b\b\b\b\b\b\b\b\b\b\b\b\b\b\b\b\b\b\b\b\b\b\b\b\b\b\b\b\r1/1 [==============================] - 0s 143ms/step - loss: 0.6429 - accuracy: 0.7868\n",
            "Epoch 331/1000\n",
            "1/1 [==============================] - 0s 31ms/step\n",
            "\n",
            "Validation Accuracy: 38.333333333333336 %\n"
          ]
        },
        {
          "output_type": "stream",
          "name": "stderr",
          "text": [
            "WARNING:tensorflow:Can save best model only with val_loss available, skipping.\n"
          ]
        },
        {
          "output_type": "stream",
          "name": "stdout",
          "text": [
            "\b\b\b\b\b\b\b\b\b\b\b\b\b\b\b\b\b\b\b\b\b\b\b\b\b\b\b\b\b\b\b\b\b\b\b\b\b\b\b\b\b\b\b\b\b\b\b\b\b\b\b\b\b\b\b\b\b\b\b\b\b\b\b\b\b\b\b\b\b\b\b\b\b\b\b\b\b\b\b\b\r1/1 [==============================] - 0s 151ms/step - loss: 0.6461 - accuracy: 0.7927\n",
            "Epoch 332/1000\n",
            "1/1 [==============================] - 0s 19ms/step\n",
            "\n",
            "Validation Accuracy: 37.77777777777778 %\n"
          ]
        },
        {
          "output_type": "stream",
          "name": "stderr",
          "text": [
            "WARNING:tensorflow:Can save best model only with val_loss available, skipping.\n"
          ]
        },
        {
          "output_type": "stream",
          "name": "stdout",
          "text": [
            "\b\b\b\b\b\b\b\b\b\b\b\b\b\b\b\b\b\b\b\b\b\b\b\b\b\b\b\b\b\b\b\b\b\b\b\b\b\b\b\b\b\b\b\b\b\b\b\b\b\b\b\b\b\b\b\b\b\b\b\b\b\b\b\b\b\b\b\b\b\b\b\b\b\b\b\b\b\b\b\b\r1/1 [==============================] - 0s 125ms/step - loss: 0.6361 - accuracy: 0.7938\n",
            "Epoch 333/1000\n",
            "1/1 [==============================] - 0s 21ms/step\n",
            "\n",
            "Validation Accuracy: 37.77777777777778 %\n"
          ]
        },
        {
          "output_type": "stream",
          "name": "stderr",
          "text": [
            "WARNING:tensorflow:Can save best model only with val_loss available, skipping.\n"
          ]
        },
        {
          "output_type": "stream",
          "name": "stdout",
          "text": [
            "\b\b\b\b\b\b\b\b\b\b\b\b\b\b\b\b\b\b\b\b\b\b\b\b\b\b\b\b\b\b\b\b\b\b\b\b\b\b\b\b\b\b\b\b\b\b\b\b\b\b\b\b\b\b\b\b\b\b\b\b\b\b\b\b\b\b\b\b\b\b\b\b\b\b\b\b\b\b\b\b\r1/1 [==============================] - 0s 143ms/step - loss: 0.6287 - accuracy: 0.7965\n",
            "Epoch 334/1000\n",
            "1/1 [==============================] - 0s 21ms/step\n",
            "\n",
            "Validation Accuracy: 37.77777777777778 %\n"
          ]
        },
        {
          "output_type": "stream",
          "name": "stderr",
          "text": [
            "WARNING:tensorflow:Can save best model only with val_loss available, skipping.\n"
          ]
        },
        {
          "output_type": "stream",
          "name": "stdout",
          "text": [
            "\b\b\b\b\b\b\b\b\b\b\b\b\b\b\b\b\b\b\b\b\b\b\b\b\b\b\b\b\b\b\b\b\b\b\b\b\b\b\b\b\b\b\b\b\b\b\b\b\b\b\b\b\b\b\b\b\b\b\b\b\b\b\b\b\b\b\b\b\b\b\b\b\b\b\b\b\b\b\b\b\r1/1 [==============================] - 0s 151ms/step - loss: 0.6381 - accuracy: 0.7959\n",
            "Epoch 335/1000\n",
            "1/1 [==============================] - 0s 20ms/step\n",
            "\n",
            "Validation Accuracy: 36.666666666666664 %\n"
          ]
        },
        {
          "output_type": "stream",
          "name": "stderr",
          "text": [
            "WARNING:tensorflow:Can save best model only with val_loss available, skipping.\n"
          ]
        },
        {
          "output_type": "stream",
          "name": "stdout",
          "text": [
            "\b\b\b\b\b\b\b\b\b\b\b\b\b\b\b\b\b\b\b\b\b\b\b\b\b\b\b\b\b\b\b\b\b\b\b\b\b\b\b\b\b\b\b\b\b\b\b\b\b\b\b\b\b\b\b\b\b\b\b\b\b\b\b\b\b\b\b\b\b\b\b\b\b\b\b\b\b\b\b\b\r1/1 [==============================] - 0s 144ms/step - loss: 0.6247 - accuracy: 0.8020\n",
            "Epoch 336/1000\n",
            "1/1 [==============================] - 0s 23ms/step\n",
            "\n",
            "Validation Accuracy: 36.666666666666664 %\n"
          ]
        },
        {
          "output_type": "stream",
          "name": "stderr",
          "text": [
            "WARNING:tensorflow:Can save best model only with val_loss available, skipping.\n"
          ]
        },
        {
          "output_type": "stream",
          "name": "stdout",
          "text": [
            "\b\b\b\b\b\b\b\b\b\b\b\b\b\b\b\b\b\b\b\b\b\b\b\b\b\b\b\b\b\b\b\b\b\b\b\b\b\b\b\b\b\b\b\b\b\b\b\b\b\b\b\b\b\b\b\b\b\b\b\b\b\b\b\b\b\b\b\b\b\b\b\b\b\b\b\b\b\b\b\b\r1/1 [==============================] - 0s 141ms/step - loss: 0.6273 - accuracy: 0.7961\n",
            "Epoch 337/1000\n",
            "1/1 [==============================] - 0s 20ms/step\n",
            "\n",
            "Validation Accuracy: 36.666666666666664 %\n"
          ]
        },
        {
          "output_type": "stream",
          "name": "stderr",
          "text": [
            "WARNING:tensorflow:Can save best model only with val_loss available, skipping.\n"
          ]
        },
        {
          "output_type": "stream",
          "name": "stdout",
          "text": [
            "\b\b\b\b\b\b\b\b\b\b\b\b\b\b\b\b\b\b\b\b\b\b\b\b\b\b\b\b\b\b\b\b\b\b\b\b\b\b\b\b\b\b\b\b\b\b\b\b\b\b\b\b\b\b\b\b\b\b\b\b\b\b\b\b\b\b\b\b\b\b\b\b\b\b\b\b\b\b\b\b\r1/1 [==============================] - 0s 132ms/step - loss: 0.6298 - accuracy: 0.7950\n",
            "Epoch 338/1000\n",
            "1/1 [==============================] - 0s 24ms/step\n",
            "\n",
            "Validation Accuracy: 37.77777777777778 %\n"
          ]
        },
        {
          "output_type": "stream",
          "name": "stderr",
          "text": [
            "WARNING:tensorflow:Can save best model only with val_loss available, skipping.\n"
          ]
        },
        {
          "output_type": "stream",
          "name": "stdout",
          "text": [
            "\b\b\b\b\b\b\b\b\b\b\b\b\b\b\b\b\b\b\b\b\b\b\b\b\b\b\b\b\b\b\b\b\b\b\b\b\b\b\b\b\b\b\b\b\b\b\b\b\b\b\b\b\b\b\b\b\b\b\b\b\b\b\b\b\b\b\b\b\b\b\b\b\b\b\b\b\b\b\b\b\r1/1 [==============================] - 0s 154ms/step - loss: 0.6217 - accuracy: 0.7983\n",
            "Epoch 339/1000\n",
            "1/1 [==============================] - 0s 19ms/step\n",
            "\n",
            "Validation Accuracy: 37.77777777777778 %\n"
          ]
        },
        {
          "output_type": "stream",
          "name": "stderr",
          "text": [
            "WARNING:tensorflow:Can save best model only with val_loss available, skipping.\n"
          ]
        },
        {
          "output_type": "stream",
          "name": "stdout",
          "text": [
            "\b\b\b\b\b\b\b\b\b\b\b\b\b\b\b\b\b\b\b\b\b\b\b\b\b\b\b\b\b\b\b\b\b\b\b\b\b\b\b\b\b\b\b\b\b\b\b\b\b\b\b\b\b\b\b\b\b\b\b\b\b\b\b\b\b\b\b\b\b\b\b\b\b\b\b\b\b\b\b\b\r1/1 [==============================] - 0s 135ms/step - loss: 0.6273 - accuracy: 0.7992\n",
            "Epoch 340/1000\n",
            "1/1 [==============================] - 0s 21ms/step\n",
            "\n",
            "Validation Accuracy: 37.77777777777778 %\n"
          ]
        },
        {
          "output_type": "stream",
          "name": "stderr",
          "text": [
            "WARNING:tensorflow:Can save best model only with val_loss available, skipping.\n"
          ]
        },
        {
          "output_type": "stream",
          "name": "stdout",
          "text": [
            "\b\b\b\b\b\b\b\b\b\b\b\b\b\b\b\b\b\b\b\b\b\b\b\b\b\b\b\b\b\b\b\b\b\b\b\b\b\b\b\b\b\b\b\b\b\b\b\b\b\b\b\b\b\b\b\b\b\b\b\b\b\b\b\b\b\b\b\b\b\b\b\b\b\b\b\b\b\b\b\b\r1/1 [==============================] - 0s 129ms/step - loss: 0.6232 - accuracy: 0.7975\n",
            "Epoch 341/1000\n",
            "1/1 [==============================] - 0s 20ms/step\n",
            "\n",
            "Validation Accuracy: 37.77777777777778 %\n"
          ]
        },
        {
          "output_type": "stream",
          "name": "stderr",
          "text": [
            "WARNING:tensorflow:Can save best model only with val_loss available, skipping.\n"
          ]
        },
        {
          "output_type": "stream",
          "name": "stdout",
          "text": [
            "\b\b\b\b\b\b\b\b\b\b\b\b\b\b\b\b\b\b\b\b\b\b\b\b\b\b\b\b\b\b\b\b\b\b\b\b\b\b\b\b\b\b\b\b\b\b\b\b\b\b\b\b\b\b\b\b\b\b\b\b\b\b\b\b\b\b\b\b\b\b\b\b\b\b\b\b\b\b\b\b\r1/1 [==============================] - 0s 150ms/step - loss: 0.6365 - accuracy: 0.7975\n",
            "Epoch 342/1000\n",
            "1/1 [==============================] - 0s 21ms/step\n",
            "\n",
            "Validation Accuracy: 38.333333333333336 %\n"
          ]
        },
        {
          "output_type": "stream",
          "name": "stderr",
          "text": [
            "WARNING:tensorflow:Can save best model only with val_loss available, skipping.\n"
          ]
        },
        {
          "output_type": "stream",
          "name": "stdout",
          "text": [
            "\b\b\b\b\b\b\b\b\b\b\b\b\b\b\b\b\b\b\b\b\b\b\b\b\b\b\b\b\b\b\b\b\b\b\b\b\b\b\b\b\b\b\b\b\b\b\b\b\b\b\b\b\b\b\b\b\b\b\b\b\b\b\b\b\b\b\b\b\b\b\b\b\b\b\b\b\b\b\b\b\r1/1 [==============================] - 0s 138ms/step - loss: 0.6289 - accuracy: 0.7944\n",
            "Epoch 343/1000\n",
            "1/1 [==============================] - 0s 20ms/step\n",
            "\n",
            "Validation Accuracy: 38.333333333333336 %\n"
          ]
        },
        {
          "output_type": "stream",
          "name": "stderr",
          "text": [
            "WARNING:tensorflow:Can save best model only with val_loss available, skipping.\n"
          ]
        },
        {
          "output_type": "stream",
          "name": "stdout",
          "text": [
            "\b\b\b\b\b\b\b\b\b\b\b\b\b\b\b\b\b\b\b\b\b\b\b\b\b\b\b\b\b\b\b\b\b\b\b\b\b\b\b\b\b\b\b\b\b\b\b\b\b\b\b\b\b\b\b\b\b\b\b\b\b\b\b\b\b\b\b\b\b\b\b\b\b\b\b\b\b\b\b\b\r1/1 [==============================] - 0s 132ms/step - loss: 0.6298 - accuracy: 0.7950\n",
            "Epoch 344/1000\n",
            "1/1 [==============================] - 0s 24ms/step\n",
            "\n",
            "Validation Accuracy: 37.77777777777778 %\n"
          ]
        },
        {
          "output_type": "stream",
          "name": "stderr",
          "text": [
            "WARNING:tensorflow:Can save best model only with val_loss available, skipping.\n"
          ]
        },
        {
          "output_type": "stream",
          "name": "stdout",
          "text": [
            "\b\b\b\b\b\b\b\b\b\b\b\b\b\b\b\b\b\b\b\b\b\b\b\b\b\b\b\b\b\b\b\b\b\b\b\b\b\b\b\b\b\b\b\b\b\b\b\b\b\b\b\b\b\b\b\b\b\b\b\b\b\b\b\b\b\b\b\b\b\b\b\b\b\b\b\b\b\b\b\b\r1/1 [==============================] - 0s 149ms/step - loss: 0.6142 - accuracy: 0.8013\n",
            "Epoch 345/1000\n",
            "1/1 [==============================] - 0s 35ms/step\n",
            "\n",
            "Validation Accuracy: 37.77777777777778 %\n"
          ]
        },
        {
          "output_type": "stream",
          "name": "stderr",
          "text": [
            "WARNING:tensorflow:Can save best model only with val_loss available, skipping.\n"
          ]
        },
        {
          "output_type": "stream",
          "name": "stdout",
          "text": [
            "\b\b\b\b\b\b\b\b\b\b\b\b\b\b\b\b\b\b\b\b\b\b\b\b\b\b\b\b\b\b\b\b\b\b\b\b\b\b\b\b\b\b\b\b\b\b\b\b\b\b\b\b\b\b\b\b\b\b\b\b\b\b\b\b\b\b\b\b\b\b\b\b\b\b\b\b\b\b\b\b\r1/1 [==============================] - 0s 167ms/step - loss: 0.6248 - accuracy: 0.8017\n",
            "Epoch 346/1000\n",
            "1/1 [==============================] - 0s 33ms/step\n",
            "\n",
            "Validation Accuracy: 38.333333333333336 %\n"
          ]
        },
        {
          "output_type": "stream",
          "name": "stderr",
          "text": [
            "WARNING:tensorflow:Can save best model only with val_loss available, skipping.\n"
          ]
        },
        {
          "output_type": "stream",
          "name": "stdout",
          "text": [
            "\b\b\b\b\b\b\b\b\b\b\b\b\b\b\b\b\b\b\b\b\b\b\b\b\b\b\b\b\b\b\b\b\b\b\b\b\b\b\b\b\b\b\b\b\b\b\b\b\b\b\b\b\b\b\b\b\b\b\b\b\b\b\b\b\b\b\b\b\b\b\b\b\b\b\b\b\b\b\b\b\r1/1 [==============================] - 0s 179ms/step - loss: 0.6174 - accuracy: 0.8028\n",
            "Epoch 347/1000\n",
            "1/1 [==============================] - 0s 30ms/step\n",
            "\n",
            "Validation Accuracy: 37.77777777777778 %\n"
          ]
        },
        {
          "output_type": "stream",
          "name": "stderr",
          "text": [
            "WARNING:tensorflow:Can save best model only with val_loss available, skipping.\n"
          ]
        },
        {
          "output_type": "stream",
          "name": "stdout",
          "text": [
            "\b\b\b\b\b\b\b\b\b\b\b\b\b\b\b\b\b\b\b\b\b\b\b\b\b\b\b\b\b\b\b\b\b\b\b\b\b\b\b\b\b\b\b\b\b\b\b\b\b\b\b\b\b\b\b\b\b\b\b\b\b\b\b\b\b\b\b\b\b\b\b\b\b\b\b\b\b\b\b\b\r1/1 [==============================] - 0s 173ms/step - loss: 0.6160 - accuracy: 0.8011\n",
            "Epoch 348/1000\n",
            "1/1 [==============================] - 0s 28ms/step\n",
            "\n",
            "Validation Accuracy: 37.77777777777778 %\n"
          ]
        },
        {
          "output_type": "stream",
          "name": "stderr",
          "text": [
            "WARNING:tensorflow:Can save best model only with val_loss available, skipping.\n"
          ]
        },
        {
          "output_type": "stream",
          "name": "stdout",
          "text": [
            "\b\b\b\b\b\b\b\b\b\b\b\b\b\b\b\b\b\b\b\b\b\b\b\b\b\b\b\b\b\b\b\b\b\b\b\b\b\b\b\b\b\b\b\b\b\b\b\b\b\b\b\b\b\b\b\b\b\b\b\b\b\b\b\b\b\b\b\b\b\b\b\b\b\b\b\b\b\b\b\b\r1/1 [==============================] - 0s 187ms/step - loss: 0.6118 - accuracy: 0.8042\n",
            "Epoch 349/1000\n",
            "1/1 [==============================] - 0s 28ms/step\n",
            "\n",
            "Validation Accuracy: 37.22222222222222 %\n"
          ]
        },
        {
          "output_type": "stream",
          "name": "stderr",
          "text": [
            "WARNING:tensorflow:Can save best model only with val_loss available, skipping.\n"
          ]
        },
        {
          "output_type": "stream",
          "name": "stdout",
          "text": [
            "\b\b\b\b\b\b\b\b\b\b\b\b\b\b\b\b\b\b\b\b\b\b\b\b\b\b\b\b\b\b\b\b\b\b\b\b\b\b\b\b\b\b\b\b\b\b\b\b\b\b\b\b\b\b\b\b\b\b\b\b\b\b\b\b\b\b\b\b\b\b\b\b\b\b\b\b\b\b\b\b\r1/1 [==============================] - 0s 200ms/step - loss: 0.6093 - accuracy: 0.8034\n",
            "Epoch 350/1000\n",
            "1/1 [==============================] - 0s 38ms/step\n",
            "\n",
            "Validation Accuracy: 37.22222222222222 %\n"
          ]
        },
        {
          "output_type": "stream",
          "name": "stderr",
          "text": [
            "WARNING:tensorflow:Can save best model only with val_loss available, skipping.\n"
          ]
        },
        {
          "output_type": "stream",
          "name": "stdout",
          "text": [
            "\b\b\b\b\b\b\b\b\b\b\b\b\b\b\b\b\b\b\b\b\b\b\b\b\b\b\b\b\b\b\b\b\b\b\b\b\b\b\b\b\b\b\b\b\b\b\b\b\b\b\b\b\b\b\b\b\b\b\b\b\b\b\b\b\b\b\b\b\b\b\b\b\b\b\b\b\b\b\b\b\r1/1 [==============================] - 0s 193ms/step - loss: 0.6178 - accuracy: 0.8050\n",
            "Epoch 351/1000\n",
            "1/1 [==============================] - 0s 41ms/step\n",
            "\n",
            "Validation Accuracy: 37.22222222222222 %\n"
          ]
        },
        {
          "output_type": "stream",
          "name": "stderr",
          "text": [
            "WARNING:tensorflow:Can save best model only with val_loss available, skipping.\n"
          ]
        },
        {
          "output_type": "stream",
          "name": "stdout",
          "text": [
            "\b\b\b\b\b\b\b\b\b\b\b\b\b\b\b\b\b\b\b\b\b\b\b\b\b\b\b\b\b\b\b\b\b\b\b\b\b\b\b\b\b\b\b\b\b\b\b\b\b\b\b\b\b\b\b\b\b\b\b\b\b\b\b\b\b\b\b\b\b\b\b\b\b\b\b\b\b\b\b\b\r1/1 [==============================] - 0s 208ms/step - loss: 0.6140 - accuracy: 0.8027\n",
            "Epoch 352/1000\n",
            "1/1 [==============================] - 0s 45ms/step\n",
            "\n",
            "Validation Accuracy: 37.22222222222222 %\n"
          ]
        },
        {
          "output_type": "stream",
          "name": "stderr",
          "text": [
            "WARNING:tensorflow:Can save best model only with val_loss available, skipping.\n"
          ]
        },
        {
          "output_type": "stream",
          "name": "stdout",
          "text": [
            "\b\b\b\b\b\b\b\b\b\b\b\b\b\b\b\b\b\b\b\b\b\b\b\b\b\b\b\b\b\b\b\b\b\b\b\b\b\b\b\b\b\b\b\b\b\b\b\b\b\b\b\b\b\b\b\b\b\b\b\b\b\b\b\b\b\b\b\b\b\b\b\b\b\b\b\b\b\b\b\b\r1/1 [==============================] - 0s 210ms/step - loss: 0.6166 - accuracy: 0.7989\n",
            "Epoch 353/1000\n",
            "1/1 [==============================] - 0s 30ms/step\n",
            "\n",
            "Validation Accuracy: 37.22222222222222 %\n"
          ]
        },
        {
          "output_type": "stream",
          "name": "stderr",
          "text": [
            "WARNING:tensorflow:Can save best model only with val_loss available, skipping.\n"
          ]
        },
        {
          "output_type": "stream",
          "name": "stdout",
          "text": [
            "\b\b\b\b\b\b\b\b\b\b\b\b\b\b\b\b\b\b\b\b\b\b\b\b\b\b\b\b\b\b\b\b\b\b\b\b\b\b\b\b\b\b\b\b\b\b\b\b\b\b\b\b\b\b\b\b\b\b\b\b\b\b\b\b\b\b\b\b\b\b\b\b\b\b\b\b\b\b\b\b\r1/1 [==============================] - 0s 181ms/step - loss: 0.6136 - accuracy: 0.7979\n",
            "Epoch 354/1000\n",
            "1/1 [==============================] - 0s 28ms/step\n",
            "\n",
            "Validation Accuracy: 37.22222222222222 %\n"
          ]
        },
        {
          "output_type": "stream",
          "name": "stderr",
          "text": [
            "WARNING:tensorflow:Can save best model only with val_loss available, skipping.\n"
          ]
        },
        {
          "output_type": "stream",
          "name": "stdout",
          "text": [
            "\b\b\b\b\b\b\b\b\b\b\b\b\b\b\b\b\b\b\b\b\b\b\b\b\b\b\b\b\b\b\b\b\b\b\b\b\b\b\b\b\b\b\b\b\b\b\b\b\b\b\b\b\b\b\b\b\b\b\b\b\b\b\b\b\b\b\b\b\b\b\b\b\b\b\b\b\b\b\b\b\r1/1 [==============================] - 0s 156ms/step - loss: 0.6053 - accuracy: 0.8053\n",
            "Epoch 355/1000\n",
            "1/1 [==============================] - 0s 49ms/step\n",
            "\n",
            "Validation Accuracy: 36.666666666666664 %\n"
          ]
        },
        {
          "output_type": "stream",
          "name": "stderr",
          "text": [
            "WARNING:tensorflow:Can save best model only with val_loss available, skipping.\n"
          ]
        },
        {
          "output_type": "stream",
          "name": "stdout",
          "text": [
            "\b\b\b\b\b\b\b\b\b\b\b\b\b\b\b\b\b\b\b\b\b\b\b\b\b\b\b\b\b\b\b\b\b\b\b\b\b\b\b\b\b\b\b\b\b\b\b\b\b\b\b\b\b\b\b\b\b\b\b\b\b\b\b\b\b\b\b\b\b\b\b\b\b\b\b\b\b\b\b\b\r1/1 [==============================] - 0s 193ms/step - loss: 0.6077 - accuracy: 0.8041\n",
            "Epoch 356/1000\n",
            "1/1 [==============================] - 0s 38ms/step\n",
            "\n",
            "Validation Accuracy: 36.11111111111111 %\n"
          ]
        },
        {
          "output_type": "stream",
          "name": "stderr",
          "text": [
            "WARNING:tensorflow:Can save best model only with val_loss available, skipping.\n"
          ]
        },
        {
          "output_type": "stream",
          "name": "stdout",
          "text": [
            "\b\b\b\b\b\b\b\b\b\b\b\b\b\b\b\b\b\b\b\b\b\b\b\b\b\b\b\b\b\b\b\b\b\b\b\b\b\b\b\b\b\b\b\b\b\b\b\b\b\b\b\b\b\b\b\b\b\b\b\b\b\b\b\b\b\b\b\b\b\b\b\b\b\b\b\b\b\b\b\b\r1/1 [==============================] - 0s 227ms/step - loss: 0.6038 - accuracy: 0.8027\n",
            "Epoch 357/1000\n",
            "1/1 [==============================] - 0s 39ms/step\n",
            "\n",
            "Validation Accuracy: 36.11111111111111 %\n"
          ]
        },
        {
          "output_type": "stream",
          "name": "stderr",
          "text": [
            "WARNING:tensorflow:Can save best model only with val_loss available, skipping.\n"
          ]
        },
        {
          "output_type": "stream",
          "name": "stdout",
          "text": [
            "\b\b\b\b\b\b\b\b\b\b\b\b\b\b\b\b\b\b\b\b\b\b\b\b\b\b\b\b\b\b\b\b\b\b\b\b\b\b\b\b\b\b\b\b\b\b\b\b\b\b\b\b\b\b\b\b\b\b\b\b\b\b\b\b\b\b\b\b\b\b\b\b\b\b\b\b\b\b\b\b\r1/1 [==============================] - 0s 198ms/step - loss: 0.6011 - accuracy: 0.8071\n",
            "Epoch 358/1000\n",
            "1/1 [==============================] - 0s 46ms/step\n",
            "\n",
            "Validation Accuracy: 35.0 %\n"
          ]
        },
        {
          "output_type": "stream",
          "name": "stderr",
          "text": [
            "WARNING:tensorflow:Can save best model only with val_loss available, skipping.\n"
          ]
        },
        {
          "output_type": "stream",
          "name": "stdout",
          "text": [
            "\b\b\b\b\b\b\b\b\b\b\b\b\b\b\b\b\b\b\b\b\b\b\b\b\b\b\b\b\b\b\b\b\b\b\b\b\b\b\b\b\b\b\b\b\b\b\b\b\b\b\b\b\b\b\b\b\b\b\b\b\b\b\b\b\b\b\b\b\b\b\b\b\b\b\b\b\b\b\b\b\r1/1 [==============================] - 0s 222ms/step - loss: 0.6050 - accuracy: 0.8045\n",
            "Epoch 359/1000\n",
            "1/1 [==============================] - 0s 28ms/step\n",
            "\n",
            "Validation Accuracy: 35.55555555555556 %\n"
          ]
        },
        {
          "output_type": "stream",
          "name": "stderr",
          "text": [
            "WARNING:tensorflow:Can save best model only with val_loss available, skipping.\n"
          ]
        },
        {
          "output_type": "stream",
          "name": "stdout",
          "text": [
            "\b\b\b\b\b\b\b\b\b\b\b\b\b\b\b\b\b\b\b\b\b\b\b\b\b\b\b\b\b\b\b\b\b\b\b\b\b\b\b\b\b\b\b\b\b\b\b\b\b\b\b\b\b\b\b\b\b\b\b\b\b\b\b\b\b\b\b\b\b\b\b\b\b\b\b\b\b\b\b\b\r1/1 [==============================] - 0s 147ms/step - loss: 0.6109 - accuracy: 0.8035\n",
            "Epoch 360/1000\n",
            "1/1 [==============================] - 0s 29ms/step\n",
            "\n",
            "Validation Accuracy: 36.666666666666664 %\n"
          ]
        },
        {
          "output_type": "stream",
          "name": "stderr",
          "text": [
            "WARNING:tensorflow:Can save best model only with val_loss available, skipping.\n"
          ]
        },
        {
          "output_type": "stream",
          "name": "stdout",
          "text": [
            "\b\b\b\b\b\b\b\b\b\b\b\b\b\b\b\b\b\b\b\b\b\b\b\b\b\b\b\b\b\b\b\b\b\b\b\b\b\b\b\b\b\b\b\b\b\b\b\b\b\b\b\b\b\b\b\b\b\b\b\b\b\b\b\b\b\b\b\b\b\b\b\b\b\b\b\b\b\b\b\b\r1/1 [==============================] - 0s 150ms/step - loss: 0.6028 - accuracy: 0.8053\n",
            "Epoch 361/1000\n",
            "1/1 [==============================] - 0s 39ms/step\n",
            "\n",
            "Validation Accuracy: 36.666666666666664 %\n"
          ]
        },
        {
          "output_type": "stream",
          "name": "stderr",
          "text": [
            "WARNING:tensorflow:Can save best model only with val_loss available, skipping.\n"
          ]
        },
        {
          "output_type": "stream",
          "name": "stdout",
          "text": [
            "\b\b\b\b\b\b\b\b\b\b\b\b\b\b\b\b\b\b\b\b\b\b\b\b\b\b\b\b\b\b\b\b\b\b\b\b\b\b\b\b\b\b\b\b\b\b\b\b\b\b\b\b\b\b\b\b\b\b\b\b\b\b\b\b\b\b\b\b\b\b\b\b\b\b\b\b\b\b\b\b\r1/1 [==============================] - 0s 198ms/step - loss: 0.6029 - accuracy: 0.8060\n",
            "Epoch 362/1000\n",
            "1/1 [==============================] - 0s 36ms/step\n",
            "\n",
            "Validation Accuracy: 37.77777777777778 %\n"
          ]
        },
        {
          "output_type": "stream",
          "name": "stderr",
          "text": [
            "WARNING:tensorflow:Can save best model only with val_loss available, skipping.\n"
          ]
        },
        {
          "output_type": "stream",
          "name": "stdout",
          "text": [
            "\b\b\b\b\b\b\b\b\b\b\b\b\b\b\b\b\b\b\b\b\b\b\b\b\b\b\b\b\b\b\b\b\b\b\b\b\b\b\b\b\b\b\b\b\b\b\b\b\b\b\b\b\b\b\b\b\b\b\b\b\b\b\b\b\b\b\b\b\b\b\b\b\b\b\b\b\b\b\b\b\r1/1 [==============================] - 0s 206ms/step - loss: 0.6099 - accuracy: 0.8017\n",
            "Epoch 363/1000\n",
            "1/1 [==============================] - 0s 41ms/step\n",
            "\n",
            "Validation Accuracy: 37.77777777777778 %\n"
          ]
        },
        {
          "output_type": "stream",
          "name": "stderr",
          "text": [
            "WARNING:tensorflow:Can save best model only with val_loss available, skipping.\n"
          ]
        },
        {
          "output_type": "stream",
          "name": "stdout",
          "text": [
            "\b\b\b\b\b\b\b\b\b\b\b\b\b\b\b\b\b\b\b\b\b\b\b\b\b\b\b\b\b\b\b\b\b\b\b\b\b\b\b\b\b\b\b\b\b\b\b\b\b\b\b\b\b\b\b\b\b\b\b\b\b\b\b\b\b\b\b\b\b\b\b\b\b\b\b\b\b\b\b\b\r1/1 [==============================] - 0s 224ms/step - loss: 0.6033 - accuracy: 0.8039\n",
            "Epoch 364/1000\n",
            "1/1 [==============================] - 0s 56ms/step\n",
            "\n",
            "Validation Accuracy: 37.77777777777778 %\n"
          ]
        },
        {
          "output_type": "stream",
          "name": "stderr",
          "text": [
            "WARNING:tensorflow:Can save best model only with val_loss available, skipping.\n"
          ]
        },
        {
          "output_type": "stream",
          "name": "stdout",
          "text": [
            "\b\b\b\b\b\b\b\b\b\b\b\b\b\b\b\b\b\b\b\b\b\b\b\b\b\b\b\b\b\b\b\b\b\b\b\b\b\b\b\b\b\b\b\b\b\b\b\b\b\b\b\b\b\b\b\b\b\b\b\b\b\b\b\b\b\b\b\b\b\b\b\b\b\b\b\b\b\b\b\b\r1/1 [==============================] - 0s 224ms/step - loss: 0.5994 - accuracy: 0.8060\n",
            "Epoch 365/1000\n",
            "1/1 [==============================] - 0s 42ms/step\n",
            "\n",
            "Validation Accuracy: 37.22222222222222 %\n"
          ]
        },
        {
          "output_type": "stream",
          "name": "stderr",
          "text": [
            "WARNING:tensorflow:Can save best model only with val_loss available, skipping.\n"
          ]
        },
        {
          "output_type": "stream",
          "name": "stdout",
          "text": [
            "\b\b\b\b\b\b\b\b\b\b\b\b\b\b\b\b\b\b\b\b\b\b\b\b\b\b\b\b\b\b\b\b\b\b\b\b\b\b\b\b\b\b\b\b\b\b\b\b\b\b\b\b\b\b\b\b\b\b\b\b\b\b\b\b\b\b\b\b\b\b\b\b\b\b\b\b\b\b\b\b\r1/1 [==============================] - 0s 240ms/step - loss: 0.6006 - accuracy: 0.8029\n",
            "Epoch 366/1000\n",
            "1/1 [==============================] - 0s 27ms/step\n",
            "\n",
            "Validation Accuracy: 37.77777777777778 %\n"
          ]
        },
        {
          "output_type": "stream",
          "name": "stderr",
          "text": [
            "WARNING:tensorflow:Can save best model only with val_loss available, skipping.\n"
          ]
        },
        {
          "output_type": "stream",
          "name": "stdout",
          "text": [
            "\b\b\b\b\b\b\b\b\b\b\b\b\b\b\b\b\b\b\b\b\b\b\b\b\b\b\b\b\b\b\b\b\b\b\b\b\b\b\b\b\b\b\b\b\b\b\b\b\b\b\b\b\b\b\b\b\b\b\b\b\b\b\b\b\b\b\b\b\b\b\b\b\b\b\b\b\b\b\b\b\r1/1 [==============================] - 0s 154ms/step - loss: 0.5973 - accuracy: 0.8039\n",
            "Epoch 367/1000\n",
            "1/1 [==============================] - 0s 28ms/step\n",
            "\n",
            "Validation Accuracy: 38.88888888888889 %\n"
          ]
        },
        {
          "output_type": "stream",
          "name": "stderr",
          "text": [
            "WARNING:tensorflow:Can save best model only with val_loss available, skipping.\n"
          ]
        },
        {
          "output_type": "stream",
          "name": "stdout",
          "text": [
            "\b\b\b\b\b\b\b\b\b\b\b\b\b\b\b\b\b\b\b\b\b\b\b\b\b\b\b\b\b\b\b\b\b\b\b\b\b\b\b\b\b\b\b\b\b\b\b\b\b\b\b\b\b\b\b\b\b\b\b\b\b\b\b\b\b\b\b\b\b\b\b\b\b\b\b\b\b\b\b\b\r1/1 [==============================] - 0s 151ms/step - loss: 0.5988 - accuracy: 0.8029\n",
            "Epoch 368/1000\n",
            "1/1 [==============================] - 0s 29ms/step\n",
            "\n",
            "Validation Accuracy: 37.77777777777778 %\n"
          ]
        },
        {
          "output_type": "stream",
          "name": "stderr",
          "text": [
            "WARNING:tensorflow:Can save best model only with val_loss available, skipping.\n"
          ]
        },
        {
          "output_type": "stream",
          "name": "stdout",
          "text": [
            "\b\b\b\b\b\b\b\b\b\b\b\b\b\b\b\b\b\b\b\b\b\b\b\b\b\b\b\b\b\b\b\b\b\b\b\b\b\b\b\b\b\b\b\b\b\b\b\b\b\b\b\b\b\b\b\b\b\b\b\b\b\b\b\b\b\b\b\b\b\b\b\b\b\b\b\b\b\b\b\b\r1/1 [==============================] - 0s 146ms/step - loss: 0.5940 - accuracy: 0.8074\n",
            "Epoch 369/1000\n",
            "1/1 [==============================] - 0s 30ms/step\n",
            "\n",
            "Validation Accuracy: 37.22222222222222 %\n"
          ]
        },
        {
          "output_type": "stream",
          "name": "stderr",
          "text": [
            "WARNING:tensorflow:Can save best model only with val_loss available, skipping.\n"
          ]
        },
        {
          "output_type": "stream",
          "name": "stdout",
          "text": [
            "\b\b\b\b\b\b\b\b\b\b\b\b\b\b\b\b\b\b\b\b\b\b\b\b\b\b\b\b\b\b\b\b\b\b\b\b\b\b\b\b\b\b\b\b\b\b\b\b\b\b\b\b\b\b\b\b\b\b\b\b\b\b\b\b\b\b\b\b\b\b\b\b\b\b\b\b\b\b\b\b\r1/1 [==============================] - 0s 156ms/step - loss: 0.6041 - accuracy: 0.8049\n",
            "Epoch 370/1000\n",
            "1/1 [==============================] - 0s 49ms/step\n",
            "\n",
            "Validation Accuracy: 36.666666666666664 %\n"
          ]
        },
        {
          "output_type": "stream",
          "name": "stderr",
          "text": [
            "WARNING:tensorflow:Can save best model only with val_loss available, skipping.\n"
          ]
        },
        {
          "output_type": "stream",
          "name": "stdout",
          "text": [
            "\b\b\b\b\b\b\b\b\b\b\b\b\b\b\b\b\b\b\b\b\b\b\b\b\b\b\b\b\b\b\b\b\b\b\b\b\b\b\b\b\b\b\b\b\b\b\b\b\b\b\b\b\b\b\b\b\b\b\b\b\b\b\b\b\b\b\b\b\b\b\b\b\b\b\b\b\b\b\b\b\r1/1 [==============================] - 0s 234ms/step - loss: 0.5907 - accuracy: 0.8095\n",
            "Epoch 371/1000\n",
            "1/1 [==============================] - 0s 62ms/step\n",
            "\n",
            "Validation Accuracy: 36.666666666666664 %\n"
          ]
        },
        {
          "output_type": "stream",
          "name": "stderr",
          "text": [
            "WARNING:tensorflow:Can save best model only with val_loss available, skipping.\n"
          ]
        },
        {
          "output_type": "stream",
          "name": "stdout",
          "text": [
            "\b\b\b\b\b\b\b\b\b\b\b\b\b\b\b\b\b\b\b\b\b\b\b\b\b\b\b\b\b\b\b\b\b\b\b\b\b\b\b\b\b\b\b\b\b\b\b\b\b\b\b\b\b\b\b\b\b\b\b\b\b\b\b\b\b\b\b\b\b\b\b\b\b\b\b\b\b\b\b\b\r1/1 [==============================] - 0s 240ms/step - loss: 0.5892 - accuracy: 0.8071\n",
            "Epoch 372/1000\n",
            "1/1 [==============================] - 0s 39ms/step\n",
            "\n",
            "Validation Accuracy: 36.666666666666664 %\n"
          ]
        },
        {
          "output_type": "stream",
          "name": "stderr",
          "text": [
            "WARNING:tensorflow:Can save best model only with val_loss available, skipping.\n"
          ]
        },
        {
          "output_type": "stream",
          "name": "stdout",
          "text": [
            "\b\b\b\b\b\b\b\b\b\b\b\b\b\b\b\b\b\b\b\b\b\b\b\b\b\b\b\b\b\b\b\b\b\b\b\b\b\b\b\b\b\b\b\b\b\b\b\b\b\b\b\b\b\b\b\b\b\b\b\b\b\b\b\b\b\b\b\b\b\b\b\b\b\b\b\b\b\b\b\b\r1/1 [==============================] - 0s 209ms/step - loss: 0.5858 - accuracy: 0.8088\n",
            "Epoch 373/1000\n",
            "1/1 [==============================] - 0s 28ms/step\n",
            "\n",
            "Validation Accuracy: 36.666666666666664 %\n"
          ]
        },
        {
          "output_type": "stream",
          "name": "stderr",
          "text": [
            "WARNING:tensorflow:Can save best model only with val_loss available, skipping.\n"
          ]
        },
        {
          "output_type": "stream",
          "name": "stdout",
          "text": [
            "\b\b\b\b\b\b\b\b\b\b\b\b\b\b\b\b\b\b\b\b\b\b\b\b\b\b\b\b\b\b\b\b\b\b\b\b\b\b\b\b\b\b\b\b\b\b\b\b\b\b\b\b\b\b\b\b\b\b\b\b\b\b\b\b\b\b\b\b\b\b\b\b\b\b\b\b\b\b\b\b\r1/1 [==============================] - 0s 199ms/step - loss: 0.5896 - accuracy: 0.8085\n",
            "Epoch 374/1000\n",
            "1/1 [==============================] - 0s 37ms/step\n",
            "\n",
            "Validation Accuracy: 37.22222222222222 %\n"
          ]
        },
        {
          "output_type": "stream",
          "name": "stderr",
          "text": [
            "WARNING:tensorflow:Can save best model only with val_loss available, skipping.\n"
          ]
        },
        {
          "output_type": "stream",
          "name": "stdout",
          "text": [
            "\b\b\b\b\b\b\b\b\b\b\b\b\b\b\b\b\b\b\b\b\b\b\b\b\b\b\b\b\b\b\b\b\b\b\b\b\b\b\b\b\b\b\b\b\b\b\b\b\b\b\b\b\b\b\b\b\b\b\b\b\b\b\b\b\b\b\b\b\b\b\b\b\b\b\b\b\b\b\b\b\r1/1 [==============================] - 0s 194ms/step - loss: 0.5985 - accuracy: 0.8035\n",
            "Epoch 375/1000\n",
            "1/1 [==============================] - 0s 32ms/step\n",
            "\n",
            "Validation Accuracy: 36.666666666666664 %\n"
          ]
        },
        {
          "output_type": "stream",
          "name": "stderr",
          "text": [
            "WARNING:tensorflow:Can save best model only with val_loss available, skipping.\n"
          ]
        },
        {
          "output_type": "stream",
          "name": "stdout",
          "text": [
            "\b\b\b\b\b\b\b\b\b\b\b\b\b\b\b\b\b\b\b\b\b\b\b\b\b\b\b\b\b\b\b\b\b\b\b\b\b\b\b\b\b\b\b\b\b\b\b\b\b\b\b\b\b\b\b\b\b\b\b\b\b\b\b\b\b\b\b\b\b\b\b\b\b\b\b\b\b\b\b\b\r1/1 [==============================] - 0s 172ms/step - loss: 0.5898 - accuracy: 0.8101\n",
            "Epoch 376/1000\n",
            "1/1 [==============================] - 0s 28ms/step\n",
            "\n",
            "Validation Accuracy: 37.22222222222222 %\n"
          ]
        },
        {
          "output_type": "stream",
          "name": "stderr",
          "text": [
            "WARNING:tensorflow:Can save best model only with val_loss available, skipping.\n"
          ]
        },
        {
          "output_type": "stream",
          "name": "stdout",
          "text": [
            "\b\b\b\b\b\b\b\b\b\b\b\b\b\b\b\b\b\b\b\b\b\b\b\b\b\b\b\b\b\b\b\b\b\b\b\b\b\b\b\b\b\b\b\b\b\b\b\b\b\b\b\b\b\b\b\b\b\b\b\b\b\b\b\b\b\b\b\b\b\b\b\b\b\b\b\b\b\b\b\b\r1/1 [==============================] - 0s 155ms/step - loss: 0.5912 - accuracy: 0.8090\n",
            "Epoch 377/1000\n",
            "1/1 [==============================] - 0s 32ms/step\n",
            "\n",
            "Validation Accuracy: 37.22222222222222 %\n"
          ]
        },
        {
          "output_type": "stream",
          "name": "stderr",
          "text": [
            "WARNING:tensorflow:Can save best model only with val_loss available, skipping.\n"
          ]
        },
        {
          "output_type": "stream",
          "name": "stdout",
          "text": [
            "\b\b\b\b\b\b\b\b\b\b\b\b\b\b\b\b\b\b\b\b\b\b\b\b\b\b\b\b\b\b\b\b\b\b\b\b\b\b\b\b\b\b\b\b\b\b\b\b\b\b\b\b\b\b\b\b\b\b\b\b\b\b\b\b\b\b\b\b\b\b\b\b\b\b\b\b\b\b\b\b\r1/1 [==============================] - 0s 166ms/step - loss: 0.5898 - accuracy: 0.8097\n",
            "Epoch 378/1000\n",
            "1/1 [==============================] - 0s 28ms/step\n",
            "\n",
            "Validation Accuracy: 38.333333333333336 %\n"
          ]
        },
        {
          "output_type": "stream",
          "name": "stderr",
          "text": [
            "WARNING:tensorflow:Can save best model only with val_loss available, skipping.\n"
          ]
        },
        {
          "output_type": "stream",
          "name": "stdout",
          "text": [
            "\b\b\b\b\b\b\b\b\b\b\b\b\b\b\b\b\b\b\b\b\b\b\b\b\b\b\b\b\b\b\b\b\b\b\b\b\b\b\b\b\b\b\b\b\b\b\b\b\b\b\b\b\b\b\b\b\b\b\b\b\b\b\b\b\b\b\b\b\b\b\b\b\b\b\b\b\b\b\b\b\r1/1 [==============================] - 0s 145ms/step - loss: 0.5997 - accuracy: 0.8076\n",
            "Epoch 379/1000\n",
            "1/1 [==============================] - 0s 32ms/step\n",
            "\n",
            "Validation Accuracy: 37.22222222222222 %\n"
          ]
        },
        {
          "output_type": "stream",
          "name": "stderr",
          "text": [
            "WARNING:tensorflow:Can save best model only with val_loss available, skipping.\n"
          ]
        },
        {
          "output_type": "stream",
          "name": "stdout",
          "text": [
            "\b\b\b\b\b\b\b\b\b\b\b\b\b\b\b\b\b\b\b\b\b\b\b\b\b\b\b\b\b\b\b\b\b\b\b\b\b\b\b\b\b\b\b\b\b\b\b\b\b\b\b\b\b\b\b\b\b\b\b\b\b\b\b\b\b\b\b\b\b\b\b\b\b\b\b\b\b\b\b\b\r1/1 [==============================] - 0s 189ms/step - loss: 0.5915 - accuracy: 0.8056\n",
            "Epoch 380/1000\n",
            "1/1 [==============================] - 0s 54ms/step\n",
            "\n",
            "Validation Accuracy: 36.11111111111111 %\n"
          ]
        },
        {
          "output_type": "stream",
          "name": "stderr",
          "text": [
            "WARNING:tensorflow:Can save best model only with val_loss available, skipping.\n"
          ]
        },
        {
          "output_type": "stream",
          "name": "stdout",
          "text": [
            "\b\b\b\b\b\b\b\b\b\b\b\b\b\b\b\b\b\b\b\b\b\b\b\b\b\b\b\b\b\b\b\b\b\b\b\b\b\b\b\b\b\b\b\b\b\b\b\b\b\b\b\b\b\b\b\b\b\b\b\b\b\b\b\b\b\b\b\b\b\b\b\b\b\b\b\b\b\b\b\b\r1/1 [==============================] - 0s 243ms/step - loss: 0.5972 - accuracy: 0.8055\n",
            "Epoch 381/1000\n",
            "1/1 [==============================] - 0s 34ms/step\n",
            "\n",
            "Validation Accuracy: 37.22222222222222 %\n"
          ]
        },
        {
          "output_type": "stream",
          "name": "stderr",
          "text": [
            "WARNING:tensorflow:Can save best model only with val_loss available, skipping.\n"
          ]
        },
        {
          "output_type": "stream",
          "name": "stdout",
          "text": [
            "\b\b\b\b\b\b\b\b\b\b\b\b\b\b\b\b\b\b\b\b\b\b\b\b\b\b\b\b\b\b\b\b\b\b\b\b\b\b\b\b\b\b\b\b\b\b\b\b\b\b\b\b\b\b\b\b\b\b\b\b\b\b\b\b\b\b\b\b\b\b\b\b\b\b\b\b\b\b\b\b\r1/1 [==============================] - 0s 193ms/step - loss: 0.5958 - accuracy: 0.8088\n",
            "Epoch 382/1000\n",
            "1/1 [==============================] - 0s 46ms/step\n",
            "\n",
            "Validation Accuracy: 37.22222222222222 %\n"
          ]
        },
        {
          "output_type": "stream",
          "name": "stderr",
          "text": [
            "WARNING:tensorflow:Can save best model only with val_loss available, skipping.\n"
          ]
        },
        {
          "output_type": "stream",
          "name": "stdout",
          "text": [
            "\b\b\b\b\b\b\b\b\b\b\b\b\b\b\b\b\b\b\b\b\b\b\b\b\b\b\b\b\b\b\b\b\b\b\b\b\b\b\b\b\b\b\b\b\b\b\b\b\b\b\b\b\b\b\b\b\b\b\b\b\b\b\b\b\b\b\b\b\b\b\b\b\b\b\b\b\b\b\b\b\r1/1 [==============================] - 0s 205ms/step - loss: 0.5832 - accuracy: 0.8098\n",
            "Epoch 383/1000\n",
            "1/1 [==============================] - 0s 31ms/step\n",
            "\n",
            "Validation Accuracy: 36.666666666666664 %\n"
          ]
        },
        {
          "output_type": "stream",
          "name": "stderr",
          "text": [
            "WARNING:tensorflow:Can save best model only with val_loss available, skipping.\n"
          ]
        },
        {
          "output_type": "stream",
          "name": "stdout",
          "text": [
            "\b\b\b\b\b\b\b\b\b\b\b\b\b\b\b\b\b\b\b\b\b\b\b\b\b\b\b\b\b\b\b\b\b\b\b\b\b\b\b\b\b\b\b\b\b\b\b\b\b\b\b\b\b\b\b\b\b\b\b\b\b\b\b\b\b\b\b\b\b\b\b\b\b\b\b\b\b\b\b\b\r1/1 [==============================] - 0s 213ms/step - loss: 0.5914 - accuracy: 0.8059\n",
            "Epoch 384/1000\n",
            "1/1 [==============================] - 0s 31ms/step\n",
            "\n",
            "Validation Accuracy: 37.22222222222222 %\n"
          ]
        },
        {
          "output_type": "stream",
          "name": "stderr",
          "text": [
            "WARNING:tensorflow:Can save best model only with val_loss available, skipping.\n"
          ]
        },
        {
          "output_type": "stream",
          "name": "stdout",
          "text": [
            "\b\b\b\b\b\b\b\b\b\b\b\b\b\b\b\b\b\b\b\b\b\b\b\b\b\b\b\b\b\b\b\b\b\b\b\b\b\b\b\b\b\b\b\b\b\b\b\b\b\b\b\b\b\b\b\b\b\b\b\b\b\b\b\b\b\b\b\b\b\b\b\b\b\b\b\b\b\b\b\b\r1/1 [==============================] - 0s 179ms/step - loss: 0.5817 - accuracy: 0.8091\n",
            "Epoch 385/1000\n",
            "1/1 [==============================] - 0s 38ms/step\n",
            "\n",
            "Validation Accuracy: 37.22222222222222 %\n"
          ]
        },
        {
          "output_type": "stream",
          "name": "stderr",
          "text": [
            "WARNING:tensorflow:Can save best model only with val_loss available, skipping.\n"
          ]
        },
        {
          "output_type": "stream",
          "name": "stdout",
          "text": [
            "\b\b\b\b\b\b\b\b\b\b\b\b\b\b\b\b\b\b\b\b\b\b\b\b\b\b\b\b\b\b\b\b\b\b\b\b\b\b\b\b\b\b\b\b\b\b\b\b\b\b\b\b\b\b\b\b\b\b\b\b\b\b\b\b\b\b\b\b\b\b\b\b\b\b\b\b\b\b\b\b\r1/1 [==============================] - 0s 210ms/step - loss: 0.5850 - accuracy: 0.8108\n",
            "Epoch 386/1000\n",
            "1/1 [==============================] - 0s 19ms/step\n",
            "\n",
            "Validation Accuracy: 37.22222222222222 %\n"
          ]
        },
        {
          "output_type": "stream",
          "name": "stderr",
          "text": [
            "WARNING:tensorflow:Can save best model only with val_loss available, skipping.\n"
          ]
        },
        {
          "output_type": "stream",
          "name": "stdout",
          "text": [
            "\b\b\b\b\b\b\b\b\b\b\b\b\b\b\b\b\b\b\b\b\b\b\b\b\b\b\b\b\b\b\b\b\b\b\b\b\b\b\b\b\b\b\b\b\b\b\b\b\b\b\b\b\b\b\b\b\b\b\b\b\b\b\b\b\b\b\b\b\b\b\b\b\b\b\b\b\b\b\b\b\r1/1 [==============================] - 0s 145ms/step - loss: 0.5869 - accuracy: 0.8101\n",
            "Epoch 387/1000\n",
            "1/1 [==============================] - 0s 20ms/step\n",
            "\n",
            "Validation Accuracy: 36.11111111111111 %\n"
          ]
        },
        {
          "output_type": "stream",
          "name": "stderr",
          "text": [
            "WARNING:tensorflow:Can save best model only with val_loss available, skipping.\n"
          ]
        },
        {
          "output_type": "stream",
          "name": "stdout",
          "text": [
            "\b\b\b\b\b\b\b\b\b\b\b\b\b\b\b\b\b\b\b\b\b\b\b\b\b\b\b\b\b\b\b\b\b\b\b\b\b\b\b\b\b\b\b\b\b\b\b\b\b\b\b\b\b\b\b\b\b\b\b\b\b\b\b\b\b\b\b\b\b\b\b\b\b\b\b\b\b\b\b\b\r1/1 [==============================] - 0s 152ms/step - loss: 0.5810 - accuracy: 0.8105\n",
            "Epoch 388/1000\n",
            "1/1 [==============================] - 0s 21ms/step\n",
            "\n",
            "Validation Accuracy: 37.77777777777778 %\n"
          ]
        },
        {
          "output_type": "stream",
          "name": "stderr",
          "text": [
            "WARNING:tensorflow:Can save best model only with val_loss available, skipping.\n"
          ]
        },
        {
          "output_type": "stream",
          "name": "stdout",
          "text": [
            "\b\b\b\b\b\b\b\b\b\b\b\b\b\b\b\b\b\b\b\b\b\b\b\b\b\b\b\b\b\b\b\b\b\b\b\b\b\b\b\b\b\b\b\b\b\b\b\b\b\b\b\b\b\b\b\b\b\b\b\b\b\b\b\b\b\b\b\b\b\b\b\b\b\b\b\b\b\b\b\b\r1/1 [==============================] - 0s 151ms/step - loss: 0.5864 - accuracy: 0.8088\n",
            "Epoch 389/1000\n",
            "1/1 [==============================] - 0s 20ms/step\n",
            "\n",
            "Validation Accuracy: 38.333333333333336 %\n"
          ]
        },
        {
          "output_type": "stream",
          "name": "stderr",
          "text": [
            "WARNING:tensorflow:Can save best model only with val_loss available, skipping.\n"
          ]
        },
        {
          "output_type": "stream",
          "name": "stdout",
          "text": [
            "\b\b\b\b\b\b\b\b\b\b\b\b\b\b\b\b\b\b\b\b\b\b\b\b\b\b\b\b\b\b\b\b\b\b\b\b\b\b\b\b\b\b\b\b\b\b\b\b\b\b\b\b\b\b\b\b\b\b\b\b\b\b\b\b\b\b\b\b\b\b\b\b\b\b\b\b\b\b\b\b\r1/1 [==============================] - 0s 137ms/step - loss: 0.5871 - accuracy: 0.8066\n",
            "Epoch 390/1000\n",
            "1/1 [==============================] - 0s 20ms/step\n",
            "\n",
            "Validation Accuracy: 37.77777777777778 %\n"
          ]
        },
        {
          "output_type": "stream",
          "name": "stderr",
          "text": [
            "WARNING:tensorflow:Can save best model only with val_loss available, skipping.\n"
          ]
        },
        {
          "output_type": "stream",
          "name": "stdout",
          "text": [
            "\b\b\b\b\b\b\b\b\b\b\b\b\b\b\b\b\b\b\b\b\b\b\b\b\b\b\b\b\b\b\b\b\b\b\b\b\b\b\b\b\b\b\b\b\b\b\b\b\b\b\b\b\b\b\b\b\b\b\b\b\b\b\b\b\b\b\b\b\b\b\b\b\b\b\b\b\b\b\b\b\r1/1 [==============================] - 0s 127ms/step - loss: 0.5743 - accuracy: 0.8178\n",
            "Epoch 391/1000\n",
            "1/1 [==============================] - 0s 24ms/step\n",
            "\n",
            "Validation Accuracy: 37.77777777777778 %\n"
          ]
        },
        {
          "output_type": "stream",
          "name": "stderr",
          "text": [
            "WARNING:tensorflow:Can save best model only with val_loss available, skipping.\n"
          ]
        },
        {
          "output_type": "stream",
          "name": "stdout",
          "text": [
            "\b\b\b\b\b\b\b\b\b\b\b\b\b\b\b\b\b\b\b\b\b\b\b\b\b\b\b\b\b\b\b\b\b\b\b\b\b\b\b\b\b\b\b\b\b\b\b\b\b\b\b\b\b\b\b\b\b\b\b\b\b\b\b\b\b\b\b\b\b\b\b\b\b\b\b\b\b\b\b\b\r1/1 [==============================] - 0s 147ms/step - loss: 0.5814 - accuracy: 0.8091\n",
            "Epoch 392/1000\n",
            "1/1 [==============================] - 0s 22ms/step\n",
            "\n",
            "Validation Accuracy: 37.77777777777778 %\n"
          ]
        },
        {
          "output_type": "stream",
          "name": "stderr",
          "text": [
            "WARNING:tensorflow:Can save best model only with val_loss available, skipping.\n"
          ]
        },
        {
          "output_type": "stream",
          "name": "stdout",
          "text": [
            "\b\b\b\b\b\b\b\b\b\b\b\b\b\b\b\b\b\b\b\b\b\b\b\b\b\b\b\b\b\b\b\b\b\b\b\b\b\b\b\b\b\b\b\b\b\b\b\b\b\b\b\b\b\b\b\b\b\b\b\b\b\b\b\b\b\b\b\b\b\b\b\b\b\b\b\b\b\b\b\b\r1/1 [==============================] - 0s 145ms/step - loss: 0.5827 - accuracy: 0.8125\n",
            "Epoch 393/1000\n",
            "1/1 [==============================] - 0s 24ms/step\n",
            "\n",
            "Validation Accuracy: 37.77777777777778 %\n"
          ]
        },
        {
          "output_type": "stream",
          "name": "stderr",
          "text": [
            "WARNING:tensorflow:Can save best model only with val_loss available, skipping.\n"
          ]
        },
        {
          "output_type": "stream",
          "name": "stdout",
          "text": [
            "\b\b\b\b\b\b\b\b\b\b\b\b\b\b\b\b\b\b\b\b\b\b\b\b\b\b\b\b\b\b\b\b\b\b\b\b\b\b\b\b\b\b\b\b\b\b\b\b\b\b\b\b\b\b\b\b\b\b\b\b\b\b\b\b\b\b\b\b\b\b\b\b\b\b\b\b\b\b\b\b\r1/1 [==============================] - 0s 138ms/step - loss: 0.5763 - accuracy: 0.8134\n",
            "Epoch 394/1000\n",
            "1/1 [==============================] - 0s 20ms/step\n",
            "\n",
            "Validation Accuracy: 37.77777777777778 %\n"
          ]
        },
        {
          "output_type": "stream",
          "name": "stderr",
          "text": [
            "WARNING:tensorflow:Can save best model only with val_loss available, skipping.\n"
          ]
        },
        {
          "output_type": "stream",
          "name": "stdout",
          "text": [
            "\b\b\b\b\b\b\b\b\b\b\b\b\b\b\b\b\b\b\b\b\b\b\b\b\b\b\b\b\b\b\b\b\b\b\b\b\b\b\b\b\b\b\b\b\b\b\b\b\b\b\b\b\b\b\b\b\b\b\b\b\b\b\b\b\b\b\b\b\b\b\b\b\b\b\b\b\b\b\b\b\r1/1 [==============================] - 0s 137ms/step - loss: 0.5824 - accuracy: 0.8106\n",
            "Epoch 395/1000\n",
            "1/1 [==============================] - 0s 32ms/step\n",
            "\n",
            "Validation Accuracy: 37.77777777777778 %\n"
          ]
        },
        {
          "output_type": "stream",
          "name": "stderr",
          "text": [
            "WARNING:tensorflow:Can save best model only with val_loss available, skipping.\n"
          ]
        },
        {
          "output_type": "stream",
          "name": "stdout",
          "text": [
            "\b\b\b\b\b\b\b\b\b\b\b\b\b\b\b\b\b\b\b\b\b\b\b\b\b\b\b\b\b\b\b\b\b\b\b\b\b\b\b\b\b\b\b\b\b\b\b\b\b\b\b\b\b\b\b\b\b\b\b\b\b\b\b\b\b\b\b\b\b\b\b\b\b\b\b\b\b\b\b\b\r1/1 [==============================] - 0s 168ms/step - loss: 0.5680 - accuracy: 0.8174\n",
            "Epoch 396/1000\n",
            "1/1 [==============================] - 0s 19ms/step\n",
            "\n",
            "Validation Accuracy: 37.77777777777778 %\n"
          ]
        },
        {
          "output_type": "stream",
          "name": "stderr",
          "text": [
            "WARNING:tensorflow:Can save best model only with val_loss available, skipping.\n"
          ]
        },
        {
          "output_type": "stream",
          "name": "stdout",
          "text": [
            "\b\b\b\b\b\b\b\b\b\b\b\b\b\b\b\b\b\b\b\b\b\b\b\b\b\b\b\b\b\b\b\b\b\b\b\b\b\b\b\b\b\b\b\b\b\b\b\b\b\b\b\b\b\b\b\b\b\b\b\b\b\b\b\b\b\b\b\b\b\b\b\b\b\b\b\b\b\b\b\b\r1/1 [==============================] - 0s 137ms/step - loss: 0.5814 - accuracy: 0.8094\n",
            "Epoch 397/1000\n",
            "1/1 [==============================] - 0s 23ms/step\n",
            "\n",
            "Validation Accuracy: 37.22222222222222 %\n"
          ]
        },
        {
          "output_type": "stream",
          "name": "stderr",
          "text": [
            "WARNING:tensorflow:Can save best model only with val_loss available, skipping.\n"
          ]
        },
        {
          "output_type": "stream",
          "name": "stdout",
          "text": [
            "\b\b\b\b\b\b\b\b\b\b\b\b\b\b\b\b\b\b\b\b\b\b\b\b\b\b\b\b\b\b\b\b\b\b\b\b\b\b\b\b\b\b\b\b\b\b\b\b\b\b\b\b\b\b\b\b\b\b\b\b\b\b\b\b\b\b\b\b\b\b\b\b\b\b\b\b\b\b\b\b\r1/1 [==============================] - 0s 156ms/step - loss: 0.5820 - accuracy: 0.8115\n",
            "Epoch 398/1000\n",
            "1/1 [==============================] - 0s 20ms/step\n",
            "\n",
            "Validation Accuracy: 37.77777777777778 %\n"
          ]
        },
        {
          "output_type": "stream",
          "name": "stderr",
          "text": [
            "WARNING:tensorflow:Can save best model only with val_loss available, skipping.\n"
          ]
        },
        {
          "output_type": "stream",
          "name": "stdout",
          "text": [
            "\b\b\b\b\b\b\b\b\b\b\b\b\b\b\b\b\b\b\b\b\b\b\b\b\b\b\b\b\b\b\b\b\b\b\b\b\b\b\b\b\b\b\b\b\b\b\b\b\b\b\b\b\b\b\b\b\b\b\b\b\b\b\b\b\b\b\b\b\b\b\b\b\b\b\b\b\b\b\b\b\r1/1 [==============================] - 0s 145ms/step - loss: 0.5699 - accuracy: 0.8153\n",
            "Epoch 399/1000\n",
            "1/1 [==============================] - 0s 21ms/step\n",
            "\n",
            "Validation Accuracy: 38.333333333333336 %\n"
          ]
        },
        {
          "output_type": "stream",
          "name": "stderr",
          "text": [
            "WARNING:tensorflow:Can save best model only with val_loss available, skipping.\n"
          ]
        },
        {
          "output_type": "stream",
          "name": "stdout",
          "text": [
            "\b\b\b\b\b\b\b\b\b\b\b\b\b\b\b\b\b\b\b\b\b\b\b\b\b\b\b\b\b\b\b\b\b\b\b\b\b\b\b\b\b\b\b\b\b\b\b\b\b\b\b\b\b\b\b\b\b\b\b\b\b\b\b\b\b\b\b\b\b\b\b\b\b\b\b\b\b\b\b\b\r1/1 [==============================] - 0s 145ms/step - loss: 0.5728 - accuracy: 0.8160\n",
            "Epoch 400/1000\n",
            "1/1 [==============================] - 0s 20ms/step\n",
            "\n",
            "Validation Accuracy: 38.333333333333336 %\n"
          ]
        },
        {
          "output_type": "stream",
          "name": "stderr",
          "text": [
            "WARNING:tensorflow:Can save best model only with val_loss available, skipping.\n"
          ]
        },
        {
          "output_type": "stream",
          "name": "stdout",
          "text": [
            "\b\b\b\b\b\b\b\b\b\b\b\b\b\b\b\b\b\b\b\b\b\b\b\b\b\b\b\b\b\b\b\b\b\b\b\b\b\b\b\b\b\b\b\b\b\b\b\b\b\b\b\b\b\b\b\b\b\b\b\b\b\b\b\b\b\b\b\b\b\b\b\b\b\b\b\b\b\b\b\b\r1/1 [==============================] - 0s 145ms/step - loss: 0.5631 - accuracy: 0.8210\n",
            "Epoch 401/1000\n",
            "1/1 [==============================] - 0s 22ms/step\n",
            "\n",
            "Validation Accuracy: 37.77777777777778 %\n"
          ]
        },
        {
          "output_type": "stream",
          "name": "stderr",
          "text": [
            "WARNING:tensorflow:Can save best model only with val_loss available, skipping.\n"
          ]
        },
        {
          "output_type": "stream",
          "name": "stdout",
          "text": [
            "\b\b\b\b\b\b\b\b\b\b\b\b\b\b\b\b\b\b\b\b\b\b\b\b\b\b\b\b\b\b\b\b\b\b\b\b\b\b\b\b\b\b\b\b\b\b\b\b\b\b\b\b\b\b\b\b\b\b\b\b\b\b\b\b\b\b\b\b\b\b\b\b\b\b\b\b\b\b\b\b\r1/1 [==============================] - 0s 144ms/step - loss: 0.5639 - accuracy: 0.8165\n",
            "Epoch 402/1000\n",
            "1/1 [==============================] - 0s 21ms/step\n",
            "\n",
            "Validation Accuracy: 38.333333333333336 %\n"
          ]
        },
        {
          "output_type": "stream",
          "name": "stderr",
          "text": [
            "WARNING:tensorflow:Can save best model only with val_loss available, skipping.\n"
          ]
        },
        {
          "output_type": "stream",
          "name": "stdout",
          "text": [
            "\b\b\b\b\b\b\b\b\b\b\b\b\b\b\b\b\b\b\b\b\b\b\b\b\b\b\b\b\b\b\b\b\b\b\b\b\b\b\b\b\b\b\b\b\b\b\b\b\b\b\b\b\b\b\b\b\b\b\b\b\b\b\b\b\b\b\b\b\b\b\b\b\b\b\b\b\b\b\b\b\r1/1 [==============================] - 0s 153ms/step - loss: 0.5668 - accuracy: 0.8160\n",
            "Epoch 403/1000\n",
            "1/1 [==============================] - 0s 23ms/step\n",
            "\n",
            "Validation Accuracy: 38.333333333333336 %\n"
          ]
        },
        {
          "output_type": "stream",
          "name": "stderr",
          "text": [
            "WARNING:tensorflow:Can save best model only with val_loss available, skipping.\n"
          ]
        },
        {
          "output_type": "stream",
          "name": "stdout",
          "text": [
            "\b\b\b\b\b\b\b\b\b\b\b\b\b\b\b\b\b\b\b\b\b\b\b\b\b\b\b\b\b\b\b\b\b\b\b\b\b\b\b\b\b\b\b\b\b\b\b\b\b\b\b\b\b\b\b\b\b\b\b\b\b\b\b\b\b\b\b\b\b\b\b\b\b\b\b\b\b\b\b\b\r1/1 [==============================] - 0s 153ms/step - loss: 0.5641 - accuracy: 0.8210\n",
            "Epoch 404/1000\n",
            "1/1 [==============================] - 0s 26ms/step\n",
            "\n",
            "Validation Accuracy: 37.77777777777778 %\n"
          ]
        },
        {
          "output_type": "stream",
          "name": "stderr",
          "text": [
            "WARNING:tensorflow:Can save best model only with val_loss available, skipping.\n"
          ]
        },
        {
          "output_type": "stream",
          "name": "stdout",
          "text": [
            "\b\b\b\b\b\b\b\b\b\b\b\b\b\b\b\b\b\b\b\b\b\b\b\b\b\b\b\b\b\b\b\b\b\b\b\b\b\b\b\b\b\b\b\b\b\b\b\b\b\b\b\b\b\b\b\b\b\b\b\b\b\b\b\b\b\b\b\b\b\b\b\b\b\b\b\b\b\b\b\b\r1/1 [==============================] - 0s 142ms/step - loss: 0.5758 - accuracy: 0.8144\n",
            "Epoch 405/1000\n",
            "1/1 [==============================] - 0s 22ms/step\n",
            "\n",
            "Validation Accuracy: 36.666666666666664 %\n"
          ]
        },
        {
          "output_type": "stream",
          "name": "stderr",
          "text": [
            "WARNING:tensorflow:Can save best model only with val_loss available, skipping.\n"
          ]
        },
        {
          "output_type": "stream",
          "name": "stdout",
          "text": [
            "\b\b\b\b\b\b\b\b\b\b\b\b\b\b\b\b\b\b\b\b\b\b\b\b\b\b\b\b\b\b\b\b\b\b\b\b\b\b\b\b\b\b\b\b\b\b\b\b\b\b\b\b\b\b\b\b\b\b\b\b\b\b\b\b\b\b\b\b\b\b\b\b\b\b\b\b\b\b\b\b\r1/1 [==============================] - 0s 144ms/step - loss: 0.5720 - accuracy: 0.8120\n",
            "Epoch 406/1000\n",
            "1/1 [==============================] - 0s 20ms/step\n",
            "\n",
            "Validation Accuracy: 37.77777777777778 %\n"
          ]
        },
        {
          "output_type": "stream",
          "name": "stderr",
          "text": [
            "WARNING:tensorflow:Can save best model only with val_loss available, skipping.\n"
          ]
        },
        {
          "output_type": "stream",
          "name": "stdout",
          "text": [
            "\b\b\b\b\b\b\b\b\b\b\b\b\b\b\b\b\b\b\b\b\b\b\b\b\b\b\b\b\b\b\b\b\b\b\b\b\b\b\b\b\b\b\b\b\b\b\b\b\b\b\b\b\b\b\b\b\b\b\b\b\b\b\b\b\b\b\b\b\b\b\b\b\b\b\b\b\b\b\b\b\r1/1 [==============================] - 0s 151ms/step - loss: 0.5650 - accuracy: 0.8188\n",
            "Epoch 407/1000\n",
            "1/1 [==============================] - 0s 21ms/step\n",
            "\n",
            "Validation Accuracy: 36.666666666666664 %\n"
          ]
        },
        {
          "output_type": "stream",
          "name": "stderr",
          "text": [
            "WARNING:tensorflow:Can save best model only with val_loss available, skipping.\n"
          ]
        },
        {
          "output_type": "stream",
          "name": "stdout",
          "text": [
            "\b\b\b\b\b\b\b\b\b\b\b\b\b\b\b\b\b\b\b\b\b\b\b\b\b\b\b\b\b\b\b\b\b\b\b\b\b\b\b\b\b\b\b\b\b\b\b\b\b\b\b\b\b\b\b\b\b\b\b\b\b\b\b\b\b\b\b\b\b\b\b\b\b\b\b\b\b\b\b\b\r1/1 [==============================] - 0s 139ms/step - loss: 0.5751 - accuracy: 0.8116\n",
            "Epoch 408/1000\n",
            "1/1 [==============================] - 0s 22ms/step\n",
            "\n",
            "Validation Accuracy: 36.11111111111111 %\n"
          ]
        },
        {
          "output_type": "stream",
          "name": "stderr",
          "text": [
            "WARNING:tensorflow:Can save best model only with val_loss available, skipping.\n"
          ]
        },
        {
          "output_type": "stream",
          "name": "stdout",
          "text": [
            "\b\b\b\b\b\b\b\b\b\b\b\b\b\b\b\b\b\b\b\b\b\b\b\b\b\b\b\b\b\b\b\b\b\b\b\b\b\b\b\b\b\b\b\b\b\b\b\b\b\b\b\b\b\b\b\b\b\b\b\b\b\b\b\b\b\b\b\b\b\b\b\b\b\b\b\b\b\b\b\b\r1/1 [==============================] - 0s 141ms/step - loss: 0.5714 - accuracy: 0.8158\n",
            "Epoch 409/1000\n",
            "1/1 [==============================] - 0s 22ms/step\n",
            "\n",
            "Validation Accuracy: 36.11111111111111 %\n"
          ]
        },
        {
          "output_type": "stream",
          "name": "stderr",
          "text": [
            "WARNING:tensorflow:Can save best model only with val_loss available, skipping.\n"
          ]
        },
        {
          "output_type": "stream",
          "name": "stdout",
          "text": [
            "\b\b\b\b\b\b\b\b\b\b\b\b\b\b\b\b\b\b\b\b\b\b\b\b\b\b\b\b\b\b\b\b\b\b\b\b\b\b\b\b\b\b\b\b\b\b\b\b\b\b\b\b\b\b\b\b\b\b\b\b\b\b\b\b\b\b\b\b\b\b\b\b\b\b\b\b\b\b\b\b\r1/1 [==============================] - 0s 141ms/step - loss: 0.5663 - accuracy: 0.8151\n",
            "Epoch 410/1000\n",
            "1/1 [==============================] - 0s 23ms/step\n",
            "\n",
            "Validation Accuracy: 36.666666666666664 %\n"
          ]
        },
        {
          "output_type": "stream",
          "name": "stderr",
          "text": [
            "WARNING:tensorflow:Can save best model only with val_loss available, skipping.\n"
          ]
        },
        {
          "output_type": "stream",
          "name": "stdout",
          "text": [
            "\b\b\b\b\b\b\b\b\b\b\b\b\b\b\b\b\b\b\b\b\b\b\b\b\b\b\b\b\b\b\b\b\b\b\b\b\b\b\b\b\b\b\b\b\b\b\b\b\b\b\b\b\b\b\b\b\b\b\b\b\b\b\b\b\b\b\b\b\b\b\b\b\b\b\b\b\b\b\b\b\r1/1 [==============================] - 0s 139ms/step - loss: 0.5629 - accuracy: 0.8182\n",
            "Epoch 411/1000\n",
            "1/1 [==============================] - 0s 21ms/step\n",
            "\n",
            "Validation Accuracy: 36.666666666666664 %\n"
          ]
        },
        {
          "output_type": "stream",
          "name": "stderr",
          "text": [
            "WARNING:tensorflow:Can save best model only with val_loss available, skipping.\n"
          ]
        },
        {
          "output_type": "stream",
          "name": "stdout",
          "text": [
            "\b\b\b\b\b\b\b\b\b\b\b\b\b\b\b\b\b\b\b\b\b\b\b\b\b\b\b\b\b\b\b\b\b\b\b\b\b\b\b\b\b\b\b\b\b\b\b\b\b\b\b\b\b\b\b\b\b\b\b\b\b\b\b\b\b\b\b\b\b\b\b\b\b\b\b\b\b\b\b\b\r1/1 [==============================] - 0s 135ms/step - loss: 0.5620 - accuracy: 0.8204\n",
            "Epoch 412/1000\n",
            "1/1 [==============================] - 0s 23ms/step\n",
            "\n",
            "Validation Accuracy: 36.666666666666664 %\n"
          ]
        },
        {
          "output_type": "stream",
          "name": "stderr",
          "text": [
            "WARNING:tensorflow:Can save best model only with val_loss available, skipping.\n"
          ]
        },
        {
          "output_type": "stream",
          "name": "stdout",
          "text": [
            "\b\b\b\b\b\b\b\b\b\b\b\b\b\b\b\b\b\b\b\b\b\b\b\b\b\b\b\b\b\b\b\b\b\b\b\b\b\b\b\b\b\b\b\b\b\b\b\b\b\b\b\b\b\b\b\b\b\b\b\b\b\b\b\b\b\b\b\b\b\b\b\b\b\b\b\b\b\b\b\b\r1/1 [==============================] - 0s 138ms/step - loss: 0.5595 - accuracy: 0.8202\n",
            "Epoch 413/1000\n",
            "1/1 [==============================] - 0s 20ms/step\n",
            "\n",
            "Validation Accuracy: 36.11111111111111 %\n"
          ]
        },
        {
          "output_type": "stream",
          "name": "stderr",
          "text": [
            "WARNING:tensorflow:Can save best model only with val_loss available, skipping.\n"
          ]
        },
        {
          "output_type": "stream",
          "name": "stdout",
          "text": [
            "\b\b\b\b\b\b\b\b\b\b\b\b\b\b\b\b\b\b\b\b\b\b\b\b\b\b\b\b\b\b\b\b\b\b\b\b\b\b\b\b\b\b\b\b\b\b\b\b\b\b\b\b\b\b\b\b\b\b\b\b\b\b\b\b\b\b\b\b\b\b\b\b\b\b\b\b\b\b\b\b\r1/1 [==============================] - 0s 132ms/step - loss: 0.5618 - accuracy: 0.8162\n",
            "Epoch 414/1000\n",
            "1/1 [==============================] - 0s 21ms/step\n",
            "\n",
            "Validation Accuracy: 36.11111111111111 %\n"
          ]
        },
        {
          "output_type": "stream",
          "name": "stderr",
          "text": [
            "WARNING:tensorflow:Can save best model only with val_loss available, skipping.\n"
          ]
        },
        {
          "output_type": "stream",
          "name": "stdout",
          "text": [
            "\b\b\b\b\b\b\b\b\b\b\b\b\b\b\b\b\b\b\b\b\b\b\b\b\b\b\b\b\b\b\b\b\b\b\b\b\b\b\b\b\b\b\b\b\b\b\b\b\b\b\b\b\b\b\b\b\b\b\b\b\b\b\b\b\b\b\b\b\b\b\b\b\b\b\b\b\b\b\b\b\r1/1 [==============================] - 0s 166ms/step - loss: 0.5605 - accuracy: 0.8119\n",
            "Epoch 415/1000\n",
            "1/1 [==============================] - 0s 21ms/step\n",
            "\n",
            "Validation Accuracy: 36.666666666666664 %\n"
          ]
        },
        {
          "output_type": "stream",
          "name": "stderr",
          "text": [
            "WARNING:tensorflow:Can save best model only with val_loss available, skipping.\n"
          ]
        },
        {
          "output_type": "stream",
          "name": "stdout",
          "text": [
            "\b\b\b\b\b\b\b\b\b\b\b\b\b\b\b\b\b\b\b\b\b\b\b\b\b\b\b\b\b\b\b\b\b\b\b\b\b\b\b\b\b\b\b\b\b\b\b\b\b\b\b\b\b\b\b\b\b\b\b\b\b\b\b\b\b\b\b\b\b\b\b\b\b\b\b\b\b\b\b\b\r1/1 [==============================] - 0s 154ms/step - loss: 0.5652 - accuracy: 0.8146\n",
            "Epoch 416/1000\n",
            "1/1 [==============================] - 0s 21ms/step\n",
            "\n",
            "Validation Accuracy: 36.666666666666664 %\n"
          ]
        },
        {
          "output_type": "stream",
          "name": "stderr",
          "text": [
            "WARNING:tensorflow:Can save best model only with val_loss available, skipping.\n"
          ]
        },
        {
          "output_type": "stream",
          "name": "stdout",
          "text": [
            "\b\b\b\b\b\b\b\b\b\b\b\b\b\b\b\b\b\b\b\b\b\b\b\b\b\b\b\b\b\b\b\b\b\b\b\b\b\b\b\b\b\b\b\b\b\b\b\b\b\b\b\b\b\b\b\b\b\b\b\b\b\b\b\b\b\b\b\b\b\b\b\b\b\b\b\b\b\b\b\b\r1/1 [==============================] - 0s 145ms/step - loss: 0.5651 - accuracy: 0.8169\n",
            "Epoch 417/1000\n",
            "1/1 [==============================] - 0s 20ms/step\n",
            "\n",
            "Validation Accuracy: 37.77777777777778 %\n"
          ]
        },
        {
          "output_type": "stream",
          "name": "stderr",
          "text": [
            "WARNING:tensorflow:Can save best model only with val_loss available, skipping.\n"
          ]
        },
        {
          "output_type": "stream",
          "name": "stdout",
          "text": [
            "\b\b\b\b\b\b\b\b\b\b\b\b\b\b\b\b\b\b\b\b\b\b\b\b\b\b\b\b\b\b\b\b\b\b\b\b\b\b\b\b\b\b\b\b\b\b\b\b\b\b\b\b\b\b\b\b\b\b\b\b\b\b\b\b\b\b\b\b\b\b\b\b\b\b\b\b\b\b\b\b\r1/1 [==============================] - 0s 135ms/step - loss: 0.5625 - accuracy: 0.8207\n",
            "Epoch 418/1000\n",
            "1/1 [==============================] - 0s 26ms/step\n",
            "\n",
            "Validation Accuracy: 37.22222222222222 %\n"
          ]
        },
        {
          "output_type": "stream",
          "name": "stderr",
          "text": [
            "WARNING:tensorflow:Can save best model only with val_loss available, skipping.\n"
          ]
        },
        {
          "output_type": "stream",
          "name": "stdout",
          "text": [
            "\b\b\b\b\b\b\b\b\b\b\b\b\b\b\b\b\b\b\b\b\b\b\b\b\b\b\b\b\b\b\b\b\b\b\b\b\b\b\b\b\b\b\b\b\b\b\b\b\b\b\b\b\b\b\b\b\b\b\b\b\b\b\b\b\b\b\b\b\b\b\b\b\b\b\b\b\b\b\b\b\r1/1 [==============================] - 0s 148ms/step - loss: 0.5547 - accuracy: 0.8235\n",
            "Epoch 419/1000\n",
            "1/1 [==============================] - 0s 23ms/step\n",
            "\n",
            "Validation Accuracy: 36.666666666666664 %\n"
          ]
        },
        {
          "output_type": "stream",
          "name": "stderr",
          "text": [
            "WARNING:tensorflow:Can save best model only with val_loss available, skipping.\n"
          ]
        },
        {
          "output_type": "stream",
          "name": "stdout",
          "text": [
            "\b\b\b\b\b\b\b\b\b\b\b\b\b\b\b\b\b\b\b\b\b\b\b\b\b\b\b\b\b\b\b\b\b\b\b\b\b\b\b\b\b\b\b\b\b\b\b\b\b\b\b\b\b\b\b\b\b\b\b\b\b\b\b\b\b\b\b\b\b\b\b\b\b\b\b\b\b\b\b\b\r1/1 [==============================] - 0s 155ms/step - loss: 0.5674 - accuracy: 0.8157\n",
            "Epoch 420/1000\n",
            "1/1 [==============================] - 0s 20ms/step\n",
            "\n",
            "Validation Accuracy: 37.22222222222222 %\n"
          ]
        },
        {
          "output_type": "stream",
          "name": "stderr",
          "text": [
            "WARNING:tensorflow:Can save best model only with val_loss available, skipping.\n"
          ]
        },
        {
          "output_type": "stream",
          "name": "stdout",
          "text": [
            "\b\b\b\b\b\b\b\b\b\b\b\b\b\b\b\b\b\b\b\b\b\b\b\b\b\b\b\b\b\b\b\b\b\b\b\b\b\b\b\b\b\b\b\b\b\b\b\b\b\b\b\b\b\b\b\b\b\b\b\b\b\b\b\b\b\b\b\b\b\b\b\b\b\b\b\b\b\b\b\b\r1/1 [==============================] - 0s 138ms/step - loss: 0.5568 - accuracy: 0.8182\n",
            "Epoch 421/1000\n",
            "1/1 [==============================] - 0s 20ms/step\n",
            "\n",
            "Validation Accuracy: 36.11111111111111 %\n"
          ]
        },
        {
          "output_type": "stream",
          "name": "stderr",
          "text": [
            "WARNING:tensorflow:Can save best model only with val_loss available, skipping.\n"
          ]
        },
        {
          "output_type": "stream",
          "name": "stdout",
          "text": [
            "\b\b\b\b\b\b\b\b\b\b\b\b\b\b\b\b\b\b\b\b\b\b\b\b\b\b\b\b\b\b\b\b\b\b\b\b\b\b\b\b\b\b\b\b\b\b\b\b\b\b\b\b\b\b\b\b\b\b\b\b\b\b\b\b\b\b\b\b\b\b\b\b\b\b\b\b\b\b\b\b\r1/1 [==============================] - 0s 159ms/step - loss: 0.5582 - accuracy: 0.8196\n",
            "Epoch 422/1000\n",
            "1/1 [==============================] - 0s 20ms/step\n",
            "\n",
            "Validation Accuracy: 36.11111111111111 %\n"
          ]
        },
        {
          "output_type": "stream",
          "name": "stderr",
          "text": [
            "WARNING:tensorflow:Can save best model only with val_loss available, skipping.\n"
          ]
        },
        {
          "output_type": "stream",
          "name": "stdout",
          "text": [
            "\b\b\b\b\b\b\b\b\b\b\b\b\b\b\b\b\b\b\b\b\b\b\b\b\b\b\b\b\b\b\b\b\b\b\b\b\b\b\b\b\b\b\b\b\b\b\b\b\b\b\b\b\b\b\b\b\b\b\b\b\b\b\b\b\b\b\b\b\b\b\b\b\b\b\b\b\b\b\b\b\r1/1 [==============================] - 0s 135ms/step - loss: 0.5624 - accuracy: 0.8171\n",
            "Epoch 423/1000\n",
            "1/1 [==============================] - 0s 20ms/step\n",
            "\n",
            "Validation Accuracy: 36.666666666666664 %\n"
          ]
        },
        {
          "output_type": "stream",
          "name": "stderr",
          "text": [
            "WARNING:tensorflow:Can save best model only with val_loss available, skipping.\n"
          ]
        },
        {
          "output_type": "stream",
          "name": "stdout",
          "text": [
            "\b\b\b\b\b\b\b\b\b\b\b\b\b\b\b\b\b\b\b\b\b\b\b\b\b\b\b\b\b\b\b\b\b\b\b\b\b\b\b\b\b\b\b\b\b\b\b\b\b\b\b\b\b\b\b\b\b\b\b\b\b\b\b\b\b\b\b\b\b\b\b\b\b\b\b\b\b\b\b\b\r1/1 [==============================] - 0s 175ms/step - loss: 0.5527 - accuracy: 0.8193\n",
            "Epoch 424/1000\n",
            "1/1 [==============================] - 0s 29ms/step\n",
            "\n",
            "Validation Accuracy: 36.666666666666664 %\n"
          ]
        },
        {
          "output_type": "stream",
          "name": "stderr",
          "text": [
            "WARNING:tensorflow:Can save best model only with val_loss available, skipping.\n"
          ]
        },
        {
          "output_type": "stream",
          "name": "stdout",
          "text": [
            "\b\b\b\b\b\b\b\b\b\b\b\b\b\b\b\b\b\b\b\b\b\b\b\b\b\b\b\b\b\b\b\b\b\b\b\b\b\b\b\b\b\b\b\b\b\b\b\b\b\b\b\b\b\b\b\b\b\b\b\b\b\b\b\b\b\b\b\b\b\b\b\b\b\b\b\b\b\b\b\b\r1/1 [==============================] - 0s 146ms/step - loss: 0.5638 - accuracy: 0.8140\n",
            "Epoch 425/1000\n",
            "1/1 [==============================] - 0s 23ms/step\n",
            "\n",
            "Validation Accuracy: 37.22222222222222 %\n"
          ]
        },
        {
          "output_type": "stream",
          "name": "stderr",
          "text": [
            "WARNING:tensorflow:Can save best model only with val_loss available, skipping.\n"
          ]
        },
        {
          "output_type": "stream",
          "name": "stdout",
          "text": [
            "\b\b\b\b\b\b\b\b\b\b\b\b\b\b\b\b\b\b\b\b\b\b\b\b\b\b\b\b\b\b\b\b\b\b\b\b\b\b\b\b\b\b\b\b\b\b\b\b\b\b\b\b\b\b\b\b\b\b\b\b\b\b\b\b\b\b\b\b\b\b\b\b\b\b\b\b\b\b\b\b\r1/1 [==============================] - 0s 148ms/step - loss: 0.5614 - accuracy: 0.8172\n",
            "Epoch 426/1000\n",
            "1/1 [==============================] - 0s 22ms/step\n",
            "\n",
            "Validation Accuracy: 36.666666666666664 %\n"
          ]
        },
        {
          "output_type": "stream",
          "name": "stderr",
          "text": [
            "WARNING:tensorflow:Can save best model only with val_loss available, skipping.\n"
          ]
        },
        {
          "output_type": "stream",
          "name": "stdout",
          "text": [
            "\b\b\b\b\b\b\b\b\b\b\b\b\b\b\b\b\b\b\b\b\b\b\b\b\b\b\b\b\b\b\b\b\b\b\b\b\b\b\b\b\b\b\b\b\b\b\b\b\b\b\b\b\b\b\b\b\b\b\b\b\b\b\b\b\b\b\b\b\b\b\b\b\b\b\b\b\b\b\b\b\r1/1 [==============================] - 0s 131ms/step - loss: 0.5554 - accuracy: 0.8143\n",
            "Epoch 427/1000\n",
            "1/1 [==============================] - 0s 19ms/step\n",
            "\n",
            "Validation Accuracy: 37.77777777777778 %\n"
          ]
        },
        {
          "output_type": "stream",
          "name": "stderr",
          "text": [
            "WARNING:tensorflow:Can save best model only with val_loss available, skipping.\n"
          ]
        },
        {
          "output_type": "stream",
          "name": "stdout",
          "text": [
            "\b\b\b\b\b\b\b\b\b\b\b\b\b\b\b\b\b\b\b\b\b\b\b\b\b\b\b\b\b\b\b\b\b\b\b\b\b\b\b\b\b\b\b\b\b\b\b\b\b\b\b\b\b\b\b\b\b\b\b\b\b\b\b\b\b\b\b\b\b\b\b\b\b\b\b\b\b\b\b\b\r1/1 [==============================] - 0s 141ms/step - loss: 0.5557 - accuracy: 0.8171\n",
            "Epoch 428/1000\n",
            "1/1 [==============================] - 0s 21ms/step\n",
            "\n",
            "Validation Accuracy: 38.333333333333336 %\n"
          ]
        },
        {
          "output_type": "stream",
          "name": "stderr",
          "text": [
            "WARNING:tensorflow:Can save best model only with val_loss available, skipping.\n"
          ]
        },
        {
          "output_type": "stream",
          "name": "stdout",
          "text": [
            "\b\b\b\b\b\b\b\b\b\b\b\b\b\b\b\b\b\b\b\b\b\b\b\b\b\b\b\b\b\b\b\b\b\b\b\b\b\b\b\b\b\b\b\b\b\b\b\b\b\b\b\b\b\b\b\b\b\b\b\b\b\b\b\b\b\b\b\b\b\b\b\b\b\b\b\b\b\b\b\b\r1/1 [==============================] - 0s 137ms/step - loss: 0.5510 - accuracy: 0.8232\n",
            "Epoch 429/1000\n",
            "1/1 [==============================] - 0s 22ms/step\n",
            "\n",
            "Validation Accuracy: 36.666666666666664 %\n"
          ]
        },
        {
          "output_type": "stream",
          "name": "stderr",
          "text": [
            "WARNING:tensorflow:Can save best model only with val_loss available, skipping.\n"
          ]
        },
        {
          "output_type": "stream",
          "name": "stdout",
          "text": [
            "\b\b\b\b\b\b\b\b\b\b\b\b\b\b\b\b\b\b\b\b\b\b\b\b\b\b\b\b\b\b\b\b\b\b\b\b\b\b\b\b\b\b\b\b\b\b\b\b\b\b\b\b\b\b\b\b\b\b\b\b\b\b\b\b\b\b\b\b\b\b\b\b\b\b\b\b\b\b\b\b\r1/1 [==============================] - 0s 143ms/step - loss: 0.5498 - accuracy: 0.8174\n",
            "Epoch 430/1000\n",
            "1/1 [==============================] - 0s 28ms/step\n",
            "\n",
            "Validation Accuracy: 38.333333333333336 %\n"
          ]
        },
        {
          "output_type": "stream",
          "name": "stderr",
          "text": [
            "WARNING:tensorflow:Can save best model only with val_loss available, skipping.\n"
          ]
        },
        {
          "output_type": "stream",
          "name": "stdout",
          "text": [
            "\b\b\b\b\b\b\b\b\b\b\b\b\b\b\b\b\b\b\b\b\b\b\b\b\b\b\b\b\b\b\b\b\b\b\b\b\b\b\b\b\b\b\b\b\b\b\b\b\b\b\b\b\b\b\b\b\b\b\b\b\b\b\b\b\b\b\b\b\b\b\b\b\b\b\b\b\b\b\b\b\r1/1 [==============================] - 0s 150ms/step - loss: 0.5636 - accuracy: 0.8175\n",
            "Epoch 431/1000\n",
            "1/1 [==============================] - 0s 26ms/step\n",
            "\n",
            "Validation Accuracy: 37.22222222222222 %\n"
          ]
        },
        {
          "output_type": "stream",
          "name": "stderr",
          "text": [
            "WARNING:tensorflow:Can save best model only with val_loss available, skipping.\n"
          ]
        },
        {
          "output_type": "stream",
          "name": "stdout",
          "text": [
            "\b\b\b\b\b\b\b\b\b\b\b\b\b\b\b\b\b\b\b\b\b\b\b\b\b\b\b\b\b\b\b\b\b\b\b\b\b\b\b\b\b\b\b\b\b\b\b\b\b\b\b\b\b\b\b\b\b\b\b\b\b\b\b\b\b\b\b\b\b\b\b\b\b\b\b\b\b\b\b\b\r1/1 [==============================] - 0s 144ms/step - loss: 0.5509 - accuracy: 0.8179\n",
            "Epoch 432/1000\n",
            "1/1 [==============================] - 0s 20ms/step\n",
            "\n",
            "Validation Accuracy: 37.22222222222222 %\n"
          ]
        },
        {
          "output_type": "stream",
          "name": "stderr",
          "text": [
            "WARNING:tensorflow:Can save best model only with val_loss available, skipping.\n"
          ]
        },
        {
          "output_type": "stream",
          "name": "stdout",
          "text": [
            "\b\b\b\b\b\b\b\b\b\b\b\b\b\b\b\b\b\b\b\b\b\b\b\b\b\b\b\b\b\b\b\b\b\b\b\b\b\b\b\b\b\b\b\b\b\b\b\b\b\b\b\b\b\b\b\b\b\b\b\b\b\b\b\b\b\b\b\b\b\b\b\b\b\b\b\b\b\b\b\b\r1/1 [==============================] - 0s 169ms/step - loss: 0.5483 - accuracy: 0.8228\n",
            "Epoch 433/1000\n",
            "1/1 [==============================] - 0s 22ms/step\n",
            "\n",
            "Validation Accuracy: 37.77777777777778 %\n"
          ]
        },
        {
          "output_type": "stream",
          "name": "stderr",
          "text": [
            "WARNING:tensorflow:Can save best model only with val_loss available, skipping.\n"
          ]
        },
        {
          "output_type": "stream",
          "name": "stdout",
          "text": [
            "\b\b\b\b\b\b\b\b\b\b\b\b\b\b\b\b\b\b\b\b\b\b\b\b\b\b\b\b\b\b\b\b\b\b\b\b\b\b\b\b\b\b\b\b\b\b\b\b\b\b\b\b\b\b\b\b\b\b\b\b\b\b\b\b\b\b\b\b\b\b\b\b\b\b\b\b\b\b\b\b\r1/1 [==============================] - 0s 134ms/step - loss: 0.5553 - accuracy: 0.8195\n",
            "Epoch 434/1000\n",
            "1/1 [==============================] - 0s 26ms/step\n",
            "\n",
            "Validation Accuracy: 36.666666666666664 %\n"
          ]
        },
        {
          "output_type": "stream",
          "name": "stderr",
          "text": [
            "WARNING:tensorflow:Can save best model only with val_loss available, skipping.\n"
          ]
        },
        {
          "output_type": "stream",
          "name": "stdout",
          "text": [
            "\b\b\b\b\b\b\b\b\b\b\b\b\b\b\b\b\b\b\b\b\b\b\b\b\b\b\b\b\b\b\b\b\b\b\b\b\b\b\b\b\b\b\b\b\b\b\b\b\b\b\b\b\b\b\b\b\b\b\b\b\b\b\b\b\b\b\b\b\b\b\b\b\b\b\b\b\b\b\b\b\r1/1 [==============================] - 0s 142ms/step - loss: 0.5464 - accuracy: 0.8224\n",
            "Epoch 435/1000\n",
            "1/1 [==============================] - 0s 21ms/step\n",
            "\n",
            "Validation Accuracy: 37.77777777777778 %\n"
          ]
        },
        {
          "output_type": "stream",
          "name": "stderr",
          "text": [
            "WARNING:tensorflow:Can save best model only with val_loss available, skipping.\n"
          ]
        },
        {
          "output_type": "stream",
          "name": "stdout",
          "text": [
            "\b\b\b\b\b\b\b\b\b\b\b\b\b\b\b\b\b\b\b\b\b\b\b\b\b\b\b\b\b\b\b\b\b\b\b\b\b\b\b\b\b\b\b\b\b\b\b\b\b\b\b\b\b\b\b\b\b\b\b\b\b\b\b\b\b\b\b\b\b\b\b\b\b\b\b\b\b\b\b\b\r1/1 [==============================] - 0s 155ms/step - loss: 0.5524 - accuracy: 0.8188\n",
            "Epoch 436/1000\n",
            "1/1 [==============================] - 0s 20ms/step\n",
            "\n",
            "Validation Accuracy: 37.77777777777778 %\n"
          ]
        },
        {
          "output_type": "stream",
          "name": "stderr",
          "text": [
            "WARNING:tensorflow:Can save best model only with val_loss available, skipping.\n"
          ]
        },
        {
          "output_type": "stream",
          "name": "stdout",
          "text": [
            "\b\b\b\b\b\b\b\b\b\b\b\b\b\b\b\b\b\b\b\b\b\b\b\b\b\b\b\b\b\b\b\b\b\b\b\b\b\b\b\b\b\b\b\b\b\b\b\b\b\b\b\b\b\b\b\b\b\b\b\b\b\b\b\b\b\b\b\b\b\b\b\b\b\b\b\b\b\b\b\b\r1/1 [==============================] - 0s 145ms/step - loss: 0.5526 - accuracy: 0.8136\n",
            "Epoch 437/1000\n",
            "1/1 [==============================] - 0s 20ms/step\n",
            "\n",
            "Validation Accuracy: 36.666666666666664 %\n"
          ]
        },
        {
          "output_type": "stream",
          "name": "stderr",
          "text": [
            "WARNING:tensorflow:Can save best model only with val_loss available, skipping.\n"
          ]
        },
        {
          "output_type": "stream",
          "name": "stdout",
          "text": [
            "\b\b\b\b\b\b\b\b\b\b\b\b\b\b\b\b\b\b\b\b\b\b\b\b\b\b\b\b\b\b\b\b\b\b\b\b\b\b\b\b\b\b\b\b\b\b\b\b\b\b\b\b\b\b\b\b\b\b\b\b\b\b\b\b\b\b\b\b\b\b\b\b\b\b\b\b\b\b\b\b\r1/1 [==============================] - 0s 143ms/step - loss: 0.5414 - accuracy: 0.8241\n",
            "Epoch 438/1000\n",
            "1/1 [==============================] - 0s 24ms/step\n",
            "\n",
            "Validation Accuracy: 36.666666666666664 %\n"
          ]
        },
        {
          "output_type": "stream",
          "name": "stderr",
          "text": [
            "WARNING:tensorflow:Can save best model only with val_loss available, skipping.\n"
          ]
        },
        {
          "output_type": "stream",
          "name": "stdout",
          "text": [
            "\b\b\b\b\b\b\b\b\b\b\b\b\b\b\b\b\b\b\b\b\b\b\b\b\b\b\b\b\b\b\b\b\b\b\b\b\b\b\b\b\b\b\b\b\b\b\b\b\b\b\b\b\b\b\b\b\b\b\b\b\b\b\b\b\b\b\b\b\b\b\b\b\b\b\b\b\b\b\b\b\r1/1 [==============================] - 0s 151ms/step - loss: 0.5448 - accuracy: 0.8224\n",
            "Epoch 439/1000\n",
            "1/1 [==============================] - 0s 19ms/step\n",
            "\n",
            "Validation Accuracy: 37.22222222222222 %\n"
          ]
        },
        {
          "output_type": "stream",
          "name": "stderr",
          "text": [
            "WARNING:tensorflow:Can save best model only with val_loss available, skipping.\n"
          ]
        },
        {
          "output_type": "stream",
          "name": "stdout",
          "text": [
            "\b\b\b\b\b\b\b\b\b\b\b\b\b\b\b\b\b\b\b\b\b\b\b\b\b\b\b\b\b\b\b\b\b\b\b\b\b\b\b\b\b\b\b\b\b\b\b\b\b\b\b\b\b\b\b\b\b\b\b\b\b\b\b\b\b\b\b\b\b\b\b\b\b\b\b\b\b\b\b\b\r1/1 [==============================] - 0s 150ms/step - loss: 0.5467 - accuracy: 0.8197\n",
            "Epoch 440/1000\n",
            "1/1 [==============================] - 0s 22ms/step\n",
            "\n",
            "Validation Accuracy: 37.22222222222222 %\n"
          ]
        },
        {
          "output_type": "stream",
          "name": "stderr",
          "text": [
            "WARNING:tensorflow:Can save best model only with val_loss available, skipping.\n"
          ]
        },
        {
          "output_type": "stream",
          "name": "stdout",
          "text": [
            "\b\b\b\b\b\b\b\b\b\b\b\b\b\b\b\b\b\b\b\b\b\b\b\b\b\b\b\b\b\b\b\b\b\b\b\b\b\b\b\b\b\b\b\b\b\b\b\b\b\b\b\b\b\b\b\b\b\b\b\b\b\b\b\b\b\b\b\b\b\b\b\b\b\b\b\b\b\b\b\b\r1/1 [==============================] - 0s 150ms/step - loss: 0.5493 - accuracy: 0.8195\n",
            "Epoch 441/1000\n",
            "1/1 [==============================] - 0s 19ms/step\n",
            "\n",
            "Validation Accuracy: 37.22222222222222 %\n"
          ]
        },
        {
          "output_type": "stream",
          "name": "stderr",
          "text": [
            "WARNING:tensorflow:Can save best model only with val_loss available, skipping.\n"
          ]
        },
        {
          "output_type": "stream",
          "name": "stdout",
          "text": [
            "\b\b\b\b\b\b\b\b\b\b\b\b\b\b\b\b\b\b\b\b\b\b\b\b\b\b\b\b\b\b\b\b\b\b\b\b\b\b\b\b\b\b\b\b\b\b\b\b\b\b\b\b\b\b\b\b\b\b\b\b\b\b\b\b\b\b\b\b\b\b\b\b\b\b\b\b\b\b\b\b\r1/1 [==============================] - 0s 169ms/step - loss: 0.5465 - accuracy: 0.8282\n",
            "Epoch 442/1000\n",
            "1/1 [==============================] - 0s 20ms/step\n",
            "\n",
            "Validation Accuracy: 36.666666666666664 %\n"
          ]
        },
        {
          "output_type": "stream",
          "name": "stderr",
          "text": [
            "WARNING:tensorflow:Can save best model only with val_loss available, skipping.\n"
          ]
        },
        {
          "output_type": "stream",
          "name": "stdout",
          "text": [
            "\b\b\b\b\b\b\b\b\b\b\b\b\b\b\b\b\b\b\b\b\b\b\b\b\b\b\b\b\b\b\b\b\b\b\b\b\b\b\b\b\b\b\b\b\b\b\b\b\b\b\b\b\b\b\b\b\b\b\b\b\b\b\b\b\b\b\b\b\b\b\b\b\b\b\b\b\b\b\b\b\r1/1 [==============================] - 0s 141ms/step - loss: 0.5421 - accuracy: 0.8225\n",
            "Epoch 443/1000\n",
            "1/1 [==============================] - 0s 20ms/step\n",
            "\n",
            "Validation Accuracy: 36.666666666666664 %\n"
          ]
        },
        {
          "output_type": "stream",
          "name": "stderr",
          "text": [
            "WARNING:tensorflow:Can save best model only with val_loss available, skipping.\n"
          ]
        },
        {
          "output_type": "stream",
          "name": "stdout",
          "text": [
            "\b\b\b\b\b\b\b\b\b\b\b\b\b\b\b\b\b\b\b\b\b\b\b\b\b\b\b\b\b\b\b\b\b\b\b\b\b\b\b\b\b\b\b\b\b\b\b\b\b\b\b\b\b\b\b\b\b\b\b\b\b\b\b\b\b\b\b\b\b\b\b\b\b\b\b\b\b\b\b\b\r1/1 [==============================] - 0s 143ms/step - loss: 0.5432 - accuracy: 0.8211\n",
            "Epoch 444/1000\n",
            "1/1 [==============================] - 0s 22ms/step\n",
            "\n",
            "Validation Accuracy: 37.22222222222222 %\n"
          ]
        },
        {
          "output_type": "stream",
          "name": "stderr",
          "text": [
            "WARNING:tensorflow:Can save best model only with val_loss available, skipping.\n"
          ]
        },
        {
          "output_type": "stream",
          "name": "stdout",
          "text": [
            "\b\b\b\b\b\b\b\b\b\b\b\b\b\b\b\b\b\b\b\b\b\b\b\b\b\b\b\b\b\b\b\b\b\b\b\b\b\b\b\b\b\b\b\b\b\b\b\b\b\b\b\b\b\b\b\b\b\b\b\b\b\b\b\b\b\b\b\b\b\b\b\b\b\b\b\b\b\b\b\b\r1/1 [==============================] - 0s 152ms/step - loss: 0.5535 - accuracy: 0.8231\n",
            "Epoch 445/1000\n",
            "1/1 [==============================] - 0s 20ms/step\n",
            "\n",
            "Validation Accuracy: 36.666666666666664 %\n"
          ]
        },
        {
          "output_type": "stream",
          "name": "stderr",
          "text": [
            "WARNING:tensorflow:Can save best model only with val_loss available, skipping.\n"
          ]
        },
        {
          "output_type": "stream",
          "name": "stdout",
          "text": [
            "\b\b\b\b\b\b\b\b\b\b\b\b\b\b\b\b\b\b\b\b\b\b\b\b\b\b\b\b\b\b\b\b\b\b\b\b\b\b\b\b\b\b\b\b\b\b\b\b\b\b\b\b\b\b\b\b\b\b\b\b\b\b\b\b\b\b\b\b\b\b\b\b\b\b\b\b\b\b\b\b\r1/1 [==============================] - 0s 146ms/step - loss: 0.5429 - accuracy: 0.8245\n",
            "Epoch 446/1000\n",
            "1/1 [==============================] - 0s 24ms/step\n",
            "\n",
            "Validation Accuracy: 36.11111111111111 %\n"
          ]
        },
        {
          "output_type": "stream",
          "name": "stderr",
          "text": [
            "WARNING:tensorflow:Can save best model only with val_loss available, skipping.\n"
          ]
        },
        {
          "output_type": "stream",
          "name": "stdout",
          "text": [
            "\b\b\b\b\b\b\b\b\b\b\b\b\b\b\b\b\b\b\b\b\b\b\b\b\b\b\b\b\b\b\b\b\b\b\b\b\b\b\b\b\b\b\b\b\b\b\b\b\b\b\b\b\b\b\b\b\b\b\b\b\b\b\b\b\b\b\b\b\b\b\b\b\b\b\b\b\b\b\b\b\r1/1 [==============================] - 0s 151ms/step - loss: 0.5336 - accuracy: 0.8246\n",
            "Epoch 447/1000\n",
            "1/1 [==============================] - 0s 20ms/step\n",
            "\n",
            "Validation Accuracy: 36.11111111111111 %\n"
          ]
        },
        {
          "output_type": "stream",
          "name": "stderr",
          "text": [
            "WARNING:tensorflow:Can save best model only with val_loss available, skipping.\n"
          ]
        },
        {
          "output_type": "stream",
          "name": "stdout",
          "text": [
            "\b\b\b\b\b\b\b\b\b\b\b\b\b\b\b\b\b\b\b\b\b\b\b\b\b\b\b\b\b\b\b\b\b\b\b\b\b\b\b\b\b\b\b\b\b\b\b\b\b\b\b\b\b\b\b\b\b\b\b\b\b\b\b\b\b\b\b\b\b\b\b\b\b\b\b\b\b\b\b\b\r1/1 [==============================] - 0s 140ms/step - loss: 0.5426 - accuracy: 0.8220\n",
            "Epoch 448/1000\n",
            "1/1 [==============================] - 0s 19ms/step\n",
            "\n",
            "Validation Accuracy: 36.11111111111111 %\n"
          ]
        },
        {
          "output_type": "stream",
          "name": "stderr",
          "text": [
            "WARNING:tensorflow:Can save best model only with val_loss available, skipping.\n"
          ]
        },
        {
          "output_type": "stream",
          "name": "stdout",
          "text": [
            "\b\b\b\b\b\b\b\b\b\b\b\b\b\b\b\b\b\b\b\b\b\b\b\b\b\b\b\b\b\b\b\b\b\b\b\b\b\b\b\b\b\b\b\b\b\b\b\b\b\b\b\b\b\b\b\b\b\b\b\b\b\b\b\b\b\b\b\b\b\b\b\b\b\b\b\b\b\b\b\b\r1/1 [==============================] - 0s 146ms/step - loss: 0.5318 - accuracy: 0.8259\n",
            "Epoch 449/1000\n",
            "1/1 [==============================] - 0s 30ms/step\n",
            "\n",
            "Validation Accuracy: 36.11111111111111 %\n"
          ]
        },
        {
          "output_type": "stream",
          "name": "stderr",
          "text": [
            "WARNING:tensorflow:Can save best model only with val_loss available, skipping.\n"
          ]
        },
        {
          "output_type": "stream",
          "name": "stdout",
          "text": [
            "\b\b\b\b\b\b\b\b\b\b\b\b\b\b\b\b\b\b\b\b\b\b\b\b\b\b\b\b\b\b\b\b\b\b\b\b\b\b\b\b\b\b\b\b\b\b\b\b\b\b\b\b\b\b\b\b\b\b\b\b\b\b\b\b\b\b\b\b\b\b\b\b\b\b\b\b\b\b\b\b\r1/1 [==============================] - 0s 151ms/step - loss: 0.5300 - accuracy: 0.8290\n",
            "Epoch 450/1000\n",
            "1/1 [==============================] - 0s 30ms/step\n",
            "\n",
            "Validation Accuracy: 36.11111111111111 %\n"
          ]
        },
        {
          "output_type": "stream",
          "name": "stderr",
          "text": [
            "WARNING:tensorflow:Can save best model only with val_loss available, skipping.\n"
          ]
        },
        {
          "output_type": "stream",
          "name": "stdout",
          "text": [
            "\b\b\b\b\b\b\b\b\b\b\b\b\b\b\b\b\b\b\b\b\b\b\b\b\b\b\b\b\b\b\b\b\b\b\b\b\b\b\b\b\b\b\b\b\b\b\b\b\b\b\b\b\b\b\b\b\b\b\b\b\b\b\b\b\b\b\b\b\b\b\b\b\b\b\b\b\b\b\b\b\r1/1 [==============================] - 0s 193ms/step - loss: 0.5448 - accuracy: 0.8204\n",
            "Epoch 451/1000\n",
            "1/1 [==============================] - 0s 20ms/step\n",
            "\n",
            "Validation Accuracy: 36.11111111111111 %\n"
          ]
        },
        {
          "output_type": "stream",
          "name": "stderr",
          "text": [
            "WARNING:tensorflow:Can save best model only with val_loss available, skipping.\n"
          ]
        },
        {
          "output_type": "stream",
          "name": "stdout",
          "text": [
            "\b\b\b\b\b\b\b\b\b\b\b\b\b\b\b\b\b\b\b\b\b\b\b\b\b\b\b\b\b\b\b\b\b\b\b\b\b\b\b\b\b\b\b\b\b\b\b\b\b\b\b\b\b\b\b\b\b\b\b\b\b\b\b\b\b\b\b\b\b\b\b\b\b\b\b\b\b\b\b\b\r1/1 [==============================] - 0s 160ms/step - loss: 0.5396 - accuracy: 0.8249\n",
            "Epoch 452/1000\n",
            "1/1 [==============================] - 0s 23ms/step\n",
            "\n",
            "Validation Accuracy: 36.11111111111111 %\n"
          ]
        },
        {
          "output_type": "stream",
          "name": "stderr",
          "text": [
            "WARNING:tensorflow:Can save best model only with val_loss available, skipping.\n"
          ]
        },
        {
          "output_type": "stream",
          "name": "stdout",
          "text": [
            "\b\b\b\b\b\b\b\b\b\b\b\b\b\b\b\b\b\b\b\b\b\b\b\b\b\b\b\b\b\b\b\b\b\b\b\b\b\b\b\b\b\b\b\b\b\b\b\b\b\b\b\b\b\b\b\b\b\b\b\b\b\b\b\b\b\b\b\b\b\b\b\b\b\b\b\b\b\b\b\b\r1/1 [==============================] - 0s 154ms/step - loss: 0.5315 - accuracy: 0.8255\n",
            "Epoch 453/1000\n",
            "1/1 [==============================] - 0s 21ms/step\n",
            "\n",
            "Validation Accuracy: 36.11111111111111 %\n"
          ]
        },
        {
          "output_type": "stream",
          "name": "stderr",
          "text": [
            "WARNING:tensorflow:Can save best model only with val_loss available, skipping.\n"
          ]
        },
        {
          "output_type": "stream",
          "name": "stdout",
          "text": [
            "\b\b\b\b\b\b\b\b\b\b\b\b\b\b\b\b\b\b\b\b\b\b\b\b\b\b\b\b\b\b\b\b\b\b\b\b\b\b\b\b\b\b\b\b\b\b\b\b\b\b\b\b\b\b\b\b\b\b\b\b\b\b\b\b\b\b\b\b\b\b\b\b\b\b\b\b\b\b\b\b\r1/1 [==============================] - 0s 144ms/step - loss: 0.5385 - accuracy: 0.8269\n",
            "Epoch 454/1000\n",
            "1/1 [==============================] - 0s 25ms/step\n",
            "\n",
            "Validation Accuracy: 36.666666666666664 %\n"
          ]
        },
        {
          "output_type": "stream",
          "name": "stderr",
          "text": [
            "WARNING:tensorflow:Can save best model only with val_loss available, skipping.\n"
          ]
        },
        {
          "output_type": "stream",
          "name": "stdout",
          "text": [
            "\b\b\b\b\b\b\b\b\b\b\b\b\b\b\b\b\b\b\b\b\b\b\b\b\b\b\b\b\b\b\b\b\b\b\b\b\b\b\b\b\b\b\b\b\b\b\b\b\b\b\b\b\b\b\b\b\b\b\b\b\b\b\b\b\b\b\b\b\b\b\b\b\b\b\b\b\b\b\b\b\r1/1 [==============================] - 0s 143ms/step - loss: 0.5370 - accuracy: 0.8252\n",
            "Epoch 455/1000\n",
            "1/1 [==============================] - 0s 22ms/step\n",
            "\n",
            "Validation Accuracy: 36.666666666666664 %\n"
          ]
        },
        {
          "output_type": "stream",
          "name": "stderr",
          "text": [
            "WARNING:tensorflow:Can save best model only with val_loss available, skipping.\n"
          ]
        },
        {
          "output_type": "stream",
          "name": "stdout",
          "text": [
            "\b\b\b\b\b\b\b\b\b\b\b\b\b\b\b\b\b\b\b\b\b\b\b\b\b\b\b\b\b\b\b\b\b\b\b\b\b\b\b\b\b\b\b\b\b\b\b\b\b\b\b\b\b\b\b\b\b\b\b\b\b\b\b\b\b\b\b\b\b\b\b\b\b\b\b\b\b\b\b\b\r1/1 [==============================] - 0s 152ms/step - loss: 0.5425 - accuracy: 0.8224\n",
            "Epoch 456/1000\n",
            "1/1 [==============================] - 0s 23ms/step\n",
            "\n",
            "Validation Accuracy: 38.88888888888889 %\n"
          ]
        },
        {
          "output_type": "stream",
          "name": "stderr",
          "text": [
            "WARNING:tensorflow:Can save best model only with val_loss available, skipping.\n"
          ]
        },
        {
          "output_type": "stream",
          "name": "stdout",
          "text": [
            "\b\b\b\b\b\b\b\b\b\b\b\b\b\b\b\b\b\b\b\b\b\b\b\b\b\b\b\b\b\b\b\b\b\b\b\b\b\b\b\b\b\b\b\b\b\b\b\b\b\b\b\b\b\b\b\b\b\b\b\b\b\b\b\b\b\b\b\b\b\b\b\b\b\b\b\b\b\b\b\b\r1/1 [==============================] - 0s 169ms/step - loss: 0.5327 - accuracy: 0.8231\n",
            "Epoch 457/1000\n",
            "1/1 [==============================] - 0s 19ms/step\n",
            "\n",
            "Validation Accuracy: 37.77777777777778 %\n"
          ]
        },
        {
          "output_type": "stream",
          "name": "stderr",
          "text": [
            "WARNING:tensorflow:Can save best model only with val_loss available, skipping.\n"
          ]
        },
        {
          "output_type": "stream",
          "name": "stdout",
          "text": [
            "\b\b\b\b\b\b\b\b\b\b\b\b\b\b\b\b\b\b\b\b\b\b\b\b\b\b\b\b\b\b\b\b\b\b\b\b\b\b\b\b\b\b\b\b\b\b\b\b\b\b\b\b\b\b\b\b\b\b\b\b\b\b\b\b\b\b\b\b\b\b\b\b\b\b\b\b\b\b\b\b\r1/1 [==============================] - 0s 143ms/step - loss: 0.5440 - accuracy: 0.8227\n",
            "Epoch 458/1000\n",
            "1/1 [==============================] - 0s 21ms/step\n",
            "\n",
            "Validation Accuracy: 37.22222222222222 %\n"
          ]
        },
        {
          "output_type": "stream",
          "name": "stderr",
          "text": [
            "WARNING:tensorflow:Can save best model only with val_loss available, skipping.\n"
          ]
        },
        {
          "output_type": "stream",
          "name": "stdout",
          "text": [
            "\b\b\b\b\b\b\b\b\b\b\b\b\b\b\b\b\b\b\b\b\b\b\b\b\b\b\b\b\b\b\b\b\b\b\b\b\b\b\b\b\b\b\b\b\b\b\b\b\b\b\b\b\b\b\b\b\b\b\b\b\b\b\b\b\b\b\b\b\b\b\b\b\b\b\b\b\b\b\b\b\r1/1 [==============================] - 0s 136ms/step - loss: 0.5303 - accuracy: 0.8241\n",
            "Epoch 459/1000\n",
            "1/1 [==============================] - 0s 25ms/step\n",
            "\n",
            "Validation Accuracy: 37.77777777777778 %\n"
          ]
        },
        {
          "output_type": "stream",
          "name": "stderr",
          "text": [
            "WARNING:tensorflow:Can save best model only with val_loss available, skipping.\n"
          ]
        },
        {
          "output_type": "stream",
          "name": "stdout",
          "text": [
            "\b\b\b\b\b\b\b\b\b\b\b\b\b\b\b\b\b\b\b\b\b\b\b\b\b\b\b\b\b\b\b\b\b\b\b\b\b\b\b\b\b\b\b\b\b\b\b\b\b\b\b\b\b\b\b\b\b\b\b\b\b\b\b\b\b\b\b\b\b\b\b\b\b\b\b\b\b\b\b\b\r1/1 [==============================] - 0s 175ms/step - loss: 0.5357 - accuracy: 0.8239\n",
            "Epoch 460/1000\n",
            "1/1 [==============================] - 0s 23ms/step\n",
            "\n",
            "Validation Accuracy: 37.22222222222222 %\n"
          ]
        },
        {
          "output_type": "stream",
          "name": "stderr",
          "text": [
            "WARNING:tensorflow:Can save best model only with val_loss available, skipping.\n"
          ]
        },
        {
          "output_type": "stream",
          "name": "stdout",
          "text": [
            "\b\b\b\b\b\b\b\b\b\b\b\b\b\b\b\b\b\b\b\b\b\b\b\b\b\b\b\b\b\b\b\b\b\b\b\b\b\b\b\b\b\b\b\b\b\b\b\b\b\b\b\b\b\b\b\b\b\b\b\b\b\b\b\b\b\b\b\b\b\b\b\b\b\b\b\b\b\b\b\b\r1/1 [==============================] - 0s 146ms/step - loss: 0.5270 - accuracy: 0.8286\n",
            "Epoch 461/1000\n",
            "1/1 [==============================] - 0s 21ms/step\n",
            "\n",
            "Validation Accuracy: 37.22222222222222 %\n"
          ]
        },
        {
          "output_type": "stream",
          "name": "stderr",
          "text": [
            "WARNING:tensorflow:Can save best model only with val_loss available, skipping.\n"
          ]
        },
        {
          "output_type": "stream",
          "name": "stdout",
          "text": [
            "\b\b\b\b\b\b\b\b\b\b\b\b\b\b\b\b\b\b\b\b\b\b\b\b\b\b\b\b\b\b\b\b\b\b\b\b\b\b\b\b\b\b\b\b\b\b\b\b\b\b\b\b\b\b\b\b\b\b\b\b\b\b\b\b\b\b\b\b\b\b\b\b\b\b\b\b\b\b\b\b\r1/1 [==============================] - 0s 164ms/step - loss: 0.5362 - accuracy: 0.8245\n",
            "Epoch 462/1000\n",
            "1/1 [==============================] - 0s 20ms/step\n",
            "\n",
            "Validation Accuracy: 36.666666666666664 %\n"
          ]
        },
        {
          "output_type": "stream",
          "name": "stderr",
          "text": [
            "WARNING:tensorflow:Can save best model only with val_loss available, skipping.\n"
          ]
        },
        {
          "output_type": "stream",
          "name": "stdout",
          "text": [
            "\b\b\b\b\b\b\b\b\b\b\b\b\b\b\b\b\b\b\b\b\b\b\b\b\b\b\b\b\b\b\b\b\b\b\b\b\b\b\b\b\b\b\b\b\b\b\b\b\b\b\b\b\b\b\b\b\b\b\b\b\b\b\b\b\b\b\b\b\b\b\b\b\b\b\b\b\b\b\b\b\r1/1 [==============================] - 0s 142ms/step - loss: 0.5297 - accuracy: 0.8297\n",
            "Epoch 463/1000\n",
            "1/1 [==============================] - 0s 20ms/step\n",
            "\n",
            "Validation Accuracy: 36.666666666666664 %\n"
          ]
        },
        {
          "output_type": "stream",
          "name": "stderr",
          "text": [
            "WARNING:tensorflow:Can save best model only with val_loss available, skipping.\n"
          ]
        },
        {
          "output_type": "stream",
          "name": "stdout",
          "text": [
            "\b\b\b\b\b\b\b\b\b\b\b\b\b\b\b\b\b\b\b\b\b\b\b\b\b\b\b\b\b\b\b\b\b\b\b\b\b\b\b\b\b\b\b\b\b\b\b\b\b\b\b\b\b\b\b\b\b\b\b\b\b\b\b\b\b\b\b\b\b\b\b\b\b\b\b\b\b\b\b\b\r1/1 [==============================] - 0s 140ms/step - loss: 0.5300 - accuracy: 0.8308\n",
            "Epoch 464/1000\n",
            "1/1 [==============================] - 0s 19ms/step\n",
            "\n",
            "Validation Accuracy: 37.22222222222222 %\n"
          ]
        },
        {
          "output_type": "stream",
          "name": "stderr",
          "text": [
            "WARNING:tensorflow:Can save best model only with val_loss available, skipping.\n"
          ]
        },
        {
          "output_type": "stream",
          "name": "stdout",
          "text": [
            "\b\b\b\b\b\b\b\b\b\b\b\b\b\b\b\b\b\b\b\b\b\b\b\b\b\b\b\b\b\b\b\b\b\b\b\b\b\b\b\b\b\b\b\b\b\b\b\b\b\b\b\b\b\b\b\b\b\b\b\b\b\b\b\b\b\b\b\b\b\b\b\b\b\b\b\b\b\b\b\b\r1/1 [==============================] - 0s 143ms/step - loss: 0.5237 - accuracy: 0.8286\n",
            "Epoch 465/1000\n",
            "1/1 [==============================] - 0s 22ms/step\n",
            "\n",
            "Validation Accuracy: 37.22222222222222 %\n"
          ]
        },
        {
          "output_type": "stream",
          "name": "stderr",
          "text": [
            "WARNING:tensorflow:Can save best model only with val_loss available, skipping.\n"
          ]
        },
        {
          "output_type": "stream",
          "name": "stdout",
          "text": [
            "\b\b\b\b\b\b\b\b\b\b\b\b\b\b\b\b\b\b\b\b\b\b\b\b\b\b\b\b\b\b\b\b\b\b\b\b\b\b\b\b\b\b\b\b\b\b\b\b\b\b\b\b\b\b\b\b\b\b\b\b\b\b\b\b\b\b\b\b\b\b\b\b\b\b\b\b\b\b\b\b\r1/1 [==============================] - 0s 141ms/step - loss: 0.5314 - accuracy: 0.8275\n",
            "Epoch 466/1000\n",
            "1/1 [==============================] - 0s 24ms/step\n",
            "\n",
            "Validation Accuracy: 37.22222222222222 %\n"
          ]
        },
        {
          "output_type": "stream",
          "name": "stderr",
          "text": [
            "WARNING:tensorflow:Can save best model only with val_loss available, skipping.\n"
          ]
        },
        {
          "output_type": "stream",
          "name": "stdout",
          "text": [
            "\b\b\b\b\b\b\b\b\b\b\b\b\b\b\b\b\b\b\b\b\b\b\b\b\b\b\b\b\b\b\b\b\b\b\b\b\b\b\b\b\b\b\b\b\b\b\b\b\b\b\b\b\b\b\b\b\b\b\b\b\b\b\b\b\b\b\b\b\b\b\b\b\b\b\b\b\b\b\b\b\r1/1 [==============================] - 0s 143ms/step - loss: 0.5279 - accuracy: 0.8270\n",
            "Epoch 467/1000\n",
            "1/1 [==============================] - 0s 23ms/step\n",
            "\n",
            "Validation Accuracy: 37.22222222222222 %\n"
          ]
        },
        {
          "output_type": "stream",
          "name": "stderr",
          "text": [
            "WARNING:tensorflow:Can save best model only with val_loss available, skipping.\n"
          ]
        },
        {
          "output_type": "stream",
          "name": "stdout",
          "text": [
            "\b\b\b\b\b\b\b\b\b\b\b\b\b\b\b\b\b\b\b\b\b\b\b\b\b\b\b\b\b\b\b\b\b\b\b\b\b\b\b\b\b\b\b\b\b\b\b\b\b\b\b\b\b\b\b\b\b\b\b\b\b\b\b\b\b\b\b\b\b\b\b\b\b\b\b\b\b\b\b\b\r1/1 [==============================] - 0s 161ms/step - loss: 0.5227 - accuracy: 0.8251\n",
            "Epoch 468/1000\n",
            "1/1 [==============================] - 0s 22ms/step\n",
            "\n",
            "Validation Accuracy: 37.77777777777778 %\n"
          ]
        },
        {
          "output_type": "stream",
          "name": "stderr",
          "text": [
            "WARNING:tensorflow:Can save best model only with val_loss available, skipping.\n"
          ]
        },
        {
          "output_type": "stream",
          "name": "stdout",
          "text": [
            "\b\b\b\b\b\b\b\b\b\b\b\b\b\b\b\b\b\b\b\b\b\b\b\b\b\b\b\b\b\b\b\b\b\b\b\b\b\b\b\b\b\b\b\b\b\b\b\b\b\b\b\b\b\b\b\b\b\b\b\b\b\b\b\b\b\b\b\b\b\b\b\b\b\b\b\b\b\b\b\b\r1/1 [==============================] - 0s 135ms/step - loss: 0.5203 - accuracy: 0.8293\n",
            "Epoch 469/1000\n",
            "1/1 [==============================] - 0s 21ms/step\n",
            "\n",
            "Validation Accuracy: 37.22222222222222 %\n"
          ]
        },
        {
          "output_type": "stream",
          "name": "stderr",
          "text": [
            "WARNING:tensorflow:Can save best model only with val_loss available, skipping.\n"
          ]
        },
        {
          "output_type": "stream",
          "name": "stdout",
          "text": [
            "\b\b\b\b\b\b\b\b\b\b\b\b\b\b\b\b\b\b\b\b\b\b\b\b\b\b\b\b\b\b\b\b\b\b\b\b\b\b\b\b\b\b\b\b\b\b\b\b\b\b\b\b\b\b\b\b\b\b\b\b\b\b\b\b\b\b\b\b\b\b\b\b\b\b\b\b\b\b\b\b\r1/1 [==============================] - 0s 134ms/step - loss: 0.5230 - accuracy: 0.8364\n",
            "Epoch 470/1000\n",
            "1/1 [==============================] - 0s 24ms/step\n",
            "\n",
            "Validation Accuracy: 38.333333333333336 %\n"
          ]
        },
        {
          "output_type": "stream",
          "name": "stderr",
          "text": [
            "WARNING:tensorflow:Can save best model only with val_loss available, skipping.\n"
          ]
        },
        {
          "output_type": "stream",
          "name": "stdout",
          "text": [
            "\b\b\b\b\b\b\b\b\b\b\b\b\b\b\b\b\b\b\b\b\b\b\b\b\b\b\b\b\b\b\b\b\b\b\b\b\b\b\b\b\b\b\b\b\b\b\b\b\b\b\b\b\b\b\b\b\b\b\b\b\b\b\b\b\b\b\b\b\b\b\b\b\b\b\b\b\b\b\b\b\r1/1 [==============================] - 0s 160ms/step - loss: 0.5238 - accuracy: 0.8291\n",
            "Epoch 471/1000\n",
            "1/1 [==============================] - 0s 19ms/step\n",
            "\n",
            "Validation Accuracy: 37.77777777777778 %\n"
          ]
        },
        {
          "output_type": "stream",
          "name": "stderr",
          "text": [
            "WARNING:tensorflow:Can save best model only with val_loss available, skipping.\n"
          ]
        },
        {
          "output_type": "stream",
          "name": "stdout",
          "text": [
            "\b\b\b\b\b\b\b\b\b\b\b\b\b\b\b\b\b\b\b\b\b\b\b\b\b\b\b\b\b\b\b\b\b\b\b\b\b\b\b\b\b\b\b\b\b\b\b\b\b\b\b\b\b\b\b\b\b\b\b\b\b\b\b\b\b\b\b\b\b\b\b\b\b\b\b\b\b\b\b\b\r1/1 [==============================] - 0s 128ms/step - loss: 0.5238 - accuracy: 0.8318\n",
            "Epoch 472/1000\n",
            "1/1 [==============================] - 0s 21ms/step\n",
            "\n",
            "Validation Accuracy: 38.333333333333336 %\n"
          ]
        },
        {
          "output_type": "stream",
          "name": "stderr",
          "text": [
            "WARNING:tensorflow:Can save best model only with val_loss available, skipping.\n"
          ]
        },
        {
          "output_type": "stream",
          "name": "stdout",
          "text": [
            "\b\b\b\b\b\b\b\b\b\b\b\b\b\b\b\b\b\b\b\b\b\b\b\b\b\b\b\b\b\b\b\b\b\b\b\b\b\b\b\b\b\b\b\b\b\b\b\b\b\b\b\b\b\b\b\b\b\b\b\b\b\b\b\b\b\b\b\b\b\b\b\b\b\b\b\b\b\b\b\b\r1/1 [==============================] - 0s 146ms/step - loss: 0.5284 - accuracy: 0.8259\n",
            "Epoch 473/1000\n",
            "1/1 [==============================] - 0s 38ms/step\n",
            "\n",
            "Validation Accuracy: 37.77777777777778 %\n"
          ]
        },
        {
          "output_type": "stream",
          "name": "stderr",
          "text": [
            "WARNING:tensorflow:Can save best model only with val_loss available, skipping.\n"
          ]
        },
        {
          "output_type": "stream",
          "name": "stdout",
          "text": [
            "\b\b\b\b\b\b\b\b\b\b\b\b\b\b\b\b\b\b\b\b\b\b\b\b\b\b\b\b\b\b\b\b\b\b\b\b\b\b\b\b\b\b\b\b\b\b\b\b\b\b\b\b\b\b\b\b\b\b\b\b\b\b\b\b\b\b\b\b\b\b\b\b\b\b\b\b\b\b\b\b\r1/1 [==============================] - 0s 175ms/step - loss: 0.5339 - accuracy: 0.8249\n",
            "Epoch 474/1000\n",
            "1/1 [==============================] - 0s 43ms/step\n",
            "\n",
            "Validation Accuracy: 37.77777777777778 %\n"
          ]
        },
        {
          "output_type": "stream",
          "name": "stderr",
          "text": [
            "WARNING:tensorflow:Can save best model only with val_loss available, skipping.\n"
          ]
        },
        {
          "output_type": "stream",
          "name": "stdout",
          "text": [
            "\b\b\b\b\b\b\b\b\b\b\b\b\b\b\b\b\b\b\b\b\b\b\b\b\b\b\b\b\b\b\b\b\b\b\b\b\b\b\b\b\b\b\b\b\b\b\b\b\b\b\b\b\b\b\b\b\b\b\b\b\b\b\b\b\b\b\b\b\b\b\b\b\b\b\b\b\b\b\b\b\r1/1 [==============================] - 0s 203ms/step - loss: 0.5344 - accuracy: 0.8223\n",
            "Epoch 475/1000\n",
            "1/1 [==============================] - 0s 28ms/step\n",
            "\n",
            "Validation Accuracy: 38.333333333333336 %\n"
          ]
        },
        {
          "output_type": "stream",
          "name": "stderr",
          "text": [
            "WARNING:tensorflow:Can save best model only with val_loss available, skipping.\n"
          ]
        },
        {
          "output_type": "stream",
          "name": "stdout",
          "text": [
            "\b\b\b\b\b\b\b\b\b\b\b\b\b\b\b\b\b\b\b\b\b\b\b\b\b\b\b\b\b\b\b\b\b\b\b\b\b\b\b\b\b\b\b\b\b\b\b\b\b\b\b\b\b\b\b\b\b\b\b\b\b\b\b\b\b\b\b\b\b\b\b\b\b\b\b\b\b\b\b\b\r1/1 [==============================] - 0s 160ms/step - loss: 0.5217 - accuracy: 0.8262\n",
            "Epoch 476/1000\n",
            "1/1 [==============================] - 0s 36ms/step\n",
            "\n",
            "Validation Accuracy: 38.88888888888889 %\n"
          ]
        },
        {
          "output_type": "stream",
          "name": "stderr",
          "text": [
            "WARNING:tensorflow:Can save best model only with val_loss available, skipping.\n"
          ]
        },
        {
          "output_type": "stream",
          "name": "stdout",
          "text": [
            "\b\b\b\b\b\b\b\b\b\b\b\b\b\b\b\b\b\b\b\b\b\b\b\b\b\b\b\b\b\b\b\b\b\b\b\b\b\b\b\b\b\b\b\b\b\b\b\b\b\b\b\b\b\b\b\b\b\b\b\b\b\b\b\b\b\b\b\b\b\b\b\b\b\b\b\b\b\b\b\b\r1/1 [==============================] - 0s 209ms/step - loss: 0.5202 - accuracy: 0.8303\n",
            "Epoch 477/1000\n",
            "1/1 [==============================] - 0s 41ms/step\n",
            "\n",
            "Validation Accuracy: 37.77777777777778 %\n"
          ]
        },
        {
          "output_type": "stream",
          "name": "stderr",
          "text": [
            "WARNING:tensorflow:Can save best model only with val_loss available, skipping.\n"
          ]
        },
        {
          "output_type": "stream",
          "name": "stdout",
          "text": [
            "\b\b\b\b\b\b\b\b\b\b\b\b\b\b\b\b\b\b\b\b\b\b\b\b\b\b\b\b\b\b\b\b\b\b\b\b\b\b\b\b\b\b\b\b\b\b\b\b\b\b\b\b\b\b\b\b\b\b\b\b\b\b\b\b\b\b\b\b\b\b\b\b\b\b\b\b\b\b\b\b\r1/1 [==============================] - 0s 190ms/step - loss: 0.5268 - accuracy: 0.8293\n",
            "Epoch 478/1000\n",
            "1/1 [==============================] - 0s 41ms/step\n",
            "\n",
            "Validation Accuracy: 37.77777777777778 %\n"
          ]
        },
        {
          "output_type": "stream",
          "name": "stderr",
          "text": [
            "WARNING:tensorflow:Can save best model only with val_loss available, skipping.\n"
          ]
        },
        {
          "output_type": "stream",
          "name": "stdout",
          "text": [
            "\b\b\b\b\b\b\b\b\b\b\b\b\b\b\b\b\b\b\b\b\b\b\b\b\b\b\b\b\b\b\b\b\b\b\b\b\b\b\b\b\b\b\b\b\b\b\b\b\b\b\b\b\b\b\b\b\b\b\b\b\b\b\b\b\b\b\b\b\b\b\b\b\b\b\b\b\b\b\b\b\r1/1 [==============================] - 0s 232ms/step - loss: 0.5225 - accuracy: 0.8269\n",
            "Epoch 479/1000\n",
            "1/1 [==============================] - 0s 39ms/step\n",
            "\n",
            "Validation Accuracy: 37.77777777777778 %\n"
          ]
        },
        {
          "output_type": "stream",
          "name": "stderr",
          "text": [
            "WARNING:tensorflow:Can save best model only with val_loss available, skipping.\n"
          ]
        },
        {
          "output_type": "stream",
          "name": "stdout",
          "text": [
            "\b\b\b\b\b\b\b\b\b\b\b\b\b\b\b\b\b\b\b\b\b\b\b\b\b\b\b\b\b\b\b\b\b\b\b\b\b\b\b\b\b\b\b\b\b\b\b\b\b\b\b\b\b\b\b\b\b\b\b\b\b\b\b\b\b\b\b\b\b\b\b\b\b\b\b\b\b\b\b\b\r1/1 [==============================] - 0s 192ms/step - loss: 0.5233 - accuracy: 0.8266\n",
            "Epoch 480/1000\n",
            "1/1 [==============================] - 0s 55ms/step\n",
            "\n",
            "Validation Accuracy: 38.333333333333336 %\n"
          ]
        },
        {
          "output_type": "stream",
          "name": "stderr",
          "text": [
            "WARNING:tensorflow:Can save best model only with val_loss available, skipping.\n"
          ]
        },
        {
          "output_type": "stream",
          "name": "stdout",
          "text": [
            "\b\b\b\b\b\b\b\b\b\b\b\b\b\b\b\b\b\b\b\b\b\b\b\b\b\b\b\b\b\b\b\b\b\b\b\b\b\b\b\b\b\b\b\b\b\b\b\b\b\b\b\b\b\b\b\b\b\b\b\b\b\b\b\b\b\b\b\b\b\b\b\b\b\b\b\b\b\b\b\b\r1/1 [==============================] - 0s 234ms/step - loss: 0.5211 - accuracy: 0.8244\n",
            "Epoch 481/1000\n",
            "1/1 [==============================] - 0s 34ms/step\n",
            "\n",
            "Validation Accuracy: 37.22222222222222 %\n"
          ]
        },
        {
          "output_type": "stream",
          "name": "stderr",
          "text": [
            "WARNING:tensorflow:Can save best model only with val_loss available, skipping.\n"
          ]
        },
        {
          "output_type": "stream",
          "name": "stdout",
          "text": [
            "\b\b\b\b\b\b\b\b\b\b\b\b\b\b\b\b\b\b\b\b\b\b\b\b\b\b\b\b\b\b\b\b\b\b\b\b\b\b\b\b\b\b\b\b\b\b\b\b\b\b\b\b\b\b\b\b\b\b\b\b\b\b\b\b\b\b\b\b\b\b\b\b\b\b\b\b\b\b\b\b\r1/1 [==============================] - 0s 169ms/step - loss: 0.5246 - accuracy: 0.8280\n",
            "Epoch 482/1000\n",
            "1/1 [==============================] - 0s 32ms/step\n",
            "\n",
            "Validation Accuracy: 37.77777777777778 %\n"
          ]
        },
        {
          "output_type": "stream",
          "name": "stderr",
          "text": [
            "WARNING:tensorflow:Can save best model only with val_loss available, skipping.\n"
          ]
        },
        {
          "output_type": "stream",
          "name": "stdout",
          "text": [
            "\b\b\b\b\b\b\b\b\b\b\b\b\b\b\b\b\b\b\b\b\b\b\b\b\b\b\b\b\b\b\b\b\b\b\b\b\b\b\b\b\b\b\b\b\b\b\b\b\b\b\b\b\b\b\b\b\b\b\b\b\b\b\b\b\b\b\b\b\b\b\b\b\b\b\b\b\b\b\b\b\r1/1 [==============================] - 0s 156ms/step - loss: 0.5144 - accuracy: 0.8319\n",
            "Epoch 483/1000\n",
            "1/1 [==============================] - 0s 50ms/step\n",
            "\n",
            "Validation Accuracy: 38.333333333333336 %\n"
          ]
        },
        {
          "output_type": "stream",
          "name": "stderr",
          "text": [
            "WARNING:tensorflow:Can save best model only with val_loss available, skipping.\n"
          ]
        },
        {
          "output_type": "stream",
          "name": "stdout",
          "text": [
            "\b\b\b\b\b\b\b\b\b\b\b\b\b\b\b\b\b\b\b\b\b\b\b\b\b\b\b\b\b\b\b\b\b\b\b\b\b\b\b\b\b\b\b\b\b\b\b\b\b\b\b\b\b\b\b\b\b\b\b\b\b\b\b\b\b\b\b\b\b\b\b\b\b\b\b\b\b\b\b\b\r1/1 [==============================] - 0s 202ms/step - loss: 0.5204 - accuracy: 0.8291\n",
            "Epoch 484/1000\n",
            "1/1 [==============================] - 0s 35ms/step\n",
            "\n",
            "Validation Accuracy: 38.88888888888889 %\n"
          ]
        },
        {
          "output_type": "stream",
          "name": "stderr",
          "text": [
            "WARNING:tensorflow:Can save best model only with val_loss available, skipping.\n"
          ]
        },
        {
          "output_type": "stream",
          "name": "stdout",
          "text": [
            "\b\b\b\b\b\b\b\b\b\b\b\b\b\b\b\b\b\b\b\b\b\b\b\b\b\b\b\b\b\b\b\b\b\b\b\b\b\b\b\b\b\b\b\b\b\b\b\b\b\b\b\b\b\b\b\b\b\b\b\b\b\b\b\b\b\b\b\b\b\b\b\b\b\b\b\b\b\b\b\b\r1/1 [==============================] - 0s 171ms/step - loss: 0.5173 - accuracy: 0.8314\n",
            "Epoch 485/1000\n",
            "1/1 [==============================] - 0s 56ms/step\n",
            "\n",
            "Validation Accuracy: 38.333333333333336 %\n"
          ]
        },
        {
          "output_type": "stream",
          "name": "stderr",
          "text": [
            "WARNING:tensorflow:Can save best model only with val_loss available, skipping.\n"
          ]
        },
        {
          "output_type": "stream",
          "name": "stdout",
          "text": [
            "\b\b\b\b\b\b\b\b\b\b\b\b\b\b\b\b\b\b\b\b\b\b\b\b\b\b\b\b\b\b\b\b\b\b\b\b\b\b\b\b\b\b\b\b\b\b\b\b\b\b\b\b\b\b\b\b\b\b\b\b\b\b\b\b\b\b\b\b\b\b\b\b\b\b\b\b\b\b\b\b\r1/1 [==============================] - 0s 247ms/step - loss: 0.5120 - accuracy: 0.8319\n",
            "Epoch 486/1000\n",
            "1/1 [==============================] - 0s 45ms/step\n",
            "\n",
            "Validation Accuracy: 38.333333333333336 %\n"
          ]
        },
        {
          "output_type": "stream",
          "name": "stderr",
          "text": [
            "WARNING:tensorflow:Can save best model only with val_loss available, skipping.\n"
          ]
        },
        {
          "output_type": "stream",
          "name": "stdout",
          "text": [
            "\b\b\b\b\b\b\b\b\b\b\b\b\b\b\b\b\b\b\b\b\b\b\b\b\b\b\b\b\b\b\b\b\b\b\b\b\b\b\b\b\b\b\b\b\b\b\b\b\b\b\b\b\b\b\b\b\b\b\b\b\b\b\b\b\b\b\b\b\b\b\b\b\b\b\b\b\b\b\b\b\r1/1 [==============================] - 0s 233ms/step - loss: 0.5106 - accuracy: 0.8336\n",
            "Epoch 487/1000\n",
            "1/1 [==============================] - 0s 40ms/step\n",
            "\n",
            "Validation Accuracy: 38.333333333333336 %\n"
          ]
        },
        {
          "output_type": "stream",
          "name": "stderr",
          "text": [
            "WARNING:tensorflow:Can save best model only with val_loss available, skipping.\n"
          ]
        },
        {
          "output_type": "stream",
          "name": "stdout",
          "text": [
            "\b\b\b\b\b\b\b\b\b\b\b\b\b\b\b\b\b\b\b\b\b\b\b\b\b\b\b\b\b\b\b\b\b\b\b\b\b\b\b\b\b\b\b\b\b\b\b\b\b\b\b\b\b\b\b\b\b\b\b\b\b\b\b\b\b\b\b\b\b\b\b\b\b\b\b\b\b\b\b\b\r1/1 [==============================] - 0s 195ms/step - loss: 0.5185 - accuracy: 0.8329\n",
            "Epoch 488/1000\n",
            "1/1 [==============================] - 0s 46ms/step\n",
            "\n",
            "Validation Accuracy: 38.333333333333336 %\n"
          ]
        },
        {
          "output_type": "stream",
          "name": "stderr",
          "text": [
            "WARNING:tensorflow:Can save best model only with val_loss available, skipping.\n"
          ]
        },
        {
          "output_type": "stream",
          "name": "stdout",
          "text": [
            "\b\b\b\b\b\b\b\b\b\b\b\b\b\b\b\b\b\b\b\b\b\b\b\b\b\b\b\b\b\b\b\b\b\b\b\b\b\b\b\b\b\b\b\b\b\b\b\b\b\b\b\b\b\b\b\b\b\b\b\b\b\b\b\b\b\b\b\b\b\b\b\b\b\b\b\b\b\b\b\b\r1/1 [==============================] - 0s 219ms/step - loss: 0.5148 - accuracy: 0.8312\n",
            "Epoch 489/1000\n",
            "1/1 [==============================] - 0s 39ms/step\n",
            "\n",
            "Validation Accuracy: 38.88888888888889 %\n"
          ]
        },
        {
          "output_type": "stream",
          "name": "stderr",
          "text": [
            "WARNING:tensorflow:Can save best model only with val_loss available, skipping.\n"
          ]
        },
        {
          "output_type": "stream",
          "name": "stdout",
          "text": [
            "\b\b\b\b\b\b\b\b\b\b\b\b\b\b\b\b\b\b\b\b\b\b\b\b\b\b\b\b\b\b\b\b\b\b\b\b\b\b\b\b\b\b\b\b\b\b\b\b\b\b\b\b\b\b\b\b\b\b\b\b\b\b\b\b\b\b\b\b\b\b\b\b\b\b\b\b\b\b\b\b\r1/1 [==============================] - 0s 188ms/step - loss: 0.5137 - accuracy: 0.8331\n",
            "Epoch 490/1000\n",
            "1/1 [==============================] - 0s 46ms/step\n",
            "\n",
            "Validation Accuracy: 38.333333333333336 %\n"
          ]
        },
        {
          "output_type": "stream",
          "name": "stderr",
          "text": [
            "WARNING:tensorflow:Can save best model only with val_loss available, skipping.\n"
          ]
        },
        {
          "output_type": "stream",
          "name": "stdout",
          "text": [
            "\b\b\b\b\b\b\b\b\b\b\b\b\b\b\b\b\b\b\b\b\b\b\b\b\b\b\b\b\b\b\b\b\b\b\b\b\b\b\b\b\b\b\b\b\b\b\b\b\b\b\b\b\b\b\b\b\b\b\b\b\b\b\b\b\b\b\b\b\b\b\b\b\b\b\b\b\b\b\b\b\r1/1 [==============================] - 0s 221ms/step - loss: 0.5111 - accuracy: 0.8307\n",
            "Epoch 491/1000\n",
            "1/1 [==============================] - 0s 36ms/step\n",
            "\n",
            "Validation Accuracy: 38.88888888888889 %\n"
          ]
        },
        {
          "output_type": "stream",
          "name": "stderr",
          "text": [
            "WARNING:tensorflow:Can save best model only with val_loss available, skipping.\n"
          ]
        },
        {
          "output_type": "stream",
          "name": "stdout",
          "text": [
            "\b\b\b\b\b\b\b\b\b\b\b\b\b\b\b\b\b\b\b\b\b\b\b\b\b\b\b\b\b\b\b\b\b\b\b\b\b\b\b\b\b\b\b\b\b\b\b\b\b\b\b\b\b\b\b\b\b\b\b\b\b\b\b\b\b\b\b\b\b\b\b\b\b\b\b\b\b\b\b\b\r1/1 [==============================] - 0s 201ms/step - loss: 0.5328 - accuracy: 0.8255\n",
            "Epoch 492/1000\n",
            "1/1 [==============================] - 0s 49ms/step\n",
            "\n",
            "Validation Accuracy: 38.88888888888889 %\n"
          ]
        },
        {
          "output_type": "stream",
          "name": "stderr",
          "text": [
            "WARNING:tensorflow:Can save best model only with val_loss available, skipping.\n"
          ]
        },
        {
          "output_type": "stream",
          "name": "stdout",
          "text": [
            "\b\b\b\b\b\b\b\b\b\b\b\b\b\b\b\b\b\b\b\b\b\b\b\b\b\b\b\b\b\b\b\b\b\b\b\b\b\b\b\b\b\b\b\b\b\b\b\b\b\b\b\b\b\b\b\b\b\b\b\b\b\b\b\b\b\b\b\b\b\b\b\b\b\b\b\b\b\b\b\b\r1/1 [==============================] - 0s 238ms/step - loss: 0.5082 - accuracy: 0.8377\n",
            "Epoch 493/1000\n",
            "1/1 [==============================] - 0s 29ms/step\n",
            "\n",
            "Validation Accuracy: 38.333333333333336 %\n"
          ]
        },
        {
          "output_type": "stream",
          "name": "stderr",
          "text": [
            "WARNING:tensorflow:Can save best model only with val_loss available, skipping.\n"
          ]
        },
        {
          "output_type": "stream",
          "name": "stdout",
          "text": [
            "\b\b\b\b\b\b\b\b\b\b\b\b\b\b\b\b\b\b\b\b\b\b\b\b\b\b\b\b\b\b\b\b\b\b\b\b\b\b\b\b\b\b\b\b\b\b\b\b\b\b\b\b\b\b\b\b\b\b\b\b\b\b\b\b\b\b\b\b\b\b\b\b\b\b\b\b\b\b\b\b\r1/1 [==============================] - 0s 161ms/step - loss: 0.5079 - accuracy: 0.8347\n",
            "Epoch 494/1000\n",
            "1/1 [==============================] - 0s 43ms/step\n",
            "\n",
            "Validation Accuracy: 38.88888888888889 %\n"
          ]
        },
        {
          "output_type": "stream",
          "name": "stderr",
          "text": [
            "WARNING:tensorflow:Can save best model only with val_loss available, skipping.\n"
          ]
        },
        {
          "output_type": "stream",
          "name": "stdout",
          "text": [
            "\b\b\b\b\b\b\b\b\b\b\b\b\b\b\b\b\b\b\b\b\b\b\b\b\b\b\b\b\b\b\b\b\b\b\b\b\b\b\b\b\b\b\b\b\b\b\b\b\b\b\b\b\b\b\b\b\b\b\b\b\b\b\b\b\b\b\b\b\b\b\b\b\b\b\b\b\b\b\b\b\r1/1 [==============================] - 0s 231ms/step - loss: 0.5134 - accuracy: 0.8304\n",
            "Epoch 495/1000\n",
            "1/1 [==============================] - 0s 33ms/step\n",
            "\n",
            "Validation Accuracy: 38.88888888888889 %\n"
          ]
        },
        {
          "output_type": "stream",
          "name": "stderr",
          "text": [
            "WARNING:tensorflow:Can save best model only with val_loss available, skipping.\n"
          ]
        },
        {
          "output_type": "stream",
          "name": "stdout",
          "text": [
            "\b\b\b\b\b\b\b\b\b\b\b\b\b\b\b\b\b\b\b\b\b\b\b\b\b\b\b\b\b\b\b\b\b\b\b\b\b\b\b\b\b\b\b\b\b\b\b\b\b\b\b\b\b\b\b\b\b\b\b\b\b\b\b\b\b\b\b\b\b\b\b\b\b\b\b\b\b\b\b\b\r1/1 [==============================] - 0s 166ms/step - loss: 0.5178 - accuracy: 0.8331\n",
            "Epoch 496/1000\n",
            "1/1 [==============================] - 0s 34ms/step\n",
            "\n",
            "Validation Accuracy: 38.333333333333336 %\n"
          ]
        },
        {
          "output_type": "stream",
          "name": "stderr",
          "text": [
            "WARNING:tensorflow:Can save best model only with val_loss available, skipping.\n"
          ]
        },
        {
          "output_type": "stream",
          "name": "stdout",
          "text": [
            "\b\b\b\b\b\b\b\b\b\b\b\b\b\b\b\b\b\b\b\b\b\b\b\b\b\b\b\b\b\b\b\b\b\b\b\b\b\b\b\b\b\b\b\b\b\b\b\b\b\b\b\b\b\b\b\b\b\b\b\b\b\b\b\b\b\b\b\b\b\b\b\b\b\b\b\b\b\b\b\b\r1/1 [==============================] - 0s 209ms/step - loss: 0.5090 - accuracy: 0.8314\n",
            "Epoch 497/1000\n",
            "1/1 [==============================] - 0s 32ms/step\n",
            "\n",
            "Validation Accuracy: 38.88888888888889 %\n"
          ]
        },
        {
          "output_type": "stream",
          "name": "stderr",
          "text": [
            "WARNING:tensorflow:Can save best model only with val_loss available, skipping.\n"
          ]
        },
        {
          "output_type": "stream",
          "name": "stdout",
          "text": [
            "\b\b\b\b\b\b\b\b\b\b\b\b\b\b\b\b\b\b\b\b\b\b\b\b\b\b\b\b\b\b\b\b\b\b\b\b\b\b\b\b\b\b\b\b\b\b\b\b\b\b\b\b\b\b\b\b\b\b\b\b\b\b\b\b\b\b\b\b\b\b\b\b\b\b\b\b\b\b\b\b\r1/1 [==============================] - 0s 182ms/step - loss: 0.5038 - accuracy: 0.8356\n",
            "Epoch 498/1000\n",
            "1/1 [==============================] - 0s 45ms/step\n",
            "\n",
            "Validation Accuracy: 38.88888888888889 %\n"
          ]
        },
        {
          "output_type": "stream",
          "name": "stderr",
          "text": [
            "WARNING:tensorflow:Can save best model only with val_loss available, skipping.\n"
          ]
        },
        {
          "output_type": "stream",
          "name": "stdout",
          "text": [
            "\b\b\b\b\b\b\b\b\b\b\b\b\b\b\b\b\b\b\b\b\b\b\b\b\b\b\b\b\b\b\b\b\b\b\b\b\b\b\b\b\b\b\b\b\b\b\b\b\b\b\b\b\b\b\b\b\b\b\b\b\b\b\b\b\b\b\b\b\b\b\b\b\b\b\b\b\b\b\b\b\r1/1 [==============================] - 0s 227ms/step - loss: 0.5095 - accuracy: 0.8325\n",
            "Epoch 499/1000\n",
            "1/1 [==============================] - 0s 28ms/step\n",
            "\n",
            "Validation Accuracy: 38.333333333333336 %\n"
          ]
        },
        {
          "output_type": "stream",
          "name": "stderr",
          "text": [
            "WARNING:tensorflow:Can save best model only with val_loss available, skipping.\n"
          ]
        },
        {
          "output_type": "stream",
          "name": "stdout",
          "text": [
            "\b\b\b\b\b\b\b\b\b\b\b\b\b\b\b\b\b\b\b\b\b\b\b\b\b\b\b\b\b\b\b\b\b\b\b\b\b\b\b\b\b\b\b\b\b\b\b\b\b\b\b\b\b\b\b\b\b\b\b\b\b\b\b\b\b\b\b\b\b\b\b\b\b\b\b\b\b\b\b\b\r1/1 [==============================] - 0s 185ms/step - loss: 0.5123 - accuracy: 0.8318\n",
            "Epoch 500/1000\n",
            "1/1 [==============================] - 0s 29ms/step\n",
            "\n",
            "Validation Accuracy: 37.77777777777778 %\n"
          ]
        },
        {
          "output_type": "stream",
          "name": "stderr",
          "text": [
            "WARNING:tensorflow:Can save best model only with val_loss available, skipping.\n"
          ]
        },
        {
          "output_type": "stream",
          "name": "stdout",
          "text": [
            "\b\b\b\b\b\b\b\b\b\b\b\b\b\b\b\b\b\b\b\b\b\b\b\b\b\b\b\b\b\b\b\b\b\b\b\b\b\b\b\b\b\b\b\b\b\b\b\b\b\b\b\b\b\b\b\b\b\b\b\b\b\b\b\b\b\b\b\b\b\b\b\b\b\b\b\b\b\b\b\b\r1/1 [==============================] - 0s 154ms/step - loss: 0.5058 - accuracy: 0.8388\n",
            "Epoch 501/1000\n",
            "1/1 [==============================] - 0s 37ms/step\n",
            "\n",
            "Validation Accuracy: 37.77777777777778 %\n"
          ]
        },
        {
          "output_type": "stream",
          "name": "stderr",
          "text": [
            "WARNING:tensorflow:Can save best model only with val_loss available, skipping.\n"
          ]
        },
        {
          "output_type": "stream",
          "name": "stdout",
          "text": [
            "\b\b\b\b\b\b\b\b\b\b\b\b\b\b\b\b\b\b\b\b\b\b\b\b\b\b\b\b\b\b\b\b\b\b\b\b\b\b\b\b\b\b\b\b\b\b\b\b\b\b\b\b\b\b\b\b\b\b\b\b\b\b\b\b\b\b\b\b\b\b\b\b\b\b\b\b\b\b\b\b\r1/1 [==============================] - 0s 210ms/step - loss: 0.5031 - accuracy: 0.8336\n",
            "Epoch 502/1000\n",
            "1/1 [==============================] - 0s 41ms/step\n",
            "\n",
            "Validation Accuracy: 38.88888888888889 %\n"
          ]
        },
        {
          "output_type": "stream",
          "name": "stderr",
          "text": [
            "WARNING:tensorflow:Can save best model only with val_loss available, skipping.\n"
          ]
        },
        {
          "output_type": "stream",
          "name": "stdout",
          "text": [
            "\b\b\b\b\b\b\b\b\b\b\b\b\b\b\b\b\b\b\b\b\b\b\b\b\b\b\b\b\b\b\b\b\b\b\b\b\b\b\b\b\b\b\b\b\b\b\b\b\b\b\b\b\b\b\b\b\b\b\b\b\b\b\b\b\b\b\b\b\b\b\b\b\b\b\b\b\b\b\b\b\r1/1 [==============================] - 0s 178ms/step - loss: 0.5072 - accuracy: 0.8329\n",
            "Epoch 503/1000\n",
            "1/1 [==============================] - 0s 68ms/step\n",
            "\n",
            "Validation Accuracy: 38.333333333333336 %\n"
          ]
        },
        {
          "output_type": "stream",
          "name": "stderr",
          "text": [
            "WARNING:tensorflow:Can save best model only with val_loss available, skipping.\n"
          ]
        },
        {
          "output_type": "stream",
          "name": "stdout",
          "text": [
            "\b\b\b\b\b\b\b\b\b\b\b\b\b\b\b\b\b\b\b\b\b\b\b\b\b\b\b\b\b\b\b\b\b\b\b\b\b\b\b\b\b\b\b\b\b\b\b\b\b\b\b\b\b\b\b\b\b\b\b\b\b\b\b\b\b\b\b\b\b\b\b\b\b\b\b\b\b\b\b\b\r1/1 [==============================] - 0s 260ms/step - loss: 0.5091 - accuracy: 0.8329\n",
            "Epoch 504/1000\n",
            "1/1 [==============================] - 0s 47ms/step\n",
            "\n",
            "Validation Accuracy: 38.88888888888889 %\n"
          ]
        },
        {
          "output_type": "stream",
          "name": "stderr",
          "text": [
            "WARNING:tensorflow:Can save best model only with val_loss available, skipping.\n"
          ]
        },
        {
          "output_type": "stream",
          "name": "stdout",
          "text": [
            "\b\b\b\b\b\b\b\b\b\b\b\b\b\b\b\b\b\b\b\b\b\b\b\b\b\b\b\b\b\b\b\b\b\b\b\b\b\b\b\b\b\b\b\b\b\b\b\b\b\b\b\b\b\b\b\b\b\b\b\b\b\b\b\b\b\b\b\b\b\b\b\b\b\b\b\b\b\b\b\b\r1/1 [==============================] - 0s 214ms/step - loss: 0.5084 - accuracy: 0.8315\n",
            "Epoch 505/1000\n",
            "1/1 [==============================] - 0s 41ms/step\n",
            "\n",
            "Validation Accuracy: 38.333333333333336 %\n"
          ]
        },
        {
          "output_type": "stream",
          "name": "stderr",
          "text": [
            "WARNING:tensorflow:Can save best model only with val_loss available, skipping.\n"
          ]
        },
        {
          "output_type": "stream",
          "name": "stdout",
          "text": [
            "\b\b\b\b\b\b\b\b\b\b\b\b\b\b\b\b\b\b\b\b\b\b\b\b\b\b\b\b\b\b\b\b\b\b\b\b\b\b\b\b\b\b\b\b\b\b\b\b\b\b\b\b\b\b\b\b\b\b\b\b\b\b\b\b\b\b\b\b\b\b\b\b\b\b\b\b\b\b\b\b\r1/1 [==============================] - 0s 213ms/step - loss: 0.5066 - accuracy: 0.8343\n",
            "Epoch 506/1000\n",
            "1/1 [==============================] - 0s 45ms/step\n",
            "\n",
            "Validation Accuracy: 38.333333333333336 %\n"
          ]
        },
        {
          "output_type": "stream",
          "name": "stderr",
          "text": [
            "WARNING:tensorflow:Can save best model only with val_loss available, skipping.\n"
          ]
        },
        {
          "output_type": "stream",
          "name": "stdout",
          "text": [
            "\b\b\b\b\b\b\b\b\b\b\b\b\b\b\b\b\b\b\b\b\b\b\b\b\b\b\b\b\b\b\b\b\b\b\b\b\b\b\b\b\b\b\b\b\b\b\b\b\b\b\b\b\b\b\b\b\b\b\b\b\b\b\b\b\b\b\b\b\b\b\b\b\b\b\b\b\b\b\b\b\r1/1 [==============================] - 0s 241ms/step - loss: 0.5072 - accuracy: 0.8349\n",
            "Epoch 507/1000\n",
            "1/1 [==============================] - 0s 49ms/step\n",
            "\n",
            "Validation Accuracy: 38.88888888888889 %\n"
          ]
        },
        {
          "output_type": "stream",
          "name": "stderr",
          "text": [
            "WARNING:tensorflow:Can save best model only with val_loss available, skipping.\n"
          ]
        },
        {
          "output_type": "stream",
          "name": "stdout",
          "text": [
            "\b\b\b\b\b\b\b\b\b\b\b\b\b\b\b\b\b\b\b\b\b\b\b\b\b\b\b\b\b\b\b\b\b\b\b\b\b\b\b\b\b\b\b\b\b\b\b\b\b\b\b\b\b\b\b\b\b\b\b\b\b\b\b\b\b\b\b\b\b\b\b\b\b\b\b\b\b\b\b\b\r1/1 [==============================] - 0s 214ms/step - loss: 0.5021 - accuracy: 0.8389\n",
            "Epoch 508/1000\n",
            "1/1 [==============================] - 0s 46ms/step\n",
            "\n",
            "Validation Accuracy: 38.333333333333336 %\n"
          ]
        },
        {
          "output_type": "stream",
          "name": "stderr",
          "text": [
            "WARNING:tensorflow:Can save best model only with val_loss available, skipping.\n"
          ]
        },
        {
          "output_type": "stream",
          "name": "stdout",
          "text": [
            "\b\b\b\b\b\b\b\b\b\b\b\b\b\b\b\b\b\b\b\b\b\b\b\b\b\b\b\b\b\b\b\b\b\b\b\b\b\b\b\b\b\b\b\b\b\b\b\b\b\b\b\b\b\b\b\b\b\b\b\b\b\b\b\b\b\b\b\b\b\b\b\b\b\b\b\b\b\b\b\b\r1/1 [==============================] - 0s 216ms/step - loss: 0.5148 - accuracy: 0.8287\n",
            "Epoch 509/1000\n",
            "1/1 [==============================] - 0s 31ms/step\n",
            "\n",
            "Validation Accuracy: 38.333333333333336 %\n"
          ]
        },
        {
          "output_type": "stream",
          "name": "stderr",
          "text": [
            "WARNING:tensorflow:Can save best model only with val_loss available, skipping.\n"
          ]
        },
        {
          "output_type": "stream",
          "name": "stdout",
          "text": [
            "\b\b\b\b\b\b\b\b\b\b\b\b\b\b\b\b\b\b\b\b\b\b\b\b\b\b\b\b\b\b\b\b\b\b\b\b\b\b\b\b\b\b\b\b\b\b\b\b\b\b\b\b\b\b\b\b\b\b\b\b\b\b\b\b\b\b\b\b\b\b\b\b\b\b\b\b\b\b\b\b\r1/1 [==============================] - 0s 175ms/step - loss: 0.5115 - accuracy: 0.8332\n",
            "Epoch 510/1000\n",
            "1/1 [==============================] - 0s 37ms/step\n",
            "\n",
            "Validation Accuracy: 38.333333333333336 %\n"
          ]
        },
        {
          "output_type": "stream",
          "name": "stderr",
          "text": [
            "WARNING:tensorflow:Can save best model only with val_loss available, skipping.\n"
          ]
        },
        {
          "output_type": "stream",
          "name": "stdout",
          "text": [
            "\b\b\b\b\b\b\b\b\b\b\b\b\b\b\b\b\b\b\b\b\b\b\b\b\b\b\b\b\b\b\b\b\b\b\b\b\b\b\b\b\b\b\b\b\b\b\b\b\b\b\b\b\b\b\b\b\b\b\b\b\b\b\b\b\b\b\b\b\b\b\b\b\b\b\b\b\b\b\b\b\r1/1 [==============================] - 0s 223ms/step - loss: 0.5019 - accuracy: 0.8328\n",
            "Epoch 511/1000\n",
            "1/1 [==============================] - 0s 28ms/step\n",
            "\n",
            "Validation Accuracy: 38.333333333333336 %\n"
          ]
        },
        {
          "output_type": "stream",
          "name": "stderr",
          "text": [
            "WARNING:tensorflow:Can save best model only with val_loss available, skipping.\n"
          ]
        },
        {
          "output_type": "stream",
          "name": "stdout",
          "text": [
            "\b\b\b\b\b\b\b\b\b\b\b\b\b\b\b\b\b\b\b\b\b\b\b\b\b\b\b\b\b\b\b\b\b\b\b\b\b\b\b\b\b\b\b\b\b\b\b\b\b\b\b\b\b\b\b\b\b\b\b\b\b\b\b\b\b\b\b\b\b\b\b\b\b\b\b\b\b\b\b\b\r1/1 [==============================] - 0s 146ms/step - loss: 0.5020 - accuracy: 0.8338\n",
            "Epoch 512/1000\n",
            "1/1 [==============================] - 0s 36ms/step\n",
            "\n",
            "Validation Accuracy: 38.333333333333336 %\n"
          ]
        },
        {
          "output_type": "stream",
          "name": "stderr",
          "text": [
            "WARNING:tensorflow:Can save best model only with val_loss available, skipping.\n"
          ]
        },
        {
          "output_type": "stream",
          "name": "stdout",
          "text": [
            "\b\b\b\b\b\b\b\b\b\b\b\b\b\b\b\b\b\b\b\b\b\b\b\b\b\b\b\b\b\b\b\b\b\b\b\b\b\b\b\b\b\b\b\b\b\b\b\b\b\b\b\b\b\b\b\b\b\b\b\b\b\b\b\b\b\b\b\b\b\b\b\b\b\b\b\b\b\b\b\b\r1/1 [==============================] - 0s 184ms/step - loss: 0.5052 - accuracy: 0.8373\n",
            "Epoch 513/1000\n",
            "1/1 [==============================] - 0s 34ms/step\n",
            "\n",
            "Validation Accuracy: 38.333333333333336 %\n"
          ]
        },
        {
          "output_type": "stream",
          "name": "stderr",
          "text": [
            "WARNING:tensorflow:Can save best model only with val_loss available, skipping.\n"
          ]
        },
        {
          "output_type": "stream",
          "name": "stdout",
          "text": [
            "\b\b\b\b\b\b\b\b\b\b\b\b\b\b\b\b\b\b\b\b\b\b\b\b\b\b\b\b\b\b\b\b\b\b\b\b\b\b\b\b\b\b\b\b\b\b\b\b\b\b\b\b\b\b\b\b\b\b\b\b\b\b\b\b\b\b\b\b\b\b\b\b\b\b\b\b\b\b\b\b\r1/1 [==============================] - 0s 172ms/step - loss: 0.5034 - accuracy: 0.8381\n",
            "Epoch 514/1000\n",
            "1/1 [==============================] - 0s 30ms/step\n",
            "\n",
            "Validation Accuracy: 38.333333333333336 %\n"
          ]
        },
        {
          "output_type": "stream",
          "name": "stderr",
          "text": [
            "WARNING:tensorflow:Can save best model only with val_loss available, skipping.\n"
          ]
        },
        {
          "output_type": "stream",
          "name": "stdout",
          "text": [
            "\b\b\b\b\b\b\b\b\b\b\b\b\b\b\b\b\b\b\b\b\b\b\b\b\b\b\b\b\b\b\b\b\b\b\b\b\b\b\b\b\b\b\b\b\b\b\b\b\b\b\b\b\b\b\b\b\b\b\b\b\b\b\b\b\b\b\b\b\b\b\b\b\b\b\b\b\b\b\b\b\r1/1 [==============================] - 0s 175ms/step - loss: 0.5054 - accuracy: 0.8359\n",
            "Epoch 515/1000\n",
            "1/1 [==============================] - 0s 38ms/step\n",
            "\n",
            "Validation Accuracy: 38.333333333333336 %\n"
          ]
        },
        {
          "output_type": "stream",
          "name": "stderr",
          "text": [
            "WARNING:tensorflow:Can save best model only with val_loss available, skipping.\n"
          ]
        },
        {
          "output_type": "stream",
          "name": "stdout",
          "text": [
            "\b\b\b\b\b\b\b\b\b\b\b\b\b\b\b\b\b\b\b\b\b\b\b\b\b\b\b\b\b\b\b\b\b\b\b\b\b\b\b\b\b\b\b\b\b\b\b\b\b\b\b\b\b\b\b\b\b\b\b\b\b\b\b\b\b\b\b\b\b\b\b\b\b\b\b\b\b\b\b\b\r1/1 [==============================] - 0s 167ms/step - loss: 0.5028 - accuracy: 0.8360\n",
            "Epoch 516/1000\n",
            "1/1 [==============================] - 0s 26ms/step\n",
            "\n",
            "Validation Accuracy: 38.333333333333336 %\n"
          ]
        },
        {
          "output_type": "stream",
          "name": "stderr",
          "text": [
            "WARNING:tensorflow:Can save best model only with val_loss available, skipping.\n"
          ]
        },
        {
          "output_type": "stream",
          "name": "stdout",
          "text": [
            "\b\b\b\b\b\b\b\b\b\b\b\b\b\b\b\b\b\b\b\b\b\b\b\b\b\b\b\b\b\b\b\b\b\b\b\b\b\b\b\b\b\b\b\b\b\b\b\b\b\b\b\b\b\b\b\b\b\b\b\b\b\b\b\b\b\b\b\b\b\b\b\b\b\b\b\b\b\b\b\b\r1/1 [==============================] - 0s 142ms/step - loss: 0.5052 - accuracy: 0.8347\n",
            "Epoch 517/1000\n",
            "1/1 [==============================] - 0s 28ms/step\n",
            "\n",
            "Validation Accuracy: 38.333333333333336 %\n"
          ]
        },
        {
          "output_type": "stream",
          "name": "stderr",
          "text": [
            "WARNING:tensorflow:Can save best model only with val_loss available, skipping.\n"
          ]
        },
        {
          "output_type": "stream",
          "name": "stdout",
          "text": [
            "\b\b\b\b\b\b\b\b\b\b\b\b\b\b\b\b\b\b\b\b\b\b\b\b\b\b\b\b\b\b\b\b\b\b\b\b\b\b\b\b\b\b\b\b\b\b\b\b\b\b\b\b\b\b\b\b\b\b\b\b\b\b\b\b\b\b\b\b\b\b\b\b\b\b\b\b\b\b\b\b\r1/1 [==============================] - 0s 150ms/step - loss: 0.5007 - accuracy: 0.8361\n",
            "Epoch 518/1000\n",
            "1/1 [==============================] - 0s 36ms/step\n",
            "\n",
            "Validation Accuracy: 38.88888888888889 %\n"
          ]
        },
        {
          "output_type": "stream",
          "name": "stderr",
          "text": [
            "WARNING:tensorflow:Can save best model only with val_loss available, skipping.\n"
          ]
        },
        {
          "output_type": "stream",
          "name": "stdout",
          "text": [
            "\b\b\b\b\b\b\b\b\b\b\b\b\b\b\b\b\b\b\b\b\b\b\b\b\b\b\b\b\b\b\b\b\b\b\b\b\b\b\b\b\b\b\b\b\b\b\b\b\b\b\b\b\b\b\b\b\b\b\b\b\b\b\b\b\b\b\b\b\b\b\b\b\b\b\b\b\b\b\b\b\r1/1 [==============================] - 0s 164ms/step - loss: 0.4997 - accuracy: 0.8349\n",
            "Epoch 519/1000\n",
            "1/1 [==============================] - 0s 30ms/step\n",
            "\n",
            "Validation Accuracy: 38.88888888888889 %\n"
          ]
        },
        {
          "output_type": "stream",
          "name": "stderr",
          "text": [
            "WARNING:tensorflow:Can save best model only with val_loss available, skipping.\n"
          ]
        },
        {
          "output_type": "stream",
          "name": "stdout",
          "text": [
            "\b\b\b\b\b\b\b\b\b\b\b\b\b\b\b\b\b\b\b\b\b\b\b\b\b\b\b\b\b\b\b\b\b\b\b\b\b\b\b\b\b\b\b\b\b\b\b\b\b\b\b\b\b\b\b\b\b\b\b\b\b\b\b\b\b\b\b\b\b\b\b\b\b\b\b\b\b\b\b\b\r1/1 [==============================] - 0s 176ms/step - loss: 0.5088 - accuracy: 0.8346\n",
            "Epoch 520/1000\n",
            "1/1 [==============================] - 0s 31ms/step\n",
            "\n",
            "Validation Accuracy: 38.88888888888889 %\n"
          ]
        },
        {
          "output_type": "stream",
          "name": "stderr",
          "text": [
            "WARNING:tensorflow:Can save best model only with val_loss available, skipping.\n"
          ]
        },
        {
          "output_type": "stream",
          "name": "stdout",
          "text": [
            "\b\b\b\b\b\b\b\b\b\b\b\b\b\b\b\b\b\b\b\b\b\b\b\b\b\b\b\b\b\b\b\b\b\b\b\b\b\b\b\b\b\b\b\b\b\b\b\b\b\b\b\b\b\b\b\b\b\b\b\b\b\b\b\b\b\b\b\b\b\b\b\b\b\b\b\b\b\b\b\b\r1/1 [==============================] - 0s 154ms/step - loss: 0.5086 - accuracy: 0.8340\n",
            "Epoch 521/1000\n",
            "1/1 [==============================] - 0s 20ms/step\n",
            "\n",
            "Validation Accuracy: 38.88888888888889 %\n"
          ]
        },
        {
          "output_type": "stream",
          "name": "stderr",
          "text": [
            "WARNING:tensorflow:Can save best model only with val_loss available, skipping.\n"
          ]
        },
        {
          "output_type": "stream",
          "name": "stdout",
          "text": [
            "\b\b\b\b\b\b\b\b\b\b\b\b\b\b\b\b\b\b\b\b\b\b\b\b\b\b\b\b\b\b\b\b\b\b\b\b\b\b\b\b\b\b\b\b\b\b\b\b\b\b\b\b\b\b\b\b\b\b\b\b\b\b\b\b\b\b\b\b\b\b\b\b\b\b\b\b\b\b\b\b\r1/1 [==============================] - 0s 158ms/step - loss: 0.5052 - accuracy: 0.8377\n",
            "Epoch 522/1000\n",
            "1/1 [==============================] - 0s 20ms/step\n",
            "\n",
            "Validation Accuracy: 38.88888888888889 %\n"
          ]
        },
        {
          "output_type": "stream",
          "name": "stderr",
          "text": [
            "WARNING:tensorflow:Can save best model only with val_loss available, skipping.\n"
          ]
        },
        {
          "output_type": "stream",
          "name": "stdout",
          "text": [
            "\b\b\b\b\b\b\b\b\b\b\b\b\b\b\b\b\b\b\b\b\b\b\b\b\b\b\b\b\b\b\b\b\b\b\b\b\b\b\b\b\b\b\b\b\b\b\b\b\b\b\b\b\b\b\b\b\b\b\b\b\b\b\b\b\b\b\b\b\b\b\b\b\b\b\b\b\b\b\b\b\r1/1 [==============================] - 0s 141ms/step - loss: 0.5006 - accuracy: 0.8342\n",
            "Epoch 523/1000\n",
            "1/1 [==============================] - 0s 20ms/step\n",
            "\n",
            "Validation Accuracy: 38.88888888888889 %\n"
          ]
        },
        {
          "output_type": "stream",
          "name": "stderr",
          "text": [
            "WARNING:tensorflow:Can save best model only with val_loss available, skipping.\n"
          ]
        },
        {
          "output_type": "stream",
          "name": "stdout",
          "text": [
            "\b\b\b\b\b\b\b\b\b\b\b\b\b\b\b\b\b\b\b\b\b\b\b\b\b\b\b\b\b\b\b\b\b\b\b\b\b\b\b\b\b\b\b\b\b\b\b\b\b\b\b\b\b\b\b\b\b\b\b\b\b\b\b\b\b\b\b\b\b\b\b\b\b\b\b\b\b\b\b\b\r1/1 [==============================] - 0s 146ms/step - loss: 0.5076 - accuracy: 0.8363\n",
            "Epoch 524/1000\n",
            "1/1 [==============================] - 0s 19ms/step\n",
            "\n",
            "Validation Accuracy: 38.88888888888889 %\n"
          ]
        },
        {
          "output_type": "stream",
          "name": "stderr",
          "text": [
            "WARNING:tensorflow:Can save best model only with val_loss available, skipping.\n"
          ]
        },
        {
          "output_type": "stream",
          "name": "stdout",
          "text": [
            "\b\b\b\b\b\b\b\b\b\b\b\b\b\b\b\b\b\b\b\b\b\b\b\b\b\b\b\b\b\b\b\b\b\b\b\b\b\b\b\b\b\b\b\b\b\b\b\b\b\b\b\b\b\b\b\b\b\b\b\b\b\b\b\b\b\b\b\b\b\b\b\b\b\b\b\b\b\b\b\b\r1/1 [==============================] - 0s 157ms/step - loss: 0.5037 - accuracy: 0.8331\n",
            "Epoch 525/1000\n",
            "1/1 [==============================] - 0s 23ms/step\n",
            "\n",
            "Validation Accuracy: 39.44444444444444 %\n"
          ]
        },
        {
          "output_type": "stream",
          "name": "stderr",
          "text": [
            "WARNING:tensorflow:Can save best model only with val_loss available, skipping.\n"
          ]
        },
        {
          "output_type": "stream",
          "name": "stdout",
          "text": [
            "\b\b\b\b\b\b\b\b\b\b\b\b\b\b\b\b\b\b\b\b\b\b\b\b\b\b\b\b\b\b\b\b\b\b\b\b\b\b\b\b\b\b\b\b\b\b\b\b\b\b\b\b\b\b\b\b\b\b\b\b\b\b\b\b\b\b\b\b\b\b\b\b\b\b\b\b\b\b\b\b\r1/1 [==============================] - 0s 146ms/step - loss: 0.5103 - accuracy: 0.8305\n",
            "Epoch 526/1000\n",
            "1/1 [==============================] - 0s 22ms/step\n",
            "\n",
            "Validation Accuracy: 38.88888888888889 %\n"
          ]
        },
        {
          "output_type": "stream",
          "name": "stderr",
          "text": [
            "WARNING:tensorflow:Can save best model only with val_loss available, skipping.\n"
          ]
        },
        {
          "output_type": "stream",
          "name": "stdout",
          "text": [
            "\b\b\b\b\b\b\b\b\b\b\b\b\b\b\b\b\b\b\b\b\b\b\b\b\b\b\b\b\b\b\b\b\b\b\b\b\b\b\b\b\b\b\b\b\b\b\b\b\b\b\b\b\b\b\b\b\b\b\b\b\b\b\b\b\b\b\b\b\b\b\b\b\b\b\b\b\b\b\b\b\r1/1 [==============================] - 0s 148ms/step - loss: 0.4931 - accuracy: 0.8380\n",
            "Epoch 527/1000\n",
            "1/1 [==============================] - 0s 32ms/step\n",
            "\n",
            "Validation Accuracy: 38.333333333333336 %\n"
          ]
        },
        {
          "output_type": "stream",
          "name": "stderr",
          "text": [
            "WARNING:tensorflow:Can save best model only with val_loss available, skipping.\n"
          ]
        },
        {
          "output_type": "stream",
          "name": "stdout",
          "text": [
            "\b\b\b\b\b\b\b\b\b\b\b\b\b\b\b\b\b\b\b\b\b\b\b\b\b\b\b\b\b\b\b\b\b\b\b\b\b\b\b\b\b\b\b\b\b\b\b\b\b\b\b\b\b\b\b\b\b\b\b\b\b\b\b\b\b\b\b\b\b\b\b\b\b\b\b\b\b\b\b\b\r1/1 [==============================] - 0s 166ms/step - loss: 0.5039 - accuracy: 0.8322\n",
            "Epoch 528/1000\n",
            "1/1 [==============================] - 0s 28ms/step\n",
            "\n",
            "Validation Accuracy: 37.77777777777778 %\n"
          ]
        },
        {
          "output_type": "stream",
          "name": "stderr",
          "text": [
            "WARNING:tensorflow:Can save best model only with val_loss available, skipping.\n"
          ]
        },
        {
          "output_type": "stream",
          "name": "stdout",
          "text": [
            "\b\b\b\b\b\b\b\b\b\b\b\b\b\b\b\b\b\b\b\b\b\b\b\b\b\b\b\b\b\b\b\b\b\b\b\b\b\b\b\b\b\b\b\b\b\b\b\b\b\b\b\b\b\b\b\b\b\b\b\b\b\b\b\b\b\b\b\b\b\b\b\b\b\b\b\b\b\b\b\b\r1/1 [==============================] - 0s 153ms/step - loss: 0.4966 - accuracy: 0.8401\n",
            "Epoch 529/1000\n",
            "1/1 [==============================] - 0s 24ms/step\n",
            "\n",
            "Validation Accuracy: 37.77777777777778 %\n"
          ]
        },
        {
          "output_type": "stream",
          "name": "stderr",
          "text": [
            "WARNING:tensorflow:Can save best model only with val_loss available, skipping.\n"
          ]
        },
        {
          "output_type": "stream",
          "name": "stdout",
          "text": [
            "\b\b\b\b\b\b\b\b\b\b\b\b\b\b\b\b\b\b\b\b\b\b\b\b\b\b\b\b\b\b\b\b\b\b\b\b\b\b\b\b\b\b\b\b\b\b\b\b\b\b\b\b\b\b\b\b\b\b\b\b\b\b\b\b\b\b\b\b\b\b\b\b\b\b\b\b\b\b\b\b\r1/1 [==============================] - 0s 161ms/step - loss: 0.4993 - accuracy: 0.8308\n",
            "Epoch 530/1000\n",
            "1/1 [==============================] - 0s 23ms/step\n",
            "\n",
            "Validation Accuracy: 37.77777777777778 %\n"
          ]
        },
        {
          "output_type": "stream",
          "name": "stderr",
          "text": [
            "WARNING:tensorflow:Can save best model only with val_loss available, skipping.\n"
          ]
        },
        {
          "output_type": "stream",
          "name": "stdout",
          "text": [
            "\b\b\b\b\b\b\b\b\b\b\b\b\b\b\b\b\b\b\b\b\b\b\b\b\b\b\b\b\b\b\b\b\b\b\b\b\b\b\b\b\b\b\b\b\b\b\b\b\b\b\b\b\b\b\b\b\b\b\b\b\b\b\b\b\b\b\b\b\b\b\b\b\b\b\b\b\b\b\b\b\r1/1 [==============================] - 0s 165ms/step - loss: 0.4987 - accuracy: 0.8406\n",
            "Epoch 531/1000\n",
            "1/1 [==============================] - 0s 22ms/step\n",
            "\n",
            "Validation Accuracy: 37.77777777777778 %\n"
          ]
        },
        {
          "output_type": "stream",
          "name": "stderr",
          "text": [
            "WARNING:tensorflow:Can save best model only with val_loss available, skipping.\n"
          ]
        },
        {
          "output_type": "stream",
          "name": "stdout",
          "text": [
            "\b\b\b\b\b\b\b\b\b\b\b\b\b\b\b\b\b\b\b\b\b\b\b\b\b\b\b\b\b\b\b\b\b\b\b\b\b\b\b\b\b\b\b\b\b\b\b\b\b\b\b\b\b\b\b\b\b\b\b\b\b\b\b\b\b\b\b\b\b\b\b\b\b\b\b\b\b\b\b\b\r1/1 [==============================] - 0s 151ms/step - loss: 0.4972 - accuracy: 0.8373\n",
            "Epoch 532/1000\n",
            "1/1 [==============================] - 0s 21ms/step\n",
            "\n",
            "Validation Accuracy: 38.333333333333336 %\n"
          ]
        },
        {
          "output_type": "stream",
          "name": "stderr",
          "text": [
            "WARNING:tensorflow:Can save best model only with val_loss available, skipping.\n"
          ]
        },
        {
          "output_type": "stream",
          "name": "stdout",
          "text": [
            "\b\b\b\b\b\b\b\b\b\b\b\b\b\b\b\b\b\b\b\b\b\b\b\b\b\b\b\b\b\b\b\b\b\b\b\b\b\b\b\b\b\b\b\b\b\b\b\b\b\b\b\b\b\b\b\b\b\b\b\b\b\b\b\b\b\b\b\b\b\b\b\b\b\b\b\b\b\b\b\b\r1/1 [==============================] - 0s 145ms/step - loss: 0.4918 - accuracy: 0.8423\n",
            "Epoch 533/1000\n",
            "1/1 [==============================] - 0s 22ms/step\n",
            "\n",
            "Validation Accuracy: 37.77777777777778 %\n"
          ]
        },
        {
          "output_type": "stream",
          "name": "stderr",
          "text": [
            "WARNING:tensorflow:Can save best model only with val_loss available, skipping.\n"
          ]
        },
        {
          "output_type": "stream",
          "name": "stdout",
          "text": [
            "\b\b\b\b\b\b\b\b\b\b\b\b\b\b\b\b\b\b\b\b\b\b\b\b\b\b\b\b\b\b\b\b\b\b\b\b\b\b\b\b\b\b\b\b\b\b\b\b\b\b\b\b\b\b\b\b\b\b\b\b\b\b\b\b\b\b\b\b\b\b\b\b\b\b\b\b\b\b\b\b\r1/1 [==============================] - 0s 174ms/step - loss: 0.5029 - accuracy: 0.8360\n",
            "Epoch 534/1000\n",
            "1/1 [==============================] - 0s 21ms/step\n",
            "\n",
            "Validation Accuracy: 38.333333333333336 %\n"
          ]
        },
        {
          "output_type": "stream",
          "name": "stderr",
          "text": [
            "WARNING:tensorflow:Can save best model only with val_loss available, skipping.\n"
          ]
        },
        {
          "output_type": "stream",
          "name": "stdout",
          "text": [
            "\b\b\b\b\b\b\b\b\b\b\b\b\b\b\b\b\b\b\b\b\b\b\b\b\b\b\b\b\b\b\b\b\b\b\b\b\b\b\b\b\b\b\b\b\b\b\b\b\b\b\b\b\b\b\b\b\b\b\b\b\b\b\b\b\b\b\b\b\b\b\b\b\b\b\b\b\b\b\b\b\r1/1 [==============================] - 0s 140ms/step - loss: 0.4928 - accuracy: 0.8429\n",
            "Epoch 535/1000\n",
            "1/1 [==============================] - 0s 25ms/step\n",
            "\n",
            "Validation Accuracy: 38.88888888888889 %\n"
          ]
        },
        {
          "output_type": "stream",
          "name": "stderr",
          "text": [
            "WARNING:tensorflow:Can save best model only with val_loss available, skipping.\n"
          ]
        },
        {
          "output_type": "stream",
          "name": "stdout",
          "text": [
            "\b\b\b\b\b\b\b\b\b\b\b\b\b\b\b\b\b\b\b\b\b\b\b\b\b\b\b\b\b\b\b\b\b\b\b\b\b\b\b\b\b\b\b\b\b\b\b\b\b\b\b\b\b\b\b\b\b\b\b\b\b\b\b\b\b\b\b\b\b\b\b\b\b\b\b\b\b\b\b\b\r1/1 [==============================] - 0s 153ms/step - loss: 0.4889 - accuracy: 0.8380\n",
            "Epoch 536/1000\n",
            "1/1 [==============================] - 0s 23ms/step\n",
            "\n",
            "Validation Accuracy: 38.333333333333336 %\n"
          ]
        },
        {
          "output_type": "stream",
          "name": "stderr",
          "text": [
            "WARNING:tensorflow:Can save best model only with val_loss available, skipping.\n"
          ]
        },
        {
          "output_type": "stream",
          "name": "stdout",
          "text": [
            "\b\b\b\b\b\b\b\b\b\b\b\b\b\b\b\b\b\b\b\b\b\b\b\b\b\b\b\b\b\b\b\b\b\b\b\b\b\b\b\b\b\b\b\b\b\b\b\b\b\b\b\b\b\b\b\b\b\b\b\b\b\b\b\b\b\b\b\b\b\b\b\b\b\b\b\b\b\b\b\b\r1/1 [==============================] - 0s 151ms/step - loss: 0.4883 - accuracy: 0.8381\n",
            "Epoch 537/1000\n",
            "1/1 [==============================] - 0s 25ms/step\n",
            "\n",
            "Validation Accuracy: 38.333333333333336 %\n"
          ]
        },
        {
          "output_type": "stream",
          "name": "stderr",
          "text": [
            "WARNING:tensorflow:Can save best model only with val_loss available, skipping.\n"
          ]
        },
        {
          "output_type": "stream",
          "name": "stdout",
          "text": [
            "\b\b\b\b\b\b\b\b\b\b\b\b\b\b\b\b\b\b\b\b\b\b\b\b\b\b\b\b\b\b\b\b\b\b\b\b\b\b\b\b\b\b\b\b\b\b\b\b\b\b\b\b\b\b\b\b\b\b\b\b\b\b\b\b\b\b\b\b\b\b\b\b\b\b\b\b\b\b\b\b\r1/1 [==============================] - 0s 155ms/step - loss: 0.4877 - accuracy: 0.8413\n",
            "Epoch 538/1000\n",
            "1/1 [==============================] - 0s 23ms/step\n",
            "\n",
            "Validation Accuracy: 38.333333333333336 %\n"
          ]
        },
        {
          "output_type": "stream",
          "name": "stderr",
          "text": [
            "WARNING:tensorflow:Can save best model only with val_loss available, skipping.\n"
          ]
        },
        {
          "output_type": "stream",
          "name": "stdout",
          "text": [
            "\b\b\b\b\b\b\b\b\b\b\b\b\b\b\b\b\b\b\b\b\b\b\b\b\b\b\b\b\b\b\b\b\b\b\b\b\b\b\b\b\b\b\b\b\b\b\b\b\b\b\b\b\b\b\b\b\b\b\b\b\b\b\b\b\b\b\b\b\b\b\b\b\b\b\b\b\b\b\b\b\r1/1 [==============================] - 0s 150ms/step - loss: 0.4868 - accuracy: 0.8398\n",
            "Epoch 539/1000\n",
            "1/1 [==============================] - 0s 23ms/step\n",
            "\n",
            "Validation Accuracy: 38.333333333333336 %\n"
          ]
        },
        {
          "output_type": "stream",
          "name": "stderr",
          "text": [
            "WARNING:tensorflow:Can save best model only with val_loss available, skipping.\n"
          ]
        },
        {
          "output_type": "stream",
          "name": "stdout",
          "text": [
            "\b\b\b\b\b\b\b\b\b\b\b\b\b\b\b\b\b\b\b\b\b\b\b\b\b\b\b\b\b\b\b\b\b\b\b\b\b\b\b\b\b\b\b\b\b\b\b\b\b\b\b\b\b\b\b\b\b\b\b\b\b\b\b\b\b\b\b\b\b\b\b\b\b\b\b\b\b\b\b\b\r1/1 [==============================] - 0s 185ms/step - loss: 0.4985 - accuracy: 0.8357\n",
            "Epoch 540/1000\n",
            "1/1 [==============================] - 0s 22ms/step\n",
            "\n",
            "Validation Accuracy: 38.333333333333336 %\n"
          ]
        },
        {
          "output_type": "stream",
          "name": "stderr",
          "text": [
            "WARNING:tensorflow:Can save best model only with val_loss available, skipping.\n"
          ]
        },
        {
          "output_type": "stream",
          "name": "stdout",
          "text": [
            "\b\b\b\b\b\b\b\b\b\b\b\b\b\b\b\b\b\b\b\b\b\b\b\b\b\b\b\b\b\b\b\b\b\b\b\b\b\b\b\b\b\b\b\b\b\b\b\b\b\b\b\b\b\b\b\b\b\b\b\b\b\b\b\b\b\b\b\b\b\b\b\b\b\b\b\b\b\b\b\b\r1/1 [==============================] - 0s 152ms/step - loss: 0.4846 - accuracy: 0.8434\n",
            "Epoch 541/1000\n",
            "1/1 [==============================] - 0s 20ms/step\n",
            "\n",
            "Validation Accuracy: 38.88888888888889 %\n"
          ]
        },
        {
          "output_type": "stream",
          "name": "stderr",
          "text": [
            "WARNING:tensorflow:Can save best model only with val_loss available, skipping.\n"
          ]
        },
        {
          "output_type": "stream",
          "name": "stdout",
          "text": [
            "\b\b\b\b\b\b\b\b\b\b\b\b\b\b\b\b\b\b\b\b\b\b\b\b\b\b\b\b\b\b\b\b\b\b\b\b\b\b\b\b\b\b\b\b\b\b\b\b\b\b\b\b\b\b\b\b\b\b\b\b\b\b\b\b\b\b\b\b\b\b\b\b\b\b\b\b\b\b\b\b\r1/1 [==============================] - 0s 139ms/step - loss: 0.4931 - accuracy: 0.8402\n",
            "Epoch 542/1000\n",
            "1/1 [==============================] - 0s 20ms/step\n",
            "\n",
            "Validation Accuracy: 38.88888888888889 %\n"
          ]
        },
        {
          "output_type": "stream",
          "name": "stderr",
          "text": [
            "WARNING:tensorflow:Can save best model only with val_loss available, skipping.\n"
          ]
        },
        {
          "output_type": "stream",
          "name": "stdout",
          "text": [
            "\b\b\b\b\b\b\b\b\b\b\b\b\b\b\b\b\b\b\b\b\b\b\b\b\b\b\b\b\b\b\b\b\b\b\b\b\b\b\b\b\b\b\b\b\b\b\b\b\b\b\b\b\b\b\b\b\b\b\b\b\b\b\b\b\b\b\b\b\b\b\b\b\b\b\b\b\b\b\b\b\r1/1 [==============================] - 0s 138ms/step - loss: 0.4956 - accuracy: 0.8380\n",
            "Epoch 543/1000\n",
            "1/1 [==============================] - 0s 27ms/step\n",
            "\n",
            "Validation Accuracy: 38.88888888888889 %\n"
          ]
        },
        {
          "output_type": "stream",
          "name": "stderr",
          "text": [
            "WARNING:tensorflow:Can save best model only with val_loss available, skipping.\n"
          ]
        },
        {
          "output_type": "stream",
          "name": "stdout",
          "text": [
            "\b\b\b\b\b\b\b\b\b\b\b\b\b\b\b\b\b\b\b\b\b\b\b\b\b\b\b\b\b\b\b\b\b\b\b\b\b\b\b\b\b\b\b\b\b\b\b\b\b\b\b\b\b\b\b\b\b\b\b\b\b\b\b\b\b\b\b\b\b\b\b\b\b\b\b\b\b\b\b\b\r1/1 [==============================] - 0s 150ms/step - loss: 0.4731 - accuracy: 0.8457\n",
            "Epoch 544/1000\n",
            "1/1 [==============================] - 0s 22ms/step\n",
            "\n",
            "Validation Accuracy: 38.88888888888889 %\n"
          ]
        },
        {
          "output_type": "stream",
          "name": "stderr",
          "text": [
            "WARNING:tensorflow:Can save best model only with val_loss available, skipping.\n"
          ]
        },
        {
          "output_type": "stream",
          "name": "stdout",
          "text": [
            "\b\b\b\b\b\b\b\b\b\b\b\b\b\b\b\b\b\b\b\b\b\b\b\b\b\b\b\b\b\b\b\b\b\b\b\b\b\b\b\b\b\b\b\b\b\b\b\b\b\b\b\b\b\b\b\b\b\b\b\b\b\b\b\b\b\b\b\b\b\b\b\b\b\b\b\b\b\b\b\b\r1/1 [==============================] - 0s 154ms/step - loss: 0.4892 - accuracy: 0.8412\n",
            "Epoch 545/1000\n",
            "1/1 [==============================] - 0s 25ms/step\n",
            "\n",
            "Validation Accuracy: 38.333333333333336 %\n"
          ]
        },
        {
          "output_type": "stream",
          "name": "stderr",
          "text": [
            "WARNING:tensorflow:Can save best model only with val_loss available, skipping.\n"
          ]
        },
        {
          "output_type": "stream",
          "name": "stdout",
          "text": [
            "\b\b\b\b\b\b\b\b\b\b\b\b\b\b\b\b\b\b\b\b\b\b\b\b\b\b\b\b\b\b\b\b\b\b\b\b\b\b\b\b\b\b\b\b\b\b\b\b\b\b\b\b\b\b\b\b\b\b\b\b\b\b\b\b\b\b\b\b\b\b\b\b\b\b\b\b\b\b\b\b\r1/1 [==============================] - 0s 173ms/step - loss: 0.4846 - accuracy: 0.8427\n",
            "Epoch 546/1000\n",
            "1/1 [==============================] - 0s 21ms/step\n",
            "\n",
            "Validation Accuracy: 38.88888888888889 %\n"
          ]
        },
        {
          "output_type": "stream",
          "name": "stderr",
          "text": [
            "WARNING:tensorflow:Can save best model only with val_loss available, skipping.\n"
          ]
        },
        {
          "output_type": "stream",
          "name": "stdout",
          "text": [
            "\b\b\b\b\b\b\b\b\b\b\b\b\b\b\b\b\b\b\b\b\b\b\b\b\b\b\b\b\b\b\b\b\b\b\b\b\b\b\b\b\b\b\b\b\b\b\b\b\b\b\b\b\b\b\b\b\b\b\b\b\b\b\b\b\b\b\b\b\b\b\b\b\b\b\b\b\b\b\b\b\r1/1 [==============================] - 0s 152ms/step - loss: 0.4995 - accuracy: 0.8378\n",
            "Epoch 547/1000\n",
            "1/1 [==============================] - 0s 29ms/step\n",
            "\n",
            "Validation Accuracy: 38.88888888888889 %\n"
          ]
        },
        {
          "output_type": "stream",
          "name": "stderr",
          "text": [
            "WARNING:tensorflow:Can save best model only with val_loss available, skipping.\n"
          ]
        },
        {
          "output_type": "stream",
          "name": "stdout",
          "text": [
            "\b\b\b\b\b\b\b\b\b\b\b\b\b\b\b\b\b\b\b\b\b\b\b\b\b\b\b\b\b\b\b\b\b\b\b\b\b\b\b\b\b\b\b\b\b\b\b\b\b\b\b\b\b\b\b\b\b\b\b\b\b\b\b\b\b\b\b\b\b\b\b\b\b\b\b\b\b\b\b\b\r1/1 [==============================] - 0s 161ms/step - loss: 0.4919 - accuracy: 0.8384\n",
            "Epoch 548/1000\n",
            "1/1 [==============================] - 0s 24ms/step\n",
            "\n",
            "Validation Accuracy: 38.333333333333336 %\n"
          ]
        },
        {
          "output_type": "stream",
          "name": "stderr",
          "text": [
            "WARNING:tensorflow:Can save best model only with val_loss available, skipping.\n"
          ]
        },
        {
          "output_type": "stream",
          "name": "stdout",
          "text": [
            "\b\b\b\b\b\b\b\b\b\b\b\b\b\b\b\b\b\b\b\b\b\b\b\b\b\b\b\b\b\b\b\b\b\b\b\b\b\b\b\b\b\b\b\b\b\b\b\b\b\b\b\b\b\b\b\b\b\b\b\b\b\b\b\b\b\b\b\b\b\b\b\b\b\b\b\b\b\b\b\b\r1/1 [==============================] - 0s 150ms/step - loss: 0.4893 - accuracy: 0.8377\n",
            "Epoch 549/1000\n",
            "1/1 [==============================] - 0s 26ms/step\n",
            "\n",
            "Validation Accuracy: 38.333333333333336 %\n"
          ]
        },
        {
          "output_type": "stream",
          "name": "stderr",
          "text": [
            "WARNING:tensorflow:Can save best model only with val_loss available, skipping.\n"
          ]
        },
        {
          "output_type": "stream",
          "name": "stdout",
          "text": [
            "\b\b\b\b\b\b\b\b\b\b\b\b\b\b\b\b\b\b\b\b\b\b\b\b\b\b\b\b\b\b\b\b\b\b\b\b\b\b\b\b\b\b\b\b\b\b\b\b\b\b\b\b\b\b\b\b\b\b\b\b\b\b\b\b\b\b\b\b\b\b\b\b\b\b\b\b\b\b\b\b\r1/1 [==============================] - 0s 154ms/step - loss: 0.4867 - accuracy: 0.8427\n",
            "Epoch 550/1000\n",
            "1/1 [==============================] - 0s 24ms/step\n",
            "\n",
            "Validation Accuracy: 38.88888888888889 %\n"
          ]
        },
        {
          "output_type": "stream",
          "name": "stderr",
          "text": [
            "WARNING:tensorflow:Can save best model only with val_loss available, skipping.\n"
          ]
        },
        {
          "output_type": "stream",
          "name": "stdout",
          "text": [
            "\b\b\b\b\b\b\b\b\b\b\b\b\b\b\b\b\b\b\b\b\b\b\b\b\b\b\b\b\b\b\b\b\b\b\b\b\b\b\b\b\b\b\b\b\b\b\b\b\b\b\b\b\b\b\b\b\b\b\b\b\b\b\b\b\b\b\b\b\b\b\b\b\b\b\b\b\b\b\b\b\r1/1 [==============================] - 0s 154ms/step - loss: 0.4873 - accuracy: 0.8405\n",
            "Epoch 551/1000\n",
            "1/1 [==============================] - 0s 28ms/step\n",
            "\n",
            "Validation Accuracy: 38.88888888888889 %\n"
          ]
        },
        {
          "output_type": "stream",
          "name": "stderr",
          "text": [
            "WARNING:tensorflow:Can save best model only with val_loss available, skipping.\n"
          ]
        },
        {
          "output_type": "stream",
          "name": "stdout",
          "text": [
            "\b\b\b\b\b\b\b\b\b\b\b\b\b\b\b\b\b\b\b\b\b\b\b\b\b\b\b\b\b\b\b\b\b\b\b\b\b\b\b\b\b\b\b\b\b\b\b\b\b\b\b\b\b\b\b\b\b\b\b\b\b\b\b\b\b\b\b\b\b\b\b\b\b\b\b\b\b\b\b\b\r1/1 [==============================] - 0s 162ms/step - loss: 0.4899 - accuracy: 0.8422\n",
            "Epoch 552/1000\n",
            "1/1 [==============================] - 0s 20ms/step\n",
            "\n",
            "Validation Accuracy: 38.88888888888889 %\n"
          ]
        },
        {
          "output_type": "stream",
          "name": "stderr",
          "text": [
            "WARNING:tensorflow:Can save best model only with val_loss available, skipping.\n"
          ]
        },
        {
          "output_type": "stream",
          "name": "stdout",
          "text": [
            "\b\b\b\b\b\b\b\b\b\b\b\b\b\b\b\b\b\b\b\b\b\b\b\b\b\b\b\b\b\b\b\b\b\b\b\b\b\b\b\b\b\b\b\b\b\b\b\b\b\b\b\b\b\b\b\b\b\b\b\b\b\b\b\b\b\b\b\b\b\b\b\b\b\b\b\b\b\b\b\b\r1/1 [==============================] - 0s 145ms/step - loss: 0.4956 - accuracy: 0.8374\n",
            "Epoch 553/1000\n",
            "1/1 [==============================] - 0s 20ms/step\n",
            "\n",
            "Validation Accuracy: 38.88888888888889 %\n"
          ]
        },
        {
          "output_type": "stream",
          "name": "stderr",
          "text": [
            "WARNING:tensorflow:Can save best model only with val_loss available, skipping.\n"
          ]
        },
        {
          "output_type": "stream",
          "name": "stdout",
          "text": [
            "\b\b\b\b\b\b\b\b\b\b\b\b\b\b\b\b\b\b\b\b\b\b\b\b\b\b\b\b\b\b\b\b\b\b\b\b\b\b\b\b\b\b\b\b\b\b\b\b\b\b\b\b\b\b\b\b\b\b\b\b\b\b\b\b\b\b\b\b\b\b\b\b\b\b\b\b\b\b\b\b\r1/1 [==============================] - 0s 144ms/step - loss: 0.4852 - accuracy: 0.8395\n",
            "Epoch 554/1000\n",
            "1/1 [==============================] - 0s 30ms/step\n",
            "\n",
            "Validation Accuracy: 38.88888888888889 %\n"
          ]
        },
        {
          "output_type": "stream",
          "name": "stderr",
          "text": [
            "WARNING:tensorflow:Can save best model only with val_loss available, skipping.\n"
          ]
        },
        {
          "output_type": "stream",
          "name": "stdout",
          "text": [
            "\b\b\b\b\b\b\b\b\b\b\b\b\b\b\b\b\b\b\b\b\b\b\b\b\b\b\b\b\b\b\b\b\b\b\b\b\b\b\b\b\b\b\b\b\b\b\b\b\b\b\b\b\b\b\b\b\b\b\b\b\b\b\b\b\b\b\b\b\b\b\b\b\b\b\b\b\b\b\b\b\r1/1 [==============================] - 0s 157ms/step - loss: 0.4860 - accuracy: 0.8426\n",
            "Epoch 555/1000\n",
            "1/1 [==============================] - 0s 24ms/step\n",
            "\n",
            "Validation Accuracy: 38.333333333333336 %\n"
          ]
        },
        {
          "output_type": "stream",
          "name": "stderr",
          "text": [
            "WARNING:tensorflow:Can save best model only with val_loss available, skipping.\n"
          ]
        },
        {
          "output_type": "stream",
          "name": "stdout",
          "text": [
            "\b\b\b\b\b\b\b\b\b\b\b\b\b\b\b\b\b\b\b\b\b\b\b\b\b\b\b\b\b\b\b\b\b\b\b\b\b\b\b\b\b\b\b\b\b\b\b\b\b\b\b\b\b\b\b\b\b\b\b\b\b\b\b\b\b\b\b\b\b\b\b\b\b\b\b\b\b\b\b\b\r1/1 [==============================] - 0s 151ms/step - loss: 0.4790 - accuracy: 0.8424\n",
            "Epoch 556/1000\n",
            "1/1 [==============================] - 0s 20ms/step\n",
            "\n",
            "Validation Accuracy: 38.333333333333336 %\n"
          ]
        },
        {
          "output_type": "stream",
          "name": "stderr",
          "text": [
            "WARNING:tensorflow:Can save best model only with val_loss available, skipping.\n"
          ]
        },
        {
          "output_type": "stream",
          "name": "stdout",
          "text": [
            "\b\b\b\b\b\b\b\b\b\b\b\b\b\b\b\b\b\b\b\b\b\b\b\b\b\b\b\b\b\b\b\b\b\b\b\b\b\b\b\b\b\b\b\b\b\b\b\b\b\b\b\b\b\b\b\b\b\b\b\b\b\b\b\b\b\b\b\b\b\b\b\b\b\b\b\b\b\b\b\b\r1/1 [==============================] - 0s 162ms/step - loss: 0.4923 - accuracy: 0.8399\n",
            "Epoch 557/1000\n",
            "1/1 [==============================] - 0s 19ms/step\n",
            "\n",
            "Validation Accuracy: 38.333333333333336 %\n"
          ]
        },
        {
          "output_type": "stream",
          "name": "stderr",
          "text": [
            "WARNING:tensorflow:Can save best model only with val_loss available, skipping.\n"
          ]
        },
        {
          "output_type": "stream",
          "name": "stdout",
          "text": [
            "\b\b\b\b\b\b\b\b\b\b\b\b\b\b\b\b\b\b\b\b\b\b\b\b\b\b\b\b\b\b\b\b\b\b\b\b\b\b\b\b\b\b\b\b\b\b\b\b\b\b\b\b\b\b\b\b\b\b\b\b\b\b\b\b\b\b\b\b\b\b\b\b\b\b\b\b\b\b\b\b\r1/1 [==============================] - 0s 143ms/step - loss: 0.4931 - accuracy: 0.8399\n",
            "Epoch 558/1000\n",
            "1/1 [==============================] - 0s 19ms/step\n",
            "\n",
            "Validation Accuracy: 38.333333333333336 %\n"
          ]
        },
        {
          "output_type": "stream",
          "name": "stderr",
          "text": [
            "WARNING:tensorflow:Can save best model only with val_loss available, skipping.\n"
          ]
        },
        {
          "output_type": "stream",
          "name": "stdout",
          "text": [
            "\b\b\b\b\b\b\b\b\b\b\b\b\b\b\b\b\b\b\b\b\b\b\b\b\b\b\b\b\b\b\b\b\b\b\b\b\b\b\b\b\b\b\b\b\b\b\b\b\b\b\b\b\b\b\b\b\b\b\b\b\b\b\b\b\b\b\b\b\b\b\b\b\b\b\b\b\b\b\b\b\r1/1 [==============================] - 0s 147ms/step - loss: 0.4893 - accuracy: 0.8415\n",
            "Epoch 559/1000\n",
            "1/1 [==============================] - 0s 19ms/step\n",
            "\n",
            "Validation Accuracy: 38.333333333333336 %\n"
          ]
        },
        {
          "output_type": "stream",
          "name": "stderr",
          "text": [
            "WARNING:tensorflow:Can save best model only with val_loss available, skipping.\n"
          ]
        },
        {
          "output_type": "stream",
          "name": "stdout",
          "text": [
            "\b\b\b\b\b\b\b\b\b\b\b\b\b\b\b\b\b\b\b\b\b\b\b\b\b\b\b\b\b\b\b\b\b\b\b\b\b\b\b\b\b\b\b\b\b\b\b\b\b\b\b\b\b\b\b\b\b\b\b\b\b\b\b\b\b\b\b\b\b\b\b\b\b\b\b\b\b\b\b\b\r1/1 [==============================] - 0s 154ms/step - loss: 0.4884 - accuracy: 0.8401\n",
            "Epoch 560/1000\n",
            "1/1 [==============================] - 0s 19ms/step\n",
            "\n",
            "Validation Accuracy: 38.88888888888889 %\n"
          ]
        },
        {
          "output_type": "stream",
          "name": "stderr",
          "text": [
            "WARNING:tensorflow:Can save best model only with val_loss available, skipping.\n"
          ]
        },
        {
          "output_type": "stream",
          "name": "stdout",
          "text": [
            "\b\b\b\b\b\b\b\b\b\b\b\b\b\b\b\b\b\b\b\b\b\b\b\b\b\b\b\b\b\b\b\b\b\b\b\b\b\b\b\b\b\b\b\b\b\b\b\b\b\b\b\b\b\b\b\b\b\b\b\b\b\b\b\b\b\b\b\b\b\b\b\b\b\b\b\b\b\b\b\b\r1/1 [==============================] - 0s 152ms/step - loss: 0.4851 - accuracy: 0.8434\n",
            "Epoch 561/1000\n",
            "1/1 [==============================] - 0s 23ms/step\n",
            "\n",
            "Validation Accuracy: 38.88888888888889 %\n"
          ]
        },
        {
          "output_type": "stream",
          "name": "stderr",
          "text": [
            "WARNING:tensorflow:Can save best model only with val_loss available, skipping.\n"
          ]
        },
        {
          "output_type": "stream",
          "name": "stdout",
          "text": [
            "\b\b\b\b\b\b\b\b\b\b\b\b\b\b\b\b\b\b\b\b\b\b\b\b\b\b\b\b\b\b\b\b\b\b\b\b\b\b\b\b\b\b\b\b\b\b\b\b\b\b\b\b\b\b\b\b\b\b\b\b\b\b\b\b\b\b\b\b\b\b\b\b\b\b\b\b\b\b\b\b\r1/1 [==============================] - 0s 147ms/step - loss: 0.4802 - accuracy: 0.8413\n",
            "Epoch 562/1000\n",
            "1/1 [==============================] - 0s 23ms/step\n",
            "\n",
            "Validation Accuracy: 38.88888888888889 %\n"
          ]
        },
        {
          "output_type": "stream",
          "name": "stderr",
          "text": [
            "WARNING:tensorflow:Can save best model only with val_loss available, skipping.\n"
          ]
        },
        {
          "output_type": "stream",
          "name": "stdout",
          "text": [
            "\b\b\b\b\b\b\b\b\b\b\b\b\b\b\b\b\b\b\b\b\b\b\b\b\b\b\b\b\b\b\b\b\b\b\b\b\b\b\b\b\b\b\b\b\b\b\b\b\b\b\b\b\b\b\b\b\b\b\b\b\b\b\b\b\b\b\b\b\b\b\b\b\b\b\b\b\b\b\b\b\r1/1 [==============================] - 0s 161ms/step - loss: 0.4788 - accuracy: 0.8430\n",
            "Epoch 563/1000\n",
            "1/1 [==============================] - 0s 23ms/step\n",
            "\n",
            "Validation Accuracy: 38.88888888888889 %\n"
          ]
        },
        {
          "output_type": "stream",
          "name": "stderr",
          "text": [
            "WARNING:tensorflow:Can save best model only with val_loss available, skipping.\n"
          ]
        },
        {
          "output_type": "stream",
          "name": "stdout",
          "text": [
            "\b\b\b\b\b\b\b\b\b\b\b\b\b\b\b\b\b\b\b\b\b\b\b\b\b\b\b\b\b\b\b\b\b\b\b\b\b\b\b\b\b\b\b\b\b\b\b\b\b\b\b\b\b\b\b\b\b\b\b\b\b\b\b\b\b\b\b\b\b\b\b\b\b\b\b\b\b\b\b\b\r1/1 [==============================] - 0s 164ms/step - loss: 0.4814 - accuracy: 0.8401\n",
            "Epoch 564/1000\n",
            "1/1 [==============================] - 0s 19ms/step\n",
            "\n",
            "Validation Accuracy: 38.88888888888889 %\n"
          ]
        },
        {
          "output_type": "stream",
          "name": "stderr",
          "text": [
            "WARNING:tensorflow:Can save best model only with val_loss available, skipping.\n"
          ]
        },
        {
          "output_type": "stream",
          "name": "stdout",
          "text": [
            "\b\b\b\b\b\b\b\b\b\b\b\b\b\b\b\b\b\b\b\b\b\b\b\b\b\b\b\b\b\b\b\b\b\b\b\b\b\b\b\b\b\b\b\b\b\b\b\b\b\b\b\b\b\b\b\b\b\b\b\b\b\b\b\b\b\b\b\b\b\b\b\b\b\b\b\b\b\b\b\b\r1/1 [==============================] - 0s 153ms/step - loss: 0.4763 - accuracy: 0.8461\n",
            "Epoch 565/1000\n",
            "1/1 [==============================] - 0s 19ms/step\n",
            "\n",
            "Validation Accuracy: 38.333333333333336 %\n"
          ]
        },
        {
          "output_type": "stream",
          "name": "stderr",
          "text": [
            "WARNING:tensorflow:Can save best model only with val_loss available, skipping.\n"
          ]
        },
        {
          "output_type": "stream",
          "name": "stdout",
          "text": [
            "\b\b\b\b\b\b\b\b\b\b\b\b\b\b\b\b\b\b\b\b\b\b\b\b\b\b\b\b\b\b\b\b\b\b\b\b\b\b\b\b\b\b\b\b\b\b\b\b\b\b\b\b\b\b\b\b\b\b\b\b\b\b\b\b\b\b\b\b\b\b\b\b\b\b\b\b\b\b\b\b\r1/1 [==============================] - 0s 151ms/step - loss: 0.4833 - accuracy: 0.8368\n",
            "Epoch 566/1000\n",
            "1/1 [==============================] - 0s 36ms/step\n",
            "\n",
            "Validation Accuracy: 38.333333333333336 %\n"
          ]
        },
        {
          "output_type": "stream",
          "name": "stderr",
          "text": [
            "WARNING:tensorflow:Can save best model only with val_loss available, skipping.\n"
          ]
        },
        {
          "output_type": "stream",
          "name": "stdout",
          "text": [
            "\b\b\b\b\b\b\b\b\b\b\b\b\b\b\b\b\b\b\b\b\b\b\b\b\b\b\b\b\b\b\b\b\b\b\b\b\b\b\b\b\b\b\b\b\b\b\b\b\b\b\b\b\b\b\b\b\b\b\b\b\b\b\b\b\b\b\b\b\b\b\b\b\b\b\b\b\b\b\b\b\r1/1 [==============================] - 0s 163ms/step - loss: 0.4813 - accuracy: 0.8471\n",
            "Epoch 567/1000\n",
            "1/1 [==============================] - 0s 21ms/step\n",
            "\n",
            "Validation Accuracy: 38.88888888888889 %\n"
          ]
        },
        {
          "output_type": "stream",
          "name": "stderr",
          "text": [
            "WARNING:tensorflow:Can save best model only with val_loss available, skipping.\n"
          ]
        },
        {
          "output_type": "stream",
          "name": "stdout",
          "text": [
            "\b\b\b\b\b\b\b\b\b\b\b\b\b\b\b\b\b\b\b\b\b\b\b\b\b\b\b\b\b\b\b\b\b\b\b\b\b\b\b\b\b\b\b\b\b\b\b\b\b\b\b\b\b\b\b\b\b\b\b\b\b\b\b\b\b\b\b\b\b\b\b\b\b\b\b\b\b\b\b\b\r1/1 [==============================] - 0s 147ms/step - loss: 0.4773 - accuracy: 0.8423\n",
            "Epoch 568/1000\n",
            "1/1 [==============================] - 0s 23ms/step\n",
            "\n",
            "Validation Accuracy: 38.88888888888889 %\n"
          ]
        },
        {
          "output_type": "stream",
          "name": "stderr",
          "text": [
            "WARNING:tensorflow:Can save best model only with val_loss available, skipping.\n"
          ]
        },
        {
          "output_type": "stream",
          "name": "stdout",
          "text": [
            "\b\b\b\b\b\b\b\b\b\b\b\b\b\b\b\b\b\b\b\b\b\b\b\b\b\b\b\b\b\b\b\b\b\b\b\b\b\b\b\b\b\b\b\b\b\b\b\b\b\b\b\b\b\b\b\b\b\b\b\b\b\b\b\b\b\b\b\b\b\b\b\b\b\b\b\b\b\b\b\b\r1/1 [==============================] - 0s 148ms/step - loss: 0.4848 - accuracy: 0.8419\n",
            "Epoch 569/1000\n",
            "1/1 [==============================] - 0s 22ms/step\n",
            "\n",
            "Validation Accuracy: 38.88888888888889 %\n"
          ]
        },
        {
          "output_type": "stream",
          "name": "stderr",
          "text": [
            "WARNING:tensorflow:Can save best model only with val_loss available, skipping.\n"
          ]
        },
        {
          "output_type": "stream",
          "name": "stdout",
          "text": [
            "\b\b\b\b\b\b\b\b\b\b\b\b\b\b\b\b\b\b\b\b\b\b\b\b\b\b\b\b\b\b\b\b\b\b\b\b\b\b\b\b\b\b\b\b\b\b\b\b\b\b\b\b\b\b\b\b\b\b\b\b\b\b\b\b\b\b\b\b\b\b\b\b\b\b\b\b\b\b\b\b\r1/1 [==============================] - 0s 159ms/step - loss: 0.4715 - accuracy: 0.8402\n",
            "Epoch 570/1000\n",
            "1/1 [==============================] - 0s 22ms/step\n",
            "\n",
            "Validation Accuracy: 39.44444444444444 %\n"
          ]
        },
        {
          "output_type": "stream",
          "name": "stderr",
          "text": [
            "WARNING:tensorflow:Can save best model only with val_loss available, skipping.\n"
          ]
        },
        {
          "output_type": "stream",
          "name": "stdout",
          "text": [
            "\b\b\b\b\b\b\b\b\b\b\b\b\b\b\b\b\b\b\b\b\b\b\b\b\b\b\b\b\b\b\b\b\b\b\b\b\b\b\b\b\b\b\b\b\b\b\b\b\b\b\b\b\b\b\b\b\b\b\b\b\b\b\b\b\b\b\b\b\b\b\b\b\b\b\b\b\b\b\b\b\r1/1 [==============================] - 0s 152ms/step - loss: 0.4699 - accuracy: 0.8480\n",
            "Epoch 571/1000\n",
            "1/1 [==============================] - 0s 21ms/step\n",
            "\n",
            "Validation Accuracy: 39.44444444444444 %\n"
          ]
        },
        {
          "output_type": "stream",
          "name": "stderr",
          "text": [
            "WARNING:tensorflow:Can save best model only with val_loss available, skipping.\n"
          ]
        },
        {
          "output_type": "stream",
          "name": "stdout",
          "text": [
            "\b\b\b\b\b\b\b\b\b\b\b\b\b\b\b\b\b\b\b\b\b\b\b\b\b\b\b\b\b\b\b\b\b\b\b\b\b\b\b\b\b\b\b\b\b\b\b\b\b\b\b\b\b\b\b\b\b\b\b\b\b\b\b\b\b\b\b\b\b\b\b\b\b\b\b\b\b\b\b\b\r1/1 [==============================] - 0s 148ms/step - loss: 0.4781 - accuracy: 0.8410\n",
            "Epoch 572/1000\n",
            "1/1 [==============================] - 0s 26ms/step\n",
            "\n",
            "Validation Accuracy: 39.44444444444444 %\n"
          ]
        },
        {
          "output_type": "stream",
          "name": "stderr",
          "text": [
            "WARNING:tensorflow:Can save best model only with val_loss available, skipping.\n"
          ]
        },
        {
          "output_type": "stream",
          "name": "stdout",
          "text": [
            "\b\b\b\b\b\b\b\b\b\b\b\b\b\b\b\b\b\b\b\b\b\b\b\b\b\b\b\b\b\b\b\b\b\b\b\b\b\b\b\b\b\b\b\b\b\b\b\b\b\b\b\b\b\b\b\b\b\b\b\b\b\b\b\b\b\b\b\b\b\b\b\b\b\b\b\b\b\b\b\b\r1/1 [==============================] - 0s 177ms/step - loss: 0.4788 - accuracy: 0.8409\n",
            "Epoch 573/1000\n",
            "1/1 [==============================] - 0s 20ms/step\n",
            "\n",
            "Validation Accuracy: 39.44444444444444 %\n"
          ]
        },
        {
          "output_type": "stream",
          "name": "stderr",
          "text": [
            "WARNING:tensorflow:Can save best model only with val_loss available, skipping.\n"
          ]
        },
        {
          "output_type": "stream",
          "name": "stdout",
          "text": [
            "\b\b\b\b\b\b\b\b\b\b\b\b\b\b\b\b\b\b\b\b\b\b\b\b\b\b\b\b\b\b\b\b\b\b\b\b\b\b\b\b\b\b\b\b\b\b\b\b\b\b\b\b\b\b\b\b\b\b\b\b\b\b\b\b\b\b\b\b\b\b\b\b\b\b\b\b\b\b\b\b\r1/1 [==============================] - 0s 172ms/step - loss: 0.4797 - accuracy: 0.8448\n",
            "Epoch 574/1000\n",
            "1/1 [==============================] - 0s 20ms/step\n",
            "\n",
            "Validation Accuracy: 38.88888888888889 %\n"
          ]
        },
        {
          "output_type": "stream",
          "name": "stderr",
          "text": [
            "WARNING:tensorflow:Can save best model only with val_loss available, skipping.\n"
          ]
        },
        {
          "output_type": "stream",
          "name": "stdout",
          "text": [
            "\b\b\b\b\b\b\b\b\b\b\b\b\b\b\b\b\b\b\b\b\b\b\b\b\b\b\b\b\b\b\b\b\b\b\b\b\b\b\b\b\b\b\b\b\b\b\b\b\b\b\b\b\b\b\b\b\b\b\b\b\b\b\b\b\b\b\b\b\b\b\b\b\b\b\b\b\b\b\b\b\r1/1 [==============================] - 0s 164ms/step - loss: 0.4701 - accuracy: 0.8469\n",
            "Epoch 575/1000\n",
            "1/1 [==============================] - 0s 22ms/step\n",
            "\n",
            "Validation Accuracy: 38.88888888888889 %\n"
          ]
        },
        {
          "output_type": "stream",
          "name": "stderr",
          "text": [
            "WARNING:tensorflow:Can save best model only with val_loss available, skipping.\n"
          ]
        },
        {
          "output_type": "stream",
          "name": "stdout",
          "text": [
            "\b\b\b\b\b\b\b\b\b\b\b\b\b\b\b\b\b\b\b\b\b\b\b\b\b\b\b\b\b\b\b\b\b\b\b\b\b\b\b\b\b\b\b\b\b\b\b\b\b\b\b\b\b\b\b\b\b\b\b\b\b\b\b\b\b\b\b\b\b\b\b\b\b\b\b\b\b\b\b\b\r1/1 [==============================] - 0s 147ms/step - loss: 0.4764 - accuracy: 0.8433\n",
            "Epoch 576/1000\n",
            "1/1 [==============================] - 0s 19ms/step\n",
            "\n",
            "Validation Accuracy: 38.333333333333336 %\n"
          ]
        },
        {
          "output_type": "stream",
          "name": "stderr",
          "text": [
            "WARNING:tensorflow:Can save best model only with val_loss available, skipping.\n"
          ]
        },
        {
          "output_type": "stream",
          "name": "stdout",
          "text": [
            "\b\b\b\b\b\b\b\b\b\b\b\b\b\b\b\b\b\b\b\b\b\b\b\b\b\b\b\b\b\b\b\b\b\b\b\b\b\b\b\b\b\b\b\b\b\b\b\b\b\b\b\b\b\b\b\b\b\b\b\b\b\b\b\b\b\b\b\b\b\b\b\b\b\b\b\b\b\b\b\b\r1/1 [==============================] - 0s 147ms/step - loss: 0.4748 - accuracy: 0.8465\n",
            "Epoch 577/1000\n",
            "1/1 [==============================] - 0s 23ms/step\n",
            "\n",
            "Validation Accuracy: 38.333333333333336 %\n"
          ]
        },
        {
          "output_type": "stream",
          "name": "stderr",
          "text": [
            "WARNING:tensorflow:Can save best model only with val_loss available, skipping.\n"
          ]
        },
        {
          "output_type": "stream",
          "name": "stdout",
          "text": [
            "\b\b\b\b\b\b\b\b\b\b\b\b\b\b\b\b\b\b\b\b\b\b\b\b\b\b\b\b\b\b\b\b\b\b\b\b\b\b\b\b\b\b\b\b\b\b\b\b\b\b\b\b\b\b\b\b\b\b\b\b\b\b\b\b\b\b\b\b\b\b\b\b\b\b\b\b\b\b\b\b\r1/1 [==============================] - 0s 156ms/step - loss: 0.4776 - accuracy: 0.8457\n",
            "Epoch 578/1000\n",
            "1/1 [==============================] - 0s 20ms/step\n",
            "\n",
            "Validation Accuracy: 39.44444444444444 %\n"
          ]
        },
        {
          "output_type": "stream",
          "name": "stderr",
          "text": [
            "WARNING:tensorflow:Can save best model only with val_loss available, skipping.\n"
          ]
        },
        {
          "output_type": "stream",
          "name": "stdout",
          "text": [
            "\b\b\b\b\b\b\b\b\b\b\b\b\b\b\b\b\b\b\b\b\b\b\b\b\b\b\b\b\b\b\b\b\b\b\b\b\b\b\b\b\b\b\b\b\b\b\b\b\b\b\b\b\b\b\b\b\b\b\b\b\b\b\b\b\b\b\b\b\b\b\b\b\b\b\b\b\b\b\b\b\r1/1 [==============================] - 0s 161ms/step - loss: 0.4726 - accuracy: 0.8494\n",
            "Epoch 579/1000\n",
            "1/1 [==============================] - 0s 26ms/step\n",
            "\n",
            "Validation Accuracy: 39.44444444444444 %\n"
          ]
        },
        {
          "output_type": "stream",
          "name": "stderr",
          "text": [
            "WARNING:tensorflow:Can save best model only with val_loss available, skipping.\n"
          ]
        },
        {
          "output_type": "stream",
          "name": "stdout",
          "text": [
            "\b\b\b\b\b\b\b\b\b\b\b\b\b\b\b\b\b\b\b\b\b\b\b\b\b\b\b\b\b\b\b\b\b\b\b\b\b\b\b\b\b\b\b\b\b\b\b\b\b\b\b\b\b\b\b\b\b\b\b\b\b\b\b\b\b\b\b\b\b\b\b\b\b\b\b\b\b\b\b\b\r1/1 [==============================] - 0s 152ms/step - loss: 0.4831 - accuracy: 0.8416\n",
            "Epoch 580/1000\n",
            "1/1 [==============================] - 0s 25ms/step\n",
            "\n",
            "Validation Accuracy: 38.88888888888889 %\n"
          ]
        },
        {
          "output_type": "stream",
          "name": "stderr",
          "text": [
            "WARNING:tensorflow:Can save best model only with val_loss available, skipping.\n"
          ]
        },
        {
          "output_type": "stream",
          "name": "stdout",
          "text": [
            "\b\b\b\b\b\b\b\b\b\b\b\b\b\b\b\b\b\b\b\b\b\b\b\b\b\b\b\b\b\b\b\b\b\b\b\b\b\b\b\b\b\b\b\b\b\b\b\b\b\b\b\b\b\b\b\b\b\b\b\b\b\b\b\b\b\b\b\b\b\b\b\b\b\b\b\b\b\b\b\b\r1/1 [==============================] - 0s 170ms/step - loss: 0.4763 - accuracy: 0.8427\n",
            "Epoch 581/1000\n",
            "1/1 [==============================] - 0s 21ms/step\n",
            "\n",
            "Validation Accuracy: 38.88888888888889 %\n"
          ]
        },
        {
          "output_type": "stream",
          "name": "stderr",
          "text": [
            "WARNING:tensorflow:Can save best model only with val_loss available, skipping.\n"
          ]
        },
        {
          "output_type": "stream",
          "name": "stdout",
          "text": [
            "\b\b\b\b\b\b\b\b\b\b\b\b\b\b\b\b\b\b\b\b\b\b\b\b\b\b\b\b\b\b\b\b\b\b\b\b\b\b\b\b\b\b\b\b\b\b\b\b\b\b\b\b\b\b\b\b\b\b\b\b\b\b\b\b\b\b\b\b\b\b\b\b\b\b\b\b\b\b\b\b\r1/1 [==============================] - 0s 155ms/step - loss: 0.4738 - accuracy: 0.8480\n",
            "Epoch 582/1000\n",
            "1/1 [==============================] - 0s 21ms/step\n",
            "\n",
            "Validation Accuracy: 38.88888888888889 %\n"
          ]
        },
        {
          "output_type": "stream",
          "name": "stderr",
          "text": [
            "WARNING:tensorflow:Can save best model only with val_loss available, skipping.\n"
          ]
        },
        {
          "output_type": "stream",
          "name": "stdout",
          "text": [
            "\b\b\b\b\b\b\b\b\b\b\b\b\b\b\b\b\b\b\b\b\b\b\b\b\b\b\b\b\b\b\b\b\b\b\b\b\b\b\b\b\b\b\b\b\b\b\b\b\b\b\b\b\b\b\b\b\b\b\b\b\b\b\b\b\b\b\b\b\b\b\b\b\b\b\b\b\b\b\b\b\r1/1 [==============================] - 0s 162ms/step - loss: 0.4724 - accuracy: 0.8443\n",
            "Epoch 583/1000\n",
            "1/1 [==============================] - 0s 21ms/step\n",
            "\n",
            "Validation Accuracy: 37.77777777777778 %\n"
          ]
        },
        {
          "output_type": "stream",
          "name": "stderr",
          "text": [
            "WARNING:tensorflow:Can save best model only with val_loss available, skipping.\n"
          ]
        },
        {
          "output_type": "stream",
          "name": "stdout",
          "text": [
            "\b\b\b\b\b\b\b\b\b\b\b\b\b\b\b\b\b\b\b\b\b\b\b\b\b\b\b\b\b\b\b\b\b\b\b\b\b\b\b\b\b\b\b\b\b\b\b\b\b\b\b\b\b\b\b\b\b\b\b\b\b\b\b\b\b\b\b\b\b\b\b\b\b\b\b\b\b\b\b\b\r1/1 [==============================] - 0s 144ms/step - loss: 0.4691 - accuracy: 0.8419\n",
            "Epoch 584/1000\n",
            "1/1 [==============================] - 0s 26ms/step\n",
            "\n",
            "Validation Accuracy: 37.77777777777778 %\n"
          ]
        },
        {
          "output_type": "stream",
          "name": "stderr",
          "text": [
            "WARNING:tensorflow:Can save best model only with val_loss available, skipping.\n"
          ]
        },
        {
          "output_type": "stream",
          "name": "stdout",
          "text": [
            "\b\b\b\b\b\b\b\b\b\b\b\b\b\b\b\b\b\b\b\b\b\b\b\b\b\b\b\b\b\b\b\b\b\b\b\b\b\b\b\b\b\b\b\b\b\b\b\b\b\b\b\b\b\b\b\b\b\b\b\b\b\b\b\b\b\b\b\b\b\b\b\b\b\b\b\b\b\b\b\b\r1/1 [==============================] - 0s 151ms/step - loss: 0.4695 - accuracy: 0.8487\n",
            "Epoch 585/1000\n",
            "1/1 [==============================] - 0s 21ms/step\n",
            "\n",
            "Validation Accuracy: 38.333333333333336 %\n"
          ]
        },
        {
          "output_type": "stream",
          "name": "stderr",
          "text": [
            "WARNING:tensorflow:Can save best model only with val_loss available, skipping.\n"
          ]
        },
        {
          "output_type": "stream",
          "name": "stdout",
          "text": [
            "\b\b\b\b\b\b\b\b\b\b\b\b\b\b\b\b\b\b\b\b\b\b\b\b\b\b\b\b\b\b\b\b\b\b\b\b\b\b\b\b\b\b\b\b\b\b\b\b\b\b\b\b\b\b\b\b\b\b\b\b\b\b\b\b\b\b\b\b\b\b\b\b\b\b\b\b\b\b\b\b\r1/1 [==============================] - 0s 151ms/step - loss: 0.4703 - accuracy: 0.8420\n",
            "Epoch 586/1000\n",
            "1/1 [==============================] - 0s 23ms/step\n",
            "\n",
            "Validation Accuracy: 38.88888888888889 %\n"
          ]
        },
        {
          "output_type": "stream",
          "name": "stderr",
          "text": [
            "WARNING:tensorflow:Can save best model only with val_loss available, skipping.\n"
          ]
        },
        {
          "output_type": "stream",
          "name": "stdout",
          "text": [
            "\b\b\b\b\b\b\b\b\b\b\b\b\b\b\b\b\b\b\b\b\b\b\b\b\b\b\b\b\b\b\b\b\b\b\b\b\b\b\b\b\b\b\b\b\b\b\b\b\b\b\b\b\b\b\b\b\b\b\b\b\b\b\b\b\b\b\b\b\b\b\b\b\b\b\b\b\b\b\b\b\r1/1 [==============================] - 0s 138ms/step - loss: 0.4690 - accuracy: 0.8479\n",
            "Epoch 587/1000\n",
            "1/1 [==============================] - 0s 24ms/step\n",
            "\n",
            "Validation Accuracy: 38.333333333333336 %\n"
          ]
        },
        {
          "output_type": "stream",
          "name": "stderr",
          "text": [
            "WARNING:tensorflow:Can save best model only with val_loss available, skipping.\n"
          ]
        },
        {
          "output_type": "stream",
          "name": "stdout",
          "text": [
            "\b\b\b\b\b\b\b\b\b\b\b\b\b\b\b\b\b\b\b\b\b\b\b\b\b\b\b\b\b\b\b\b\b\b\b\b\b\b\b\b\b\b\b\b\b\b\b\b\b\b\b\b\b\b\b\b\b\b\b\b\b\b\b\b\b\b\b\b\b\b\b\b\b\b\b\b\b\b\b\b\r1/1 [==============================] - 0s 141ms/step - loss: 0.4672 - accuracy: 0.8457\n",
            "Epoch 588/1000\n",
            "1/1 [==============================] - 0s 24ms/step\n",
            "\n",
            "Validation Accuracy: 37.77777777777778 %\n"
          ]
        },
        {
          "output_type": "stream",
          "name": "stderr",
          "text": [
            "WARNING:tensorflow:Can save best model only with val_loss available, skipping.\n"
          ]
        },
        {
          "output_type": "stream",
          "name": "stdout",
          "text": [
            "\b\b\b\b\b\b\b\b\b\b\b\b\b\b\b\b\b\b\b\b\b\b\b\b\b\b\b\b\b\b\b\b\b\b\b\b\b\b\b\b\b\b\b\b\b\b\b\b\b\b\b\b\b\b\b\b\b\b\b\b\b\b\b\b\b\b\b\b\b\b\b\b\b\b\b\b\b\b\b\b\r1/1 [==============================] - 0s 153ms/step - loss: 0.4727 - accuracy: 0.8483\n",
            "Epoch 589/1000\n",
            "1/1 [==============================] - 0s 20ms/step\n",
            "\n",
            "Validation Accuracy: 38.333333333333336 %\n"
          ]
        },
        {
          "output_type": "stream",
          "name": "stderr",
          "text": [
            "WARNING:tensorflow:Can save best model only with val_loss available, skipping.\n"
          ]
        },
        {
          "output_type": "stream",
          "name": "stdout",
          "text": [
            "\b\b\b\b\b\b\b\b\b\b\b\b\b\b\b\b\b\b\b\b\b\b\b\b\b\b\b\b\b\b\b\b\b\b\b\b\b\b\b\b\b\b\b\b\b\b\b\b\b\b\b\b\b\b\b\b\b\b\b\b\b\b\b\b\b\b\b\b\b\b\b\b\b\b\b\b\b\b\b\b\r1/1 [==============================] - 0s 163ms/step - loss: 0.4715 - accuracy: 0.8440\n",
            "Epoch 590/1000\n",
            "1/1 [==============================] - 0s 21ms/step\n",
            "\n",
            "Validation Accuracy: 38.333333333333336 %\n"
          ]
        },
        {
          "output_type": "stream",
          "name": "stderr",
          "text": [
            "WARNING:tensorflow:Can save best model only with val_loss available, skipping.\n"
          ]
        },
        {
          "output_type": "stream",
          "name": "stdout",
          "text": [
            "\b\b\b\b\b\b\b\b\b\b\b\b\b\b\b\b\b\b\b\b\b\b\b\b\b\b\b\b\b\b\b\b\b\b\b\b\b\b\b\b\b\b\b\b\b\b\b\b\b\b\b\b\b\b\b\b\b\b\b\b\b\b\b\b\b\b\b\b\b\b\b\b\b\b\b\b\b\b\b\b\r1/1 [==============================] - 0s 149ms/step - loss: 0.4687 - accuracy: 0.8461\n",
            "Epoch 591/1000\n",
            "1/1 [==============================] - 0s 21ms/step\n",
            "\n",
            "Validation Accuracy: 38.333333333333336 %\n"
          ]
        },
        {
          "output_type": "stream",
          "name": "stderr",
          "text": [
            "WARNING:tensorflow:Can save best model only with val_loss available, skipping.\n"
          ]
        },
        {
          "output_type": "stream",
          "name": "stdout",
          "text": [
            "\b\b\b\b\b\b\b\b\b\b\b\b\b\b\b\b\b\b\b\b\b\b\b\b\b\b\b\b\b\b\b\b\b\b\b\b\b\b\b\b\b\b\b\b\b\b\b\b\b\b\b\b\b\b\b\b\b\b\b\b\b\b\b\b\b\b\b\b\b\b\b\b\b\b\b\b\b\b\b\b\r1/1 [==============================] - 0s 160ms/step - loss: 0.4714 - accuracy: 0.8441\n",
            "Epoch 592/1000\n",
            "1/1 [==============================] - 0s 26ms/step\n",
            "\n",
            "Validation Accuracy: 38.333333333333336 %\n"
          ]
        },
        {
          "output_type": "stream",
          "name": "stderr",
          "text": [
            "WARNING:tensorflow:Can save best model only with val_loss available, skipping.\n"
          ]
        },
        {
          "output_type": "stream",
          "name": "stdout",
          "text": [
            "\b\b\b\b\b\b\b\b\b\b\b\b\b\b\b\b\b\b\b\b\b\b\b\b\b\b\b\b\b\b\b\b\b\b\b\b\b\b\b\b\b\b\b\b\b\b\b\b\b\b\b\b\b\b\b\b\b\b\b\b\b\b\b\b\b\b\b\b\b\b\b\b\b\b\b\b\b\b\b\b\r1/1 [==============================] - 0s 156ms/step - loss: 0.4645 - accuracy: 0.8468\n",
            "Epoch 593/1000\n",
            "1/1 [==============================] - 0s 23ms/step\n",
            "\n",
            "Validation Accuracy: 38.333333333333336 %\n"
          ]
        },
        {
          "output_type": "stream",
          "name": "stderr",
          "text": [
            "WARNING:tensorflow:Can save best model only with val_loss available, skipping.\n"
          ]
        },
        {
          "output_type": "stream",
          "name": "stdout",
          "text": [
            "\b\b\b\b\b\b\b\b\b\b\b\b\b\b\b\b\b\b\b\b\b\b\b\b\b\b\b\b\b\b\b\b\b\b\b\b\b\b\b\b\b\b\b\b\b\b\b\b\b\b\b\b\b\b\b\b\b\b\b\b\b\b\b\b\b\b\b\b\b\b\b\b\b\b\b\b\b\b\b\b\r1/1 [==============================] - 0s 139ms/step - loss: 0.4666 - accuracy: 0.8468\n",
            "Epoch 594/1000\n",
            "1/1 [==============================] - 0s 24ms/step\n",
            "\n",
            "Validation Accuracy: 38.333333333333336 %\n"
          ]
        },
        {
          "output_type": "stream",
          "name": "stderr",
          "text": [
            "WARNING:tensorflow:Can save best model only with val_loss available, skipping.\n"
          ]
        },
        {
          "output_type": "stream",
          "name": "stdout",
          "text": [
            "\b\b\b\b\b\b\b\b\b\b\b\b\b\b\b\b\b\b\b\b\b\b\b\b\b\b\b\b\b\b\b\b\b\b\b\b\b\b\b\b\b\b\b\b\b\b\b\b\b\b\b\b\b\b\b\b\b\b\b\b\b\b\b\b\b\b\b\b\b\b\b\b\b\b\b\b\b\b\b\b\r1/1 [==============================] - 0s 147ms/step - loss: 0.4755 - accuracy: 0.8487\n",
            "Epoch 595/1000\n",
            "1/1 [==============================] - 0s 30ms/step\n",
            "\n",
            "Validation Accuracy: 38.88888888888889 %\n"
          ]
        },
        {
          "output_type": "stream",
          "name": "stderr",
          "text": [
            "WARNING:tensorflow:Can save best model only with val_loss available, skipping.\n"
          ]
        },
        {
          "output_type": "stream",
          "name": "stdout",
          "text": [
            "\b\b\b\b\b\b\b\b\b\b\b\b\b\b\b\b\b\b\b\b\b\b\b\b\b\b\b\b\b\b\b\b\b\b\b\b\b\b\b\b\b\b\b\b\b\b\b\b\b\b\b\b\b\b\b\b\b\b\b\b\b\b\b\b\b\b\b\b\b\b\b\b\b\b\b\b\b\b\b\b\r1/1 [==============================] - 0s 158ms/step - loss: 0.4703 - accuracy: 0.8472\n",
            "Epoch 596/1000\n",
            "1/1 [==============================] - 0s 30ms/step\n",
            "\n",
            "Validation Accuracy: 38.88888888888889 %\n"
          ]
        },
        {
          "output_type": "stream",
          "name": "stderr",
          "text": [
            "WARNING:tensorflow:Can save best model only with val_loss available, skipping.\n"
          ]
        },
        {
          "output_type": "stream",
          "name": "stdout",
          "text": [
            "\b\b\b\b\b\b\b\b\b\b\b\b\b\b\b\b\b\b\b\b\b\b\b\b\b\b\b\b\b\b\b\b\b\b\b\b\b\b\b\b\b\b\b\b\b\b\b\b\b\b\b\b\b\b\b\b\b\b\b\b\b\b\b\b\b\b\b\b\b\b\b\b\b\b\b\b\b\b\b\b\r1/1 [==============================] - 0s 179ms/step - loss: 0.4669 - accuracy: 0.8489\n",
            "Epoch 597/1000\n",
            "1/1 [==============================] - 0s 40ms/step\n",
            "\n",
            "Validation Accuracy: 38.88888888888889 %\n"
          ]
        },
        {
          "output_type": "stream",
          "name": "stderr",
          "text": [
            "WARNING:tensorflow:Can save best model only with val_loss available, skipping.\n"
          ]
        },
        {
          "output_type": "stream",
          "name": "stdout",
          "text": [
            "\b\b\b\b\b\b\b\b\b\b\b\b\b\b\b\b\b\b\b\b\b\b\b\b\b\b\b\b\b\b\b\b\b\b\b\b\b\b\b\b\b\b\b\b\b\b\b\b\b\b\b\b\b\b\b\b\b\b\b\b\b\b\b\b\b\b\b\b\b\b\b\b\b\b\b\b\b\b\b\b\r1/1 [==============================] - 0s 200ms/step - loss: 0.4665 - accuracy: 0.8476\n",
            "Epoch 598/1000\n",
            "1/1 [==============================] - 0s 27ms/step\n",
            "\n",
            "Validation Accuracy: 38.88888888888889 %\n"
          ]
        },
        {
          "output_type": "stream",
          "name": "stderr",
          "text": [
            "WARNING:tensorflow:Can save best model only with val_loss available, skipping.\n"
          ]
        },
        {
          "output_type": "stream",
          "name": "stdout",
          "text": [
            "\b\b\b\b\b\b\b\b\b\b\b\b\b\b\b\b\b\b\b\b\b\b\b\b\b\b\b\b\b\b\b\b\b\b\b\b\b\b\b\b\b\b\b\b\b\b\b\b\b\b\b\b\b\b\b\b\b\b\b\b\b\b\b\b\b\b\b\b\b\b\b\b\b\b\b\b\b\b\b\b\r1/1 [==============================] - 0s 144ms/step - loss: 0.4697 - accuracy: 0.8487\n",
            "Epoch 599/1000\n",
            "1/1 [==============================] - 0s 28ms/step\n",
            "\n",
            "Validation Accuracy: 38.88888888888889 %\n"
          ]
        },
        {
          "output_type": "stream",
          "name": "stderr",
          "text": [
            "WARNING:tensorflow:Can save best model only with val_loss available, skipping.\n"
          ]
        },
        {
          "output_type": "stream",
          "name": "stdout",
          "text": [
            "\b\b\b\b\b\b\b\b\b\b\b\b\b\b\b\b\b\b\b\b\b\b\b\b\b\b\b\b\b\b\b\b\b\b\b\b\b\b\b\b\b\b\b\b\b\b\b\b\b\b\b\b\b\b\b\b\b\b\b\b\b\b\b\b\b\b\b\b\b\b\b\b\b\b\b\b\b\b\b\b\r1/1 [==============================] - 0s 159ms/step - loss: 0.4620 - accuracy: 0.8475\n",
            "Epoch 600/1000\n",
            "1/1 [==============================] - 0s 29ms/step\n",
            "\n",
            "Validation Accuracy: 38.333333333333336 %\n"
          ]
        },
        {
          "output_type": "stream",
          "name": "stderr",
          "text": [
            "WARNING:tensorflow:Can save best model only with val_loss available, skipping.\n"
          ]
        },
        {
          "output_type": "stream",
          "name": "stdout",
          "text": [
            "\b\b\b\b\b\b\b\b\b\b\b\b\b\b\b\b\b\b\b\b\b\b\b\b\b\b\b\b\b\b\b\b\b\b\b\b\b\b\b\b\b\b\b\b\b\b\b\b\b\b\b\b\b\b\b\b\b\b\b\b\b\b\b\b\b\b\b\b\b\b\b\b\b\b\b\b\b\b\b\b\r1/1 [==============================] - 0s 206ms/step - loss: 0.4764 - accuracy: 0.8431\n",
            "Epoch 601/1000\n",
            "1/1 [==============================] - 0s 31ms/step\n",
            "\n",
            "Validation Accuracy: 38.333333333333336 %\n"
          ]
        },
        {
          "output_type": "stream",
          "name": "stderr",
          "text": [
            "WARNING:tensorflow:Can save best model only with val_loss available, skipping.\n"
          ]
        },
        {
          "output_type": "stream",
          "name": "stdout",
          "text": [
            "\b\b\b\b\b\b\b\b\b\b\b\b\b\b\b\b\b\b\b\b\b\b\b\b\b\b\b\b\b\b\b\b\b\b\b\b\b\b\b\b\b\b\b\b\b\b\b\b\b\b\b\b\b\b\b\b\b\b\b\b\b\b\b\b\b\b\b\b\b\b\b\b\b\b\b\b\b\b\b\b\r1/1 [==============================] - 0s 177ms/step - loss: 0.4710 - accuracy: 0.8469\n",
            "Epoch 602/1000\n",
            "1/1 [==============================] - 0s 29ms/step\n",
            "\n",
            "Validation Accuracy: 38.333333333333336 %\n"
          ]
        },
        {
          "output_type": "stream",
          "name": "stderr",
          "text": [
            "WARNING:tensorflow:Can save best model only with val_loss available, skipping.\n"
          ]
        },
        {
          "output_type": "stream",
          "name": "stdout",
          "text": [
            "\b\b\b\b\b\b\b\b\b\b\b\b\b\b\b\b\b\b\b\b\b\b\b\b\b\b\b\b\b\b\b\b\b\b\b\b\b\b\b\b\b\b\b\b\b\b\b\b\b\b\b\b\b\b\b\b\b\b\b\b\b\b\b\b\b\b\b\b\b\b\b\b\b\b\b\b\b\b\b\b\r1/1 [==============================] - 0s 159ms/step - loss: 0.4628 - accuracy: 0.8479\n",
            "Epoch 603/1000\n",
            "1/1 [==============================] - 0s 61ms/step\n",
            "\n",
            "Validation Accuracy: 37.77777777777778 %\n"
          ]
        },
        {
          "output_type": "stream",
          "name": "stderr",
          "text": [
            "WARNING:tensorflow:Can save best model only with val_loss available, skipping.\n"
          ]
        },
        {
          "output_type": "stream",
          "name": "stdout",
          "text": [
            "\b\b\b\b\b\b\b\b\b\b\b\b\b\b\b\b\b\b\b\b\b\b\b\b\b\b\b\b\b\b\b\b\b\b\b\b\b\b\b\b\b\b\b\b\b\b\b\b\b\b\b\b\b\b\b\b\b\b\b\b\b\b\b\b\b\b\b\b\b\b\b\b\b\b\b\b\b\b\b\b\r1/1 [==============================] - 0s 272ms/step - loss: 0.4661 - accuracy: 0.8462\n",
            "Epoch 604/1000\n",
            "1/1 [==============================] - 0s 63ms/step\n",
            "\n",
            "Validation Accuracy: 37.77777777777778 %\n"
          ]
        },
        {
          "output_type": "stream",
          "name": "stderr",
          "text": [
            "WARNING:tensorflow:Can save best model only with val_loss available, skipping.\n"
          ]
        },
        {
          "output_type": "stream",
          "name": "stdout",
          "text": [
            "\b\b\b\b\b\b\b\b\b\b\b\b\b\b\b\b\b\b\b\b\b\b\b\b\b\b\b\b\b\b\b\b\b\b\b\b\b\b\b\b\b\b\b\b\b\b\b\b\b\b\b\b\b\b\b\b\b\b\b\b\b\b\b\b\b\b\b\b\b\b\b\b\b\b\b\b\b\b\b\b\r1/1 [==============================] - 0s 275ms/step - loss: 0.4618 - accuracy: 0.8480\n",
            "Epoch 605/1000\n",
            "1/1 [==============================] - 0s 52ms/step\n",
            "\n",
            "Validation Accuracy: 38.333333333333336 %\n"
          ]
        },
        {
          "output_type": "stream",
          "name": "stderr",
          "text": [
            "WARNING:tensorflow:Can save best model only with val_loss available, skipping.\n"
          ]
        },
        {
          "output_type": "stream",
          "name": "stdout",
          "text": [
            "\b\b\b\b\b\b\b\b\b\b\b\b\b\b\b\b\b\b\b\b\b\b\b\b\b\b\b\b\b\b\b\b\b\b\b\b\b\b\b\b\b\b\b\b\b\b\b\b\b\b\b\b\b\b\b\b\b\b\b\b\b\b\b\b\b\b\b\b\b\b\b\b\b\b\b\b\b\b\b\b\r1/1 [==============================] - 0s 245ms/step - loss: 0.4568 - accuracy: 0.8503\n",
            "Epoch 606/1000\n",
            "1/1 [==============================] - 0s 44ms/step\n",
            "\n",
            "Validation Accuracy: 38.333333333333336 %\n"
          ]
        },
        {
          "output_type": "stream",
          "name": "stderr",
          "text": [
            "WARNING:tensorflow:Can save best model only with val_loss available, skipping.\n"
          ]
        },
        {
          "output_type": "stream",
          "name": "stdout",
          "text": [
            "\b\b\b\b\b\b\b\b\b\b\b\b\b\b\b\b\b\b\b\b\b\b\b\b\b\b\b\b\b\b\b\b\b\b\b\b\b\b\b\b\b\b\b\b\b\b\b\b\b\b\b\b\b\b\b\b\b\b\b\b\b\b\b\b\b\b\b\b\b\b\b\b\b\b\b\b\b\b\b\b\r1/1 [==============================] - 0s 251ms/step - loss: 0.4663 - accuracy: 0.8452\n",
            "Epoch 607/1000\n",
            "1/1 [==============================] - 0s 36ms/step\n",
            "\n",
            "Validation Accuracy: 38.88888888888889 %\n"
          ]
        },
        {
          "output_type": "stream",
          "name": "stderr",
          "text": [
            "WARNING:tensorflow:Can save best model only with val_loss available, skipping.\n"
          ]
        },
        {
          "output_type": "stream",
          "name": "stdout",
          "text": [
            "\b\b\b\b\b\b\b\b\b\b\b\b\b\b\b\b\b\b\b\b\b\b\b\b\b\b\b\b\b\b\b\b\b\b\b\b\b\b\b\b\b\b\b\b\b\b\b\b\b\b\b\b\b\b\b\b\b\b\b\b\b\b\b\b\b\b\b\b\b\b\b\b\b\b\b\b\b\b\b\b\r1/1 [==============================] - 0s 175ms/step - loss: 0.4567 - accuracy: 0.8465\n",
            "Epoch 608/1000\n",
            "1/1 [==============================] - 0s 61ms/step\n",
            "\n",
            "Validation Accuracy: 38.88888888888889 %\n"
          ]
        },
        {
          "output_type": "stream",
          "name": "stderr",
          "text": [
            "WARNING:tensorflow:Can save best model only with val_loss available, skipping.\n"
          ]
        },
        {
          "output_type": "stream",
          "name": "stdout",
          "text": [
            "\b\b\b\b\b\b\b\b\b\b\b\b\b\b\b\b\b\b\b\b\b\b\b\b\b\b\b\b\b\b\b\b\b\b\b\b\b\b\b\b\b\b\b\b\b\b\b\b\b\b\b\b\b\b\b\b\b\b\b\b\b\b\b\b\b\b\b\b\b\b\b\b\b\b\b\b\b\b\b\b\r1/1 [==============================] - 0s 258ms/step - loss: 0.4643 - accuracy: 0.8455\n",
            "Epoch 609/1000\n",
            "1/1 [==============================] - 0s 29ms/step\n",
            "\n",
            "Validation Accuracy: 38.88888888888889 %\n"
          ]
        },
        {
          "output_type": "stream",
          "name": "stderr",
          "text": [
            "WARNING:tensorflow:Can save best model only with val_loss available, skipping.\n"
          ]
        },
        {
          "output_type": "stream",
          "name": "stdout",
          "text": [
            "\b\b\b\b\b\b\b\b\b\b\b\b\b\b\b\b\b\b\b\b\b\b\b\b\b\b\b\b\b\b\b\b\b\b\b\b\b\b\b\b\b\b\b\b\b\b\b\b\b\b\b\b\b\b\b\b\b\b\b\b\b\b\b\b\b\b\b\b\b\b\b\b\b\b\b\b\b\b\b\b\r1/1 [==============================] - 0s 193ms/step - loss: 0.4568 - accuracy: 0.8483\n",
            "Epoch 610/1000\n",
            "1/1 [==============================] - 0s 36ms/step\n",
            "\n",
            "Validation Accuracy: 38.333333333333336 %\n"
          ]
        },
        {
          "output_type": "stream",
          "name": "stderr",
          "text": [
            "WARNING:tensorflow:Can save best model only with val_loss available, skipping.\n"
          ]
        },
        {
          "output_type": "stream",
          "name": "stdout",
          "text": [
            "\b\b\b\b\b\b\b\b\b\b\b\b\b\b\b\b\b\b\b\b\b\b\b\b\b\b\b\b\b\b\b\b\b\b\b\b\b\b\b\b\b\b\b\b\b\b\b\b\b\b\b\b\b\b\b\b\b\b\b\b\b\b\b\b\b\b\b\b\b\b\b\b\b\b\b\b\b\b\b\b\r1/1 [==============================] - 0s 176ms/step - loss: 0.4581 - accuracy: 0.8487\n",
            "Epoch 611/1000\n",
            "1/1 [==============================] - 0s 43ms/step\n",
            "\n",
            "Validation Accuracy: 38.88888888888889 %\n"
          ]
        },
        {
          "output_type": "stream",
          "name": "stderr",
          "text": [
            "WARNING:tensorflow:Can save best model only with val_loss available, skipping.\n"
          ]
        },
        {
          "output_type": "stream",
          "name": "stdout",
          "text": [
            "\b\b\b\b\b\b\b\b\b\b\b\b\b\b\b\b\b\b\b\b\b\b\b\b\b\b\b\b\b\b\b\b\b\b\b\b\b\b\b\b\b\b\b\b\b\b\b\b\b\b\b\b\b\b\b\b\b\b\b\b\b\b\b\b\b\b\b\b\b\b\b\b\b\b\b\b\b\b\b\b\r1/1 [==============================] - 0s 199ms/step - loss: 0.4585 - accuracy: 0.8494\n",
            "Epoch 612/1000\n",
            "1/1 [==============================] - 0s 38ms/step\n",
            "\n",
            "Validation Accuracy: 38.88888888888889 %\n"
          ]
        },
        {
          "output_type": "stream",
          "name": "stderr",
          "text": [
            "WARNING:tensorflow:Can save best model only with val_loss available, skipping.\n"
          ]
        },
        {
          "output_type": "stream",
          "name": "stdout",
          "text": [
            "\b\b\b\b\b\b\b\b\b\b\b\b\b\b\b\b\b\b\b\b\b\b\b\b\b\b\b\b\b\b\b\b\b\b\b\b\b\b\b\b\b\b\b\b\b\b\b\b\b\b\b\b\b\b\b\b\b\b\b\b\b\b\b\b\b\b\b\b\b\b\b\b\b\b\b\b\b\b\b\b\r1/1 [==============================] - 0s 205ms/step - loss: 0.4587 - accuracy: 0.8486\n",
            "Epoch 613/1000\n",
            "1/1 [==============================] - 0s 32ms/step\n",
            "\n",
            "Validation Accuracy: 39.44444444444444 %\n"
          ]
        },
        {
          "output_type": "stream",
          "name": "stderr",
          "text": [
            "WARNING:tensorflow:Can save best model only with val_loss available, skipping.\n"
          ]
        },
        {
          "output_type": "stream",
          "name": "stdout",
          "text": [
            "\b\b\b\b\b\b\b\b\b\b\b\b\b\b\b\b\b\b\b\b\b\b\b\b\b\b\b\b\b\b\b\b\b\b\b\b\b\b\b\b\b\b\b\b\b\b\b\b\b\b\b\b\b\b\b\b\b\b\b\b\b\b\b\b\b\b\b\b\b\b\b\b\b\b\b\b\b\b\b\b\r1/1 [==============================] - 0s 171ms/step - loss: 0.4532 - accuracy: 0.8529\n",
            "Epoch 614/1000\n",
            "1/1 [==============================] - 0s 33ms/step\n",
            "\n",
            "Validation Accuracy: 38.88888888888889 %\n"
          ]
        },
        {
          "output_type": "stream",
          "name": "stderr",
          "text": [
            "WARNING:tensorflow:Can save best model only with val_loss available, skipping.\n"
          ]
        },
        {
          "output_type": "stream",
          "name": "stdout",
          "text": [
            "\b\b\b\b\b\b\b\b\b\b\b\b\b\b\b\b\b\b\b\b\b\b\b\b\b\b\b\b\b\b\b\b\b\b\b\b\b\b\b\b\b\b\b\b\b\b\b\b\b\b\b\b\b\b\b\b\b\b\b\b\b\b\b\b\b\b\b\b\b\b\b\b\b\b\b\b\b\b\b\b\r1/1 [==============================] - 0s 170ms/step - loss: 0.4534 - accuracy: 0.8483\n",
            "Epoch 615/1000\n",
            "1/1 [==============================] - 0s 27ms/step\n",
            "\n",
            "Validation Accuracy: 38.88888888888889 %\n"
          ]
        },
        {
          "output_type": "stream",
          "name": "stderr",
          "text": [
            "WARNING:tensorflow:Can save best model only with val_loss available, skipping.\n"
          ]
        },
        {
          "output_type": "stream",
          "name": "stdout",
          "text": [
            "\b\b\b\b\b\b\b\b\b\b\b\b\b\b\b\b\b\b\b\b\b\b\b\b\b\b\b\b\b\b\b\b\b\b\b\b\b\b\b\b\b\b\b\b\b\b\b\b\b\b\b\b\b\b\b\b\b\b\b\b\b\b\b\b\b\b\b\b\b\b\b\b\b\b\b\b\b\b\b\b\r1/1 [==============================] - 0s 147ms/step - loss: 0.4528 - accuracy: 0.8560\n",
            "Epoch 616/1000\n",
            "1/1 [==============================] - 0s 35ms/step\n",
            "\n",
            "Validation Accuracy: 38.88888888888889 %\n"
          ]
        },
        {
          "output_type": "stream",
          "name": "stderr",
          "text": [
            "WARNING:tensorflow:Can save best model only with val_loss available, skipping.\n"
          ]
        },
        {
          "output_type": "stream",
          "name": "stdout",
          "text": [
            "\b\b\b\b\b\b\b\b\b\b\b\b\b\b\b\b\b\b\b\b\b\b\b\b\b\b\b\b\b\b\b\b\b\b\b\b\b\b\b\b\b\b\b\b\b\b\b\b\b\b\b\b\b\b\b\b\b\b\b\b\b\b\b\b\b\b\b\b\b\b\b\b\b\b\b\b\b\b\b\b\r1/1 [==============================] - 0s 173ms/step - loss: 0.4627 - accuracy: 0.8443\n",
            "Epoch 617/1000\n",
            "1/1 [==============================] - 0s 32ms/step\n",
            "\n",
            "Validation Accuracy: 38.88888888888889 %\n"
          ]
        },
        {
          "output_type": "stream",
          "name": "stderr",
          "text": [
            "WARNING:tensorflow:Can save best model only with val_loss available, skipping.\n"
          ]
        },
        {
          "output_type": "stream",
          "name": "stdout",
          "text": [
            "\b\b\b\b\b\b\b\b\b\b\b\b\b\b\b\b\b\b\b\b\b\b\b\b\b\b\b\b\b\b\b\b\b\b\b\b\b\b\b\b\b\b\b\b\b\b\b\b\b\b\b\b\b\b\b\b\b\b\b\b\b\b\b\b\b\b\b\b\b\b\b\b\b\b\b\b\b\b\b\b\r1/1 [==============================] - 0s 195ms/step - loss: 0.4512 - accuracy: 0.8522\n",
            "Epoch 618/1000\n",
            "1/1 [==============================] - 0s 39ms/step\n",
            "\n",
            "Validation Accuracy: 38.88888888888889 %\n"
          ]
        },
        {
          "output_type": "stream",
          "name": "stderr",
          "text": [
            "WARNING:tensorflow:Can save best model only with val_loss available, skipping.\n"
          ]
        },
        {
          "output_type": "stream",
          "name": "stdout",
          "text": [
            "\b\b\b\b\b\b\b\b\b\b\b\b\b\b\b\b\b\b\b\b\b\b\b\b\b\b\b\b\b\b\b\b\b\b\b\b\b\b\b\b\b\b\b\b\b\b\b\b\b\b\b\b\b\b\b\b\b\b\b\b\b\b\b\b\b\b\b\b\b\b\b\b\b\b\b\b\b\b\b\b\r1/1 [==============================] - 0s 203ms/step - loss: 0.4600 - accuracy: 0.8500\n",
            "Epoch 619/1000\n",
            "1/1 [==============================] - 0s 48ms/step\n",
            "\n",
            "Validation Accuracy: 38.88888888888889 %\n"
          ]
        },
        {
          "output_type": "stream",
          "name": "stderr",
          "text": [
            "WARNING:tensorflow:Can save best model only with val_loss available, skipping.\n"
          ]
        },
        {
          "output_type": "stream",
          "name": "stdout",
          "text": [
            "\b\b\b\b\b\b\b\b\b\b\b\b\b\b\b\b\b\b\b\b\b\b\b\b\b\b\b\b\b\b\b\b\b\b\b\b\b\b\b\b\b\b\b\b\b\b\b\b\b\b\b\b\b\b\b\b\b\b\b\b\b\b\b\b\b\b\b\b\b\b\b\b\b\b\b\b\b\b\b\b\r1/1 [==============================] - 0s 218ms/step - loss: 0.4619 - accuracy: 0.8492\n",
            "Epoch 620/1000\n",
            "1/1 [==============================] - 0s 35ms/step\n",
            "\n",
            "Validation Accuracy: 38.88888888888889 %\n"
          ]
        },
        {
          "output_type": "stream",
          "name": "stderr",
          "text": [
            "WARNING:tensorflow:Can save best model only with val_loss available, skipping.\n"
          ]
        },
        {
          "output_type": "stream",
          "name": "stdout",
          "text": [
            "\b\b\b\b\b\b\b\b\b\b\b\b\b\b\b\b\b\b\b\b\b\b\b\b\b\b\b\b\b\b\b\b\b\b\b\b\b\b\b\b\b\b\b\b\b\b\b\b\b\b\b\b\b\b\b\b\b\b\b\b\b\b\b\b\b\b\b\b\b\b\b\b\b\b\b\b\b\b\b\b\r1/1 [==============================] - 0s 220ms/step - loss: 0.4621 - accuracy: 0.8534\n",
            "Epoch 621/1000\n",
            "1/1 [==============================] - 0s 33ms/step\n",
            "\n",
            "Validation Accuracy: 38.88888888888889 %\n"
          ]
        },
        {
          "output_type": "stream",
          "name": "stderr",
          "text": [
            "WARNING:tensorflow:Can save best model only with val_loss available, skipping.\n"
          ]
        },
        {
          "output_type": "stream",
          "name": "stdout",
          "text": [
            "\b\b\b\b\b\b\b\b\b\b\b\b\b\b\b\b\b\b\b\b\b\b\b\b\b\b\b\b\b\b\b\b\b\b\b\b\b\b\b\b\b\b\b\b\b\b\b\b\b\b\b\b\b\b\b\b\b\b\b\b\b\b\b\b\b\b\b\b\b\b\b\b\b\b\b\b\b\b\b\b\r1/1 [==============================] - 0s 174ms/step - loss: 0.4463 - accuracy: 0.8541\n",
            "Epoch 622/1000\n",
            "1/1 [==============================] - 0s 45ms/step\n",
            "\n",
            "Validation Accuracy: 38.333333333333336 %\n"
          ]
        },
        {
          "output_type": "stream",
          "name": "stderr",
          "text": [
            "WARNING:tensorflow:Can save best model only with val_loss available, skipping.\n"
          ]
        },
        {
          "output_type": "stream",
          "name": "stdout",
          "text": [
            "\b\b\b\b\b\b\b\b\b\b\b\b\b\b\b\b\b\b\b\b\b\b\b\b\b\b\b\b\b\b\b\b\b\b\b\b\b\b\b\b\b\b\b\b\b\b\b\b\b\b\b\b\b\b\b\b\b\b\b\b\b\b\b\b\b\b\b\b\b\b\b\b\b\b\b\b\b\b\b\b\r1/1 [==============================] - 0s 219ms/step - loss: 0.4578 - accuracy: 0.8485\n",
            "Epoch 623/1000\n",
            "1/1 [==============================] - 0s 31ms/step\n",
            "\n",
            "Validation Accuracy: 38.88888888888889 %\n"
          ]
        },
        {
          "output_type": "stream",
          "name": "stderr",
          "text": [
            "WARNING:tensorflow:Can save best model only with val_loss available, skipping.\n"
          ]
        },
        {
          "output_type": "stream",
          "name": "stdout",
          "text": [
            "\b\b\b\b\b\b\b\b\b\b\b\b\b\b\b\b\b\b\b\b\b\b\b\b\b\b\b\b\b\b\b\b\b\b\b\b\b\b\b\b\b\b\b\b\b\b\b\b\b\b\b\b\b\b\b\b\b\b\b\b\b\b\b\b\b\b\b\b\b\b\b\b\b\b\b\b\b\b\b\b\r1/1 [==============================] - 0s 179ms/step - loss: 0.4628 - accuracy: 0.8437\n",
            "Epoch 624/1000\n",
            "1/1 [==============================] - 0s 59ms/step\n",
            "\n",
            "Validation Accuracy: 39.44444444444444 %\n"
          ]
        },
        {
          "output_type": "stream",
          "name": "stderr",
          "text": [
            "WARNING:tensorflow:Can save best model only with val_loss available, skipping.\n"
          ]
        },
        {
          "output_type": "stream",
          "name": "stdout",
          "text": [
            "\b\b\b\b\b\b\b\b\b\b\b\b\b\b\b\b\b\b\b\b\b\b\b\b\b\b\b\b\b\b\b\b\b\b\b\b\b\b\b\b\b\b\b\b\b\b\b\b\b\b\b\b\b\b\b\b\b\b\b\b\b\b\b\b\b\b\b\b\b\b\b\b\b\b\b\b\b\b\b\b\r1/1 [==============================] - 0s 254ms/step - loss: 0.4526 - accuracy: 0.8503\n",
            "Epoch 625/1000\n",
            "1/1 [==============================] - 0s 37ms/step\n",
            "\n",
            "Validation Accuracy: 39.44444444444444 %\n"
          ]
        },
        {
          "output_type": "stream",
          "name": "stderr",
          "text": [
            "WARNING:tensorflow:Can save best model only with val_loss available, skipping.\n"
          ]
        },
        {
          "output_type": "stream",
          "name": "stdout",
          "text": [
            "\b\b\b\b\b\b\b\b\b\b\b\b\b\b\b\b\b\b\b\b\b\b\b\b\b\b\b\b\b\b\b\b\b\b\b\b\b\b\b\b\b\b\b\b\b\b\b\b\b\b\b\b\b\b\b\b\b\b\b\b\b\b\b\b\b\b\b\b\b\b\b\b\b\b\b\b\b\b\b\b\r1/1 [==============================] - 0s 216ms/step - loss: 0.4667 - accuracy: 0.8478\n",
            "Epoch 626/1000\n",
            "1/1 [==============================] - 0s 41ms/step\n",
            "\n",
            "Validation Accuracy: 39.44444444444444 %\n"
          ]
        },
        {
          "output_type": "stream",
          "name": "stderr",
          "text": [
            "WARNING:tensorflow:Can save best model only with val_loss available, skipping.\n"
          ]
        },
        {
          "output_type": "stream",
          "name": "stdout",
          "text": [
            "\b\b\b\b\b\b\b\b\b\b\b\b\b\b\b\b\b\b\b\b\b\b\b\b\b\b\b\b\b\b\b\b\b\b\b\b\b\b\b\b\b\b\b\b\b\b\b\b\b\b\b\b\b\b\b\b\b\b\b\b\b\b\b\b\b\b\b\b\b\b\b\b\b\b\b\b\b\b\b\b\r1/1 [==============================] - 0s 214ms/step - loss: 0.4609 - accuracy: 0.8480\n",
            "Epoch 627/1000\n",
            "1/1 [==============================] - 0s 42ms/step\n",
            "\n",
            "Validation Accuracy: 39.44444444444444 %\n"
          ]
        },
        {
          "output_type": "stream",
          "name": "stderr",
          "text": [
            "WARNING:tensorflow:Can save best model only with val_loss available, skipping.\n"
          ]
        },
        {
          "output_type": "stream",
          "name": "stdout",
          "text": [
            "\b\b\b\b\b\b\b\b\b\b\b\b\b\b\b\b\b\b\b\b\b\b\b\b\b\b\b\b\b\b\b\b\b\b\b\b\b\b\b\b\b\b\b\b\b\b\b\b\b\b\b\b\b\b\b\b\b\b\b\b\b\b\b\b\b\b\b\b\b\b\b\b\b\b\b\b\b\b\b\b\r1/1 [==============================] - 0s 210ms/step - loss: 0.4541 - accuracy: 0.8492\n",
            "Epoch 628/1000\n",
            "1/1 [==============================] - 0s 43ms/step\n",
            "\n",
            "Validation Accuracy: 38.88888888888889 %\n"
          ]
        },
        {
          "output_type": "stream",
          "name": "stderr",
          "text": [
            "WARNING:tensorflow:Can save best model only with val_loss available, skipping.\n"
          ]
        },
        {
          "output_type": "stream",
          "name": "stdout",
          "text": [
            "\b\b\b\b\b\b\b\b\b\b\b\b\b\b\b\b\b\b\b\b\b\b\b\b\b\b\b\b\b\b\b\b\b\b\b\b\b\b\b\b\b\b\b\b\b\b\b\b\b\b\b\b\b\b\b\b\b\b\b\b\b\b\b\b\b\b\b\b\b\b\b\b\b\b\b\b\b\b\b\b\r1/1 [==============================] - 0s 210ms/step - loss: 0.4578 - accuracy: 0.8500\n",
            "Epoch 629/1000\n",
            "1/1 [==============================] - 0s 46ms/step\n",
            "\n",
            "Validation Accuracy: 38.88888888888889 %\n"
          ]
        },
        {
          "output_type": "stream",
          "name": "stderr",
          "text": [
            "WARNING:tensorflow:Can save best model only with val_loss available, skipping.\n"
          ]
        },
        {
          "output_type": "stream",
          "name": "stdout",
          "text": [
            "\b\b\b\b\b\b\b\b\b\b\b\b\b\b\b\b\b\b\b\b\b\b\b\b\b\b\b\b\b\b\b\b\b\b\b\b\b\b\b\b\b\b\b\b\b\b\b\b\b\b\b\b\b\b\b\b\b\b\b\b\b\b\b\b\b\b\b\b\b\b\b\b\b\b\b\b\b\b\b\b\r1/1 [==============================] - 0s 243ms/step - loss: 0.4563 - accuracy: 0.8483\n",
            "Epoch 630/1000\n",
            "1/1 [==============================] - 0s 59ms/step\n",
            "\n",
            "Validation Accuracy: 38.333333333333336 %\n"
          ]
        },
        {
          "output_type": "stream",
          "name": "stderr",
          "text": [
            "WARNING:tensorflow:Can save best model only with val_loss available, skipping.\n"
          ]
        },
        {
          "output_type": "stream",
          "name": "stdout",
          "text": [
            "\b\b\b\b\b\b\b\b\b\b\b\b\b\b\b\b\b\b\b\b\b\b\b\b\b\b\b\b\b\b\b\b\b\b\b\b\b\b\b\b\b\b\b\b\b\b\b\b\b\b\b\b\b\b\b\b\b\b\b\b\b\b\b\b\b\b\b\b\b\b\b\b\b\b\b\b\b\b\b\b\r1/1 [==============================] - 0s 251ms/step - loss: 0.4495 - accuracy: 0.8513\n",
            "Epoch 631/1000\n",
            "1/1 [==============================] - 0s 64ms/step\n",
            "\n",
            "Validation Accuracy: 38.333333333333336 %\n"
          ]
        },
        {
          "output_type": "stream",
          "name": "stderr",
          "text": [
            "WARNING:tensorflow:Can save best model only with val_loss available, skipping.\n"
          ]
        },
        {
          "output_type": "stream",
          "name": "stdout",
          "text": [
            "\b\b\b\b\b\b\b\b\b\b\b\b\b\b\b\b\b\b\b\b\b\b\b\b\b\b\b\b\b\b\b\b\b\b\b\b\b\b\b\b\b\b\b\b\b\b\b\b\b\b\b\b\b\b\b\b\b\b\b\b\b\b\b\b\b\b\b\b\b\b\b\b\b\b\b\b\b\b\b\b\r1/1 [==============================] - 0s 257ms/step - loss: 0.4526 - accuracy: 0.8501\n",
            "Epoch 632/1000\n",
            "1/1 [==============================] - 0s 32ms/step\n",
            "\n",
            "Validation Accuracy: 37.77777777777778 %\n"
          ]
        },
        {
          "output_type": "stream",
          "name": "stderr",
          "text": [
            "WARNING:tensorflow:Can save best model only with val_loss available, skipping.\n"
          ]
        },
        {
          "output_type": "stream",
          "name": "stdout",
          "text": [
            "\b\b\b\b\b\b\b\b\b\b\b\b\b\b\b\b\b\b\b\b\b\b\b\b\b\b\b\b\b\b\b\b\b\b\b\b\b\b\b\b\b\b\b\b\b\b\b\b\b\b\b\b\b\b\b\b\b\b\b\b\b\b\b\b\b\b\b\b\b\b\b\b\b\b\b\b\b\b\b\b\r1/1 [==============================] - 0s 202ms/step - loss: 0.4581 - accuracy: 0.8479\n",
            "Epoch 633/1000\n",
            "1/1 [==============================] - 0s 35ms/step\n",
            "\n",
            "Validation Accuracy: 37.22222222222222 %\n"
          ]
        },
        {
          "output_type": "stream",
          "name": "stderr",
          "text": [
            "WARNING:tensorflow:Can save best model only with val_loss available, skipping.\n"
          ]
        },
        {
          "output_type": "stream",
          "name": "stdout",
          "text": [
            "\b\b\b\b\b\b\b\b\b\b\b\b\b\b\b\b\b\b\b\b\b\b\b\b\b\b\b\b\b\b\b\b\b\b\b\b\b\b\b\b\b\b\b\b\b\b\b\b\b\b\b\b\b\b\b\b\b\b\b\b\b\b\b\b\b\b\b\b\b\b\b\b\b\b\b\b\b\b\b\b\r1/1 [==============================] - 0s 208ms/step - loss: 0.4495 - accuracy: 0.8500\n",
            "Epoch 634/1000\n",
            "1/1 [==============================] - 0s 30ms/step\n",
            "\n",
            "Validation Accuracy: 37.22222222222222 %\n"
          ]
        },
        {
          "output_type": "stream",
          "name": "stderr",
          "text": [
            "WARNING:tensorflow:Can save best model only with val_loss available, skipping.\n"
          ]
        },
        {
          "output_type": "stream",
          "name": "stdout",
          "text": [
            "\b\b\b\b\b\b\b\b\b\b\b\b\b\b\b\b\b\b\b\b\b\b\b\b\b\b\b\b\b\b\b\b\b\b\b\b\b\b\b\b\b\b\b\b\b\b\b\b\b\b\b\b\b\b\b\b\b\b\b\b\b\b\b\b\b\b\b\b\b\b\b\b\b\b\b\b\b\b\b\b\r1/1 [==============================] - 0s 170ms/step - loss: 0.4549 - accuracy: 0.8515\n",
            "Epoch 635/1000\n",
            "1/1 [==============================] - 0s 28ms/step\n",
            "\n",
            "Validation Accuracy: 38.333333333333336 %\n"
          ]
        },
        {
          "output_type": "stream",
          "name": "stderr",
          "text": [
            "WARNING:tensorflow:Can save best model only with val_loss available, skipping.\n"
          ]
        },
        {
          "output_type": "stream",
          "name": "stdout",
          "text": [
            "\b\b\b\b\b\b\b\b\b\b\b\b\b\b\b\b\b\b\b\b\b\b\b\b\b\b\b\b\b\b\b\b\b\b\b\b\b\b\b\b\b\b\b\b\b\b\b\b\b\b\b\b\b\b\b\b\b\b\b\b\b\b\b\b\b\b\b\b\b\b\b\b\b\b\b\b\b\b\b\b\r1/1 [==============================] - 0s 153ms/step - loss: 0.4508 - accuracy: 0.8521\n",
            "Epoch 636/1000\n",
            "1/1 [==============================] - 0s 33ms/step\n",
            "\n",
            "Validation Accuracy: 38.333333333333336 %\n"
          ]
        },
        {
          "output_type": "stream",
          "name": "stderr",
          "text": [
            "WARNING:tensorflow:Can save best model only with val_loss available, skipping.\n"
          ]
        },
        {
          "output_type": "stream",
          "name": "stdout",
          "text": [
            "\b\b\b\b\b\b\b\b\b\b\b\b\b\b\b\b\b\b\b\b\b\b\b\b\b\b\b\b\b\b\b\b\b\b\b\b\b\b\b\b\b\b\b\b\b\b\b\b\b\b\b\b\b\b\b\b\b\b\b\b\b\b\b\b\b\b\b\b\b\b\b\b\b\b\b\b\b\b\b\b\r1/1 [==============================] - 0s 186ms/step - loss: 0.4567 - accuracy: 0.8487\n",
            "Epoch 637/1000\n",
            "1/1 [==============================] - 0s 29ms/step\n",
            "\n",
            "Validation Accuracy: 37.77777777777778 %\n"
          ]
        },
        {
          "output_type": "stream",
          "name": "stderr",
          "text": [
            "WARNING:tensorflow:Can save best model only with val_loss available, skipping.\n"
          ]
        },
        {
          "output_type": "stream",
          "name": "stdout",
          "text": [
            "\b\b\b\b\b\b\b\b\b\b\b\b\b\b\b\b\b\b\b\b\b\b\b\b\b\b\b\b\b\b\b\b\b\b\b\b\b\b\b\b\b\b\b\b\b\b\b\b\b\b\b\b\b\b\b\b\b\b\b\b\b\b\b\b\b\b\b\b\b\b\b\b\b\b\b\b\b\b\b\b\r1/1 [==============================] - 0s 163ms/step - loss: 0.4529 - accuracy: 0.8493\n",
            "Epoch 638/1000\n",
            "1/1 [==============================] - 0s 28ms/step\n",
            "\n",
            "Validation Accuracy: 38.333333333333336 %\n"
          ]
        },
        {
          "output_type": "stream",
          "name": "stderr",
          "text": [
            "WARNING:tensorflow:Can save best model only with val_loss available, skipping.\n"
          ]
        },
        {
          "output_type": "stream",
          "name": "stdout",
          "text": [
            "\b\b\b\b\b\b\b\b\b\b\b\b\b\b\b\b\b\b\b\b\b\b\b\b\b\b\b\b\b\b\b\b\b\b\b\b\b\b\b\b\b\b\b\b\b\b\b\b\b\b\b\b\b\b\b\b\b\b\b\b\b\b\b\b\b\b\b\b\b\b\b\b\b\b\b\b\b\b\b\b\r1/1 [==============================] - 0s 155ms/step - loss: 0.4508 - accuracy: 0.8549\n",
            "Epoch 639/1000\n",
            "1/1 [==============================] - 0s 32ms/step\n",
            "\n",
            "Validation Accuracy: 37.77777777777778 %\n"
          ]
        },
        {
          "output_type": "stream",
          "name": "stderr",
          "text": [
            "WARNING:tensorflow:Can save best model only with val_loss available, skipping.\n"
          ]
        },
        {
          "output_type": "stream",
          "name": "stdout",
          "text": [
            "\b\b\b\b\b\b\b\b\b\b\b\b\b\b\b\b\b\b\b\b\b\b\b\b\b\b\b\b\b\b\b\b\b\b\b\b\b\b\b\b\b\b\b\b\b\b\b\b\b\b\b\b\b\b\b\b\b\b\b\b\b\b\b\b\b\b\b\b\b\b\b\b\b\b\b\b\b\b\b\b\r1/1 [==============================] - 0s 171ms/step - loss: 0.4441 - accuracy: 0.8511\n",
            "Epoch 640/1000\n",
            "1/1 [==============================] - 0s 29ms/step\n",
            "\n",
            "Validation Accuracy: 37.22222222222222 %\n"
          ]
        },
        {
          "output_type": "stream",
          "name": "stderr",
          "text": [
            "WARNING:tensorflow:Can save best model only with val_loss available, skipping.\n"
          ]
        },
        {
          "output_type": "stream",
          "name": "stdout",
          "text": [
            "\b\b\b\b\b\b\b\b\b\b\b\b\b\b\b\b\b\b\b\b\b\b\b\b\b\b\b\b\b\b\b\b\b\b\b\b\b\b\b\b\b\b\b\b\b\b\b\b\b\b\b\b\b\b\b\b\b\b\b\b\b\b\b\b\b\b\b\b\b\b\b\b\b\b\b\b\b\b\b\b\r1/1 [==============================] - 0s 167ms/step - loss: 0.4463 - accuracy: 0.8494\n",
            "Epoch 641/1000\n",
            "1/1 [==============================] - 0s 34ms/step\n",
            "\n",
            "Validation Accuracy: 37.22222222222222 %\n"
          ]
        },
        {
          "output_type": "stream",
          "name": "stderr",
          "text": [
            "WARNING:tensorflow:Can save best model only with val_loss available, skipping.\n"
          ]
        },
        {
          "output_type": "stream",
          "name": "stdout",
          "text": [
            "\b\b\b\b\b\b\b\b\b\b\b\b\b\b\b\b\b\b\b\b\b\b\b\b\b\b\b\b\b\b\b\b\b\b\b\b\b\b\b\b\b\b\b\b\b\b\b\b\b\b\b\b\b\b\b\b\b\b\b\b\b\b\b\b\b\b\b\b\b\b\b\b\b\b\b\b\b\b\b\b\r1/1 [==============================] - 0s 162ms/step - loss: 0.4515 - accuracy: 0.8486\n",
            "Epoch 642/1000\n",
            "1/1 [==============================] - 0s 34ms/step\n",
            "\n",
            "Validation Accuracy: 37.77777777777778 %\n"
          ]
        },
        {
          "output_type": "stream",
          "name": "stderr",
          "text": [
            "WARNING:tensorflow:Can save best model only with val_loss available, skipping.\n"
          ]
        },
        {
          "output_type": "stream",
          "name": "stdout",
          "text": [
            "\b\b\b\b\b\b\b\b\b\b\b\b\b\b\b\b\b\b\b\b\b\b\b\b\b\b\b\b\b\b\b\b\b\b\b\b\b\b\b\b\b\b\b\b\b\b\b\b\b\b\b\b\b\b\b\b\b\b\b\b\b\b\b\b\b\b\b\b\b\b\b\b\b\b\b\b\b\b\b\b\r1/1 [==============================] - 0s 187ms/step - loss: 0.4518 - accuracy: 0.8497\n",
            "Epoch 643/1000\n",
            "1/1 [==============================] - 0s 29ms/step\n",
            "\n",
            "Validation Accuracy: 37.77777777777778 %\n"
          ]
        },
        {
          "output_type": "stream",
          "name": "stderr",
          "text": [
            "WARNING:tensorflow:Can save best model only with val_loss available, skipping.\n"
          ]
        },
        {
          "output_type": "stream",
          "name": "stdout",
          "text": [
            "\b\b\b\b\b\b\b\b\b\b\b\b\b\b\b\b\b\b\b\b\b\b\b\b\b\b\b\b\b\b\b\b\b\b\b\b\b\b\b\b\b\b\b\b\b\b\b\b\b\b\b\b\b\b\b\b\b\b\b\b\b\b\b\b\b\b\b\b\b\b\b\b\b\b\b\b\b\b\b\b\r1/1 [==============================] - 0s 171ms/step - loss: 0.4427 - accuracy: 0.8555\n",
            "Epoch 644/1000\n",
            "1/1 [==============================] - 0s 30ms/step\n",
            "\n",
            "Validation Accuracy: 37.22222222222222 %\n"
          ]
        },
        {
          "output_type": "stream",
          "name": "stderr",
          "text": [
            "WARNING:tensorflow:Can save best model only with val_loss available, skipping.\n"
          ]
        },
        {
          "output_type": "stream",
          "name": "stdout",
          "text": [
            "\b\b\b\b\b\b\b\b\b\b\b\b\b\b\b\b\b\b\b\b\b\b\b\b\b\b\b\b\b\b\b\b\b\b\b\b\b\b\b\b\b\b\b\b\b\b\b\b\b\b\b\b\b\b\b\b\b\b\b\b\b\b\b\b\b\b\b\b\b\b\b\b\b\b\b\b\b\b\b\b\r1/1 [==============================] - 0s 164ms/step - loss: 0.4515 - accuracy: 0.8520\n",
            "Epoch 645/1000\n",
            "1/1 [==============================] - 0s 33ms/step\n",
            "\n",
            "Validation Accuracy: 37.22222222222222 %\n"
          ]
        },
        {
          "output_type": "stream",
          "name": "stderr",
          "text": [
            "WARNING:tensorflow:Can save best model only with val_loss available, skipping.\n"
          ]
        },
        {
          "output_type": "stream",
          "name": "stdout",
          "text": [
            "\b\b\b\b\b\b\b\b\b\b\b\b\b\b\b\b\b\b\b\b\b\b\b\b\b\b\b\b\b\b\b\b\b\b\b\b\b\b\b\b\b\b\b\b\b\b\b\b\b\b\b\b\b\b\b\b\b\b\b\b\b\b\b\b\b\b\b\b\b\b\b\b\b\b\b\b\b\b\b\b\r1/1 [==============================] - 0s 172ms/step - loss: 0.4408 - accuracy: 0.8553\n",
            "Epoch 646/1000\n",
            "1/1 [==============================] - 0s 28ms/step\n",
            "\n",
            "Validation Accuracy: 37.77777777777778 %\n"
          ]
        },
        {
          "output_type": "stream",
          "name": "stderr",
          "text": [
            "WARNING:tensorflow:Can save best model only with val_loss available, skipping.\n"
          ]
        },
        {
          "output_type": "stream",
          "name": "stdout",
          "text": [
            "\b\b\b\b\b\b\b\b\b\b\b\b\b\b\b\b\b\b\b\b\b\b\b\b\b\b\b\b\b\b\b\b\b\b\b\b\b\b\b\b\b\b\b\b\b\b\b\b\b\b\b\b\b\b\b\b\b\b\b\b\b\b\b\b\b\b\b\b\b\b\b\b\b\b\b\b\b\b\b\b\r1/1 [==============================] - 0s 151ms/step - loss: 0.4486 - accuracy: 0.8529\n",
            "Epoch 647/1000\n",
            "1/1 [==============================] - 0s 28ms/step\n",
            "\n",
            "Validation Accuracy: 38.88888888888889 %\n"
          ]
        },
        {
          "output_type": "stream",
          "name": "stderr",
          "text": [
            "WARNING:tensorflow:Can save best model only with val_loss available, skipping.\n"
          ]
        },
        {
          "output_type": "stream",
          "name": "stdout",
          "text": [
            "\b\b\b\b\b\b\b\b\b\b\b\b\b\b\b\b\b\b\b\b\b\b\b\b\b\b\b\b\b\b\b\b\b\b\b\b\b\b\b\b\b\b\b\b\b\b\b\b\b\b\b\b\b\b\b\b\b\b\b\b\b\b\b\b\b\b\b\b\b\b\b\b\b\b\b\b\b\b\b\b\r1/1 [==============================] - 0s 143ms/step - loss: 0.4479 - accuracy: 0.8500\n",
            "Epoch 648/1000\n",
            "1/1 [==============================] - 0s 32ms/step\n",
            "\n",
            "Validation Accuracy: 38.88888888888889 %\n"
          ]
        },
        {
          "output_type": "stream",
          "name": "stderr",
          "text": [
            "WARNING:tensorflow:Can save best model only with val_loss available, skipping.\n"
          ]
        },
        {
          "output_type": "stream",
          "name": "stdout",
          "text": [
            "\b\b\b\b\b\b\b\b\b\b\b\b\b\b\b\b\b\b\b\b\b\b\b\b\b\b\b\b\b\b\b\b\b\b\b\b\b\b\b\b\b\b\b\b\b\b\b\b\b\b\b\b\b\b\b\b\b\b\b\b\b\b\b\b\b\b\b\b\b\b\b\b\b\b\b\b\b\b\b\b\r1/1 [==============================] - 0s 149ms/step - loss: 0.4513 - accuracy: 0.8494\n",
            "Epoch 649/1000\n",
            "1/1 [==============================] - 0s 30ms/step\n",
            "\n",
            "Validation Accuracy: 38.333333333333336 %\n"
          ]
        },
        {
          "output_type": "stream",
          "name": "stderr",
          "text": [
            "WARNING:tensorflow:Can save best model only with val_loss available, skipping.\n"
          ]
        },
        {
          "output_type": "stream",
          "name": "stdout",
          "text": [
            "\b\b\b\b\b\b\b\b\b\b\b\b\b\b\b\b\b\b\b\b\b\b\b\b\b\b\b\b\b\b\b\b\b\b\b\b\b\b\b\b\b\b\b\b\b\b\b\b\b\b\b\b\b\b\b\b\b\b\b\b\b\b\b\b\b\b\b\b\b\b\b\b\b\b\b\b\b\b\b\b\r1/1 [==============================] - 0s 152ms/step - loss: 0.4495 - accuracy: 0.8465\n",
            "Epoch 650/1000\n",
            "1/1 [==============================] - 0s 29ms/step\n",
            "\n",
            "Validation Accuracy: 38.333333333333336 %\n"
          ]
        },
        {
          "output_type": "stream",
          "name": "stderr",
          "text": [
            "WARNING:tensorflow:Can save best model only with val_loss available, skipping.\n"
          ]
        },
        {
          "output_type": "stream",
          "name": "stdout",
          "text": [
            "\b\b\b\b\b\b\b\b\b\b\b\b\b\b\b\b\b\b\b\b\b\b\b\b\b\b\b\b\b\b\b\b\b\b\b\b\b\b\b\b\b\b\b\b\b\b\b\b\b\b\b\b\b\b\b\b\b\b\b\b\b\b\b\b\b\b\b\b\b\b\b\b\b\b\b\b\b\b\b\b\r1/1 [==============================] - 0s 156ms/step - loss: 0.4441 - accuracy: 0.8532\n",
            "Epoch 651/1000\n",
            "1/1 [==============================] - 0s 28ms/step\n",
            "\n",
            "Validation Accuracy: 38.333333333333336 %\n"
          ]
        },
        {
          "output_type": "stream",
          "name": "stderr",
          "text": [
            "WARNING:tensorflow:Can save best model only with val_loss available, skipping.\n"
          ]
        },
        {
          "output_type": "stream",
          "name": "stdout",
          "text": [
            "\b\b\b\b\b\b\b\b\b\b\b\b\b\b\b\b\b\b\b\b\b\b\b\b\b\b\b\b\b\b\b\b\b\b\b\b\b\b\b\b\b\b\b\b\b\b\b\b\b\b\b\b\b\b\b\b\b\b\b\b\b\b\b\b\b\b\b\b\b\b\b\b\b\b\b\b\b\b\b\b\r1/1 [==============================] - 0s 143ms/step - loss: 0.4509 - accuracy: 0.8532\n",
            "Epoch 652/1000\n",
            "1/1 [==============================] - 0s 29ms/step\n",
            "\n",
            "Validation Accuracy: 38.333333333333336 %\n"
          ]
        },
        {
          "output_type": "stream",
          "name": "stderr",
          "text": [
            "WARNING:tensorflow:Can save best model only with val_loss available, skipping.\n"
          ]
        },
        {
          "output_type": "stream",
          "name": "stdout",
          "text": [
            "\b\b\b\b\b\b\b\b\b\b\b\b\b\b\b\b\b\b\b\b\b\b\b\b\b\b\b\b\b\b\b\b\b\b\b\b\b\b\b\b\b\b\b\b\b\b\b\b\b\b\b\b\b\b\b\b\b\b\b\b\b\b\b\b\b\b\b\b\b\b\b\b\b\b\b\b\b\b\b\b\r1/1 [==============================] - 0s 141ms/step - loss: 0.4506 - accuracy: 0.8513\n",
            "Epoch 653/1000\n",
            "1/1 [==============================] - 0s 30ms/step\n",
            "\n",
            "Validation Accuracy: 37.77777777777778 %\n"
          ]
        },
        {
          "output_type": "stream",
          "name": "stderr",
          "text": [
            "WARNING:tensorflow:Can save best model only with val_loss available, skipping.\n"
          ]
        },
        {
          "output_type": "stream",
          "name": "stdout",
          "text": [
            "\b\b\b\b\b\b\b\b\b\b\b\b\b\b\b\b\b\b\b\b\b\b\b\b\b\b\b\b\b\b\b\b\b\b\b\b\b\b\b\b\b\b\b\b\b\b\b\b\b\b\b\b\b\b\b\b\b\b\b\b\b\b\b\b\b\b\b\b\b\b\b\b\b\b\b\b\b\b\b\b\r1/1 [==============================] - 0s 155ms/step - loss: 0.4428 - accuracy: 0.8513\n",
            "Epoch 654/1000\n",
            "1/1 [==============================] - 0s 31ms/step\n",
            "\n",
            "Validation Accuracy: 38.333333333333336 %\n"
          ]
        },
        {
          "output_type": "stream",
          "name": "stderr",
          "text": [
            "WARNING:tensorflow:Can save best model only with val_loss available, skipping.\n"
          ]
        },
        {
          "output_type": "stream",
          "name": "stdout",
          "text": [
            "\b\b\b\b\b\b\b\b\b\b\b\b\b\b\b\b\b\b\b\b\b\b\b\b\b\b\b\b\b\b\b\b\b\b\b\b\b\b\b\b\b\b\b\b\b\b\b\b\b\b\b\b\b\b\b\b\b\b\b\b\b\b\b\b\b\b\b\b\b\b\b\b\b\b\b\b\b\b\b\b\r1/1 [==============================] - 0s 149ms/step - loss: 0.4450 - accuracy: 0.8541\n",
            "Epoch 655/1000\n",
            "1/1 [==============================] - 0s 29ms/step\n",
            "\n",
            "Validation Accuracy: 38.333333333333336 %\n"
          ]
        },
        {
          "output_type": "stream",
          "name": "stderr",
          "text": [
            "WARNING:tensorflow:Can save best model only with val_loss available, skipping.\n"
          ]
        },
        {
          "output_type": "stream",
          "name": "stdout",
          "text": [
            "\b\b\b\b\b\b\b\b\b\b\b\b\b\b\b\b\b\b\b\b\b\b\b\b\b\b\b\b\b\b\b\b\b\b\b\b\b\b\b\b\b\b\b\b\b\b\b\b\b\b\b\b\b\b\b\b\b\b\b\b\b\b\b\b\b\b\b\b\b\b\b\b\b\b\b\b\b\b\b\b\r1/1 [==============================] - 0s 173ms/step - loss: 0.4548 - accuracy: 0.8486\n",
            "Epoch 656/1000\n",
            "1/1 [==============================] - 0s 29ms/step\n",
            "\n",
            "Validation Accuracy: 38.333333333333336 %\n"
          ]
        },
        {
          "output_type": "stream",
          "name": "stderr",
          "text": [
            "WARNING:tensorflow:Can save best model only with val_loss available, skipping.\n"
          ]
        },
        {
          "output_type": "stream",
          "name": "stdout",
          "text": [
            "\b\b\b\b\b\b\b\b\b\b\b\b\b\b\b\b\b\b\b\b\b\b\b\b\b\b\b\b\b\b\b\b\b\b\b\b\b\b\b\b\b\b\b\b\b\b\b\b\b\b\b\b\b\b\b\b\b\b\b\b\b\b\b\b\b\b\b\b\b\b\b\b\b\b\b\b\b\b\b\b\r1/1 [==============================] - 0s 166ms/step - loss: 0.4414 - accuracy: 0.8556\n",
            "Epoch 657/1000\n",
            "1/1 [==============================] - 0s 38ms/step\n",
            "\n",
            "Validation Accuracy: 38.88888888888889 %\n"
          ]
        },
        {
          "output_type": "stream",
          "name": "stderr",
          "text": [
            "WARNING:tensorflow:Can save best model only with val_loss available, skipping.\n"
          ]
        },
        {
          "output_type": "stream",
          "name": "stdout",
          "text": [
            "\b\b\b\b\b\b\b\b\b\b\b\b\b\b\b\b\b\b\b\b\b\b\b\b\b\b\b\b\b\b\b\b\b\b\b\b\b\b\b\b\b\b\b\b\b\b\b\b\b\b\b\b\b\b\b\b\b\b\b\b\b\b\b\b\b\b\b\b\b\b\b\b\b\b\b\b\b\b\b\b\r1/1 [==============================] - 0s 180ms/step - loss: 0.4467 - accuracy: 0.8522\n",
            "Epoch 658/1000\n",
            "1/1 [==============================] - 0s 32ms/step\n",
            "\n",
            "Validation Accuracy: 38.333333333333336 %\n"
          ]
        },
        {
          "output_type": "stream",
          "name": "stderr",
          "text": [
            "WARNING:tensorflow:Can save best model only with val_loss available, skipping.\n"
          ]
        },
        {
          "output_type": "stream",
          "name": "stdout",
          "text": [
            "\b\b\b\b\b\b\b\b\b\b\b\b\b\b\b\b\b\b\b\b\b\b\b\b\b\b\b\b\b\b\b\b\b\b\b\b\b\b\b\b\b\b\b\b\b\b\b\b\b\b\b\b\b\b\b\b\b\b\b\b\b\b\b\b\b\b\b\b\b\b\b\b\b\b\b\b\b\b\b\b\r1/1 [==============================] - 0s 166ms/step - loss: 0.4399 - accuracy: 0.8543\n",
            "Epoch 659/1000\n",
            "1/1 [==============================] - 0s 31ms/step\n",
            "\n",
            "Validation Accuracy: 39.44444444444444 %\n"
          ]
        },
        {
          "output_type": "stream",
          "name": "stderr",
          "text": [
            "WARNING:tensorflow:Can save best model only with val_loss available, skipping.\n"
          ]
        },
        {
          "output_type": "stream",
          "name": "stdout",
          "text": [
            "\b\b\b\b\b\b\b\b\b\b\b\b\b\b\b\b\b\b\b\b\b\b\b\b\b\b\b\b\b\b\b\b\b\b\b\b\b\b\b\b\b\b\b\b\b\b\b\b\b\b\b\b\b\b\b\b\b\b\b\b\b\b\b\b\b\b\b\b\b\b\b\b\b\b\b\b\b\b\b\b\r1/1 [==============================] - 0s 159ms/step - loss: 0.4414 - accuracy: 0.8542\n",
            "Epoch 660/1000\n",
            "1/1 [==============================] - 0s 28ms/step\n",
            "\n",
            "Validation Accuracy: 39.44444444444444 %\n"
          ]
        },
        {
          "output_type": "stream",
          "name": "stderr",
          "text": [
            "WARNING:tensorflow:Can save best model only with val_loss available, skipping.\n"
          ]
        },
        {
          "output_type": "stream",
          "name": "stdout",
          "text": [
            "\b\b\b\b\b\b\b\b\b\b\b\b\b\b\b\b\b\b\b\b\b\b\b\b\b\b\b\b\b\b\b\b\b\b\b\b\b\b\b\b\b\b\b\b\b\b\b\b\b\b\b\b\b\b\b\b\b\b\b\b\b\b\b\b\b\b\b\b\b\b\b\b\b\b\b\b\b\b\b\b\r1/1 [==============================] - 0s 156ms/step - loss: 0.4435 - accuracy: 0.8548\n",
            "Epoch 661/1000\n",
            "1/1 [==============================] - 0s 36ms/step\n",
            "\n",
            "Validation Accuracy: 40.0 %\n"
          ]
        },
        {
          "output_type": "stream",
          "name": "stderr",
          "text": [
            "WARNING:tensorflow:Can save best model only with val_loss available, skipping.\n"
          ]
        },
        {
          "output_type": "stream",
          "name": "stdout",
          "text": [
            "\b\b\b\b\b\b\b\b\b\b\b\b\b\b\b\b\b\b\b\b\b\b\b\b\b\b\b\b\b\b\b\b\b\b\b\b\b\b\b\b\b\b\b\b\b\b\b\b\b\b\b\b\b\b\b\b\b\b\b\b\b\b\b\b\b\b\b\b\b\b\b\b\b\b\b\b\b\b\b\b\r1/1 [==============================] - 0s 171ms/step - loss: 0.4391 - accuracy: 0.8564\n",
            "Epoch 662/1000\n",
            "1/1 [==============================] - 0s 34ms/step\n",
            "\n",
            "Validation Accuracy: 40.0 %\n"
          ]
        },
        {
          "output_type": "stream",
          "name": "stderr",
          "text": [
            "WARNING:tensorflow:Can save best model only with val_loss available, skipping.\n"
          ]
        },
        {
          "output_type": "stream",
          "name": "stdout",
          "text": [
            "\b\b\b\b\b\b\b\b\b\b\b\b\b\b\b\b\b\b\b\b\b\b\b\b\b\b\b\b\b\b\b\b\b\b\b\b\b\b\b\b\b\b\b\b\b\b\b\b\b\b\b\b\b\b\b\b\b\b\b\b\b\b\b\b\b\b\b\b\b\b\b\b\b\b\b\b\b\b\b\b\r1/1 [==============================] - 0s 187ms/step - loss: 0.4406 - accuracy: 0.8506\n",
            "Epoch 663/1000\n",
            "1/1 [==============================] - 0s 32ms/step\n",
            "\n",
            "Validation Accuracy: 40.0 %\n"
          ]
        },
        {
          "output_type": "stream",
          "name": "stderr",
          "text": [
            "WARNING:tensorflow:Can save best model only with val_loss available, skipping.\n"
          ]
        },
        {
          "output_type": "stream",
          "name": "stdout",
          "text": [
            "\b\b\b\b\b\b\b\b\b\b\b\b\b\b\b\b\b\b\b\b\b\b\b\b\b\b\b\b\b\b\b\b\b\b\b\b\b\b\b\b\b\b\b\b\b\b\b\b\b\b\b\b\b\b\b\b\b\b\b\b\b\b\b\b\b\b\b\b\b\b\b\b\b\b\b\b\b\b\b\b\r1/1 [==============================] - 0s 172ms/step - loss: 0.4399 - accuracy: 0.8578\n",
            "Epoch 664/1000\n",
            "1/1 [==============================] - 0s 28ms/step\n",
            "\n",
            "Validation Accuracy: 39.44444444444444 %\n"
          ]
        },
        {
          "output_type": "stream",
          "name": "stderr",
          "text": [
            "WARNING:tensorflow:Can save best model only with val_loss available, skipping.\n"
          ]
        },
        {
          "output_type": "stream",
          "name": "stdout",
          "text": [
            "\b\b\b\b\b\b\b\b\b\b\b\b\b\b\b\b\b\b\b\b\b\b\b\b\b\b\b\b\b\b\b\b\b\b\b\b\b\b\b\b\b\b\b\b\b\b\b\b\b\b\b\b\b\b\b\b\b\b\b\b\b\b\b\b\b\b\b\b\b\b\b\b\b\b\b\b\b\b\b\b\r1/1 [==============================] - 0s 157ms/step - loss: 0.4377 - accuracy: 0.8549\n",
            "Epoch 665/1000\n",
            "1/1 [==============================] - 0s 35ms/step\n",
            "\n",
            "Validation Accuracy: 40.0 %\n"
          ]
        },
        {
          "output_type": "stream",
          "name": "stderr",
          "text": [
            "WARNING:tensorflow:Can save best model only with val_loss available, skipping.\n"
          ]
        },
        {
          "output_type": "stream",
          "name": "stdout",
          "text": [
            "\b\b\b\b\b\b\b\b\b\b\b\b\b\b\b\b\b\b\b\b\b\b\b\b\b\b\b\b\b\b\b\b\b\b\b\b\b\b\b\b\b\b\b\b\b\b\b\b\b\b\b\b\b\b\b\b\b\b\b\b\b\b\b\b\b\b\b\b\b\b\b\b\b\b\b\b\b\b\b\b\r1/1 [==============================] - 0s 156ms/step - loss: 0.4440 - accuracy: 0.8560\n",
            "Epoch 666/1000\n",
            "1/1 [==============================] - 0s 32ms/step\n",
            "\n",
            "Validation Accuracy: 40.0 %\n"
          ]
        },
        {
          "output_type": "stream",
          "name": "stderr",
          "text": [
            "WARNING:tensorflow:Can save best model only with val_loss available, skipping.\n"
          ]
        },
        {
          "output_type": "stream",
          "name": "stdout",
          "text": [
            "\b\b\b\b\b\b\b\b\b\b\b\b\b\b\b\b\b\b\b\b\b\b\b\b\b\b\b\b\b\b\b\b\b\b\b\b\b\b\b\b\b\b\b\b\b\b\b\b\b\b\b\b\b\b\b\b\b\b\b\b\b\b\b\b\b\b\b\b\b\b\b\b\b\b\b\b\b\b\b\b\r1/1 [==============================] - 0s 148ms/step - loss: 0.4480 - accuracy: 0.8497\n",
            "Epoch 667/1000\n",
            "1/1 [==============================] - 0s 30ms/step\n",
            "\n",
            "Validation Accuracy: 38.88888888888889 %\n"
          ]
        },
        {
          "output_type": "stream",
          "name": "stderr",
          "text": [
            "WARNING:tensorflow:Can save best model only with val_loss available, skipping.\n"
          ]
        },
        {
          "output_type": "stream",
          "name": "stdout",
          "text": [
            "\b\b\b\b\b\b\b\b\b\b\b\b\b\b\b\b\b\b\b\b\b\b\b\b\b\b\b\b\b\b\b\b\b\b\b\b\b\b\b\b\b\b\b\b\b\b\b\b\b\b\b\b\b\b\b\b\b\b\b\b\b\b\b\b\b\b\b\b\b\b\b\b\b\b\b\b\b\b\b\b\r1/1 [==============================] - 0s 150ms/step - loss: 0.4499 - accuracy: 0.8486\n",
            "Epoch 668/1000\n",
            "1/1 [==============================] - 0s 28ms/step\n",
            "\n",
            "Validation Accuracy: 38.333333333333336 %\n"
          ]
        },
        {
          "output_type": "stream",
          "name": "stderr",
          "text": [
            "WARNING:tensorflow:Can save best model only with val_loss available, skipping.\n"
          ]
        },
        {
          "output_type": "stream",
          "name": "stdout",
          "text": [
            "\b\b\b\b\b\b\b\b\b\b\b\b\b\b\b\b\b\b\b\b\b\b\b\b\b\b\b\b\b\b\b\b\b\b\b\b\b\b\b\b\b\b\b\b\b\b\b\b\b\b\b\b\b\b\b\b\b\b\b\b\b\b\b\b\b\b\b\b\b\b\b\b\b\b\b\b\b\b\b\b\r1/1 [==============================] - 0s 145ms/step - loss: 0.4353 - accuracy: 0.8577\n",
            "Epoch 669/1000\n",
            "1/1 [==============================] - 0s 29ms/step\n",
            "\n",
            "Validation Accuracy: 38.333333333333336 %\n"
          ]
        },
        {
          "output_type": "stream",
          "name": "stderr",
          "text": [
            "WARNING:tensorflow:Can save best model only with val_loss available, skipping.\n"
          ]
        },
        {
          "output_type": "stream",
          "name": "stdout",
          "text": [
            "\b\b\b\b\b\b\b\b\b\b\b\b\b\b\b\b\b\b\b\b\b\b\b\b\b\b\b\b\b\b\b\b\b\b\b\b\b\b\b\b\b\b\b\b\b\b\b\b\b\b\b\b\b\b\b\b\b\b\b\b\b\b\b\b\b\b\b\b\b\b\b\b\b\b\b\b\b\b\b\b\r1/1 [==============================] - 0s 139ms/step - loss: 0.4411 - accuracy: 0.8552\n",
            "Epoch 670/1000\n",
            "1/1 [==============================] - 0s 28ms/step\n",
            "\n",
            "Validation Accuracy: 38.88888888888889 %\n"
          ]
        },
        {
          "output_type": "stream",
          "name": "stderr",
          "text": [
            "WARNING:tensorflow:Can save best model only with val_loss available, skipping.\n"
          ]
        },
        {
          "output_type": "stream",
          "name": "stdout",
          "text": [
            "\b\b\b\b\b\b\b\b\b\b\b\b\b\b\b\b\b\b\b\b\b\b\b\b\b\b\b\b\b\b\b\b\b\b\b\b\b\b\b\b\b\b\b\b\b\b\b\b\b\b\b\b\b\b\b\b\b\b\b\b\b\b\b\b\b\b\b\b\b\b\b\b\b\b\b\b\b\b\b\b\r1/1 [==============================] - 0s 146ms/step - loss: 0.4362 - accuracy: 0.8564\n",
            "Epoch 671/1000\n",
            "1/1 [==============================] - 0s 29ms/step\n",
            "\n",
            "Validation Accuracy: 38.333333333333336 %\n"
          ]
        },
        {
          "output_type": "stream",
          "name": "stderr",
          "text": [
            "WARNING:tensorflow:Can save best model only with val_loss available, skipping.\n"
          ]
        },
        {
          "output_type": "stream",
          "name": "stdout",
          "text": [
            "\b\b\b\b\b\b\b\b\b\b\b\b\b\b\b\b\b\b\b\b\b\b\b\b\b\b\b\b\b\b\b\b\b\b\b\b\b\b\b\b\b\b\b\b\b\b\b\b\b\b\b\b\b\b\b\b\b\b\b\b\b\b\b\b\b\b\b\b\b\b\b\b\b\b\b\b\b\b\b\b\r1/1 [==============================] - 0s 156ms/step - loss: 0.4448 - accuracy: 0.8552\n",
            "Epoch 672/1000\n",
            "1/1 [==============================] - 0s 28ms/step\n",
            "\n",
            "Validation Accuracy: 38.88888888888889 %\n"
          ]
        },
        {
          "output_type": "stream",
          "name": "stderr",
          "text": [
            "WARNING:tensorflow:Can save best model only with val_loss available, skipping.\n"
          ]
        },
        {
          "output_type": "stream",
          "name": "stdout",
          "text": [
            "\b\b\b\b\b\b\b\b\b\b\b\b\b\b\b\b\b\b\b\b\b\b\b\b\b\b\b\b\b\b\b\b\b\b\b\b\b\b\b\b\b\b\b\b\b\b\b\b\b\b\b\b\b\b\b\b\b\b\b\b\b\b\b\b\b\b\b\b\b\b\b\b\b\b\b\b\b\b\b\b\r1/1 [==============================] - 0s 139ms/step - loss: 0.4412 - accuracy: 0.8514\n",
            "Epoch 673/1000\n",
            "1/1 [==============================] - 0s 29ms/step\n",
            "\n",
            "Validation Accuracy: 38.88888888888889 %\n"
          ]
        },
        {
          "output_type": "stream",
          "name": "stderr",
          "text": [
            "WARNING:tensorflow:Can save best model only with val_loss available, skipping.\n"
          ]
        },
        {
          "output_type": "stream",
          "name": "stdout",
          "text": [
            "\b\b\b\b\b\b\b\b\b\b\b\b\b\b\b\b\b\b\b\b\b\b\b\b\b\b\b\b\b\b\b\b\b\b\b\b\b\b\b\b\b\b\b\b\b\b\b\b\b\b\b\b\b\b\b\b\b\b\b\b\b\b\b\b\b\b\b\b\b\b\b\b\b\b\b\b\b\b\b\b\r1/1 [==============================] - 0s 139ms/step - loss: 0.4469 - accuracy: 0.8510\n",
            "Epoch 674/1000\n",
            "1/1 [==============================] - 0s 31ms/step\n",
            "\n",
            "Validation Accuracy: 40.0 %\n"
          ]
        },
        {
          "output_type": "stream",
          "name": "stderr",
          "text": [
            "WARNING:tensorflow:Can save best model only with val_loss available, skipping.\n"
          ]
        },
        {
          "output_type": "stream",
          "name": "stdout",
          "text": [
            "\b\b\b\b\b\b\b\b\b\b\b\b\b\b\b\b\b\b\b\b\b\b\b\b\b\b\b\b\b\b\b\b\b\b\b\b\b\b\b\b\b\b\b\b\b\b\b\b\b\b\b\b\b\b\b\b\b\b\b\b\b\b\b\b\b\b\b\b\b\b\b\b\b\b\b\b\b\b\b\b\r1/1 [==============================] - 0s 147ms/step - loss: 0.4453 - accuracy: 0.8518\n",
            "Epoch 675/1000\n",
            "1/1 [==============================] - 0s 32ms/step\n",
            "\n",
            "Validation Accuracy: 39.44444444444444 %\n"
          ]
        },
        {
          "output_type": "stream",
          "name": "stderr",
          "text": [
            "WARNING:tensorflow:Can save best model only with val_loss available, skipping.\n"
          ]
        },
        {
          "output_type": "stream",
          "name": "stdout",
          "text": [
            "\b\b\b\b\b\b\b\b\b\b\b\b\b\b\b\b\b\b\b\b\b\b\b\b\b\b\b\b\b\b\b\b\b\b\b\b\b\b\b\b\b\b\b\b\b\b\b\b\b\b\b\b\b\b\b\b\b\b\b\b\b\b\b\b\b\b\b\b\b\b\b\b\b\b\b\b\b\b\b\b\r1/1 [==============================] - 0s 170ms/step - loss: 0.4265 - accuracy: 0.8584\n",
            "Epoch 676/1000\n",
            "1/1 [==============================] - 0s 33ms/step\n",
            "\n",
            "Validation Accuracy: 39.44444444444444 %\n"
          ]
        },
        {
          "output_type": "stream",
          "name": "stderr",
          "text": [
            "WARNING:tensorflow:Can save best model only with val_loss available, skipping.\n"
          ]
        },
        {
          "output_type": "stream",
          "name": "stdout",
          "text": [
            "\b\b\b\b\b\b\b\b\b\b\b\b\b\b\b\b\b\b\b\b\b\b\b\b\b\b\b\b\b\b\b\b\b\b\b\b\b\b\b\b\b\b\b\b\b\b\b\b\b\b\b\b\b\b\b\b\b\b\b\b\b\b\b\b\b\b\b\b\b\b\b\b\b\b\b\b\b\b\b\b\r1/1 [==============================] - 0s 157ms/step - loss: 0.4414 - accuracy: 0.8531\n",
            "Epoch 677/1000\n",
            "1/1 [==============================] - 0s 29ms/step\n",
            "\n",
            "Validation Accuracy: 40.0 %\n"
          ]
        },
        {
          "output_type": "stream",
          "name": "stderr",
          "text": [
            "WARNING:tensorflow:Can save best model only with val_loss available, skipping.\n"
          ]
        },
        {
          "output_type": "stream",
          "name": "stdout",
          "text": [
            "\b\b\b\b\b\b\b\b\b\b\b\b\b\b\b\b\b\b\b\b\b\b\b\b\b\b\b\b\b\b\b\b\b\b\b\b\b\b\b\b\b\b\b\b\b\b\b\b\b\b\b\b\b\b\b\b\b\b\b\b\b\b\b\b\b\b\b\b\b\b\b\b\b\b\b\b\b\b\b\b\r1/1 [==============================] - 0s 157ms/step - loss: 0.4376 - accuracy: 0.8535\n",
            "Epoch 678/1000\n",
            "1/1 [==============================] - 0s 29ms/step\n",
            "\n",
            "Validation Accuracy: 40.0 %\n"
          ]
        },
        {
          "output_type": "stream",
          "name": "stderr",
          "text": [
            "WARNING:tensorflow:Can save best model only with val_loss available, skipping.\n"
          ]
        },
        {
          "output_type": "stream",
          "name": "stdout",
          "text": [
            "\b\b\b\b\b\b\b\b\b\b\b\b\b\b\b\b\b\b\b\b\b\b\b\b\b\b\b\b\b\b\b\b\b\b\b\b\b\b\b\b\b\b\b\b\b\b\b\b\b\b\b\b\b\b\b\b\b\b\b\b\b\b\b\b\b\b\b\b\b\b\b\b\b\b\b\b\b\b\b\b\r1/1 [==============================] - 0s 153ms/step - loss: 0.4477 - accuracy: 0.8506\n",
            "Epoch 679/1000\n",
            "1/1 [==============================] - 0s 29ms/step\n",
            "\n",
            "Validation Accuracy: 40.55555555555556 %\n"
          ]
        },
        {
          "output_type": "stream",
          "name": "stderr",
          "text": [
            "WARNING:tensorflow:Can save best model only with val_loss available, skipping.\n"
          ]
        },
        {
          "output_type": "stream",
          "name": "stdout",
          "text": [
            "\b\b\b\b\b\b\b\b\b\b\b\b\b\b\b\b\b\b\b\b\b\b\b\b\b\b\b\b\b\b\b\b\b\b\b\b\b\b\b\b\b\b\b\b\b\b\b\b\b\b\b\b\b\b\b\b\b\b\b\b\b\b\b\b\b\b\b\b\b\b\b\b\b\b\b\b\b\b\b\b\r1/1 [==============================] - 0s 149ms/step - loss: 0.4365 - accuracy: 0.8567\n",
            "Epoch 680/1000\n",
            "1/1 [==============================] - 0s 32ms/step\n",
            "\n",
            "Validation Accuracy: 40.0 %\n"
          ]
        },
        {
          "output_type": "stream",
          "name": "stderr",
          "text": [
            "WARNING:tensorflow:Can save best model only with val_loss available, skipping.\n"
          ]
        },
        {
          "output_type": "stream",
          "name": "stdout",
          "text": [
            "\b\b\b\b\b\b\b\b\b\b\b\b\b\b\b\b\b\b\b\b\b\b\b\b\b\b\b\b\b\b\b\b\b\b\b\b\b\b\b\b\b\b\b\b\b\b\b\b\b\b\b\b\b\b\b\b\b\b\b\b\b\b\b\b\b\b\b\b\b\b\b\b\b\b\b\b\b\b\b\b\r1/1 [==============================] - 0s 170ms/step - loss: 0.4344 - accuracy: 0.8564\n",
            "Epoch 681/1000\n",
            "1/1 [==============================] - 0s 36ms/step\n",
            "\n",
            "Validation Accuracy: 40.0 %\n"
          ]
        },
        {
          "output_type": "stream",
          "name": "stderr",
          "text": [
            "WARNING:tensorflow:Can save best model only with val_loss available, skipping.\n"
          ]
        },
        {
          "output_type": "stream",
          "name": "stdout",
          "text": [
            "\b\b\b\b\b\b\b\b\b\b\b\b\b\b\b\b\b\b\b\b\b\b\b\b\b\b\b\b\b\b\b\b\b\b\b\b\b\b\b\b\b\b\b\b\b\b\b\b\b\b\b\b\b\b\b\b\b\b\b\b\b\b\b\b\b\b\b\b\b\b\b\b\b\b\b\b\b\b\b\b\r1/1 [==============================] - 0s 171ms/step - loss: 0.4321 - accuracy: 0.8577\n",
            "Epoch 682/1000\n",
            "1/1 [==============================] - 0s 34ms/step\n",
            "\n",
            "Validation Accuracy: 39.44444444444444 %\n"
          ]
        },
        {
          "output_type": "stream",
          "name": "stderr",
          "text": [
            "WARNING:tensorflow:Can save best model only with val_loss available, skipping.\n"
          ]
        },
        {
          "output_type": "stream",
          "name": "stdout",
          "text": [
            "\b\b\b\b\b\b\b\b\b\b\b\b\b\b\b\b\b\b\b\b\b\b\b\b\b\b\b\b\b\b\b\b\b\b\b\b\b\b\b\b\b\b\b\b\b\b\b\b\b\b\b\b\b\b\b\b\b\b\b\b\b\b\b\b\b\b\b\b\b\b\b\b\b\b\b\b\b\b\b\b\r1/1 [==============================] - 0s 162ms/step - loss: 0.4368 - accuracy: 0.8581\n",
            "Epoch 683/1000\n",
            "1/1 [==============================] - 0s 40ms/step\n",
            "\n",
            "Validation Accuracy: 38.333333333333336 %\n"
          ]
        },
        {
          "output_type": "stream",
          "name": "stderr",
          "text": [
            "WARNING:tensorflow:Can save best model only with val_loss available, skipping.\n"
          ]
        },
        {
          "output_type": "stream",
          "name": "stdout",
          "text": [
            "\b\b\b\b\b\b\b\b\b\b\b\b\b\b\b\b\b\b\b\b\b\b\b\b\b\b\b\b\b\b\b\b\b\b\b\b\b\b\b\b\b\b\b\b\b\b\b\b\b\b\b\b\b\b\b\b\b\b\b\b\b\b\b\b\b\b\b\b\b\b\b\b\b\b\b\b\b\b\b\b\r1/1 [==============================] - 0s 186ms/step - loss: 0.4473 - accuracy: 0.8517\n",
            "Epoch 684/1000\n",
            "1/1 [==============================] - 0s 32ms/step\n",
            "\n",
            "Validation Accuracy: 38.88888888888889 %\n"
          ]
        },
        {
          "output_type": "stream",
          "name": "stderr",
          "text": [
            "WARNING:tensorflow:Can save best model only with val_loss available, skipping.\n"
          ]
        },
        {
          "output_type": "stream",
          "name": "stdout",
          "text": [
            "\b\b\b\b\b\b\b\b\b\b\b\b\b\b\b\b\b\b\b\b\b\b\b\b\b\b\b\b\b\b\b\b\b\b\b\b\b\b\b\b\b\b\b\b\b\b\b\b\b\b\b\b\b\b\b\b\b\b\b\b\b\b\b\b\b\b\b\b\b\b\b\b\b\b\b\b\b\b\b\b\r1/1 [==============================] - 0s 168ms/step - loss: 0.4375 - accuracy: 0.8570\n",
            "Epoch 685/1000\n",
            "1/1 [==============================] - 0s 31ms/step\n",
            "\n",
            "Validation Accuracy: 39.44444444444444 %\n"
          ]
        },
        {
          "output_type": "stream",
          "name": "stderr",
          "text": [
            "WARNING:tensorflow:Can save best model only with val_loss available, skipping.\n"
          ]
        },
        {
          "output_type": "stream",
          "name": "stdout",
          "text": [
            "\b\b\b\b\b\b\b\b\b\b\b\b\b\b\b\b\b\b\b\b\b\b\b\b\b\b\b\b\b\b\b\b\b\b\b\b\b\b\b\b\b\b\b\b\b\b\b\b\b\b\b\b\b\b\b\b\b\b\b\b\b\b\b\b\b\b\b\b\b\b\b\b\b\b\b\b\b\b\b\b\r1/1 [==============================] - 0s 169ms/step - loss: 0.4571 - accuracy: 0.8521\n",
            "Epoch 686/1000\n",
            "1/1 [==============================] - 0s 29ms/step\n",
            "\n",
            "Validation Accuracy: 39.44444444444444 %\n"
          ]
        },
        {
          "output_type": "stream",
          "name": "stderr",
          "text": [
            "WARNING:tensorflow:Can save best model only with val_loss available, skipping.\n"
          ]
        },
        {
          "output_type": "stream",
          "name": "stdout",
          "text": [
            "\b\b\b\b\b\b\b\b\b\b\b\b\b\b\b\b\b\b\b\b\b\b\b\b\b\b\b\b\b\b\b\b\b\b\b\b\b\b\b\b\b\b\b\b\b\b\b\b\b\b\b\b\b\b\b\b\b\b\b\b\b\b\b\b\b\b\b\b\b\b\b\b\b\b\b\b\b\b\b\b\r1/1 [==============================] - 0s 160ms/step - loss: 0.4380 - accuracy: 0.8569\n",
            "Epoch 687/1000\n",
            "1/1 [==============================] - 0s 30ms/step\n",
            "\n",
            "Validation Accuracy: 39.44444444444444 %\n"
          ]
        },
        {
          "output_type": "stream",
          "name": "stderr",
          "text": [
            "WARNING:tensorflow:Can save best model only with val_loss available, skipping.\n"
          ]
        },
        {
          "output_type": "stream",
          "name": "stdout",
          "text": [
            "\b\b\b\b\b\b\b\b\b\b\b\b\b\b\b\b\b\b\b\b\b\b\b\b\b\b\b\b\b\b\b\b\b\b\b\b\b\b\b\b\b\b\b\b\b\b\b\b\b\b\b\b\b\b\b\b\b\b\b\b\b\b\b\b\b\b\b\b\b\b\b\b\b\b\b\b\b\b\b\b\r1/1 [==============================] - 0s 147ms/step - loss: 0.4308 - accuracy: 0.8570\n",
            "Epoch 688/1000\n",
            "1/1 [==============================] - 0s 36ms/step\n",
            "\n",
            "Validation Accuracy: 40.0 %\n"
          ]
        },
        {
          "output_type": "stream",
          "name": "stderr",
          "text": [
            "WARNING:tensorflow:Can save best model only with val_loss available, skipping.\n"
          ]
        },
        {
          "output_type": "stream",
          "name": "stdout",
          "text": [
            "\b\b\b\b\b\b\b\b\b\b\b\b\b\b\b\b\b\b\b\b\b\b\b\b\b\b\b\b\b\b\b\b\b\b\b\b\b\b\b\b\b\b\b\b\b\b\b\b\b\b\b\b\b\b\b\b\b\b\b\b\b\b\b\b\b\b\b\b\b\b\b\b\b\b\b\b\b\b\b\b\r1/1 [==============================] - 0s 159ms/step - loss: 0.4313 - accuracy: 0.8601\n",
            "Epoch 689/1000\n",
            "1/1 [==============================] - 0s 29ms/step\n",
            "\n",
            "Validation Accuracy: 39.44444444444444 %\n"
          ]
        },
        {
          "output_type": "stream",
          "name": "stderr",
          "text": [
            "WARNING:tensorflow:Can save best model only with val_loss available, skipping.\n"
          ]
        },
        {
          "output_type": "stream",
          "name": "stdout",
          "text": [
            "\b\b\b\b\b\b\b\b\b\b\b\b\b\b\b\b\b\b\b\b\b\b\b\b\b\b\b\b\b\b\b\b\b\b\b\b\b\b\b\b\b\b\b\b\b\b\b\b\b\b\b\b\b\b\b\b\b\b\b\b\b\b\b\b\b\b\b\b\b\b\b\b\b\b\b\b\b\b\b\b\r1/1 [==============================] - 0s 155ms/step - loss: 0.4341 - accuracy: 0.8585\n",
            "Epoch 690/1000\n",
            "1/1 [==============================] - 0s 28ms/step\n",
            "\n",
            "Validation Accuracy: 38.88888888888889 %\n"
          ]
        },
        {
          "output_type": "stream",
          "name": "stderr",
          "text": [
            "WARNING:tensorflow:Can save best model only with val_loss available, skipping.\n"
          ]
        },
        {
          "output_type": "stream",
          "name": "stdout",
          "text": [
            "\b\b\b\b\b\b\b\b\b\b\b\b\b\b\b\b\b\b\b\b\b\b\b\b\b\b\b\b\b\b\b\b\b\b\b\b\b\b\b\b\b\b\b\b\b\b\b\b\b\b\b\b\b\b\b\b\b\b\b\b\b\b\b\b\b\b\b\b\b\b\b\b\b\b\b\b\b\b\b\b\r1/1 [==============================] - 0s 141ms/step - loss: 0.4328 - accuracy: 0.8581\n",
            "Epoch 691/1000\n",
            "1/1 [==============================] - 0s 27ms/step\n",
            "\n",
            "Validation Accuracy: 38.88888888888889 %\n"
          ]
        },
        {
          "output_type": "stream",
          "name": "stderr",
          "text": [
            "WARNING:tensorflow:Can save best model only with val_loss available, skipping.\n"
          ]
        },
        {
          "output_type": "stream",
          "name": "stdout",
          "text": [
            "\b\b\b\b\b\b\b\b\b\b\b\b\b\b\b\b\b\b\b\b\b\b\b\b\b\b\b\b\b\b\b\b\b\b\b\b\b\b\b\b\b\b\b\b\b\b\b\b\b\b\b\b\b\b\b\b\b\b\b\b\b\b\b\b\b\b\b\b\b\b\b\b\b\b\b\b\b\b\b\b\r1/1 [==============================] - 0s 138ms/step - loss: 0.4324 - accuracy: 0.8573\n",
            "Epoch 692/1000\n",
            "1/1 [==============================] - 0s 33ms/step\n",
            "\n",
            "Validation Accuracy: 39.44444444444444 %\n"
          ]
        },
        {
          "output_type": "stream",
          "name": "stderr",
          "text": [
            "WARNING:tensorflow:Can save best model only with val_loss available, skipping.\n"
          ]
        },
        {
          "output_type": "stream",
          "name": "stdout",
          "text": [
            "\b\b\b\b\b\b\b\b\b\b\b\b\b\b\b\b\b\b\b\b\b\b\b\b\b\b\b\b\b\b\b\b\b\b\b\b\b\b\b\b\b\b\b\b\b\b\b\b\b\b\b\b\b\b\b\b\b\b\b\b\b\b\b\b\b\b\b\b\b\b\b\b\b\b\b\b\b\b\b\b\r1/1 [==============================] - 0s 177ms/step - loss: 0.4262 - accuracy: 0.8591\n",
            "Epoch 693/1000\n",
            "1/1 [==============================] - 0s 27ms/step\n",
            "\n",
            "Validation Accuracy: 39.44444444444444 %\n"
          ]
        },
        {
          "output_type": "stream",
          "name": "stderr",
          "text": [
            "WARNING:tensorflow:Can save best model only with val_loss available, skipping.\n"
          ]
        },
        {
          "output_type": "stream",
          "name": "stdout",
          "text": [
            "\b\b\b\b\b\b\b\b\b\b\b\b\b\b\b\b\b\b\b\b\b\b\b\b\b\b\b\b\b\b\b\b\b\b\b\b\b\b\b\b\b\b\b\b\b\b\b\b\b\b\b\b\b\b\b\b\b\b\b\b\b\b\b\b\b\b\b\b\b\b\b\b\b\b\b\b\b\b\b\b\r1/1 [==============================] - 0s 145ms/step - loss: 0.4388 - accuracy: 0.8528\n",
            "Epoch 694/1000\n",
            "1/1 [==============================] - 0s 36ms/step\n",
            "\n",
            "Validation Accuracy: 38.88888888888889 %\n"
          ]
        },
        {
          "output_type": "stream",
          "name": "stderr",
          "text": [
            "WARNING:tensorflow:Can save best model only with val_loss available, skipping.\n"
          ]
        },
        {
          "output_type": "stream",
          "name": "stdout",
          "text": [
            "\b\b\b\b\b\b\b\b\b\b\b\b\b\b\b\b\b\b\b\b\b\b\b\b\b\b\b\b\b\b\b\b\b\b\b\b\b\b\b\b\b\b\b\b\b\b\b\b\b\b\b\b\b\b\b\b\b\b\b\b\b\b\b\b\b\b\b\b\b\b\b\b\b\b\b\b\b\b\b\b\r1/1 [==============================] - 0s 161ms/step - loss: 0.4354 - accuracy: 0.8566\n",
            "Epoch 695/1000\n",
            "1/1 [==============================] - 0s 28ms/step\n",
            "\n",
            "Validation Accuracy: 38.88888888888889 %\n"
          ]
        },
        {
          "output_type": "stream",
          "name": "stderr",
          "text": [
            "WARNING:tensorflow:Can save best model only with val_loss available, skipping.\n"
          ]
        },
        {
          "output_type": "stream",
          "name": "stdout",
          "text": [
            "\b\b\b\b\b\b\b\b\b\b\b\b\b\b\b\b\b\b\b\b\b\b\b\b\b\b\b\b\b\b\b\b\b\b\b\b\b\b\b\b\b\b\b\b\b\b\b\b\b\b\b\b\b\b\b\b\b\b\b\b\b\b\b\b\b\b\b\b\b\b\b\b\b\b\b\b\b\b\b\b\r1/1 [==============================] - 0s 146ms/step - loss: 0.4290 - accuracy: 0.8543\n",
            "Epoch 696/1000\n",
            "1/1 [==============================] - 0s 35ms/step\n",
            "\n",
            "Validation Accuracy: 38.88888888888889 %\n"
          ]
        },
        {
          "output_type": "stream",
          "name": "stderr",
          "text": [
            "WARNING:tensorflow:Can save best model only with val_loss available, skipping.\n"
          ]
        },
        {
          "output_type": "stream",
          "name": "stdout",
          "text": [
            "\b\b\b\b\b\b\b\b\b\b\b\b\b\b\b\b\b\b\b\b\b\b\b\b\b\b\b\b\b\b\b\b\b\b\b\b\b\b\b\b\b\b\b\b\b\b\b\b\b\b\b\b\b\b\b\b\b\b\b\b\b\b\b\b\b\b\b\b\b\b\b\b\b\b\b\b\b\b\b\b\r1/1 [==============================] - 0s 158ms/step - loss: 0.4184 - accuracy: 0.8639\n",
            "Epoch 697/1000\n",
            "1/1 [==============================] - 0s 31ms/step\n",
            "\n",
            "Validation Accuracy: 39.44444444444444 %\n"
          ]
        },
        {
          "output_type": "stream",
          "name": "stderr",
          "text": [
            "WARNING:tensorflow:Can save best model only with val_loss available, skipping.\n"
          ]
        },
        {
          "output_type": "stream",
          "name": "stdout",
          "text": [
            "\b\b\b\b\b\b\b\b\b\b\b\b\b\b\b\b\b\b\b\b\b\b\b\b\b\b\b\b\b\b\b\b\b\b\b\b\b\b\b\b\b\b\b\b\b\b\b\b\b\b\b\b\b\b\b\b\b\b\b\b\b\b\b\b\b\b\b\b\b\b\b\b\b\b\b\b\b\b\b\b\r1/1 [==============================] - 0s 183ms/step - loss: 0.4289 - accuracy: 0.8557\n",
            "Epoch 698/1000\n",
            "1/1 [==============================] - 0s 34ms/step\n",
            "\n",
            "Validation Accuracy: 39.44444444444444 %\n"
          ]
        },
        {
          "output_type": "stream",
          "name": "stderr",
          "text": [
            "WARNING:tensorflow:Can save best model only with val_loss available, skipping.\n"
          ]
        },
        {
          "output_type": "stream",
          "name": "stdout",
          "text": [
            "\b\b\b\b\b\b\b\b\b\b\b\b\b\b\b\b\b\b\b\b\b\b\b\b\b\b\b\b\b\b\b\b\b\b\b\b\b\b\b\b\b\b\b\b\b\b\b\b\b\b\b\b\b\b\b\b\b\b\b\b\b\b\b\b\b\b\b\b\b\b\b\b\b\b\b\b\b\b\b\b\r1/1 [==============================] - 0s 168ms/step - loss: 0.4271 - accuracy: 0.8583\n",
            "Epoch 699/1000\n",
            "1/1 [==============================] - 0s 31ms/step\n",
            "\n",
            "Validation Accuracy: 39.44444444444444 %\n"
          ]
        },
        {
          "output_type": "stream",
          "name": "stderr",
          "text": [
            "WARNING:tensorflow:Can save best model only with val_loss available, skipping.\n"
          ]
        },
        {
          "output_type": "stream",
          "name": "stdout",
          "text": [
            "\b\b\b\b\b\b\b\b\b\b\b\b\b\b\b\b\b\b\b\b\b\b\b\b\b\b\b\b\b\b\b\b\b\b\b\b\b\b\b\b\b\b\b\b\b\b\b\b\b\b\b\b\b\b\b\b\b\b\b\b\b\b\b\b\b\b\b\b\b\b\b\b\b\b\b\b\b\b\b\b\r1/1 [==============================] - 0s 154ms/step - loss: 0.4356 - accuracy: 0.8543\n",
            "Epoch 700/1000\n",
            "1/1 [==============================] - 0s 30ms/step\n",
            "\n",
            "Validation Accuracy: 39.44444444444444 %\n"
          ]
        },
        {
          "output_type": "stream",
          "name": "stderr",
          "text": [
            "WARNING:tensorflow:Can save best model only with val_loss available, skipping.\n"
          ]
        },
        {
          "output_type": "stream",
          "name": "stdout",
          "text": [
            "\b\b\b\b\b\b\b\b\b\b\b\b\b\b\b\b\b\b\b\b\b\b\b\b\b\b\b\b\b\b\b\b\b\b\b\b\b\b\b\b\b\b\b\b\b\b\b\b\b\b\b\b\b\b\b\b\b\b\b\b\b\b\b\b\b\b\b\b\b\b\b\b\b\b\b\b\b\b\b\b\r1/1 [==============================] - 0s 147ms/step - loss: 0.4294 - accuracy: 0.8598\n",
            "Epoch 701/1000\n",
            "1/1 [==============================] - 0s 37ms/step\n",
            "\n",
            "Validation Accuracy: 39.44444444444444 %\n"
          ]
        },
        {
          "output_type": "stream",
          "name": "stderr",
          "text": [
            "WARNING:tensorflow:Can save best model only with val_loss available, skipping.\n"
          ]
        },
        {
          "output_type": "stream",
          "name": "stdout",
          "text": [
            "\b\b\b\b\b\b\b\b\b\b\b\b\b\b\b\b\b\b\b\b\b\b\b\b\b\b\b\b\b\b\b\b\b\b\b\b\b\b\b\b\b\b\b\b\b\b\b\b\b\b\b\b\b\b\b\b\b\b\b\b\b\b\b\b\b\b\b\b\b\b\b\b\b\b\b\b\b\b\b\b\r1/1 [==============================] - 0s 186ms/step - loss: 0.4303 - accuracy: 0.8619\n",
            "Epoch 702/1000\n",
            "1/1 [==============================] - 0s 28ms/step\n",
            "\n",
            "Validation Accuracy: 38.88888888888889 %\n"
          ]
        },
        {
          "output_type": "stream",
          "name": "stderr",
          "text": [
            "WARNING:tensorflow:Can save best model only with val_loss available, skipping.\n"
          ]
        },
        {
          "output_type": "stream",
          "name": "stdout",
          "text": [
            "\b\b\b\b\b\b\b\b\b\b\b\b\b\b\b\b\b\b\b\b\b\b\b\b\b\b\b\b\b\b\b\b\b\b\b\b\b\b\b\b\b\b\b\b\b\b\b\b\b\b\b\b\b\b\b\b\b\b\b\b\b\b\b\b\b\b\b\b\b\b\b\b\b\b\b\b\b\b\b\b\r1/1 [==============================] - 0s 145ms/step - loss: 0.4358 - accuracy: 0.8538\n",
            "Epoch 703/1000\n",
            "1/1 [==============================] - 0s 31ms/step\n",
            "\n",
            "Validation Accuracy: 38.88888888888889 %\n"
          ]
        },
        {
          "output_type": "stream",
          "name": "stderr",
          "text": [
            "WARNING:tensorflow:Can save best model only with val_loss available, skipping.\n"
          ]
        },
        {
          "output_type": "stream",
          "name": "stdout",
          "text": [
            "\b\b\b\b\b\b\b\b\b\b\b\b\b\b\b\b\b\b\b\b\b\b\b\b\b\b\b\b\b\b\b\b\b\b\b\b\b\b\b\b\b\b\b\b\b\b\b\b\b\b\b\b\b\b\b\b\b\b\b\b\b\b\b\b\b\b\b\b\b\b\b\b\b\b\b\b\b\b\b\b\r1/1 [==============================] - 0s 165ms/step - loss: 0.4317 - accuracy: 0.8592\n",
            "Epoch 704/1000\n",
            "1/1 [==============================] - 0s 34ms/step\n",
            "\n",
            "Validation Accuracy: 39.44444444444444 %\n"
          ]
        },
        {
          "output_type": "stream",
          "name": "stderr",
          "text": [
            "WARNING:tensorflow:Can save best model only with val_loss available, skipping.\n"
          ]
        },
        {
          "output_type": "stream",
          "name": "stdout",
          "text": [
            "\b\b\b\b\b\b\b\b\b\b\b\b\b\b\b\b\b\b\b\b\b\b\b\b\b\b\b\b\b\b\b\b\b\b\b\b\b\b\b\b\b\b\b\b\b\b\b\b\b\b\b\b\b\b\b\b\b\b\b\b\b\b\b\b\b\b\b\b\b\b\b\b\b\b\b\b\b\b\b\b\r1/1 [==============================] - 0s 161ms/step - loss: 0.4253 - accuracy: 0.8571\n",
            "Epoch 705/1000\n",
            "1/1 [==============================] - 0s 30ms/step\n",
            "\n",
            "Validation Accuracy: 39.44444444444444 %\n"
          ]
        },
        {
          "output_type": "stream",
          "name": "stderr",
          "text": [
            "WARNING:tensorflow:Can save best model only with val_loss available, skipping.\n"
          ]
        },
        {
          "output_type": "stream",
          "name": "stdout",
          "text": [
            "\b\b\b\b\b\b\b\b\b\b\b\b\b\b\b\b\b\b\b\b\b\b\b\b\b\b\b\b\b\b\b\b\b\b\b\b\b\b\b\b\b\b\b\b\b\b\b\b\b\b\b\b\b\b\b\b\b\b\b\b\b\b\b\b\b\b\b\b\b\b\b\b\b\b\b\b\b\b\b\b\r1/1 [==============================] - 0s 159ms/step - loss: 0.4325 - accuracy: 0.8552\n",
            "Epoch 706/1000\n",
            "1/1 [==============================] - 0s 31ms/step\n",
            "\n",
            "Validation Accuracy: 39.44444444444444 %\n"
          ]
        },
        {
          "output_type": "stream",
          "name": "stderr",
          "text": [
            "WARNING:tensorflow:Can save best model only with val_loss available, skipping.\n"
          ]
        },
        {
          "output_type": "stream",
          "name": "stdout",
          "text": [
            "\b\b\b\b\b\b\b\b\b\b\b\b\b\b\b\b\b\b\b\b\b\b\b\b\b\b\b\b\b\b\b\b\b\b\b\b\b\b\b\b\b\b\b\b\b\b\b\b\b\b\b\b\b\b\b\b\b\b\b\b\b\b\b\b\b\b\b\b\b\b\b\b\b\b\b\b\b\b\b\b\r1/1 [==============================] - 0s 161ms/step - loss: 0.4335 - accuracy: 0.8578\n",
            "Epoch 707/1000\n",
            "1/1 [==============================] - 0s 36ms/step\n",
            "\n",
            "Validation Accuracy: 39.44444444444444 %\n"
          ]
        },
        {
          "output_type": "stream",
          "name": "stderr",
          "text": [
            "WARNING:tensorflow:Can save best model only with val_loss available, skipping.\n"
          ]
        },
        {
          "output_type": "stream",
          "name": "stdout",
          "text": [
            "\b\b\b\b\b\b\b\b\b\b\b\b\b\b\b\b\b\b\b\b\b\b\b\b\b\b\b\b\b\b\b\b\b\b\b\b\b\b\b\b\b\b\b\b\b\b\b\b\b\b\b\b\b\b\b\b\b\b\b\b\b\b\b\b\b\b\b\b\b\b\b\b\b\b\b\b\b\b\b\b\r1/1 [==============================] - 0s 178ms/step - loss: 0.4256 - accuracy: 0.8592\n",
            "Epoch 708/1000\n",
            "1/1 [==============================] - 0s 29ms/step\n",
            "\n",
            "Validation Accuracy: 38.88888888888889 %\n"
          ]
        },
        {
          "output_type": "stream",
          "name": "stderr",
          "text": [
            "WARNING:tensorflow:Can save best model only with val_loss available, skipping.\n"
          ]
        },
        {
          "output_type": "stream",
          "name": "stdout",
          "text": [
            "\b\b\b\b\b\b\b\b\b\b\b\b\b\b\b\b\b\b\b\b\b\b\b\b\b\b\b\b\b\b\b\b\b\b\b\b\b\b\b\b\b\b\b\b\b\b\b\b\b\b\b\b\b\b\b\b\b\b\b\b\b\b\b\b\b\b\b\b\b\b\b\b\b\b\b\b\b\b\b\b\r1/1 [==============================] - 0s 161ms/step - loss: 0.4255 - accuracy: 0.8606\n",
            "Epoch 709/1000\n",
            "1/1 [==============================] - 0s 31ms/step\n",
            "\n",
            "Validation Accuracy: 38.88888888888889 %\n"
          ]
        },
        {
          "output_type": "stream",
          "name": "stderr",
          "text": [
            "WARNING:tensorflow:Can save best model only with val_loss available, skipping.\n"
          ]
        },
        {
          "output_type": "stream",
          "name": "stdout",
          "text": [
            "\b\b\b\b\b\b\b\b\b\b\b\b\b\b\b\b\b\b\b\b\b\b\b\b\b\b\b\b\b\b\b\b\b\b\b\b\b\b\b\b\b\b\b\b\b\b\b\b\b\b\b\b\b\b\b\b\b\b\b\b\b\b\b\b\b\b\b\b\b\b\b\b\b\b\b\b\b\b\b\b\r1/1 [==============================] - 0s 166ms/step - loss: 0.4322 - accuracy: 0.8573\n",
            "Epoch 710/1000\n",
            "1/1 [==============================] - 0s 27ms/step\n",
            "\n",
            "Validation Accuracy: 38.88888888888889 %\n"
          ]
        },
        {
          "output_type": "stream",
          "name": "stderr",
          "text": [
            "WARNING:tensorflow:Can save best model only with val_loss available, skipping.\n"
          ]
        },
        {
          "output_type": "stream",
          "name": "stdout",
          "text": [
            "\b\b\b\b\b\b\b\b\b\b\b\b\b\b\b\b\b\b\b\b\b\b\b\b\b\b\b\b\b\b\b\b\b\b\b\b\b\b\b\b\b\b\b\b\b\b\b\b\b\b\b\b\b\b\b\b\b\b\b\b\b\b\b\b\b\b\b\b\b\b\b\b\b\b\b\b\b\b\b\b\r1/1 [==============================] - 0s 150ms/step - loss: 0.4325 - accuracy: 0.8573\n",
            "Epoch 711/1000\n",
            "1/1 [==============================] - 0s 28ms/step\n",
            "\n",
            "Validation Accuracy: 38.88888888888889 %\n"
          ]
        },
        {
          "output_type": "stream",
          "name": "stderr",
          "text": [
            "WARNING:tensorflow:Can save best model only with val_loss available, skipping.\n"
          ]
        },
        {
          "output_type": "stream",
          "name": "stdout",
          "text": [
            "\b\b\b\b\b\b\b\b\b\b\b\b\b\b\b\b\b\b\b\b\b\b\b\b\b\b\b\b\b\b\b\b\b\b\b\b\b\b\b\b\b\b\b\b\b\b\b\b\b\b\b\b\b\b\b\b\b\b\b\b\b\b\b\b\b\b\b\b\b\b\b\b\b\b\b\b\b\b\b\b\r1/1 [==============================] - 0s 140ms/step - loss: 0.4281 - accuracy: 0.8576\n",
            "Epoch 712/1000\n",
            "1/1 [==============================] - 0s 30ms/step\n",
            "\n",
            "Validation Accuracy: 38.88888888888889 %\n"
          ]
        },
        {
          "output_type": "stream",
          "name": "stderr",
          "text": [
            "WARNING:tensorflow:Can save best model only with val_loss available, skipping.\n"
          ]
        },
        {
          "output_type": "stream",
          "name": "stdout",
          "text": [
            "\b\b\b\b\b\b\b\b\b\b\b\b\b\b\b\b\b\b\b\b\b\b\b\b\b\b\b\b\b\b\b\b\b\b\b\b\b\b\b\b\b\b\b\b\b\b\b\b\b\b\b\b\b\b\b\b\b\b\b\b\b\b\b\b\b\b\b\b\b\b\b\b\b\b\b\b\b\b\b\b\r1/1 [==============================] - 0s 153ms/step - loss: 0.4343 - accuracy: 0.8576\n",
            "Epoch 713/1000\n",
            "1/1 [==============================] - 0s 31ms/step\n",
            "\n",
            "Validation Accuracy: 37.22222222222222 %\n"
          ]
        },
        {
          "output_type": "stream",
          "name": "stderr",
          "text": [
            "WARNING:tensorflow:Can save best model only with val_loss available, skipping.\n"
          ]
        },
        {
          "output_type": "stream",
          "name": "stdout",
          "text": [
            "\b\b\b\b\b\b\b\b\b\b\b\b\b\b\b\b\b\b\b\b\b\b\b\b\b\b\b\b\b\b\b\b\b\b\b\b\b\b\b\b\b\b\b\b\b\b\b\b\b\b\b\b\b\b\b\b\b\b\b\b\b\b\b\b\b\b\b\b\b\b\b\b\b\b\b\b\b\b\b\b\r1/1 [==============================] - 0s 154ms/step - loss: 0.4265 - accuracy: 0.8606\n",
            "Epoch 714/1000\n",
            "1/1 [==============================] - 0s 35ms/step\n",
            "\n",
            "Validation Accuracy: 37.77777777777778 %\n"
          ]
        },
        {
          "output_type": "stream",
          "name": "stderr",
          "text": [
            "WARNING:tensorflow:Can save best model only with val_loss available, skipping.\n"
          ]
        },
        {
          "output_type": "stream",
          "name": "stdout",
          "text": [
            "\b\b\b\b\b\b\b\b\b\b\b\b\b\b\b\b\b\b\b\b\b\b\b\b\b\b\b\b\b\b\b\b\b\b\b\b\b\b\b\b\b\b\b\b\b\b\b\b\b\b\b\b\b\b\b\b\b\b\b\b\b\b\b\b\b\b\b\b\b\b\b\b\b\b\b\b\b\b\b\b\r1/1 [==============================] - 0s 171ms/step - loss: 0.4294 - accuracy: 0.8563\n",
            "Epoch 715/1000\n",
            "1/1 [==============================] - 0s 28ms/step\n",
            "\n",
            "Validation Accuracy: 38.88888888888889 %\n"
          ]
        },
        {
          "output_type": "stream",
          "name": "stderr",
          "text": [
            "WARNING:tensorflow:Can save best model only with val_loss available, skipping.\n"
          ]
        },
        {
          "output_type": "stream",
          "name": "stdout",
          "text": [
            "\b\b\b\b\b\b\b\b\b\b\b\b\b\b\b\b\b\b\b\b\b\b\b\b\b\b\b\b\b\b\b\b\b\b\b\b\b\b\b\b\b\b\b\b\b\b\b\b\b\b\b\b\b\b\b\b\b\b\b\b\b\b\b\b\b\b\b\b\b\b\b\b\b\b\b\b\b\b\b\b\r1/1 [==============================] - 0s 185ms/step - loss: 0.4335 - accuracy: 0.8515\n",
            "Epoch 716/1000\n",
            "1/1 [==============================] - 0s 29ms/step\n",
            "\n",
            "Validation Accuracy: 38.88888888888889 %\n"
          ]
        },
        {
          "output_type": "stream",
          "name": "stderr",
          "text": [
            "WARNING:tensorflow:Can save best model only with val_loss available, skipping.\n"
          ]
        },
        {
          "output_type": "stream",
          "name": "stdout",
          "text": [
            "\b\b\b\b\b\b\b\b\b\b\b\b\b\b\b\b\b\b\b\b\b\b\b\b\b\b\b\b\b\b\b\b\b\b\b\b\b\b\b\b\b\b\b\b\b\b\b\b\b\b\b\b\b\b\b\b\b\b\b\b\b\b\b\b\b\b\b\b\b\b\b\b\b\b\b\b\b\b\b\b\r1/1 [==============================] - 0s 170ms/step - loss: 0.4335 - accuracy: 0.8583\n",
            "Epoch 717/1000\n",
            "1/1 [==============================] - 0s 30ms/step\n",
            "\n",
            "Validation Accuracy: 38.88888888888889 %\n"
          ]
        },
        {
          "output_type": "stream",
          "name": "stderr",
          "text": [
            "WARNING:tensorflow:Can save best model only with val_loss available, skipping.\n"
          ]
        },
        {
          "output_type": "stream",
          "name": "stdout",
          "text": [
            "\b\b\b\b\b\b\b\b\b\b\b\b\b\b\b\b\b\b\b\b\b\b\b\b\b\b\b\b\b\b\b\b\b\b\b\b\b\b\b\b\b\b\b\b\b\b\b\b\b\b\b\b\b\b\b\b\b\b\b\b\b\b\b\b\b\b\b\b\b\b\b\b\b\b\b\b\b\b\b\b\r1/1 [==============================] - 0s 172ms/step - loss: 0.4178 - accuracy: 0.8637\n",
            "Epoch 718/1000\n",
            "1/1 [==============================] - 0s 61ms/step\n",
            "\n",
            "Validation Accuracy: 38.88888888888889 %\n"
          ]
        },
        {
          "output_type": "stream",
          "name": "stderr",
          "text": [
            "WARNING:tensorflow:Can save best model only with val_loss available, skipping.\n"
          ]
        },
        {
          "output_type": "stream",
          "name": "stdout",
          "text": [
            "\b\b\b\b\b\b\b\b\b\b\b\b\b\b\b\b\b\b\b\b\b\b\b\b\b\b\b\b\b\b\b\b\b\b\b\b\b\b\b\b\b\b\b\b\b\b\b\b\b\b\b\b\b\b\b\b\b\b\b\b\b\b\b\b\b\b\b\b\b\b\b\b\b\b\b\b\b\b\b\b\r1/1 [==============================] - 0s 272ms/step - loss: 0.4328 - accuracy: 0.8602\n",
            "Epoch 719/1000\n",
            "1/1 [==============================] - 0s 47ms/step\n",
            "\n",
            "Validation Accuracy: 39.44444444444444 %\n"
          ]
        },
        {
          "output_type": "stream",
          "name": "stderr",
          "text": [
            "WARNING:tensorflow:Can save best model only with val_loss available, skipping.\n"
          ]
        },
        {
          "output_type": "stream",
          "name": "stdout",
          "text": [
            "\b\b\b\b\b\b\b\b\b\b\b\b\b\b\b\b\b\b\b\b\b\b\b\b\b\b\b\b\b\b\b\b\b\b\b\b\b\b\b\b\b\b\b\b\b\b\b\b\b\b\b\b\b\b\b\b\b\b\b\b\b\b\b\b\b\b\b\b\b\b\b\b\b\b\b\b\b\b\b\b\r1/1 [==============================] - 0s 202ms/step - loss: 0.4235 - accuracy: 0.8602\n",
            "Epoch 720/1000\n",
            "1/1 [==============================] - 0s 43ms/step\n",
            "\n",
            "Validation Accuracy: 39.44444444444444 %\n"
          ]
        },
        {
          "output_type": "stream",
          "name": "stderr",
          "text": [
            "WARNING:tensorflow:Can save best model only with val_loss available, skipping.\n"
          ]
        },
        {
          "output_type": "stream",
          "name": "stdout",
          "text": [
            "\b\b\b\b\b\b\b\b\b\b\b\b\b\b\b\b\b\b\b\b\b\b\b\b\b\b\b\b\b\b\b\b\b\b\b\b\b\b\b\b\b\b\b\b\b\b\b\b\b\b\b\b\b\b\b\b\b\b\b\b\b\b\b\b\b\b\b\b\b\b\b\b\b\b\b\b\b\b\b\b\r1/1 [==============================] - 0s 180ms/step - loss: 0.4256 - accuracy: 0.8580\n",
            "Epoch 721/1000\n",
            "1/1 [==============================] - 0s 46ms/step\n",
            "\n",
            "Validation Accuracy: 38.88888888888889 %\n"
          ]
        },
        {
          "output_type": "stream",
          "name": "stderr",
          "text": [
            "WARNING:tensorflow:Can save best model only with val_loss available, skipping.\n"
          ]
        },
        {
          "output_type": "stream",
          "name": "stdout",
          "text": [
            "\b\b\b\b\b\b\b\b\b\b\b\b\b\b\b\b\b\b\b\b\b\b\b\b\b\b\b\b\b\b\b\b\b\b\b\b\b\b\b\b\b\b\b\b\b\b\b\b\b\b\b\b\b\b\b\b\b\b\b\b\b\b\b\b\b\b\b\b\b\b\b\b\b\b\b\b\b\b\b\b\r1/1 [==============================] - 0s 189ms/step - loss: 0.4264 - accuracy: 0.8594\n",
            "Epoch 722/1000\n",
            "1/1 [==============================] - 0s 36ms/step\n",
            "\n",
            "Validation Accuracy: 38.88888888888889 %\n"
          ]
        },
        {
          "output_type": "stream",
          "name": "stderr",
          "text": [
            "WARNING:tensorflow:Can save best model only with val_loss available, skipping.\n"
          ]
        },
        {
          "output_type": "stream",
          "name": "stdout",
          "text": [
            "\b\b\b\b\b\b\b\b\b\b\b\b\b\b\b\b\b\b\b\b\b\b\b\b\b\b\b\b\b\b\b\b\b\b\b\b\b\b\b\b\b\b\b\b\b\b\b\b\b\b\b\b\b\b\b\b\b\b\b\b\b\b\b\b\b\b\b\b\b\b\b\b\b\b\b\b\b\b\b\b\r1/1 [==============================] - 0s 194ms/step - loss: 0.4218 - accuracy: 0.8609\n",
            "Epoch 723/1000\n",
            "1/1 [==============================] - 0s 66ms/step\n",
            "\n",
            "Validation Accuracy: 38.88888888888889 %\n"
          ]
        },
        {
          "output_type": "stream",
          "name": "stderr",
          "text": [
            "WARNING:tensorflow:Can save best model only with val_loss available, skipping.\n"
          ]
        },
        {
          "output_type": "stream",
          "name": "stdout",
          "text": [
            "\b\b\b\b\b\b\b\b\b\b\b\b\b\b\b\b\b\b\b\b\b\b\b\b\b\b\b\b\b\b\b\b\b\b\b\b\b\b\b\b\b\b\b\b\b\b\b\b\b\b\b\b\b\b\b\b\b\b\b\b\b\b\b\b\b\b\b\b\b\b\b\b\b\b\b\b\b\b\b\b\r1/1 [==============================] - 0s 242ms/step - loss: 0.4250 - accuracy: 0.8584\n",
            "Epoch 724/1000\n",
            "1/1 [==============================] - 0s 36ms/step\n",
            "\n",
            "Validation Accuracy: 38.88888888888889 %\n"
          ]
        },
        {
          "output_type": "stream",
          "name": "stderr",
          "text": [
            "WARNING:tensorflow:Can save best model only with val_loss available, skipping.\n"
          ]
        },
        {
          "output_type": "stream",
          "name": "stdout",
          "text": [
            "\b\b\b\b\b\b\b\b\b\b\b\b\b\b\b\b\b\b\b\b\b\b\b\b\b\b\b\b\b\b\b\b\b\b\b\b\b\b\b\b\b\b\b\b\b\b\b\b\b\b\b\b\b\b\b\b\b\b\b\b\b\b\b\b\b\b\b\b\b\b\b\b\b\b\b\b\b\b\b\b\r1/1 [==============================] - 0s 229ms/step - loss: 0.4260 - accuracy: 0.8611\n",
            "Epoch 725/1000\n",
            "1/1 [==============================] - 0s 41ms/step\n",
            "\n",
            "Validation Accuracy: 38.88888888888889 %\n"
          ]
        },
        {
          "output_type": "stream",
          "name": "stderr",
          "text": [
            "WARNING:tensorflow:Can save best model only with val_loss available, skipping.\n"
          ]
        },
        {
          "output_type": "stream",
          "name": "stdout",
          "text": [
            "\b\b\b\b\b\b\b\b\b\b\b\b\b\b\b\b\b\b\b\b\b\b\b\b\b\b\b\b\b\b\b\b\b\b\b\b\b\b\b\b\b\b\b\b\b\b\b\b\b\b\b\b\b\b\b\b\b\b\b\b\b\b\b\b\b\b\b\b\b\b\b\b\b\b\b\b\b\b\b\b\r1/1 [==============================] - 0s 203ms/step - loss: 0.4275 - accuracy: 0.8616\n",
            "Epoch 726/1000\n",
            "1/1 [==============================] - 0s 32ms/step\n",
            "\n",
            "Validation Accuracy: 38.88888888888889 %\n"
          ]
        },
        {
          "output_type": "stream",
          "name": "stderr",
          "text": [
            "WARNING:tensorflow:Can save best model only with val_loss available, skipping.\n"
          ]
        },
        {
          "output_type": "stream",
          "name": "stdout",
          "text": [
            "\b\b\b\b\b\b\b\b\b\b\b\b\b\b\b\b\b\b\b\b\b\b\b\b\b\b\b\b\b\b\b\b\b\b\b\b\b\b\b\b\b\b\b\b\b\b\b\b\b\b\b\b\b\b\b\b\b\b\b\b\b\b\b\b\b\b\b\b\b\b\b\b\b\b\b\b\b\b\b\b\r1/1 [==============================] - 0s 199ms/step - loss: 0.4339 - accuracy: 0.8521\n",
            "Epoch 727/1000\n",
            "1/1 [==============================] - 0s 60ms/step\n",
            "\n",
            "Validation Accuracy: 38.88888888888889 %\n"
          ]
        },
        {
          "output_type": "stream",
          "name": "stderr",
          "text": [
            "WARNING:tensorflow:Can save best model only with val_loss available, skipping.\n"
          ]
        },
        {
          "output_type": "stream",
          "name": "stdout",
          "text": [
            "\b\b\b\b\b\b\b\b\b\b\b\b\b\b\b\b\b\b\b\b\b\b\b\b\b\b\b\b\b\b\b\b\b\b\b\b\b\b\b\b\b\b\b\b\b\b\b\b\b\b\b\b\b\b\b\b\b\b\b\b\b\b\b\b\b\b\b\b\b\b\b\b\b\b\b\b\b\b\b\b\r1/1 [==============================] - 0s 235ms/step - loss: 0.4144 - accuracy: 0.8620\n",
            "Epoch 728/1000\n",
            "1/1 [==============================] - 0s 32ms/step\n",
            "\n",
            "Validation Accuracy: 38.88888888888889 %\n"
          ]
        },
        {
          "output_type": "stream",
          "name": "stderr",
          "text": [
            "WARNING:tensorflow:Can save best model only with val_loss available, skipping.\n"
          ]
        },
        {
          "output_type": "stream",
          "name": "stdout",
          "text": [
            "\b\b\b\b\b\b\b\b\b\b\b\b\b\b\b\b\b\b\b\b\b\b\b\b\b\b\b\b\b\b\b\b\b\b\b\b\b\b\b\b\b\b\b\b\b\b\b\b\b\b\b\b\b\b\b\b\b\b\b\b\b\b\b\b\b\b\b\b\b\b\b\b\b\b\b\b\b\b\b\b\r1/1 [==============================] - 0s 180ms/step - loss: 0.4225 - accuracy: 0.8570\n",
            "Epoch 729/1000\n",
            "1/1 [==============================] - 0s 39ms/step\n",
            "\n",
            "Validation Accuracy: 38.88888888888889 %\n"
          ]
        },
        {
          "output_type": "stream",
          "name": "stderr",
          "text": [
            "WARNING:tensorflow:Can save best model only with val_loss available, skipping.\n"
          ]
        },
        {
          "output_type": "stream",
          "name": "stdout",
          "text": [
            "\b\b\b\b\b\b\b\b\b\b\b\b\b\b\b\b\b\b\b\b\b\b\b\b\b\b\b\b\b\b\b\b\b\b\b\b\b\b\b\b\b\b\b\b\b\b\b\b\b\b\b\b\b\b\b\b\b\b\b\b\b\b\b\b\b\b\b\b\b\b\b\b\b\b\b\b\b\b\b\b\r1/1 [==============================] - 0s 205ms/step - loss: 0.4283 - accuracy: 0.8604\n",
            "Epoch 730/1000\n",
            "1/1 [==============================] - 0s 53ms/step\n",
            "\n",
            "Validation Accuracy: 39.44444444444444 %\n"
          ]
        },
        {
          "output_type": "stream",
          "name": "stderr",
          "text": [
            "WARNING:tensorflow:Can save best model only with val_loss available, skipping.\n"
          ]
        },
        {
          "output_type": "stream",
          "name": "stdout",
          "text": [
            "\b\b\b\b\b\b\b\b\b\b\b\b\b\b\b\b\b\b\b\b\b\b\b\b\b\b\b\b\b\b\b\b\b\b\b\b\b\b\b\b\b\b\b\b\b\b\b\b\b\b\b\b\b\b\b\b\b\b\b\b\b\b\b\b\b\b\b\b\b\b\b\b\b\b\b\b\b\b\b\b\r1/1 [==============================] - 0s 244ms/step - loss: 0.4171 - accuracy: 0.8630\n",
            "Epoch 731/1000\n",
            "1/1 [==============================] - 0s 35ms/step\n",
            "\n",
            "Validation Accuracy: 38.88888888888889 %\n"
          ]
        },
        {
          "output_type": "stream",
          "name": "stderr",
          "text": [
            "WARNING:tensorflow:Can save best model only with val_loss available, skipping.\n"
          ]
        },
        {
          "output_type": "stream",
          "name": "stdout",
          "text": [
            "\b\b\b\b\b\b\b\b\b\b\b\b\b\b\b\b\b\b\b\b\b\b\b\b\b\b\b\b\b\b\b\b\b\b\b\b\b\b\b\b\b\b\b\b\b\b\b\b\b\b\b\b\b\b\b\b\b\b\b\b\b\b\b\b\b\b\b\b\b\b\b\b\b\b\b\b\b\b\b\b\r1/1 [==============================] - 0s 167ms/step - loss: 0.4263 - accuracy: 0.8560\n",
            "Epoch 732/1000\n",
            "1/1 [==============================] - 0s 34ms/step\n",
            "\n",
            "Validation Accuracy: 38.333333333333336 %\n"
          ]
        },
        {
          "output_type": "stream",
          "name": "stderr",
          "text": [
            "WARNING:tensorflow:Can save best model only with val_loss available, skipping.\n"
          ]
        },
        {
          "output_type": "stream",
          "name": "stdout",
          "text": [
            "\b\b\b\b\b\b\b\b\b\b\b\b\b\b\b\b\b\b\b\b\b\b\b\b\b\b\b\b\b\b\b\b\b\b\b\b\b\b\b\b\b\b\b\b\b\b\b\b\b\b\b\b\b\b\b\b\b\b\b\b\b\b\b\b\b\b\b\b\b\b\b\b\b\b\b\b\b\b\b\b\r1/1 [==============================] - 0s 179ms/step - loss: 0.4161 - accuracy: 0.8626\n",
            "Epoch 733/1000\n",
            "1/1 [==============================] - 0s 36ms/step\n",
            "\n",
            "Validation Accuracy: 39.44444444444444 %\n"
          ]
        },
        {
          "output_type": "stream",
          "name": "stderr",
          "text": [
            "WARNING:tensorflow:Can save best model only with val_loss available, skipping.\n"
          ]
        },
        {
          "output_type": "stream",
          "name": "stdout",
          "text": [
            "\b\b\b\b\b\b\b\b\b\b\b\b\b\b\b\b\b\b\b\b\b\b\b\b\b\b\b\b\b\b\b\b\b\b\b\b\b\b\b\b\b\b\b\b\b\b\b\b\b\b\b\b\b\b\b\b\b\b\b\b\b\b\b\b\b\b\b\b\b\b\b\b\b\b\b\b\b\b\b\b\r1/1 [==============================] - 0s 197ms/step - loss: 0.4151 - accuracy: 0.8622\n",
            "Epoch 734/1000\n",
            "1/1 [==============================] - 0s 36ms/step\n",
            "\n",
            "Validation Accuracy: 38.88888888888889 %\n"
          ]
        },
        {
          "output_type": "stream",
          "name": "stderr",
          "text": [
            "WARNING:tensorflow:Can save best model only with val_loss available, skipping.\n"
          ]
        },
        {
          "output_type": "stream",
          "name": "stdout",
          "text": [
            "\b\b\b\b\b\b\b\b\b\b\b\b\b\b\b\b\b\b\b\b\b\b\b\b\b\b\b\b\b\b\b\b\b\b\b\b\b\b\b\b\b\b\b\b\b\b\b\b\b\b\b\b\b\b\b\b\b\b\b\b\b\b\b\b\b\b\b\b\b\b\b\b\b\b\b\b\b\b\b\b\r1/1 [==============================] - 0s 215ms/step - loss: 0.4300 - accuracy: 0.8595\n",
            "Epoch 735/1000\n",
            "1/1 [==============================] - 0s 41ms/step\n",
            "\n",
            "Validation Accuracy: 38.88888888888889 %\n"
          ]
        },
        {
          "output_type": "stream",
          "name": "stderr",
          "text": [
            "WARNING:tensorflow:Can save best model only with val_loss available, skipping.\n"
          ]
        },
        {
          "output_type": "stream",
          "name": "stdout",
          "text": [
            "\b\b\b\b\b\b\b\b\b\b\b\b\b\b\b\b\b\b\b\b\b\b\b\b\b\b\b\b\b\b\b\b\b\b\b\b\b\b\b\b\b\b\b\b\b\b\b\b\b\b\b\b\b\b\b\b\b\b\b\b\b\b\b\b\b\b\b\b\b\b\b\b\b\b\b\b\b\b\b\b\r1/1 [==============================] - 0s 211ms/step - loss: 0.4207 - accuracy: 0.8625\n",
            "Epoch 736/1000\n",
            "1/1 [==============================] - 0s 49ms/step\n",
            "\n",
            "Validation Accuracy: 38.88888888888889 %\n"
          ]
        },
        {
          "output_type": "stream",
          "name": "stderr",
          "text": [
            "WARNING:tensorflow:Can save best model only with val_loss available, skipping.\n"
          ]
        },
        {
          "output_type": "stream",
          "name": "stdout",
          "text": [
            "\b\b\b\b\b\b\b\b\b\b\b\b\b\b\b\b\b\b\b\b\b\b\b\b\b\b\b\b\b\b\b\b\b\b\b\b\b\b\b\b\b\b\b\b\b\b\b\b\b\b\b\b\b\b\b\b\b\b\b\b\b\b\b\b\b\b\b\b\b\b\b\b\b\b\b\b\b\b\b\b\r1/1 [==============================] - 0s 212ms/step - loss: 0.4235 - accuracy: 0.8629\n",
            "Epoch 737/1000\n",
            "1/1 [==============================] - 0s 61ms/step\n",
            "\n",
            "Validation Accuracy: 38.88888888888889 %\n"
          ]
        },
        {
          "output_type": "stream",
          "name": "stderr",
          "text": [
            "WARNING:tensorflow:Can save best model only with val_loss available, skipping.\n"
          ]
        },
        {
          "output_type": "stream",
          "name": "stdout",
          "text": [
            "\b\b\b\b\b\b\b\b\b\b\b\b\b\b\b\b\b\b\b\b\b\b\b\b\b\b\b\b\b\b\b\b\b\b\b\b\b\b\b\b\b\b\b\b\b\b\b\b\b\b\b\b\b\b\b\b\b\b\b\b\b\b\b\b\b\b\b\b\b\b\b\b\b\b\b\b\b\b\b\b\r1/1 [==============================] - 0s 223ms/step - loss: 0.4276 - accuracy: 0.8616\n",
            "Epoch 738/1000\n",
            "1/1 [==============================] - 0s 47ms/step\n",
            "\n",
            "Validation Accuracy: 39.44444444444444 %\n"
          ]
        },
        {
          "output_type": "stream",
          "name": "stderr",
          "text": [
            "WARNING:tensorflow:Can save best model only with val_loss available, skipping.\n"
          ]
        },
        {
          "output_type": "stream",
          "name": "stdout",
          "text": [
            "\b\b\b\b\b\b\b\b\b\b\b\b\b\b\b\b\b\b\b\b\b\b\b\b\b\b\b\b\b\b\b\b\b\b\b\b\b\b\b\b\b\b\b\b\b\b\b\b\b\b\b\b\b\b\b\b\b\b\b\b\b\b\b\b\b\b\b\b\b\b\b\b\b\b\b\b\b\b\b\b\r1/1 [==============================] - 0s 215ms/step - loss: 0.4180 - accuracy: 0.8613\n",
            "Epoch 739/1000\n",
            "1/1 [==============================] - 0s 58ms/step\n",
            "\n",
            "Validation Accuracy: 39.44444444444444 %\n"
          ]
        },
        {
          "output_type": "stream",
          "name": "stderr",
          "text": [
            "WARNING:tensorflow:Can save best model only with val_loss available, skipping.\n"
          ]
        },
        {
          "output_type": "stream",
          "name": "stdout",
          "text": [
            "\b\b\b\b\b\b\b\b\b\b\b\b\b\b\b\b\b\b\b\b\b\b\b\b\b\b\b\b\b\b\b\b\b\b\b\b\b\b\b\b\b\b\b\b\b\b\b\b\b\b\b\b\b\b\b\b\b\b\b\b\b\b\b\b\b\b\b\b\b\b\b\b\b\b\b\b\b\b\b\b\r1/1 [==============================] - 0s 243ms/step - loss: 0.4271 - accuracy: 0.8623\n",
            "Epoch 740/1000\n",
            "1/1 [==============================] - 0s 32ms/step\n",
            "\n",
            "Validation Accuracy: 40.0 %\n"
          ]
        },
        {
          "output_type": "stream",
          "name": "stderr",
          "text": [
            "WARNING:tensorflow:Can save best model only with val_loss available, skipping.\n"
          ]
        },
        {
          "output_type": "stream",
          "name": "stdout",
          "text": [
            "\b\b\b\b\b\b\b\b\b\b\b\b\b\b\b\b\b\b\b\b\b\b\b\b\b\b\b\b\b\b\b\b\b\b\b\b\b\b\b\b\b\b\b\b\b\b\b\b\b\b\b\b\b\b\b\b\b\b\b\b\b\b\b\b\b\b\b\b\b\b\b\b\b\b\b\b\b\b\b\b\r1/1 [==============================] - 0s 184ms/step - loss: 0.4218 - accuracy: 0.8595\n",
            "Epoch 741/1000\n",
            "1/1 [==============================] - 0s 39ms/step\n",
            "\n",
            "Validation Accuracy: 40.0 %\n"
          ]
        },
        {
          "output_type": "stream",
          "name": "stderr",
          "text": [
            "WARNING:tensorflow:Can save best model only with val_loss available, skipping.\n"
          ]
        },
        {
          "output_type": "stream",
          "name": "stdout",
          "text": [
            "\b\b\b\b\b\b\b\b\b\b\b\b\b\b\b\b\b\b\b\b\b\b\b\b\b\b\b\b\b\b\b\b\b\b\b\b\b\b\b\b\b\b\b\b\b\b\b\b\b\b\b\b\b\b\b\b\b\b\b\b\b\b\b\b\b\b\b\b\b\b\b\b\b\b\b\b\b\b\b\b\r1/1 [==============================] - 0s 209ms/step - loss: 0.4293 - accuracy: 0.8608\n",
            "Epoch 742/1000\n",
            "1/1 [==============================] - 0s 67ms/step\n",
            "\n",
            "Validation Accuracy: 39.44444444444444 %\n"
          ]
        },
        {
          "output_type": "stream",
          "name": "stderr",
          "text": [
            "WARNING:tensorflow:Can save best model only with val_loss available, skipping.\n"
          ]
        },
        {
          "output_type": "stream",
          "name": "stdout",
          "text": [
            "\b\b\b\b\b\b\b\b\b\b\b\b\b\b\b\b\b\b\b\b\b\b\b\b\b\b\b\b\b\b\b\b\b\b\b\b\b\b\b\b\b\b\b\b\b\b\b\b\b\b\b\b\b\b\b\b\b\b\b\b\b\b\b\b\b\b\b\b\b\b\b\b\b\b\b\b\b\b\b\b\r1/1 [==============================] - 0s 271ms/step - loss: 0.4187 - accuracy: 0.8634\n",
            "Epoch 743/1000\n",
            "1/1 [==============================] - 0s 46ms/step\n",
            "\n",
            "Validation Accuracy: 39.44444444444444 %\n"
          ]
        },
        {
          "output_type": "stream",
          "name": "stderr",
          "text": [
            "WARNING:tensorflow:Can save best model only with val_loss available, skipping.\n"
          ]
        },
        {
          "output_type": "stream",
          "name": "stdout",
          "text": [
            "\b\b\b\b\b\b\b\b\b\b\b\b\b\b\b\b\b\b\b\b\b\b\b\b\b\b\b\b\b\b\b\b\b\b\b\b\b\b\b\b\b\b\b\b\b\b\b\b\b\b\b\b\b\b\b\b\b\b\b\b\b\b\b\b\b\b\b\b\b\b\b\b\b\b\b\b\b\b\b\b\r1/1 [==============================] - 0s 226ms/step - loss: 0.4166 - accuracy: 0.8560\n",
            "Epoch 744/1000\n",
            "1/1 [==============================] - 0s 62ms/step\n",
            "\n",
            "Validation Accuracy: 39.44444444444444 %\n"
          ]
        },
        {
          "output_type": "stream",
          "name": "stderr",
          "text": [
            "WARNING:tensorflow:Can save best model only with val_loss available, skipping.\n"
          ]
        },
        {
          "output_type": "stream",
          "name": "stdout",
          "text": [
            "\b\b\b\b\b\b\b\b\b\b\b\b\b\b\b\b\b\b\b\b\b\b\b\b\b\b\b\b\b\b\b\b\b\b\b\b\b\b\b\b\b\b\b\b\b\b\b\b\b\b\b\b\b\b\b\b\b\b\b\b\b\b\b\b\b\b\b\b\b\b\b\b\b\b\b\b\b\b\b\b\r1/1 [==============================] - 0s 247ms/step - loss: 0.4175 - accuracy: 0.8605\n",
            "Epoch 745/1000\n",
            "1/1 [==============================] - 0s 63ms/step\n",
            "\n",
            "Validation Accuracy: 40.0 %\n"
          ]
        },
        {
          "output_type": "stream",
          "name": "stderr",
          "text": [
            "WARNING:tensorflow:Can save best model only with val_loss available, skipping.\n"
          ]
        },
        {
          "output_type": "stream",
          "name": "stdout",
          "text": [
            "\b\b\b\b\b\b\b\b\b\b\b\b\b\b\b\b\b\b\b\b\b\b\b\b\b\b\b\b\b\b\b\b\b\b\b\b\b\b\b\b\b\b\b\b\b\b\b\b\b\b\b\b\b\b\b\b\b\b\b\b\b\b\b\b\b\b\b\b\b\b\b\b\b\b\b\b\b\b\b\b\r1/1 [==============================] - 0s 274ms/step - loss: 0.4146 - accuracy: 0.8618\n",
            "Epoch 746/1000\n",
            "1/1 [==============================] - 0s 46ms/step\n",
            "\n",
            "Validation Accuracy: 40.0 %\n"
          ]
        },
        {
          "output_type": "stream",
          "name": "stderr",
          "text": [
            "WARNING:tensorflow:Can save best model only with val_loss available, skipping.\n"
          ]
        },
        {
          "output_type": "stream",
          "name": "stdout",
          "text": [
            "\b\b\b\b\b\b\b\b\b\b\b\b\b\b\b\b\b\b\b\b\b\b\b\b\b\b\b\b\b\b\b\b\b\b\b\b\b\b\b\b\b\b\b\b\b\b\b\b\b\b\b\b\b\b\b\b\b\b\b\b\b\b\b\b\b\b\b\b\b\b\b\b\b\b\b\b\b\b\b\b\r1/1 [==============================] - 0s 212ms/step - loss: 0.4205 - accuracy: 0.8609\n",
            "Epoch 747/1000\n",
            "1/1 [==============================] - 0s 31ms/step\n",
            "\n",
            "Validation Accuracy: 38.88888888888889 %\n"
          ]
        },
        {
          "output_type": "stream",
          "name": "stderr",
          "text": [
            "WARNING:tensorflow:Can save best model only with val_loss available, skipping.\n"
          ]
        },
        {
          "output_type": "stream",
          "name": "stdout",
          "text": [
            "\b\b\b\b\b\b\b\b\b\b\b\b\b\b\b\b\b\b\b\b\b\b\b\b\b\b\b\b\b\b\b\b\b\b\b\b\b\b\b\b\b\b\b\b\b\b\b\b\b\b\b\b\b\b\b\b\b\b\b\b\b\b\b\b\b\b\b\b\b\b\b\b\b\b\b\b\b\b\b\b\r1/1 [==============================] - 0s 186ms/step - loss: 0.4216 - accuracy: 0.8577\n",
            "Epoch 748/1000\n",
            "1/1 [==============================] - 0s 35ms/step\n",
            "\n",
            "Validation Accuracy: 39.44444444444444 %\n"
          ]
        },
        {
          "output_type": "stream",
          "name": "stderr",
          "text": [
            "WARNING:tensorflow:Can save best model only with val_loss available, skipping.\n"
          ]
        },
        {
          "output_type": "stream",
          "name": "stdout",
          "text": [
            "\b\b\b\b\b\b\b\b\b\b\b\b\b\b\b\b\b\b\b\b\b\b\b\b\b\b\b\b\b\b\b\b\b\b\b\b\b\b\b\b\b\b\b\b\b\b\b\b\b\b\b\b\b\b\b\b\b\b\b\b\b\b\b\b\b\b\b\b\b\b\b\b\b\b\b\b\b\b\b\b\r1/1 [==============================] - 0s 195ms/step - loss: 0.4182 - accuracy: 0.8601\n",
            "Epoch 749/1000\n",
            "1/1 [==============================] - 0s 42ms/step\n",
            "\n",
            "Validation Accuracy: 39.44444444444444 %\n"
          ]
        },
        {
          "output_type": "stream",
          "name": "stderr",
          "text": [
            "WARNING:tensorflow:Can save best model only with val_loss available, skipping.\n"
          ]
        },
        {
          "output_type": "stream",
          "name": "stdout",
          "text": [
            "\b\b\b\b\b\b\b\b\b\b\b\b\b\b\b\b\b\b\b\b\b\b\b\b\b\b\b\b\b\b\b\b\b\b\b\b\b\b\b\b\b\b\b\b\b\b\b\b\b\b\b\b\b\b\b\b\b\b\b\b\b\b\b\b\b\b\b\b\b\b\b\b\b\b\b\b\b\b\b\b\r1/1 [==============================] - 0s 219ms/step - loss: 0.4188 - accuracy: 0.8627\n",
            "Epoch 750/1000\n",
            "1/1 [==============================] - 0s 41ms/step\n",
            "\n",
            "Validation Accuracy: 39.44444444444444 %\n"
          ]
        },
        {
          "output_type": "stream",
          "name": "stderr",
          "text": [
            "WARNING:tensorflow:Can save best model only with val_loss available, skipping.\n"
          ]
        },
        {
          "output_type": "stream",
          "name": "stdout",
          "text": [
            "\b\b\b\b\b\b\b\b\b\b\b\b\b\b\b\b\b\b\b\b\b\b\b\b\b\b\b\b\b\b\b\b\b\b\b\b\b\b\b\b\b\b\b\b\b\b\b\b\b\b\b\b\b\b\b\b\b\b\b\b\b\b\b\b\b\b\b\b\b\b\b\b\b\b\b\b\b\b\b\b\r1/1 [==============================] - 0s 190ms/step - loss: 0.4180 - accuracy: 0.8612\n",
            "Epoch 751/1000\n",
            "1/1 [==============================] - 0s 49ms/step\n",
            "\n",
            "Validation Accuracy: 39.44444444444444 %\n"
          ]
        },
        {
          "output_type": "stream",
          "name": "stderr",
          "text": [
            "WARNING:tensorflow:Can save best model only with val_loss available, skipping.\n"
          ]
        },
        {
          "output_type": "stream",
          "name": "stdout",
          "text": [
            "\b\b\b\b\b\b\b\b\b\b\b\b\b\b\b\b\b\b\b\b\b\b\b\b\b\b\b\b\b\b\b\b\b\b\b\b\b\b\b\b\b\b\b\b\b\b\b\b\b\b\b\b\b\b\b\b\b\b\b\b\b\b\b\b\b\b\b\b\b\b\b\b\b\b\b\b\b\b\b\b\r1/1 [==============================] - 0s 239ms/step - loss: 0.4211 - accuracy: 0.8612\n",
            "Epoch 752/1000\n",
            "1/1 [==============================] - 0s 42ms/step\n",
            "\n",
            "Validation Accuracy: 39.44444444444444 %\n"
          ]
        },
        {
          "output_type": "stream",
          "name": "stderr",
          "text": [
            "WARNING:tensorflow:Can save best model only with val_loss available, skipping.\n"
          ]
        },
        {
          "output_type": "stream",
          "name": "stdout",
          "text": [
            "\b\b\b\b\b\b\b\b\b\b\b\b\b\b\b\b\b\b\b\b\b\b\b\b\b\b\b\b\b\b\b\b\b\b\b\b\b\b\b\b\b\b\b\b\b\b\b\b\b\b\b\b\b\b\b\b\b\b\b\b\b\b\b\b\b\b\b\b\b\b\b\b\b\b\b\b\b\b\b\b\r1/1 [==============================] - 0s 226ms/step - loss: 0.4230 - accuracy: 0.8604\n",
            "Epoch 753/1000\n",
            "1/1 [==============================] - 0s 59ms/step\n",
            "\n",
            "Validation Accuracy: 39.44444444444444 %\n"
          ]
        },
        {
          "output_type": "stream",
          "name": "stderr",
          "text": [
            "WARNING:tensorflow:Can save best model only with val_loss available, skipping.\n"
          ]
        },
        {
          "output_type": "stream",
          "name": "stdout",
          "text": [
            "\b\b\b\b\b\b\b\b\b\b\b\b\b\b\b\b\b\b\b\b\b\b\b\b\b\b\b\b\b\b\b\b\b\b\b\b\b\b\b\b\b\b\b\b\b\b\b\b\b\b\b\b\b\b\b\b\b\b\b\b\b\b\b\b\b\b\b\b\b\b\b\b\b\b\b\b\b\b\b\b\r1/1 [==============================] - 0s 256ms/step - loss: 0.4159 - accuracy: 0.8619\n",
            "Epoch 754/1000\n",
            "1/1 [==============================] - 0s 29ms/step\n",
            "\n",
            "Validation Accuracy: 40.0 %\n"
          ]
        },
        {
          "output_type": "stream",
          "name": "stderr",
          "text": [
            "WARNING:tensorflow:Can save best model only with val_loss available, skipping.\n"
          ]
        },
        {
          "output_type": "stream",
          "name": "stdout",
          "text": [
            "\b\b\b\b\b\b\b\b\b\b\b\b\b\b\b\b\b\b\b\b\b\b\b\b\b\b\b\b\b\b\b\b\b\b\b\b\b\b\b\b\b\b\b\b\b\b\b\b\b\b\b\b\b\b\b\b\b\b\b\b\b\b\b\b\b\b\b\b\b\b\b\b\b\b\b\b\b\b\b\b\r1/1 [==============================] - 0s 178ms/step - loss: 0.4142 - accuracy: 0.8615\n",
            "Epoch 755/1000\n",
            "1/1 [==============================] - 0s 29ms/step\n",
            "\n",
            "Validation Accuracy: 40.0 %\n"
          ]
        },
        {
          "output_type": "stream",
          "name": "stderr",
          "text": [
            "WARNING:tensorflow:Can save best model only with val_loss available, skipping.\n"
          ]
        },
        {
          "output_type": "stream",
          "name": "stdout",
          "text": [
            "\b\b\b\b\b\b\b\b\b\b\b\b\b\b\b\b\b\b\b\b\b\b\b\b\b\b\b\b\b\b\b\b\b\b\b\b\b\b\b\b\b\b\b\b\b\b\b\b\b\b\b\b\b\b\b\b\b\b\b\b\b\b\b\b\b\b\b\b\b\b\b\b\b\b\b\b\b\b\b\b\r1/1 [==============================] - 0s 148ms/step - loss: 0.4171 - accuracy: 0.8622\n",
            "Epoch 756/1000\n",
            "1/1 [==============================] - 0s 32ms/step\n",
            "\n",
            "Validation Accuracy: 39.44444444444444 %\n"
          ]
        },
        {
          "output_type": "stream",
          "name": "stderr",
          "text": [
            "WARNING:tensorflow:Can save best model only with val_loss available, skipping.\n"
          ]
        },
        {
          "output_type": "stream",
          "name": "stdout",
          "text": [
            "\b\b\b\b\b\b\b\b\b\b\b\b\b\b\b\b\b\b\b\b\b\b\b\b\b\b\b\b\b\b\b\b\b\b\b\b\b\b\b\b\b\b\b\b\b\b\b\b\b\b\b\b\b\b\b\b\b\b\b\b\b\b\b\b\b\b\b\b\b\b\b\b\b\b\b\b\b\b\b\b\r1/1 [==============================] - 0s 159ms/step - loss: 0.4116 - accuracy: 0.8637\n",
            "Epoch 757/1000\n",
            "1/1 [==============================] - 0s 28ms/step\n",
            "\n",
            "Validation Accuracy: 39.44444444444444 %\n"
          ]
        },
        {
          "output_type": "stream",
          "name": "stderr",
          "text": [
            "WARNING:tensorflow:Can save best model only with val_loss available, skipping.\n"
          ]
        },
        {
          "output_type": "stream",
          "name": "stdout",
          "text": [
            "\b\b\b\b\b\b\b\b\b\b\b\b\b\b\b\b\b\b\b\b\b\b\b\b\b\b\b\b\b\b\b\b\b\b\b\b\b\b\b\b\b\b\b\b\b\b\b\b\b\b\b\b\b\b\b\b\b\b\b\b\b\b\b\b\b\b\b\b\b\b\b\b\b\b\b\b\b\b\b\b\r1/1 [==============================] - 0s 167ms/step - loss: 0.4115 - accuracy: 0.8634\n",
            "Epoch 758/1000\n",
            "1/1 [==============================] - 0s 29ms/step\n",
            "\n",
            "Validation Accuracy: 40.0 %\n"
          ]
        },
        {
          "output_type": "stream",
          "name": "stderr",
          "text": [
            "WARNING:tensorflow:Can save best model only with val_loss available, skipping.\n"
          ]
        },
        {
          "output_type": "stream",
          "name": "stdout",
          "text": [
            "\b\b\b\b\b\b\b\b\b\b\b\b\b\b\b\b\b\b\b\b\b\b\b\b\b\b\b\b\b\b\b\b\b\b\b\b\b\b\b\b\b\b\b\b\b\b\b\b\b\b\b\b\b\b\b\b\b\b\b\b\b\b\b\b\b\b\b\b\b\b\b\b\b\b\b\b\b\b\b\b\r1/1 [==============================] - 0s 149ms/step - loss: 0.4121 - accuracy: 0.8622\n",
            "Epoch 759/1000\n",
            "1/1 [==============================] - 0s 27ms/step\n",
            "\n",
            "Validation Accuracy: 39.44444444444444 %\n"
          ]
        },
        {
          "output_type": "stream",
          "name": "stderr",
          "text": [
            "WARNING:tensorflow:Can save best model only with val_loss available, skipping.\n"
          ]
        },
        {
          "output_type": "stream",
          "name": "stdout",
          "text": [
            "\b\b\b\b\b\b\b\b\b\b\b\b\b\b\b\b\b\b\b\b\b\b\b\b\b\b\b\b\b\b\b\b\b\b\b\b\b\b\b\b\b\b\b\b\b\b\b\b\b\b\b\b\b\b\b\b\b\b\b\b\b\b\b\b\b\b\b\b\b\b\b\b\b\b\b\b\b\b\b\b\r1/1 [==============================] - 0s 153ms/step - loss: 0.4164 - accuracy: 0.8616\n",
            "Epoch 760/1000\n",
            "1/1 [==============================] - 0s 36ms/step\n",
            "\n",
            "Validation Accuracy: 39.44444444444444 %\n"
          ]
        },
        {
          "output_type": "stream",
          "name": "stderr",
          "text": [
            "WARNING:tensorflow:Can save best model only with val_loss available, skipping.\n"
          ]
        },
        {
          "output_type": "stream",
          "name": "stdout",
          "text": [
            "\b\b\b\b\b\b\b\b\b\b\b\b\b\b\b\b\b\b\b\b\b\b\b\b\b\b\b\b\b\b\b\b\b\b\b\b\b\b\b\b\b\b\b\b\b\b\b\b\b\b\b\b\b\b\b\b\b\b\b\b\b\b\b\b\b\b\b\b\b\b\b\b\b\b\b\b\b\b\b\b\r1/1 [==============================] - 0s 206ms/step - loss: 0.4152 - accuracy: 0.8604\n",
            "Epoch 761/1000\n",
            "1/1 [==============================] - 0s 29ms/step\n",
            "\n",
            "Validation Accuracy: 38.88888888888889 %\n"
          ]
        },
        {
          "output_type": "stream",
          "name": "stderr",
          "text": [
            "WARNING:tensorflow:Can save best model only with val_loss available, skipping.\n"
          ]
        },
        {
          "output_type": "stream",
          "name": "stdout",
          "text": [
            "\b\b\b\b\b\b\b\b\b\b\b\b\b\b\b\b\b\b\b\b\b\b\b\b\b\b\b\b\b\b\b\b\b\b\b\b\b\b\b\b\b\b\b\b\b\b\b\b\b\b\b\b\b\b\b\b\b\b\b\b\b\b\b\b\b\b\b\b\b\b\b\b\b\b\b\b\b\b\b\b\r1/1 [==============================] - 0s 146ms/step - loss: 0.4200 - accuracy: 0.8619\n",
            "Epoch 762/1000\n",
            "1/1 [==============================] - 0s 27ms/step\n",
            "\n",
            "Validation Accuracy: 39.44444444444444 %\n"
          ]
        },
        {
          "output_type": "stream",
          "name": "stderr",
          "text": [
            "WARNING:tensorflow:Can save best model only with val_loss available, skipping.\n"
          ]
        },
        {
          "output_type": "stream",
          "name": "stdout",
          "text": [
            "\b\b\b\b\b\b\b\b\b\b\b\b\b\b\b\b\b\b\b\b\b\b\b\b\b\b\b\b\b\b\b\b\b\b\b\b\b\b\b\b\b\b\b\b\b\b\b\b\b\b\b\b\b\b\b\b\b\b\b\b\b\b\b\b\b\b\b\b\b\b\b\b\b\b\b\b\b\b\b\b\r1/1 [==============================] - 0s 137ms/step - loss: 0.4120 - accuracy: 0.8608\n",
            "Epoch 763/1000\n",
            "1/1 [==============================] - 0s 27ms/step\n",
            "\n",
            "Validation Accuracy: 38.88888888888889 %\n"
          ]
        },
        {
          "output_type": "stream",
          "name": "stderr",
          "text": [
            "WARNING:tensorflow:Can save best model only with val_loss available, skipping.\n"
          ]
        },
        {
          "output_type": "stream",
          "name": "stdout",
          "text": [
            "\b\b\b\b\b\b\b\b\b\b\b\b\b\b\b\b\b\b\b\b\b\b\b\b\b\b\b\b\b\b\b\b\b\b\b\b\b\b\b\b\b\b\b\b\b\b\b\b\b\b\b\b\b\b\b\b\b\b\b\b\b\b\b\b\b\b\b\b\b\b\b\b\b\b\b\b\b\b\b\b\r1/1 [==============================] - 0s 143ms/step - loss: 0.4230 - accuracy: 0.8591\n",
            "Epoch 764/1000\n",
            "1/1 [==============================] - 0s 29ms/step\n",
            "\n",
            "Validation Accuracy: 38.333333333333336 %\n"
          ]
        },
        {
          "output_type": "stream",
          "name": "stderr",
          "text": [
            "WARNING:tensorflow:Can save best model only with val_loss available, skipping.\n"
          ]
        },
        {
          "output_type": "stream",
          "name": "stdout",
          "text": [
            "\b\b\b\b\b\b\b\b\b\b\b\b\b\b\b\b\b\b\b\b\b\b\b\b\b\b\b\b\b\b\b\b\b\b\b\b\b\b\b\b\b\b\b\b\b\b\b\b\b\b\b\b\b\b\b\b\b\b\b\b\b\b\b\b\b\b\b\b\b\b\b\b\b\b\b\b\b\b\b\b\r1/1 [==============================] - 0s 153ms/step - loss: 0.4111 - accuracy: 0.8609\n",
            "Epoch 765/1000\n",
            "1/1 [==============================] - 0s 34ms/step\n",
            "\n",
            "Validation Accuracy: 38.88888888888889 %\n"
          ]
        },
        {
          "output_type": "stream",
          "name": "stderr",
          "text": [
            "WARNING:tensorflow:Can save best model only with val_loss available, skipping.\n"
          ]
        },
        {
          "output_type": "stream",
          "name": "stdout",
          "text": [
            "\b\b\b\b\b\b\b\b\b\b\b\b\b\b\b\b\b\b\b\b\b\b\b\b\b\b\b\b\b\b\b\b\b\b\b\b\b\b\b\b\b\b\b\b\b\b\b\b\b\b\b\b\b\b\b\b\b\b\b\b\b\b\b\b\b\b\b\b\b\b\b\b\b\b\b\b\b\b\b\b\r1/1 [==============================] - 0s 151ms/step - loss: 0.4111 - accuracy: 0.8595\n",
            "Epoch 766/1000\n",
            "1/1 [==============================] - 0s 29ms/step\n",
            "\n",
            "Validation Accuracy: 38.88888888888889 %\n"
          ]
        },
        {
          "output_type": "stream",
          "name": "stderr",
          "text": [
            "WARNING:tensorflow:Can save best model only with val_loss available, skipping.\n"
          ]
        },
        {
          "output_type": "stream",
          "name": "stdout",
          "text": [
            "\b\b\b\b\b\b\b\b\b\b\b\b\b\b\b\b\b\b\b\b\b\b\b\b\b\b\b\b\b\b\b\b\b\b\b\b\b\b\b\b\b\b\b\b\b\b\b\b\b\b\b\b\b\b\b\b\b\b\b\b\b\b\b\b\b\b\b\b\b\b\b\b\b\b\b\b\b\b\b\b\r1/1 [==============================] - 0s 146ms/step - loss: 0.4169 - accuracy: 0.8606\n",
            "Epoch 767/1000\n",
            "1/1 [==============================] - 0s 35ms/step\n",
            "\n",
            "Validation Accuracy: 38.88888888888889 %\n"
          ]
        },
        {
          "output_type": "stream",
          "name": "stderr",
          "text": [
            "WARNING:tensorflow:Can save best model only with val_loss available, skipping.\n"
          ]
        },
        {
          "output_type": "stream",
          "name": "stdout",
          "text": [
            "\b\b\b\b\b\b\b\b\b\b\b\b\b\b\b\b\b\b\b\b\b\b\b\b\b\b\b\b\b\b\b\b\b\b\b\b\b\b\b\b\b\b\b\b\b\b\b\b\b\b\b\b\b\b\b\b\b\b\b\b\b\b\b\b\b\b\b\b\b\b\b\b\b\b\b\b\b\b\b\b\r1/1 [==============================] - 0s 159ms/step - loss: 0.4053 - accuracy: 0.8664\n",
            "Epoch 768/1000\n",
            "1/1 [==============================] - 0s 29ms/step\n",
            "\n",
            "Validation Accuracy: 40.0 %\n"
          ]
        },
        {
          "output_type": "stream",
          "name": "stderr",
          "text": [
            "WARNING:tensorflow:Can save best model only with val_loss available, skipping.\n"
          ]
        },
        {
          "output_type": "stream",
          "name": "stdout",
          "text": [
            "\b\b\b\b\b\b\b\b\b\b\b\b\b\b\b\b\b\b\b\b\b\b\b\b\b\b\b\b\b\b\b\b\b\b\b\b\b\b\b\b\b\b\b\b\b\b\b\b\b\b\b\b\b\b\b\b\b\b\b\b\b\b\b\b\b\b\b\b\b\b\b\b\b\b\b\b\b\b\b\b\r1/1 [==============================] - 0s 145ms/step - loss: 0.4114 - accuracy: 0.8625\n",
            "Epoch 769/1000\n",
            "1/1 [==============================] - 0s 33ms/step\n",
            "\n",
            "Validation Accuracy: 38.333333333333336 %\n"
          ]
        },
        {
          "output_type": "stream",
          "name": "stderr",
          "text": [
            "WARNING:tensorflow:Can save best model only with val_loss available, skipping.\n"
          ]
        },
        {
          "output_type": "stream",
          "name": "stdout",
          "text": [
            "\b\b\b\b\b\b\b\b\b\b\b\b\b\b\b\b\b\b\b\b\b\b\b\b\b\b\b\b\b\b\b\b\b\b\b\b\b\b\b\b\b\b\b\b\b\b\b\b\b\b\b\b\b\b\b\b\b\b\b\b\b\b\b\b\b\b\b\b\b\b\b\b\b\b\b\b\b\b\b\b\r1/1 [==============================] - 0s 168ms/step - loss: 0.4153 - accuracy: 0.8629\n",
            "Epoch 770/1000\n",
            "1/1 [==============================] - 0s 28ms/step\n",
            "\n",
            "Validation Accuracy: 38.333333333333336 %\n"
          ]
        },
        {
          "output_type": "stream",
          "name": "stderr",
          "text": [
            "WARNING:tensorflow:Can save best model only with val_loss available, skipping.\n"
          ]
        },
        {
          "output_type": "stream",
          "name": "stdout",
          "text": [
            "\b\b\b\b\b\b\b\b\b\b\b\b\b\b\b\b\b\b\b\b\b\b\b\b\b\b\b\b\b\b\b\b\b\b\b\b\b\b\b\b\b\b\b\b\b\b\b\b\b\b\b\b\b\b\b\b\b\b\b\b\b\b\b\b\b\b\b\b\b\b\b\b\b\b\b\b\b\b\b\b\r1/1 [==============================] - 0s 143ms/step - loss: 0.4110 - accuracy: 0.8650\n",
            "Epoch 771/1000\n",
            "1/1 [==============================] - 0s 32ms/step\n",
            "\n",
            "Validation Accuracy: 38.333333333333336 %\n"
          ]
        },
        {
          "output_type": "stream",
          "name": "stderr",
          "text": [
            "WARNING:tensorflow:Can save best model only with val_loss available, skipping.\n"
          ]
        },
        {
          "output_type": "stream",
          "name": "stdout",
          "text": [
            "\b\b\b\b\b\b\b\b\b\b\b\b\b\b\b\b\b\b\b\b\b\b\b\b\b\b\b\b\b\b\b\b\b\b\b\b\b\b\b\b\b\b\b\b\b\b\b\b\b\b\b\b\b\b\b\b\b\b\b\b\b\b\b\b\b\b\b\b\b\b\b\b\b\b\b\b\b\b\b\b\r1/1 [==============================] - 0s 152ms/step - loss: 0.4197 - accuracy: 0.8583\n",
            "Epoch 772/1000\n",
            "1/1 [==============================] - 0s 30ms/step\n",
            "\n",
            "Validation Accuracy: 38.333333333333336 %\n"
          ]
        },
        {
          "output_type": "stream",
          "name": "stderr",
          "text": [
            "WARNING:tensorflow:Can save best model only with val_loss available, skipping.\n"
          ]
        },
        {
          "output_type": "stream",
          "name": "stdout",
          "text": [
            "\b\b\b\b\b\b\b\b\b\b\b\b\b\b\b\b\b\b\b\b\b\b\b\b\b\b\b\b\b\b\b\b\b\b\b\b\b\b\b\b\b\b\b\b\b\b\b\b\b\b\b\b\b\b\b\b\b\b\b\b\b\b\b\b\b\b\b\b\b\b\b\b\b\b\b\b\b\b\b\b\r1/1 [==============================] - 0s 163ms/step - loss: 0.4171 - accuracy: 0.8619\n",
            "Epoch 773/1000\n",
            "1/1 [==============================] - 0s 30ms/step\n",
            "\n",
            "Validation Accuracy: 39.44444444444444 %\n"
          ]
        },
        {
          "output_type": "stream",
          "name": "stderr",
          "text": [
            "WARNING:tensorflow:Can save best model only with val_loss available, skipping.\n"
          ]
        },
        {
          "output_type": "stream",
          "name": "stdout",
          "text": [
            "\b\b\b\b\b\b\b\b\b\b\b\b\b\b\b\b\b\b\b\b\b\b\b\b\b\b\b\b\b\b\b\b\b\b\b\b\b\b\b\b\b\b\b\b\b\b\b\b\b\b\b\b\b\b\b\b\b\b\b\b\b\b\b\b\b\b\b\b\b\b\b\b\b\b\b\b\b\b\b\b\r1/1 [==============================] - 0s 148ms/step - loss: 0.4190 - accuracy: 0.8605\n",
            "Epoch 774/1000\n",
            "1/1 [==============================] - 0s 30ms/step\n",
            "\n",
            "Validation Accuracy: 39.44444444444444 %\n"
          ]
        },
        {
          "output_type": "stream",
          "name": "stderr",
          "text": [
            "WARNING:tensorflow:Can save best model only with val_loss available, skipping.\n"
          ]
        },
        {
          "output_type": "stream",
          "name": "stdout",
          "text": [
            "\b\b\b\b\b\b\b\b\b\b\b\b\b\b\b\b\b\b\b\b\b\b\b\b\b\b\b\b\b\b\b\b\b\b\b\b\b\b\b\b\b\b\b\b\b\b\b\b\b\b\b\b\b\b\b\b\b\b\b\b\b\b\b\b\b\b\b\b\b\b\b\b\b\b\b\b\b\b\b\b\r1/1 [==============================] - 0s 161ms/step - loss: 0.4146 - accuracy: 0.8622\n",
            "Epoch 775/1000\n",
            "1/1 [==============================] - 0s 34ms/step\n",
            "\n",
            "Validation Accuracy: 39.44444444444444 %\n"
          ]
        },
        {
          "output_type": "stream",
          "name": "stderr",
          "text": [
            "WARNING:tensorflow:Can save best model only with val_loss available, skipping.\n"
          ]
        },
        {
          "output_type": "stream",
          "name": "stdout",
          "text": [
            "\b\b\b\b\b\b\b\b\b\b\b\b\b\b\b\b\b\b\b\b\b\b\b\b\b\b\b\b\b\b\b\b\b\b\b\b\b\b\b\b\b\b\b\b\b\b\b\b\b\b\b\b\b\b\b\b\b\b\b\b\b\b\b\b\b\b\b\b\b\b\b\b\b\b\b\b\b\b\b\b\r1/1 [==============================] - 0s 166ms/step - loss: 0.4097 - accuracy: 0.8676\n",
            "Epoch 776/1000\n",
            "1/1 [==============================] - 0s 27ms/step\n",
            "\n",
            "Validation Accuracy: 40.0 %\n"
          ]
        },
        {
          "output_type": "stream",
          "name": "stderr",
          "text": [
            "WARNING:tensorflow:Can save best model only with val_loss available, skipping.\n"
          ]
        },
        {
          "output_type": "stream",
          "name": "stdout",
          "text": [
            "\b\b\b\b\b\b\b\b\b\b\b\b\b\b\b\b\b\b\b\b\b\b\b\b\b\b\b\b\b\b\b\b\b\b\b\b\b\b\b\b\b\b\b\b\b\b\b\b\b\b\b\b\b\b\b\b\b\b\b\b\b\b\b\b\b\b\b\b\b\b\b\b\b\b\b\b\b\b\b\b\r1/1 [==============================] - 0s 152ms/step - loss: 0.4181 - accuracy: 0.8613\n",
            "Epoch 777/1000\n",
            "1/1 [==============================] - 0s 37ms/step\n",
            "\n",
            "Validation Accuracy: 39.44444444444444 %\n"
          ]
        },
        {
          "output_type": "stream",
          "name": "stderr",
          "text": [
            "WARNING:tensorflow:Can save best model only with val_loss available, skipping.\n"
          ]
        },
        {
          "output_type": "stream",
          "name": "stdout",
          "text": [
            "\b\b\b\b\b\b\b\b\b\b\b\b\b\b\b\b\b\b\b\b\b\b\b\b\b\b\b\b\b\b\b\b\b\b\b\b\b\b\b\b\b\b\b\b\b\b\b\b\b\b\b\b\b\b\b\b\b\b\b\b\b\b\b\b\b\b\b\b\b\b\b\b\b\b\b\b\b\b\b\b\r1/1 [==============================] - 0s 163ms/step - loss: 0.4092 - accuracy: 0.8615\n",
            "Epoch 778/1000\n",
            "1/1 [==============================] - 0s 28ms/step\n",
            "\n",
            "Validation Accuracy: 39.44444444444444 %\n"
          ]
        },
        {
          "output_type": "stream",
          "name": "stderr",
          "text": [
            "WARNING:tensorflow:Can save best model only with val_loss available, skipping.\n"
          ]
        },
        {
          "output_type": "stream",
          "name": "stdout",
          "text": [
            "\b\b\b\b\b\b\b\b\b\b\b\b\b\b\b\b\b\b\b\b\b\b\b\b\b\b\b\b\b\b\b\b\b\b\b\b\b\b\b\b\b\b\b\b\b\b\b\b\b\b\b\b\b\b\b\b\b\b\b\b\b\b\b\b\b\b\b\b\b\b\b\b\b\b\b\b\b\b\b\b\r1/1 [==============================] - 0s 159ms/step - loss: 0.4187 - accuracy: 0.8590\n",
            "Epoch 779/1000\n",
            "1/1 [==============================] - 0s 29ms/step\n",
            "\n",
            "Validation Accuracy: 40.0 %\n"
          ]
        },
        {
          "output_type": "stream",
          "name": "stderr",
          "text": [
            "WARNING:tensorflow:Can save best model only with val_loss available, skipping.\n"
          ]
        },
        {
          "output_type": "stream",
          "name": "stdout",
          "text": [
            "\b\b\b\b\b\b\b\b\b\b\b\b\b\b\b\b\b\b\b\b\b\b\b\b\b\b\b\b\b\b\b\b\b\b\b\b\b\b\b\b\b\b\b\b\b\b\b\b\b\b\b\b\b\b\b\b\b\b\b\b\b\b\b\b\b\b\b\b\b\b\b\b\b\b\b\b\b\b\b\b\r1/1 [==============================] - 0s 143ms/step - loss: 0.4120 - accuracy: 0.8644\n",
            "Epoch 780/1000\n",
            "1/1 [==============================] - 0s 30ms/step\n",
            "\n",
            "Validation Accuracy: 40.55555555555556 %\n"
          ]
        },
        {
          "output_type": "stream",
          "name": "stderr",
          "text": [
            "WARNING:tensorflow:Can save best model only with val_loss available, skipping.\n"
          ]
        },
        {
          "output_type": "stream",
          "name": "stdout",
          "text": [
            "\b\b\b\b\b\b\b\b\b\b\b\b\b\b\b\b\b\b\b\b\b\b\b\b\b\b\b\b\b\b\b\b\b\b\b\b\b\b\b\b\b\b\b\b\b\b\b\b\b\b\b\b\b\b\b\b\b\b\b\b\b\b\b\b\b\b\b\b\b\b\b\b\b\b\b\b\b\b\b\b\r1/1 [==============================] - 0s 148ms/step - loss: 0.4142 - accuracy: 0.8629\n",
            "Epoch 781/1000\n",
            "1/1 [==============================] - 0s 29ms/step\n",
            "\n",
            "Validation Accuracy: 41.11111111111111 %\n"
          ]
        },
        {
          "output_type": "stream",
          "name": "stderr",
          "text": [
            "WARNING:tensorflow:Can save best model only with val_loss available, skipping.\n"
          ]
        },
        {
          "output_type": "stream",
          "name": "stdout",
          "text": [
            "\b\b\b\b\b\b\b\b\b\b\b\b\b\b\b\b\b\b\b\b\b\b\b\b\b\b\b\b\b\b\b\b\b\b\b\b\b\b\b\b\b\b\b\b\b\b\b\b\b\b\b\b\b\b\b\b\b\b\b\b\b\b\b\b\b\b\b\b\b\b\b\b\b\b\b\b\b\b\b\b\r1/1 [==============================] - 0s 149ms/step - loss: 0.4070 - accuracy: 0.8627\n",
            "Epoch 782/1000\n",
            "1/1 [==============================] - 0s 26ms/step\n",
            "\n",
            "Validation Accuracy: 40.55555555555556 %\n"
          ]
        },
        {
          "output_type": "stream",
          "name": "stderr",
          "text": [
            "WARNING:tensorflow:Can save best model only with val_loss available, skipping.\n"
          ]
        },
        {
          "output_type": "stream",
          "name": "stdout",
          "text": [
            "\b\b\b\b\b\b\b\b\b\b\b\b\b\b\b\b\b\b\b\b\b\b\b\b\b\b\b\b\b\b\b\b\b\b\b\b\b\b\b\b\b\b\b\b\b\b\b\b\b\b\b\b\b\b\b\b\b\b\b\b\b\b\b\b\b\b\b\b\b\b\b\b\b\b\b\b\b\b\b\b\r1/1 [==============================] - 0s 147ms/step - loss: 0.4128 - accuracy: 0.8632\n",
            "Epoch 783/1000\n",
            "1/1 [==============================] - 0s 35ms/step\n",
            "\n",
            "Validation Accuracy: 40.0 %\n"
          ]
        },
        {
          "output_type": "stream",
          "name": "stderr",
          "text": [
            "WARNING:tensorflow:Can save best model only with val_loss available, skipping.\n"
          ]
        },
        {
          "output_type": "stream",
          "name": "stdout",
          "text": [
            "\b\b\b\b\b\b\b\b\b\b\b\b\b\b\b\b\b\b\b\b\b\b\b\b\b\b\b\b\b\b\b\b\b\b\b\b\b\b\b\b\b\b\b\b\b\b\b\b\b\b\b\b\b\b\b\b\b\b\b\b\b\b\b\b\b\b\b\b\b\b\b\b\b\b\b\b\b\b\b\b\r1/1 [==============================] - 0s 159ms/step - loss: 0.4125 - accuracy: 0.8619\n",
            "Epoch 784/1000\n",
            "1/1 [==============================] - 0s 29ms/step\n",
            "\n",
            "Validation Accuracy: 40.0 %\n"
          ]
        },
        {
          "output_type": "stream",
          "name": "stderr",
          "text": [
            "WARNING:tensorflow:Can save best model only with val_loss available, skipping.\n"
          ]
        },
        {
          "output_type": "stream",
          "name": "stdout",
          "text": [
            "\b\b\b\b\b\b\b\b\b\b\b\b\b\b\b\b\b\b\b\b\b\b\b\b\b\b\b\b\b\b\b\b\b\b\b\b\b\b\b\b\b\b\b\b\b\b\b\b\b\b\b\b\b\b\b\b\b\b\b\b\b\b\b\b\b\b\b\b\b\b\b\b\b\b\b\b\b\b\b\b\r1/1 [==============================] - 0s 146ms/step - loss: 0.4098 - accuracy: 0.8612\n",
            "Epoch 785/1000\n",
            "1/1 [==============================] - 0s 36ms/step\n",
            "\n",
            "Validation Accuracy: 39.44444444444444 %\n"
          ]
        },
        {
          "output_type": "stream",
          "name": "stderr",
          "text": [
            "WARNING:tensorflow:Can save best model only with val_loss available, skipping.\n"
          ]
        },
        {
          "output_type": "stream",
          "name": "stdout",
          "text": [
            "\b\b\b\b\b\b\b\b\b\b\b\b\b\b\b\b\b\b\b\b\b\b\b\b\b\b\b\b\b\b\b\b\b\b\b\b\b\b\b\b\b\b\b\b\b\b\b\b\b\b\b\b\b\b\b\b\b\b\b\b\b\b\b\b\b\b\b\b\b\b\b\b\b\b\b\b\b\b\b\b\r1/1 [==============================] - 0s 156ms/step - loss: 0.4063 - accuracy: 0.8662\n",
            "Epoch 786/1000\n",
            "1/1 [==============================] - 0s 37ms/step\n",
            "\n",
            "Validation Accuracy: 39.44444444444444 %\n"
          ]
        },
        {
          "output_type": "stream",
          "name": "stderr",
          "text": [
            "WARNING:tensorflow:Can save best model only with val_loss available, skipping.\n"
          ]
        },
        {
          "output_type": "stream",
          "name": "stdout",
          "text": [
            "\b\b\b\b\b\b\b\b\b\b\b\b\b\b\b\b\b\b\b\b\b\b\b\b\b\b\b\b\b\b\b\b\b\b\b\b\b\b\b\b\b\b\b\b\b\b\b\b\b\b\b\b\b\b\b\b\b\b\b\b\b\b\b\b\b\b\b\b\b\b\b\b\b\b\b\b\b\b\b\b\r1/1 [==============================] - 0s 173ms/step - loss: 0.4102 - accuracy: 0.8623\n",
            "Epoch 787/1000\n",
            "1/1 [==============================] - 0s 30ms/step\n",
            "\n",
            "Validation Accuracy: 40.0 %\n"
          ]
        },
        {
          "output_type": "stream",
          "name": "stderr",
          "text": [
            "WARNING:tensorflow:Can save best model only with val_loss available, skipping.\n"
          ]
        },
        {
          "output_type": "stream",
          "name": "stdout",
          "text": [
            "\b\b\b\b\b\b\b\b\b\b\b\b\b\b\b\b\b\b\b\b\b\b\b\b\b\b\b\b\b\b\b\b\b\b\b\b\b\b\b\b\b\b\b\b\b\b\b\b\b\b\b\b\b\b\b\b\b\b\b\b\b\b\b\b\b\b\b\b\b\b\b\b\b\b\b\b\b\b\b\b\r1/1 [==============================] - 0s 170ms/step - loss: 0.4160 - accuracy: 0.8594\n",
            "Epoch 788/1000\n",
            "1/1 [==============================] - 0s 40ms/step\n",
            "\n",
            "Validation Accuracy: 40.0 %\n"
          ]
        },
        {
          "output_type": "stream",
          "name": "stderr",
          "text": [
            "WARNING:tensorflow:Can save best model only with val_loss available, skipping.\n"
          ]
        },
        {
          "output_type": "stream",
          "name": "stdout",
          "text": [
            "\b\b\b\b\b\b\b\b\b\b\b\b\b\b\b\b\b\b\b\b\b\b\b\b\b\b\b\b\b\b\b\b\b\b\b\b\b\b\b\b\b\b\b\b\b\b\b\b\b\b\b\b\b\b\b\b\b\b\b\b\b\b\b\b\b\b\b\b\b\b\b\b\b\b\b\b\b\b\b\b\r1/1 [==============================] - 0s 159ms/step - loss: 0.4177 - accuracy: 0.8613\n",
            "Epoch 789/1000\n",
            "1/1 [==============================] - 0s 37ms/step\n",
            "\n",
            "Validation Accuracy: 39.44444444444444 %\n"
          ]
        },
        {
          "output_type": "stream",
          "name": "stderr",
          "text": [
            "WARNING:tensorflow:Can save best model only with val_loss available, skipping.\n"
          ]
        },
        {
          "output_type": "stream",
          "name": "stdout",
          "text": [
            "\b\b\b\b\b\b\b\b\b\b\b\b\b\b\b\b\b\b\b\b\b\b\b\b\b\b\b\b\b\b\b\b\b\b\b\b\b\b\b\b\b\b\b\b\b\b\b\b\b\b\b\b\b\b\b\b\b\b\b\b\b\b\b\b\b\b\b\b\b\b\b\b\b\b\b\b\b\b\b\b\r1/1 [==============================] - 0s 180ms/step - loss: 0.4097 - accuracy: 0.8632\n",
            "Epoch 790/1000\n",
            "1/1 [==============================] - 0s 29ms/step\n",
            "\n",
            "Validation Accuracy: 39.44444444444444 %\n"
          ]
        },
        {
          "output_type": "stream",
          "name": "stderr",
          "text": [
            "WARNING:tensorflow:Can save best model only with val_loss available, skipping.\n"
          ]
        },
        {
          "output_type": "stream",
          "name": "stdout",
          "text": [
            "\b\b\b\b\b\b\b\b\b\b\b\b\b\b\b\b\b\b\b\b\b\b\b\b\b\b\b\b\b\b\b\b\b\b\b\b\b\b\b\b\b\b\b\b\b\b\b\b\b\b\b\b\b\b\b\b\b\b\b\b\b\b\b\b\b\b\b\b\b\b\b\b\b\b\b\b\b\b\b\b\r1/1 [==============================] - 0s 154ms/step - loss: 0.4127 - accuracy: 0.8608\n",
            "Epoch 791/1000\n",
            "1/1 [==============================] - 0s 28ms/step\n",
            "\n",
            "Validation Accuracy: 39.44444444444444 %\n"
          ]
        },
        {
          "output_type": "stream",
          "name": "stderr",
          "text": [
            "WARNING:tensorflow:Can save best model only with val_loss available, skipping.\n"
          ]
        },
        {
          "output_type": "stream",
          "name": "stdout",
          "text": [
            "\b\b\b\b\b\b\b\b\b\b\b\b\b\b\b\b\b\b\b\b\b\b\b\b\b\b\b\b\b\b\b\b\b\b\b\b\b\b\b\b\b\b\b\b\b\b\b\b\b\b\b\b\b\b\b\b\b\b\b\b\b\b\b\b\b\b\b\b\b\b\b\b\b\b\b\b\b\b\b\b\r1/1 [==============================] - 0s 148ms/step - loss: 0.4078 - accuracy: 0.8619\n",
            "Epoch 792/1000\n",
            "1/1 [==============================] - 0s 31ms/step\n",
            "\n",
            "Validation Accuracy: 39.44444444444444 %\n"
          ]
        },
        {
          "output_type": "stream",
          "name": "stderr",
          "text": [
            "WARNING:tensorflow:Can save best model only with val_loss available, skipping.\n"
          ]
        },
        {
          "output_type": "stream",
          "name": "stdout",
          "text": [
            "\b\b\b\b\b\b\b\b\b\b\b\b\b\b\b\b\b\b\b\b\b\b\b\b\b\b\b\b\b\b\b\b\b\b\b\b\b\b\b\b\b\b\b\b\b\b\b\b\b\b\b\b\b\b\b\b\b\b\b\b\b\b\b\b\b\b\b\b\b\b\b\b\b\b\b\b\b\b\b\b\r1/1 [==============================] - 0s 161ms/step - loss: 0.4108 - accuracy: 0.8623\n",
            "Epoch 793/1000\n",
            "1/1 [==============================] - 0s 27ms/step\n",
            "\n",
            "Validation Accuracy: 39.44444444444444 %\n"
          ]
        },
        {
          "output_type": "stream",
          "name": "stderr",
          "text": [
            "WARNING:tensorflow:Can save best model only with val_loss available, skipping.\n"
          ]
        },
        {
          "output_type": "stream",
          "name": "stdout",
          "text": [
            "\b\b\b\b\b\b\b\b\b\b\b\b\b\b\b\b\b\b\b\b\b\b\b\b\b\b\b\b\b\b\b\b\b\b\b\b\b\b\b\b\b\b\b\b\b\b\b\b\b\b\b\b\b\b\b\b\b\b\b\b\b\b\b\b\b\b\b\b\b\b\b\b\b\b\b\b\b\b\b\b\r1/1 [==============================] - 0s 143ms/step - loss: 0.4072 - accuracy: 0.8681\n",
            "Epoch 794/1000\n",
            "1/1 [==============================] - 0s 28ms/step\n",
            "\n",
            "Validation Accuracy: 39.44444444444444 %\n"
          ]
        },
        {
          "output_type": "stream",
          "name": "stderr",
          "text": [
            "WARNING:tensorflow:Can save best model only with val_loss available, skipping.\n"
          ]
        },
        {
          "output_type": "stream",
          "name": "stdout",
          "text": [
            "\b\b\b\b\b\b\b\b\b\b\b\b\b\b\b\b\b\b\b\b\b\b\b\b\b\b\b\b\b\b\b\b\b\b\b\b\b\b\b\b\b\b\b\b\b\b\b\b\b\b\b\b\b\b\b\b\b\b\b\b\b\b\b\b\b\b\b\b\b\b\b\b\b\b\b\b\b\b\b\b\r1/1 [==============================] - 0s 141ms/step - loss: 0.4099 - accuracy: 0.8653\n",
            "Epoch 795/1000\n",
            "1/1 [==============================] - 0s 29ms/step\n",
            "\n",
            "Validation Accuracy: 38.88888888888889 %\n"
          ]
        },
        {
          "output_type": "stream",
          "name": "stderr",
          "text": [
            "WARNING:tensorflow:Can save best model only with val_loss available, skipping.\n"
          ]
        },
        {
          "output_type": "stream",
          "name": "stdout",
          "text": [
            "\b\b\b\b\b\b\b\b\b\b\b\b\b\b\b\b\b\b\b\b\b\b\b\b\b\b\b\b\b\b\b\b\b\b\b\b\b\b\b\b\b\b\b\b\b\b\b\b\b\b\b\b\b\b\b\b\b\b\b\b\b\b\b\b\b\b\b\b\b\b\b\b\b\b\b\b\b\b\b\b\r1/1 [==============================] - 0s 144ms/step - loss: 0.4087 - accuracy: 0.8640\n",
            "Epoch 796/1000\n",
            "1/1 [==============================] - 0s 32ms/step\n",
            "\n",
            "Validation Accuracy: 38.88888888888889 %\n"
          ]
        },
        {
          "output_type": "stream",
          "name": "stderr",
          "text": [
            "WARNING:tensorflow:Can save best model only with val_loss available, skipping.\n"
          ]
        },
        {
          "output_type": "stream",
          "name": "stdout",
          "text": [
            "\b\b\b\b\b\b\b\b\b\b\b\b\b\b\b\b\b\b\b\b\b\b\b\b\b\b\b\b\b\b\b\b\b\b\b\b\b\b\b\b\b\b\b\b\b\b\b\b\b\b\b\b\b\b\b\b\b\b\b\b\b\b\b\b\b\b\b\b\b\b\b\b\b\b\b\b\b\b\b\b\r1/1 [==============================] - 0s 165ms/step - loss: 0.4021 - accuracy: 0.8653\n",
            "Epoch 797/1000\n",
            "1/1 [==============================] - 0s 33ms/step\n",
            "\n",
            "Validation Accuracy: 38.88888888888889 %\n"
          ]
        },
        {
          "output_type": "stream",
          "name": "stderr",
          "text": [
            "WARNING:tensorflow:Can save best model only with val_loss available, skipping.\n"
          ]
        },
        {
          "output_type": "stream",
          "name": "stdout",
          "text": [
            "\b\b\b\b\b\b\b\b\b\b\b\b\b\b\b\b\b\b\b\b\b\b\b\b\b\b\b\b\b\b\b\b\b\b\b\b\b\b\b\b\b\b\b\b\b\b\b\b\b\b\b\b\b\b\b\b\b\b\b\b\b\b\b\b\b\b\b\b\b\b\b\b\b\b\b\b\b\b\b\b\r1/1 [==============================] - 0s 154ms/step - loss: 0.3956 - accuracy: 0.8690\n",
            "Epoch 798/1000\n",
            "1/1 [==============================] - 0s 30ms/step\n",
            "\n",
            "Validation Accuracy: 38.333333333333336 %\n"
          ]
        },
        {
          "output_type": "stream",
          "name": "stderr",
          "text": [
            "WARNING:tensorflow:Can save best model only with val_loss available, skipping.\n"
          ]
        },
        {
          "output_type": "stream",
          "name": "stdout",
          "text": [
            "\b\b\b\b\b\b\b\b\b\b\b\b\b\b\b\b\b\b\b\b\b\b\b\b\b\b\b\b\b\b\b\b\b\b\b\b\b\b\b\b\b\b\b\b\b\b\b\b\b\b\b\b\b\b\b\b\b\b\b\b\b\b\b\b\b\b\b\b\b\b\b\b\b\b\b\b\b\b\b\b\r1/1 [==============================] - 0s 152ms/step - loss: 0.4082 - accuracy: 0.8609\n",
            "Epoch 799/1000\n",
            "1/1 [==============================] - 0s 28ms/step\n",
            "\n",
            "Validation Accuracy: 38.88888888888889 %\n"
          ]
        },
        {
          "output_type": "stream",
          "name": "stderr",
          "text": [
            "WARNING:tensorflow:Can save best model only with val_loss available, skipping.\n"
          ]
        },
        {
          "output_type": "stream",
          "name": "stdout",
          "text": [
            "\b\b\b\b\b\b\b\b\b\b\b\b\b\b\b\b\b\b\b\b\b\b\b\b\b\b\b\b\b\b\b\b\b\b\b\b\b\b\b\b\b\b\b\b\b\b\b\b\b\b\b\b\b\b\b\b\b\b\b\b\b\b\b\b\b\b\b\b\b\b\b\b\b\b\b\b\b\b\b\b\r1/1 [==============================] - 0s 151ms/step - loss: 0.4072 - accuracy: 0.8667\n",
            "Epoch 800/1000\n",
            "1/1 [==============================] - 0s 35ms/step\n",
            "\n",
            "Validation Accuracy: 38.88888888888889 %\n"
          ]
        },
        {
          "output_type": "stream",
          "name": "stderr",
          "text": [
            "WARNING:tensorflow:Can save best model only with val_loss available, skipping.\n"
          ]
        },
        {
          "output_type": "stream",
          "name": "stdout",
          "text": [
            "\b\b\b\b\b\b\b\b\b\b\b\b\b\b\b\b\b\b\b\b\b\b\b\b\b\b\b\b\b\b\b\b\b\b\b\b\b\b\b\b\b\b\b\b\b\b\b\b\b\b\b\b\b\b\b\b\b\b\b\b\b\b\b\b\b\b\b\b\b\b\b\b\b\b\b\b\b\b\b\b\r1/1 [==============================] - 0s 160ms/step - loss: 0.4043 - accuracy: 0.8646\n",
            "Epoch 801/1000\n",
            "1/1 [==============================] - 0s 29ms/step\n",
            "\n",
            "Validation Accuracy: 39.44444444444444 %\n"
          ]
        },
        {
          "output_type": "stream",
          "name": "stderr",
          "text": [
            "WARNING:tensorflow:Can save best model only with val_loss available, skipping.\n"
          ]
        },
        {
          "output_type": "stream",
          "name": "stdout",
          "text": [
            "\b\b\b\b\b\b\b\b\b\b\b\b\b\b\b\b\b\b\b\b\b\b\b\b\b\b\b\b\b\b\b\b\b\b\b\b\b\b\b\b\b\b\b\b\b\b\b\b\b\b\b\b\b\b\b\b\b\b\b\b\b\b\b\b\b\b\b\b\b\b\b\b\b\b\b\b\b\b\b\b\r1/1 [==============================] - 0s 147ms/step - loss: 0.4084 - accuracy: 0.8627\n",
            "Epoch 802/1000\n",
            "1/1 [==============================] - 0s 34ms/step\n",
            "\n",
            "Validation Accuracy: 40.0 %\n"
          ]
        },
        {
          "output_type": "stream",
          "name": "stderr",
          "text": [
            "WARNING:tensorflow:Can save best model only with val_loss available, skipping.\n"
          ]
        },
        {
          "output_type": "stream",
          "name": "stdout",
          "text": [
            "\b\b\b\b\b\b\b\b\b\b\b\b\b\b\b\b\b\b\b\b\b\b\b\b\b\b\b\b\b\b\b\b\b\b\b\b\b\b\b\b\b\b\b\b\b\b\b\b\b\b\b\b\b\b\b\b\b\b\b\b\b\b\b\b\b\b\b\b\b\b\b\b\b\b\b\b\b\b\b\b\r1/1 [==============================] - 0s 158ms/step - loss: 0.4040 - accuracy: 0.8653\n",
            "Epoch 803/1000\n",
            "1/1 [==============================] - 0s 27ms/step\n",
            "\n",
            "Validation Accuracy: 39.44444444444444 %\n"
          ]
        },
        {
          "output_type": "stream",
          "name": "stderr",
          "text": [
            "WARNING:tensorflow:Can save best model only with val_loss available, skipping.\n"
          ]
        },
        {
          "output_type": "stream",
          "name": "stdout",
          "text": [
            "\b\b\b\b\b\b\b\b\b\b\b\b\b\b\b\b\b\b\b\b\b\b\b\b\b\b\b\b\b\b\b\b\b\b\b\b\b\b\b\b\b\b\b\b\b\b\b\b\b\b\b\b\b\b\b\b\b\b\b\b\b\b\b\b\b\b\b\b\b\b\b\b\b\b\b\b\b\b\b\b\r1/1 [==============================] - 0s 172ms/step - loss: 0.4111 - accuracy: 0.8613\n",
            "Epoch 804/1000\n",
            "1/1 [==============================] - 0s 29ms/step\n",
            "\n",
            "Validation Accuracy: 39.44444444444444 %\n"
          ]
        },
        {
          "output_type": "stream",
          "name": "stderr",
          "text": [
            "WARNING:tensorflow:Can save best model only with val_loss available, skipping.\n"
          ]
        },
        {
          "output_type": "stream",
          "name": "stdout",
          "text": [
            "\b\b\b\b\b\b\b\b\b\b\b\b\b\b\b\b\b\b\b\b\b\b\b\b\b\b\b\b\b\b\b\b\b\b\b\b\b\b\b\b\b\b\b\b\b\b\b\b\b\b\b\b\b\b\b\b\b\b\b\b\b\b\b\b\b\b\b\b\b\b\b\b\b\b\b\b\b\b\b\b\r1/1 [==============================] - 0s 160ms/step - loss: 0.4021 - accuracy: 0.8660\n",
            "Epoch 805/1000\n",
            "1/1 [==============================] - 0s 31ms/step\n",
            "\n",
            "Validation Accuracy: 39.44444444444444 %\n"
          ]
        },
        {
          "output_type": "stream",
          "name": "stderr",
          "text": [
            "WARNING:tensorflow:Can save best model only with val_loss available, skipping.\n"
          ]
        },
        {
          "output_type": "stream",
          "name": "stdout",
          "text": [
            "\b\b\b\b\b\b\b\b\b\b\b\b\b\b\b\b\b\b\b\b\b\b\b\b\b\b\b\b\b\b\b\b\b\b\b\b\b\b\b\b\b\b\b\b\b\b\b\b\b\b\b\b\b\b\b\b\b\b\b\b\b\b\b\b\b\b\b\b\b\b\b\b\b\b\b\b\b\b\b\b\r1/1 [==============================] - 0s 176ms/step - loss: 0.3973 - accuracy: 0.8658\n",
            "Epoch 806/1000\n",
            "1/1 [==============================] - 0s 32ms/step\n",
            "\n",
            "Validation Accuracy: 39.44444444444444 %\n"
          ]
        },
        {
          "output_type": "stream",
          "name": "stderr",
          "text": [
            "WARNING:tensorflow:Can save best model only with val_loss available, skipping.\n"
          ]
        },
        {
          "output_type": "stream",
          "name": "stdout",
          "text": [
            "\b\b\b\b\b\b\b\b\b\b\b\b\b\b\b\b\b\b\b\b\b\b\b\b\b\b\b\b\b\b\b\b\b\b\b\b\b\b\b\b\b\b\b\b\b\b\b\b\b\b\b\b\b\b\b\b\b\b\b\b\b\b\b\b\b\b\b\b\b\b\b\b\b\b\b\b\b\b\b\b\r1/1 [==============================] - 0s 184ms/step - loss: 0.3957 - accuracy: 0.8667\n",
            "Epoch 807/1000\n",
            "1/1 [==============================] - 0s 30ms/step\n",
            "\n",
            "Validation Accuracy: 38.88888888888889 %\n"
          ]
        },
        {
          "output_type": "stream",
          "name": "stderr",
          "text": [
            "WARNING:tensorflow:Can save best model only with val_loss available, skipping.\n"
          ]
        },
        {
          "output_type": "stream",
          "name": "stdout",
          "text": [
            "\b\b\b\b\b\b\b\b\b\b\b\b\b\b\b\b\b\b\b\b\b\b\b\b\b\b\b\b\b\b\b\b\b\b\b\b\b\b\b\b\b\b\b\b\b\b\b\b\b\b\b\b\b\b\b\b\b\b\b\b\b\b\b\b\b\b\b\b\b\b\b\b\b\b\b\b\b\b\b\b\r1/1 [==============================] - 0s 158ms/step - loss: 0.4054 - accuracy: 0.8629\n",
            "Epoch 808/1000\n",
            "1/1 [==============================] - 0s 29ms/step\n",
            "\n",
            "Validation Accuracy: 38.88888888888889 %\n"
          ]
        },
        {
          "output_type": "stream",
          "name": "stderr",
          "text": [
            "WARNING:tensorflow:Can save best model only with val_loss available, skipping.\n"
          ]
        },
        {
          "output_type": "stream",
          "name": "stdout",
          "text": [
            "\b\b\b\b\b\b\b\b\b\b\b\b\b\b\b\b\b\b\b\b\b\b\b\b\b\b\b\b\b\b\b\b\b\b\b\b\b\b\b\b\b\b\b\b\b\b\b\b\b\b\b\b\b\b\b\b\b\b\b\b\b\b\b\b\b\b\b\b\b\b\b\b\b\b\b\b\b\b\b\b\r1/1 [==============================] - 0s 154ms/step - loss: 0.3958 - accuracy: 0.8676\n",
            "Epoch 809/1000\n",
            "1/1 [==============================] - 0s 34ms/step\n",
            "\n",
            "Validation Accuracy: 39.44444444444444 %\n"
          ]
        },
        {
          "output_type": "stream",
          "name": "stderr",
          "text": [
            "WARNING:tensorflow:Can save best model only with val_loss available, skipping.\n"
          ]
        },
        {
          "output_type": "stream",
          "name": "stdout",
          "text": [
            "\b\b\b\b\b\b\b\b\b\b\b\b\b\b\b\b\b\b\b\b\b\b\b\b\b\b\b\b\b\b\b\b\b\b\b\b\b\b\b\b\b\b\b\b\b\b\b\b\b\b\b\b\b\b\b\b\b\b\b\b\b\b\b\b\b\b\b\b\b\b\b\b\b\b\b\b\b\b\b\b\r1/1 [==============================] - 0s 161ms/step - loss: 0.4067 - accuracy: 0.8619\n",
            "Epoch 810/1000\n",
            "1/1 [==============================] - 0s 30ms/step\n",
            "\n",
            "Validation Accuracy: 39.44444444444444 %\n"
          ]
        },
        {
          "output_type": "stream",
          "name": "stderr",
          "text": [
            "WARNING:tensorflow:Can save best model only with val_loss available, skipping.\n"
          ]
        },
        {
          "output_type": "stream",
          "name": "stdout",
          "text": [
            "\b\b\b\b\b\b\b\b\b\b\b\b\b\b\b\b\b\b\b\b\b\b\b\b\b\b\b\b\b\b\b\b\b\b\b\b\b\b\b\b\b\b\b\b\b\b\b\b\b\b\b\b\b\b\b\b\b\b\b\b\b\b\b\b\b\b\b\b\b\b\b\b\b\b\b\b\b\b\b\b\r1/1 [==============================] - 0s 152ms/step - loss: 0.3951 - accuracy: 0.8653\n",
            "Epoch 811/1000\n",
            "1/1 [==============================] - 0s 29ms/step\n",
            "\n",
            "Validation Accuracy: 39.44444444444444 %\n"
          ]
        },
        {
          "output_type": "stream",
          "name": "stderr",
          "text": [
            "WARNING:tensorflow:Can save best model only with val_loss available, skipping.\n"
          ]
        },
        {
          "output_type": "stream",
          "name": "stdout",
          "text": [
            "\b\b\b\b\b\b\b\b\b\b\b\b\b\b\b\b\b\b\b\b\b\b\b\b\b\b\b\b\b\b\b\b\b\b\b\b\b\b\b\b\b\b\b\b\b\b\b\b\b\b\b\b\b\b\b\b\b\b\b\b\b\b\b\b\b\b\b\b\b\b\b\b\b\b\b\b\b\b\b\b\r1/1 [==============================] - 0s 157ms/step - loss: 0.4060 - accuracy: 0.8661\n",
            "Epoch 812/1000\n",
            "1/1 [==============================] - 0s 41ms/step\n",
            "\n",
            "Validation Accuracy: 39.44444444444444 %\n"
          ]
        },
        {
          "output_type": "stream",
          "name": "stderr",
          "text": [
            "WARNING:tensorflow:Can save best model only with val_loss available, skipping.\n"
          ]
        },
        {
          "output_type": "stream",
          "name": "stdout",
          "text": [
            "\b\b\b\b\b\b\b\b\b\b\b\b\b\b\b\b\b\b\b\b\b\b\b\b\b\b\b\b\b\b\b\b\b\b\b\b\b\b\b\b\b\b\b\b\b\b\b\b\b\b\b\b\b\b\b\b\b\b\b\b\b\b\b\b\b\b\b\b\b\b\b\b\b\b\b\b\b\b\b\b\r1/1 [==============================] - 0s 187ms/step - loss: 0.4046 - accuracy: 0.8611\n",
            "Epoch 813/1000\n",
            "1/1 [==============================] - 0s 41ms/step\n",
            "\n",
            "Validation Accuracy: 39.44444444444444 %\n"
          ]
        },
        {
          "output_type": "stream",
          "name": "stderr",
          "text": [
            "WARNING:tensorflow:Can save best model only with val_loss available, skipping.\n"
          ]
        },
        {
          "output_type": "stream",
          "name": "stdout",
          "text": [
            "\b\b\b\b\b\b\b\b\b\b\b\b\b\b\b\b\b\b\b\b\b\b\b\b\b\b\b\b\b\b\b\b\b\b\b\b\b\b\b\b\b\b\b\b\b\b\b\b\b\b\b\b\b\b\b\b\b\b\b\b\b\b\b\b\b\b\b\b\b\b\b\b\b\b\b\b\b\b\b\b\r1/1 [==============================] - 0s 174ms/step - loss: 0.3992 - accuracy: 0.8634\n",
            "Epoch 814/1000\n",
            "1/1 [==============================] - 0s 30ms/step\n",
            "\n",
            "Validation Accuracy: 39.44444444444444 %\n"
          ]
        },
        {
          "output_type": "stream",
          "name": "stderr",
          "text": [
            "WARNING:tensorflow:Can save best model only with val_loss available, skipping.\n"
          ]
        },
        {
          "output_type": "stream",
          "name": "stdout",
          "text": [
            "\b\b\b\b\b\b\b\b\b\b\b\b\b\b\b\b\b\b\b\b\b\b\b\b\b\b\b\b\b\b\b\b\b\b\b\b\b\b\b\b\b\b\b\b\b\b\b\b\b\b\b\b\b\b\b\b\b\b\b\b\b\b\b\b\b\b\b\b\b\b\b\b\b\b\b\b\b\b\b\b\r1/1 [==============================] - 0s 179ms/step - loss: 0.3976 - accuracy: 0.8664\n",
            "Epoch 815/1000\n",
            "1/1 [==============================] - 0s 29ms/step\n",
            "\n",
            "Validation Accuracy: 40.0 %\n"
          ]
        },
        {
          "output_type": "stream",
          "name": "stderr",
          "text": [
            "WARNING:tensorflow:Can save best model only with val_loss available, skipping.\n"
          ]
        },
        {
          "output_type": "stream",
          "name": "stdout",
          "text": [
            "\b\b\b\b\b\b\b\b\b\b\b\b\b\b\b\b\b\b\b\b\b\b\b\b\b\b\b\b\b\b\b\b\b\b\b\b\b\b\b\b\b\b\b\b\b\b\b\b\b\b\b\b\b\b\b\b\b\b\b\b\b\b\b\b\b\b\b\b\b\b\b\b\b\b\b\b\b\b\b\b\r1/1 [==============================] - 0s 157ms/step - loss: 0.4070 - accuracy: 0.8629\n",
            "Epoch 816/1000\n",
            "1/1 [==============================] - 0s 35ms/step\n",
            "\n",
            "Validation Accuracy: 39.44444444444444 %\n"
          ]
        },
        {
          "output_type": "stream",
          "name": "stderr",
          "text": [
            "WARNING:tensorflow:Can save best model only with val_loss available, skipping.\n"
          ]
        },
        {
          "output_type": "stream",
          "name": "stdout",
          "text": [
            "\b\b\b\b\b\b\b\b\b\b\b\b\b\b\b\b\b\b\b\b\b\b\b\b\b\b\b\b\b\b\b\b\b\b\b\b\b\b\b\b\b\b\b\b\b\b\b\b\b\b\b\b\b\b\b\b\b\b\b\b\b\b\b\b\b\b\b\b\b\b\b\b\b\b\b\b\b\b\b\b\r1/1 [==============================] - 0s 179ms/step - loss: 0.4016 - accuracy: 0.8669\n",
            "Epoch 817/1000\n",
            "1/1 [==============================] - 0s 32ms/step\n",
            "\n",
            "Validation Accuracy: 39.44444444444444 %\n"
          ]
        },
        {
          "output_type": "stream",
          "name": "stderr",
          "text": [
            "WARNING:tensorflow:Can save best model only with val_loss available, skipping.\n"
          ]
        },
        {
          "output_type": "stream",
          "name": "stdout",
          "text": [
            "\b\b\b\b\b\b\b\b\b\b\b\b\b\b\b\b\b\b\b\b\b\b\b\b\b\b\b\b\b\b\b\b\b\b\b\b\b\b\b\b\b\b\b\b\b\b\b\b\b\b\b\b\b\b\b\b\b\b\b\b\b\b\b\b\b\b\b\b\b\b\b\b\b\b\b\b\b\b\b\b\r1/1 [==============================] - 0s 164ms/step - loss: 0.4036 - accuracy: 0.8646\n",
            "Epoch 818/1000\n",
            "1/1 [==============================] - 0s 28ms/step\n",
            "\n",
            "Validation Accuracy: 41.11111111111111 %\n"
          ]
        },
        {
          "output_type": "stream",
          "name": "stderr",
          "text": [
            "WARNING:tensorflow:Can save best model only with val_loss available, skipping.\n"
          ]
        },
        {
          "output_type": "stream",
          "name": "stdout",
          "text": [
            "\b\b\b\b\b\b\b\b\b\b\b\b\b\b\b\b\b\b\b\b\b\b\b\b\b\b\b\b\b\b\b\b\b\b\b\b\b\b\b\b\b\b\b\b\b\b\b\b\b\b\b\b\b\b\b\b\b\b\b\b\b\b\b\b\b\b\b\b\b\b\b\b\b\b\b\b\b\b\b\b\r1/1 [==============================] - 0s 151ms/step - loss: 0.4008 - accuracy: 0.8658\n",
            "Epoch 819/1000\n",
            "1/1 [==============================] - 0s 29ms/step\n",
            "\n",
            "Validation Accuracy: 41.11111111111111 %\n"
          ]
        },
        {
          "output_type": "stream",
          "name": "stderr",
          "text": [
            "WARNING:tensorflow:Can save best model only with val_loss available, skipping.\n"
          ]
        },
        {
          "output_type": "stream",
          "name": "stdout",
          "text": [
            "\b\b\b\b\b\b\b\b\b\b\b\b\b\b\b\b\b\b\b\b\b\b\b\b\b\b\b\b\b\b\b\b\b\b\b\b\b\b\b\b\b\b\b\b\b\b\b\b\b\b\b\b\b\b\b\b\b\b\b\b\b\b\b\b\b\b\b\b\b\b\b\b\b\b\b\b\b\b\b\b\r1/1 [==============================] - 0s 160ms/step - loss: 0.4002 - accuracy: 0.8672\n",
            "Epoch 820/1000\n",
            "1/1 [==============================] - 0s 28ms/step\n",
            "\n",
            "Validation Accuracy: 41.66666666666667 %\n"
          ]
        },
        {
          "output_type": "stream",
          "name": "stderr",
          "text": [
            "WARNING:tensorflow:Can save best model only with val_loss available, skipping.\n"
          ]
        },
        {
          "output_type": "stream",
          "name": "stdout",
          "text": [
            "\b\b\b\b\b\b\b\b\b\b\b\b\b\b\b\b\b\b\b\b\b\b\b\b\b\b\b\b\b\b\b\b\b\b\b\b\b\b\b\b\b\b\b\b\b\b\b\b\b\b\b\b\b\b\b\b\b\b\b\b\b\b\b\b\b\b\b\b\b\b\b\b\b\b\b\b\b\b\b\b\r1/1 [==============================] - 0s 145ms/step - loss: 0.4038 - accuracy: 0.8688\n",
            "Epoch 821/1000\n",
            "1/1 [==============================] - 0s 29ms/step\n",
            "\n",
            "Validation Accuracy: 41.66666666666667 %\n"
          ]
        },
        {
          "output_type": "stream",
          "name": "stderr",
          "text": [
            "WARNING:tensorflow:Can save best model only with val_loss available, skipping.\n"
          ]
        },
        {
          "output_type": "stream",
          "name": "stdout",
          "text": [
            "\b\b\b\b\b\b\b\b\b\b\b\b\b\b\b\b\b\b\b\b\b\b\b\b\b\b\b\b\b\b\b\b\b\b\b\b\b\b\b\b\b\b\b\b\b\b\b\b\b\b\b\b\b\b\b\b\b\b\b\b\b\b\b\b\b\b\b\b\b\b\b\b\b\b\b\b\b\b\b\b\r1/1 [==============================] - 0s 172ms/step - loss: 0.3942 - accuracy: 0.8728\n",
            "Epoch 822/1000\n",
            "1/1 [==============================] - 0s 29ms/step\n",
            "\n",
            "Validation Accuracy: 41.66666666666667 %\n"
          ]
        },
        {
          "output_type": "stream",
          "name": "stderr",
          "text": [
            "WARNING:tensorflow:Can save best model only with val_loss available, skipping.\n"
          ]
        },
        {
          "output_type": "stream",
          "name": "stdout",
          "text": [
            "\b\b\b\b\b\b\b\b\b\b\b\b\b\b\b\b\b\b\b\b\b\b\b\b\b\b\b\b\b\b\b\b\b\b\b\b\b\b\b\b\b\b\b\b\b\b\b\b\b\b\b\b\b\b\b\b\b\b\b\b\b\b\b\b\b\b\b\b\b\b\b\b\b\b\b\b\b\b\b\b\r1/1 [==============================] - 0s 161ms/step - loss: 0.4002 - accuracy: 0.8648\n",
            "Epoch 823/1000\n",
            "1/1 [==============================] - 0s 30ms/step\n",
            "\n",
            "Validation Accuracy: 41.11111111111111 %\n"
          ]
        },
        {
          "output_type": "stream",
          "name": "stderr",
          "text": [
            "WARNING:tensorflow:Can save best model only with val_loss available, skipping.\n"
          ]
        },
        {
          "output_type": "stream",
          "name": "stdout",
          "text": [
            "\b\b\b\b\b\b\b\b\b\b\b\b\b\b\b\b\b\b\b\b\b\b\b\b\b\b\b\b\b\b\b\b\b\b\b\b\b\b\b\b\b\b\b\b\b\b\b\b\b\b\b\b\b\b\b\b\b\b\b\b\b\b\b\b\b\b\b\b\b\b\b\b\b\b\b\b\b\b\b\b\r1/1 [==============================] - 0s 151ms/step - loss: 0.4014 - accuracy: 0.8707\n",
            "Epoch 824/1000\n",
            "1/1 [==============================] - 0s 30ms/step\n",
            "\n",
            "Validation Accuracy: 41.66666666666667 %\n"
          ]
        },
        {
          "output_type": "stream",
          "name": "stderr",
          "text": [
            "WARNING:tensorflow:Can save best model only with val_loss available, skipping.\n"
          ]
        },
        {
          "output_type": "stream",
          "name": "stdout",
          "text": [
            "\b\b\b\b\b\b\b\b\b\b\b\b\b\b\b\b\b\b\b\b\b\b\b\b\b\b\b\b\b\b\b\b\b\b\b\b\b\b\b\b\b\b\b\b\b\b\b\b\b\b\b\b\b\b\b\b\b\b\b\b\b\b\b\b\b\b\b\b\b\b\b\b\b\b\b\b\b\b\b\b\r1/1 [==============================] - 0s 146ms/step - loss: 0.4031 - accuracy: 0.8664\n",
            "Epoch 825/1000\n",
            "1/1 [==============================] - 0s 28ms/step\n",
            "\n",
            "Validation Accuracy: 41.66666666666667 %\n"
          ]
        },
        {
          "output_type": "stream",
          "name": "stderr",
          "text": [
            "WARNING:tensorflow:Can save best model only with val_loss available, skipping.\n"
          ]
        },
        {
          "output_type": "stream",
          "name": "stdout",
          "text": [
            "\b\b\b\b\b\b\b\b\b\b\b\b\b\b\b\b\b\b\b\b\b\b\b\b\b\b\b\b\b\b\b\b\b\b\b\b\b\b\b\b\b\b\b\b\b\b\b\b\b\b\b\b\b\b\b\b\b\b\b\b\b\b\b\b\b\b\b\b\b\b\b\b\b\b\b\b\b\b\b\b\r1/1 [==============================] - 0s 140ms/step - loss: 0.3955 - accuracy: 0.8669\n",
            "Epoch 826/1000\n",
            "1/1 [==============================] - 0s 31ms/step\n",
            "\n",
            "Validation Accuracy: 41.66666666666667 %\n"
          ]
        },
        {
          "output_type": "stream",
          "name": "stderr",
          "text": [
            "WARNING:tensorflow:Can save best model only with val_loss available, skipping.\n"
          ]
        },
        {
          "output_type": "stream",
          "name": "stdout",
          "text": [
            "\b\b\b\b\b\b\b\b\b\b\b\b\b\b\b\b\b\b\b\b\b\b\b\b\b\b\b\b\b\b\b\b\b\b\b\b\b\b\b\b\b\b\b\b\b\b\b\b\b\b\b\b\b\b\b\b\b\b\b\b\b\b\b\b\b\b\b\b\b\b\b\b\b\b\b\b\b\b\b\b\r1/1 [==============================] - 0s 154ms/step - loss: 0.3967 - accuracy: 0.8669\n",
            "Epoch 827/1000\n",
            "1/1 [==============================] - 0s 30ms/step\n",
            "\n",
            "Validation Accuracy: 39.44444444444444 %\n"
          ]
        },
        {
          "output_type": "stream",
          "name": "stderr",
          "text": [
            "WARNING:tensorflow:Can save best model only with val_loss available, skipping.\n"
          ]
        },
        {
          "output_type": "stream",
          "name": "stdout",
          "text": [
            "\b\b\b\b\b\b\b\b\b\b\b\b\b\b\b\b\b\b\b\b\b\b\b\b\b\b\b\b\b\b\b\b\b\b\b\b\b\b\b\b\b\b\b\b\b\b\b\b\b\b\b\b\b\b\b\b\b\b\b\b\b\b\b\b\b\b\b\b\b\b\b\b\b\b\b\b\b\b\b\b\r1/1 [==============================] - 0s 145ms/step - loss: 0.3889 - accuracy: 0.8653\n",
            "Epoch 828/1000\n",
            "1/1 [==============================] - 0s 28ms/step\n",
            "\n",
            "Validation Accuracy: 40.0 %\n"
          ]
        },
        {
          "output_type": "stream",
          "name": "stderr",
          "text": [
            "WARNING:tensorflow:Can save best model only with val_loss available, skipping.\n"
          ]
        },
        {
          "output_type": "stream",
          "name": "stdout",
          "text": [
            "\b\b\b\b\b\b\b\b\b\b\b\b\b\b\b\b\b\b\b\b\b\b\b\b\b\b\b\b\b\b\b\b\b\b\b\b\b\b\b\b\b\b\b\b\b\b\b\b\b\b\b\b\b\b\b\b\b\b\b\b\b\b\b\b\b\b\b\b\b\b\b\b\b\b\b\b\b\b\b\b\r1/1 [==============================] - 0s 143ms/step - loss: 0.4063 - accuracy: 0.8644\n",
            "Epoch 829/1000\n",
            "1/1 [==============================] - 0s 31ms/step\n",
            "\n",
            "Validation Accuracy: 40.0 %\n"
          ]
        },
        {
          "output_type": "stream",
          "name": "stderr",
          "text": [
            "WARNING:tensorflow:Can save best model only with val_loss available, skipping.\n"
          ]
        },
        {
          "output_type": "stream",
          "name": "stdout",
          "text": [
            "\b\b\b\b\b\b\b\b\b\b\b\b\b\b\b\b\b\b\b\b\b\b\b\b\b\b\b\b\b\b\b\b\b\b\b\b\b\b\b\b\b\b\b\b\b\b\b\b\b\b\b\b\b\b\b\b\b\b\b\b\b\b\b\b\b\b\b\b\b\b\b\b\b\b\b\b\b\b\b\b\r1/1 [==============================] - 0s 154ms/step - loss: 0.3957 - accuracy: 0.8720\n",
            "Epoch 830/1000\n",
            "1/1 [==============================] - 0s 30ms/step\n",
            "\n",
            "Validation Accuracy: 39.44444444444444 %\n"
          ]
        },
        {
          "output_type": "stream",
          "name": "stderr",
          "text": [
            "WARNING:tensorflow:Can save best model only with val_loss available, skipping.\n"
          ]
        },
        {
          "output_type": "stream",
          "name": "stdout",
          "text": [
            "\b\b\b\b\b\b\b\b\b\b\b\b\b\b\b\b\b\b\b\b\b\b\b\b\b\b\b\b\b\b\b\b\b\b\b\b\b\b\b\b\b\b\b\b\b\b\b\b\b\b\b\b\b\b\b\b\b\b\b\b\b\b\b\b\b\b\b\b\b\b\b\b\b\b\b\b\b\b\b\b\r1/1 [==============================] - 0s 164ms/step - loss: 0.4059 - accuracy: 0.8657\n",
            "Epoch 831/1000\n",
            "1/1 [==============================] - 0s 29ms/step\n",
            "\n",
            "Validation Accuracy: 39.44444444444444 %\n"
          ]
        },
        {
          "output_type": "stream",
          "name": "stderr",
          "text": [
            "WARNING:tensorflow:Can save best model only with val_loss available, skipping.\n"
          ]
        },
        {
          "output_type": "stream",
          "name": "stdout",
          "text": [
            "\b\b\b\b\b\b\b\b\b\b\b\b\b\b\b\b\b\b\b\b\b\b\b\b\b\b\b\b\b\b\b\b\b\b\b\b\b\b\b\b\b\b\b\b\b\b\b\b\b\b\b\b\b\b\b\b\b\b\b\b\b\b\b\b\b\b\b\b\b\b\b\b\b\b\b\b\b\b\b\b\r1/1 [==============================] - 0s 163ms/step - loss: 0.4000 - accuracy: 0.8650\n",
            "Epoch 832/1000\n",
            "1/1 [==============================] - 0s 40ms/step\n",
            "\n",
            "Validation Accuracy: 39.44444444444444 %\n"
          ]
        },
        {
          "output_type": "stream",
          "name": "stderr",
          "text": [
            "WARNING:tensorflow:Can save best model only with val_loss available, skipping.\n"
          ]
        },
        {
          "output_type": "stream",
          "name": "stdout",
          "text": [
            "\b\b\b\b\b\b\b\b\b\b\b\b\b\b\b\b\b\b\b\b\b\b\b\b\b\b\b\b\b\b\b\b\b\b\b\b\b\b\b\b\b\b\b\b\b\b\b\b\b\b\b\b\b\b\b\b\b\b\b\b\b\b\b\b\b\b\b\b\b\b\b\b\b\b\b\b\b\b\b\b\r1/1 [==============================] - 0s 180ms/step - loss: 0.3989 - accuracy: 0.8697\n",
            "Epoch 833/1000\n",
            "1/1 [==============================] - 0s 40ms/step\n",
            "\n",
            "Validation Accuracy: 39.44444444444444 %\n"
          ]
        },
        {
          "output_type": "stream",
          "name": "stderr",
          "text": [
            "WARNING:tensorflow:Can save best model only with val_loss available, skipping.\n"
          ]
        },
        {
          "output_type": "stream",
          "name": "stdout",
          "text": [
            "\b\b\b\b\b\b\b\b\b\b\b\b\b\b\b\b\b\b\b\b\b\b\b\b\b\b\b\b\b\b\b\b\b\b\b\b\b\b\b\b\b\b\b\b\b\b\b\b\b\b\b\b\b\b\b\b\b\b\b\b\b\b\b\b\b\b\b\b\b\b\b\b\b\b\b\b\b\b\b\b\r1/1 [==============================] - 0s 176ms/step - loss: 0.3961 - accuracy: 0.8643\n",
            "Epoch 834/1000\n",
            "1/1 [==============================] - 0s 33ms/step\n",
            "\n",
            "Validation Accuracy: 39.44444444444444 %\n"
          ]
        },
        {
          "output_type": "stream",
          "name": "stderr",
          "text": [
            "WARNING:tensorflow:Can save best model only with val_loss available, skipping.\n"
          ]
        },
        {
          "output_type": "stream",
          "name": "stdout",
          "text": [
            "\b\b\b\b\b\b\b\b\b\b\b\b\b\b\b\b\b\b\b\b\b\b\b\b\b\b\b\b\b\b\b\b\b\b\b\b\b\b\b\b\b\b\b\b\b\b\b\b\b\b\b\b\b\b\b\b\b\b\b\b\b\b\b\b\b\b\b\b\b\b\b\b\b\b\b\b\b\b\b\b\r1/1 [==============================] - 0s 176ms/step - loss: 0.4021 - accuracy: 0.8682\n",
            "Epoch 835/1000\n",
            "1/1 [==============================] - 0s 31ms/step\n",
            "\n",
            "Validation Accuracy: 40.55555555555556 %\n"
          ]
        },
        {
          "output_type": "stream",
          "name": "stderr",
          "text": [
            "WARNING:tensorflow:Can save best model only with val_loss available, skipping.\n"
          ]
        },
        {
          "output_type": "stream",
          "name": "stdout",
          "text": [
            "\b\b\b\b\b\b\b\b\b\b\b\b\b\b\b\b\b\b\b\b\b\b\b\b\b\b\b\b\b\b\b\b\b\b\b\b\b\b\b\b\b\b\b\b\b\b\b\b\b\b\b\b\b\b\b\b\b\b\b\b\b\b\b\b\b\b\b\b\b\b\b\b\b\b\b\b\b\b\b\b\r1/1 [==============================] - 0s 148ms/step - loss: 0.3884 - accuracy: 0.8734\n",
            "Epoch 836/1000\n",
            "1/1 [==============================] - 0s 29ms/step\n",
            "\n",
            "Validation Accuracy: 40.0 %\n"
          ]
        },
        {
          "output_type": "stream",
          "name": "stderr",
          "text": [
            "WARNING:tensorflow:Can save best model only with val_loss available, skipping.\n"
          ]
        },
        {
          "output_type": "stream",
          "name": "stdout",
          "text": [
            "\b\b\b\b\b\b\b\b\b\b\b\b\b\b\b\b\b\b\b\b\b\b\b\b\b\b\b\b\b\b\b\b\b\b\b\b\b\b\b\b\b\b\b\b\b\b\b\b\b\b\b\b\b\b\b\b\b\b\b\b\b\b\b\b\b\b\b\b\b\b\b\b\b\b\b\b\b\b\b\b\r1/1 [==============================] - 0s 167ms/step - loss: 0.4012 - accuracy: 0.8668\n",
            "Epoch 837/1000\n",
            "1/1 [==============================] - 0s 27ms/step\n",
            "\n",
            "Validation Accuracy: 39.44444444444444 %\n"
          ]
        },
        {
          "output_type": "stream",
          "name": "stderr",
          "text": [
            "WARNING:tensorflow:Can save best model only with val_loss available, skipping.\n"
          ]
        },
        {
          "output_type": "stream",
          "name": "stdout",
          "text": [
            "\b\b\b\b\b\b\b\b\b\b\b\b\b\b\b\b\b\b\b\b\b\b\b\b\b\b\b\b\b\b\b\b\b\b\b\b\b\b\b\b\b\b\b\b\b\b\b\b\b\b\b\b\b\b\b\b\b\b\b\b\b\b\b\b\b\b\b\b\b\b\b\b\b\b\b\b\b\b\b\b\r1/1 [==============================] - 0s 148ms/step - loss: 0.3986 - accuracy: 0.8668\n",
            "Epoch 838/1000\n",
            "1/1 [==============================] - 0s 47ms/step\n",
            "\n",
            "Validation Accuracy: 39.44444444444444 %\n"
          ]
        },
        {
          "output_type": "stream",
          "name": "stderr",
          "text": [
            "WARNING:tensorflow:Can save best model only with val_loss available, skipping.\n"
          ]
        },
        {
          "output_type": "stream",
          "name": "stdout",
          "text": [
            "\b\b\b\b\b\b\b\b\b\b\b\b\b\b\b\b\b\b\b\b\b\b\b\b\b\b\b\b\b\b\b\b\b\b\b\b\b\b\b\b\b\b\b\b\b\b\b\b\b\b\b\b\b\b\b\b\b\b\b\b\b\b\b\b\b\b\b\b\b\b\b\b\b\b\b\b\b\b\b\b\r1/1 [==============================] - 0s 214ms/step - loss: 0.3964 - accuracy: 0.8728\n",
            "Epoch 839/1000\n",
            "1/1 [==============================] - 0s 36ms/step\n",
            "\n",
            "Validation Accuracy: 40.55555555555556 %\n"
          ]
        },
        {
          "output_type": "stream",
          "name": "stderr",
          "text": [
            "WARNING:tensorflow:Can save best model only with val_loss available, skipping.\n"
          ]
        },
        {
          "output_type": "stream",
          "name": "stdout",
          "text": [
            "\b\b\b\b\b\b\b\b\b\b\b\b\b\b\b\b\b\b\b\b\b\b\b\b\b\b\b\b\b\b\b\b\b\b\b\b\b\b\b\b\b\b\b\b\b\b\b\b\b\b\b\b\b\b\b\b\b\b\b\b\b\b\b\b\b\b\b\b\b\b\b\b\b\b\b\b\b\b\b\b\r1/1 [==============================] - 0s 239ms/step - loss: 0.4014 - accuracy: 0.8648\n",
            "Epoch 840/1000\n",
            "1/1 [==============================] - 0s 51ms/step\n",
            "\n",
            "Validation Accuracy: 40.55555555555556 %\n"
          ]
        },
        {
          "output_type": "stream",
          "name": "stderr",
          "text": [
            "WARNING:tensorflow:Can save best model only with val_loss available, skipping.\n"
          ]
        },
        {
          "output_type": "stream",
          "name": "stdout",
          "text": [
            "\b\b\b\b\b\b\b\b\b\b\b\b\b\b\b\b\b\b\b\b\b\b\b\b\b\b\b\b\b\b\b\b\b\b\b\b\b\b\b\b\b\b\b\b\b\b\b\b\b\b\b\b\b\b\b\b\b\b\b\b\b\b\b\b\b\b\b\b\b\b\b\b\b\b\b\b\b\b\b\b\r1/1 [==============================] - 0s 261ms/step - loss: 0.4074 - accuracy: 0.8633\n",
            "Epoch 841/1000\n",
            "1/1 [==============================] - 0s 70ms/step\n",
            "\n",
            "Validation Accuracy: 41.11111111111111 %\n"
          ]
        },
        {
          "output_type": "stream",
          "name": "stderr",
          "text": [
            "WARNING:tensorflow:Can save best model only with val_loss available, skipping.\n"
          ]
        },
        {
          "output_type": "stream",
          "name": "stdout",
          "text": [
            "\b\b\b\b\b\b\b\b\b\b\b\b\b\b\b\b\b\b\b\b\b\b\b\b\b\b\b\b\b\b\b\b\b\b\b\b\b\b\b\b\b\b\b\b\b\b\b\b\b\b\b\b\b\b\b\b\b\b\b\b\b\b\b\b\b\b\b\b\b\b\b\b\b\b\b\b\b\b\b\b\r1/1 [==============================] - 0s 270ms/step - loss: 0.4019 - accuracy: 0.8633\n",
            "Epoch 842/1000\n",
            "1/1 [==============================] - 0s 41ms/step\n",
            "\n",
            "Validation Accuracy: 40.55555555555556 %\n"
          ]
        },
        {
          "output_type": "stream",
          "name": "stderr",
          "text": [
            "WARNING:tensorflow:Can save best model only with val_loss available, skipping.\n"
          ]
        },
        {
          "output_type": "stream",
          "name": "stdout",
          "text": [
            "\b\b\b\b\b\b\b\b\b\b\b\b\b\b\b\b\b\b\b\b\b\b\b\b\b\b\b\b\b\b\b\b\b\b\b\b\b\b\b\b\b\b\b\b\b\b\b\b\b\b\b\b\b\b\b\b\b\b\b\b\b\b\b\b\b\b\b\b\b\b\b\b\b\b\b\b\b\b\b\b\r1/1 [==============================] - 0s 206ms/step - loss: 0.3921 - accuracy: 0.8685\n",
            "Epoch 843/1000\n",
            "1/1 [==============================] - 0s 32ms/step\n",
            "\n",
            "Validation Accuracy: 41.11111111111111 %\n"
          ]
        },
        {
          "output_type": "stream",
          "name": "stderr",
          "text": [
            "WARNING:tensorflow:Can save best model only with val_loss available, skipping.\n"
          ]
        },
        {
          "output_type": "stream",
          "name": "stdout",
          "text": [
            "\b\b\b\b\b\b\b\b\b\b\b\b\b\b\b\b\b\b\b\b\b\b\b\b\b\b\b\b\b\b\b\b\b\b\b\b\b\b\b\b\b\b\b\b\b\b\b\b\b\b\b\b\b\b\b\b\b\b\b\b\b\b\b\b\b\b\b\b\b\b\b\b\b\b\b\b\b\b\b\b\r1/1 [==============================] - 0s 177ms/step - loss: 0.3984 - accuracy: 0.8672\n",
            "Epoch 844/1000\n",
            "1/1 [==============================] - 0s 46ms/step\n",
            "\n",
            "Validation Accuracy: 41.11111111111111 %\n"
          ]
        },
        {
          "output_type": "stream",
          "name": "stderr",
          "text": [
            "WARNING:tensorflow:Can save best model only with val_loss available, skipping.\n"
          ]
        },
        {
          "output_type": "stream",
          "name": "stdout",
          "text": [
            "\b\b\b\b\b\b\b\b\b\b\b\b\b\b\b\b\b\b\b\b\b\b\b\b\b\b\b\b\b\b\b\b\b\b\b\b\b\b\b\b\b\b\b\b\b\b\b\b\b\b\b\b\b\b\b\b\b\b\b\b\b\b\b\b\b\b\b\b\b\b\b\b\b\b\b\b\b\b\b\b\r1/1 [==============================] - 0s 238ms/step - loss: 0.3984 - accuracy: 0.8685\n",
            "Epoch 845/1000\n",
            "1/1 [==============================] - 0s 45ms/step\n",
            "\n",
            "Validation Accuracy: 41.11111111111111 %\n"
          ]
        },
        {
          "output_type": "stream",
          "name": "stderr",
          "text": [
            "WARNING:tensorflow:Can save best model only with val_loss available, skipping.\n"
          ]
        },
        {
          "output_type": "stream",
          "name": "stdout",
          "text": [
            "\b\b\b\b\b\b\b\b\b\b\b\b\b\b\b\b\b\b\b\b\b\b\b\b\b\b\b\b\b\b\b\b\b\b\b\b\b\b\b\b\b\b\b\b\b\b\b\b\b\b\b\b\b\b\b\b\b\b\b\b\b\b\b\b\b\b\b\b\b\b\b\b\b\b\b\b\b\b\b\b\r1/1 [==============================] - 0s 224ms/step - loss: 0.3976 - accuracy: 0.8703\n",
            "Epoch 846/1000\n",
            "1/1 [==============================] - 0s 49ms/step\n",
            "\n",
            "Validation Accuracy: 41.11111111111111 %\n"
          ]
        },
        {
          "output_type": "stream",
          "name": "stderr",
          "text": [
            "WARNING:tensorflow:Can save best model only with val_loss available, skipping.\n"
          ]
        },
        {
          "output_type": "stream",
          "name": "stdout",
          "text": [
            "\b\b\b\b\b\b\b\b\b\b\b\b\b\b\b\b\b\b\b\b\b\b\b\b\b\b\b\b\b\b\b\b\b\b\b\b\b\b\b\b\b\b\b\b\b\b\b\b\b\b\b\b\b\b\b\b\b\b\b\b\b\b\b\b\b\b\b\b\b\b\b\b\b\b\b\b\b\b\b\b\r1/1 [==============================] - 0s 208ms/step - loss: 0.3913 - accuracy: 0.8665\n",
            "Epoch 847/1000\n",
            "1/1 [==============================] - 0s 37ms/step\n",
            "\n",
            "Validation Accuracy: 41.11111111111111 %\n"
          ]
        },
        {
          "output_type": "stream",
          "name": "stderr",
          "text": [
            "WARNING:tensorflow:Can save best model only with val_loss available, skipping.\n"
          ]
        },
        {
          "output_type": "stream",
          "name": "stdout",
          "text": [
            "\b\b\b\b\b\b\b\b\b\b\b\b\b\b\b\b\b\b\b\b\b\b\b\b\b\b\b\b\b\b\b\b\b\b\b\b\b\b\b\b\b\b\b\b\b\b\b\b\b\b\b\b\b\b\b\b\b\b\b\b\b\b\b\b\b\b\b\b\b\b\b\b\b\b\b\b\b\b\b\b\r1/1 [==============================] - 0s 193ms/step - loss: 0.3953 - accuracy: 0.8661\n",
            "Epoch 848/1000\n",
            "1/1 [==============================] - 0s 101ms/step\n",
            "\n",
            "Validation Accuracy: 41.11111111111111 %\n"
          ]
        },
        {
          "output_type": "stream",
          "name": "stderr",
          "text": [
            "WARNING:tensorflow:Can save best model only with val_loss available, skipping.\n"
          ]
        },
        {
          "output_type": "stream",
          "name": "stdout",
          "text": [
            "\b\b\b\b\b\b\b\b\b\b\b\b\b\b\b\b\b\b\b\b\b\b\b\b\b\b\b\b\b\b\b\b\b\b\b\b\b\b\b\b\b\b\b\b\b\b\b\b\b\b\b\b\b\b\b\b\b\b\b\b\b\b\b\b\b\b\b\b\b\b\b\b\b\b\b\b\b\b\b\b\r1/1 [==============================] - 0s 312ms/step - loss: 0.3989 - accuracy: 0.8685\n",
            "Epoch 849/1000\n",
            "1/1 [==============================] - 0s 184ms/step\n",
            "\n",
            "Validation Accuracy: 41.11111111111111 %\n"
          ]
        },
        {
          "output_type": "stream",
          "name": "stderr",
          "text": [
            "WARNING:tensorflow:Can save best model only with val_loss available, skipping.\n"
          ]
        },
        {
          "output_type": "stream",
          "name": "stdout",
          "text": [
            "\b\b\b\b\b\b\b\b\b\b\b\b\b\b\b\b\b\b\b\b\b\b\b\b\b\b\b\b\b\b\b\b\b\b\b\b\b\b\b\b\b\b\b\b\b\b\b\b\b\b\b\b\b\b\b\b\b\b\b\b\b\b\b\b\b\b\b\b\b\b\b\b\b\b\b\b\b\b\b\b\r1/1 [==============================] - 1s 832ms/step - loss: 0.4002 - accuracy: 0.8653\n",
            "Epoch 850/1000\n",
            "1/1 [==============================] - 0s 122ms/step\n",
            "\n",
            "Validation Accuracy: 41.11111111111111 %\n"
          ]
        },
        {
          "output_type": "stream",
          "name": "stderr",
          "text": [
            "WARNING:tensorflow:Can save best model only with val_loss available, skipping.\n"
          ]
        },
        {
          "output_type": "stream",
          "name": "stdout",
          "text": [
            "\b\b\b\b\b\b\b\b\b\b\b\b\b\b\b\b\b\b\b\b\b\b\b\b\b\b\b\b\b\b\b\b\b\b\b\b\b\b\b\b\b\b\b\b\b\b\b\b\b\b\b\b\b\b\b\b\b\b\b\b\b\b\b\b\b\b\b\b\b\b\b\b\b\b\b\b\b\b\b\b\r1/1 [==============================] - 0s 686ms/step - loss: 0.4075 - accuracy: 0.8657\n",
            "Epoch 851/1000\n",
            "1/1 [==============================] - 0s 43ms/step\n",
            "\n",
            "Validation Accuracy: 40.55555555555556 %\n"
          ]
        },
        {
          "output_type": "stream",
          "name": "stderr",
          "text": [
            "WARNING:tensorflow:Can save best model only with val_loss available, skipping.\n"
          ]
        },
        {
          "output_type": "stream",
          "name": "stdout",
          "text": [
            "\b\b\b\b\b\b\b\b\b\b\b\b\b\b\b\b\b\b\b\b\b\b\b\b\b\b\b\b\b\b\b\b\b\b\b\b\b\b\b\b\b\b\b\b\b\b\b\b\b\b\b\b\b\b\b\b\b\b\b\b\b\b\b\b\b\b\b\b\b\b\b\b\b\b\b\b\b\b\b\b\r1/1 [==============================] - 0s 195ms/step - loss: 0.3961 - accuracy: 0.8667\n",
            "Epoch 852/1000\n",
            "1/1 [==============================] - 0s 30ms/step\n",
            "\n",
            "Validation Accuracy: 41.11111111111111 %\n"
          ]
        },
        {
          "output_type": "stream",
          "name": "stderr",
          "text": [
            "WARNING:tensorflow:Can save best model only with val_loss available, skipping.\n"
          ]
        },
        {
          "output_type": "stream",
          "name": "stdout",
          "text": [
            "\b\b\b\b\b\b\b\b\b\b\b\b\b\b\b\b\b\b\b\b\b\b\b\b\b\b\b\b\b\b\b\b\b\b\b\b\b\b\b\b\b\b\b\b\b\b\b\b\b\b\b\b\b\b\b\b\b\b\b\b\b\b\b\b\b\b\b\b\b\b\b\b\b\b\b\b\b\b\b\b\r1/1 [==============================] - 0s 167ms/step - loss: 0.3911 - accuracy: 0.8728\n",
            "Epoch 853/1000\n",
            "1/1 [==============================] - 0s 45ms/step\n",
            "\n",
            "Validation Accuracy: 41.11111111111111 %\n"
          ]
        },
        {
          "output_type": "stream",
          "name": "stderr",
          "text": [
            "WARNING:tensorflow:Can save best model only with val_loss available, skipping.\n"
          ]
        },
        {
          "output_type": "stream",
          "name": "stdout",
          "text": [
            "\b\b\b\b\b\b\b\b\b\b\b\b\b\b\b\b\b\b\b\b\b\b\b\b\b\b\b\b\b\b\b\b\b\b\b\b\b\b\b\b\b\b\b\b\b\b\b\b\b\b\b\b\b\b\b\b\b\b\b\b\b\b\b\b\b\b\b\b\b\b\b\b\b\b\b\b\b\b\b\b\r1/1 [==============================] - 0s 238ms/step - loss: 0.3979 - accuracy: 0.8678\n",
            "Epoch 854/1000\n",
            "1/1 [==============================] - 0s 54ms/step\n",
            "\n",
            "Validation Accuracy: 41.11111111111111 %\n"
          ]
        },
        {
          "output_type": "stream",
          "name": "stderr",
          "text": [
            "WARNING:tensorflow:Can save best model only with val_loss available, skipping.\n"
          ]
        },
        {
          "output_type": "stream",
          "name": "stdout",
          "text": [
            "\b\b\b\b\b\b\b\b\b\b\b\b\b\b\b\b\b\b\b\b\b\b\b\b\b\b\b\b\b\b\b\b\b\b\b\b\b\b\b\b\b\b\b\b\b\b\b\b\b\b\b\b\b\b\b\b\b\b\b\b\b\b\b\b\b\b\b\b\b\b\b\b\b\b\b\b\b\b\b\b\r1/1 [==============================] - 0s 214ms/step - loss: 0.3896 - accuracy: 0.8713\n",
            "Epoch 855/1000\n",
            "1/1 [==============================] - 0s 60ms/step\n",
            "\n",
            "Validation Accuracy: 41.11111111111111 %\n"
          ]
        },
        {
          "output_type": "stream",
          "name": "stderr",
          "text": [
            "WARNING:tensorflow:Can save best model only with val_loss available, skipping.\n"
          ]
        },
        {
          "output_type": "stream",
          "name": "stdout",
          "text": [
            "\b\b\b\b\b\b\b\b\b\b\b\b\b\b\b\b\b\b\b\b\b\b\b\b\b\b\b\b\b\b\b\b\b\b\b\b\b\b\b\b\b\b\b\b\b\b\b\b\b\b\b\b\b\b\b\b\b\b\b\b\b\b\b\b\b\b\b\b\b\b\b\b\b\b\b\b\b\b\b\b\r1/1 [==============================] - 0s 251ms/step - loss: 0.3916 - accuracy: 0.8688\n",
            "Epoch 856/1000\n",
            "1/1 [==============================] - 0s 38ms/step\n",
            "\n",
            "Validation Accuracy: 41.11111111111111 %\n"
          ]
        },
        {
          "output_type": "stream",
          "name": "stderr",
          "text": [
            "WARNING:tensorflow:Can save best model only with val_loss available, skipping.\n"
          ]
        },
        {
          "output_type": "stream",
          "name": "stdout",
          "text": [
            "\b\b\b\b\b\b\b\b\b\b\b\b\b\b\b\b\b\b\b\b\b\b\b\b\b\b\b\b\b\b\b\b\b\b\b\b\b\b\b\b\b\b\b\b\b\b\b\b\b\b\b\b\b\b\b\b\b\b\b\b\b\b\b\b\b\b\b\b\b\b\b\b\b\b\b\b\b\b\b\b\r1/1 [==============================] - 0s 243ms/step - loss: 0.3962 - accuracy: 0.8689\n",
            "Epoch 857/1000\n",
            "1/1 [==============================] - 0s 35ms/step\n",
            "\n",
            "Validation Accuracy: 40.55555555555556 %\n"
          ]
        },
        {
          "output_type": "stream",
          "name": "stderr",
          "text": [
            "WARNING:tensorflow:Can save best model only with val_loss available, skipping.\n"
          ]
        },
        {
          "output_type": "stream",
          "name": "stdout",
          "text": [
            "\b\b\b\b\b\b\b\b\b\b\b\b\b\b\b\b\b\b\b\b\b\b\b\b\b\b\b\b\b\b\b\b\b\b\b\b\b\b\b\b\b\b\b\b\b\b\b\b\b\b\b\b\b\b\b\b\b\b\b\b\b\b\b\b\b\b\b\b\b\b\b\b\b\b\b\b\b\b\b\b\r1/1 [==============================] - 0s 174ms/step - loss: 0.3943 - accuracy: 0.8646\n",
            "Epoch 858/1000\n",
            "1/1 [==============================] - 0s 54ms/step\n",
            "\n",
            "Validation Accuracy: 40.55555555555556 %\n"
          ]
        },
        {
          "output_type": "stream",
          "name": "stderr",
          "text": [
            "WARNING:tensorflow:Can save best model only with val_loss available, skipping.\n"
          ]
        },
        {
          "output_type": "stream",
          "name": "stdout",
          "text": [
            "\b\b\b\b\b\b\b\b\b\b\b\b\b\b\b\b\b\b\b\b\b\b\b\b\b\b\b\b\b\b\b\b\b\b\b\b\b\b\b\b\b\b\b\b\b\b\b\b\b\b\b\b\b\b\b\b\b\b\b\b\b\b\b\b\b\b\b\b\b\b\b\b\b\b\b\b\b\b\b\b\r1/1 [==============================] - 0s 249ms/step - loss: 0.3941 - accuracy: 0.8688\n",
            "Epoch 859/1000\n",
            "1/1 [==============================] - 0s 44ms/step\n",
            "\n",
            "Validation Accuracy: 40.55555555555556 %\n"
          ]
        },
        {
          "output_type": "stream",
          "name": "stderr",
          "text": [
            "WARNING:tensorflow:Can save best model only with val_loss available, skipping.\n"
          ]
        },
        {
          "output_type": "stream",
          "name": "stdout",
          "text": [
            "\b\b\b\b\b\b\b\b\b\b\b\b\b\b\b\b\b\b\b\b\b\b\b\b\b\b\b\b\b\b\b\b\b\b\b\b\b\b\b\b\b\b\b\b\b\b\b\b\b\b\b\b\b\b\b\b\b\b\b\b\b\b\b\b\b\b\b\b\b\b\b\b\b\b\b\b\b\b\b\b\r1/1 [==============================] - 0s 205ms/step - loss: 0.3912 - accuracy: 0.8717\n",
            "Epoch 860/1000\n",
            "1/1 [==============================] - 0s 58ms/step\n",
            "\n",
            "Validation Accuracy: 40.55555555555556 %\n"
          ]
        },
        {
          "output_type": "stream",
          "name": "stderr",
          "text": [
            "WARNING:tensorflow:Can save best model only with val_loss available, skipping.\n"
          ]
        },
        {
          "output_type": "stream",
          "name": "stdout",
          "text": [
            "\b\b\b\b\b\b\b\b\b\b\b\b\b\b\b\b\b\b\b\b\b\b\b\b\b\b\b\b\b\b\b\b\b\b\b\b\b\b\b\b\b\b\b\b\b\b\b\b\b\b\b\b\b\b\b\b\b\b\b\b\b\b\b\b\b\b\b\b\b\b\b\b\b\b\b\b\b\b\b\b\r1/1 [==============================] - 0s 247ms/step - loss: 0.3915 - accuracy: 0.8717\n",
            "Epoch 861/1000\n",
            "1/1 [==============================] - 0s 59ms/step\n",
            "\n",
            "Validation Accuracy: 40.55555555555556 %\n"
          ]
        },
        {
          "output_type": "stream",
          "name": "stderr",
          "text": [
            "WARNING:tensorflow:Can save best model only with val_loss available, skipping.\n"
          ]
        },
        {
          "output_type": "stream",
          "name": "stdout",
          "text": [
            "\b\b\b\b\b\b\b\b\b\b\b\b\b\b\b\b\b\b\b\b\b\b\b\b\b\b\b\b\b\b\b\b\b\b\b\b\b\b\b\b\b\b\b\b\b\b\b\b\b\b\b\b\b\b\b\b\b\b\b\b\b\b\b\b\b\b\b\b\b\b\b\b\b\b\b\b\b\b\b\b\r1/1 [==============================] - 0s 225ms/step - loss: 0.3883 - accuracy: 0.8690\n",
            "Epoch 862/1000\n",
            "1/1 [==============================] - 0s 53ms/step\n",
            "\n",
            "Validation Accuracy: 40.55555555555556 %\n"
          ]
        },
        {
          "output_type": "stream",
          "name": "stderr",
          "text": [
            "WARNING:tensorflow:Can save best model only with val_loss available, skipping.\n"
          ]
        },
        {
          "output_type": "stream",
          "name": "stdout",
          "text": [
            "\b\b\b\b\b\b\b\b\b\b\b\b\b\b\b\b\b\b\b\b\b\b\b\b\b\b\b\b\b\b\b\b\b\b\b\b\b\b\b\b\b\b\b\b\b\b\b\b\b\b\b\b\b\b\b\b\b\b\b\b\b\b\b\b\b\b\b\b\b\b\b\b\b\b\b\b\b\b\b\b\r1/1 [==============================] - 0s 232ms/step - loss: 0.3902 - accuracy: 0.8689\n",
            "Epoch 863/1000\n",
            "1/1 [==============================] - 0s 32ms/step\n",
            "\n",
            "Validation Accuracy: 39.44444444444444 %\n"
          ]
        },
        {
          "output_type": "stream",
          "name": "stderr",
          "text": [
            "WARNING:tensorflow:Can save best model only with val_loss available, skipping.\n"
          ]
        },
        {
          "output_type": "stream",
          "name": "stdout",
          "text": [
            "\b\b\b\b\b\b\b\b\b\b\b\b\b\b\b\b\b\b\b\b\b\b\b\b\b\b\b\b\b\b\b\b\b\b\b\b\b\b\b\b\b\b\b\b\b\b\b\b\b\b\b\b\b\b\b\b\b\b\b\b\b\b\b\b\b\b\b\b\b\b\b\b\b\b\b\b\b\b\b\b\r1/1 [==============================] - 0s 181ms/step - loss: 0.3947 - accuracy: 0.8683\n",
            "Epoch 864/1000\n",
            "1/1 [==============================] - 0s 57ms/step\n",
            "\n",
            "Validation Accuracy: 40.0 %\n"
          ]
        },
        {
          "output_type": "stream",
          "name": "stderr",
          "text": [
            "WARNING:tensorflow:Can save best model only with val_loss available, skipping.\n"
          ]
        },
        {
          "output_type": "stream",
          "name": "stdout",
          "text": [
            "\b\b\b\b\b\b\b\b\b\b\b\b\b\b\b\b\b\b\b\b\b\b\b\b\b\b\b\b\b\b\b\b\b\b\b\b\b\b\b\b\b\b\b\b\b\b\b\b\b\b\b\b\b\b\b\b\b\b\b\b\b\b\b\b\b\b\b\b\b\b\b\b\b\b\b\b\b\b\b\b\r1/1 [==============================] - 0s 224ms/step - loss: 0.3989 - accuracy: 0.8651\n",
            "Epoch 865/1000\n",
            "1/1 [==============================] - 0s 49ms/step\n",
            "\n",
            "Validation Accuracy: 40.55555555555556 %\n"
          ]
        },
        {
          "output_type": "stream",
          "name": "stderr",
          "text": [
            "WARNING:tensorflow:Can save best model only with val_loss available, skipping.\n"
          ]
        },
        {
          "output_type": "stream",
          "name": "stdout",
          "text": [
            "\b\b\b\b\b\b\b\b\b\b\b\b\b\b\b\b\b\b\b\b\b\b\b\b\b\b\b\b\b\b\b\b\b\b\b\b\b\b\b\b\b\b\b\b\b\b\b\b\b\b\b\b\b\b\b\b\b\b\b\b\b\b\b\b\b\b\b\b\b\b\b\b\b\b\b\b\b\b\b\b\r1/1 [==============================] - 0s 200ms/step - loss: 0.3955 - accuracy: 0.8723\n",
            "Epoch 866/1000\n",
            "1/1 [==============================] - 0s 45ms/step\n",
            "\n",
            "Validation Accuracy: 40.55555555555556 %\n"
          ]
        },
        {
          "output_type": "stream",
          "name": "stderr",
          "text": [
            "WARNING:tensorflow:Can save best model only with val_loss available, skipping.\n"
          ]
        },
        {
          "output_type": "stream",
          "name": "stdout",
          "text": [
            "\b\b\b\b\b\b\b\b\b\b\b\b\b\b\b\b\b\b\b\b\b\b\b\b\b\b\b\b\b\b\b\b\b\b\b\b\b\b\b\b\b\b\b\b\b\b\b\b\b\b\b\b\b\b\b\b\b\b\b\b\b\b\b\b\b\b\b\b\b\b\b\b\b\b\b\b\b\b\b\b\r1/1 [==============================] - 0s 216ms/step - loss: 0.3911 - accuracy: 0.8651\n",
            "Epoch 867/1000\n",
            "1/1 [==============================] - 0s 32ms/step\n",
            "\n",
            "Validation Accuracy: 40.0 %\n"
          ]
        },
        {
          "output_type": "stream",
          "name": "stderr",
          "text": [
            "WARNING:tensorflow:Can save best model only with val_loss available, skipping.\n"
          ]
        },
        {
          "output_type": "stream",
          "name": "stdout",
          "text": [
            "\b\b\b\b\b\b\b\b\b\b\b\b\b\b\b\b\b\b\b\b\b\b\b\b\b\b\b\b\b\b\b\b\b\b\b\b\b\b\b\b\b\b\b\b\b\b\b\b\b\b\b\b\b\b\b\b\b\b\b\b\b\b\b\b\b\b\b\b\b\b\b\b\b\b\b\b\b\b\b\b\r1/1 [==============================] - 0s 204ms/step - loss: 0.3876 - accuracy: 0.8754\n",
            "Epoch 868/1000\n",
            "1/1 [==============================] - 0s 47ms/step\n",
            "\n",
            "Validation Accuracy: 41.11111111111111 %\n"
          ]
        },
        {
          "output_type": "stream",
          "name": "stderr",
          "text": [
            "WARNING:tensorflow:Can save best model only with val_loss available, skipping.\n"
          ]
        },
        {
          "output_type": "stream",
          "name": "stdout",
          "text": [
            "\b\b\b\b\b\b\b\b\b\b\b\b\b\b\b\b\b\b\b\b\b\b\b\b\b\b\b\b\b\b\b\b\b\b\b\b\b\b\b\b\b\b\b\b\b\b\b\b\b\b\b\b\b\b\b\b\b\b\b\b\b\b\b\b\b\b\b\b\b\b\b\b\b\b\b\b\b\b\b\b\r1/1 [==============================] - 0s 200ms/step - loss: 0.3826 - accuracy: 0.8693\n",
            "Epoch 869/1000\n",
            "1/1 [==============================] - 0s 28ms/step\n",
            "\n",
            "Validation Accuracy: 40.0 %\n"
          ]
        },
        {
          "output_type": "stream",
          "name": "stderr",
          "text": [
            "WARNING:tensorflow:Can save best model only with val_loss available, skipping.\n"
          ]
        },
        {
          "output_type": "stream",
          "name": "stdout",
          "text": [
            "\b\b\b\b\b\b\b\b\b\b\b\b\b\b\b\b\b\b\b\b\b\b\b\b\b\b\b\b\b\b\b\b\b\b\b\b\b\b\b\b\b\b\b\b\b\b\b\b\b\b\b\b\b\b\b\b\b\b\b\b\b\b\b\b\b\b\b\b\b\b\b\b\b\b\b\b\b\b\b\b\r1/1 [==============================] - 0s 152ms/step - loss: 0.3968 - accuracy: 0.8661\n",
            "Epoch 870/1000\n",
            "1/1 [==============================] - 0s 33ms/step\n",
            "\n",
            "Validation Accuracy: 40.0 %\n"
          ]
        },
        {
          "output_type": "stream",
          "name": "stderr",
          "text": [
            "WARNING:tensorflow:Can save best model only with val_loss available, skipping.\n"
          ]
        },
        {
          "output_type": "stream",
          "name": "stdout",
          "text": [
            "\b\b\b\b\b\b\b\b\b\b\b\b\b\b\b\b\b\b\b\b\b\b\b\b\b\b\b\b\b\b\b\b\b\b\b\b\b\b\b\b\b\b\b\b\b\b\b\b\b\b\b\b\b\b\b\b\b\b\b\b\b\b\b\b\b\b\b\b\b\b\b\b\b\b\b\b\b\b\b\b\r1/1 [==============================] - 0s 171ms/step - loss: 0.3933 - accuracy: 0.8696\n",
            "Epoch 871/1000\n",
            "1/1 [==============================] - 0s 33ms/step\n",
            "\n",
            "Validation Accuracy: 40.55555555555556 %\n"
          ]
        },
        {
          "output_type": "stream",
          "name": "stderr",
          "text": [
            "WARNING:tensorflow:Can save best model only with val_loss available, skipping.\n"
          ]
        },
        {
          "output_type": "stream",
          "name": "stdout",
          "text": [
            "\b\b\b\b\b\b\b\b\b\b\b\b\b\b\b\b\b\b\b\b\b\b\b\b\b\b\b\b\b\b\b\b\b\b\b\b\b\b\b\b\b\b\b\b\b\b\b\b\b\b\b\b\b\b\b\b\b\b\b\b\b\b\b\b\b\b\b\b\b\b\b\b\b\b\b\b\b\b\b\b\r1/1 [==============================] - 0s 165ms/step - loss: 0.3962 - accuracy: 0.8657\n",
            "Epoch 872/1000\n",
            "1/1 [==============================] - 0s 36ms/step\n",
            "\n",
            "Validation Accuracy: 40.55555555555556 %\n"
          ]
        },
        {
          "output_type": "stream",
          "name": "stderr",
          "text": [
            "WARNING:tensorflow:Can save best model only with val_loss available, skipping.\n"
          ]
        },
        {
          "output_type": "stream",
          "name": "stdout",
          "text": [
            "\b\b\b\b\b\b\b\b\b\b\b\b\b\b\b\b\b\b\b\b\b\b\b\b\b\b\b\b\b\b\b\b\b\b\b\b\b\b\b\b\b\b\b\b\b\b\b\b\b\b\b\b\b\b\b\b\b\b\b\b\b\b\b\b\b\b\b\b\b\b\b\b\b\b\b\b\b\b\b\b\r1/1 [==============================] - 0s 166ms/step - loss: 0.3866 - accuracy: 0.8690\n",
            "Epoch 873/1000\n",
            "1/1 [==============================] - 0s 28ms/step\n",
            "\n",
            "Validation Accuracy: 40.0 %\n"
          ]
        },
        {
          "output_type": "stream",
          "name": "stderr",
          "text": [
            "WARNING:tensorflow:Can save best model only with val_loss available, skipping.\n"
          ]
        },
        {
          "output_type": "stream",
          "name": "stdout",
          "text": [
            "\b\b\b\b\b\b\b\b\b\b\b\b\b\b\b\b\b\b\b\b\b\b\b\b\b\b\b\b\b\b\b\b\b\b\b\b\b\b\b\b\b\b\b\b\b\b\b\b\b\b\b\b\b\b\b\b\b\b\b\b\b\b\b\b\b\b\b\b\b\b\b\b\b\b\b\b\b\b\b\b\r1/1 [==============================] - 0s 182ms/step - loss: 0.3928 - accuracy: 0.8679\n",
            "Epoch 874/1000\n",
            "1/1 [==============================] - 0s 30ms/step\n",
            "\n",
            "Validation Accuracy: 40.0 %\n"
          ]
        },
        {
          "output_type": "stream",
          "name": "stderr",
          "text": [
            "WARNING:tensorflow:Can save best model only with val_loss available, skipping.\n"
          ]
        },
        {
          "output_type": "stream",
          "name": "stdout",
          "text": [
            "\b\b\b\b\b\b\b\b\b\b\b\b\b\b\b\b\b\b\b\b\b\b\b\b\b\b\b\b\b\b\b\b\b\b\b\b\b\b\b\b\b\b\b\b\b\b\b\b\b\b\b\b\b\b\b\b\b\b\b\b\b\b\b\b\b\b\b\b\b\b\b\b\b\b\b\b\b\b\b\b\r1/1 [==============================] - 0s 175ms/step - loss: 0.3881 - accuracy: 0.8685\n",
            "Epoch 875/1000\n",
            "1/1 [==============================] - 0s 28ms/step\n",
            "\n",
            "Validation Accuracy: 40.0 %\n"
          ]
        },
        {
          "output_type": "stream",
          "name": "stderr",
          "text": [
            "WARNING:tensorflow:Can save best model only with val_loss available, skipping.\n"
          ]
        },
        {
          "output_type": "stream",
          "name": "stdout",
          "text": [
            "\b\b\b\b\b\b\b\b\b\b\b\b\b\b\b\b\b\b\b\b\b\b\b\b\b\b\b\b\b\b\b\b\b\b\b\b\b\b\b\b\b\b\b\b\b\b\b\b\b\b\b\b\b\b\b\b\b\b\b\b\b\b\b\b\b\b\b\b\b\b\b\b\b\b\b\b\b\b\b\b\r1/1 [==============================] - 0s 141ms/step - loss: 0.3934 - accuracy: 0.8674\n",
            "Epoch 876/1000\n",
            "1/1 [==============================] - 0s 30ms/step\n",
            "\n",
            "Validation Accuracy: 40.0 %\n"
          ]
        },
        {
          "output_type": "stream",
          "name": "stderr",
          "text": [
            "WARNING:tensorflow:Can save best model only with val_loss available, skipping.\n"
          ]
        },
        {
          "output_type": "stream",
          "name": "stdout",
          "text": [
            "\b\b\b\b\b\b\b\b\b\b\b\b\b\b\b\b\b\b\b\b\b\b\b\b\b\b\b\b\b\b\b\b\b\b\b\b\b\b\b\b\b\b\b\b\b\b\b\b\b\b\b\b\b\b\b\b\b\b\b\b\b\b\b\b\b\b\b\b\b\b\b\b\b\b\b\b\b\b\b\b\r1/1 [==============================] - 0s 156ms/step - loss: 0.3853 - accuracy: 0.8699\n",
            "Epoch 877/1000\n",
            "1/1 [==============================] - 0s 28ms/step\n",
            "\n",
            "Validation Accuracy: 40.0 %\n"
          ]
        },
        {
          "output_type": "stream",
          "name": "stderr",
          "text": [
            "WARNING:tensorflow:Can save best model only with val_loss available, skipping.\n"
          ]
        },
        {
          "output_type": "stream",
          "name": "stdout",
          "text": [
            "\b\b\b\b\b\b\b\b\b\b\b\b\b\b\b\b\b\b\b\b\b\b\b\b\b\b\b\b\b\b\b\b\b\b\b\b\b\b\b\b\b\b\b\b\b\b\b\b\b\b\b\b\b\b\b\b\b\b\b\b\b\b\b\b\b\b\b\b\b\b\b\b\b\b\b\b\b\b\b\b\r1/1 [==============================] - 0s 141ms/step - loss: 0.3925 - accuracy: 0.8661\n",
            "Epoch 878/1000\n",
            "1/1 [==============================] - 0s 28ms/step\n",
            "\n",
            "Validation Accuracy: 40.55555555555556 %\n"
          ]
        },
        {
          "output_type": "stream",
          "name": "stderr",
          "text": [
            "WARNING:tensorflow:Can save best model only with val_loss available, skipping.\n"
          ]
        },
        {
          "output_type": "stream",
          "name": "stdout",
          "text": [
            "\b\b\b\b\b\b\b\b\b\b\b\b\b\b\b\b\b\b\b\b\b\b\b\b\b\b\b\b\b\b\b\b\b\b\b\b\b\b\b\b\b\b\b\b\b\b\b\b\b\b\b\b\b\b\b\b\b\b\b\b\b\b\b\b\b\b\b\b\b\b\b\b\b\b\b\b\b\b\b\b\r1/1 [==============================] - 0s 142ms/step - loss: 0.3959 - accuracy: 0.8704\n",
            "Epoch 879/1000\n",
            "1/1 [==============================] - 0s 35ms/step\n",
            "\n",
            "Validation Accuracy: 40.55555555555556 %\n"
          ]
        },
        {
          "output_type": "stream",
          "name": "stderr",
          "text": [
            "WARNING:tensorflow:Can save best model only with val_loss available, skipping.\n"
          ]
        },
        {
          "output_type": "stream",
          "name": "stdout",
          "text": [
            "\b\b\b\b\b\b\b\b\b\b\b\b\b\b\b\b\b\b\b\b\b\b\b\b\b\b\b\b\b\b\b\b\b\b\b\b\b\b\b\b\b\b\b\b\b\b\b\b\b\b\b\b\b\b\b\b\b\b\b\b\b\b\b\b\b\b\b\b\b\b\b\b\b\b\b\b\b\b\b\b\r1/1 [==============================] - 0s 160ms/step - loss: 0.3813 - accuracy: 0.8738\n",
            "Epoch 880/1000\n",
            "1/1 [==============================] - 0s 29ms/step\n",
            "\n",
            "Validation Accuracy: 40.55555555555556 %\n"
          ]
        },
        {
          "output_type": "stream",
          "name": "stderr",
          "text": [
            "WARNING:tensorflow:Can save best model only with val_loss available, skipping.\n"
          ]
        },
        {
          "output_type": "stream",
          "name": "stdout",
          "text": [
            "\b\b\b\b\b\b\b\b\b\b\b\b\b\b\b\b\b\b\b\b\b\b\b\b\b\b\b\b\b\b\b\b\b\b\b\b\b\b\b\b\b\b\b\b\b\b\b\b\b\b\b\b\b\b\b\b\b\b\b\b\b\b\b\b\b\b\b\b\b\b\b\b\b\b\b\b\b\b\b\b\r1/1 [==============================] - 0s 140ms/step - loss: 0.3940 - accuracy: 0.8689\n",
            "Epoch 881/1000\n",
            "1/1 [==============================] - 0s 29ms/step\n",
            "\n",
            "Validation Accuracy: 40.0 %\n"
          ]
        },
        {
          "output_type": "stream",
          "name": "stderr",
          "text": [
            "WARNING:tensorflow:Can save best model only with val_loss available, skipping.\n"
          ]
        },
        {
          "output_type": "stream",
          "name": "stdout",
          "text": [
            "\b\b\b\b\b\b\b\b\b\b\b\b\b\b\b\b\b\b\b\b\b\b\b\b\b\b\b\b\b\b\b\b\b\b\b\b\b\b\b\b\b\b\b\b\b\b\b\b\b\b\b\b\b\b\b\b\b\b\b\b\b\b\b\b\b\b\b\b\b\b\b\b\b\b\b\b\b\b\b\b\r1/1 [==============================] - 0s 177ms/step - loss: 0.3879 - accuracy: 0.8699\n",
            "Epoch 882/1000\n",
            "1/1 [==============================] - 0s 29ms/step\n",
            "\n",
            "Validation Accuracy: 40.55555555555556 %\n"
          ]
        },
        {
          "output_type": "stream",
          "name": "stderr",
          "text": [
            "WARNING:tensorflow:Can save best model only with val_loss available, skipping.\n"
          ]
        },
        {
          "output_type": "stream",
          "name": "stdout",
          "text": [
            "\b\b\b\b\b\b\b\b\b\b\b\b\b\b\b\b\b\b\b\b\b\b\b\b\b\b\b\b\b\b\b\b\b\b\b\b\b\b\b\b\b\b\b\b\b\b\b\b\b\b\b\b\b\b\b\b\b\b\b\b\b\b\b\b\b\b\b\b\b\b\b\b\b\b\b\b\b\b\b\b\r1/1 [==============================] - 0s 169ms/step - loss: 0.3886 - accuracy: 0.8683\n",
            "Epoch 883/1000\n",
            "1/1 [==============================] - 0s 29ms/step\n",
            "\n",
            "Validation Accuracy: 40.55555555555556 %\n"
          ]
        },
        {
          "output_type": "stream",
          "name": "stderr",
          "text": [
            "WARNING:tensorflow:Can save best model only with val_loss available, skipping.\n"
          ]
        },
        {
          "output_type": "stream",
          "name": "stdout",
          "text": [
            "\b\b\b\b\b\b\b\b\b\b\b\b\b\b\b\b\b\b\b\b\b\b\b\b\b\b\b\b\b\b\b\b\b\b\b\b\b\b\b\b\b\b\b\b\b\b\b\b\b\b\b\b\b\b\b\b\b\b\b\b\b\b\b\b\b\b\b\b\b\b\b\b\b\b\b\b\b\b\b\b\r1/1 [==============================] - 0s 161ms/step - loss: 0.3967 - accuracy: 0.8669\n",
            "Epoch 884/1000\n",
            "1/1 [==============================] - 0s 33ms/step\n",
            "\n",
            "Validation Accuracy: 41.11111111111111 %\n"
          ]
        },
        {
          "output_type": "stream",
          "name": "stderr",
          "text": [
            "WARNING:tensorflow:Can save best model only with val_loss available, skipping.\n"
          ]
        },
        {
          "output_type": "stream",
          "name": "stdout",
          "text": [
            "\b\b\b\b\b\b\b\b\b\b\b\b\b\b\b\b\b\b\b\b\b\b\b\b\b\b\b\b\b\b\b\b\b\b\b\b\b\b\b\b\b\b\b\b\b\b\b\b\b\b\b\b\b\b\b\b\b\b\b\b\b\b\b\b\b\b\b\b\b\b\b\b\b\b\b\b\b\b\b\b\r1/1 [==============================] - 0s 153ms/step - loss: 0.3884 - accuracy: 0.8672\n",
            "Epoch 885/1000\n",
            "1/1 [==============================] - 0s 31ms/step\n",
            "\n",
            "Validation Accuracy: 39.44444444444444 %\n"
          ]
        },
        {
          "output_type": "stream",
          "name": "stderr",
          "text": [
            "WARNING:tensorflow:Can save best model only with val_loss available, skipping.\n"
          ]
        },
        {
          "output_type": "stream",
          "name": "stdout",
          "text": [
            "\b\b\b\b\b\b\b\b\b\b\b\b\b\b\b\b\b\b\b\b\b\b\b\b\b\b\b\b\b\b\b\b\b\b\b\b\b\b\b\b\b\b\b\b\b\b\b\b\b\b\b\b\b\b\b\b\b\b\b\b\b\b\b\b\b\b\b\b\b\b\b\b\b\b\b\b\b\b\b\b\r1/1 [==============================] - 0s 162ms/step - loss: 0.3910 - accuracy: 0.8689\n",
            "Epoch 886/1000\n",
            "1/1 [==============================] - 0s 34ms/step\n",
            "\n",
            "Validation Accuracy: 40.0 %\n"
          ]
        },
        {
          "output_type": "stream",
          "name": "stderr",
          "text": [
            "WARNING:tensorflow:Can save best model only with val_loss available, skipping.\n"
          ]
        },
        {
          "output_type": "stream",
          "name": "stdout",
          "text": [
            "\b\b\b\b\b\b\b\b\b\b\b\b\b\b\b\b\b\b\b\b\b\b\b\b\b\b\b\b\b\b\b\b\b\b\b\b\b\b\b\b\b\b\b\b\b\b\b\b\b\b\b\b\b\b\b\b\b\b\b\b\b\b\b\b\b\b\b\b\b\b\b\b\b\b\b\b\b\b\b\b\r1/1 [==============================] - 0s 155ms/step - loss: 0.3862 - accuracy: 0.8734\n",
            "Epoch 887/1000\n",
            "1/1 [==============================] - 0s 27ms/step\n",
            "\n",
            "Validation Accuracy: 40.0 %\n"
          ]
        },
        {
          "output_type": "stream",
          "name": "stderr",
          "text": [
            "WARNING:tensorflow:Can save best model only with val_loss available, skipping.\n"
          ]
        },
        {
          "output_type": "stream",
          "name": "stdout",
          "text": [
            "\b\b\b\b\b\b\b\b\b\b\b\b\b\b\b\b\b\b\b\b\b\b\b\b\b\b\b\b\b\b\b\b\b\b\b\b\b\b\b\b\b\b\b\b\b\b\b\b\b\b\b\b\b\b\b\b\b\b\b\b\b\b\b\b\b\b\b\b\b\b\b\b\b\b\b\b\b\b\b\b\r1/1 [==============================] - 0s 133ms/step - loss: 0.3791 - accuracy: 0.8706\n",
            "Epoch 888/1000\n",
            "1/1 [==============================] - 0s 29ms/step\n",
            "\n",
            "Validation Accuracy: 41.11111111111111 %\n"
          ]
        },
        {
          "output_type": "stream",
          "name": "stderr",
          "text": [
            "WARNING:tensorflow:Can save best model only with val_loss available, skipping.\n"
          ]
        },
        {
          "output_type": "stream",
          "name": "stdout",
          "text": [
            "\b\b\b\b\b\b\b\b\b\b\b\b\b\b\b\b\b\b\b\b\b\b\b\b\b\b\b\b\b\b\b\b\b\b\b\b\b\b\b\b\b\b\b\b\b\b\b\b\b\b\b\b\b\b\b\b\b\b\b\b\b\b\b\b\b\b\b\b\b\b\b\b\b\b\b\b\b\b\b\b\r1/1 [==============================] - 0s 171ms/step - loss: 0.3792 - accuracy: 0.8742\n",
            "Epoch 889/1000\n",
            "1/1 [==============================] - 0s 37ms/step\n",
            "\n",
            "Validation Accuracy: 40.55555555555556 %\n"
          ]
        },
        {
          "output_type": "stream",
          "name": "stderr",
          "text": [
            "WARNING:tensorflow:Can save best model only with val_loss available, skipping.\n"
          ]
        },
        {
          "output_type": "stream",
          "name": "stdout",
          "text": [
            "\b\b\b\b\b\b\b\b\b\b\b\b\b\b\b\b\b\b\b\b\b\b\b\b\b\b\b\b\b\b\b\b\b\b\b\b\b\b\b\b\b\b\b\b\b\b\b\b\b\b\b\b\b\b\b\b\b\b\b\b\b\b\b\b\b\b\b\b\b\b\b\b\b\b\b\b\b\b\b\b\r1/1 [==============================] - 0s 171ms/step - loss: 0.3855 - accuracy: 0.8714\n",
            "Epoch 890/1000\n",
            "1/1 [==============================] - 0s 31ms/step\n",
            "\n",
            "Validation Accuracy: 39.44444444444444 %\n"
          ]
        },
        {
          "output_type": "stream",
          "name": "stderr",
          "text": [
            "WARNING:tensorflow:Can save best model only with val_loss available, skipping.\n"
          ]
        },
        {
          "output_type": "stream",
          "name": "stdout",
          "text": [
            "\b\b\b\b\b\b\b\b\b\b\b\b\b\b\b\b\b\b\b\b\b\b\b\b\b\b\b\b\b\b\b\b\b\b\b\b\b\b\b\b\b\b\b\b\b\b\b\b\b\b\b\b\b\b\b\b\b\b\b\b\b\b\b\b\b\b\b\b\b\b\b\b\b\b\b\b\b\b\b\b\r1/1 [==============================] - 0s 148ms/step - loss: 0.3932 - accuracy: 0.8672\n",
            "Epoch 891/1000\n",
            "1/1 [==============================] - 0s 34ms/step\n",
            "\n",
            "Validation Accuracy: 40.0 %\n"
          ]
        },
        {
          "output_type": "stream",
          "name": "stderr",
          "text": [
            "WARNING:tensorflow:Can save best model only with val_loss available, skipping.\n"
          ]
        },
        {
          "output_type": "stream",
          "name": "stdout",
          "text": [
            "\b\b\b\b\b\b\b\b\b\b\b\b\b\b\b\b\b\b\b\b\b\b\b\b\b\b\b\b\b\b\b\b\b\b\b\b\b\b\b\b\b\b\b\b\b\b\b\b\b\b\b\b\b\b\b\b\b\b\b\b\b\b\b\b\b\b\b\b\b\b\b\b\b\b\b\b\b\b\b\b\r1/1 [==============================] - 0s 158ms/step - loss: 0.3927 - accuracy: 0.8706\n",
            "Epoch 892/1000\n",
            "1/1 [==============================] - 0s 28ms/step\n",
            "\n",
            "Validation Accuracy: 41.11111111111111 %\n"
          ]
        },
        {
          "output_type": "stream",
          "name": "stderr",
          "text": [
            "WARNING:tensorflow:Can save best model only with val_loss available, skipping.\n"
          ]
        },
        {
          "output_type": "stream",
          "name": "stdout",
          "text": [
            "\b\b\b\b\b\b\b\b\b\b\b\b\b\b\b\b\b\b\b\b\b\b\b\b\b\b\b\b\b\b\b\b\b\b\b\b\b\b\b\b\b\b\b\b\b\b\b\b\b\b\b\b\b\b\b\b\b\b\b\b\b\b\b\b\b\b\b\b\b\b\b\b\b\b\b\b\b\b\b\b\r1/1 [==============================] - 0s 164ms/step - loss: 0.3907 - accuracy: 0.8703\n",
            "Epoch 893/1000\n",
            "1/1 [==============================] - 0s 29ms/step\n",
            "\n",
            "Validation Accuracy: 41.11111111111111 %\n"
          ]
        },
        {
          "output_type": "stream",
          "name": "stderr",
          "text": [
            "WARNING:tensorflow:Can save best model only with val_loss available, skipping.\n"
          ]
        },
        {
          "output_type": "stream",
          "name": "stdout",
          "text": [
            "\b\b\b\b\b\b\b\b\b\b\b\b\b\b\b\b\b\b\b\b\b\b\b\b\b\b\b\b\b\b\b\b\b\b\b\b\b\b\b\b\b\b\b\b\b\b\b\b\b\b\b\b\b\b\b\b\b\b\b\b\b\b\b\b\b\b\b\b\b\b\b\b\b\b\b\b\b\b\b\b\r1/1 [==============================] - 0s 162ms/step - loss: 0.3862 - accuracy: 0.8718\n",
            "Epoch 894/1000\n",
            "1/1 [==============================] - 0s 29ms/step\n",
            "\n",
            "Validation Accuracy: 41.11111111111111 %\n"
          ]
        },
        {
          "output_type": "stream",
          "name": "stderr",
          "text": [
            "WARNING:tensorflow:Can save best model only with val_loss available, skipping.\n"
          ]
        },
        {
          "output_type": "stream",
          "name": "stdout",
          "text": [
            "\b\b\b\b\b\b\b\b\b\b\b\b\b\b\b\b\b\b\b\b\b\b\b\b\b\b\b\b\b\b\b\b\b\b\b\b\b\b\b\b\b\b\b\b\b\b\b\b\b\b\b\b\b\b\b\b\b\b\b\b\b\b\b\b\b\b\b\b\b\b\b\b\b\b\b\b\b\b\b\b\r1/1 [==============================] - 0s 166ms/step - loss: 0.3914 - accuracy: 0.8674\n",
            "Epoch 895/1000\n",
            "1/1 [==============================] - 0s 30ms/step\n",
            "\n",
            "Validation Accuracy: 41.66666666666667 %\n"
          ]
        },
        {
          "output_type": "stream",
          "name": "stderr",
          "text": [
            "WARNING:tensorflow:Can save best model only with val_loss available, skipping.\n"
          ]
        },
        {
          "output_type": "stream",
          "name": "stdout",
          "text": [
            "\b\b\b\b\b\b\b\b\b\b\b\b\b\b\b\b\b\b\b\b\b\b\b\b\b\b\b\b\b\b\b\b\b\b\b\b\b\b\b\b\b\b\b\b\b\b\b\b\b\b\b\b\b\b\b\b\b\b\b\b\b\b\b\b\b\b\b\b\b\b\b\b\b\b\b\b\b\b\b\b\r1/1 [==============================] - 0s 160ms/step - loss: 0.3884 - accuracy: 0.8686\n",
            "Epoch 896/1000\n",
            "1/1 [==============================] - 0s 32ms/step\n",
            "\n",
            "Validation Accuracy: 41.66666666666667 %\n"
          ]
        },
        {
          "output_type": "stream",
          "name": "stderr",
          "text": [
            "WARNING:tensorflow:Can save best model only with val_loss available, skipping.\n"
          ]
        },
        {
          "output_type": "stream",
          "name": "stdout",
          "text": [
            "\b\b\b\b\b\b\b\b\b\b\b\b\b\b\b\b\b\b\b\b\b\b\b\b\b\b\b\b\b\b\b\b\b\b\b\b\b\b\b\b\b\b\b\b\b\b\b\b\b\b\b\b\b\b\b\b\b\b\b\b\b\b\b\b\b\b\b\b\b\b\b\b\b\b\b\b\b\b\b\b\r1/1 [==============================] - 0s 158ms/step - loss: 0.3843 - accuracy: 0.8693\n",
            "Epoch 897/1000\n",
            "1/1 [==============================] - 0s 28ms/step\n",
            "\n",
            "Validation Accuracy: 41.66666666666667 %\n"
          ]
        },
        {
          "output_type": "stream",
          "name": "stderr",
          "text": [
            "WARNING:tensorflow:Can save best model only with val_loss available, skipping.\n"
          ]
        },
        {
          "output_type": "stream",
          "name": "stdout",
          "text": [
            "\b\b\b\b\b\b\b\b\b\b\b\b\b\b\b\b\b\b\b\b\b\b\b\b\b\b\b\b\b\b\b\b\b\b\b\b\b\b\b\b\b\b\b\b\b\b\b\b\b\b\b\b\b\b\b\b\b\b\b\b\b\b\b\b\b\b\b\b\b\b\b\b\b\b\b\b\b\b\b\b\r1/1 [==============================] - 0s 150ms/step - loss: 0.3862 - accuracy: 0.8658\n",
            "Epoch 898/1000\n",
            "1/1 [==============================] - 0s 36ms/step\n",
            "\n",
            "Validation Accuracy: 41.66666666666667 %\n"
          ]
        },
        {
          "output_type": "stream",
          "name": "stderr",
          "text": [
            "WARNING:tensorflow:Can save best model only with val_loss available, skipping.\n"
          ]
        },
        {
          "output_type": "stream",
          "name": "stdout",
          "text": [
            "\b\b\b\b\b\b\b\b\b\b\b\b\b\b\b\b\b\b\b\b\b\b\b\b\b\b\b\b\b\b\b\b\b\b\b\b\b\b\b\b\b\b\b\b\b\b\b\b\b\b\b\b\b\b\b\b\b\b\b\b\b\b\b\b\b\b\b\b\b\b\b\b\b\b\b\b\b\b\b\b\r1/1 [==============================] - 0s 172ms/step - loss: 0.3868 - accuracy: 0.8704\n",
            "Epoch 899/1000\n",
            "1/1 [==============================] - 0s 34ms/step\n",
            "\n",
            "Validation Accuracy: 41.66666666666667 %\n"
          ]
        },
        {
          "output_type": "stream",
          "name": "stderr",
          "text": [
            "WARNING:tensorflow:Can save best model only with val_loss available, skipping.\n"
          ]
        },
        {
          "output_type": "stream",
          "name": "stdout",
          "text": [
            "\b\b\b\b\b\b\b\b\b\b\b\b\b\b\b\b\b\b\b\b\b\b\b\b\b\b\b\b\b\b\b\b\b\b\b\b\b\b\b\b\b\b\b\b\b\b\b\b\b\b\b\b\b\b\b\b\b\b\b\b\b\b\b\b\b\b\b\b\b\b\b\b\b\b\b\b\b\b\b\b\r1/1 [==============================] - 0s 161ms/step - loss: 0.3895 - accuracy: 0.8703\n",
            "Epoch 900/1000\n",
            "1/1 [==============================] - 0s 36ms/step\n",
            "\n",
            "Validation Accuracy: 41.11111111111111 %\n"
          ]
        },
        {
          "output_type": "stream",
          "name": "stderr",
          "text": [
            "WARNING:tensorflow:Can save best model only with val_loss available, skipping.\n"
          ]
        },
        {
          "output_type": "stream",
          "name": "stdout",
          "text": [
            "\b\b\b\b\b\b\b\b\b\b\b\b\b\b\b\b\b\b\b\b\b\b\b\b\b\b\b\b\b\b\b\b\b\b\b\b\b\b\b\b\b\b\b\b\b\b\b\b\b\b\b\b\b\b\b\b\b\b\b\b\b\b\b\b\b\b\b\b\b\b\b\b\b\b\b\b\b\b\b\b\r1/1 [==============================] - 0s 213ms/step - loss: 0.3818 - accuracy: 0.8723\n",
            "Epoch 901/1000\n",
            "1/1 [==============================] - 0s 27ms/step\n",
            "\n",
            "Validation Accuracy: 41.66666666666667 %\n"
          ]
        },
        {
          "output_type": "stream",
          "name": "stderr",
          "text": [
            "WARNING:tensorflow:Can save best model only with val_loss available, skipping.\n"
          ]
        },
        {
          "output_type": "stream",
          "name": "stdout",
          "text": [
            "\b\b\b\b\b\b\b\b\b\b\b\b\b\b\b\b\b\b\b\b\b\b\b\b\b\b\b\b\b\b\b\b\b\b\b\b\b\b\b\b\b\b\b\b\b\b\b\b\b\b\b\b\b\b\b\b\b\b\b\b\b\b\b\b\b\b\b\b\b\b\b\b\b\b\b\b\b\b\b\b\r1/1 [==============================] - 0s 158ms/step - loss: 0.3780 - accuracy: 0.8746\n",
            "Epoch 902/1000\n",
            "1/1 [==============================] - 0s 29ms/step\n",
            "\n",
            "Validation Accuracy: 41.11111111111111 %\n"
          ]
        },
        {
          "output_type": "stream",
          "name": "stderr",
          "text": [
            "WARNING:tensorflow:Can save best model only with val_loss available, skipping.\n"
          ]
        },
        {
          "output_type": "stream",
          "name": "stdout",
          "text": [
            "\b\b\b\b\b\b\b\b\b\b\b\b\b\b\b\b\b\b\b\b\b\b\b\b\b\b\b\b\b\b\b\b\b\b\b\b\b\b\b\b\b\b\b\b\b\b\b\b\b\b\b\b\b\b\b\b\b\b\b\b\b\b\b\b\b\b\b\b\b\b\b\b\b\b\b\b\b\b\b\b\r1/1 [==============================] - 0s 153ms/step - loss: 0.3825 - accuracy: 0.8693\n",
            "Epoch 903/1000\n",
            "1/1 [==============================] - 0s 30ms/step\n",
            "\n",
            "Validation Accuracy: 41.11111111111111 %\n"
          ]
        },
        {
          "output_type": "stream",
          "name": "stderr",
          "text": [
            "WARNING:tensorflow:Can save best model only with val_loss available, skipping.\n"
          ]
        },
        {
          "output_type": "stream",
          "name": "stdout",
          "text": [
            "\b\b\b\b\b\b\b\b\b\b\b\b\b\b\b\b\b\b\b\b\b\b\b\b\b\b\b\b\b\b\b\b\b\b\b\b\b\b\b\b\b\b\b\b\b\b\b\b\b\b\b\b\b\b\b\b\b\b\b\b\b\b\b\b\b\b\b\b\b\b\b\b\b\b\b\b\b\b\b\b\r1/1 [==============================] - 0s 186ms/step - loss: 0.3814 - accuracy: 0.8728\n",
            "Epoch 904/1000\n",
            "1/1 [==============================] - 0s 37ms/step\n",
            "\n",
            "Validation Accuracy: 40.0 %\n"
          ]
        },
        {
          "output_type": "stream",
          "name": "stderr",
          "text": [
            "WARNING:tensorflow:Can save best model only with val_loss available, skipping.\n"
          ]
        },
        {
          "output_type": "stream",
          "name": "stdout",
          "text": [
            "\b\b\b\b\b\b\b\b\b\b\b\b\b\b\b\b\b\b\b\b\b\b\b\b\b\b\b\b\b\b\b\b\b\b\b\b\b\b\b\b\b\b\b\b\b\b\b\b\b\b\b\b\b\b\b\b\b\b\b\b\b\b\b\b\b\b\b\b\b\b\b\b\b\b\b\b\b\b\b\b\r1/1 [==============================] - 0s 174ms/step - loss: 0.3848 - accuracy: 0.8695\n",
            "Epoch 905/1000\n",
            "1/1 [==============================] - 0s 31ms/step\n",
            "\n",
            "Validation Accuracy: 40.0 %\n"
          ]
        },
        {
          "output_type": "stream",
          "name": "stderr",
          "text": [
            "WARNING:tensorflow:Can save best model only with val_loss available, skipping.\n"
          ]
        },
        {
          "output_type": "stream",
          "name": "stdout",
          "text": [
            "\b\b\b\b\b\b\b\b\b\b\b\b\b\b\b\b\b\b\b\b\b\b\b\b\b\b\b\b\b\b\b\b\b\b\b\b\b\b\b\b\b\b\b\b\b\b\b\b\b\b\b\b\b\b\b\b\b\b\b\b\b\b\b\b\b\b\b\b\b\b\b\b\b\b\b\b\b\b\b\b\r1/1 [==============================] - 0s 159ms/step - loss: 0.3879 - accuracy: 0.8704\n",
            "Epoch 906/1000\n",
            "1/1 [==============================] - 0s 28ms/step\n",
            "\n",
            "Validation Accuracy: 39.44444444444444 %\n"
          ]
        },
        {
          "output_type": "stream",
          "name": "stderr",
          "text": [
            "WARNING:tensorflow:Can save best model only with val_loss available, skipping.\n"
          ]
        },
        {
          "output_type": "stream",
          "name": "stdout",
          "text": [
            "\b\b\b\b\b\b\b\b\b\b\b\b\b\b\b\b\b\b\b\b\b\b\b\b\b\b\b\b\b\b\b\b\b\b\b\b\b\b\b\b\b\b\b\b\b\b\b\b\b\b\b\b\b\b\b\b\b\b\b\b\b\b\b\b\b\b\b\b\b\b\b\b\b\b\b\b\b\b\b\b\r1/1 [==============================] - 0s 173ms/step - loss: 0.3902 - accuracy: 0.8696\n",
            "Epoch 907/1000\n",
            "1/1 [==============================] - 0s 30ms/step\n",
            "\n",
            "Validation Accuracy: 40.0 %\n"
          ]
        },
        {
          "output_type": "stream",
          "name": "stderr",
          "text": [
            "WARNING:tensorflow:Can save best model only with val_loss available, skipping.\n"
          ]
        },
        {
          "output_type": "stream",
          "name": "stdout",
          "text": [
            "\b\b\b\b\b\b\b\b\b\b\b\b\b\b\b\b\b\b\b\b\b\b\b\b\b\b\b\b\b\b\b\b\b\b\b\b\b\b\b\b\b\b\b\b\b\b\b\b\b\b\b\b\b\b\b\b\b\b\b\b\b\b\b\b\b\b\b\b\b\b\b\b\b\b\b\b\b\b\b\b\r1/1 [==============================] - 0s 155ms/step - loss: 0.3856 - accuracy: 0.8711\n",
            "Epoch 908/1000\n",
            "1/1 [==============================] - 0s 43ms/step\n",
            "\n",
            "Validation Accuracy: 40.0 %\n"
          ]
        },
        {
          "output_type": "stream",
          "name": "stderr",
          "text": [
            "WARNING:tensorflow:Can save best model only with val_loss available, skipping.\n"
          ]
        },
        {
          "output_type": "stream",
          "name": "stdout",
          "text": [
            "\b\b\b\b\b\b\b\b\b\b\b\b\b\b\b\b\b\b\b\b\b\b\b\b\b\b\b\b\b\b\b\b\b\b\b\b\b\b\b\b\b\b\b\b\b\b\b\b\b\b\b\b\b\b\b\b\b\b\b\b\b\b\b\b\b\b\b\b\b\b\b\b\b\b\b\b\b\b\b\b\r1/1 [==============================] - 0s 169ms/step - loss: 0.3874 - accuracy: 0.8703\n",
            "Epoch 909/1000\n",
            "1/1 [==============================] - 0s 37ms/step\n",
            "\n",
            "Validation Accuracy: 40.0 %\n"
          ]
        },
        {
          "output_type": "stream",
          "name": "stderr",
          "text": [
            "WARNING:tensorflow:Can save best model only with val_loss available, skipping.\n"
          ]
        },
        {
          "output_type": "stream",
          "name": "stdout",
          "text": [
            "\b\b\b\b\b\b\b\b\b\b\b\b\b\b\b\b\b\b\b\b\b\b\b\b\b\b\b\b\b\b\b\b\b\b\b\b\b\b\b\b\b\b\b\b\b\b\b\b\b\b\b\b\b\b\b\b\b\b\b\b\b\b\b\b\b\b\b\b\b\b\b\b\b\b\b\b\b\b\b\b\r1/1 [==============================] - 0s 176ms/step - loss: 0.3768 - accuracy: 0.8725\n",
            "Epoch 910/1000\n",
            "1/1 [==============================] - 0s 29ms/step\n",
            "\n",
            "Validation Accuracy: 40.0 %\n"
          ]
        },
        {
          "output_type": "stream",
          "name": "stderr",
          "text": [
            "WARNING:tensorflow:Can save best model only with val_loss available, skipping.\n"
          ]
        },
        {
          "output_type": "stream",
          "name": "stdout",
          "text": [
            "\b\b\b\b\b\b\b\b\b\b\b\b\b\b\b\b\b\b\b\b\b\b\b\b\b\b\b\b\b\b\b\b\b\b\b\b\b\b\b\b\b\b\b\b\b\b\b\b\b\b\b\b\b\b\b\b\b\b\b\b\b\b\b\b\b\b\b\b\b\b\b\b\b\b\b\b\b\b\b\b\r1/1 [==============================] - 0s 168ms/step - loss: 0.3803 - accuracy: 0.8710\n",
            "Epoch 911/1000\n",
            "1/1 [==============================] - 0s 30ms/step\n",
            "\n",
            "Validation Accuracy: 41.11111111111111 %\n"
          ]
        },
        {
          "output_type": "stream",
          "name": "stderr",
          "text": [
            "WARNING:tensorflow:Can save best model only with val_loss available, skipping.\n"
          ]
        },
        {
          "output_type": "stream",
          "name": "stdout",
          "text": [
            "\b\b\b\b\b\b\b\b\b\b\b\b\b\b\b\b\b\b\b\b\b\b\b\b\b\b\b\b\b\b\b\b\b\b\b\b\b\b\b\b\b\b\b\b\b\b\b\b\b\b\b\b\b\b\b\b\b\b\b\b\b\b\b\b\b\b\b\b\b\b\b\b\b\b\b\b\b\b\b\b\r1/1 [==============================] - 0s 168ms/step - loss: 0.3883 - accuracy: 0.8679\n",
            "Epoch 912/1000\n",
            "1/1 [==============================] - 0s 35ms/step\n",
            "\n",
            "Validation Accuracy: 41.11111111111111 %\n"
          ]
        },
        {
          "output_type": "stream",
          "name": "stderr",
          "text": [
            "WARNING:tensorflow:Can save best model only with val_loss available, skipping.\n"
          ]
        },
        {
          "output_type": "stream",
          "name": "stdout",
          "text": [
            "\b\b\b\b\b\b\b\b\b\b\b\b\b\b\b\b\b\b\b\b\b\b\b\b\b\b\b\b\b\b\b\b\b\b\b\b\b\b\b\b\b\b\b\b\b\b\b\b\b\b\b\b\b\b\b\b\b\b\b\b\b\b\b\b\b\b\b\b\b\b\b\b\b\b\b\b\b\b\b\b\r1/1 [==============================] - 0s 171ms/step - loss: 0.3855 - accuracy: 0.8692\n",
            "Epoch 913/1000\n",
            "1/1 [==============================] - 0s 33ms/step\n",
            "\n",
            "Validation Accuracy: 41.11111111111111 %\n"
          ]
        },
        {
          "output_type": "stream",
          "name": "stderr",
          "text": [
            "WARNING:tensorflow:Can save best model only with val_loss available, skipping.\n"
          ]
        },
        {
          "output_type": "stream",
          "name": "stdout",
          "text": [
            "\b\b\b\b\b\b\b\b\b\b\b\b\b\b\b\b\b\b\b\b\b\b\b\b\b\b\b\b\b\b\b\b\b\b\b\b\b\b\b\b\b\b\b\b\b\b\b\b\b\b\b\b\b\b\b\b\b\b\b\b\b\b\b\b\b\b\b\b\b\b\b\b\b\b\b\b\b\b\b\b\r1/1 [==============================] - 0s 189ms/step - loss: 0.3824 - accuracy: 0.8714\n",
            "Epoch 914/1000\n",
            "1/1 [==============================] - 0s 32ms/step\n",
            "\n",
            "Validation Accuracy: 40.55555555555556 %\n"
          ]
        },
        {
          "output_type": "stream",
          "name": "stderr",
          "text": [
            "WARNING:tensorflow:Can save best model only with val_loss available, skipping.\n"
          ]
        },
        {
          "output_type": "stream",
          "name": "stdout",
          "text": [
            "\b\b\b\b\b\b\b\b\b\b\b\b\b\b\b\b\b\b\b\b\b\b\b\b\b\b\b\b\b\b\b\b\b\b\b\b\b\b\b\b\b\b\b\b\b\b\b\b\b\b\b\b\b\b\b\b\b\b\b\b\b\b\b\b\b\b\b\b\b\b\b\b\b\b\b\b\b\b\b\b\r1/1 [==============================] - 0s 162ms/step - loss: 0.3836 - accuracy: 0.8713\n",
            "Epoch 915/1000\n",
            "1/1 [==============================] - 0s 29ms/step\n",
            "\n",
            "Validation Accuracy: 41.11111111111111 %\n"
          ]
        },
        {
          "output_type": "stream",
          "name": "stderr",
          "text": [
            "WARNING:tensorflow:Can save best model only with val_loss available, skipping.\n"
          ]
        },
        {
          "output_type": "stream",
          "name": "stdout",
          "text": [
            "\b\b\b\b\b\b\b\b\b\b\b\b\b\b\b\b\b\b\b\b\b\b\b\b\b\b\b\b\b\b\b\b\b\b\b\b\b\b\b\b\b\b\b\b\b\b\b\b\b\b\b\b\b\b\b\b\b\b\b\b\b\b\b\b\b\b\b\b\b\b\b\b\b\b\b\b\b\b\b\b\r1/1 [==============================] - 0s 171ms/step - loss: 0.3819 - accuracy: 0.8690\n",
            "Epoch 916/1000\n",
            "1/1 [==============================] - 0s 29ms/step\n",
            "\n",
            "Validation Accuracy: 41.11111111111111 %\n"
          ]
        },
        {
          "output_type": "stream",
          "name": "stderr",
          "text": [
            "WARNING:tensorflow:Can save best model only with val_loss available, skipping.\n"
          ]
        },
        {
          "output_type": "stream",
          "name": "stdout",
          "text": [
            "\b\b\b\b\b\b\b\b\b\b\b\b\b\b\b\b\b\b\b\b\b\b\b\b\b\b\b\b\b\b\b\b\b\b\b\b\b\b\b\b\b\b\b\b\b\b\b\b\b\b\b\b\b\b\b\b\b\b\b\b\b\b\b\b\b\b\b\b\b\b\b\b\b\b\b\b\b\b\b\b\r1/1 [==============================] - 0s 142ms/step - loss: 0.3848 - accuracy: 0.8738\n",
            "Epoch 917/1000\n",
            "1/1 [==============================] - 0s 28ms/step\n",
            "\n",
            "Validation Accuracy: 41.11111111111111 %\n"
          ]
        },
        {
          "output_type": "stream",
          "name": "stderr",
          "text": [
            "WARNING:tensorflow:Can save best model only with val_loss available, skipping.\n"
          ]
        },
        {
          "output_type": "stream",
          "name": "stdout",
          "text": [
            "\b\b\b\b\b\b\b\b\b\b\b\b\b\b\b\b\b\b\b\b\b\b\b\b\b\b\b\b\b\b\b\b\b\b\b\b\b\b\b\b\b\b\b\b\b\b\b\b\b\b\b\b\b\b\b\b\b\b\b\b\b\b\b\b\b\b\b\b\b\b\b\b\b\b\b\b\b\b\b\b\r1/1 [==============================] - 0s 141ms/step - loss: 0.3824 - accuracy: 0.8711\n",
            "Epoch 918/1000\n",
            "1/1 [==============================] - 0s 35ms/step\n",
            "\n",
            "Validation Accuracy: 40.55555555555556 %\n"
          ]
        },
        {
          "output_type": "stream",
          "name": "stderr",
          "text": [
            "WARNING:tensorflow:Can save best model only with val_loss available, skipping.\n"
          ]
        },
        {
          "output_type": "stream",
          "name": "stdout",
          "text": [
            "\b\b\b\b\b\b\b\b\b\b\b\b\b\b\b\b\b\b\b\b\b\b\b\b\b\b\b\b\b\b\b\b\b\b\b\b\b\b\b\b\b\b\b\b\b\b\b\b\b\b\b\b\b\b\b\b\b\b\b\b\b\b\b\b\b\b\b\b\b\b\b\b\b\b\b\b\b\b\b\b\r1/1 [==============================] - 0s 160ms/step - loss: 0.3865 - accuracy: 0.8713\n",
            "Epoch 919/1000\n",
            "1/1 [==============================] - 0s 29ms/step\n",
            "\n",
            "Validation Accuracy: 39.44444444444444 %\n"
          ]
        },
        {
          "output_type": "stream",
          "name": "stderr",
          "text": [
            "WARNING:tensorflow:Can save best model only with val_loss available, skipping.\n"
          ]
        },
        {
          "output_type": "stream",
          "name": "stdout",
          "text": [
            "\b\b\b\b\b\b\b\b\b\b\b\b\b\b\b\b\b\b\b\b\b\b\b\b\b\b\b\b\b\b\b\b\b\b\b\b\b\b\b\b\b\b\b\b\b\b\b\b\b\b\b\b\b\b\b\b\b\b\b\b\b\b\b\b\b\b\b\b\b\b\b\b\b\b\b\b\b\b\b\b\r1/1 [==============================] - 0s 147ms/step - loss: 0.3829 - accuracy: 0.8739\n",
            "Epoch 920/1000\n",
            "1/1 [==============================] - 0s 31ms/step\n",
            "\n",
            "Validation Accuracy: 40.55555555555556 %\n"
          ]
        },
        {
          "output_type": "stream",
          "name": "stderr",
          "text": [
            "WARNING:tensorflow:Can save best model only with val_loss available, skipping.\n"
          ]
        },
        {
          "output_type": "stream",
          "name": "stdout",
          "text": [
            "\b\b\b\b\b\b\b\b\b\b\b\b\b\b\b\b\b\b\b\b\b\b\b\b\b\b\b\b\b\b\b\b\b\b\b\b\b\b\b\b\b\b\b\b\b\b\b\b\b\b\b\b\b\b\b\b\b\b\b\b\b\b\b\b\b\b\b\b\b\b\b\b\b\b\b\b\b\b\b\b\r1/1 [==============================] - 0s 170ms/step - loss: 0.3787 - accuracy: 0.8728\n",
            "Epoch 921/1000\n",
            "1/1 [==============================] - 0s 29ms/step\n",
            "\n",
            "Validation Accuracy: 41.11111111111111 %\n"
          ]
        },
        {
          "output_type": "stream",
          "name": "stderr",
          "text": [
            "WARNING:tensorflow:Can save best model only with val_loss available, skipping.\n"
          ]
        },
        {
          "output_type": "stream",
          "name": "stdout",
          "text": [
            "\b\b\b\b\b\b\b\b\b\b\b\b\b\b\b\b\b\b\b\b\b\b\b\b\b\b\b\b\b\b\b\b\b\b\b\b\b\b\b\b\b\b\b\b\b\b\b\b\b\b\b\b\b\b\b\b\b\b\b\b\b\b\b\b\b\b\b\b\b\b\b\b\b\b\b\b\b\b\b\b\r1/1 [==============================] - 0s 149ms/step - loss: 0.3785 - accuracy: 0.8731\n",
            "Epoch 922/1000\n",
            "1/1 [==============================] - 0s 34ms/step\n",
            "\n",
            "Validation Accuracy: 41.66666666666667 %\n"
          ]
        },
        {
          "output_type": "stream",
          "name": "stderr",
          "text": [
            "WARNING:tensorflow:Can save best model only with val_loss available, skipping.\n"
          ]
        },
        {
          "output_type": "stream",
          "name": "stdout",
          "text": [
            "\b\b\b\b\b\b\b\b\b\b\b\b\b\b\b\b\b\b\b\b\b\b\b\b\b\b\b\b\b\b\b\b\b\b\b\b\b\b\b\b\b\b\b\b\b\b\b\b\b\b\b\b\b\b\b\b\b\b\b\b\b\b\b\b\b\b\b\b\b\b\b\b\b\b\b\b\b\b\b\b\r1/1 [==============================] - 0s 167ms/step - loss: 0.3838 - accuracy: 0.8737\n",
            "Epoch 923/1000\n",
            "1/1 [==============================] - 0s 32ms/step\n",
            "\n",
            "Validation Accuracy: 41.66666666666667 %\n"
          ]
        },
        {
          "output_type": "stream",
          "name": "stderr",
          "text": [
            "WARNING:tensorflow:Can save best model only with val_loss available, skipping.\n"
          ]
        },
        {
          "output_type": "stream",
          "name": "stdout",
          "text": [
            "\b\b\b\b\b\b\b\b\b\b\b\b\b\b\b\b\b\b\b\b\b\b\b\b\b\b\b\b\b\b\b\b\b\b\b\b\b\b\b\b\b\b\b\b\b\b\b\b\b\b\b\b\b\b\b\b\b\b\b\b\b\b\b\b\b\b\b\b\b\b\b\b\b\b\b\b\b\b\b\b\r1/1 [==============================] - 0s 184ms/step - loss: 0.3850 - accuracy: 0.8696\n",
            "Epoch 924/1000\n",
            "1/1 [==============================] - 0s 30ms/step\n",
            "\n",
            "Validation Accuracy: 41.11111111111111 %\n"
          ]
        },
        {
          "output_type": "stream",
          "name": "stderr",
          "text": [
            "WARNING:tensorflow:Can save best model only with val_loss available, skipping.\n"
          ]
        },
        {
          "output_type": "stream",
          "name": "stdout",
          "text": [
            "\b\b\b\b\b\b\b\b\b\b\b\b\b\b\b\b\b\b\b\b\b\b\b\b\b\b\b\b\b\b\b\b\b\b\b\b\b\b\b\b\b\b\b\b\b\b\b\b\b\b\b\b\b\b\b\b\b\b\b\b\b\b\b\b\b\b\b\b\b\b\b\b\b\b\b\b\b\b\b\b\r1/1 [==============================] - 0s 155ms/step - loss: 0.3943 - accuracy: 0.8683\n",
            "Epoch 925/1000\n",
            "1/1 [==============================] - 0s 39ms/step\n",
            "\n",
            "Validation Accuracy: 41.11111111111111 %\n"
          ]
        },
        {
          "output_type": "stream",
          "name": "stderr",
          "text": [
            "WARNING:tensorflow:Can save best model only with val_loss available, skipping.\n"
          ]
        },
        {
          "output_type": "stream",
          "name": "stdout",
          "text": [
            "\b\b\b\b\b\b\b\b\b\b\b\b\b\b\b\b\b\b\b\b\b\b\b\b\b\b\b\b\b\b\b\b\b\b\b\b\b\b\b\b\b\b\b\b\b\b\b\b\b\b\b\b\b\b\b\b\b\b\b\b\b\b\b\b\b\b\b\b\b\b\b\b\b\b\b\b\b\b\b\b\r1/1 [==============================] - 0s 175ms/step - loss: 0.3842 - accuracy: 0.8751\n",
            "Epoch 926/1000\n",
            "1/1 [==============================] - 0s 29ms/step\n",
            "\n",
            "Validation Accuracy: 41.11111111111111 %\n"
          ]
        },
        {
          "output_type": "stream",
          "name": "stderr",
          "text": [
            "WARNING:tensorflow:Can save best model only with val_loss available, skipping.\n"
          ]
        },
        {
          "output_type": "stream",
          "name": "stdout",
          "text": [
            "\b\b\b\b\b\b\b\b\b\b\b\b\b\b\b\b\b\b\b\b\b\b\b\b\b\b\b\b\b\b\b\b\b\b\b\b\b\b\b\b\b\b\b\b\b\b\b\b\b\b\b\b\b\b\b\b\b\b\b\b\b\b\b\b\b\b\b\b\b\b\b\b\b\b\b\b\b\b\b\b\r1/1 [==============================] - 0s 164ms/step - loss: 0.3828 - accuracy: 0.8700\n",
            "Epoch 927/1000\n",
            "1/1 [==============================] - 0s 29ms/step\n",
            "\n",
            "Validation Accuracy: 42.22222222222222 %\n"
          ]
        },
        {
          "output_type": "stream",
          "name": "stderr",
          "text": [
            "WARNING:tensorflow:Can save best model only with val_loss available, skipping.\n"
          ]
        },
        {
          "output_type": "stream",
          "name": "stdout",
          "text": [
            "\b\b\b\b\b\b\b\b\b\b\b\b\b\b\b\b\b\b\b\b\b\b\b\b\b\b\b\b\b\b\b\b\b\b\b\b\b\b\b\b\b\b\b\b\b\b\b\b\b\b\b\b\b\b\b\b\b\b\b\b\b\b\b\b\b\b\b\b\b\b\b\b\b\b\b\b\b\b\b\b\r1/1 [==============================] - 0s 166ms/step - loss: 0.3814 - accuracy: 0.8707\n",
            "Epoch 928/1000\n",
            "1/1 [==============================] - 0s 32ms/step\n",
            "\n",
            "Validation Accuracy: 41.11111111111111 %\n"
          ]
        },
        {
          "output_type": "stream",
          "name": "stderr",
          "text": [
            "WARNING:tensorflow:Can save best model only with val_loss available, skipping.\n"
          ]
        },
        {
          "output_type": "stream",
          "name": "stdout",
          "text": [
            "\b\b\b\b\b\b\b\b\b\b\b\b\b\b\b\b\b\b\b\b\b\b\b\b\b\b\b\b\b\b\b\b\b\b\b\b\b\b\b\b\b\b\b\b\b\b\b\b\b\b\b\b\b\b\b\b\b\b\b\b\b\b\b\b\b\b\b\b\b\b\b\b\b\b\b\b\b\b\b\b\r1/1 [==============================] - 0s 162ms/step - loss: 0.3807 - accuracy: 0.8749\n",
            "Epoch 929/1000\n",
            "1/1 [==============================] - 0s 30ms/step\n",
            "\n",
            "Validation Accuracy: 41.11111111111111 %\n"
          ]
        },
        {
          "output_type": "stream",
          "name": "stderr",
          "text": [
            "WARNING:tensorflow:Can save best model only with val_loss available, skipping.\n"
          ]
        },
        {
          "output_type": "stream",
          "name": "stdout",
          "text": [
            "\b\b\b\b\b\b\b\b\b\b\b\b\b\b\b\b\b\b\b\b\b\b\b\b\b\b\b\b\b\b\b\b\b\b\b\b\b\b\b\b\b\b\b\b\b\b\b\b\b\b\b\b\b\b\b\b\b\b\b\b\b\b\b\b\b\b\b\b\b\b\b\b\b\b\b\b\b\b\b\b\r1/1 [==============================] - 0s 176ms/step - loss: 0.3703 - accuracy: 0.8775\n",
            "Epoch 930/1000\n",
            "1/1 [==============================] - 0s 29ms/step\n",
            "\n",
            "Validation Accuracy: 40.55555555555556 %\n"
          ]
        },
        {
          "output_type": "stream",
          "name": "stderr",
          "text": [
            "WARNING:tensorflow:Can save best model only with val_loss available, skipping.\n"
          ]
        },
        {
          "output_type": "stream",
          "name": "stdout",
          "text": [
            "\b\b\b\b\b\b\b\b\b\b\b\b\b\b\b\b\b\b\b\b\b\b\b\b\b\b\b\b\b\b\b\b\b\b\b\b\b\b\b\b\b\b\b\b\b\b\b\b\b\b\b\b\b\b\b\b\b\b\b\b\b\b\b\b\b\b\b\b\b\b\b\b\b\b\b\b\b\b\b\b\r1/1 [==============================] - 0s 161ms/step - loss: 0.3794 - accuracy: 0.8728\n",
            "Epoch 931/1000\n",
            "1/1 [==============================] - 0s 31ms/step\n",
            "\n",
            "Validation Accuracy: 40.55555555555556 %\n"
          ]
        },
        {
          "output_type": "stream",
          "name": "stderr",
          "text": [
            "WARNING:tensorflow:Can save best model only with val_loss available, skipping.\n"
          ]
        },
        {
          "output_type": "stream",
          "name": "stdout",
          "text": [
            "\b\b\b\b\b\b\b\b\b\b\b\b\b\b\b\b\b\b\b\b\b\b\b\b\b\b\b\b\b\b\b\b\b\b\b\b\b\b\b\b\b\b\b\b\b\b\b\b\b\b\b\b\b\b\b\b\b\b\b\b\b\b\b\b\b\b\b\b\b\b\b\b\b\b\b\b\b\b\b\b\r1/1 [==============================] - 0s 152ms/step - loss: 0.3721 - accuracy: 0.8770\n",
            "Epoch 932/1000\n",
            "1/1 [==============================] - 0s 33ms/step\n",
            "\n",
            "Validation Accuracy: 41.11111111111111 %\n"
          ]
        },
        {
          "output_type": "stream",
          "name": "stderr",
          "text": [
            "WARNING:tensorflow:Can save best model only with val_loss available, skipping.\n"
          ]
        },
        {
          "output_type": "stream",
          "name": "stdout",
          "text": [
            "\b\b\b\b\b\b\b\b\b\b\b\b\b\b\b\b\b\b\b\b\b\b\b\b\b\b\b\b\b\b\b\b\b\b\b\b\b\b\b\b\b\b\b\b\b\b\b\b\b\b\b\b\b\b\b\b\b\b\b\b\b\b\b\b\b\b\b\b\b\b\b\b\b\b\b\b\b\b\b\b\r1/1 [==============================] - 0s 161ms/step - loss: 0.3776 - accuracy: 0.8717\n",
            "Epoch 933/1000\n",
            "1/1 [==============================] - 0s 28ms/step\n",
            "\n",
            "Validation Accuracy: 41.11111111111111 %\n"
          ]
        },
        {
          "output_type": "stream",
          "name": "stderr",
          "text": [
            "WARNING:tensorflow:Can save best model only with val_loss available, skipping.\n"
          ]
        },
        {
          "output_type": "stream",
          "name": "stdout",
          "text": [
            "\b\b\b\b\b\b\b\b\b\b\b\b\b\b\b\b\b\b\b\b\b\b\b\b\b\b\b\b\b\b\b\b\b\b\b\b\b\b\b\b\b\b\b\b\b\b\b\b\b\b\b\b\b\b\b\b\b\b\b\b\b\b\b\b\b\b\b\b\b\b\b\b\b\b\b\b\b\b\b\b\r1/1 [==============================] - 0s 151ms/step - loss: 0.3850 - accuracy: 0.8725\n",
            "Epoch 934/1000\n",
            "1/1 [==============================] - 0s 45ms/step\n",
            "\n",
            "Validation Accuracy: 41.11111111111111 %\n"
          ]
        },
        {
          "output_type": "stream",
          "name": "stderr",
          "text": [
            "WARNING:tensorflow:Can save best model only with val_loss available, skipping.\n"
          ]
        },
        {
          "output_type": "stream",
          "name": "stdout",
          "text": [
            "\b\b\b\b\b\b\b\b\b\b\b\b\b\b\b\b\b\b\b\b\b\b\b\b\b\b\b\b\b\b\b\b\b\b\b\b\b\b\b\b\b\b\b\b\b\b\b\b\b\b\b\b\b\b\b\b\b\b\b\b\b\b\b\b\b\b\b\b\b\b\b\b\b\b\b\b\b\b\b\b\r1/1 [==============================] - 0s 219ms/step - loss: 0.3727 - accuracy: 0.8735\n",
            "Epoch 935/1000\n",
            "1/1 [==============================] - 0s 28ms/step\n",
            "\n",
            "Validation Accuracy: 40.55555555555556 %\n"
          ]
        },
        {
          "output_type": "stream",
          "name": "stderr",
          "text": [
            "WARNING:tensorflow:Can save best model only with val_loss available, skipping.\n"
          ]
        },
        {
          "output_type": "stream",
          "name": "stdout",
          "text": [
            "\b\b\b\b\b\b\b\b\b\b\b\b\b\b\b\b\b\b\b\b\b\b\b\b\b\b\b\b\b\b\b\b\b\b\b\b\b\b\b\b\b\b\b\b\b\b\b\b\b\b\b\b\b\b\b\b\b\b\b\b\b\b\b\b\b\b\b\b\b\b\b\b\b\b\b\b\b\b\b\b\r1/1 [==============================] - 0s 167ms/step - loss: 0.3873 - accuracy: 0.8704\n",
            "Epoch 936/1000\n",
            "1/1 [==============================] - 0s 27ms/step\n",
            "\n",
            "Validation Accuracy: 40.55555555555556 %\n"
          ]
        },
        {
          "output_type": "stream",
          "name": "stderr",
          "text": [
            "WARNING:tensorflow:Can save best model only with val_loss available, skipping.\n"
          ]
        },
        {
          "output_type": "stream",
          "name": "stdout",
          "text": [
            "\b\b\b\b\b\b\b\b\b\b\b\b\b\b\b\b\b\b\b\b\b\b\b\b\b\b\b\b\b\b\b\b\b\b\b\b\b\b\b\b\b\b\b\b\b\b\b\b\b\b\b\b\b\b\b\b\b\b\b\b\b\b\b\b\b\b\b\b\b\b\b\b\b\b\b\b\b\b\b\b\r1/1 [==============================] - 0s 144ms/step - loss: 0.3794 - accuracy: 0.8730\n",
            "Epoch 937/1000\n",
            "1/1 [==============================] - 0s 36ms/step\n",
            "\n",
            "Validation Accuracy: 41.11111111111111 %\n"
          ]
        },
        {
          "output_type": "stream",
          "name": "stderr",
          "text": [
            "WARNING:tensorflow:Can save best model only with val_loss available, skipping.\n"
          ]
        },
        {
          "output_type": "stream",
          "name": "stdout",
          "text": [
            "\b\b\b\b\b\b\b\b\b\b\b\b\b\b\b\b\b\b\b\b\b\b\b\b\b\b\b\b\b\b\b\b\b\b\b\b\b\b\b\b\b\b\b\b\b\b\b\b\b\b\b\b\b\b\b\b\b\b\b\b\b\b\b\b\b\b\b\b\b\b\b\b\b\b\b\b\b\b\b\b\r1/1 [==============================] - 0s 157ms/step - loss: 0.3827 - accuracy: 0.8686\n",
            "Epoch 938/1000\n",
            "1/1 [==============================] - 0s 27ms/step\n",
            "\n",
            "Validation Accuracy: 41.11111111111111 %\n"
          ]
        },
        {
          "output_type": "stream",
          "name": "stderr",
          "text": [
            "WARNING:tensorflow:Can save best model only with val_loss available, skipping.\n"
          ]
        },
        {
          "output_type": "stream",
          "name": "stdout",
          "text": [
            "\b\b\b\b\b\b\b\b\b\b\b\b\b\b\b\b\b\b\b\b\b\b\b\b\b\b\b\b\b\b\b\b\b\b\b\b\b\b\b\b\b\b\b\b\b\b\b\b\b\b\b\b\b\b\b\b\b\b\b\b\b\b\b\b\b\b\b\b\b\b\b\b\b\b\b\b\b\b\b\b\r1/1 [==============================] - 0s 164ms/step - loss: 0.3751 - accuracy: 0.8730\n",
            "Epoch 939/1000\n",
            "1/1 [==============================] - 0s 33ms/step\n",
            "\n",
            "Validation Accuracy: 41.11111111111111 %\n"
          ]
        },
        {
          "output_type": "stream",
          "name": "stderr",
          "text": [
            "WARNING:tensorflow:Can save best model only with val_loss available, skipping.\n"
          ]
        },
        {
          "output_type": "stream",
          "name": "stdout",
          "text": [
            "\b\b\b\b\b\b\b\b\b\b\b\b\b\b\b\b\b\b\b\b\b\b\b\b\b\b\b\b\b\b\b\b\b\b\b\b\b\b\b\b\b\b\b\b\b\b\b\b\b\b\b\b\b\b\b\b\b\b\b\b\b\b\b\b\b\b\b\b\b\b\b\b\b\b\b\b\b\b\b\b\r1/1 [==============================] - 1s 868ms/step - loss: 0.3693 - accuracy: 0.8738\n",
            "Epoch 940/1000\n",
            "1/1 [==============================] - 0s 39ms/step\n",
            "\n",
            "Validation Accuracy: 41.11111111111111 %\n"
          ]
        },
        {
          "output_type": "stream",
          "name": "stderr",
          "text": [
            "WARNING:tensorflow:Can save best model only with val_loss available, skipping.\n"
          ]
        },
        {
          "output_type": "stream",
          "name": "stdout",
          "text": [
            "\b\b\b\b\b\b\b\b\b\b\b\b\b\b\b\b\b\b\b\b\b\b\b\b\b\b\b\b\b\b\b\b\b\b\b\b\b\b\b\b\b\b\b\b\b\b\b\b\b\b\b\b\b\b\b\b\b\b\b\b\b\b\b\b\b\b\b\b\b\b\b\b\b\b\b\b\b\b\b\b\r1/1 [==============================] - 0s 192ms/step - loss: 0.3766 - accuracy: 0.8723\n",
            "Epoch 941/1000\n",
            "1/1 [==============================] - 0s 34ms/step\n",
            "\n",
            "Validation Accuracy: 40.55555555555556 %\n"
          ]
        },
        {
          "output_type": "stream",
          "name": "stderr",
          "text": [
            "WARNING:tensorflow:Can save best model only with val_loss available, skipping.\n"
          ]
        },
        {
          "output_type": "stream",
          "name": "stdout",
          "text": [
            "\b\b\b\b\b\b\b\b\b\b\b\b\b\b\b\b\b\b\b\b\b\b\b\b\b\b\b\b\b\b\b\b\b\b\b\b\b\b\b\b\b\b\b\b\b\b\b\b\b\b\b\b\b\b\b\b\b\b\b\b\b\b\b\b\b\b\b\b\b\b\b\b\b\b\b\b\b\b\b\b\r1/1 [==============================] - 0s 181ms/step - loss: 0.3767 - accuracy: 0.8745\n",
            "Epoch 942/1000\n",
            "1/1 [==============================] - 0s 34ms/step\n",
            "\n",
            "Validation Accuracy: 40.55555555555556 %\n"
          ]
        },
        {
          "output_type": "stream",
          "name": "stderr",
          "text": [
            "WARNING:tensorflow:Can save best model only with val_loss available, skipping.\n"
          ]
        },
        {
          "output_type": "stream",
          "name": "stdout",
          "text": [
            "\b\b\b\b\b\b\b\b\b\b\b\b\b\b\b\b\b\b\b\b\b\b\b\b\b\b\b\b\b\b\b\b\b\b\b\b\b\b\b\b\b\b\b\b\b\b\b\b\b\b\b\b\b\b\b\b\b\b\b\b\b\b\b\b\b\b\b\b\b\b\b\b\b\b\b\b\b\b\b\b\r1/1 [==============================] - 0s 164ms/step - loss: 0.3801 - accuracy: 0.8741\n",
            "Epoch 943/1000\n",
            "1/1 [==============================] - 0s 34ms/step\n",
            "\n",
            "Validation Accuracy: 40.55555555555556 %\n"
          ]
        },
        {
          "output_type": "stream",
          "name": "stderr",
          "text": [
            "WARNING:tensorflow:Can save best model only with val_loss available, skipping.\n"
          ]
        },
        {
          "output_type": "stream",
          "name": "stdout",
          "text": [
            "\b\b\b\b\b\b\b\b\b\b\b\b\b\b\b\b\b\b\b\b\b\b\b\b\b\b\b\b\b\b\b\b\b\b\b\b\b\b\b\b\b\b\b\b\b\b\b\b\b\b\b\b\b\b\b\b\b\b\b\b\b\b\b\b\b\b\b\b\b\b\b\b\b\b\b\b\b\b\b\b\r1/1 [==============================] - 0s 161ms/step - loss: 0.3771 - accuracy: 0.8758\n",
            "Epoch 944/1000\n",
            "1/1 [==============================] - 0s 34ms/step\n",
            "\n",
            "Validation Accuracy: 40.55555555555556 %\n"
          ]
        },
        {
          "output_type": "stream",
          "name": "stderr",
          "text": [
            "WARNING:tensorflow:Can save best model only with val_loss available, skipping.\n"
          ]
        },
        {
          "output_type": "stream",
          "name": "stdout",
          "text": [
            "\b\b\b\b\b\b\b\b\b\b\b\b\b\b\b\b\b\b\b\b\b\b\b\b\b\b\b\b\b\b\b\b\b\b\b\b\b\b\b\b\b\b\b\b\b\b\b\b\b\b\b\b\b\b\b\b\b\b\b\b\b\b\b\b\b\b\b\b\b\b\b\b\b\b\b\b\b\b\b\b\r1/1 [==============================] - 0s 160ms/step - loss: 0.3830 - accuracy: 0.8695\n",
            "Epoch 945/1000\n",
            "1/1 [==============================] - 0s 40ms/step\n",
            "\n",
            "Validation Accuracy: 40.55555555555556 %\n"
          ]
        },
        {
          "output_type": "stream",
          "name": "stderr",
          "text": [
            "WARNING:tensorflow:Can save best model only with val_loss available, skipping.\n"
          ]
        },
        {
          "output_type": "stream",
          "name": "stdout",
          "text": [
            "\b\b\b\b\b\b\b\b\b\b\b\b\b\b\b\b\b\b\b\b\b\b\b\b\b\b\b\b\b\b\b\b\b\b\b\b\b\b\b\b\b\b\b\b\b\b\b\b\b\b\b\b\b\b\b\b\b\b\b\b\b\b\b\b\b\b\b\b\b\b\b\b\b\b\b\b\b\b\b\b\r1/1 [==============================] - 0s 175ms/step - loss: 0.3833 - accuracy: 0.8730\n",
            "Epoch 946/1000\n",
            "1/1 [==============================] - 0s 38ms/step\n",
            "\n",
            "Validation Accuracy: 41.11111111111111 %\n"
          ]
        },
        {
          "output_type": "stream",
          "name": "stderr",
          "text": [
            "WARNING:tensorflow:Can save best model only with val_loss available, skipping.\n"
          ]
        },
        {
          "output_type": "stream",
          "name": "stdout",
          "text": [
            "\b\b\b\b\b\b\b\b\b\b\b\b\b\b\b\b\b\b\b\b\b\b\b\b\b\b\b\b\b\b\b\b\b\b\b\b\b\b\b\b\b\b\b\b\b\b\b\b\b\b\b\b\b\b\b\b\b\b\b\b\b\b\b\b\b\b\b\b\b\b\b\b\b\b\b\b\b\b\b\b\r1/1 [==============================] - 0s 180ms/step - loss: 0.3755 - accuracy: 0.8755\n",
            "Epoch 947/1000\n",
            "1/1 [==============================] - 0s 59ms/step\n",
            "\n",
            "Validation Accuracy: 41.11111111111111 %\n"
          ]
        },
        {
          "output_type": "stream",
          "name": "stderr",
          "text": [
            "WARNING:tensorflow:Can save best model only with val_loss available, skipping.\n"
          ]
        },
        {
          "output_type": "stream",
          "name": "stdout",
          "text": [
            "\b\b\b\b\b\b\b\b\b\b\b\b\b\b\b\b\b\b\b\b\b\b\b\b\b\b\b\b\b\b\b\b\b\b\b\b\b\b\b\b\b\b\b\b\b\b\b\b\b\b\b\b\b\b\b\b\b\b\b\b\b\b\b\b\b\b\b\b\b\b\b\b\b\b\b\b\b\b\b\b\r1/1 [==============================] - 0s 207ms/step - loss: 0.3775 - accuracy: 0.8728\n",
            "Epoch 948/1000\n",
            "1/1 [==============================] - 0s 42ms/step\n",
            "\n",
            "Validation Accuracy: 41.11111111111111 %\n"
          ]
        },
        {
          "output_type": "stream",
          "name": "stderr",
          "text": [
            "WARNING:tensorflow:Can save best model only with val_loss available, skipping.\n"
          ]
        },
        {
          "output_type": "stream",
          "name": "stdout",
          "text": [
            "\b\b\b\b\b\b\b\b\b\b\b\b\b\b\b\b\b\b\b\b\b\b\b\b\b\b\b\b\b\b\b\b\b\b\b\b\b\b\b\b\b\b\b\b\b\b\b\b\b\b\b\b\b\b\b\b\b\b\b\b\b\b\b\b\b\b\b\b\b\b\b\b\b\b\b\b\b\b\b\b\r1/1 [==============================] - 0s 222ms/step - loss: 0.3823 - accuracy: 0.8738\n",
            "Epoch 949/1000\n",
            "1/1 [==============================] - 0s 37ms/step\n",
            "\n",
            "Validation Accuracy: 41.66666666666667 %\n"
          ]
        },
        {
          "output_type": "stream",
          "name": "stderr",
          "text": [
            "WARNING:tensorflow:Can save best model only with val_loss available, skipping.\n"
          ]
        },
        {
          "output_type": "stream",
          "name": "stdout",
          "text": [
            "\b\b\b\b\b\b\b\b\b\b\b\b\b\b\b\b\b\b\b\b\b\b\b\b\b\b\b\b\b\b\b\b\b\b\b\b\b\b\b\b\b\b\b\b\b\b\b\b\b\b\b\b\b\b\b\b\b\b\b\b\b\b\b\b\b\b\b\b\b\b\b\b\b\b\b\b\b\b\b\b\r1/1 [==============================] - 0s 214ms/step - loss: 0.3776 - accuracy: 0.8742\n",
            "Epoch 950/1000\n",
            "1/1 [==============================] - 0s 43ms/step\n",
            "\n",
            "Validation Accuracy: 41.11111111111111 %\n"
          ]
        },
        {
          "output_type": "stream",
          "name": "stderr",
          "text": [
            "WARNING:tensorflow:Can save best model only with val_loss available, skipping.\n"
          ]
        },
        {
          "output_type": "stream",
          "name": "stdout",
          "text": [
            "\b\b\b\b\b\b\b\b\b\b\b\b\b\b\b\b\b\b\b\b\b\b\b\b\b\b\b\b\b\b\b\b\b\b\b\b\b\b\b\b\b\b\b\b\b\b\b\b\b\b\b\b\b\b\b\b\b\b\b\b\b\b\b\b\b\b\b\b\b\b\b\b\b\b\b\b\b\b\b\b\r1/1 [==============================] - 0s 204ms/step - loss: 0.3798 - accuracy: 0.8732\n",
            "Epoch 951/1000\n",
            "1/1 [==============================] - 0s 52ms/step\n",
            "\n",
            "Validation Accuracy: 40.0 %\n"
          ]
        },
        {
          "output_type": "stream",
          "name": "stderr",
          "text": [
            "WARNING:tensorflow:Can save best model only with val_loss available, skipping.\n"
          ]
        },
        {
          "output_type": "stream",
          "name": "stdout",
          "text": [
            "\b\b\b\b\b\b\b\b\b\b\b\b\b\b\b\b\b\b\b\b\b\b\b\b\b\b\b\b\b\b\b\b\b\b\b\b\b\b\b\b\b\b\b\b\b\b\b\b\b\b\b\b\b\b\b\b\b\b\b\b\b\b\b\b\b\b\b\b\b\b\b\b\b\b\b\b\b\b\b\b\r1/1 [==============================] - 0s 239ms/step - loss: 0.3801 - accuracy: 0.8682\n",
            "Epoch 952/1000\n",
            "1/1 [==============================] - 0s 57ms/step\n",
            "\n",
            "Validation Accuracy: 40.0 %\n"
          ]
        },
        {
          "output_type": "stream",
          "name": "stderr",
          "text": [
            "WARNING:tensorflow:Can save best model only with val_loss available, skipping.\n"
          ]
        },
        {
          "output_type": "stream",
          "name": "stdout",
          "text": [
            "\b\b\b\b\b\b\b\b\b\b\b\b\b\b\b\b\b\b\b\b\b\b\b\b\b\b\b\b\b\b\b\b\b\b\b\b\b\b\b\b\b\b\b\b\b\b\b\b\b\b\b\b\b\b\b\b\b\b\b\b\b\b\b\b\b\b\b\b\b\b\b\b\b\b\b\b\b\b\b\b\r1/1 [==============================] - 0s 262ms/step - loss: 0.3769 - accuracy: 0.8714\n",
            "Epoch 953/1000\n",
            "1/1 [==============================] - 0s 53ms/step\n",
            "\n",
            "Validation Accuracy: 39.44444444444444 %\n"
          ]
        },
        {
          "output_type": "stream",
          "name": "stderr",
          "text": [
            "WARNING:tensorflow:Can save best model only with val_loss available, skipping.\n"
          ]
        },
        {
          "output_type": "stream",
          "name": "stdout",
          "text": [
            "\b\b\b\b\b\b\b\b\b\b\b\b\b\b\b\b\b\b\b\b\b\b\b\b\b\b\b\b\b\b\b\b\b\b\b\b\b\b\b\b\b\b\b\b\b\b\b\b\b\b\b\b\b\b\b\b\b\b\b\b\b\b\b\b\b\b\b\b\b\b\b\b\b\b\b\b\b\b\b\b\r1/1 [==============================] - 0s 266ms/step - loss: 0.3730 - accuracy: 0.8724\n",
            "Epoch 954/1000\n",
            "1/1 [==============================] - 0s 51ms/step\n",
            "\n",
            "Validation Accuracy: 40.0 %\n"
          ]
        },
        {
          "output_type": "stream",
          "name": "stderr",
          "text": [
            "WARNING:tensorflow:Can save best model only with val_loss available, skipping.\n"
          ]
        },
        {
          "output_type": "stream",
          "name": "stdout",
          "text": [
            "\b\b\b\b\b\b\b\b\b\b\b\b\b\b\b\b\b\b\b\b\b\b\b\b\b\b\b\b\b\b\b\b\b\b\b\b\b\b\b\b\b\b\b\b\b\b\b\b\b\b\b\b\b\b\b\b\b\b\b\b\b\b\b\b\b\b\b\b\b\b\b\b\b\b\b\b\b\b\b\b\r1/1 [==============================] - 0s 254ms/step - loss: 0.3643 - accuracy: 0.8761\n",
            "Epoch 955/1000\n",
            "1/1 [==============================] - 0s 42ms/step\n",
            "\n",
            "Validation Accuracy: 40.0 %\n"
          ]
        },
        {
          "output_type": "stream",
          "name": "stderr",
          "text": [
            "WARNING:tensorflow:Can save best model only with val_loss available, skipping.\n"
          ]
        },
        {
          "output_type": "stream",
          "name": "stdout",
          "text": [
            "\b\b\b\b\b\b\b\b\b\b\b\b\b\b\b\b\b\b\b\b\b\b\b\b\b\b\b\b\b\b\b\b\b\b\b\b\b\b\b\b\b\b\b\b\b\b\b\b\b\b\b\b\b\b\b\b\b\b\b\b\b\b\b\b\b\b\b\b\b\b\b\b\b\b\b\b\b\b\b\b\r1/1 [==============================] - 0s 209ms/step - loss: 0.3724 - accuracy: 0.8742\n",
            "Epoch 956/1000\n",
            "1/1 [==============================] - 0s 73ms/step\n",
            "\n",
            "Validation Accuracy: 40.55555555555556 %\n"
          ]
        },
        {
          "output_type": "stream",
          "name": "stderr",
          "text": [
            "WARNING:tensorflow:Can save best model only with val_loss available, skipping.\n"
          ]
        },
        {
          "output_type": "stream",
          "name": "stdout",
          "text": [
            "\b\b\b\b\b\b\b\b\b\b\b\b\b\b\b\b\b\b\b\b\b\b\b\b\b\b\b\b\b\b\b\b\b\b\b\b\b\b\b\b\b\b\b\b\b\b\b\b\b\b\b\b\b\b\b\b\b\b\b\b\b\b\b\b\b\b\b\b\b\b\b\b\b\b\b\b\b\b\b\b\r1/1 [==============================] - 0s 287ms/step - loss: 0.3826 - accuracy: 0.8682\n",
            "Epoch 957/1000\n",
            "1/1 [==============================] - 0s 53ms/step\n",
            "\n",
            "Validation Accuracy: 40.0 %\n"
          ]
        },
        {
          "output_type": "stream",
          "name": "stderr",
          "text": [
            "WARNING:tensorflow:Can save best model only with val_loss available, skipping.\n"
          ]
        },
        {
          "output_type": "stream",
          "name": "stdout",
          "text": [
            "\b\b\b\b\b\b\b\b\b\b\b\b\b\b\b\b\b\b\b\b\b\b\b\b\b\b\b\b\b\b\b\b\b\b\b\b\b\b\b\b\b\b\b\b\b\b\b\b\b\b\b\b\b\b\b\b\b\b\b\b\b\b\b\b\b\b\b\b\b\b\b\b\b\b\b\b\b\b\b\b\r1/1 [==============================] - 0s 273ms/step - loss: 0.3667 - accuracy: 0.8744\n",
            "Epoch 958/1000\n",
            "1/1 [==============================] - 0s 54ms/step\n",
            "\n",
            "Validation Accuracy: 40.0 %\n"
          ]
        },
        {
          "output_type": "stream",
          "name": "stderr",
          "text": [
            "WARNING:tensorflow:Can save best model only with val_loss available, skipping.\n"
          ]
        },
        {
          "output_type": "stream",
          "name": "stdout",
          "text": [
            "\b\b\b\b\b\b\b\b\b\b\b\b\b\b\b\b\b\b\b\b\b\b\b\b\b\b\b\b\b\b\b\b\b\b\b\b\b\b\b\b\b\b\b\b\b\b\b\b\b\b\b\b\b\b\b\b\b\b\b\b\b\b\b\b\b\b\b\b\b\b\b\b\b\b\b\b\b\b\b\b\r1/1 [==============================] - 0s 249ms/step - loss: 0.3756 - accuracy: 0.8731\n",
            "Epoch 959/1000\n",
            "1/1 [==============================] - 0s 58ms/step\n",
            "\n",
            "Validation Accuracy: 40.0 %\n"
          ]
        },
        {
          "output_type": "stream",
          "name": "stderr",
          "text": [
            "WARNING:tensorflow:Can save best model only with val_loss available, skipping.\n"
          ]
        },
        {
          "output_type": "stream",
          "name": "stdout",
          "text": [
            "\b\b\b\b\b\b\b\b\b\b\b\b\b\b\b\b\b\b\b\b\b\b\b\b\b\b\b\b\b\b\b\b\b\b\b\b\b\b\b\b\b\b\b\b\b\b\b\b\b\b\b\b\b\b\b\b\b\b\b\b\b\b\b\b\b\b\b\b\b\b\b\b\b\b\b\b\b\b\b\b\r1/1 [==============================] - 0s 259ms/step - loss: 0.3730 - accuracy: 0.8737\n",
            "Epoch 960/1000\n",
            "1/1 [==============================] - 0s 86ms/step\n",
            "\n",
            "Validation Accuracy: 40.55555555555556 %\n"
          ]
        },
        {
          "output_type": "stream",
          "name": "stderr",
          "text": [
            "WARNING:tensorflow:Can save best model only with val_loss available, skipping.\n"
          ]
        },
        {
          "output_type": "stream",
          "name": "stdout",
          "text": [
            "\b\b\b\b\b\b\b\b\b\b\b\b\b\b\b\b\b\b\b\b\b\b\b\b\b\b\b\b\b\b\b\b\b\b\b\b\b\b\b\b\b\b\b\b\b\b\b\b\b\b\b\b\b\b\b\b\b\b\b\b\b\b\b\b\b\b\b\b\b\b\b\b\b\b\b\b\b\b\b\b\r1/1 [==============================] - 0s 309ms/step - loss: 0.3709 - accuracy: 0.8783\n",
            "Epoch 961/1000\n",
            "1/1 [==============================] - 0s 72ms/step\n",
            "\n",
            "Validation Accuracy: 40.55555555555556 %\n"
          ]
        },
        {
          "output_type": "stream",
          "name": "stderr",
          "text": [
            "WARNING:tensorflow:Can save best model only with val_loss available, skipping.\n"
          ]
        },
        {
          "output_type": "stream",
          "name": "stdout",
          "text": [
            "\b\b\b\b\b\b\b\b\b\b\b\b\b\b\b\b\b\b\b\b\b\b\b\b\b\b\b\b\b\b\b\b\b\b\b\b\b\b\b\b\b\b\b\b\b\b\b\b\b\b\b\b\b\b\b\b\b\b\b\b\b\b\b\b\b\b\b\b\b\b\b\b\b\b\b\b\b\b\b\b\r1/1 [==============================] - 0s 259ms/step - loss: 0.3740 - accuracy: 0.8727\n",
            "Epoch 962/1000\n",
            "1/1 [==============================] - 0s 72ms/step\n",
            "\n",
            "Validation Accuracy: 41.11111111111111 %\n"
          ]
        },
        {
          "output_type": "stream",
          "name": "stderr",
          "text": [
            "WARNING:tensorflow:Can save best model only with val_loss available, skipping.\n"
          ]
        },
        {
          "output_type": "stream",
          "name": "stdout",
          "text": [
            "\b\b\b\b\b\b\b\b\b\b\b\b\b\b\b\b\b\b\b\b\b\b\b\b\b\b\b\b\b\b\b\b\b\b\b\b\b\b\b\b\b\b\b\b\b\b\b\b\b\b\b\b\b\b\b\b\b\b\b\b\b\b\b\b\b\b\b\b\b\b\b\b\b\b\b\b\b\b\b\b\r1/1 [==============================] - 0s 271ms/step - loss: 0.3708 - accuracy: 0.8752\n",
            "Epoch 963/1000\n",
            "1/1 [==============================] - 0s 42ms/step\n",
            "\n",
            "Validation Accuracy: 40.55555555555556 %\n"
          ]
        },
        {
          "output_type": "stream",
          "name": "stderr",
          "text": [
            "WARNING:tensorflow:Can save best model only with val_loss available, skipping.\n"
          ]
        },
        {
          "output_type": "stream",
          "name": "stdout",
          "text": [
            "\b\b\b\b\b\b\b\b\b\b\b\b\b\b\b\b\b\b\b\b\b\b\b\b\b\b\b\b\b\b\b\b\b\b\b\b\b\b\b\b\b\b\b\b\b\b\b\b\b\b\b\b\b\b\b\b\b\b\b\b\b\b\b\b\b\b\b\b\b\b\b\b\b\b\b\b\b\b\b\b\r1/1 [==============================] - 0s 179ms/step - loss: 0.3708 - accuracy: 0.8756\n",
            "Epoch 964/1000\n",
            "1/1 [==============================] - 0s 37ms/step\n",
            "\n",
            "Validation Accuracy: 41.11111111111111 %\n"
          ]
        },
        {
          "output_type": "stream",
          "name": "stderr",
          "text": [
            "WARNING:tensorflow:Can save best model only with val_loss available, skipping.\n"
          ]
        },
        {
          "output_type": "stream",
          "name": "stdout",
          "text": [
            "\b\b\b\b\b\b\b\b\b\b\b\b\b\b\b\b\b\b\b\b\b\b\b\b\b\b\b\b\b\b\b\b\b\b\b\b\b\b\b\b\b\b\b\b\b\b\b\b\b\b\b\b\b\b\b\b\b\b\b\b\b\b\b\b\b\b\b\b\b\b\b\b\b\b\b\b\b\b\b\b\r1/1 [==============================] - 0s 173ms/step - loss: 0.3677 - accuracy: 0.8749\n",
            "Epoch 965/1000\n",
            "1/1 [==============================] - 0s 46ms/step\n",
            "\n",
            "Validation Accuracy: 41.11111111111111 %\n"
          ]
        },
        {
          "output_type": "stream",
          "name": "stderr",
          "text": [
            "WARNING:tensorflow:Can save best model only with val_loss available, skipping.\n"
          ]
        },
        {
          "output_type": "stream",
          "name": "stdout",
          "text": [
            "\b\b\b\b\b\b\b\b\b\b\b\b\b\b\b\b\b\b\b\b\b\b\b\b\b\b\b\b\b\b\b\b\b\b\b\b\b\b\b\b\b\b\b\b\b\b\b\b\b\b\b\b\b\b\b\b\b\b\b\b\b\b\b\b\b\b\b\b\b\b\b\b\b\b\b\b\b\b\b\b\r1/1 [==============================] - 0s 190ms/step - loss: 0.3696 - accuracy: 0.8741\n",
            "Epoch 966/1000\n",
            "1/1 [==============================] - 0s 54ms/step\n",
            "\n",
            "Validation Accuracy: 40.55555555555556 %\n"
          ]
        },
        {
          "output_type": "stream",
          "name": "stderr",
          "text": [
            "WARNING:tensorflow:Can save best model only with val_loss available, skipping.\n"
          ]
        },
        {
          "output_type": "stream",
          "name": "stdout",
          "text": [
            "\b\b\b\b\b\b\b\b\b\b\b\b\b\b\b\b\b\b\b\b\b\b\b\b\b\b\b\b\b\b\b\b\b\b\b\b\b\b\b\b\b\b\b\b\b\b\b\b\b\b\b\b\b\b\b\b\b\b\b\b\b\b\b\b\b\b\b\b\b\b\b\b\b\b\b\b\b\b\b\b\r1/1 [==============================] - 0s 270ms/step - loss: 0.3725 - accuracy: 0.8730\n",
            "Epoch 967/1000\n",
            "1/1 [==============================] - 0s 42ms/step\n",
            "\n",
            "Validation Accuracy: 40.0 %\n"
          ]
        },
        {
          "output_type": "stream",
          "name": "stderr",
          "text": [
            "WARNING:tensorflow:Can save best model only with val_loss available, skipping.\n"
          ]
        },
        {
          "output_type": "stream",
          "name": "stdout",
          "text": [
            "\b\b\b\b\b\b\b\b\b\b\b\b\b\b\b\b\b\b\b\b\b\b\b\b\b\b\b\b\b\b\b\b\b\b\b\b\b\b\b\b\b\b\b\b\b\b\b\b\b\b\b\b\b\b\b\b\b\b\b\b\b\b\b\b\b\b\b\b\b\b\b\b\b\b\b\b\b\b\b\b\r1/1 [==============================] - 0s 217ms/step - loss: 0.3707 - accuracy: 0.8731\n",
            "Epoch 968/1000\n",
            "1/1 [==============================] - 0s 44ms/step\n",
            "\n",
            "Validation Accuracy: 40.55555555555556 %\n"
          ]
        },
        {
          "output_type": "stream",
          "name": "stderr",
          "text": [
            "WARNING:tensorflow:Can save best model only with val_loss available, skipping.\n"
          ]
        },
        {
          "output_type": "stream",
          "name": "stdout",
          "text": [
            "\b\b\b\b\b\b\b\b\b\b\b\b\b\b\b\b\b\b\b\b\b\b\b\b\b\b\b\b\b\b\b\b\b\b\b\b\b\b\b\b\b\b\b\b\b\b\b\b\b\b\b\b\b\b\b\b\b\b\b\b\b\b\b\b\b\b\b\b\b\b\b\b\b\b\b\b\b\b\b\b\r1/1 [==============================] - 0s 220ms/step - loss: 0.3670 - accuracy: 0.8766\n",
            "Epoch 969/1000\n",
            "1/1 [==============================] - 0s 48ms/step\n",
            "\n",
            "Validation Accuracy: 40.55555555555556 %\n"
          ]
        },
        {
          "output_type": "stream",
          "name": "stderr",
          "text": [
            "WARNING:tensorflow:Can save best model only with val_loss available, skipping.\n"
          ]
        },
        {
          "output_type": "stream",
          "name": "stdout",
          "text": [
            "\b\b\b\b\b\b\b\b\b\b\b\b\b\b\b\b\b\b\b\b\b\b\b\b\b\b\b\b\b\b\b\b\b\b\b\b\b\b\b\b\b\b\b\b\b\b\b\b\b\b\b\b\b\b\b\b\b\b\b\b\b\b\b\b\b\b\b\b\b\b\b\b\b\b\b\b\b\b\b\b\r1/1 [==============================] - 0s 219ms/step - loss: 0.3676 - accuracy: 0.8759\n",
            "Epoch 970/1000\n",
            "1/1 [==============================] - 0s 76ms/step\n",
            "\n",
            "Validation Accuracy: 40.55555555555556 %\n"
          ]
        },
        {
          "output_type": "stream",
          "name": "stderr",
          "text": [
            "WARNING:tensorflow:Can save best model only with val_loss available, skipping.\n"
          ]
        },
        {
          "output_type": "stream",
          "name": "stdout",
          "text": [
            "\b\b\b\b\b\b\b\b\b\b\b\b\b\b\b\b\b\b\b\b\b\b\b\b\b\b\b\b\b\b\b\b\b\b\b\b\b\b\b\b\b\b\b\b\b\b\b\b\b\b\b\b\b\b\b\b\b\b\b\b\b\b\b\b\b\b\b\b\b\b\b\b\b\b\b\b\b\b\b\b\r1/1 [==============================] - 0s 285ms/step - loss: 0.3779 - accuracy: 0.8728\n",
            "Epoch 971/1000\n",
            "1/1 [==============================] - 0s 50ms/step\n",
            "\n",
            "Validation Accuracy: 40.55555555555556 %\n"
          ]
        },
        {
          "output_type": "stream",
          "name": "stderr",
          "text": [
            "WARNING:tensorflow:Can save best model only with val_loss available, skipping.\n"
          ]
        },
        {
          "output_type": "stream",
          "name": "stdout",
          "text": [
            "\b\b\b\b\b\b\b\b\b\b\b\b\b\b\b\b\b\b\b\b\b\b\b\b\b\b\b\b\b\b\b\b\b\b\b\b\b\b\b\b\b\b\b\b\b\b\b\b\b\b\b\b\b\b\b\b\b\b\b\b\b\b\b\b\b\b\b\b\b\b\b\b\b\b\b\b\b\b\b\b\r1/1 [==============================] - 0s 218ms/step - loss: 0.3810 - accuracy: 0.8699\n",
            "Epoch 972/1000\n",
            "1/1 [==============================] - 0s 53ms/step\n",
            "\n",
            "Validation Accuracy: 41.11111111111111 %\n"
          ]
        },
        {
          "output_type": "stream",
          "name": "stderr",
          "text": [
            "WARNING:tensorflow:Can save best model only with val_loss available, skipping.\n"
          ]
        },
        {
          "output_type": "stream",
          "name": "stdout",
          "text": [
            "\b\b\b\b\b\b\b\b\b\b\b\b\b\b\b\b\b\b\b\b\b\b\b\b\b\b\b\b\b\b\b\b\b\b\b\b\b\b\b\b\b\b\b\b\b\b\b\b\b\b\b\b\b\b\b\b\b\b\b\b\b\b\b\b\b\b\b\b\b\b\b\b\b\b\b\b\b\b\b\b\r1/1 [==============================] - 0s 245ms/step - loss: 0.3656 - accuracy: 0.8765\n",
            "Epoch 973/1000\n",
            "1/1 [==============================] - 0s 42ms/step\n",
            "\n",
            "Validation Accuracy: 41.66666666666667 %\n"
          ]
        },
        {
          "output_type": "stream",
          "name": "stderr",
          "text": [
            "WARNING:tensorflow:Can save best model only with val_loss available, skipping.\n"
          ]
        },
        {
          "output_type": "stream",
          "name": "stdout",
          "text": [
            "\b\b\b\b\b\b\b\b\b\b\b\b\b\b\b\b\b\b\b\b\b\b\b\b\b\b\b\b\b\b\b\b\b\b\b\b\b\b\b\b\b\b\b\b\b\b\b\b\b\b\b\b\b\b\b\b\b\b\b\b\b\b\b\b\b\b\b\b\b\b\b\b\b\b\b\b\b\b\b\b\r1/1 [==============================] - 0s 195ms/step - loss: 0.3807 - accuracy: 0.8717\n",
            "Epoch 974/1000\n",
            "1/1 [==============================] - 0s 54ms/step\n",
            "\n",
            "Validation Accuracy: 41.11111111111111 %\n"
          ]
        },
        {
          "output_type": "stream",
          "name": "stderr",
          "text": [
            "WARNING:tensorflow:Can save best model only with val_loss available, skipping.\n"
          ]
        },
        {
          "output_type": "stream",
          "name": "stdout",
          "text": [
            "\b\b\b\b\b\b\b\b\b\b\b\b\b\b\b\b\b\b\b\b\b\b\b\b\b\b\b\b\b\b\b\b\b\b\b\b\b\b\b\b\b\b\b\b\b\b\b\b\b\b\b\b\b\b\b\b\b\b\b\b\b\b\b\b\b\b\b\b\b\b\b\b\b\b\b\b\b\b\b\b\r1/1 [==============================] - 0s 270ms/step - loss: 0.3795 - accuracy: 0.8749\n",
            "Epoch 975/1000\n",
            "1/1 [==============================] - 0s 48ms/step\n",
            "\n",
            "Validation Accuracy: 41.11111111111111 %\n"
          ]
        },
        {
          "output_type": "stream",
          "name": "stderr",
          "text": [
            "WARNING:tensorflow:Can save best model only with val_loss available, skipping.\n"
          ]
        },
        {
          "output_type": "stream",
          "name": "stdout",
          "text": [
            "\b\b\b\b\b\b\b\b\b\b\b\b\b\b\b\b\b\b\b\b\b\b\b\b\b\b\b\b\b\b\b\b\b\b\b\b\b\b\b\b\b\b\b\b\b\b\b\b\b\b\b\b\b\b\b\b\b\b\b\b\b\b\b\b\b\b\b\b\b\b\b\b\b\b\b\b\b\b\b\b\r1/1 [==============================] - 0s 243ms/step - loss: 0.3668 - accuracy: 0.8770\n",
            "Epoch 976/1000\n",
            "1/1 [==============================] - 0s 38ms/step\n",
            "\n",
            "Validation Accuracy: 40.55555555555556 %\n"
          ]
        },
        {
          "output_type": "stream",
          "name": "stderr",
          "text": [
            "WARNING:tensorflow:Can save best model only with val_loss available, skipping.\n"
          ]
        },
        {
          "output_type": "stream",
          "name": "stdout",
          "text": [
            "\b\b\b\b\b\b\b\b\b\b\b\b\b\b\b\b\b\b\b\b\b\b\b\b\b\b\b\b\b\b\b\b\b\b\b\b\b\b\b\b\b\b\b\b\b\b\b\b\b\b\b\b\b\b\b\b\b\b\b\b\b\b\b\b\b\b\b\b\b\b\b\b\b\b\b\b\b\b\b\b\r1/1 [==============================] - 0s 201ms/step - loss: 0.3708 - accuracy: 0.8737\n",
            "Epoch 977/1000\n",
            "1/1 [==============================] - 0s 49ms/step\n",
            "\n",
            "Validation Accuracy: 40.0 %\n"
          ]
        },
        {
          "output_type": "stream",
          "name": "stderr",
          "text": [
            "WARNING:tensorflow:Can save best model only with val_loss available, skipping.\n"
          ]
        },
        {
          "output_type": "stream",
          "name": "stdout",
          "text": [
            "\b\b\b\b\b\b\b\b\b\b\b\b\b\b\b\b\b\b\b\b\b\b\b\b\b\b\b\b\b\b\b\b\b\b\b\b\b\b\b\b\b\b\b\b\b\b\b\b\b\b\b\b\b\b\b\b\b\b\b\b\b\b\b\b\b\b\b\b\b\b\b\b\b\b\b\b\b\b\b\b\r1/1 [==============================] - 0s 230ms/step - loss: 0.3685 - accuracy: 0.8744\n",
            "Epoch 978/1000\n",
            "1/1 [==============================] - 0s 51ms/step\n",
            "\n",
            "Validation Accuracy: 40.0 %\n"
          ]
        },
        {
          "output_type": "stream",
          "name": "stderr",
          "text": [
            "WARNING:tensorflow:Can save best model only with val_loss available, skipping.\n"
          ]
        },
        {
          "output_type": "stream",
          "name": "stdout",
          "text": [
            "\b\b\b\b\b\b\b\b\b\b\b\b\b\b\b\b\b\b\b\b\b\b\b\b\b\b\b\b\b\b\b\b\b\b\b\b\b\b\b\b\b\b\b\b\b\b\b\b\b\b\b\b\b\b\b\b\b\b\b\b\b\b\b\b\b\b\b\b\b\b\b\b\b\b\b\b\b\b\b\b\r1/1 [==============================] - 0s 240ms/step - loss: 0.3703 - accuracy: 0.8734\n",
            "Epoch 979/1000\n",
            "1/1 [==============================] - 0s 60ms/step\n",
            "\n",
            "Validation Accuracy: 39.44444444444444 %\n"
          ]
        },
        {
          "output_type": "stream",
          "name": "stderr",
          "text": [
            "WARNING:tensorflow:Can save best model only with val_loss available, skipping.\n"
          ]
        },
        {
          "output_type": "stream",
          "name": "stdout",
          "text": [
            "\b\b\b\b\b\b\b\b\b\b\b\b\b\b\b\b\b\b\b\b\b\b\b\b\b\b\b\b\b\b\b\b\b\b\b\b\b\b\b\b\b\b\b\b\b\b\b\b\b\b\b\b\b\b\b\b\b\b\b\b\b\b\b\b\b\b\b\b\b\b\b\b\b\b\b\b\b\b\b\b\r1/1 [==============================] - 0s 238ms/step - loss: 0.3669 - accuracy: 0.8777\n",
            "Epoch 980/1000\n",
            "1/1 [==============================] - 0s 57ms/step\n",
            "\n",
            "Validation Accuracy: 40.55555555555556 %\n"
          ]
        },
        {
          "output_type": "stream",
          "name": "stderr",
          "text": [
            "WARNING:tensorflow:Can save best model only with val_loss available, skipping.\n"
          ]
        },
        {
          "output_type": "stream",
          "name": "stdout",
          "text": [
            "\b\b\b\b\b\b\b\b\b\b\b\b\b\b\b\b\b\b\b\b\b\b\b\b\b\b\b\b\b\b\b\b\b\b\b\b\b\b\b\b\b\b\b\b\b\b\b\b\b\b\b\b\b\b\b\b\b\b\b\b\b\b\b\b\b\b\b\b\b\b\b\b\b\b\b\b\b\b\b\b\r1/1 [==============================] - 0s 248ms/step - loss: 0.3670 - accuracy: 0.8754\n",
            "Epoch 981/1000\n",
            "1/1 [==============================] - 0s 72ms/step\n",
            "\n",
            "Validation Accuracy: 40.0 %\n"
          ]
        },
        {
          "output_type": "stream",
          "name": "stderr",
          "text": [
            "WARNING:tensorflow:Can save best model only with val_loss available, skipping.\n"
          ]
        },
        {
          "output_type": "stream",
          "name": "stdout",
          "text": [
            "\b\b\b\b\b\b\b\b\b\b\b\b\b\b\b\b\b\b\b\b\b\b\b\b\b\b\b\b\b\b\b\b\b\b\b\b\b\b\b\b\b\b\b\b\b\b\b\b\b\b\b\b\b\b\b\b\b\b\b\b\b\b\b\b\b\b\b\b\b\b\b\b\b\b\b\b\b\b\b\b\r1/1 [==============================] - 0s 265ms/step - loss: 0.3666 - accuracy: 0.8762\n",
            "Epoch 982/1000\n",
            "1/1 [==============================] - 0s 50ms/step\n",
            "\n",
            "Validation Accuracy: 40.0 %\n"
          ]
        },
        {
          "output_type": "stream",
          "name": "stderr",
          "text": [
            "WARNING:tensorflow:Can save best model only with val_loss available, skipping.\n"
          ]
        },
        {
          "output_type": "stream",
          "name": "stdout",
          "text": [
            "\b\b\b\b\b\b\b\b\b\b\b\b\b\b\b\b\b\b\b\b\b\b\b\b\b\b\b\b\b\b\b\b\b\b\b\b\b\b\b\b\b\b\b\b\b\b\b\b\b\b\b\b\b\b\b\b\b\b\b\b\b\b\b\b\b\b\b\b\b\b\b\b\b\b\b\b\b\b\b\b\r1/1 [==============================] - 0s 242ms/step - loss: 0.3696 - accuracy: 0.8779\n",
            "Epoch 983/1000\n",
            "1/1 [==============================] - 0s 38ms/step\n",
            "\n",
            "Validation Accuracy: 40.0 %\n"
          ]
        },
        {
          "output_type": "stream",
          "name": "stderr",
          "text": [
            "WARNING:tensorflow:Can save best model only with val_loss available, skipping.\n"
          ]
        },
        {
          "output_type": "stream",
          "name": "stdout",
          "text": [
            "\b\b\b\b\b\b\b\b\b\b\b\b\b\b\b\b\b\b\b\b\b\b\b\b\b\b\b\b\b\b\b\b\b\b\b\b\b\b\b\b\b\b\b\b\b\b\b\b\b\b\b\b\b\b\b\b\b\b\b\b\b\b\b\b\b\b\b\b\b\b\b\b\b\b\b\b\b\b\b\b\r1/1 [==============================] - 0s 225ms/step - loss: 0.3723 - accuracy: 0.8734\n",
            "Epoch 984/1000\n",
            "1/1 [==============================] - 0s 33ms/step\n",
            "\n",
            "Validation Accuracy: 41.11111111111111 %\n"
          ]
        },
        {
          "output_type": "stream",
          "name": "stderr",
          "text": [
            "WARNING:tensorflow:Can save best model only with val_loss available, skipping.\n"
          ]
        },
        {
          "output_type": "stream",
          "name": "stdout",
          "text": [
            "\b\b\b\b\b\b\b\b\b\b\b\b\b\b\b\b\b\b\b\b\b\b\b\b\b\b\b\b\b\b\b\b\b\b\b\b\b\b\b\b\b\b\b\b\b\b\b\b\b\b\b\b\b\b\b\b\b\b\b\b\b\b\b\b\b\b\b\b\b\b\b\b\b\b\b\b\b\b\b\b\r1/1 [==============================] - 0s 158ms/step - loss: 0.3675 - accuracy: 0.8770\n",
            "Epoch 985/1000\n",
            "1/1 [==============================] - 0s 41ms/step\n",
            "\n",
            "Validation Accuracy: 40.0 %\n"
          ]
        },
        {
          "output_type": "stream",
          "name": "stderr",
          "text": [
            "WARNING:tensorflow:Can save best model only with val_loss available, skipping.\n"
          ]
        },
        {
          "output_type": "stream",
          "name": "stdout",
          "text": [
            "\b\b\b\b\b\b\b\b\b\b\b\b\b\b\b\b\b\b\b\b\b\b\b\b\b\b\b\b\b\b\b\b\b\b\b\b\b\b\b\b\b\b\b\b\b\b\b\b\b\b\b\b\b\b\b\b\b\b\b\b\b\b\b\b\b\b\b\b\b\b\b\b\b\b\b\b\b\b\b\b\r1/1 [==============================] - 0s 194ms/step - loss: 0.3684 - accuracy: 0.8751\n",
            "Epoch 986/1000\n",
            "1/1 [==============================] - 0s 46ms/step\n",
            "\n",
            "Validation Accuracy: 39.44444444444444 %\n"
          ]
        },
        {
          "output_type": "stream",
          "name": "stderr",
          "text": [
            "WARNING:tensorflow:Can save best model only with val_loss available, skipping.\n"
          ]
        },
        {
          "output_type": "stream",
          "name": "stdout",
          "text": [
            "\b\b\b\b\b\b\b\b\b\b\b\b\b\b\b\b\b\b\b\b\b\b\b\b\b\b\b\b\b\b\b\b\b\b\b\b\b\b\b\b\b\b\b\b\b\b\b\b\b\b\b\b\b\b\b\b\b\b\b\b\b\b\b\b\b\b\b\b\b\b\b\b\b\b\b\b\b\b\b\b\r1/1 [==============================] - 0s 207ms/step - loss: 0.3748 - accuracy: 0.8718\n",
            "Epoch 987/1000\n",
            "1/1 [==============================] - 0s 32ms/step\n",
            "\n",
            "Validation Accuracy: 39.44444444444444 %\n"
          ]
        },
        {
          "output_type": "stream",
          "name": "stderr",
          "text": [
            "WARNING:tensorflow:Can save best model only with val_loss available, skipping.\n"
          ]
        },
        {
          "output_type": "stream",
          "name": "stdout",
          "text": [
            "\b\b\b\b\b\b\b\b\b\b\b\b\b\b\b\b\b\b\b\b\b\b\b\b\b\b\b\b\b\b\b\b\b\b\b\b\b\b\b\b\b\b\b\b\b\b\b\b\b\b\b\b\b\b\b\b\b\b\b\b\b\b\b\b\b\b\b\b\b\b\b\b\b\b\b\b\b\b\b\b\r1/1 [==============================] - 0s 179ms/step - loss: 0.3770 - accuracy: 0.8775\n",
            "Epoch 988/1000\n",
            "1/1 [==============================] - 0s 33ms/step\n",
            "\n",
            "Validation Accuracy: 39.44444444444444 %\n"
          ]
        },
        {
          "output_type": "stream",
          "name": "stderr",
          "text": [
            "WARNING:tensorflow:Can save best model only with val_loss available, skipping.\n"
          ]
        },
        {
          "output_type": "stream",
          "name": "stdout",
          "text": [
            "\b\b\b\b\b\b\b\b\b\b\b\b\b\b\b\b\b\b\b\b\b\b\b\b\b\b\b\b\b\b\b\b\b\b\b\b\b\b\b\b\b\b\b\b\b\b\b\b\b\b\b\b\b\b\b\b\b\b\b\b\b\b\b\b\b\b\b\b\b\b\b\b\b\b\b\b\b\b\b\b\r1/1 [==============================] - 0s 193ms/step - loss: 0.3740 - accuracy: 0.8759\n",
            "Epoch 989/1000\n",
            "1/1 [==============================] - 0s 35ms/step\n",
            "\n",
            "Validation Accuracy: 40.0 %\n"
          ]
        },
        {
          "output_type": "stream",
          "name": "stderr",
          "text": [
            "WARNING:tensorflow:Can save best model only with val_loss available, skipping.\n"
          ]
        },
        {
          "output_type": "stream",
          "name": "stdout",
          "text": [
            "\b\b\b\b\b\b\b\b\b\b\b\b\b\b\b\b\b\b\b\b\b\b\b\b\b\b\b\b\b\b\b\b\b\b\b\b\b\b\b\b\b\b\b\b\b\b\b\b\b\b\b\b\b\b\b\b\b\b\b\b\b\b\b\b\b\b\b\b\b\b\b\b\b\b\b\b\b\b\b\b\r1/1 [==============================] - 0s 168ms/step - loss: 0.3597 - accuracy: 0.8790\n",
            "Epoch 990/1000\n",
            "1/1 [==============================] - 0s 34ms/step\n",
            "\n",
            "Validation Accuracy: 40.0 %\n"
          ]
        },
        {
          "output_type": "stream",
          "name": "stderr",
          "text": [
            "WARNING:tensorflow:Can save best model only with val_loss available, skipping.\n"
          ]
        },
        {
          "output_type": "stream",
          "name": "stdout",
          "text": [
            "\b\b\b\b\b\b\b\b\b\b\b\b\b\b\b\b\b\b\b\b\b\b\b\b\b\b\b\b\b\b\b\b\b\b\b\b\b\b\b\b\b\b\b\b\b\b\b\b\b\b\b\b\b\b\b\b\b\b\b\b\b\b\b\b\b\b\b\b\b\b\b\b\b\b\b\b\b\b\b\b\r1/1 [==============================] - 0s 182ms/step - loss: 0.3735 - accuracy: 0.8739\n",
            "Epoch 991/1000\n",
            "1/1 [==============================] - 0s 37ms/step\n",
            "\n",
            "Validation Accuracy: 40.0 %\n"
          ]
        },
        {
          "output_type": "stream",
          "name": "stderr",
          "text": [
            "WARNING:tensorflow:Can save best model only with val_loss available, skipping.\n"
          ]
        },
        {
          "output_type": "stream",
          "name": "stdout",
          "text": [
            "\b\b\b\b\b\b\b\b\b\b\b\b\b\b\b\b\b\b\b\b\b\b\b\b\b\b\b\b\b\b\b\b\b\b\b\b\b\b\b\b\b\b\b\b\b\b\b\b\b\b\b\b\b\b\b\b\b\b\b\b\b\b\b\b\b\b\b\b\b\b\b\b\b\b\b\b\b\b\b\b\r1/1 [==============================] - 0s 186ms/step - loss: 0.3814 - accuracy: 0.8702\n",
            "Epoch 992/1000\n",
            "1/1 [==============================] - 0s 38ms/step\n",
            "\n",
            "Validation Accuracy: 40.55555555555556 %\n"
          ]
        },
        {
          "output_type": "stream",
          "name": "stderr",
          "text": [
            "WARNING:tensorflow:Can save best model only with val_loss available, skipping.\n"
          ]
        },
        {
          "output_type": "stream",
          "name": "stdout",
          "text": [
            "\b\b\b\b\b\b\b\b\b\b\b\b\b\b\b\b\b\b\b\b\b\b\b\b\b\b\b\b\b\b\b\b\b\b\b\b\b\b\b\b\b\b\b\b\b\b\b\b\b\b\b\b\b\b\b\b\b\b\b\b\b\b\b\b\b\b\b\b\b\b\b\b\b\b\b\b\b\b\b\b\r1/1 [==============================] - 0s 197ms/step - loss: 0.3741 - accuracy: 0.8752\n",
            "Epoch 993/1000\n",
            "1/1 [==============================] - 0s 37ms/step\n",
            "\n",
            "Validation Accuracy: 40.55555555555556 %\n"
          ]
        },
        {
          "output_type": "stream",
          "name": "stderr",
          "text": [
            "WARNING:tensorflow:Can save best model only with val_loss available, skipping.\n"
          ]
        },
        {
          "output_type": "stream",
          "name": "stdout",
          "text": [
            "\b\b\b\b\b\b\b\b\b\b\b\b\b\b\b\b\b\b\b\b\b\b\b\b\b\b\b\b\b\b\b\b\b\b\b\b\b\b\b\b\b\b\b\b\b\b\b\b\b\b\b\b\b\b\b\b\b\b\b\b\b\b\b\b\b\b\b\b\b\b\b\b\b\b\b\b\b\b\b\b\r1/1 [==============================] - 0s 173ms/step - loss: 0.3737 - accuracy: 0.8718\n",
            "Epoch 994/1000\n",
            "1/1 [==============================] - 0s 35ms/step\n",
            "\n",
            "Validation Accuracy: 40.55555555555556 %\n"
          ]
        },
        {
          "output_type": "stream",
          "name": "stderr",
          "text": [
            "WARNING:tensorflow:Can save best model only with val_loss available, skipping.\n"
          ]
        },
        {
          "output_type": "stream",
          "name": "stdout",
          "text": [
            "\b\b\b\b\b\b\b\b\b\b\b\b\b\b\b\b\b\b\b\b\b\b\b\b\b\b\b\b\b\b\b\b\b\b\b\b\b\b\b\b\b\b\b\b\b\b\b\b\b\b\b\b\b\b\b\b\b\b\b\b\b\b\b\b\b\b\b\b\b\b\b\b\b\b\b\b\b\b\b\b\r1/1 [==============================] - 0s 163ms/step - loss: 0.3734 - accuracy: 0.8742\n",
            "Epoch 995/1000\n",
            "1/1 [==============================] - 0s 34ms/step\n",
            "\n",
            "Validation Accuracy: 41.11111111111111 %\n"
          ]
        },
        {
          "output_type": "stream",
          "name": "stderr",
          "text": [
            "WARNING:tensorflow:Can save best model only with val_loss available, skipping.\n"
          ]
        },
        {
          "output_type": "stream",
          "name": "stdout",
          "text": [
            "\b\b\b\b\b\b\b\b\b\b\b\b\b\b\b\b\b\b\b\b\b\b\b\b\b\b\b\b\b\b\b\b\b\b\b\b\b\b\b\b\b\b\b\b\b\b\b\b\b\b\b\b\b\b\b\b\b\b\b\b\b\b\b\b\b\b\b\b\b\b\b\b\b\b\b\b\b\b\b\b\r1/1 [==============================] - 0s 181ms/step - loss: 0.3665 - accuracy: 0.8751\n",
            "Epoch 996/1000\n",
            "1/1 [==============================] - 0s 32ms/step\n",
            "\n",
            "Validation Accuracy: 40.55555555555556 %\n"
          ]
        },
        {
          "output_type": "stream",
          "name": "stderr",
          "text": [
            "WARNING:tensorflow:Can save best model only with val_loss available, skipping.\n"
          ]
        },
        {
          "output_type": "stream",
          "name": "stdout",
          "text": [
            "\b\b\b\b\b\b\b\b\b\b\b\b\b\b\b\b\b\b\b\b\b\b\b\b\b\b\b\b\b\b\b\b\b\b\b\b\b\b\b\b\b\b\b\b\b\b\b\b\b\b\b\b\b\b\b\b\b\b\b\b\b\b\b\b\b\b\b\b\b\b\b\b\b\b\b\b\b\b\b\b\r1/1 [==============================] - 0s 160ms/step - loss: 0.3685 - accuracy: 0.8752\n",
            "Epoch 997/1000\n",
            "1/1 [==============================] - 0s 37ms/step\n",
            "\n",
            "Validation Accuracy: 40.55555555555556 %\n"
          ]
        },
        {
          "output_type": "stream",
          "name": "stderr",
          "text": [
            "WARNING:tensorflow:Can save best model only with val_loss available, skipping.\n"
          ]
        },
        {
          "output_type": "stream",
          "name": "stdout",
          "text": [
            "\b\b\b\b\b\b\b\b\b\b\b\b\b\b\b\b\b\b\b\b\b\b\b\b\b\b\b\b\b\b\b\b\b\b\b\b\b\b\b\b\b\b\b\b\b\b\b\b\b\b\b\b\b\b\b\b\b\b\b\b\b\b\b\b\b\b\b\b\b\b\b\b\b\b\b\b\b\b\b\b\r1/1 [==============================] - 0s 198ms/step - loss: 0.3719 - accuracy: 0.8755\n",
            "Epoch 998/1000\n",
            "1/1 [==============================] - 0s 43ms/step\n",
            "\n",
            "Validation Accuracy: 40.55555555555556 %\n"
          ]
        },
        {
          "output_type": "stream",
          "name": "stderr",
          "text": [
            "WARNING:tensorflow:Can save best model only with val_loss available, skipping.\n"
          ]
        },
        {
          "output_type": "stream",
          "name": "stdout",
          "text": [
            "\b\b\b\b\b\b\b\b\b\b\b\b\b\b\b\b\b\b\b\b\b\b\b\b\b\b\b\b\b\b\b\b\b\b\b\b\b\b\b\b\b\b\b\b\b\b\b\b\b\b\b\b\b\b\b\b\b\b\b\b\b\b\b\b\b\b\b\b\b\b\b\b\b\b\b\b\b\b\b\b\r1/1 [==============================] - 0s 194ms/step - loss: 0.3752 - accuracy: 0.8724\n",
            "Epoch 999/1000\n",
            "1/1 [==============================] - 0s 34ms/step\n",
            "\n",
            "Validation Accuracy: 39.44444444444444 %\n"
          ]
        },
        {
          "output_type": "stream",
          "name": "stderr",
          "text": [
            "WARNING:tensorflow:Can save best model only with val_loss available, skipping.\n"
          ]
        },
        {
          "output_type": "stream",
          "name": "stdout",
          "text": [
            "\b\b\b\b\b\b\b\b\b\b\b\b\b\b\b\b\b\b\b\b\b\b\b\b\b\b\b\b\b\b\b\b\b\b\b\b\b\b\b\b\b\b\b\b\b\b\b\b\b\b\b\b\b\b\b\b\b\b\b\b\b\b\b\b\b\b\b\b\b\b\b\b\b\b\b\b\b\b\b\b\r1/1 [==============================] - 0s 169ms/step - loss: 0.3726 - accuracy: 0.8711\n",
            "Epoch 1000/1000\n",
            "1/1 [==============================] - 0s 38ms/step\n",
            "\n",
            "Validation Accuracy: 39.44444444444444 %\n"
          ]
        },
        {
          "output_type": "stream",
          "name": "stderr",
          "text": [
            "WARNING:tensorflow:Can save best model only with val_loss available, skipping.\n"
          ]
        },
        {
          "output_type": "stream",
          "name": "stdout",
          "text": [
            "\b\b\b\b\b\b\b\b\b\b\b\b\b\b\b\b\b\b\b\b\b\b\b\b\b\b\b\b\b\b\b\b\b\b\b\b\b\b\b\b\b\b\b\b\b\b\b\b\b\b\b\b\b\b\b\b\b\b\b\b\b\b\b\b\b\b\b\b\b\b\b\b\b\b\b\b\b\b\b\b\r1/1 [==============================] - 0s 162ms/step - loss: 0.3732 - accuracy: 0.8755\n"
          ]
        }
      ],
      "source": [
        "BATCH_SIZE = 256\n",
        "\n",
        "# select optimizer\n",
        "optimizer = keras.optimizers.Adam(clipvalue=1.2)\n",
        "model.compile(optimizer, loss='categorical_crossentropy', metrics=['accuracy'])\n",
        "\n",
        "# train model\n",
        "hist = model.fit_generator(generate_model_batches(train_data, batch_size=BATCH_SIZE), steps_per_epoch=len(train_data)/BATCH_SIZE,\n",
        "                          callbacks=[acc_callback, checkpoint], epochs=1000)"
      ]
    },
    {
      "cell_type": "code",
      "execution_count": null,
      "metadata": {
        "id": "PR7vTNjek_76"
      },
      "outputs": [],
      "source": [
        "# save model\n",
        "model.save('/content/drive/MyDrive/Colab Notebooks/model.h5')\n",
        "model.save_weights('/content/drive/MyDrive/Colab Notebooks/weights.h5')"
      ]
    },
    {
      "cell_type": "code",
      "source": [
        "hist.history"
      ],
      "metadata": {
        "colab": {
          "base_uri": "https://localhost:8080/"
        },
        "id": "odFNL6YbAY_m",
        "outputId": "366a238d-09f8-4320-b04e-ccd3df80a4ad"
      },
      "execution_count": null,
      "outputs": [
        {
          "output_type": "execute_result",
          "data": {
            "text/plain": [
              "{'loss': [1.0405875444412231,\n",
              "  1.0063743591308594,\n",
              "  1.0337331295013428,\n",
              "  1.0108598470687866,\n",
              "  1.012195110321045,\n",
              "  1.006805658340454,\n",
              "  1.0015928745269775,\n",
              "  1.0004756450653076,\n",
              "  1.007708191871643,\n",
              "  1.0006085634231567,\n",
              "  1.0021350383758545,\n",
              "  0.9970020055770874,\n",
              "  0.9955666065216064,\n",
              "  1.0023212432861328,\n",
              "  1.0062613487243652,\n",
              "  0.9990041255950928,\n",
              "  0.9847627282142639,\n",
              "  0.9928246140480042,\n",
              "  0.9950999021530151,\n",
              "  0.9836406111717224,\n",
              "  0.9897753000259399,\n",
              "  0.9913014769554138,\n",
              "  0.9833217859268188,\n",
              "  0.9906001687049866,\n",
              "  0.9908159375190735,\n",
              "  0.9867616891860962,\n",
              "  0.9852235317230225,\n",
              "  0.9875953197479248,\n",
              "  0.9817515015602112,\n",
              "  0.9813975691795349,\n",
              "  0.9882553219795227,\n",
              "  0.9742454886436462,\n",
              "  0.9830912351608276,\n",
              "  0.9746511578559875,\n",
              "  0.9767426252365112,\n",
              "  0.983801543712616,\n",
              "  0.9695214629173279,\n",
              "  0.974310576915741,\n",
              "  0.9760063290596008,\n",
              "  0.976288914680481,\n",
              "  0.9599568843841553,\n",
              "  0.9647451043128967,\n",
              "  0.969874918460846,\n",
              "  0.9674261212348938,\n",
              "  0.9658929109573364,\n",
              "  0.979665994644165,\n",
              "  0.9681459665298462,\n",
              "  0.9710978269577026,\n",
              "  0.9697354435920715,\n",
              "  0.9652610421180725,\n",
              "  0.9608930349349976,\n",
              "  0.9655472636222839,\n",
              "  0.9689156413078308,\n",
              "  0.9659930467605591,\n",
              "  0.9591094851493835,\n",
              "  0.9663664102554321,\n",
              "  0.9556273221969604,\n",
              "  0.9587547779083252,\n",
              "  0.9602667093276978,\n",
              "  0.955854058265686,\n",
              "  0.949505627155304,\n",
              "  0.9556573033332825,\n",
              "  0.9513798952102661,\n",
              "  0.9493693113327026,\n",
              "  0.9576119780540466,\n",
              "  0.953872799873352,\n",
              "  0.9502831101417542,\n",
              "  0.9493511319160461,\n",
              "  0.9499537944793701,\n",
              "  0.9377257823944092,\n",
              "  0.9503594040870667,\n",
              "  0.9360987544059753,\n",
              "  0.9461886286735535,\n",
              "  0.9409445524215698,\n",
              "  0.9380320310592651,\n",
              "  0.9461581707000732,\n",
              "  0.9334628582000732,\n",
              "  0.9429714679718018,\n",
              "  0.9392053484916687,\n",
              "  0.9366844296455383,\n",
              "  0.9298130869865417,\n",
              "  0.9318957924842834,\n",
              "  0.9363008141517639,\n",
              "  0.9355547428131104,\n",
              "  0.9363493323326111,\n",
              "  0.9331580996513367,\n",
              "  0.9294807314872742,\n",
              "  0.923693835735321,\n",
              "  0.9254882335662842,\n",
              "  0.9272590279579163,\n",
              "  0.9278631210327148,\n",
              "  0.9189752340316772,\n",
              "  0.924849271774292,\n",
              "  0.9206862449645996,\n",
              "  0.9124314188957214,\n",
              "  0.9162975549697876,\n",
              "  0.9118059873580933,\n",
              "  0.9079415202140808,\n",
              "  0.9086020588874817,\n",
              "  0.9037684798240662,\n",
              "  0.9086774587631226,\n",
              "  0.9051128625869751,\n",
              "  0.9120641946792603,\n",
              "  0.9075993299484253,\n",
              "  0.9041502475738525,\n",
              "  0.9087650179862976,\n",
              "  0.9038417339324951,\n",
              "  0.8945067524909973,\n",
              "  0.9041707515716553,\n",
              "  0.9008473753929138,\n",
              "  0.897002100944519,\n",
              "  0.8995476365089417,\n",
              "  0.9001365900039673,\n",
              "  0.8929286599159241,\n",
              "  0.8984096050262451,\n",
              "  0.8870263695716858,\n",
              "  0.8993467688560486,\n",
              "  0.8896258473396301,\n",
              "  0.8906895518302917,\n",
              "  0.8991522192955017,\n",
              "  0.8864062428474426,\n",
              "  0.8782360553741455,\n",
              "  0.8852260112762451,\n",
              "  0.8814095854759216,\n",
              "  0.8833451271057129,\n",
              "  0.877286434173584,\n",
              "  0.8697406649589539,\n",
              "  0.879636287689209,\n",
              "  0.8825515508651733,\n",
              "  0.8822084665298462,\n",
              "  0.8752448558807373,\n",
              "  0.8735582828521729,\n",
              "  0.8810063004493713,\n",
              "  0.870610237121582,\n",
              "  0.8649400472640991,\n",
              "  0.8670521974563599,\n",
              "  0.8657572269439697,\n",
              "  0.8735546469688416,\n",
              "  0.8587216138839722,\n",
              "  0.8624207973480225,\n",
              "  0.8550413846969604,\n",
              "  0.8582358360290527,\n",
              "  0.8685203790664673,\n",
              "  0.8524847030639648,\n",
              "  0.8446323871612549,\n",
              "  0.8552160263061523,\n",
              "  0.8673675656318665,\n",
              "  0.8517637848854065,\n",
              "  0.8631121516227722,\n",
              "  0.8438600301742554,\n",
              "  0.8528854846954346,\n",
              "  0.8465515971183777,\n",
              "  0.8372216820716858,\n",
              "  0.8446783423423767,\n",
              "  0.8369860649108887,\n",
              "  0.8378008008003235,\n",
              "  0.854556143283844,\n",
              "  0.8407383561134338,\n",
              "  0.8409344553947449,\n",
              "  0.8339419364929199,\n",
              "  0.8381682634353638,\n",
              "  0.8371163606643677,\n",
              "  0.8300196528434753,\n",
              "  0.8350651860237122,\n",
              "  0.8299667835235596,\n",
              "  0.8296504616737366,\n",
              "  0.8217225074768066,\n",
              "  0.8272533416748047,\n",
              "  0.8245732188224792,\n",
              "  0.8295015096664429,\n",
              "  0.8232350945472717,\n",
              "  0.8226345777511597,\n",
              "  0.8207792043685913,\n",
              "  0.8150589466094971,\n",
              "  0.8200786113739014,\n",
              "  0.8221559524536133,\n",
              "  0.8155335783958435,\n",
              "  0.8148389458656311,\n",
              "  0.8157287836074829,\n",
              "  0.8118194341659546,\n",
              "  0.8106281161308289,\n",
              "  0.8049847483634949,\n",
              "  0.801952600479126,\n",
              "  0.8042085766792297,\n",
              "  0.80119788646698,\n",
              "  0.7989102602005005,\n",
              "  0.7944309115409851,\n",
              "  0.8004031181335449,\n",
              "  0.8010714650154114,\n",
              "  0.8037298321723938,\n",
              "  0.7991376519203186,\n",
              "  0.7979939579963684,\n",
              "  0.7907472252845764,\n",
              "  0.7887019515037537,\n",
              "  0.794728696346283,\n",
              "  0.7924718260765076,\n",
              "  0.7936475276947021,\n",
              "  0.7878467440605164,\n",
              "  0.780356764793396,\n",
              "  0.7796037197113037,\n",
              "  0.7792965173721313,\n",
              "  0.7736973166465759,\n",
              "  0.7839877605438232,\n",
              "  0.7809328436851501,\n",
              "  0.7720890641212463,\n",
              "  0.7827075719833374,\n",
              "  0.7822999954223633,\n",
              "  0.7785452008247375,\n",
              "  0.7661458253860474,\n",
              "  0.7645323276519775,\n",
              "  0.7758604288101196,\n",
              "  0.7825313210487366,\n",
              "  0.771569550037384,\n",
              "  0.7727554440498352,\n",
              "  0.7711690068244934,\n",
              "  0.7697216272354126,\n",
              "  0.766395628452301,\n",
              "  0.76885586977005,\n",
              "  0.7549372911453247,\n",
              "  0.7682894468307495,\n",
              "  0.7534188628196716,\n",
              "  0.7621230483055115,\n",
              "  0.7536314725875854,\n",
              "  0.7545415759086609,\n",
              "  0.7628506422042847,\n",
              "  0.7521085739135742,\n",
              "  0.7565634846687317,\n",
              "  0.7515246868133545,\n",
              "  0.747205913066864,\n",
              "  0.7572230696678162,\n",
              "  0.7410720586776733,\n",
              "  0.7475221157073975,\n",
              "  0.7462310791015625,\n",
              "  0.7400094270706177,\n",
              "  0.7390956878662109,\n",
              "  0.7449013590812683,\n",
              "  0.7407253384590149,\n",
              "  0.7387856841087341,\n",
              "  0.7363998889923096,\n",
              "  0.7384055852890015,\n",
              "  0.7459404468536377,\n",
              "  0.7281053066253662,\n",
              "  0.7240999341011047,\n",
              "  0.7292600870132446,\n",
              "  0.7349438071250916,\n",
              "  0.7309024333953857,\n",
              "  0.7255957722663879,\n",
              "  0.7176837921142578,\n",
              "  0.7222123146057129,\n",
              "  0.7211251258850098,\n",
              "  0.7237597703933716,\n",
              "  0.7290403246879578,\n",
              "  0.7195043563842773,\n",
              "  0.712745726108551,\n",
              "  0.7220922112464905,\n",
              "  0.7119194269180298,\n",
              "  0.724407970905304,\n",
              "  0.7121632695198059,\n",
              "  0.7140161395072937,\n",
              "  0.7001355886459351,\n",
              "  0.705432116985321,\n",
              "  0.7091212868690491,\n",
              "  0.7047703862190247,\n",
              "  0.7009236216545105,\n",
              "  0.6951642036437988,\n",
              "  0.7032219767570496,\n",
              "  0.7067267894744873,\n",
              "  0.704501211643219,\n",
              "  0.6977160573005676,\n",
              "  0.6948490142822266,\n",
              "  0.7008112668991089,\n",
              "  0.6968668699264526,\n",
              "  0.6943213939666748,\n",
              "  0.6933162808418274,\n",
              "  0.6927990317344666,\n",
              "  0.6918808817863464,\n",
              "  0.695327877998352,\n",
              "  0.6893643140792847,\n",
              "  0.6886799335479736,\n",
              "  0.6984356045722961,\n",
              "  0.6852774024009705,\n",
              "  0.6803712844848633,\n",
              "  0.6911787986755371,\n",
              "  0.6886765956878662,\n",
              "  0.6647681593894958,\n",
              "  0.6788625121116638,\n",
              "  0.6737242341041565,\n",
              "  0.6809310913085938,\n",
              "  0.6769705414772034,\n",
              "  0.6789577007293701,\n",
              "  0.6744496822357178,\n",
              "  0.6674581170082092,\n",
              "  0.672641932964325,\n",
              "  0.6687827110290527,\n",
              "  0.6764918565750122,\n",
              "  0.6726426482200623,\n",
              "  0.6738294959068298,\n",
              "  0.6658052206039429,\n",
              "  0.6662124395370483,\n",
              "  0.658320426940918,\n",
              "  0.6527025699615479,\n",
              "  0.6574870347976685,\n",
              "  0.6645591855049133,\n",
              "  0.6542757153511047,\n",
              "  0.6526299118995667,\n",
              "  0.6671753525733948,\n",
              "  0.6616101264953613,\n",
              "  0.6503750681877136,\n",
              "  0.6523378491401672,\n",
              "  0.6448686122894287,\n",
              "  0.6508162021636963,\n",
              "  0.6449399590492249,\n",
              "  0.6496760845184326,\n",
              "  0.6424234509468079,\n",
              "  0.6400588154792786,\n",
              "  0.6439851522445679,\n",
              "  0.6455280780792236,\n",
              "  0.6405711770057678,\n",
              "  0.6405864953994751,\n",
              "  0.6373171806335449,\n",
              "  0.6339174509048462,\n",
              "  0.6378549933433533,\n",
              "  0.6407603621482849,\n",
              "  0.6418867707252502,\n",
              "  0.6398591995239258,\n",
              "  0.6357319951057434,\n",
              "  0.6474022269248962,\n",
              "  0.6385247111320496,\n",
              "  0.6421746611595154,\n",
              "  0.6428687572479248,\n",
              "  0.6461427211761475,\n",
              "  0.6361412405967712,\n",
              "  0.6286976933479309,\n",
              "  0.6381409168243408,\n",
              "  0.6247109770774841,\n",
              "  0.6272915601730347,\n",
              "  0.6298444271087646,\n",
              "  0.6217193007469177,\n",
              "  0.627273440361023,\n",
              "  0.6231759190559387,\n",
              "  0.6365208029747009,\n",
              "  0.628930926322937,\n",
              "  0.6298301219940186,\n",
              "  0.6142323613166809,\n",
              "  0.6248049736022949,\n",
              "  0.6173721551895142,\n",
              "  0.616012454032898,\n",
              "  0.6117897629737854,\n",
              "  0.609258770942688,\n",
              "  0.6178150177001953,\n",
              "  0.6140083074569702,\n",
              "  0.6165726184844971,\n",
              "  0.6136125922203064,\n",
              "  0.6052972078323364,\n",
              "  0.6077263355255127,\n",
              "  0.6037675142288208,\n",
              "  0.6010577082633972,\n",
              "  0.6050400733947754,\n",
              "  0.6108763813972473,\n",
              "  0.6028355360031128,\n",
              "  0.6029176712036133,\n",
              "  0.6099342107772827,\n",
              "  0.6033403873443604,\n",
              "  0.5993568301200867,\n",
              "  0.600627601146698,\n",
              "  0.5973037481307983,\n",
              "  0.598795473575592,\n",
              "  0.5939605832099915,\n",
              "  0.6040849089622498,\n",
              "  0.5906792283058167,\n",
              "  0.5892305970191956,\n",
              "  0.5858490467071533,\n",
              "  0.5895786285400391,\n",
              "  0.598545491695404,\n",
              "  0.5897598266601562,\n",
              "  0.5911917090415955,\n",
              "  0.5898148417472839,\n",
              "  0.5997318625450134,\n",
              "  0.5914666056632996,\n",
              "  0.5971949696540833,\n",
              "  0.5957993865013123,\n",
              "  0.5832366347312927,\n",
              "  0.5913829803466797,\n",
              "  0.5816994309425354,\n",
              "  0.5850441455841064,\n",
              "  0.5868546366691589,\n",
              "  0.5810161232948303,\n",
              "  0.5863762497901917,\n",
              "  0.5871014595031738,\n",
              "  0.5743271708488464,\n",
              "  0.5814236402511597,\n",
              "  0.5827239155769348,\n",
              "  0.5763325691223145,\n",
              "  0.5824405550956726,\n",
              "  0.5680036544799805,\n",
              "  0.5814425349235535,\n",
              "  0.5819884538650513,\n",
              "  0.5698972940444946,\n",
              "  0.5727558135986328,\n",
              "  0.5631265640258789,\n",
              "  0.5638914704322815,\n",
              "  0.56678706407547,\n",
              "  0.5641493201255798,\n",
              "  0.575822114944458,\n",
              "  0.572006106376648,\n",
              "  0.565025269985199,\n",
              "  0.5751065611839294,\n",
              "  0.5714092254638672,\n",
              "  0.5662674903869629,\n",
              "  0.5629474520683289,\n",
              "  0.5620054602622986,\n",
              "  0.559456467628479,\n",
              "  0.5618469715118408,\n",
              "  0.5605316758155823,\n",
              "  0.5652318596839905,\n",
              "  0.5651178359985352,\n",
              "  0.5625259280204773,\n",
              "  0.5547348260879517,\n",
              "  0.5673840641975403,\n",
              "  0.5568380355834961,\n",
              "  0.5581836700439453,\n",
              "  0.5624030828475952,\n",
              "  0.5526520013809204,\n",
              "  0.5637751817703247,\n",
              "  0.5613616704940796,\n",
              "  0.555385172367096,\n",
              "  0.5557262897491455,\n",
              "  0.5509963035583496,\n",
              "  0.549837589263916,\n",
              "  0.5635546445846558,\n",
              "  0.550858736038208,\n",
              "  0.5483397245407104,\n",
              "  0.5552748441696167,\n",
              "  0.5463521480560303,\n",
              "  0.5524278879165649,\n",
              "  0.5525509119033813,\n",
              "  0.541381299495697,\n",
              "  0.5448440313339233,\n",
              "  0.546700119972229,\n",
              "  0.5493438839912415,\n",
              "  0.5464693307876587,\n",
              "  0.5420851111412048,\n",
              "  0.543165922164917,\n",
              "  0.5535391569137573,\n",
              "  0.5429184436798096,\n",
              "  0.5336289405822754,\n",
              "  0.5425950884819031,\n",
              "  0.5317959189414978,\n",
              "  0.5300333499908447,\n",
              "  0.5447673201560974,\n",
              "  0.5396363735198975,\n",
              "  0.5314600467681885,\n",
              "  0.5384658575057983,\n",
              "  0.5370391607284546,\n",
              "  0.5425007939338684,\n",
              "  0.532704770565033,\n",
              "  0.5439780950546265,\n",
              "  0.5303422808647156,\n",
              "  0.5356671810150146,\n",
              "  0.5269597172737122,\n",
              "  0.5361748337745667,\n",
              "  0.52973872423172,\n",
              "  0.5300330519676208,\n",
              "  0.523740291595459,\n",
              "  0.5313605070114136,\n",
              "  0.5279449224472046,\n",
              "  0.5227495431900024,\n",
              "  0.5202775001525879,\n",
              "  0.5230162739753723,\n",
              "  0.5237523317337036,\n",
              "  0.5237516164779663,\n",
              "  0.5283946394920349,\n",
              "  0.5339472889900208,\n",
              "  0.5343589782714844,\n",
              "  0.5216595530509949,\n",
              "  0.5202119946479797,\n",
              "  0.5268195271492004,\n",
              "  0.5225452780723572,\n",
              "  0.5233412981033325,\n",
              "  0.5210995078086853,\n",
              "  0.5246332883834839,\n",
              "  0.5143836140632629,\n",
              "  0.5203929543495178,\n",
              "  0.5173360109329224,\n",
              "  0.512049674987793,\n",
              "  0.5105926394462585,\n",
              "  0.5185245871543884,\n",
              "  0.5147547125816345,\n",
              "  0.5136886239051819,\n",
              "  0.5111069083213806,\n",
              "  0.532771110534668,\n",
              "  0.5081590414047241,\n",
              "  0.5078848004341125,\n",
              "  0.5134382247924805,\n",
              "  0.5177993178367615,\n",
              "  0.5089884996414185,\n",
              "  0.5038444399833679,\n",
              "  0.5094744563102722,\n",
              "  0.5123194456100464,\n",
              "  0.5057594776153564,\n",
              "  0.5031133890151978,\n",
              "  0.5071799755096436,\n",
              "  0.5091376900672913,\n",
              "  0.5083958506584167,\n",
              "  0.5066061019897461,\n",
              "  0.5072113275527954,\n",
              "  0.50208580493927,\n",
              "  0.5147587060928345,\n",
              "  0.5114500522613525,\n",
              "  0.5019192695617676,\n",
              "  0.5019527077674866,\n",
              "  0.50519198179245,\n",
              "  0.5034208297729492,\n",
              "  0.5053706765174866,\n",
              "  0.5027962327003479,\n",
              "  0.5052226781845093,\n",
              "  0.5006951689720154,\n",
              "  0.4996747672557831,\n",
              "  0.5087877511978149,\n",
              "  0.5086374282836914,\n",
              "  0.505226194858551,\n",
              "  0.5006030797958374,\n",
              "  0.5075724124908447,\n",
              "  0.5036894083023071,\n",
              "  0.5103328227996826,\n",
              "  0.49313056468963623,\n",
              "  0.5039412975311279,\n",
              "  0.496587872505188,\n",
              "  0.4992833435535431,\n",
              "  0.4987189769744873,\n",
              "  0.4971882998943329,\n",
              "  0.49175766110420227,\n",
              "  0.5029024481773376,\n",
              "  0.4928123950958252,\n",
              "  0.48889636993408203,\n",
              "  0.48829030990600586,\n",
              "  0.4877324402332306,\n",
              "  0.48682913184165955,\n",
              "  0.49853843450546265,\n",
              "  0.48460423946380615,\n",
              "  0.4931424558162689,\n",
              "  0.49564728140830994,\n",
              "  0.47306156158447266,\n",
              "  0.4892021417617798,\n",
              "  0.48461827635765076,\n",
              "  0.49945977330207825,\n",
              "  0.49193355441093445,\n",
              "  0.48926737904548645,\n",
              "  0.4867182672023773,\n",
              "  0.4872753918170929,\n",
              "  0.48986437916755676,\n",
              "  0.4956064820289612,\n",
              "  0.48523667454719543,\n",
              "  0.4860392212867737,\n",
              "  0.4790164530277252,\n",
              "  0.4923412501811981,\n",
              "  0.49308276176452637,\n",
              "  0.48928505182266235,\n",
              "  0.48836982250213623,\n",
              "  0.48511260747909546,\n",
              "  0.48023340106010437,\n",
              "  0.4787881076335907,\n",
              "  0.4814123213291168,\n",
              "  0.4763258397579193,\n",
              "  0.4833469092845917,\n",
              "  0.4813482463359833,\n",
              "  0.4772769808769226,\n",
              "  0.48484504222869873,\n",
              "  0.47152259945869446,\n",
              "  0.46992194652557373,\n",
              "  0.4780633747577667,\n",
              "  0.47881078720092773,\n",
              "  0.4796869456768036,\n",
              "  0.47007015347480774,\n",
              "  0.47644951939582825,\n",
              "  0.47477900981903076,\n",
              "  0.47756776213645935,\n",
              "  0.4725581705570221,\n",
              "  0.48312777280807495,\n",
              "  0.4763215482234955,\n",
              "  0.473763108253479,\n",
              "  0.4724119007587433,\n",
              "  0.46914142370224,\n",
              "  0.4694805443286896,\n",
              "  0.4702603220939636,\n",
              "  0.4690307676792145,\n",
              "  0.46719926595687866,\n",
              "  0.47269025444984436,\n",
              "  0.4715128242969513,\n",
              "  0.46874916553497314,\n",
              "  0.4713629484176636,\n",
              "  0.46445006132125854,\n",
              "  0.46659931540489197,\n",
              "  0.4755033254623413,\n",
              "  0.4702884554862976,\n",
              "  0.466905802488327,\n",
              "  0.4664933979511261,\n",
              "  0.4696613550186157,\n",
              "  0.46196261048316956,\n",
              "  0.476421982049942,\n",
              "  0.47104811668395996,\n",
              "  0.46281105279922485,\n",
              "  0.4660649597644806,\n",
              "  0.4617764353752136,\n",
              "  0.4568049907684326,\n",
              "  0.4662722051143646,\n",
              "  0.4567379057407379,\n",
              "  0.4642525911331177,\n",
              "  0.45681366324424744,\n",
              "  0.45814651250839233,\n",
              "  0.45848745107650757,\n",
              "  0.45871400833129883,\n",
              "  0.4532100260257721,\n",
              "  0.45336902141571045,\n",
              "  0.4527532160282135,\n",
              "  0.46272191405296326,\n",
              "  0.45119819045066833,\n",
              "  0.4599655270576477,\n",
              "  0.46186497807502747,\n",
              "  0.46214935183525085,\n",
              "  0.44633522629737854,\n",
              "  0.4578132927417755,\n",
              "  0.4627806544303894,\n",
              "  0.4525684118270874,\n",
              "  0.4667174518108368,\n",
              "  0.4608694314956665,\n",
              "  0.4540976881980896,\n",
              "  0.45783698558807373,\n",
              "  0.45633018016815186,\n",
              "  0.44953322410583496,\n",
              "  0.4525805413722992,\n",
              "  0.4580976068973541,\n",
              "  0.4494606852531433,\n",
              "  0.4549139142036438,\n",
              "  0.45076674222946167,\n",
              "  0.45671364665031433,\n",
              "  0.4529299736022949,\n",
              "  0.45082560181617737,\n",
              "  0.4440913498401642,\n",
              "  0.44634369015693665,\n",
              "  0.4514790177345276,\n",
              "  0.4517684280872345,\n",
              "  0.44265973567962646,\n",
              "  0.45147088170051575,\n",
              "  0.4407626986503601,\n",
              "  0.448635071516037,\n",
              "  0.44793474674224854,\n",
              "  0.45130455493927,\n",
              "  0.4494842290878296,\n",
              "  0.44413360953330994,\n",
              "  0.4509117901325226,\n",
              "  0.45061013102531433,\n",
              "  0.4427889585494995,\n",
              "  0.44500428438186646,\n",
              "  0.45480144023895264,\n",
              "  0.44140756130218506,\n",
              "  0.4467242956161499,\n",
              "  0.4399358928203583,\n",
              "  0.4414157569408417,\n",
              "  0.4434604346752167,\n",
              "  0.43914714455604553,\n",
              "  0.4406422972679138,\n",
              "  0.4399242699146271,\n",
              "  0.4377032220363617,\n",
              "  0.4440247416496277,\n",
              "  0.44802385568618774,\n",
              "  0.4498724043369293,\n",
              "  0.435330331325531,\n",
              "  0.4411237835884094,\n",
              "  0.4361518621444702,\n",
              "  0.4447745084762573,\n",
              "  0.44117218255996704,\n",
              "  0.44685816764831543,\n",
              "  0.44532260298728943,\n",
              "  0.4264685809612274,\n",
              "  0.4413858950138092,\n",
              "  0.4375591576099396,\n",
              "  0.44773268699645996,\n",
              "  0.43651318550109863,\n",
              "  0.4343692362308502,\n",
              "  0.43214112520217896,\n",
              "  0.43675392866134644,\n",
              "  0.44731250405311584,\n",
              "  0.43750131130218506,\n",
              "  0.45709148049354553,\n",
              "  0.43795472383499146,\n",
              "  0.43075641989707947,\n",
              "  0.4313371181488037,\n",
              "  0.4340541958808899,\n",
              "  0.43276265263557434,\n",
              "  0.4324025511741638,\n",
              "  0.4261963963508606,\n",
              "  0.43881458044052124,\n",
              "  0.4354390501976013,\n",
              "  0.42895063757896423,\n",
              "  0.41843533515930176,\n",
              "  0.4288949966430664,\n",
              "  0.42708083987236023,\n",
              "  0.43558868765830994,\n",
              "  0.42943429946899414,\n",
              "  0.4302682876586914,\n",
              "  0.43577852845191956,\n",
              "  0.4316529631614685,\n",
              "  0.4253096580505371,\n",
              "  0.4324992597103119,\n",
              "  0.43345293402671814,\n",
              "  0.42562544345855713,\n",
              "  0.4255286753177643,\n",
              "  0.43224912881851196,\n",
              "  0.43249693512916565,\n",
              "  0.42807674407958984,\n",
              "  0.434323251247406,\n",
              "  0.4265005588531494,\n",
              "  0.42939233779907227,\n",
              "  0.43349188566207886,\n",
              "  0.43347054719924927,\n",
              "  0.41781726479530334,\n",
              "  0.4328072965145111,\n",
              "  0.42352330684661865,\n",
              "  0.42555156350135803,\n",
              "  0.4264437258243561,\n",
              "  0.42180871963500977,\n",
              "  0.4250415563583374,\n",
              "  0.42597320675849915,\n",
              "  0.42746230959892273,\n",
              "  0.43386396765708923,\n",
              "  0.4143909215927124,\n",
              "  0.4224978983402252,\n",
              "  0.42831405997276306,\n",
              "  0.4171055853366852,\n",
              "  0.4262719750404358,\n",
              "  0.4160706698894501,\n",
              "  0.41512957215309143,\n",
              "  0.4299977719783783,\n",
              "  0.42071017622947693,\n",
              "  0.423479288816452,\n",
              "  0.42760396003723145,\n",
              "  0.4179525375366211,\n",
              "  0.42712563276290894,\n",
              "  0.4217771291732788,\n",
              "  0.42930078506469727,\n",
              "  0.4187183976173401,\n",
              "  0.4166319966316223,\n",
              "  0.41746383905410767,\n",
              "  0.4146259129047394,\n",
              "  0.42047715187072754,\n",
              "  0.42157071828842163,\n",
              "  0.4181850850582123,\n",
              "  0.4188069701194763,\n",
              "  0.41796478629112244,\n",
              "  0.4211108982563019,\n",
              "  0.42298904061317444,\n",
              "  0.41590219736099243,\n",
              "  0.41419827938079834,\n",
              "  0.41710320115089417,\n",
              "  0.41158854961395264,\n",
              "  0.41152235865592957,\n",
              "  0.4121081829071045,\n",
              "  0.4163997173309326,\n",
              "  0.4152352511882782,\n",
              "  0.4199637174606323,\n",
              "  0.4120125472545624,\n",
              "  0.42295873165130615,\n",
              "  0.41114503145217896,\n",
              "  0.4111383855342865,\n",
              "  0.4169170558452606,\n",
              "  0.4052537679672241,\n",
              "  0.4113871157169342,\n",
              "  0.4153105914592743,\n",
              "  0.4109828472137451,\n",
              "  0.4196816086769104,\n",
              "  0.4171360433101654,\n",
              "  0.41902145743370056,\n",
              "  0.41459593176841736,\n",
              "  0.4097084403038025,\n",
              "  0.4181133210659027,\n",
              "  0.4091740548610687,\n",
              "  0.41869300603866577,\n",
              "  0.41197964549064636,\n",
              "  0.414157509803772,\n",
              "  0.40703678131103516,\n",
              "  0.41284412145614624,\n",
              "  0.4124617874622345,\n",
              "  0.40978989005088806,\n",
              "  0.4062841832637787,\n",
              "  0.410183310508728,\n",
              "  0.4159858822822571,\n",
              "  0.4176500737667084,\n",
              "  0.4097244143486023,\n",
              "  0.4126759171485901,\n",
              "  0.407790869474411,\n",
              "  0.41078710556030273,\n",
              "  0.407160222530365,\n",
              "  0.4099099934101105,\n",
              "  0.4086626470088959,\n",
              "  0.4020516872406006,\n",
              "  0.39556175470352173,\n",
              "  0.4081505835056305,\n",
              "  0.40716618299484253,\n",
              "  0.40429627895355225,\n",
              "  0.4083970785140991,\n",
              "  0.40402376651763916,\n",
              "  0.41105541586875916,\n",
              "  0.4020518660545349,\n",
              "  0.39733704924583435,\n",
              "  0.39567914605140686,\n",
              "  0.40536782145500183,\n",
              "  0.39580237865448,\n",
              "  0.40668928623199463,\n",
              "  0.3950951099395752,\n",
              "  0.4060490131378174,\n",
              "  0.40457457304000854,\n",
              "  0.3992401957511902,\n",
              "  0.3976263105869293,\n",
              "  0.4069560766220093,\n",
              "  0.4016004204750061,\n",
              "  0.40357688069343567,\n",
              "  0.40075695514678955,\n",
              "  0.4001908302307129,\n",
              "  0.4038204252719879,\n",
              "  0.3941560983657837,\n",
              "  0.40015578269958496,\n",
              "  0.4013673961162567,\n",
              "  0.4030965268611908,\n",
              "  0.3955129086971283,\n",
              "  0.39670050144195557,\n",
              "  0.3888770043849945,\n",
              "  0.4063206911087036,\n",
              "  0.3956599533557892,\n",
              "  0.4059446454048157,\n",
              "  0.4000184237957001,\n",
              "  0.39889395236968994,\n",
              "  0.396114319562912,\n",
              "  0.402133971452713,\n",
              "  0.3883901834487915,\n",
              "  0.40120697021484375,\n",
              "  0.3986181318759918,\n",
              "  0.39637258648872375,\n",
              "  0.40139859914779663,\n",
              "  0.4074403941631317,\n",
              "  0.40188151597976685,\n",
              "  0.3920884132385254,\n",
              "  0.39835742115974426,\n",
              "  0.3984130024909973,\n",
              "  0.3975677788257599,\n",
              "  0.3913232982158661,\n",
              "  0.3952849507331848,\n",
              "  0.39890584349632263,\n",
              "  0.4002172648906708,\n",
              "  0.4075271189212799,\n",
              "  0.3961329460144043,\n",
              "  0.39109718799591064,\n",
              "  0.397858202457428,\n",
              "  0.3896139860153198,\n",
              "  0.39164286851882935,\n",
              "  0.3961993157863617,\n",
              "  0.3942738473415375,\n",
              "  0.3941440284252167,\n",
              "  0.39121946692466736,\n",
              "  0.3914950489997864,\n",
              "  0.3883494436740875,\n",
              "  0.39024585485458374,\n",
              "  0.39465802907943726,\n",
              "  0.3988933265209198,\n",
              "  0.39553308486938477,\n",
              "  0.391145259141922,\n",
              "  0.3875565528869629,\n",
              "  0.3825806975364685,\n",
              "  0.3967953622341156,\n",
              "  0.39327532052993774,\n",
              "  0.39619117975234985,\n",
              "  0.3865739405155182,\n",
              "  0.3928300440311432,\n",
              "  0.38813918828964233,\n",
              "  0.3934316039085388,\n",
              "  0.3852936029434204,\n",
              "  0.3924580216407776,\n",
              "  0.39590466022491455,\n",
              "  0.3813484311103821,\n",
              "  0.39404377341270447,\n",
              "  0.38791391253471375,\n",
              "  0.3885772228240967,\n",
              "  0.3966826796531677,\n",
              "  0.3883621096611023,\n",
              "  0.39099442958831787,\n",
              "  0.3862476944923401,\n",
              "  0.3791413903236389,\n",
              "  0.37917014956474304,\n",
              "  0.3855069875717163,\n",
              "  0.39324304461479187,\n",
              "  0.39265745878219604,\n",
              "  0.3906647562980652,\n",
              "  0.38622429966926575,\n",
              "  0.39143088459968567,\n",
              "  0.388401061296463,\n",
              "  0.38428089022636414,\n",
              "  0.38615483045578003,\n",
              "  0.3868439495563507,\n",
              "  0.3894822597503662,\n",
              "  0.3817577660083771,\n",
              "  0.37803125381469727,\n",
              "  0.3825124502182007,\n",
              "  0.38136768341064453,\n",
              "  0.3848080635070801,\n",
              "  0.3879036605358124,\n",
              "  0.39021074771881104,\n",
              "  0.38555681705474854,\n",
              "  0.38742345571517944,\n",
              "  0.37677961587905884,\n",
              "  0.38031747937202454,\n",
              "  0.38828176259994507,\n",
              "  0.38553497195243835,\n",
              "  0.3823631703853607,\n",
              "  0.3835659325122833,\n",
              "  0.3818531930446625,\n",
              "  0.3848119378089905,\n",
              "  0.3824104070663452,\n",
              "  0.38650158047676086,\n",
              "  0.3828669488430023,\n",
              "  0.3786682188510895,\n",
              "  0.3785105347633362,\n",
              "  0.38384297490119934,\n",
              "  0.38502952456474304,\n",
              "  0.3943469822406769,\n",
              "  0.38422128558158875,\n",
              "  0.3827572762966156,\n",
              "  0.3814016878604889,\n",
              "  0.38070327043533325,\n",
              "  0.37033966183662415,\n",
              "  0.3794479966163635,\n",
              "  0.3720982074737549,\n",
              "  0.3775743842124939,\n",
              "  0.38501787185668945,\n",
              "  0.3727136254310608,\n",
              "  0.3873051106929779,\n",
              "  0.3794127106666565,\n",
              "  0.38268163800239563,\n",
              "  0.37513118982315063,\n",
              "  0.36930662393569946,\n",
              "  0.37660157680511475,\n",
              "  0.3766711950302124,\n",
              "  0.38010749220848083,\n",
              "  0.3770964741706848,\n",
              "  0.38303905725479126,\n",
              "  0.3833107650279999,\n",
              "  0.37547317147254944,\n",
              "  0.37749725580215454,\n",
              "  0.3823058009147644,\n",
              "  0.37763312458992004,\n",
              "  0.37980368733406067,\n",
              "  0.3800554871559143,\n",
              "  0.3768742084503174,\n",
              "  0.37296780943870544,\n",
              "  0.3643163740634918,\n",
              "  0.3724019229412079,\n",
              "  0.3826344311237335,\n",
              "  0.3667239248752594,\n",
              "  0.37555408477783203,\n",
              "  0.37302809953689575,\n",
              "  0.37088528275489807,\n",
              "  0.37404584884643555,\n",
              "  0.3707963824272156,\n",
              "  0.37084153294563293,\n",
              "  0.36770865321159363,\n",
              "  0.3695641756057739,\n",
              "  0.3725009262561798,\n",
              "  0.3706512153148651,\n",
              "  0.3669770061969757,\n",
              "  0.3675563931465149,\n",
              "  0.37793347239494324,\n",
              "  0.3810434937477112,\n",
              "  0.36558055877685547,\n",
              "  0.3806678354740143,\n",
              "  0.37947502732276917,\n",
              "  0.36680248379707336,\n",
              "  0.370848149061203,\n",
              "  0.3684786260128021,\n",
              "  0.37031111121177673,\n",
              "  0.3668782413005829,\n",
              "  0.3669624924659729,\n",
              "  0.3666130006313324,\n",
              "  0.3696342408657074,\n",
              "  0.37230202555656433,\n",
              "  0.36748045682907104,\n",
              "  0.36840716004371643,\n",
              "  0.37482506036758423,\n",
              "  0.3769870698451996,\n",
              "  0.3739975094795227,\n",
              "  0.3596726059913635,\n",
              "  0.37351393699645996,\n",
              "  0.3814373314380646,\n",
              "  0.37410032749176025,\n",
              "  0.3736647069454193,\n",
              "  0.3734188973903656,\n",
              "  0.3664730191230774,\n",
              "  0.36854472756385803,\n",
              "  0.37188467383384705,\n",
              "  0.3752482235431671,\n",
              "  0.3725575804710388,\n",
              "  0.3732357919216156],\n",
              " 'accuracy': [0.6754902005195618,\n",
              "  0.6831932663917542,\n",
              "  0.6710084080696106,\n",
              "  0.680672287940979,\n",
              "  0.6785714030265808,\n",
              "  0.6827731132507324,\n",
              "  0.6771708726882935,\n",
              "  0.6785714030265808,\n",
              "  0.6822128891944885,\n",
              "  0.6757702827453613,\n",
              "  0.683753490447998,\n",
              "  0.6871148347854614,\n",
              "  0.686274528503418,\n",
              "  0.683053195476532,\n",
              "  0.6831932663917542,\n",
              "  0.6801120638847351,\n",
              "  0.6864145398139954,\n",
              "  0.6831932663917542,\n",
              "  0.6838935613632202,\n",
              "  0.6859943866729736,\n",
              "  0.6885154247283936,\n",
              "  0.6847338676452637,\n",
              "  0.6875349879264832,\n",
              "  0.685014009475708,\n",
              "  0.6864145398139954,\n",
              "  0.6872549057006836,\n",
              "  0.6907563209533691,\n",
              "  0.6868347525596619,\n",
              "  0.6868347525596619,\n",
              "  0.6852940917015076,\n",
              "  0.685014009475708,\n",
              "  0.6879552006721497,\n",
              "  0.6851540803909302,\n",
              "  0.6945378184318542,\n",
              "  0.6882352828979492,\n",
              "  0.6865546107292175,\n",
              "  0.6903361082077026,\n",
              "  0.6876750588417053,\n",
              "  0.6904761791229248,\n",
              "  0.6946778893470764,\n",
              "  0.688655436038971,\n",
              "  0.6983193159103394,\n",
              "  0.6967787146568298,\n",
              "  0.6897758841514587,\n",
              "  0.6980392336845398,\n",
              "  0.6908963322639465,\n",
              "  0.6921568512916565,\n",
              "  0.6918767690658569,\n",
              "  0.6868347525596619,\n",
              "  0.6952381134033203,\n",
              "  0.6955181956291199,\n",
              "  0.6924369931221008,\n",
              "  0.6935574412345886,\n",
              "  0.6942576766014099,\n",
              "  0.6939775943756104,\n",
              "  0.6929972171783447,\n",
              "  0.7014005780220032,\n",
              "  0.696918785572052,\n",
              "  0.6976190209388733,\n",
              "  0.6929972171783447,\n",
              "  0.6973389387130737,\n",
              "  0.7014005780220032,\n",
              "  0.6963585615158081,\n",
              "  0.6948179006576538,\n",
              "  0.6911764740943909,\n",
              "  0.6959383487701416,\n",
              "  0.6977590918540955,\n",
              "  0.7019608020782471,\n",
              "  0.6991596817970276,\n",
              "  0.7029411792755127,\n",
              "  0.6978991627693176,\n",
              "  0.7035014033317566,\n",
              "  0.7044817805290222,\n",
              "  0.7015405893325806,\n",
              "  0.7015405893325806,\n",
              "  0.7002801299095154,\n",
              "  0.7019608020782471,\n",
              "  0.7064425945281982,\n",
              "  0.7011204361915588,\n",
              "  0.7044817805290222,\n",
              "  0.7100840210914612,\n",
              "  0.7070028185844421,\n",
              "  0.7030812501907349,\n",
              "  0.7036414742469788,\n",
              "  0.7039215564727783,\n",
              "  0.7044817805290222,\n",
              "  0.6994397640228271,\n",
              "  0.70686274766922,\n",
              "  0.7072829008102417,\n",
              "  0.7067226767539978,\n",
              "  0.701260507106781,\n",
              "  0.7036414742469788,\n",
              "  0.70686274766922,\n",
              "  0.7051820755004883,\n",
              "  0.7092437148094177,\n",
              "  0.7116246223449707,\n",
              "  0.7092437148094177,\n",
              "  0.711904764175415,\n",
              "  0.713165283203125,\n",
              "  0.7135854363441467,\n",
              "  0.7105041742324829,\n",
              "  0.7144257426261902,\n",
              "  0.7113445401191711,\n",
              "  0.713165283203125,\n",
              "  0.7145658135414124,\n",
              "  0.711204469203949,\n",
              "  0.7091036438941956,\n",
              "  0.7149859666824341,\n",
              "  0.7105041742324829,\n",
              "  0.7114846110343933,\n",
              "  0.7137255072593689,\n",
              "  0.7141456604003906,\n",
              "  0.7135854363441467,\n",
              "  0.7124649882316589,\n",
              "  0.7127450704574585,\n",
              "  0.7207282781600952,\n",
              "  0.7135854363441467,\n",
              "  0.7203081250190735,\n",
              "  0.7207282781600952,\n",
              "  0.7124649882316589,\n",
              "  0.7208683490753174,\n",
              "  0.7194677591323853,\n",
              "  0.7166666388511658,\n",
              "  0.7198879718780518,\n",
              "  0.7168067097663879,\n",
              "  0.718767523765564,\n",
              "  0.723809540271759,\n",
              "  0.7180672287940979,\n",
              "  0.7207282781600952,\n",
              "  0.7193277478218079,\n",
              "  0.7203081250190735,\n",
              "  0.7207282781600952,\n",
              "  0.7200279831886292,\n",
              "  0.7270308136940002,\n",
              "  0.7260504364967346,\n",
              "  0.7198879718780518,\n",
              "  0.720588207244873,\n",
              "  0.7221288681030273,\n",
              "  0.7289915680885315,\n",
              "  0.7268907427787781,\n",
              "  0.7310924530029297,\n",
              "  0.7252100706100464,\n",
              "  0.7254902124404907,\n",
              "  0.7256302237510681,\n",
              "  0.7302520871162415,\n",
              "  0.7249299883842468,\n",
              "  0.7197479009628296,\n",
              "  0.7268907427787781,\n",
              "  0.7288515567779541,\n",
              "  0.7295517921447754,\n",
              "  0.7309523820877075,\n",
              "  0.7302520871162415,\n",
              "  0.7341736555099487,\n",
              "  0.7271708846092224,\n",
              "  0.7357142567634583,\n",
              "  0.7348739504814148,\n",
              "  0.7240896224975586,\n",
              "  0.7329131364822388,\n",
              "  0.7344537973403931,\n",
              "  0.7358543276786804,\n",
              "  0.7312324643135071,\n",
              "  0.7322129011154175,\n",
              "  0.7348739504814148,\n",
              "  0.7351540327072144,\n",
              "  0.7333333492279053,\n",
              "  0.7358543276786804,\n",
              "  0.7365546226501465,\n",
              "  0.7390756011009216,\n",
              "  0.7431372404098511,\n",
              "  0.7343137264251709,\n",
              "  0.736834704875946,\n",
              "  0.7431372404098511,\n",
              "  0.7421568632125854,\n",
              "  0.7383753657341003,\n",
              "  0.7411764860153198,\n",
              "  0.7333333492279053,\n",
              "  0.7392156720161438,\n",
              "  0.7408963441848755,\n",
              "  0.7375349998474121,\n",
              "  0.7389355897903442,\n",
              "  0.7394958138465881,\n",
              "  0.7435573935508728,\n",
              "  0.7417367100715637,\n",
              "  0.7410364151000977,\n",
              "  0.7453781366348267,\n",
              "  0.7467787265777588,\n",
              "  0.7470588088035583,\n",
              "  0.7492997050285339,\n",
              "  0.7467787265777588,\n",
              "  0.7387955188751221,\n",
              "  0.743697464466095,\n",
              "  0.748039186000824,\n",
              "  0.7471988797187805,\n",
              "  0.7511204481124878,\n",
              "  0.7488795518875122,\n",
              "  0.7464985847473145,\n",
              "  0.7455182075500488,\n",
              "  0.7474789619445801,\n",
              "  0.75126051902771,\n",
              "  0.7526610493659973,\n",
              "  0.7574229836463928,\n",
              "  0.7535014152526855,\n",
              "  0.7478991746902466,\n",
              "  0.7505602240562439,\n",
              "  0.7561624646186829,\n",
              "  0.7464985847473145,\n",
              "  0.748039186000824,\n",
              "  0.7505602240562439,\n",
              "  0.7491596341133118,\n",
              "  0.7540616393089294,\n",
              "  0.7526610493659973,\n",
              "  0.7523809671401978,\n",
              "  0.7539215683937073,\n",
              "  0.7525210380554199,\n",
              "  0.7586835026741028,\n",
              "  0.7551820874214172,\n",
              "  0.7578431367874146,\n",
              "  0.7508403658866882,\n",
              "  0.756302535533905,\n",
              "  0.755602240562439,\n",
              "  0.7613445520401001,\n",
              "  0.756302535533905,\n",
              "  0.7553221583366394,\n",
              "  0.7630252242088318,\n",
              "  0.7553221583366394,\n",
              "  0.7560223937034607,\n",
              "  0.7593837380409241,\n",
              "  0.7605041861534119,\n",
              "  0.7633053064346313,\n",
              "  0.7586835026741028,\n",
              "  0.7669467926025391,\n",
              "  0.7602241039276123,\n",
              "  0.7586835026741028,\n",
              "  0.7614846229553223,\n",
              "  0.7626050710678101,\n",
              "  0.7609243988990784,\n",
              "  0.7623249292373657,\n",
              "  0.760644257068634,\n",
              "  0.7642857432365417,\n",
              "  0.7663865685462952,\n",
              "  0.7589635848999023,\n",
              "  0.770588219165802,\n",
              "  0.7701680660247803,\n",
              "  0.7640056014060974,\n",
              "  0.7684873938560486,\n",
              "  0.7645658254623413,\n",
              "  0.7668067216873169,\n",
              "  0.7701680660247803,\n",
              "  0.7659664154052734,\n",
              "  0.7726891040802002,\n",
              "  0.7663865685462952,\n",
              "  0.7669467926025391,\n",
              "  0.7669467926025391,\n",
              "  0.7722688913345337,\n",
              "  0.7687675356864929,\n",
              "  0.7760504484176636,\n",
              "  0.7690476179122925,\n",
              "  0.7753501534461975,\n",
              "  0.7676470875740051,\n",
              "  0.7722688913345337,\n",
              "  0.776890754699707,\n",
              "  0.7690476179122925,\n",
              "  0.771848738193512,\n",
              "  0.7719888091087341,\n",
              "  0.7764706015586853,\n",
              "  0.7711484432220459,\n",
              "  0.7746498584747314,\n",
              "  0.7715686559677124,\n",
              "  0.7789915800094604,\n",
              "  0.7754902243614197,\n",
              "  0.7750700116157532,\n",
              "  0.7787114977836609,\n",
              "  0.7791316509246826,\n",
              "  0.7749300003051758,\n",
              "  0.7789915800094604,\n",
              "  0.7816526889801025,\n",
              "  0.7777311205863953,\n",
              "  0.7796918749809265,\n",
              "  0.7810924649238586,\n",
              "  0.7774509787559509,\n",
              "  0.7802520990371704,\n",
              "  0.7785714268684387,\n",
              "  0.7785714268684387,\n",
              "  0.7799720168113708,\n",
              "  0.7852941155433655,\n",
              "  0.784453809261322,\n",
              "  0.7817927002906799,\n",
              "  0.7770308256149292,\n",
              "  0.7799720168113708,\n",
              "  0.7792717218399048,\n",
              "  0.7808123230934143,\n",
              "  0.7857142686843872,\n",
              "  0.7806722521781921,\n",
              "  0.7840335965156555,\n",
              "  0.7873949408531189,\n",
              "  0.7808123230934143,\n",
              "  0.7857142686843872,\n",
              "  0.7886554598808289,\n",
              "  0.7869747877120972,\n",
              "  0.7921568751335144,\n",
              "  0.7872549295425415,\n",
              "  0.788095235824585,\n",
              "  0.7850140333175659,\n",
              "  0.7908963561058044,\n",
              "  0.7907562851905823,\n",
              "  0.7817927002906799,\n",
              "  0.7894958257675171,\n",
              "  0.7876750826835632,\n",
              "  0.7922969460487366,\n",
              "  0.7946778535842896,\n",
              "  0.79313725233078,\n",
              "  0.7906162738800049,\n",
              "  0.7894958257675171,\n",
              "  0.7907562851905823,\n",
              "  0.7918767333030701,\n",
              "  0.7934173941612244,\n",
              "  0.7932773232460022,\n",
              "  0.7920168042182922,\n",
              "  0.7938375473022461,\n",
              "  0.7938375473022461,\n",
              "  0.7963585257530212,\n",
              "  0.7894958257675171,\n",
              "  0.7960784435272217,\n",
              "  0.790056049823761,\n",
              "  0.7970588207244873,\n",
              "  0.7955182194709778,\n",
              "  0.7941176295280457,\n",
              "  0.7971988916397095,\n",
              "  0.7906162738800049,\n",
              "  0.786834716796875,\n",
              "  0.7927170991897583,\n",
              "  0.7938375473022461,\n",
              "  0.7964985966682434,\n",
              "  0.7959383726119995,\n",
              "  0.8019607663154602,\n",
              "  0.7960784435272217,\n",
              "  0.7949579954147339,\n",
              "  0.7983193397521973,\n",
              "  0.7991596460342407,\n",
              "  0.797478973865509,\n",
              "  0.797478973865509,\n",
              "  0.79439777135849,\n",
              "  0.7949579954147339,\n",
              "  0.8012605309486389,\n",
              "  0.8016806840896606,\n",
              "  0.8028011322021484,\n",
              "  0.8011204600334167,\n",
              "  0.8042016625404358,\n",
              "  0.8033613562583923,\n",
              "  0.805042028427124,\n",
              "  0.8026610612869263,\n",
              "  0.7988795638084412,\n",
              "  0.7978991866111755,\n",
              "  0.8053221106529236,\n",
              "  0.8040616512298584,\n",
              "  0.8026610612869263,\n",
              "  0.8071428537368774,\n",
              "  0.8044818043708801,\n",
              "  0.8035014271736145,\n",
              "  0.8053221106529236,\n",
              "  0.8060224056243896,\n",
              "  0.8016806840896606,\n",
              "  0.8039215803146362,\n",
              "  0.8060224056243896,\n",
              "  0.8029412031173706,\n",
              "  0.8039215803146362,\n",
              "  0.8029412031173706,\n",
              "  0.8074229955673218,\n",
              "  0.8049019575119019,\n",
              "  0.8095238208770752,\n",
              "  0.8071428537368774,\n",
              "  0.8088235259056091,\n",
              "  0.8085434436798096,\n",
              "  0.8035014271736145,\n",
              "  0.8100840449333191,\n",
              "  0.8089635968208313,\n",
              "  0.8096638917922974,\n",
              "  0.8075630068778992,\n",
              "  0.8056022524833679,\n",
              "  0.8054621815681458,\n",
              "  0.8088235259056091,\n",
              "  0.8098039031028748,\n",
              "  0.8058823347091675,\n",
              "  0.8091036677360535,\n",
              "  0.8107843399047852,\n",
              "  0.8100840449333191,\n",
              "  0.8105041980743408,\n",
              "  0.8088235259056091,\n",
              "  0.8065826296806335,\n",
              "  0.8177871108055115,\n",
              "  0.8091036677360535,\n",
              "  0.8124650120735168,\n",
              "  0.8134453892707825,\n",
              "  0.810644268989563,\n",
              "  0.8173669576644897,\n",
              "  0.809383749961853,\n",
              "  0.8114845752716064,\n",
              "  0.8152661323547363,\n",
              "  0.8159663677215576,\n",
              "  0.8210083842277527,\n",
              "  0.8165265917778015,\n",
              "  0.8159663677215576,\n",
              "  0.8210083842277527,\n",
              "  0.8144257664680481,\n",
              "  0.8120447993278503,\n",
              "  0.8187674880027771,\n",
              "  0.8116246461868286,\n",
              "  0.8158263564109802,\n",
              "  0.8151260614395142,\n",
              "  0.8182072639465332,\n",
              "  0.8204481601715088,\n",
              "  0.8201680779457092,\n",
              "  0.816246509552002,\n",
              "  0.811904788017273,\n",
              "  0.8145658373832703,\n",
              "  0.816946804523468,\n",
              "  0.8207283020019531,\n",
              "  0.8235294222831726,\n",
              "  0.8156862854957581,\n",
              "  0.8182072639465332,\n",
              "  0.8196078538894653,\n",
              "  0.8170868158340454,\n",
              "  0.819327712059021,\n",
              "  0.8140056133270264,\n",
              "  0.8172268867492676,\n",
              "  0.8142856955528259,\n",
              "  0.8170868158340454,\n",
              "  0.8232492804527283,\n",
              "  0.8173669576644897,\n",
              "  0.8175070285797119,\n",
              "  0.8179271817207336,\n",
              "  0.8228291273117065,\n",
              "  0.8194677829742432,\n",
              "  0.8224089741706848,\n",
              "  0.8187674880027771,\n",
              "  0.8135854601860046,\n",
              "  0.8240896463394165,\n",
              "  0.8224089741706848,\n",
              "  0.8197479248046875,\n",
              "  0.8194677829742432,\n",
              "  0.828151285648346,\n",
              "  0.822549045085907,\n",
              "  0.8211484551429749,\n",
              "  0.8231092691421509,\n",
              "  0.8245097994804382,\n",
              "  0.8246498703956604,\n",
              "  0.8219888210296631,\n",
              "  0.8259103894233704,\n",
              "  0.8289915919303894,\n",
              "  0.8204481601715088,\n",
              "  0.82492995262146,\n",
              "  0.8254901766777039,\n",
              "  0.826890766620636,\n",
              "  0.8252100944519043,\n",
              "  0.8224089741706848,\n",
              "  0.8231092691421509,\n",
              "  0.8226890563964844,\n",
              "  0.8240896463394165,\n",
              "  0.8239495754241943,\n",
              "  0.8285714387893677,\n",
              "  0.8245097994804382,\n",
              "  0.8296918869018555,\n",
              "  0.8308123350143433,\n",
              "  0.8285714387893677,\n",
              "  0.8274509906768799,\n",
              "  0.8270308375358582,\n",
              "  0.8250700235366821,\n",
              "  0.8292717337608337,\n",
              "  0.8364145755767822,\n",
              "  0.8291316628456116,\n",
              "  0.8317927122116089,\n",
              "  0.8259103894233704,\n",
              "  0.82492995262146,\n",
              "  0.8222689032554626,\n",
              "  0.8261904716491699,\n",
              "  0.8302521109580994,\n",
              "  0.8292717337608337,\n",
              "  0.826890766620636,\n",
              "  0.8266106247901917,\n",
              "  0.8243697285652161,\n",
              "  0.8280112147331238,\n",
              "  0.831932783126831,\n",
              "  0.8291316628456116,\n",
              "  0.8313725590705872,\n",
              "  0.831932783126831,\n",
              "  0.8336134552955627,\n",
              "  0.8329131603240967,\n",
              "  0.831232488155365,\n",
              "  0.8330532312393188,\n",
              "  0.8306722640991211,\n",
              "  0.8254901766777039,\n",
              "  0.8376750946044922,\n",
              "  0.8347339034080505,\n",
              "  0.8303921818733215,\n",
              "  0.8330532312393188,\n",
              "  0.8313725590705872,\n",
              "  0.835574209690094,\n",
              "  0.832493007183075,\n",
              "  0.8317927122116089,\n",
              "  0.83879554271698,\n",
              "  0.8336134552955627,\n",
              "  0.8329131603240967,\n",
              "  0.8329131603240967,\n",
              "  0.8315126299858093,\n",
              "  0.8343137502670288,\n",
              "  0.8348739743232727,\n",
              "  0.8389355540275574,\n",
              "  0.8287115097045898,\n",
              "  0.833193302154541,\n",
              "  0.8327730894088745,\n",
              "  0.8337535262107849,\n",
              "  0.8372548818588257,\n",
              "  0.8380952477455139,\n",
              "  0.8358543515205383,\n",
              "  0.8359944224357605,\n",
              "  0.8347339034080505,\n",
              "  0.8361344337463379,\n",
              "  0.8348739743232727,\n",
              "  0.8345938324928284,\n",
              "  0.8340336084365845,\n",
              "  0.8376750946044922,\n",
              "  0.8341736793518066,\n",
              "  0.8362745046615601,\n",
              "  0.8330532312393188,\n",
              "  0.8305321931838989,\n",
              "  0.8379551768302917,\n",
              "  0.8322128653526306,\n",
              "  0.8400560021400452,\n",
              "  0.8308123350143433,\n",
              "  0.8406162261962891,\n",
              "  0.8372548818588257,\n",
              "  0.8422968983650208,\n",
              "  0.8359944224357605,\n",
              "  0.8428571224212646,\n",
              "  0.8379551768302917,\n",
              "  0.8380952477455139,\n",
              "  0.8413165211677551,\n",
              "  0.8397759199142456,\n",
              "  0.8357142806053162,\n",
              "  0.8434173464775085,\n",
              "  0.8401960730552673,\n",
              "  0.8379551768302917,\n",
              "  0.8456582427024841,\n",
              "  0.841176450252533,\n",
              "  0.8427171111106873,\n",
              "  0.8378151059150696,\n",
              "  0.8383753299713135,\n",
              "  0.8376750946044922,\n",
              "  0.8427171111106873,\n",
              "  0.8404762148857117,\n",
              "  0.8421568870544434,\n",
              "  0.8373949527740479,\n",
              "  0.8394957780838013,\n",
              "  0.8425770401954651,\n",
              "  0.8424369692802429,\n",
              "  0.8399159908294678,\n",
              "  0.8399159908294678,\n",
              "  0.8414565920829773,\n",
              "  0.8400560021400452,\n",
              "  0.8434173464775085,\n",
              "  0.8413165211677551,\n",
              "  0.8429971933364868,\n",
              "  0.8400560021400452,\n",
              "  0.8460784554481506,\n",
              "  0.836834728717804,\n",
              "  0.8470588326454163,\n",
              "  0.8422968983650208,\n",
              "  0.841876745223999,\n",
              "  0.8401960730552673,\n",
              "  0.8480392098426819,\n",
              "  0.8410364389419556,\n",
              "  0.8408963680267334,\n",
              "  0.8448179364204407,\n",
              "  0.8469187617301941,\n",
              "  0.8432773351669312,\n",
              "  0.8464986085891724,\n",
              "  0.8456582427024841,\n",
              "  0.849439799785614,\n",
              "  0.8415966629981995,\n",
              "  0.8427171111106873,\n",
              "  0.8480392098426819,\n",
              "  0.8442577123641968,\n",
              "  0.841876745223999,\n",
              "  0.848739504814148,\n",
              "  0.8420168161392212,\n",
              "  0.8478991389274597,\n",
              "  0.8456582427024841,\n",
              "  0.8483193516731262,\n",
              "  0.8439775705337524,\n",
              "  0.8460784554481506,\n",
              "  0.8441176414489746,\n",
              "  0.8467786908149719,\n",
              "  0.8467786908149719,\n",
              "  0.848739504814148,\n",
              "  0.8471989035606384,\n",
              "  0.8488795757293701,\n",
              "  0.8476190567016602,\n",
              "  0.848739504814148,\n",
              "  0.847478985786438,\n",
              "  0.843137264251709,\n",
              "  0.8469187617301941,\n",
              "  0.8478991389274597,\n",
              "  0.846218466758728,\n",
              "  0.8480392098426819,\n",
              "  0.8502801060676575,\n",
              "  0.8452380895614624,\n",
              "  0.8464986085891724,\n",
              "  0.8455182313919067,\n",
              "  0.8483193516731262,\n",
              "  0.848739504814148,\n",
              "  0.849439799785614,\n",
              "  0.8485994338989258,\n",
              "  0.8529411554336548,\n",
              "  0.8483193516731262,\n",
              "  0.8560224175453186,\n",
              "  0.8442577123641968,\n",
              "  0.8522409200668335,\n",
              "  0.8500000238418579,\n",
              "  0.8491596579551697,\n",
              "  0.8533613681793213,\n",
              "  0.8540616035461426,\n",
              "  0.8484593629837036,\n",
              "  0.8436974883079529,\n",
              "  0.8502801060676575,\n",
              "  0.8477591276168823,\n",
              "  0.8480392098426819,\n",
              "  0.8491596579551697,\n",
              "  0.8500000238418579,\n",
              "  0.8483193516731262,\n",
              "  0.8512604832649231,\n",
              "  0.8501400351524353,\n",
              "  0.8478991389274597,\n",
              "  0.8500000238418579,\n",
              "  0.8515406250953674,\n",
              "  0.8521008491516113,\n",
              "  0.848739504814148,\n",
              "  0.8492997288703918,\n",
              "  0.8549019694328308,\n",
              "  0.8511204719543457,\n",
              "  0.849439799785614,\n",
              "  0.8485994338989258,\n",
              "  0.8497198820114136,\n",
              "  0.8554621934890747,\n",
              "  0.8519607782363892,\n",
              "  0.8553221225738525,\n",
              "  0.8529411554336548,\n",
              "  0.8500000238418579,\n",
              "  0.849439799785614,\n",
              "  0.8464986085891724,\n",
              "  0.8532212972640991,\n",
              "  0.8532212972640991,\n",
              "  0.8512604832649231,\n",
              "  0.8512604832649231,\n",
              "  0.8540616035461426,\n",
              "  0.8485994338989258,\n",
              "  0.8556022644042969,\n",
              "  0.8522409200668335,\n",
              "  0.8543417453765869,\n",
              "  0.8542016744613647,\n",
              "  0.8547618985176086,\n",
              "  0.8564425706863403,\n",
              "  0.8505602478981018,\n",
              "  0.8578431606292725,\n",
              "  0.8549019694328308,\n",
              "  0.8560224175453186,\n",
              "  0.8497198820114136,\n",
              "  0.8485994338989258,\n",
              "  0.8577030897140503,\n",
              "  0.8551820516586304,\n",
              "  0.8564425706863403,\n",
              "  0.8551820516586304,\n",
              "  0.8514005541801453,\n",
              "  0.8509804010391235,\n",
              "  0.851820707321167,\n",
              "  0.8584033846855164,\n",
              "  0.853081226348877,\n",
              "  0.8535013794898987,\n",
              "  0.8505602478981018,\n",
              "  0.8567227125167847,\n",
              "  0.8564425706863403,\n",
              "  0.8577030897140503,\n",
              "  0.858123242855072,\n",
              "  0.8516806960105896,\n",
              "  0.8570027947425842,\n",
              "  0.8521008491516113,\n",
              "  0.8568627238273621,\n",
              "  0.8570027947425842,\n",
              "  0.860084056854248,\n",
              "  0.8585433959960938,\n",
              "  0.858123242855072,\n",
              "  0.8572829365730286,\n",
              "  0.8591036200523376,\n",
              "  0.8528011441230774,\n",
              "  0.8565826416015625,\n",
              "  0.8543417453765869,\n",
              "  0.8638655543327332,\n",
              "  0.8557422757148743,\n",
              "  0.8582633137702942,\n",
              "  0.8543417453765869,\n",
              "  0.8598039150238037,\n",
              "  0.8619047403335571,\n",
              "  0.853781521320343,\n",
              "  0.8592436909675598,\n",
              "  0.8571428656578064,\n",
              "  0.8551820516586304,\n",
              "  0.8578431606292725,\n",
              "  0.8592436909675598,\n",
              "  0.8606442809104919,\n",
              "  0.8572829365730286,\n",
              "  0.8572829365730286,\n",
              "  0.8575630187988281,\n",
              "  0.8575630187988281,\n",
              "  0.8606442809104919,\n",
              "  0.8563024997711182,\n",
              "  0.8515406250953674,\n",
              "  0.8582633137702942,\n",
              "  0.863725483417511,\n",
              "  0.8602240681648254,\n",
              "  0.8602240681648254,\n",
              "  0.8579831719398499,\n",
              "  0.859383761882782,\n",
              "  0.8609243631362915,\n",
              "  0.8584033846855164,\n",
              "  0.8610644340515137,\n",
              "  0.8616246581077576,\n",
              "  0.8521008491516113,\n",
              "  0.8620448112487793,\n",
              "  0.8570027947425842,\n",
              "  0.8603641390800476,\n",
              "  0.8630251884460449,\n",
              "  0.8560224175453186,\n",
              "  0.8626050353050232,\n",
              "  0.8621848821640015,\n",
              "  0.8595238327980042,\n",
              "  0.862464964389801,\n",
              "  0.8628851771354675,\n",
              "  0.8616246581077576,\n",
              "  0.8613445162773132,\n",
              "  0.8623249530792236,\n",
              "  0.8595238327980042,\n",
              "  0.8607842922210693,\n",
              "  0.8634454011917114,\n",
              "  0.8560224175453186,\n",
              "  0.8605042099952698,\n",
              "  0.8617647290229797,\n",
              "  0.8609243631362915,\n",
              "  0.8577030897140503,\n",
              "  0.860084056854248,\n",
              "  0.8627451062202454,\n",
              "  0.8612045049667358,\n",
              "  0.8612045049667358,\n",
              "  0.8603641390800476,\n",
              "  0.8619047403335571,\n",
              "  0.8614845871925354,\n",
              "  0.8621848821640015,\n",
              "  0.863725483417511,\n",
              "  0.8634454011917114,\n",
              "  0.8621848821640015,\n",
              "  0.8616246581077576,\n",
              "  0.8603641390800476,\n",
              "  0.8619047403335571,\n",
              "  0.8607842922210693,\n",
              "  0.8591036200523376,\n",
              "  0.8609243631362915,\n",
              "  0.8595238327980042,\n",
              "  0.8606442809104919,\n",
              "  0.8663865327835083,\n",
              "  0.862464964389801,\n",
              "  0.8628851771354675,\n",
              "  0.864986002445221,\n",
              "  0.8582633137702942,\n",
              "  0.8619047403335571,\n",
              "  0.8605042099952698,\n",
              "  0.8621848821640015,\n",
              "  0.8676470518112183,\n",
              "  0.8613445162773132,\n",
              "  0.8614845871925354,\n",
              "  0.8589636087417603,\n",
              "  0.864425778388977,\n",
              "  0.8628851771354675,\n",
              "  0.8627451062202454,\n",
              "  0.8631652593612671,\n",
              "  0.8619047403335571,\n",
              "  0.8612045049667358,\n",
              "  0.8662465214729309,\n",
              "  0.8623249530792236,\n",
              "  0.859383761882782,\n",
              "  0.8613445162773132,\n",
              "  0.8631652593612671,\n",
              "  0.8607842922210693,\n",
              "  0.8619047403335571,\n",
              "  0.8623249530792236,\n",
              "  0.86806720495224,\n",
              "  0.8652660846710205,\n",
              "  0.8640056252479553,\n",
              "  0.8652660846710205,\n",
              "  0.8690476417541504,\n",
              "  0.8609243631362915,\n",
              "  0.8666666746139526,\n",
              "  0.8645658493041992,\n",
              "  0.8627451062202454,\n",
              "  0.8652660846710205,\n",
              "  0.8613445162773132,\n",
              "  0.8659663796424866,\n",
              "  0.8658263087272644,\n",
              "  0.8666666746139526,\n",
              "  0.8628851771354675,\n",
              "  0.8676470518112183,\n",
              "  0.8619047403335571,\n",
              "  0.8652660846710205,\n",
              "  0.8661064505577087,\n",
              "  0.8610644340515137,\n",
              "  0.8634454011917114,\n",
              "  0.8663865327835083,\n",
              "  0.8628851771354675,\n",
              "  0.8669467568397522,\n",
              "  0.8645658493041992,\n",
              "  0.8658263087272644,\n",
              "  0.8672268986701965,\n",
              "  0.868767499923706,\n",
              "  0.8728291392326355,\n",
              "  0.8648459315299988,\n",
              "  0.8707283139228821,\n",
              "  0.8663865327835083,\n",
              "  0.8669467568397522,\n",
              "  0.8669467568397522,\n",
              "  0.8652660846710205,\n",
              "  0.864425778388977,\n",
              "  0.8719887733459473,\n",
              "  0.865686297416687,\n",
              "  0.864986002445221,\n",
              "  0.8697478771209717,\n",
              "  0.8642857074737549,\n",
              "  0.8682072758674622,\n",
              "  0.8733893632888794,\n",
              "  0.8668067455291748,\n",
              "  0.8668067455291748,\n",
              "  0.8728291392326355,\n",
              "  0.8648459315299988,\n",
              "  0.8633053302764893,\n",
              "  0.8633053302764893,\n",
              "  0.8684874176979065,\n",
              "  0.8672268986701965,\n",
              "  0.8684874176979065,\n",
              "  0.8703081011772156,\n",
              "  0.8665266036987305,\n",
              "  0.8661064505577087,\n",
              "  0.8684874176979065,\n",
              "  0.8652660846710205,\n",
              "  0.865686297416687,\n",
              "  0.8666666746139526,\n",
              "  0.8728291392326355,\n",
              "  0.8677871227264404,\n",
              "  0.871288537979126,\n",
              "  0.868767499923706,\n",
              "  0.8689075708389282,\n",
              "  0.8645658493041992,\n",
              "  0.868767499923706,\n",
              "  0.8717086911201477,\n",
              "  0.8717086911201477,\n",
              "  0.8690476417541504,\n",
              "  0.8689075708389282,\n",
              "  0.8683473467826843,\n",
              "  0.8651260733604431,\n",
              "  0.8722689151763916,\n",
              "  0.8651260733604431,\n",
              "  0.8753501176834106,\n",
              "  0.86932772397995,\n",
              "  0.8661064505577087,\n",
              "  0.8696078658103943,\n",
              "  0.865686297416687,\n",
              "  0.8690476417541504,\n",
              "  0.8679271936416626,\n",
              "  0.8684874176979065,\n",
              "  0.8673669695854187,\n",
              "  0.8698879480361938,\n",
              "  0.8661064505577087,\n",
              "  0.8704481720924377,\n",
              "  0.8738095164299011,\n",
              "  0.8689075708389282,\n",
              "  0.8698879480361938,\n",
              "  0.8683473467826843,\n",
              "  0.8669467568397522,\n",
              "  0.8672268986701965,\n",
              "  0.8689075708389282,\n",
              "  0.8733893632888794,\n",
              "  0.8705882430076599,\n",
              "  0.8742296695709229,\n",
              "  0.8714285492897034,\n",
              "  0.8672268986701965,\n",
              "  0.8705882430076599,\n",
              "  0.8703081011772156,\n",
              "  0.8718487620353699,\n",
              "  0.8673669695854187,\n",
              "  0.8686274290084839,\n",
              "  0.86932772397995,\n",
              "  0.8658263087272644,\n",
              "  0.8704481720924377,\n",
              "  0.8703081011772156,\n",
              "  0.8722689151763916,\n",
              "  0.8746498823165894,\n",
              "  0.86932772397995,\n",
              "  0.8728291392326355,\n",
              "  0.8694677948951721,\n",
              "  0.8704481720924377,\n",
              "  0.8696078658103943,\n",
              "  0.8711484670639038,\n",
              "  0.8703081011772156,\n",
              "  0.8725489974021912,\n",
              "  0.8710083961486816,\n",
              "  0.8679271936416626,\n",
              "  0.8691876530647278,\n",
              "  0.8714285492897034,\n",
              "  0.871288537979126,\n",
              "  0.8690476417541504,\n",
              "  0.8738095164299011,\n",
              "  0.8711484670639038,\n",
              "  0.871288537979126,\n",
              "  0.8739495873451233,\n",
              "  0.8728291392326355,\n",
              "  0.8731092214584351,\n",
              "  0.873669445514679,\n",
              "  0.8696078658103943,\n",
              "  0.8683473467826843,\n",
              "  0.8750700354576111,\n",
              "  0.870028018951416,\n",
              "  0.8707283139228821,\n",
              "  0.8749299645423889,\n",
              "  0.8774510025978088,\n",
              "  0.8728291392326355,\n",
              "  0.8770307898521423,\n",
              "  0.8717086911201477,\n",
              "  0.8725489974021912,\n",
              "  0.8735294342041016,\n",
              "  0.8704481720924377,\n",
              "  0.8729692101478577,\n",
              "  0.8686274290084839,\n",
              "  0.8729692101478577,\n",
              "  0.8738095164299011,\n",
              "  0.8722689151763916,\n",
              "  0.8745098114013672,\n",
              "  0.8740896582603455,\n",
              "  0.8757703304290771,\n",
              "  0.8694677948951721,\n",
              "  0.8729692101478577,\n",
              "  0.8754901885986328,\n",
              "  0.8728291392326355,\n",
              "  0.8738095164299011,\n",
              "  0.8742296695709229,\n",
              "  0.8732492923736572,\n",
              "  0.8682072758674622,\n",
              "  0.8714285492897034,\n",
              "  0.8724089860916138,\n",
              "  0.8760504126548767,\n",
              "  0.8742296695709229,\n",
              "  0.8682072758674622,\n",
              "  0.874369740486145,\n",
              "  0.8731092214584351,\n",
              "  0.873669445514679,\n",
              "  0.8782913088798523,\n",
              "  0.8726890683174133,\n",
              "  0.8752101063728333,\n",
              "  0.875630259513855,\n",
              "  0.8749299645423889,\n",
              "  0.8740896582603455,\n",
              "  0.8729692101478577,\n",
              "  0.8731092214584351,\n",
              "  0.8766106367111206,\n",
              "  0.8759103417396545,\n",
              "  0.8728291392326355,\n",
              "  0.8698879480361938,\n",
              "  0.8764705657958984,\n",
              "  0.8717086911201477,\n",
              "  0.8749299645423889,\n",
              "  0.8770307898521423,\n",
              "  0.873669445514679,\n",
              "  0.874369740486145,\n",
              "  0.8733893632888794,\n",
              "  0.8777310848236084,\n",
              "  0.8753501176834106,\n",
              "  0.8761904835700989,\n",
              "  0.8778711557388306,\n",
              "  0.8733893632888794,\n",
              "  0.8770307898521423,\n",
              "  0.8750700354576111,\n",
              "  0.8718487620353699,\n",
              "  0.8774510025978088,\n",
              "  0.8759103417396545,\n",
              "  0.8789916038513184,\n",
              "  0.8739495873451233,\n",
              "  0.8701680898666382,\n",
              "  0.8752101063728333,\n",
              "  0.8718487620353699,\n",
              "  0.8742296695709229,\n",
              "  0.8750700354576111,\n",
              "  0.8752101063728333,\n",
              "  0.8754901885986328,\n",
              "  0.8724089860916138,\n",
              "  0.8711484670639038,\n",
              "  0.8754901885986328]}"
            ]
          },
          "metadata": {},
          "execution_count": 37
        }
      ]
    },
    {
      "cell_type": "code",
      "execution_count": null,
      "metadata": {
        "colab": {
          "base_uri": "https://localhost:8080/",
          "height": 973
        },
        "id": "U2QLbwF589Vi",
        "outputId": "6de84bb5-4135-4098-d464-f634aa8e2f95"
      },
      "outputs": [
        {
          "output_type": "display_data",
          "data": {
            "text/plain": [
              "<Figure size 1600x500 with 1 Axes>"
            ],
            "image/png": "[encoded data removed]"
          },
          "metadata": {}
        },
        {
          "output_type": "display_data",
          "data": {
            "text/plain": [
              "<Figure size 1600x500 with 1 Axes>"
            ],
            "image/png": "[encoded data removed]"
          },
          "metadata": {}
        }
      ],
      "source": [
        "# loss plot\n",
        "plt.figure(figsize=(16,5))\n",
        "plt.subplot(1,1,1)\n",
        "plt.suptitle('Optimizer: Adam', fontsize=10)\n",
        "plt.ylabel('Loss', fontsize=16)\n",
        "plt.plot(hist.history['loss'], color='b', label='Training Loss')\n",
        "plt.legend(loc='upper right')\n",
        "plt.savefig('/content/drive/MyDrive/Colab Notebooks/loss.png')\n",
        "\n",
        "# acc plot\n",
        "plt.figure(figsize=(16,5))\n",
        "plt.subplot(1,1,1)\n",
        "plt.suptitle('Optimizer: Adam', fontsize=10)\n",
        "plt.ylabel('Accuracy', fontsize=16)\n",
        "plt.plot(hist.history['accuracy'], color='b', label='Training Loss')\n",
        "plt.legend(loc='lower right')\n",
        "\n",
        "plt.savefig('/content/drive/MyDrive/Colab Notebooks/acc.png')\n",
        "plt.show()"
      ]
    },
    {
      "cell_type": "markdown",
      "metadata": {
        "id": "WNf_RoyhAXi_"
      },
      "source": [
        "## Sample Text\n",
        "Generate new names by feeding a seed input."
      ]
    },
    {
      "cell_type": "code",
      "execution_count": null,
      "metadata": {
        "id": "IuXgLuN4Aexw"
      },
      "outputs": [],
      "source": [
        "# samples text from language model\n",
        "def sample_text(seed_phrase='n', max_length=max_name_len):\n",
        "\n",
        "\n",
        "    # input x to numerical index\n",
        "    text_x = to_num_matrix(list(list(seed_phrase)), ch_to_idx)\n",
        "    # index of current character\n",
        "    ch = ch_to_idx[seed_phrase]\n",
        "\n",
        "    # list of predicted character indices\n",
        "    indices = []\n",
        "    # counter\n",
        "    i = 0\n",
        "\n",
        "    #start generating\n",
        "    while ch != 0 and i<max_length:\n",
        "        # predict using the input character\n",
        "        pred = model.predict(text_x)[0]\n",
        "\n",
        "        # get the char with highest prob.\n",
        "        ch = np.random.choice(np.arange(len(vocab_tokens)) , p = pred.ravel())\n",
        "\n",
        "        if ch!=0:\n",
        "            indices.append(ch)\n",
        "\n",
        "        # feed the current char as the next input\n",
        "        text_x = to_num_matrix(list(list(idx_to_ch[ch])), ch_to_idx)\n",
        "\n",
        "        i = i+ 1\n",
        "\n",
        "\n",
        "    return ''.join([idx_to_ch[idx] for idx in indices])"
      ]
    },
    {
      "cell_type": "code",
      "execution_count": null,
      "metadata": {
        "colab": {
          "base_uri": "https://localhost:8080/"
        },
        "id": "L24vXkEIP04D",
        "outputId": "4dca3c27-1422-49cd-c0d2-7ba30c183be6"
      },
      "outputs": [
        {
          "output_type": "stream",
          "name": "stdout",
          "text": [
            "1/1 [==============================] - 0s 375ms/step\n",
            "1/1 [==============================] - 0s 23ms/step\n",
            "1/1 [==============================] - 0s 22ms/step\n",
            "1/1 [==============================] - 0s 22ms/step\n",
            "1/1 [==============================] - 0s 22ms/step\n",
            "1/1 [==============================] - 0s 23ms/step\n",
            "acasis\n",
            "1/1 [==============================] - 0s 21ms/step\n",
            "1/1 [==============================] - 0s 20ms/step\n",
            "1/1 [==============================] - 0s 27ms/step\n",
            "1/1 [==============================] - 0s 22ms/step\n",
            "1/1 [==============================] - 0s 22ms/step\n",
            "1/1 [==============================] - 0s 29ms/step\n",
            "icefet\n",
            "1/1 [==============================] - 0s 23ms/step\n",
            "1/1 [==============================] - 0s 19ms/step\n",
            "1/1 [==============================] - 0s 20ms/step\n",
            "1/1 [==============================] - 0s 20ms/step\n",
            "1/1 [==============================] - 0s 19ms/step\n",
            "1/1 [==============================] - 0s 20ms/step\n",
            "iflebi\n",
            "1/1 [==============================] - 0s 19ms/step\n",
            "1/1 [==============================] - 0s 20ms/step\n",
            "1/1 [==============================] - 0s 21ms/step\n",
            "1/1 [==============================] - 0s 21ms/step\n",
            "1/1 [==============================] - 0s 21ms/step\n",
            "1/1 [==============================] - 0s 24ms/step\n",
            "iflexa\n",
            "1/1 [==============================] - 0s 21ms/step\n",
            "1/1 [==============================] - 0s 23ms/step\n",
            "1/1 [==============================] - 0s 23ms/step\n",
            "1/1 [==============================] - 0s 22ms/step\n",
            "1/1 [==============================] - 0s 23ms/step\n",
            "1/1 [==============================] - 0s 21ms/step\n",
            "orasys\n",
            "1/1 [==============================] - 0s 23ms/step\n",
            "1/1 [==============================] - 0s 21ms/step\n",
            "1/1 [==============================] - 0s 19ms/step\n",
            "1/1 [==============================] - 0s 19ms/step\n",
            "1/1 [==============================] - 0s 18ms/step\n",
            "1/1 [==============================] - 0s 20ms/step\n",
            "oprosa\n",
            "1/1 [==============================] - 0s 18ms/step\n",
            "1/1 [==============================] - 0s 20ms/step\n",
            "1/1 [==============================] - 0s 21ms/step\n",
            "1/1 [==============================] - 0s 23ms/step\n",
            "1/1 [==============================] - 0s 20ms/step\n",
            "1/1 [==============================] - 0s 20ms/step\n",
            "asatre\n",
            "1/1 [==============================] - 0s 19ms/step\n",
            "1/1 [==============================] - 0s 18ms/step\n",
            "1/1 [==============================] - 0s 19ms/step\n",
            "1/1 [==============================] - 0s 21ms/step\n",
            "1/1 [==============================] - 0s 20ms/step\n",
            "1/1 [==============================] - 0s 22ms/step\n",
            "aprana\n",
            "1/1 [==============================] - 0s 20ms/step\n",
            "1/1 [==============================] - 0s 22ms/step\n",
            "1/1 [==============================] - 0s 21ms/step\n",
            "1/1 [==============================] - 0s 21ms/step\n",
            "1/1 [==============================] - 0s 21ms/step\n",
            "1/1 [==============================] - 0s 23ms/step\n",
            "icolem\n",
            "1/1 [==============================] - 0s 20ms/step\n",
            "1/1 [==============================] - 0s 22ms/step\n",
            "1/1 [==============================] - 0s 20ms/step\n",
            "1/1 [==============================] - 0s 20ms/step\n",
            "1/1 [==============================] - 0s 20ms/step\n",
            "1/1 [==============================] - 0s 19ms/step\n",
            "edoxin\n",
            "1/1 [==============================] - 0s 19ms/step\n",
            "1/1 [==============================] - 0s 25ms/step\n",
            "1/1 [==============================] - 0s 20ms/step\n",
            "1/1 [==============================] - 0s 18ms/step\n",
            "1/1 [==============================] - 0s 21ms/step\n",
            "1/1 [==============================] - 0s 21ms/step\n",
            "alelbo\n",
            "1/1 [==============================] - 0s 22ms/step\n",
            "1/1 [==============================] - 0s 19ms/step\n",
            "1/1 [==============================] - 0s 21ms/step\n",
            "1/1 [==============================] - 0s 19ms/step\n",
            "1/1 [==============================] - 0s 19ms/step\n",
            "1/1 [==============================] - 0s 21ms/step\n",
            "asesat\n",
            "1/1 [==============================] - 0s 22ms/step\n",
            "1/1 [==============================] - 0s 21ms/step\n",
            "1/1 [==============================] - 0s 33ms/step\n",
            "1/1 [==============================] - 0s 20ms/step\n",
            "1/1 [==============================] - 0s 22ms/step\n",
            "1/1 [==============================] - 0s 21ms/step\n",
            "eferar\n",
            "1/1 [==============================] - 0s 21ms/step\n",
            "1/1 [==============================] - 0s 20ms/step\n",
            "1/1 [==============================] - 0s 22ms/step\n",
            "1/1 [==============================] - 0s 19ms/step\n",
            "1/1 [==============================] - 0s 18ms/step\n",
            "1/1 [==============================] - 0s 20ms/step\n",
            "iniana\n",
            "1/1 [==============================] - 0s 20ms/step\n",
            "1/1 [==============================] - 0s 20ms/step\n",
            "1/1 [==============================] - 0s 21ms/step\n",
            "1/1 [==============================] - 0s 19ms/step\n",
            "1/1 [==============================] - 0s 19ms/step\n",
            "1/1 [==============================] - 0s 22ms/step\n",
            "anapis\n",
            "1/1 [==============================] - 0s 21ms/step\n",
            "1/1 [==============================] - 0s 19ms/step\n",
            "1/1 [==============================] - 0s 22ms/step\n",
            "1/1 [==============================] - 0s 23ms/step\n",
            "1/1 [==============================] - 0s 22ms/step\n",
            "1/1 [==============================] - 0s 23ms/step\n",
            "arapru\n",
            "1/1 [==============================] - 0s 19ms/step\n",
            "1/1 [==============================] - 0s 19ms/step\n",
            "1/1 [==============================] - 0s 19ms/step\n",
            "1/1 [==============================] - 0s 19ms/step\n",
            "1/1 [==============================] - 0s 18ms/step\n",
            "1/1 [==============================] - 0s 20ms/step\n",
            "asalvo\n",
            "1/1 [==============================] - 0s 21ms/step\n",
            "1/1 [==============================] - 0s 19ms/step\n",
            "1/1 [==============================] - 0s 18ms/step\n",
            "1/1 [==============================] - 0s 18ms/step\n",
            "1/1 [==============================] - 0s 22ms/step\n",
            "1/1 [==============================] - 0s 20ms/step\n",
            "acigef\n"
          ]
        }
      ],
      "source": [
        "i = 0\n",
        "while i < 18:\n",
        "    name = sample_text(max_length=6)\n",
        "    if name != '':\n",
        "        print(name)\n",
        "        i += 1"
      ]
    },
    {
      "cell_type": "code",
      "source": [],
      "metadata": {
        "id": "Ua_m_ZLbAqiI"
      },
      "execution_count": null,
      "outputs": []
    }
  ],
  "metadata": {
    "accelerator": "GPU",
    "colab": {
      "provenance": []
    },
    "kernelspec": {
      "display_name": "Python 3",
      "language": "python",
      "name": "python3"
    },
    "language_info": {
      "codemirror_mode": {
        "name": "ipython",
        "version": 3
      },
      "file_extension": ".py",
      "mimetype": "text/x-python",
      "name": "python",
      "nbconvert_exporter": "python",
      "pygments_lexer": "ipython3",
      "version": "3.6.5"
    }
  },
  "nbformat": 4,
  "nbformat_minor": 0
}